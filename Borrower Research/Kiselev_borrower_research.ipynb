{
 "cells": [
  {
   "cell_type": "markdown",
   "id": "81f0df41",
   "metadata": {},
   "source": [
    "# Исследование надежности заемщиков.\n",
    "\n"
   ]
  },
  {
   "cell_type": "markdown",
   "id": "d03e3556",
   "metadata": {},
   "source": [
    "**Описание проекта** <a id='intro'></a>\n",
    "\n",
    "**Заказчик:** кредитный отдел банка. \n",
    "\n",
    "**Задача:**\n",
    "Необходимо разобраться, как влияют различные факторы - характеристики клиента на факт погашения кредита в срок.\n",
    "\n",
    "**Вопросы, которые обозначил заказчик перед аналитиками:**\n",
    "* Есть ли зависимость между количеством детей и возвратом кредита в срок?\n",
    "* Есть ли зависимость между семейным положением и возвратом кредита в срок?\n",
    "* Есть ли зависимость между уровнем дохода и возвратом кредита в срок?\n",
    "* Как разные цели кредита влияют на его возврат в срок?\n",
    "\n",
    "**Вводные:**\n",
    "Входные данные от банка - статистика о платёжеспособности клиентов в таблице формата `.csv`.\n",
    "\n",
    "Результаты исследования будут учтены при построении модели кредитного скоринга — специальной системы, которая оценивает способность потенциального заёмщика вернуть кредит банку.\n",
    "\n",
    "Кредитный скоринг (от англ. score «оценка»; в т.ч. гл.) — система оценки кредитоспособности (кредитных рисков) потенциального клиента, основанная на численных статистических методах. \n",
    "\n",
    "**Скоринг** заключается в присвоении баллов по итогам заполнения анкеты заемщика, разработанной оценщиками кредитных рисков (андеррайтерами). По результатам набранных баллов системой автоматически принимается решение об одобрении или отказе в выдаче кредита.\n",
    "\n",
    "**Описание данных**\n",
    "\n",
    "1. children — количество детей в семье\n",
    "2. days_employed — общий трудовой стаж в днях\n",
    "3. dob_years — возраст клиента в годах\n",
    "4. education — уровень образования клиента\n",
    "5. education_id — идентификатор уровня образования\n",
    "6. family_status — семейное положение\n",
    "7. family_status_id — идентификатор семейного положения\n",
    "8. gender — пол клиента\n",
    "9. income_type — тип занятости\n",
    "10. debt — имел ли задолженность по возврату кредитов\n",
    "11. total_income — ежемесячный доход\n",
    "12. purpose — цель получения кредита\n",
    "\n",
    "[К заключению по проекту](#conclusion)"
   ]
  },
  {
   "cell_type": "markdown",
   "id": "4b0e55fa",
   "metadata": {},
   "source": [
    "### Шаг 1. Обзор данных"
   ]
  },
  {
   "cell_type": "markdown",
   "id": "f0a25694",
   "metadata": {},
   "source": [
    "Необходимо составить первое представление о полученных данных от кредитного отдела банка. \n",
    "\n",
    "* Для работы с табличными файлами импортируем библиотеку `pandas`. \n",
    "* Для игнорирования предупреждений импортируем библиотеку `warnings`.\n"
   ]
  },
  {
   "cell_type": "code",
   "execution_count": 1,
   "id": "fa04dbb3",
   "metadata": {},
   "outputs": [],
   "source": [
    "import pandas as pd\n",
    "import warnings\n",
    "warnings.filterwarnings(\"ignore\")"
   ]
  },
  {
   "cell_type": "markdown",
   "id": "63600e8a",
   "metadata": {},
   "source": [
    "Прочитаем файл `data (1).csv` из папки `/datasets/data.csv` и сохраним его в переменной `df`. Изучем наполнение файла, типы данных, количество и т.д.\n"
   ]
  },
  {
   "cell_type": "code",
   "execution_count": 2,
   "id": "2bc26856",
   "metadata": {},
   "outputs": [
    {
     "data": {
      "text/html": [
       "<div>\n",
       "<style scoped>\n",
       "    .dataframe tbody tr th:only-of-type {\n",
       "        vertical-align: middle;\n",
       "    }\n",
       "\n",
       "    .dataframe tbody tr th {\n",
       "        vertical-align: top;\n",
       "    }\n",
       "\n",
       "    .dataframe thead th {\n",
       "        text-align: right;\n",
       "    }\n",
       "</style>\n",
       "<table border=\"1\" class=\"dataframe\">\n",
       "  <thead>\n",
       "    <tr style=\"text-align: right;\">\n",
       "      <th></th>\n",
       "      <th>children</th>\n",
       "      <th>days_employed</th>\n",
       "      <th>dob_years</th>\n",
       "      <th>education</th>\n",
       "      <th>education_id</th>\n",
       "      <th>family_status</th>\n",
       "      <th>family_status_id</th>\n",
       "      <th>gender</th>\n",
       "      <th>income_type</th>\n",
       "      <th>debt</th>\n",
       "      <th>total_income</th>\n",
       "      <th>purpose</th>\n",
       "    </tr>\n",
       "  </thead>\n",
       "  <tbody>\n",
       "    <tr>\n",
       "      <th>14920</th>\n",
       "      <td>1</td>\n",
       "      <td>NaN</td>\n",
       "      <td>28</td>\n",
       "      <td>высшее</td>\n",
       "      <td>0</td>\n",
       "      <td>Не женат / не замужем</td>\n",
       "      <td>4</td>\n",
       "      <td>F</td>\n",
       "      <td>компаньон</td>\n",
       "      <td>0</td>\n",
       "      <td>NaN</td>\n",
       "      <td>покупка своего жилья</td>\n",
       "    </tr>\n",
       "    <tr>\n",
       "      <th>18327</th>\n",
       "      <td>1</td>\n",
       "      <td>-4109.464697</td>\n",
       "      <td>29</td>\n",
       "      <td>среднее</td>\n",
       "      <td>1</td>\n",
       "      <td>женат / замужем</td>\n",
       "      <td>0</td>\n",
       "      <td>M</td>\n",
       "      <td>сотрудник</td>\n",
       "      <td>0</td>\n",
       "      <td>292124.203385</td>\n",
       "      <td>приобретение автомобиля</td>\n",
       "    </tr>\n",
       "    <tr>\n",
       "      <th>19336</th>\n",
       "      <td>2</td>\n",
       "      <td>-3230.724011</td>\n",
       "      <td>45</td>\n",
       "      <td>среднее</td>\n",
       "      <td>1</td>\n",
       "      <td>женат / замужем</td>\n",
       "      <td>0</td>\n",
       "      <td>M</td>\n",
       "      <td>сотрудник</td>\n",
       "      <td>0</td>\n",
       "      <td>142224.177570</td>\n",
       "      <td>на покупку своего автомобиля</td>\n",
       "    </tr>\n",
       "    <tr>\n",
       "      <th>8703</th>\n",
       "      <td>1</td>\n",
       "      <td>-1600.798781</td>\n",
       "      <td>22</td>\n",
       "      <td>среднее</td>\n",
       "      <td>1</td>\n",
       "      <td>женат / замужем</td>\n",
       "      <td>0</td>\n",
       "      <td>M</td>\n",
       "      <td>компаньон</td>\n",
       "      <td>0</td>\n",
       "      <td>52832.041117</td>\n",
       "      <td>строительство недвижимости</td>\n",
       "    </tr>\n",
       "    <tr>\n",
       "      <th>13714</th>\n",
       "      <td>0</td>\n",
       "      <td>-598.430007</td>\n",
       "      <td>23</td>\n",
       "      <td>неоконченное высшее</td>\n",
       "      <td>2</td>\n",
       "      <td>женат / замужем</td>\n",
       "      <td>0</td>\n",
       "      <td>M</td>\n",
       "      <td>госслужащий</td>\n",
       "      <td>0</td>\n",
       "      <td>203711.266197</td>\n",
       "      <td>получение дополнительного образования</td>\n",
       "    </tr>\n",
       "    <tr>\n",
       "      <th>17252</th>\n",
       "      <td>0</td>\n",
       "      <td>377113.431713</td>\n",
       "      <td>53</td>\n",
       "      <td>высшее</td>\n",
       "      <td>0</td>\n",
       "      <td>женат / замужем</td>\n",
       "      <td>0</td>\n",
       "      <td>F</td>\n",
       "      <td>пенсионер</td>\n",
       "      <td>0</td>\n",
       "      <td>170433.137385</td>\n",
       "      <td>покупка жилья для семьи</td>\n",
       "    </tr>\n",
       "    <tr>\n",
       "      <th>6297</th>\n",
       "      <td>0</td>\n",
       "      <td>-3090.011801</td>\n",
       "      <td>32</td>\n",
       "      <td>среднее</td>\n",
       "      <td>1</td>\n",
       "      <td>женат / замужем</td>\n",
       "      <td>0</td>\n",
       "      <td>F</td>\n",
       "      <td>сотрудник</td>\n",
       "      <td>0</td>\n",
       "      <td>115334.548630</td>\n",
       "      <td>покупка недвижимости</td>\n",
       "    </tr>\n",
       "    <tr>\n",
       "      <th>12292</th>\n",
       "      <td>0</td>\n",
       "      <td>386259.675109</td>\n",
       "      <td>64</td>\n",
       "      <td>среднее</td>\n",
       "      <td>1</td>\n",
       "      <td>женат / замужем</td>\n",
       "      <td>0</td>\n",
       "      <td>M</td>\n",
       "      <td>пенсионер</td>\n",
       "      <td>0</td>\n",
       "      <td>55758.042205</td>\n",
       "      <td>операции со своей недвижимостью</td>\n",
       "    </tr>\n",
       "    <tr>\n",
       "      <th>12799</th>\n",
       "      <td>0</td>\n",
       "      <td>-7345.453207</td>\n",
       "      <td>44</td>\n",
       "      <td>среднее</td>\n",
       "      <td>1</td>\n",
       "      <td>женат / замужем</td>\n",
       "      <td>0</td>\n",
       "      <td>F</td>\n",
       "      <td>сотрудник</td>\n",
       "      <td>0</td>\n",
       "      <td>166521.090180</td>\n",
       "      <td>операции со своей недвижимостью</td>\n",
       "    </tr>\n",
       "    <tr>\n",
       "      <th>5786</th>\n",
       "      <td>0</td>\n",
       "      <td>-10477.931668</td>\n",
       "      <td>54</td>\n",
       "      <td>среднее</td>\n",
       "      <td>1</td>\n",
       "      <td>женат / замужем</td>\n",
       "      <td>0</td>\n",
       "      <td>F</td>\n",
       "      <td>госслужащий</td>\n",
       "      <td>0</td>\n",
       "      <td>105878.505972</td>\n",
       "      <td>приобретение автомобиля</td>\n",
       "    </tr>\n",
       "  </tbody>\n",
       "</table>\n",
       "</div>"
      ],
      "text/plain": [
       "       children  days_employed  dob_years            education  education_id  \\\n",
       "14920         1            NaN         28               высшее             0   \n",
       "18327         1   -4109.464697         29              среднее             1   \n",
       "19336         2   -3230.724011         45              среднее             1   \n",
       "8703          1   -1600.798781         22              среднее             1   \n",
       "13714         0    -598.430007         23  неоконченное высшее             2   \n",
       "17252         0  377113.431713         53               высшее             0   \n",
       "6297          0   -3090.011801         32              среднее             1   \n",
       "12292         0  386259.675109         64              среднее             1   \n",
       "12799         0   -7345.453207         44              среднее             1   \n",
       "5786          0  -10477.931668         54              среднее             1   \n",
       "\n",
       "               family_status  family_status_id gender  income_type  debt  \\\n",
       "14920  Не женат / не замужем                 4      F    компаньон     0   \n",
       "18327        женат / замужем                 0      M    сотрудник     0   \n",
       "19336        женат / замужем                 0      M    сотрудник     0   \n",
       "8703         женат / замужем                 0      M    компаньон     0   \n",
       "13714        женат / замужем                 0      M  госслужащий     0   \n",
       "17252        женат / замужем                 0      F    пенсионер     0   \n",
       "6297         женат / замужем                 0      F    сотрудник     0   \n",
       "12292        женат / замужем                 0      M    пенсионер     0   \n",
       "12799        женат / замужем                 0      F    сотрудник     0   \n",
       "5786         женат / замужем                 0      F  госслужащий     0   \n",
       "\n",
       "        total_income                                purpose  \n",
       "14920            NaN                   покупка своего жилья  \n",
       "18327  292124.203385                приобретение автомобиля  \n",
       "19336  142224.177570           на покупку своего автомобиля  \n",
       "8703    52832.041117             строительство недвижимости  \n",
       "13714  203711.266197  получение дополнительного образования  \n",
       "17252  170433.137385                покупка жилья для семьи  \n",
       "6297   115334.548630                   покупка недвижимости  \n",
       "12292   55758.042205        операции со своей недвижимостью  \n",
       "12799  166521.090180        операции со своей недвижимостью  \n",
       "5786   105878.505972                приобретение автомобиля  "
      ]
     },
     "metadata": {},
     "output_type": "display_data"
    }
   ],
   "source": [
    "df = pd.read_csv('/datasets/data.csv')\n",
    "display(df.sample(10))"
   ]
  },
  {
   "cell_type": "markdown",
   "id": "2f7eaa31",
   "metadata": {},
   "source": [
    "Проверив случайной выборкой, сразу видим ошибки в столбце `days_employed` - стаж в вещественном формате и есть отрицательные значения. Нужно привести к целым абсолютам. В столбце `education` записи в разных регистрах. \n"
   ]
  },
  {
   "cell_type": "code",
   "execution_count": 3,
   "id": "535b9e37",
   "metadata": {
    "scrolled": true
   },
   "outputs": [
    {
     "name": "stdout",
     "output_type": "stream",
     "text": [
      "<class 'pandas.core.frame.DataFrame'>\n",
      "RangeIndex: 21525 entries, 0 to 21524\n",
      "Data columns (total 12 columns):\n",
      " #   Column            Non-Null Count  Dtype  \n",
      "---  ------            --------------  -----  \n",
      " 0   children          21525 non-null  int64  \n",
      " 1   days_employed     19351 non-null  float64\n",
      " 2   dob_years         21525 non-null  int64  \n",
      " 3   education         21525 non-null  object \n",
      " 4   education_id      21525 non-null  int64  \n",
      " 5   family_status     21525 non-null  object \n",
      " 6   family_status_id  21525 non-null  int64  \n",
      " 7   gender            21525 non-null  object \n",
      " 8   income_type       21525 non-null  object \n",
      " 9   debt              21525 non-null  int64  \n",
      " 10  total_income      19351 non-null  float64\n",
      " 11  purpose           21525 non-null  object \n",
      "dtypes: float64(2), int64(5), object(5)\n",
      "memory usage: 2.0+ MB\n"
     ]
    }
   ],
   "source": [
    "df.info() #проверим общую информацию о содержании датасета"
   ]
  },
  {
   "cell_type": "code",
   "execution_count": 4,
   "id": "dfc85b38",
   "metadata": {},
   "outputs": [
    {
     "data": {
      "text/html": [
       "<div>\n",
       "<style scoped>\n",
       "    .dataframe tbody tr th:only-of-type {\n",
       "        vertical-align: middle;\n",
       "    }\n",
       "\n",
       "    .dataframe tbody tr th {\n",
       "        vertical-align: top;\n",
       "    }\n",
       "\n",
       "    .dataframe thead th {\n",
       "        text-align: right;\n",
       "    }\n",
       "</style>\n",
       "<table border=\"1\" class=\"dataframe\">\n",
       "  <thead>\n",
       "    <tr style=\"text-align: right;\">\n",
       "      <th></th>\n",
       "      <th>children</th>\n",
       "      <th>days_employed</th>\n",
       "      <th>dob_years</th>\n",
       "      <th>education_id</th>\n",
       "      <th>family_status_id</th>\n",
       "      <th>debt</th>\n",
       "      <th>total_income</th>\n",
       "    </tr>\n",
       "  </thead>\n",
       "  <tbody>\n",
       "    <tr>\n",
       "      <th>count</th>\n",
       "      <td>21525.000000</td>\n",
       "      <td>19351.000000</td>\n",
       "      <td>21525.000000</td>\n",
       "      <td>21525.000000</td>\n",
       "      <td>21525.000000</td>\n",
       "      <td>21525.000000</td>\n",
       "      <td>1.935100e+04</td>\n",
       "    </tr>\n",
       "    <tr>\n",
       "      <th>mean</th>\n",
       "      <td>0.538908</td>\n",
       "      <td>63046.497661</td>\n",
       "      <td>43.293380</td>\n",
       "      <td>0.817236</td>\n",
       "      <td>0.972544</td>\n",
       "      <td>0.080883</td>\n",
       "      <td>1.674223e+05</td>\n",
       "    </tr>\n",
       "    <tr>\n",
       "      <th>std</th>\n",
       "      <td>1.381587</td>\n",
       "      <td>140827.311974</td>\n",
       "      <td>12.574584</td>\n",
       "      <td>0.548138</td>\n",
       "      <td>1.420324</td>\n",
       "      <td>0.272661</td>\n",
       "      <td>1.029716e+05</td>\n",
       "    </tr>\n",
       "    <tr>\n",
       "      <th>min</th>\n",
       "      <td>-1.000000</td>\n",
       "      <td>-18388.949901</td>\n",
       "      <td>0.000000</td>\n",
       "      <td>0.000000</td>\n",
       "      <td>0.000000</td>\n",
       "      <td>0.000000</td>\n",
       "      <td>2.066726e+04</td>\n",
       "    </tr>\n",
       "    <tr>\n",
       "      <th>25%</th>\n",
       "      <td>0.000000</td>\n",
       "      <td>-2747.423625</td>\n",
       "      <td>33.000000</td>\n",
       "      <td>1.000000</td>\n",
       "      <td>0.000000</td>\n",
       "      <td>0.000000</td>\n",
       "      <td>1.030532e+05</td>\n",
       "    </tr>\n",
       "    <tr>\n",
       "      <th>50%</th>\n",
       "      <td>0.000000</td>\n",
       "      <td>-1203.369529</td>\n",
       "      <td>42.000000</td>\n",
       "      <td>1.000000</td>\n",
       "      <td>0.000000</td>\n",
       "      <td>0.000000</td>\n",
       "      <td>1.450179e+05</td>\n",
       "    </tr>\n",
       "    <tr>\n",
       "      <th>75%</th>\n",
       "      <td>1.000000</td>\n",
       "      <td>-291.095954</td>\n",
       "      <td>53.000000</td>\n",
       "      <td>1.000000</td>\n",
       "      <td>1.000000</td>\n",
       "      <td>0.000000</td>\n",
       "      <td>2.034351e+05</td>\n",
       "    </tr>\n",
       "    <tr>\n",
       "      <th>max</th>\n",
       "      <td>20.000000</td>\n",
       "      <td>401755.400475</td>\n",
       "      <td>75.000000</td>\n",
       "      <td>4.000000</td>\n",
       "      <td>4.000000</td>\n",
       "      <td>1.000000</td>\n",
       "      <td>2.265604e+06</td>\n",
       "    </tr>\n",
       "  </tbody>\n",
       "</table>\n",
       "</div>"
      ],
      "text/plain": [
       "           children  days_employed     dob_years  education_id  \\\n",
       "count  21525.000000   19351.000000  21525.000000  21525.000000   \n",
       "mean       0.538908   63046.497661     43.293380      0.817236   \n",
       "std        1.381587  140827.311974     12.574584      0.548138   \n",
       "min       -1.000000  -18388.949901      0.000000      0.000000   \n",
       "25%        0.000000   -2747.423625     33.000000      1.000000   \n",
       "50%        0.000000   -1203.369529     42.000000      1.000000   \n",
       "75%        1.000000    -291.095954     53.000000      1.000000   \n",
       "max       20.000000  401755.400475     75.000000      4.000000   \n",
       "\n",
       "       family_status_id          debt  total_income  \n",
       "count      21525.000000  21525.000000  1.935100e+04  \n",
       "mean           0.972544      0.080883  1.674223e+05  \n",
       "std            1.420324      0.272661  1.029716e+05  \n",
       "min            0.000000      0.000000  2.066726e+04  \n",
       "25%            0.000000      0.000000  1.030532e+05  \n",
       "50%            0.000000      0.000000  1.450179e+05  \n",
       "75%            1.000000      0.000000  2.034351e+05  \n",
       "max            4.000000      1.000000  2.265604e+06  "
      ]
     },
     "execution_count": 4,
     "metadata": {},
     "output_type": "execute_result"
    }
   ],
   "source": [
    "df.describe() #проверим статистические данные датафрейма."
   ]
  },
  {
   "cell_type": "code",
   "execution_count": 5,
   "id": "df977b86",
   "metadata": {
    "scrolled": true
   },
   "outputs": [
    {
     "data": {
      "text/plain": [
       "Index(['children', 'days_employed', 'dob_years', 'education', 'education_id',\n",
       "       'family_status', 'family_status_id', 'gender', 'income_type', 'debt',\n",
       "       'total_income', 'purpose'],\n",
       "      dtype='object')"
      ]
     },
     "execution_count": 5,
     "metadata": {},
     "output_type": "execute_result"
    }
   ],
   "source": [
    "df.columns #проверим написание колонок"
   ]
  },
  {
   "cell_type": "markdown",
   "id": "1c840485",
   "metadata": {},
   "source": [
    "Итак, проведя первичный обзор, видим следующее.\n",
    "\n",
    "В столбце 12 колонок с данными\n",
    "1. `children` — количество детей в семье\n",
    "2. `days_employed` — общий трудовой стаж в днях\n",
    "3. `dob_years` — возраст клиента в годах\n",
    "4. `education` — уровень образования клиента\n",
    "5. `education_id` — идентификатор уровня образования\n",
    "6. `family_status` — семейное положение\n",
    "7. `family_status_id` — идентификатор семейного положения\n",
    "8. `gender` — пол клиента\n",
    "9. `income_type` — тип занятости\n",
    "10. `debt` — имел ли задолженность по возврату кредитов\n",
    "11. `total_income` — ежемесячный доход\n",
    "12. `purpose` — цель получения кредита\n",
    "\n",
    "Названия колонок написаны в змеином стиле в нижнем регистре. Исправления названий не требуется. \n",
    "\n",
    "Количество значений в столбцах различается. Значит, в данных есть пропущенные значения в колонках `days_employed` и `total_income`."
   ]
  },
  {
   "cell_type": "markdown",
   "id": "22aff8bc",
   "metadata": {},
   "source": [
    "### Шаг 2.1 Заполнение пропусков"
   ]
  },
  {
   "cell_type": "code",
   "execution_count": 6,
   "id": "baca9009",
   "metadata": {},
   "outputs": [
    {
     "data": {
      "text/plain": [
       "children               0\n",
       "days_employed       2174\n",
       "dob_years              0\n",
       "education              0\n",
       "education_id           0\n",
       "family_status          0\n",
       "family_status_id       0\n",
       "gender                 0\n",
       "income_type            0\n",
       "debt                   0\n",
       "total_income        2174\n",
       "purpose                0\n",
       "dtype: int64"
      ]
     },
     "metadata": {},
     "output_type": "display_data"
    }
   ],
   "source": [
    "display(df.isna().sum()) # посчитаем пропуски"
   ]
  },
  {
   "cell_type": "code",
   "execution_count": 7,
   "id": "e8fd55df",
   "metadata": {},
   "outputs": [
    {
     "name": "stdout",
     "output_type": "stream",
     "text": [
      "Доля пропусков в столбцах с трудовым стажем и ежемесячным доходом: 10.1%\n"
     ]
    }
   ],
   "source": [
    "days_employed_ratio = df['days_employed'].isna().sum()/df['children'].count()\n",
    "\n",
    "print (f'Доля пропусков в столбцах с трудовым стажем и ежемесячным доходом: {days_employed_ratio:.1%}')\n"
   ]
  },
  {
   "cell_type": "markdown",
   "id": "93277cbc",
   "metadata": {},
   "source": [
    "Действительно есть пропущенные значения в двух столбцах `days_employed` и `total_income`. \n",
    "Доля пропусков в обоих столбцах одинаковая и составляет около `10%` от всех данных. Строки удалять нельзя, т.к. это существенная часть выборки, которую необходимо использовать в расчетах.\n",
    "\n",
    "Предполагаю, что не все люди пожелали вписать данные о стаже и заработке в анкету. Возможно, в связи с неофициальным трудоустройством и отсутствием подтверждающих документов. Либо это могли быть несовершеннолетние, которые еще не работали ранее. \n",
    "\n",
    "Эти столбцы содержат количественные переменные (вещественный тип). Заполним пропуски `медианным значением`. Нельзя брать среднее значение для заполнения пропусков, т.к. это сильно повлияет на репрезентативность выбороки из-за возможных максимальных отклонений текущих данных. Трудовой стаж в днях может сильно отличаться - например, у людей пенисонного возраста он сильно выше чем у людей среднего возраста или молодежи, которые обычно берут кредиты. 75 %-тиль показывает, что у нас 25% кредиторов старше 53 лет.\n",
    "Или, например, в колонке с зарплатой, могут быть зарплаты крупных руководителей.\n"
   ]
  },
  {
   "cell_type": "code",
   "execution_count": 8,
   "id": "761edebc",
   "metadata": {},
   "outputs": [
    {
     "name": "stdout",
     "output_type": "stream",
     "text": [
      "-1203.369528770489\n",
      "145017.93753253992\n"
     ]
    }
   ],
   "source": [
    "days_employed_median = df['days_employed'].median() # найдем медиану в столбце с трудовым стажем\n",
    "total_income_median = df['total_income'].median() # найдем медиану в столбце с ежемесячным доходом\n",
    "print (days_employed_median)\n",
    "print (total_income_median)"
   ]
  },
  {
   "cell_type": "code",
   "execution_count": 9,
   "id": "388aa6ca",
   "metadata": {
    "scrolled": true
   },
   "outputs": [
    {
     "name": "stdout",
     "output_type": "stream",
     "text": [
      "0\n"
     ]
    }
   ],
   "source": [
    "total_income_negative = df[df['total_income']<0]['total_income'].count() #проверим количество отрицательных значений\n",
    "print (total_income_negative)"
   ]
  },
  {
   "cell_type": "code",
   "execution_count": 10,
   "id": "d31d2ff5",
   "metadata": {},
   "outputs": [
    {
     "data": {
      "text/plain": [
       "15906"
      ]
     },
     "execution_count": 10,
     "metadata": {},
     "output_type": "execute_result"
    }
   ],
   "source": [
    "days_employed_negative = df[df['days_employed']<0]['days_employed'].count() #проверим количество отрицательных значений\n",
    "days_employed_negative"
   ]
  },
  {
   "cell_type": "markdown",
   "id": "23217f90",
   "metadata": {},
   "source": [
    "Видим, что медианный трудовой стаж вышел отрицательный. Таких значений очень много, более 50% от выборки. Возможно, на это повлиял человеческий фактор или был технический баг. Нужно скорректировать эту аномалию. Приведем все данные к абсолютному значению и проверим количество отрицательных значений. "
   ]
  },
  {
   "cell_type": "markdown",
   "id": "bfa2091e",
   "metadata": {},
   "source": [
    "### Шаг 2.2 Проверка данных на аномалии и исправления."
   ]
  },
  {
   "cell_type": "markdown",
   "id": "0cf50717",
   "metadata": {},
   "source": [
    "Переведем строки с отрицательными значениями в абсолютные величины."
   ]
  },
  {
   "cell_type": "code",
   "execution_count": 11,
   "id": "b08b9274",
   "metadata": {},
   "outputs": [
    {
     "data": {
      "text/plain": [
       "0"
      ]
     },
     "execution_count": 11,
     "metadata": {},
     "output_type": "execute_result"
    }
   ],
   "source": [
    "df['days_employed'] = abs(df['days_employed']) #переведем в абсолютные значения\n",
    "days_employed_negative = df[df['days_employed']<0]['days_employed'].count()\n",
    "days_employed_negative #проверим, остались ли отрицательные числа"
   ]
  },
  {
   "cell_type": "code",
   "execution_count": 12,
   "id": "4363a631",
   "metadata": {},
   "outputs": [
    {
     "data": {
      "text/plain": [
       "47"
      ]
     },
     "execution_count": 12,
     "metadata": {},
     "output_type": "execute_result"
    }
   ],
   "source": [
    "children_negative = df[df['children']<0]['children'].count() #проверим наличие минусов в количестве детей\n",
    "children_negative"
   ]
  },
  {
   "cell_type": "markdown",
   "id": "195c4ebb",
   "metadata": {},
   "source": [
    "Вывод, в столбце `children` 47 строк с отрицательными значениеми. Проверка показала, что практически все эти люди живут в браке. Предположим что повлиял человеский фактор, и у них всех есть дети, поэтому заменим этот - на +"
   ]
  },
  {
   "cell_type": "code",
   "execution_count": 13,
   "id": "969fded4",
   "metadata": {},
   "outputs": [
    {
     "data": {
      "text/plain": [
       "0"
      ]
     },
     "execution_count": 13,
     "metadata": {},
     "output_type": "execute_result"
    }
   ],
   "source": [
    "df['children'] = abs(df['children']) #переведем в абсолютные значения\n",
    "children_negative = df[df['children']<0]['children'].count()\n",
    "children_negative #проверим, остались ли отрицательные числа"
   ]
  },
  {
   "cell_type": "code",
   "execution_count": 14,
   "id": "d492e225",
   "metadata": {},
   "outputs": [
    {
     "name": "stdout",
     "output_type": "stream",
     "text": [
      "20\n",
      "18493    20\n",
      "10194    20\n",
      "18476    20\n",
      "20038    20\n",
      "17509    20\n",
      "3302     20\n",
      "5020     20\n",
      "15313    20\n",
      "16795    20\n",
      "15812    20\n",
      "Name: children, dtype: int64\n"
     ]
    }
   ],
   "source": [
    "print(df['children'].max())  #уточним максимальное значение детей, возможно там есть ошибка\n",
    "df = df.sort_values(by='children')\n",
    "print (df['children'].tail(10)) #проверим много ли значений 20 в этом столбце\n",
    "# обнаружено эсктримальное значение - предположим что это ошибка с доп. нулем и проведем замену на 2"
   ]
  },
  {
   "cell_type": "code",
   "execution_count": 15,
   "id": "a4c6d03d",
   "metadata": {},
   "outputs": [
    {
     "name": "stdout",
     "output_type": "stream",
     "text": [
      "5991     4\n",
      "21156    5\n",
      "20452    5\n",
      "20837    5\n",
      "16211    5\n",
      "3979     5\n",
      "4397     5\n",
      "7866     5\n",
      "15916    5\n",
      "15822    5\n",
      "Name: children, dtype: int64\n"
     ]
    }
   ],
   "source": [
    "df['children']=df['children'].replace(20, 2)  # предположим, что была ошибка, добавлен 0, заменим на 2\n",
    "df = df.sort_values(by='children')\n",
    "print(df['children'].tail(10))"
   ]
  },
  {
   "cell_type": "markdown",
   "id": "59858bf4",
   "metadata": {},
   "source": [
    "Проверка столбца с детьми на максимальное значение выдала результат - 20. Скорее всего при заполнении анкеты оператор допустил ошибку и прибавил к 2ке - \"0\". После замены в столбце `children` аномальных значений с 20 детьми, фиксируем максимальное значение 5 детей только в 9 случаях. Это норма."
   ]
  },
  {
   "cell_type": "markdown",
   "id": "4bb3d9a9",
   "metadata": {},
   "source": [
    "Заменим пропуски в столбцах с стажем и доходом. Эти данные нам еще пригодятся для итогового вывода по задаче."
   ]
  },
  {
   "cell_type": "code",
   "execution_count": 16,
   "id": "7b8d3421",
   "metadata": {},
   "outputs": [
    {
     "name": "stdout",
     "output_type": "stream",
     "text": [
      "children            0\n",
      "days_employed       0\n",
      "dob_years           0\n",
      "education           0\n",
      "education_id        0\n",
      "family_status       0\n",
      "family_status_id    0\n",
      "gender              0\n",
      "income_type         0\n",
      "debt                0\n",
      "total_income        0\n",
      "purpose             0\n",
      "dtype: int64\n"
     ]
    }
   ],
   "source": [
    "df['days_employed'] = df['days_employed'].fillna(value = days_employed_median) #заменим пропуски\n",
    "df['total_income'] = df['total_income'].fillna(value = total_income_median)\n",
    "print(df.isna().sum()) # посчитаем пропуски"
   ]
  },
  {
   "cell_type": "markdown",
   "id": "c4c12c76",
   "metadata": {},
   "source": [
    "Пропусков и отрицательных значений не осталось!"
   ]
  },
  {
   "cell_type": "markdown",
   "id": "bb95bc23",
   "metadata": {},
   "source": [
    "### Шаг 2.3. Изменение типов данных."
   ]
  },
  {
   "cell_type": "markdown",
   "id": "dd669491",
   "metadata": {},
   "source": [
    "Переведем все ячейки трудового стажа и доходы клиента в целочисленные значения integer"
   ]
  },
  {
   "cell_type": "code",
   "execution_count": 17,
   "id": "c1b0ee31",
   "metadata": {},
   "outputs": [
    {
     "name": "stdout",
     "output_type": "stream",
     "text": [
      "<class 'pandas.core.frame.DataFrame'>\n",
      "Int64Index: 21525 entries, 9612 to 15822\n",
      "Data columns (total 12 columns):\n",
      " #   Column            Non-Null Count  Dtype \n",
      "---  ------            --------------  ----- \n",
      " 0   children          21525 non-null  int64 \n",
      " 1   days_employed     21525 non-null  int64 \n",
      " 2   dob_years         21525 non-null  int64 \n",
      " 3   education         21525 non-null  object\n",
      " 4   education_id      21525 non-null  int64 \n",
      " 5   family_status     21525 non-null  object\n",
      " 6   family_status_id  21525 non-null  int64 \n",
      " 7   gender            21525 non-null  object\n",
      " 8   income_type       21525 non-null  object\n",
      " 9   debt              21525 non-null  int64 \n",
      " 10  total_income      21525 non-null  int64 \n",
      " 11  purpose           21525 non-null  object\n",
      "dtypes: int64(7), object(5)\n",
      "memory usage: 2.1+ MB\n"
     ]
    }
   ],
   "source": [
    "df['total_income'] = df['total_income'].astype('int')\n",
    "df['days_employed'] = df['days_employed'].astype('int')\n",
    "df.info()"
   ]
  },
  {
   "cell_type": "markdown",
   "id": "3ca20120",
   "metadata": {},
   "source": [
    "Как мы заметили ранее, столбцы `education` и `family_status` заполнены разными регистрами. Приведем все строки в нижний регистр."
   ]
  },
  {
   "cell_type": "code",
   "execution_count": 18,
   "id": "23b50806",
   "metadata": {
    "scrolled": true
   },
   "outputs": [
    {
     "name": "stdout",
     "output_type": "stream",
     "text": [
      "['среднее' 'высшее' 'начальное' 'неоконченное высшее' 'ученая степень']\n",
      "['женат / замужем' 'вдовец / вдова' 'в разводе' 'гражданский брак'\n",
      " 'не женат / не замужем']\n"
     ]
    }
   ],
   "source": [
    "df['education'] = df['education'].str.lower()\n",
    "df['family_status'] = df['family_status'].str.lower()\n",
    "#проверим строки на регистр \n",
    "print(df['education'].unique())\n",
    "print(df['family_status'].unique())"
   ]
  },
  {
   "cell_type": "markdown",
   "id": "c904e739",
   "metadata": {},
   "source": [
    "### Шаг 2.4. Удаление дубликатов."
   ]
  },
  {
   "cell_type": "markdown",
   "id": "9dffde74",
   "metadata": {},
   "source": [
    "Найдем явные дубликаты и избавимся от них."
   ]
  },
  {
   "cell_type": "code",
   "execution_count": 19,
   "id": "87c009d4",
   "metadata": {
    "scrolled": true
   },
   "outputs": [
    {
     "name": "stdout",
     "output_type": "stream",
     "text": [
      "71\n"
     ]
    }
   ],
   "source": [
    "print(df.duplicated().sum()) # подсчёт явных дубликатов"
   ]
  },
  {
   "cell_type": "code",
   "execution_count": 20,
   "id": "418bc0d2",
   "metadata": {},
   "outputs": [
    {
     "name": "stdout",
     "output_type": "stream",
     "text": [
      "0\n"
     ]
    }
   ],
   "source": [
    "df=df.drop_duplicates().reset_index(drop=True) # удаление явных дубликатов (с удалением старых индексов и формированием новых)\n",
    "print(df.duplicated().sum()) # проверка на отсутствие дубликатов"
   ]
  },
  {
   "cell_type": "markdown",
   "id": "65283f79",
   "metadata": {},
   "source": [
    "Теперь поищем неявные дубликаты в столбце `family_status`"
   ]
  },
  {
   "cell_type": "markdown",
   "id": "2f75bbdd",
   "metadata": {},
   "source": [
    "\n"
   ]
  },
  {
   "cell_type": "code",
   "execution_count": 21,
   "id": "5717eba9",
   "metadata": {},
   "outputs": [
    {
     "name": "stdout",
     "output_type": "stream",
     "text": [
      "['в разводе' 'вдовец / вдова' 'гражданский брак' 'женат / замужем'\n",
      " 'не женат / не замужем']\n"
     ]
    }
   ],
   "source": [
    "df = df.sort_values(by='family_status')\n",
    "# print (df['family_status'].head (20)) проверка сортировки\n",
    "print(df['family_status'].unique()) # Просмотр уникальных названий семейного положения"
   ]
  },
  {
   "cell_type": "code",
   "execution_count": 22,
   "id": "ff842486",
   "metadata": {},
   "outputs": [
    {
     "name": "stdout",
     "output_type": "stream",
     "text": [
      "['F' 'M' 'XNA']\n"
     ]
    }
   ],
   "source": [
    "df = df.sort_values(by='gender')\n",
    "print(df['gender'].unique()) # Просмотр уникальных названий пола"
   ]
  },
  {
   "cell_type": "code",
   "execution_count": 23,
   "id": "458f9c65",
   "metadata": {},
   "outputs": [
    {
     "name": "stdout",
     "output_type": "stream",
     "text": [
      "1\n"
     ]
    }
   ],
   "source": [
    "print(df[df['gender'] == 'XNA']['gender'].count())"
   ]
  },
  {
   "cell_type": "code",
   "execution_count": 24,
   "id": "a079afed",
   "metadata": {},
   "outputs": [
    {
     "name": "stdout",
     "output_type": "stream",
     "text": [
      "[0 1]\n"
     ]
    }
   ],
   "source": [
    "print(df['debt'].unique()) # Просмотр уникальных названий статуса задолженности"
   ]
  },
  {
   "cell_type": "markdown",
   "id": "ebda90fd",
   "metadata": {},
   "source": [
    "Проверили некоторые столбцы датасета на не явные дубликаты и ошибки. Значительные ошибки, которые могут повлтиять на результат исследования пока не обнаружили."
   ]
  },
  {
   "cell_type": "markdown",
   "id": "f7865539",
   "metadata": {},
   "source": [
    "### Шаг 2.5. Формирование дополнительных датафреймов словарей, декомпозиция исходного датафрейма."
   ]
  },
  {
   "cell_type": "markdown",
   "id": "c85cb459",
   "metadata": {},
   "source": [
    "Создадим два новых датафрейма **словаря** со столбцами:\n",
    "`education_id` и `education` — в первом;\n",
    "`family_status_id` и `family_status` — во втором.\n",
    "        \n",
    "\t\t\n"
   ]
  },
  {
   "cell_type": "code",
   "execution_count": 25,
   "id": "bc7d68d6",
   "metadata": {},
   "outputs": [
    {
     "data": {
      "text/html": [
       "<div>\n",
       "<style scoped>\n",
       "    .dataframe tbody tr th:only-of-type {\n",
       "        vertical-align: middle;\n",
       "    }\n",
       "\n",
       "    .dataframe tbody tr th {\n",
       "        vertical-align: top;\n",
       "    }\n",
       "\n",
       "    .dataframe thead th {\n",
       "        text-align: right;\n",
       "    }\n",
       "</style>\n",
       "<table border=\"1\" class=\"dataframe\">\n",
       "  <thead>\n",
       "    <tr style=\"text-align: right;\">\n",
       "      <th></th>\n",
       "      <th>education_id</th>\n",
       "      <th>education</th>\n",
       "    </tr>\n",
       "  </thead>\n",
       "  <tbody>\n",
       "    <tr>\n",
       "      <th>16972</th>\n",
       "      <td>1</td>\n",
       "      <td>среднее</td>\n",
       "    </tr>\n",
       "    <tr>\n",
       "      <th>3869</th>\n",
       "      <td>1</td>\n",
       "      <td>среднее</td>\n",
       "    </tr>\n",
       "    <tr>\n",
       "      <th>3871</th>\n",
       "      <td>1</td>\n",
       "      <td>среднее</td>\n",
       "    </tr>\n",
       "    <tr>\n",
       "      <th>3872</th>\n",
       "      <td>1</td>\n",
       "      <td>среднее</td>\n",
       "    </tr>\n",
       "    <tr>\n",
       "      <th>3873</th>\n",
       "      <td>1</td>\n",
       "      <td>среднее</td>\n",
       "    </tr>\n",
       "  </tbody>\n",
       "</table>\n",
       "</div>"
      ],
      "text/plain": [
       "       education_id education\n",
       "16972             1   среднее\n",
       "3869              1   среднее\n",
       "3871              1   среднее\n",
       "3872              1   среднее\n",
       "3873              1   среднее"
      ]
     },
     "metadata": {},
     "output_type": "display_data"
    },
    {
     "data": {
      "text/html": [
       "<div>\n",
       "<style scoped>\n",
       "    .dataframe tbody tr th:only-of-type {\n",
       "        vertical-align: middle;\n",
       "    }\n",
       "\n",
       "    .dataframe tbody tr th {\n",
       "        vertical-align: top;\n",
       "    }\n",
       "\n",
       "    .dataframe thead th {\n",
       "        text-align: right;\n",
       "    }\n",
       "</style>\n",
       "<table border=\"1\" class=\"dataframe\">\n",
       "  <thead>\n",
       "    <tr style=\"text-align: right;\">\n",
       "      <th></th>\n",
       "      <th>family_status_id</th>\n",
       "      <th>family_status</th>\n",
       "    </tr>\n",
       "  </thead>\n",
       "  <tbody>\n",
       "    <tr>\n",
       "      <th>16972</th>\n",
       "      <td>3</td>\n",
       "      <td>в разводе</td>\n",
       "    </tr>\n",
       "    <tr>\n",
       "      <th>3869</th>\n",
       "      <td>0</td>\n",
       "      <td>женат / замужем</td>\n",
       "    </tr>\n",
       "    <tr>\n",
       "      <th>3871</th>\n",
       "      <td>0</td>\n",
       "      <td>женат / замужем</td>\n",
       "    </tr>\n",
       "    <tr>\n",
       "      <th>3872</th>\n",
       "      <td>0</td>\n",
       "      <td>женат / замужем</td>\n",
       "    </tr>\n",
       "    <tr>\n",
       "      <th>3873</th>\n",
       "      <td>0</td>\n",
       "      <td>женат / замужем</td>\n",
       "    </tr>\n",
       "  </tbody>\n",
       "</table>\n",
       "</div>"
      ],
      "text/plain": [
       "       family_status_id    family_status\n",
       "16972                 3        в разводе\n",
       "3869                  0  женат / замужем\n",
       "3871                  0  женат / замужем\n",
       "3872                  0  женат / замужем\n",
       "3873                  0  женат / замужем"
      ]
     },
     "metadata": {},
     "output_type": "display_data"
    }
   ],
   "source": [
    "education_dict = df[['education_id', 'education']]\n",
    "family_status_dict = df[['family_status_id', 'family_status']]\n",
    "display(education_dict.head())\n",
    "display(family_status_dict.head())"
   ]
  },
  {
   "cell_type": "markdown",
   "id": "ddfe08c2",
   "metadata": {},
   "source": [
    "В «словарях» мы заметили большое количество не явных дубликатов. Их нужно будет удалить. Применим знакомую цепочку методов: `drop_duplicates()` и `reset_index()`.\n"
   ]
  },
  {
   "cell_type": "code",
   "execution_count": 26,
   "id": "693fd58b",
   "metadata": {},
   "outputs": [
    {
     "data": {
      "text/html": [
       "<div>\n",
       "<style scoped>\n",
       "    .dataframe tbody tr th:only-of-type {\n",
       "        vertical-align: middle;\n",
       "    }\n",
       "\n",
       "    .dataframe tbody tr th {\n",
       "        vertical-align: top;\n",
       "    }\n",
       "\n",
       "    .dataframe thead th {\n",
       "        text-align: right;\n",
       "    }\n",
       "</style>\n",
       "<table border=\"1\" class=\"dataframe\">\n",
       "  <thead>\n",
       "    <tr style=\"text-align: right;\">\n",
       "      <th></th>\n",
       "      <th>education_id</th>\n",
       "      <th>education</th>\n",
       "    </tr>\n",
       "  </thead>\n",
       "  <tbody>\n",
       "    <tr>\n",
       "      <th>0</th>\n",
       "      <td>1</td>\n",
       "      <td>среднее</td>\n",
       "    </tr>\n",
       "    <tr>\n",
       "      <th>1</th>\n",
       "      <td>2</td>\n",
       "      <td>неоконченное высшее</td>\n",
       "    </tr>\n",
       "    <tr>\n",
       "      <th>2</th>\n",
       "      <td>0</td>\n",
       "      <td>высшее</td>\n",
       "    </tr>\n",
       "    <tr>\n",
       "      <th>3</th>\n",
       "      <td>3</td>\n",
       "      <td>начальное</td>\n",
       "    </tr>\n",
       "    <tr>\n",
       "      <th>4</th>\n",
       "      <td>4</td>\n",
       "      <td>ученая степень</td>\n",
       "    </tr>\n",
       "  </tbody>\n",
       "</table>\n",
       "</div>"
      ],
      "text/plain": [
       "   education_id            education\n",
       "0             1              среднее\n",
       "1             2  неоконченное высшее\n",
       "2             0               высшее\n",
       "3             3            начальное\n",
       "4             4       ученая степень"
      ]
     },
     "metadata": {},
     "output_type": "display_data"
    },
    {
     "data": {
      "text/html": [
       "<div>\n",
       "<style scoped>\n",
       "    .dataframe tbody tr th:only-of-type {\n",
       "        vertical-align: middle;\n",
       "    }\n",
       "\n",
       "    .dataframe tbody tr th {\n",
       "        vertical-align: top;\n",
       "    }\n",
       "\n",
       "    .dataframe thead th {\n",
       "        text-align: right;\n",
       "    }\n",
       "</style>\n",
       "<table border=\"1\" class=\"dataframe\">\n",
       "  <thead>\n",
       "    <tr style=\"text-align: right;\">\n",
       "      <th></th>\n",
       "      <th>family_status_id</th>\n",
       "      <th>family_status</th>\n",
       "    </tr>\n",
       "  </thead>\n",
       "  <tbody>\n",
       "    <tr>\n",
       "      <th>0</th>\n",
       "      <td>3</td>\n",
       "      <td>в разводе</td>\n",
       "    </tr>\n",
       "    <tr>\n",
       "      <th>1</th>\n",
       "      <td>0</td>\n",
       "      <td>женат / замужем</td>\n",
       "    </tr>\n",
       "    <tr>\n",
       "      <th>2</th>\n",
       "      <td>4</td>\n",
       "      <td>не женат / не замужем</td>\n",
       "    </tr>\n",
       "    <tr>\n",
       "      <th>3</th>\n",
       "      <td>1</td>\n",
       "      <td>гражданский брак</td>\n",
       "    </tr>\n",
       "    <tr>\n",
       "      <th>4</th>\n",
       "      <td>2</td>\n",
       "      <td>вдовец / вдова</td>\n",
       "    </tr>\n",
       "  </tbody>\n",
       "</table>\n",
       "</div>"
      ],
      "text/plain": [
       "   family_status_id          family_status\n",
       "0                 3              в разводе\n",
       "1                 0        женат / замужем\n",
       "2                 4  не женат / не замужем\n",
       "3                 1       гражданский брак\n",
       "4                 2         вдовец / вдова"
      ]
     },
     "metadata": {},
     "output_type": "display_data"
    }
   ],
   "source": [
    "education_dict=education_dict.drop_duplicates().reset_index(drop=True) # удаление явных дубликатов (с удалением старых индексов и формированием новых)\n",
    "family_status_dict=family_status_dict.drop_duplicates().reset_index(drop=True) \n",
    "display(education_dict)\n",
    "display(family_status_dict)"
   ]
  },
  {
   "cell_type": "markdown",
   "id": "a95fbf0d",
   "metadata": {},
   "source": [
    "После удаления дубликатов представление данных с оценками id стало компактнее. Таблицу будет легче группировать по id."
   ]
  },
  {
   "cell_type": "markdown",
   "id": "55f655a9",
   "metadata": {},
   "source": [
    "Удалим из исходного датафрейма столбцы `education` и `family_status`, оставив только их идентификаторы: `education_id` и `family_status_id`. \n"
   ]
  },
  {
   "cell_type": "code",
   "execution_count": 27,
   "id": "ad8c67a3",
   "metadata": {},
   "outputs": [
    {
     "data": {
      "text/plain": [
       "Index(['children', 'days_employed', 'dob_years', 'education_id',\n",
       "       'family_status_id', 'gender', 'income_type', 'debt', 'total_income',\n",
       "       'purpose'],\n",
       "      dtype='object')"
      ]
     },
     "execution_count": 27,
     "metadata": {},
     "output_type": "execute_result"
    }
   ],
   "source": [
    "df = df.drop(['education', 'family_status'], axis = 1)\n",
    "df.columns # проверим какие остались столбцы"
   ]
  },
  {
   "cell_type": "markdown",
   "id": "f108ea75",
   "metadata": {},
   "source": [
    "### Шаг 2.6. Категоризация дохода."
   ]
  },
  {
   "cell_type": "markdown",
   "id": "f0d607bd",
   "metadata": {},
   "source": [
    "Категоризируем - столбец ежемесячный доход. Создадим столбец с группами `total_income_category`. Такую группу легче будет анализировать чем разрозненные данные.\n"
   ]
  },
  {
   "cell_type": "code",
   "execution_count": 28,
   "id": "ec730cbf",
   "metadata": {},
   "outputs": [
    {
     "data": {
      "text/html": [
       "<div>\n",
       "<style scoped>\n",
       "    .dataframe tbody tr th:only-of-type {\n",
       "        vertical-align: middle;\n",
       "    }\n",
       "\n",
       "    .dataframe tbody tr th {\n",
       "        vertical-align: top;\n",
       "    }\n",
       "\n",
       "    .dataframe thead th {\n",
       "        text-align: right;\n",
       "    }\n",
       "</style>\n",
       "<table border=\"1\" class=\"dataframe\">\n",
       "  <thead>\n",
       "    <tr style=\"text-align: right;\">\n",
       "      <th></th>\n",
       "      <th>children</th>\n",
       "      <th>days_employed</th>\n",
       "      <th>dob_years</th>\n",
       "      <th>education_id</th>\n",
       "      <th>family_status_id</th>\n",
       "      <th>gender</th>\n",
       "      <th>income_type</th>\n",
       "      <th>debt</th>\n",
       "      <th>total_income</th>\n",
       "      <th>purpose</th>\n",
       "      <th>total_income_category</th>\n",
       "    </tr>\n",
       "  </thead>\n",
       "  <tbody>\n",
       "    <tr>\n",
       "      <th>16972</th>\n",
       "      <td>1</td>\n",
       "      <td>5907</td>\n",
       "      <td>47</td>\n",
       "      <td>1</td>\n",
       "      <td>3</td>\n",
       "      <td>F</td>\n",
       "      <td>госслужащий</td>\n",
       "      <td>0</td>\n",
       "      <td>314656</td>\n",
       "      <td>операции с недвижимостью</td>\n",
       "      <td>B</td>\n",
       "    </tr>\n",
       "    <tr>\n",
       "      <th>3869</th>\n",
       "      <td>0</td>\n",
       "      <td>507</td>\n",
       "      <td>46</td>\n",
       "      <td>1</td>\n",
       "      <td>0</td>\n",
       "      <td>F</td>\n",
       "      <td>сотрудник</td>\n",
       "      <td>0</td>\n",
       "      <td>73986</td>\n",
       "      <td>строительство жилой недвижимости</td>\n",
       "      <td>D</td>\n",
       "    </tr>\n",
       "    <tr>\n",
       "      <th>3871</th>\n",
       "      <td>0</td>\n",
       "      <td>210</td>\n",
       "      <td>62</td>\n",
       "      <td>1</td>\n",
       "      <td>0</td>\n",
       "      <td>F</td>\n",
       "      <td>сотрудник</td>\n",
       "      <td>0</td>\n",
       "      <td>98635</td>\n",
       "      <td>образование</td>\n",
       "      <td>D</td>\n",
       "    </tr>\n",
       "    <tr>\n",
       "      <th>3872</th>\n",
       "      <td>0</td>\n",
       "      <td>369236</td>\n",
       "      <td>52</td>\n",
       "      <td>1</td>\n",
       "      <td>0</td>\n",
       "      <td>F</td>\n",
       "      <td>пенсионер</td>\n",
       "      <td>0</td>\n",
       "      <td>48975</td>\n",
       "      <td>покупка жилой недвижимости</td>\n",
       "      <td>E</td>\n",
       "    </tr>\n",
       "    <tr>\n",
       "      <th>3873</th>\n",
       "      <td>0</td>\n",
       "      <td>276</td>\n",
       "      <td>43</td>\n",
       "      <td>1</td>\n",
       "      <td>0</td>\n",
       "      <td>F</td>\n",
       "      <td>сотрудник</td>\n",
       "      <td>0</td>\n",
       "      <td>104862</td>\n",
       "      <td>получение высшего образования</td>\n",
       "      <td>C</td>\n",
       "    </tr>\n",
       "  </tbody>\n",
       "</table>\n",
       "</div>"
      ],
      "text/plain": [
       "       children  days_employed  dob_years  education_id  family_status_id  \\\n",
       "16972         1           5907         47             1                 3   \n",
       "3869          0            507         46             1                 0   \n",
       "3871          0            210         62             1                 0   \n",
       "3872          0         369236         52             1                 0   \n",
       "3873          0            276         43             1                 0   \n",
       "\n",
       "      gender  income_type  debt  total_income  \\\n",
       "16972      F  госслужащий     0        314656   \n",
       "3869       F    сотрудник     0         73986   \n",
       "3871       F    сотрудник     0         98635   \n",
       "3872       F    пенсионер     0         48975   \n",
       "3873       F    сотрудник     0        104862   \n",
       "\n",
       "                                purpose total_income_category  \n",
       "16972          операции с недвижимостью                     B  \n",
       "3869   строительство жилой недвижимости                     D  \n",
       "3871                        образование                     D  \n",
       "3872         покупка жилой недвижимости                     E  \n",
       "3873      получение высшего образования                     C  "
      ]
     },
     "metadata": {},
     "output_type": "display_data"
    }
   ],
   "source": [
    "def total_income_category(income):\n",
    "    if income <=30000:\n",
    "        i = 'F'\n",
    "    elif income >30000 and income<=50000:\n",
    "        i = 'E'\n",
    "    elif income >50000 and income<=100000:\n",
    "        i = 'D'\n",
    "    elif income >100000 and income<=200000:\n",
    "        i = 'C'        \n",
    "    elif income >200000 and income<=1000000:\n",
    "        i = 'B'\n",
    "    else:\n",
    "        i = 'A'\n",
    "    return i\n",
    "\n",
    "df['total_income_category']= df['total_income'].apply(total_income_category)\n",
    "display(df.head())"
   ]
  },
  {
   "cell_type": "markdown",
   "id": "a52ef9ee",
   "metadata": {},
   "source": [
    "### Шаг 2.7. Категоризация целей кредита."
   ]
  },
  {
   "cell_type": "markdown",
   "id": "9cc1277e",
   "metadata": {},
   "source": [
    "Категоризируем цели кредита. Создадим 4 основных категории и 5-ю \"Другое\" для проверки. Запишем их в новый столбец `purpose_category`"
   ]
  },
  {
   "cell_type": "code",
   "execution_count": 29,
   "id": "a0273506",
   "metadata": {},
   "outputs": [
    {
     "name": "stdout",
     "output_type": "stream",
     "text": [
      "['автомобили' 'автомобиль' 'высшее образование'\n",
      " 'дополнительное образование' 'жилье' 'заняться высшим образованием'\n",
      " 'заняться образованием' 'на покупку автомобиля'\n",
      " 'на покупку подержанного автомобиля' 'на покупку своего автомобиля'\n",
      " 'на проведение свадьбы' 'недвижимость' 'образование' 'операции с жильем'\n",
      " 'операции с коммерческой недвижимостью' 'операции с недвижимостью'\n",
      " 'операции со своей недвижимостью' 'покупка жилой недвижимости'\n",
      " 'покупка жилья' 'покупка жилья для сдачи' 'покупка жилья для семьи'\n",
      " 'покупка коммерческой недвижимости' 'покупка недвижимости'\n",
      " 'покупка своего жилья' 'получение высшего образования'\n",
      " 'получение дополнительного образования' 'получение образования'\n",
      " 'приобретение автомобиля' 'профильное образование' 'ремонт жилью'\n",
      " 'свадьба' 'свой автомобиль' 'сделка с автомобилем'\n",
      " 'сделка с подержанным автомобилем' 'строительство жилой недвижимости'\n",
      " 'строительство недвижимости' 'строительство собственной недвижимости'\n",
      " 'сыграть свадьбу']\n"
     ]
    }
   ],
   "source": [
    "df = df.sort_values(by='purpose')\n",
    "print(df['purpose'].unique()) # Просмотр уникальных названий цели кредита"
   ]
  },
  {
   "cell_type": "code",
   "execution_count": 30,
   "id": "69492268",
   "metadata": {},
   "outputs": [
    {
     "data": {
      "text/html": [
       "<div>\n",
       "<style scoped>\n",
       "    .dataframe tbody tr th:only-of-type {\n",
       "        vertical-align: middle;\n",
       "    }\n",
       "\n",
       "    .dataframe tbody tr th {\n",
       "        vertical-align: top;\n",
       "    }\n",
       "\n",
       "    .dataframe thead th {\n",
       "        text-align: right;\n",
       "    }\n",
       "</style>\n",
       "<table border=\"1\" class=\"dataframe\">\n",
       "  <thead>\n",
       "    <tr style=\"text-align: right;\">\n",
       "      <th></th>\n",
       "      <th>children</th>\n",
       "      <th>days_employed</th>\n",
       "      <th>dob_years</th>\n",
       "      <th>education_id</th>\n",
       "      <th>family_status_id</th>\n",
       "      <th>gender</th>\n",
       "      <th>income_type</th>\n",
       "      <th>debt</th>\n",
       "      <th>total_income</th>\n",
       "      <th>purpose</th>\n",
       "      <th>total_income_category</th>\n",
       "      <th>purpose_category</th>\n",
       "    </tr>\n",
       "  </thead>\n",
       "  <tbody>\n",
       "    <tr>\n",
       "      <th>2367</th>\n",
       "      <td>0</td>\n",
       "      <td>339396</td>\n",
       "      <td>64</td>\n",
       "      <td>0</td>\n",
       "      <td>0</td>\n",
       "      <td>F</td>\n",
       "      <td>пенсионер</td>\n",
       "      <td>0</td>\n",
       "      <td>132186</td>\n",
       "      <td>автомобили</td>\n",
       "      <td>C</td>\n",
       "      <td>операции с автомобилем</td>\n",
       "    </tr>\n",
       "    <tr>\n",
       "      <th>379</th>\n",
       "      <td>0</td>\n",
       "      <td>458</td>\n",
       "      <td>21</td>\n",
       "      <td>1</td>\n",
       "      <td>4</td>\n",
       "      <td>F</td>\n",
       "      <td>сотрудник</td>\n",
       "      <td>0</td>\n",
       "      <td>89727</td>\n",
       "      <td>автомобили</td>\n",
       "      <td>D</td>\n",
       "      <td>операции с автомобилем</td>\n",
       "    </tr>\n",
       "    <tr>\n",
       "      <th>824</th>\n",
       "      <td>0</td>\n",
       "      <td>3867</td>\n",
       "      <td>53</td>\n",
       "      <td>1</td>\n",
       "      <td>0</td>\n",
       "      <td>F</td>\n",
       "      <td>сотрудник</td>\n",
       "      <td>0</td>\n",
       "      <td>211179</td>\n",
       "      <td>автомобили</td>\n",
       "      <td>B</td>\n",
       "      <td>операции с автомобилем</td>\n",
       "    </tr>\n",
       "    <tr>\n",
       "      <th>2363</th>\n",
       "      <td>0</td>\n",
       "      <td>401291</td>\n",
       "      <td>57</td>\n",
       "      <td>1</td>\n",
       "      <td>0</td>\n",
       "      <td>F</td>\n",
       "      <td>пенсионер</td>\n",
       "      <td>0</td>\n",
       "      <td>276693</td>\n",
       "      <td>автомобили</td>\n",
       "      <td>B</td>\n",
       "      <td>операции с автомобилем</td>\n",
       "    </tr>\n",
       "    <tr>\n",
       "      <th>1192</th>\n",
       "      <td>0</td>\n",
       "      <td>574</td>\n",
       "      <td>40</td>\n",
       "      <td>1</td>\n",
       "      <td>0</td>\n",
       "      <td>F</td>\n",
       "      <td>сотрудник</td>\n",
       "      <td>0</td>\n",
       "      <td>161158</td>\n",
       "      <td>автомобили</td>\n",
       "      <td>C</td>\n",
       "      <td>операции с автомобилем</td>\n",
       "    </tr>\n",
       "  </tbody>\n",
       "</table>\n",
       "</div>"
      ],
      "text/plain": [
       "      children  days_employed  dob_years  education_id  family_status_id  \\\n",
       "2367         0         339396         64             0                 0   \n",
       "379          0            458         21             1                 4   \n",
       "824          0           3867         53             1                 0   \n",
       "2363         0         401291         57             1                 0   \n",
       "1192         0            574         40             1                 0   \n",
       "\n",
       "     gender income_type  debt  total_income     purpose total_income_category  \\\n",
       "2367      F   пенсионер     0        132186  автомобили                     C   \n",
       "379       F   сотрудник     0         89727  автомобили                     D   \n",
       "824       F   сотрудник     0        211179  автомобили                     B   \n",
       "2363      F   пенсионер     0        276693  автомобили                     B   \n",
       "1192      F   сотрудник     0        161158  автомобили                     C   \n",
       "\n",
       "            purpose_category  \n",
       "2367  операции с автомобилем  \n",
       "379   операции с автомобилем  \n",
       "824   операции с автомобилем  \n",
       "2363  операции с автомобилем  \n",
       "1192  операции с автомобилем  "
      ]
     },
     "metadata": {},
     "output_type": "display_data"
    }
   ],
   "source": [
    "def purpose_category(purpose):\n",
    "    if purpose.__contains__('автом'):\n",
    "        p = 'операции с автомобилем'\n",
    "    elif purpose.__contains__('недвиж'):\n",
    "        p = 'операции с недвижимостью'\n",
    "    elif purpose.__contains__('свадьб'):\n",
    "        p = 'проведение свадьбы' \n",
    "    elif purpose.__contains__('образов'):\n",
    "        p = 'получение образования'\n",
    "    else:\n",
    "        p = 'Другое'\n",
    "    return p\n",
    "\n",
    "df['purpose_category']=df['purpose'].apply(purpose_category)\n",
    "display(df.head())"
   ]
  },
  {
   "cell_type": "markdown",
   "id": "19f39333",
   "metadata": {},
   "source": [
    "Проверим какие категории получились. Возможно у нас прописалась категория \"Другое\""
   ]
  },
  {
   "cell_type": "code",
   "execution_count": 31,
   "id": "0942c418",
   "metadata": {},
   "outputs": [
    {
     "name": "stdout",
     "output_type": "stream",
     "text": [
      "['операции с автомобилем' 'получение образования' 'Другое'\n",
      " 'проведение свадьбы' 'операции с недвижимостью']\n"
     ]
    }
   ],
   "source": [
    "print(df['purpose_category'].unique()) # Просмотр уникальных названий категории цели кредита"
   ]
  },
  {
   "cell_type": "markdown",
   "id": "cc95c593",
   "metadata": {},
   "source": [
    "В категорию `Другое` прописалась цель, которую мы не заметили при создании функции. Проверим эту цель."
   ]
  },
  {
   "cell_type": "code",
   "execution_count": 32,
   "id": "4a6896c2",
   "metadata": {},
   "outputs": [
    {
     "data": {
      "text/html": [
       "<div>\n",
       "<style scoped>\n",
       "    .dataframe tbody tr th:only-of-type {\n",
       "        vertical-align: middle;\n",
       "    }\n",
       "\n",
       "    .dataframe tbody tr th {\n",
       "        vertical-align: top;\n",
       "    }\n",
       "\n",
       "    .dataframe thead th {\n",
       "        text-align: right;\n",
       "    }\n",
       "</style>\n",
       "<table border=\"1\" class=\"dataframe\">\n",
       "  <thead>\n",
       "    <tr style=\"text-align: right;\">\n",
       "      <th></th>\n",
       "      <th>purpose_category</th>\n",
       "      <th>purpose</th>\n",
       "    </tr>\n",
       "  </thead>\n",
       "  <tbody>\n",
       "    <tr>\n",
       "      <th>4243</th>\n",
       "      <td>Другое</td>\n",
       "      <td>жилье</td>\n",
       "    </tr>\n",
       "    <tr>\n",
       "      <th>8335</th>\n",
       "      <td>Другое</td>\n",
       "      <td>жилье</td>\n",
       "    </tr>\n",
       "    <tr>\n",
       "      <th>5414</th>\n",
       "      <td>Другое</td>\n",
       "      <td>жилье</td>\n",
       "    </tr>\n",
       "    <tr>\n",
       "      <th>5408</th>\n",
       "      <td>Другое</td>\n",
       "      <td>жилье</td>\n",
       "    </tr>\n",
       "    <tr>\n",
       "      <th>18433</th>\n",
       "      <td>Другое</td>\n",
       "      <td>жилье</td>\n",
       "    </tr>\n",
       "  </tbody>\n",
       "</table>\n",
       "</div>"
      ],
      "text/plain": [
       "      purpose_category purpose\n",
       "4243            Другое   жилье\n",
       "8335            Другое   жилье\n",
       "5414            Другое   жилье\n",
       "5408            Другое   жилье\n",
       "18433           Другое   жилье"
      ]
     },
     "metadata": {},
     "output_type": "display_data"
    }
   ],
   "source": [
    "df_1 = df[df['purpose_category'] == 'Другое']\n",
    "display(df_1[['purpose_category', 'purpose']].head(5))"
   ]
  },
  {
   "cell_type": "markdown",
   "id": "a780a35d",
   "metadata": {},
   "source": [
    "Перезапишем код, чтобы удалить данные из категории \"Другое\""
   ]
  },
  {
   "cell_type": "code",
   "execution_count": 33,
   "id": "1f26e254",
   "metadata": {},
   "outputs": [
    {
     "name": "stdout",
     "output_type": "stream",
     "text": [
      "['операции с автомобилем' 'получение образования'\n",
      " 'операции с недвижимостью' 'проведение свадьбы']\n",
      "_______________________________________________________________________________\n",
      "Index(['children', 'days_employed', 'dob_years', 'education_id',\n",
      "       'family_status_id', 'gender', 'income_type', 'debt', 'total_income',\n",
      "       'purpose', 'total_income_category', 'purpose_category'],\n",
      "      dtype='object')\n"
     ]
    }
   ],
   "source": [
    "def purpose_category(purpose):\n",
    "    if purpose.__contains__('автом'):\n",
    "        p = 'операции с автомобилем'\n",
    "    elif purpose.__contains__('недвиж') or purpose.__contains__('жил'): # добавим проверку на содержание 'жил'\n",
    "        p = 'операции с недвижимостью'\n",
    "    elif purpose.__contains__('свадьб'):\n",
    "        p = 'проведение свадьбы' \n",
    "    elif purpose.__contains__('образов'):\n",
    "        p = 'получение образования'\n",
    "    else:\n",
    "        p = 'Другое'\n",
    "    return p\n",
    "df['purpose_category']=df['purpose'].apply(purpose_category)\n",
    "print(df['purpose_category'].unique()) # Просмотр уникальных названий категории цели кредита\n",
    "print ('_______________________________________________________________________________')\n",
    "print (df.columns) #проверим новые столбцы"
   ]
  },
  {
   "cell_type": "markdown",
   "id": "aebe3458",
   "metadata": {},
   "source": [
    "Теперь все как надо - выделили 4 категории в целях кредита.\n",
    "\n",
    "К датасету прибавиись новые колонки с категориями: `total_income_category` и `purpose_category`."
   ]
  },
  {
   "cell_type": "markdown",
   "id": "11ad20b4",
   "metadata": {},
   "source": [
    "**Выводы**\n",
    "\n",
    "Предобработка обнаружила проблемы в данных:\n",
    "\n",
    "- пропуски в данных - заполнили медианным значением\n",
    "- отрицательные значения - привели к абсолютным\n",
    "- аномально высокие значения - исправили\n",
    "- столбцы с трудовым стажем и доходом имели вещественный тип данных - поменяли на целочисленный\n",
    "- удалили явные дубликаты (71 строка)\n",
    "- выявили и исправили не явные дубликаты\n",
    "\n",
    "Дополнительно создали 2 словаря с групипровкой по ID для семейного положения и уровня образования\n",
    "Провели категоризацию столбцов с ежемесячным доходом и целями на кредит. \n",
    "\n",
    "Теперь можно перейти к ответам на вопросы заказчика."
   ]
  },
  {
   "cell_type": "markdown",
   "id": "38f62536",
   "metadata": {},
   "source": [
    "### Ответы на вопросы."
   ]
  },
  {
   "cell_type": "markdown",
   "id": "26f4cd6d",
   "metadata": {},
   "source": [
    "#### Вопрос 1:\n",
    "\tНеобходимо проверить зависимость между количеством детей и возвратом кредита в срок.\n"
   ]
  },
  {
   "cell_type": "markdown",
   "id": "9268a22b",
   "metadata": {},
   "source": [
    "Создадим сводную таблицу с группировкой по количеству детей. \n",
    "В значения поместим данные по количеству клиентов с задолженностью, где\n",
    "```\n",
    "0 - не было задолженности по кредиту\n",
    "1 - имелась задолженность по кредиту\n",
    "```"
   ]
  },
  {
   "cell_type": "code",
   "execution_count": 34,
   "id": "b1a85c59",
   "metadata": {},
   "outputs": [
    {
     "data": {
      "text/html": [
       "<div>\n",
       "<style scoped>\n",
       "    .dataframe tbody tr th:only-of-type {\n",
       "        vertical-align: middle;\n",
       "    }\n",
       "\n",
       "    .dataframe tbody tr th {\n",
       "        vertical-align: top;\n",
       "    }\n",
       "\n",
       "    .dataframe thead th {\n",
       "        text-align: right;\n",
       "    }\n",
       "</style>\n",
       "<table border=\"1\" class=\"dataframe\">\n",
       "  <thead>\n",
       "    <tr style=\"text-align: right;\">\n",
       "      <th>debt</th>\n",
       "      <th>0</th>\n",
       "      <th>1</th>\n",
       "    </tr>\n",
       "    <tr>\n",
       "      <th>children</th>\n",
       "      <th></th>\n",
       "      <th></th>\n",
       "    </tr>\n",
       "  </thead>\n",
       "  <tbody>\n",
       "    <tr>\n",
       "      <th>0</th>\n",
       "      <td>13028.0</td>\n",
       "      <td>1063.0</td>\n",
       "    </tr>\n",
       "    <tr>\n",
       "      <th>1</th>\n",
       "      <td>4410.0</td>\n",
       "      <td>445.0</td>\n",
       "    </tr>\n",
       "    <tr>\n",
       "      <th>2</th>\n",
       "      <td>1926.0</td>\n",
       "      <td>202.0</td>\n",
       "    </tr>\n",
       "    <tr>\n",
       "      <th>3</th>\n",
       "      <td>303.0</td>\n",
       "      <td>27.0</td>\n",
       "    </tr>\n",
       "    <tr>\n",
       "      <th>4</th>\n",
       "      <td>37.0</td>\n",
       "      <td>4.0</td>\n",
       "    </tr>\n",
       "    <tr>\n",
       "      <th>5</th>\n",
       "      <td>9.0</td>\n",
       "      <td>NaN</td>\n",
       "    </tr>\n",
       "  </tbody>\n",
       "</table>\n",
       "</div>"
      ],
      "text/plain": [
       "debt            0       1\n",
       "children                 \n",
       "0         13028.0  1063.0\n",
       "1          4410.0   445.0\n",
       "2          1926.0   202.0\n",
       "3           303.0    27.0\n",
       "4            37.0     4.0\n",
       "5             9.0     NaN"
      ]
     },
     "execution_count": 34,
     "metadata": {},
     "output_type": "execute_result"
    }
   ],
   "source": [
    "df_pivot = df.pivot_table(index=['children'], columns='debt', values='family_status_id', aggfunc='count')\n",
    "df_pivot"
   ]
  },
  {
   "cell_type": "markdown",
   "id": "cc7ad532",
   "metadata": {},
   "source": [
    "По данным из сводной таблицы создадим новый датафрейм для удобства проведения расчетов. "
   ]
  },
  {
   "cell_type": "code",
   "execution_count": 35,
   "id": "e63b7e3b",
   "metadata": {
    "scrolled": true
   },
   "outputs": [
    {
     "data": {
      "text/html": [
       "<div>\n",
       "<style scoped>\n",
       "    .dataframe tbody tr th:only-of-type {\n",
       "        vertical-align: middle;\n",
       "    }\n",
       "\n",
       "    .dataframe tbody tr th {\n",
       "        vertical-align: top;\n",
       "    }\n",
       "\n",
       "    .dataframe thead th {\n",
       "        text-align: right;\n",
       "    }\n",
       "</style>\n",
       "<table border=\"1\" class=\"dataframe\">\n",
       "  <thead>\n",
       "    <tr style=\"text-align: right;\">\n",
       "      <th></th>\n",
       "      <th>children</th>\n",
       "      <th>dept_0</th>\n",
       "      <th>dept_1</th>\n",
       "    </tr>\n",
       "  </thead>\n",
       "  <tbody>\n",
       "    <tr>\n",
       "      <th>0</th>\n",
       "      <td>0</td>\n",
       "      <td>13028</td>\n",
       "      <td>1063</td>\n",
       "    </tr>\n",
       "    <tr>\n",
       "      <th>1</th>\n",
       "      <td>1</td>\n",
       "      <td>4410</td>\n",
       "      <td>445</td>\n",
       "    </tr>\n",
       "    <tr>\n",
       "      <th>2</th>\n",
       "      <td>2</td>\n",
       "      <td>1926</td>\n",
       "      <td>202</td>\n",
       "    </tr>\n",
       "    <tr>\n",
       "      <th>3</th>\n",
       "      <td>3</td>\n",
       "      <td>303</td>\n",
       "      <td>27</td>\n",
       "    </tr>\n",
       "    <tr>\n",
       "      <th>4</th>\n",
       "      <td>4</td>\n",
       "      <td>37</td>\n",
       "      <td>4</td>\n",
       "    </tr>\n",
       "    <tr>\n",
       "      <th>5</th>\n",
       "      <td>5</td>\n",
       "      <td>9</td>\n",
       "      <td>0</td>\n",
       "    </tr>\n",
       "  </tbody>\n",
       "</table>\n",
       "</div>"
      ],
      "text/plain": [
       "   children  dept_0  dept_1\n",
       "0         0   13028    1063\n",
       "1         1    4410     445\n",
       "2         2    1926     202\n",
       "3         3     303      27\n",
       "4         4      37       4\n",
       "5         5       9       0"
      ]
     },
     "execution_count": 35,
     "metadata": {},
     "output_type": "execute_result"
    }
   ],
   "source": [
    "debt_ = {'children':[0, 1, 2, 3, 4, 5],\n",
    "         'dept_0':[13028, 4410, 1926, 303, 37, 9],\n",
    "         'dept_1':[1063, 445, 202, 27, 4, 0]\n",
    "        }\n",
    "df_debt = pd.DataFrame(debt_)\n",
    "df_debt"
   ]
  },
  {
   "cell_type": "markdown",
   "id": "92e924ad",
   "metadata": {},
   "source": [
    "Расчитаем долю клиентов не возвративших кредит в срок от общего количества клиентов. \n",
    "Используем новую функцию `debt_ratio`, которую, далее, будем использовать для анализа влияния других факторов."
   ]
  },
  {
   "cell_type": "code",
   "execution_count": 36,
   "id": "42671dc8",
   "metadata": {},
   "outputs": [
    {
     "data": {
      "text/html": [
       "<div>\n",
       "<style scoped>\n",
       "    .dataframe tbody tr th:only-of-type {\n",
       "        vertical-align: middle;\n",
       "    }\n",
       "\n",
       "    .dataframe tbody tr th {\n",
       "        vertical-align: top;\n",
       "    }\n",
       "\n",
       "    .dataframe thead th {\n",
       "        text-align: right;\n",
       "    }\n",
       "</style>\n",
       "<table border=\"1\" class=\"dataframe\">\n",
       "  <thead>\n",
       "    <tr style=\"text-align: right;\">\n",
       "      <th></th>\n",
       "      <th>children</th>\n",
       "      <th>dept_0</th>\n",
       "      <th>dept_1</th>\n",
       "      <th>debt_ratio,%</th>\n",
       "    </tr>\n",
       "  </thead>\n",
       "  <tbody>\n",
       "    <tr>\n",
       "      <th>0</th>\n",
       "      <td>0</td>\n",
       "      <td>13028</td>\n",
       "      <td>1063</td>\n",
       "      <td>7.5</td>\n",
       "    </tr>\n",
       "    <tr>\n",
       "      <th>1</th>\n",
       "      <td>1</td>\n",
       "      <td>4410</td>\n",
       "      <td>445</td>\n",
       "      <td>9.2</td>\n",
       "    </tr>\n",
       "    <tr>\n",
       "      <th>2</th>\n",
       "      <td>2</td>\n",
       "      <td>1926</td>\n",
       "      <td>202</td>\n",
       "      <td>9.5</td>\n",
       "    </tr>\n",
       "    <tr>\n",
       "      <th>3</th>\n",
       "      <td>3</td>\n",
       "      <td>303</td>\n",
       "      <td>27</td>\n",
       "      <td>8.2</td>\n",
       "    </tr>\n",
       "    <tr>\n",
       "      <th>4</th>\n",
       "      <td>4</td>\n",
       "      <td>37</td>\n",
       "      <td>4</td>\n",
       "      <td>9.8</td>\n",
       "    </tr>\n",
       "    <tr>\n",
       "      <th>5</th>\n",
       "      <td>5</td>\n",
       "      <td>9</td>\n",
       "      <td>0</td>\n",
       "      <td>0.0</td>\n",
       "    </tr>\n",
       "  </tbody>\n",
       "</table>\n",
       "</div>"
      ],
      "text/plain": [
       "   children  dept_0  dept_1  debt_ratio,%\n",
       "0         0   13028    1063           7.5\n",
       "1         1    4410     445           9.2\n",
       "2         2    1926     202           9.5\n",
       "3         3     303      27           8.2\n",
       "4         4      37       4           9.8\n",
       "5         5       9       0           0.0"
      ]
     },
     "execution_count": 36,
     "metadata": {},
     "output_type": "execute_result"
    }
   ],
   "source": [
    "def debt_ratio(row):\n",
    "    d = (row['dept_1']/(row['dept_0']+row['dept_1'])*100).round(1)\n",
    "    return d\n",
    "\n",
    "df_debt['debt_ratio,%']=df_debt.apply(debt_ratio, axis=1) # запишем новый столбец с долей неплательщиков\n",
    "df_debt"
   ]
  },
  {
   "cell_type": "markdown",
   "id": "c0756dae",
   "metadata": {},
   "source": [
    "**Вывод**\n",
    "\n",
    "Если сравнить клиентов с разным количеством детей (от 1го до 5) и клиентов без детей, можно сделать следующие выводы:\n",
    "1. Клиенты без детей имеют высокую платежеспособность. Доля клиентов с задолженностью составляет всего 7,5%.\n",
    "2. Наибольшая доля невозврата кредитов у клиентов имеющих одного, двух или четырех детей. Она составляет более 9%. \n",
    "3. Результат по клиентам с 5-ю детьми можно не учитывать в итоговом выводе. Их количество в выборке ничтожно мало (менее 0,1%).\n",
    "\n",
    "Таким образом, можно сделать вывод, что клиенты без детей чаще возвращают кредиты, чем клиенты с детьми. \n",
    "\n",
    "Есть гипотезы, которые нужно дополнительнро проверять, а также учитывать в модели скорринга другие факторы (возраст, доход, семейное положение и т.д.).\n",
    "\n",
    "Гипотезы:\n",
    "Вероятно среди клиентов с детьми есть родители одиночки, которые имеют низкий доход на семью. Либо, как мы видели в начале анализа, более 25% выборки - это люди старше 53 лет. Часть из них не работающие пенсионеры. Скорее всего у большинства из них взрослые дети которые совместно с ними не проживают. \n",
    "Считаю, что при учете этого фактора для модели скорринга нужно дополнительно проверять семейное положение и другие факторы. "
   ]
  },
  {
   "cell_type": "markdown",
   "id": "dae9c073",
   "metadata": {},
   "source": [
    "#### Вопрос 2:"
   ]
  },
  {
   "cell_type": "markdown",
   "id": "4cdc23c5",
   "metadata": {},
   "source": [
    "Необходимо оценить зависимость между семейным положением и возвратом кредита в срок.\n"
   ]
  },
  {
   "cell_type": "code",
   "execution_count": 37,
   "id": "d5c3de8f",
   "metadata": {},
   "outputs": [
    {
     "data": {
      "text/html": [
       "<div>\n",
       "<style scoped>\n",
       "    .dataframe tbody tr th:only-of-type {\n",
       "        vertical-align: middle;\n",
       "    }\n",
       "\n",
       "    .dataframe tbody tr th {\n",
       "        vertical-align: top;\n",
       "    }\n",
       "\n",
       "    .dataframe thead th {\n",
       "        text-align: right;\n",
       "    }\n",
       "</style>\n",
       "<table border=\"1\" class=\"dataframe\">\n",
       "  <thead>\n",
       "    <tr style=\"text-align: right;\">\n",
       "      <th>debt</th>\n",
       "      <th>0</th>\n",
       "      <th>1</th>\n",
       "    </tr>\n",
       "    <tr>\n",
       "      <th>family_status_id</th>\n",
       "      <th></th>\n",
       "      <th></th>\n",
       "    </tr>\n",
       "  </thead>\n",
       "  <tbody>\n",
       "    <tr>\n",
       "      <th>0</th>\n",
       "      <td>11408</td>\n",
       "      <td>931</td>\n",
       "    </tr>\n",
       "    <tr>\n",
       "      <th>1</th>\n",
       "      <td>3763</td>\n",
       "      <td>388</td>\n",
       "    </tr>\n",
       "    <tr>\n",
       "      <th>2</th>\n",
       "      <td>896</td>\n",
       "      <td>63</td>\n",
       "    </tr>\n",
       "    <tr>\n",
       "      <th>3</th>\n",
       "      <td>1110</td>\n",
       "      <td>85</td>\n",
       "    </tr>\n",
       "    <tr>\n",
       "      <th>4</th>\n",
       "      <td>2536</td>\n",
       "      <td>274</td>\n",
       "    </tr>\n",
       "  </tbody>\n",
       "</table>\n",
       "</div>"
      ],
      "text/plain": [
       "debt                  0    1\n",
       "family_status_id            \n",
       "0                 11408  931\n",
       "1                  3763  388\n",
       "2                   896   63\n",
       "3                  1110   85\n",
       "4                  2536  274"
      ]
     },
     "execution_count": 37,
     "metadata": {},
     "output_type": "execute_result"
    }
   ],
   "source": [
    "df_pivot = df.pivot_table(index=['family_status_id'], columns='debt', values='education_id', aggfunc='count')\n",
    "df_pivot"
   ]
  },
  {
   "cell_type": "code",
   "execution_count": 38,
   "id": "25f87177",
   "metadata": {},
   "outputs": [
    {
     "data": {
      "text/html": [
       "<div>\n",
       "<style scoped>\n",
       "    .dataframe tbody tr th:only-of-type {\n",
       "        vertical-align: middle;\n",
       "    }\n",
       "\n",
       "    .dataframe tbody tr th {\n",
       "        vertical-align: top;\n",
       "    }\n",
       "\n",
       "    .dataframe thead th {\n",
       "        text-align: right;\n",
       "    }\n",
       "</style>\n",
       "<table border=\"1\" class=\"dataframe\">\n",
       "  <thead>\n",
       "    <tr style=\"text-align: right;\">\n",
       "      <th></th>\n",
       "      <th>family_status_id</th>\n",
       "      <th>dept_0</th>\n",
       "      <th>dept_1</th>\n",
       "    </tr>\n",
       "  </thead>\n",
       "  <tbody>\n",
       "    <tr>\n",
       "      <th>0</th>\n",
       "      <td>0</td>\n",
       "      <td>11408</td>\n",
       "      <td>931</td>\n",
       "    </tr>\n",
       "    <tr>\n",
       "      <th>1</th>\n",
       "      <td>1</td>\n",
       "      <td>3763</td>\n",
       "      <td>388</td>\n",
       "    </tr>\n",
       "    <tr>\n",
       "      <th>2</th>\n",
       "      <td>2</td>\n",
       "      <td>896</td>\n",
       "      <td>63</td>\n",
       "    </tr>\n",
       "    <tr>\n",
       "      <th>3</th>\n",
       "      <td>3</td>\n",
       "      <td>1110</td>\n",
       "      <td>85</td>\n",
       "    </tr>\n",
       "    <tr>\n",
       "      <th>4</th>\n",
       "      <td>4</td>\n",
       "      <td>2536</td>\n",
       "      <td>274</td>\n",
       "    </tr>\n",
       "  </tbody>\n",
       "</table>\n",
       "</div>"
      ],
      "text/plain": [
       "   family_status_id  dept_0  dept_1\n",
       "0                 0   11408     931\n",
       "1                 1    3763     388\n",
       "2                 2     896      63\n",
       "3                 3    1110      85\n",
       "4                 4    2536     274"
      ]
     },
     "execution_count": 38,
     "metadata": {},
     "output_type": "execute_result"
    }
   ],
   "source": [
    "debt_ = {'family_status_id':[0, 1, 2, 3, 4],\n",
    "         'dept_0':[11408, 3763, 896, 1110, 2536],\n",
    "         'dept_1':[931, 388, 63, 85, 274]\n",
    "        }\n",
    "df_debt = pd.DataFrame(debt_)\n",
    "df_debt"
   ]
  },
  {
   "cell_type": "code",
   "execution_count": 39,
   "id": "07bd9504",
   "metadata": {},
   "outputs": [
    {
     "data": {
      "text/html": [
       "<div>\n",
       "<style scoped>\n",
       "    .dataframe tbody tr th:only-of-type {\n",
       "        vertical-align: middle;\n",
       "    }\n",
       "\n",
       "    .dataframe tbody tr th {\n",
       "        vertical-align: top;\n",
       "    }\n",
       "\n",
       "    .dataframe thead th {\n",
       "        text-align: right;\n",
       "    }\n",
       "</style>\n",
       "<table border=\"1\" class=\"dataframe\">\n",
       "  <thead>\n",
       "    <tr style=\"text-align: right;\">\n",
       "      <th></th>\n",
       "      <th>family_status_id</th>\n",
       "      <th>dept_0</th>\n",
       "      <th>dept_1</th>\n",
       "      <th>debt_ratio,%</th>\n",
       "    </tr>\n",
       "  </thead>\n",
       "  <tbody>\n",
       "    <tr>\n",
       "      <th>0</th>\n",
       "      <td>0</td>\n",
       "      <td>11408</td>\n",
       "      <td>931</td>\n",
       "      <td>7.5</td>\n",
       "    </tr>\n",
       "    <tr>\n",
       "      <th>1</th>\n",
       "      <td>1</td>\n",
       "      <td>3763</td>\n",
       "      <td>388</td>\n",
       "      <td>9.3</td>\n",
       "    </tr>\n",
       "    <tr>\n",
       "      <th>2</th>\n",
       "      <td>2</td>\n",
       "      <td>896</td>\n",
       "      <td>63</td>\n",
       "      <td>6.6</td>\n",
       "    </tr>\n",
       "    <tr>\n",
       "      <th>3</th>\n",
       "      <td>3</td>\n",
       "      <td>1110</td>\n",
       "      <td>85</td>\n",
       "      <td>7.1</td>\n",
       "    </tr>\n",
       "    <tr>\n",
       "      <th>4</th>\n",
       "      <td>4</td>\n",
       "      <td>2536</td>\n",
       "      <td>274</td>\n",
       "      <td>9.8</td>\n",
       "    </tr>\n",
       "  </tbody>\n",
       "</table>\n",
       "</div>"
      ],
      "text/plain": [
       "   family_status_id  dept_0  dept_1  debt_ratio,%\n",
       "0                 0   11408     931           7.5\n",
       "1                 1    3763     388           9.3\n",
       "2                 2     896      63           6.6\n",
       "3                 3    1110      85           7.1\n",
       "4                 4    2536     274           9.8"
      ]
     },
     "execution_count": 39,
     "metadata": {},
     "output_type": "execute_result"
    }
   ],
   "source": [
    "def debt_ratio(row):\n",
    "    d = (row['dept_1']/(row['dept_0']+row['dept_1'])*100).round(1)\n",
    "    return d\n",
    "\n",
    "df_debt['debt_ratio,%']=df_debt.apply(debt_ratio, axis=1)\n",
    "df_debt"
   ]
  },
  {
   "cell_type": "code",
   "execution_count": 40,
   "id": "e2a7ceb4",
   "metadata": {},
   "outputs": [
    {
     "data": {
      "text/html": [
       "<div>\n",
       "<style scoped>\n",
       "    .dataframe tbody tr th:only-of-type {\n",
       "        vertical-align: middle;\n",
       "    }\n",
       "\n",
       "    .dataframe tbody tr th {\n",
       "        vertical-align: top;\n",
       "    }\n",
       "\n",
       "    .dataframe thead th {\n",
       "        text-align: right;\n",
       "    }\n",
       "</style>\n",
       "<table border=\"1\" class=\"dataframe\">\n",
       "  <thead>\n",
       "    <tr style=\"text-align: right;\">\n",
       "      <th></th>\n",
       "      <th>family_status_id</th>\n",
       "      <th>family_status</th>\n",
       "      <th>dept_0</th>\n",
       "      <th>dept_1</th>\n",
       "      <th>debt_ratio,%</th>\n",
       "    </tr>\n",
       "  </thead>\n",
       "  <tbody>\n",
       "    <tr>\n",
       "      <th>0</th>\n",
       "      <td>3</td>\n",
       "      <td>в разводе</td>\n",
       "      <td>1110</td>\n",
       "      <td>85</td>\n",
       "      <td>7.1</td>\n",
       "    </tr>\n",
       "    <tr>\n",
       "      <th>1</th>\n",
       "      <td>0</td>\n",
       "      <td>женат / замужем</td>\n",
       "      <td>11408</td>\n",
       "      <td>931</td>\n",
       "      <td>7.5</td>\n",
       "    </tr>\n",
       "    <tr>\n",
       "      <th>2</th>\n",
       "      <td>4</td>\n",
       "      <td>не женат / не замужем</td>\n",
       "      <td>2536</td>\n",
       "      <td>274</td>\n",
       "      <td>9.8</td>\n",
       "    </tr>\n",
       "    <tr>\n",
       "      <th>3</th>\n",
       "      <td>1</td>\n",
       "      <td>гражданский брак</td>\n",
       "      <td>3763</td>\n",
       "      <td>388</td>\n",
       "      <td>9.3</td>\n",
       "    </tr>\n",
       "    <tr>\n",
       "      <th>4</th>\n",
       "      <td>2</td>\n",
       "      <td>вдовец / вдова</td>\n",
       "      <td>896</td>\n",
       "      <td>63</td>\n",
       "      <td>6.6</td>\n",
       "    </tr>\n",
       "  </tbody>\n",
       "</table>\n",
       "</div>"
      ],
      "text/plain": [
       "   family_status_id          family_status  dept_0  dept_1  debt_ratio,%\n",
       "0                 3              в разводе    1110      85           7.1\n",
       "1                 0        женат / замужем   11408     931           7.5\n",
       "2                 4  не женат / не замужем    2536     274           9.8\n",
       "3                 1       гражданский брак    3763     388           9.3\n",
       "4                 2         вдовец / вдова     896      63           6.6"
      ]
     },
     "execution_count": 40,
     "metadata": {},
     "output_type": "execute_result"
    }
   ],
   "source": [
    "df_family = family_status_dict.merge(df_debt,on='family_status_id',how='left')\n",
    "df_family"
   ]
  },
  {
   "cell_type": "markdown",
   "id": "6c3e4649",
   "metadata": {},
   "source": [
    "**Вывод**\n",
    "\n",
    "Если сравнить клиентов с разным семейным статусом, можно сделать следующие выводы о их платежеспособности: \n",
    "\n",
    "1. Группа с не женатыми/не замужними клиентами имеют максимальный % неплатежеспособности.  9,8% клиентов имеют задолженность перед банком. Высокий % должников наблюдается также в группе \"гражданский брак\" (9,3%).\n",
    "2. Должники в группах \"женат/замужем\" и \"в разводе\" составляют около 7%.\n",
    "3. Самая низкая доля должников в группе \"вдовец/вдова\" - 6,6%.\n",
    "\n",
    "Таким образом, клиентам не состоявшим ранее в официальном браке, стоит уделить повышенное внимание при кредитном скорринге. Риск по таким клиентам максимальный.\n",
    "\n",
    "Для более достоверного и полного анализа платежеспособности клиентов с разным семейным статусом, стоит проанализировать их в разрезе других групп (типе занятости, ежемесячном доходе, общем трудовом стаже и т.д.)"
   ]
  },
  {
   "cell_type": "markdown",
   "id": "b45208ae",
   "metadata": {},
   "source": [
    "#### Вопрос 3:"
   ]
  },
  {
   "cell_type": "markdown",
   "id": "7ebcaf5b",
   "metadata": {},
   "source": [
    "Необходимо проанализировать, есть ли зависимость между уровнем дохода и возвратом кредита в срок?"
   ]
  },
  {
   "cell_type": "code",
   "execution_count": 41,
   "id": "dec910cd",
   "metadata": {},
   "outputs": [
    {
     "data": {
      "text/html": [
       "<div>\n",
       "<style scoped>\n",
       "    .dataframe tbody tr th:only-of-type {\n",
       "        vertical-align: middle;\n",
       "    }\n",
       "\n",
       "    .dataframe tbody tr th {\n",
       "        vertical-align: top;\n",
       "    }\n",
       "\n",
       "    .dataframe thead th {\n",
       "        text-align: right;\n",
       "    }\n",
       "</style>\n",
       "<table border=\"1\" class=\"dataframe\">\n",
       "  <thead>\n",
       "    <tr style=\"text-align: right;\">\n",
       "      <th>debt</th>\n",
       "      <th>0</th>\n",
       "      <th>1</th>\n",
       "    </tr>\n",
       "    <tr>\n",
       "      <th>total_income_category</th>\n",
       "      <th></th>\n",
       "      <th></th>\n",
       "    </tr>\n",
       "  </thead>\n",
       "  <tbody>\n",
       "    <tr>\n",
       "      <th>A</th>\n",
       "      <td>23</td>\n",
       "      <td>2</td>\n",
       "    </tr>\n",
       "    <tr>\n",
       "      <th>B</th>\n",
       "      <td>4685</td>\n",
       "      <td>356</td>\n",
       "    </tr>\n",
       "    <tr>\n",
       "      <th>C</th>\n",
       "      <td>10896</td>\n",
       "      <td>1029</td>\n",
       "    </tr>\n",
       "    <tr>\n",
       "      <th>D</th>\n",
       "      <td>3760</td>\n",
       "      <td>331</td>\n",
       "    </tr>\n",
       "    <tr>\n",
       "      <th>E</th>\n",
       "      <td>329</td>\n",
       "      <td>21</td>\n",
       "    </tr>\n",
       "    <tr>\n",
       "      <th>F</th>\n",
       "      <td>20</td>\n",
       "      <td>2</td>\n",
       "    </tr>\n",
       "  </tbody>\n",
       "</table>\n",
       "</div>"
      ],
      "text/plain": [
       "debt                       0     1\n",
       "total_income_category             \n",
       "A                         23     2\n",
       "B                       4685   356\n",
       "C                      10896  1029\n",
       "D                       3760   331\n",
       "E                        329    21\n",
       "F                         20     2"
      ]
     },
     "execution_count": 41,
     "metadata": {},
     "output_type": "execute_result"
    }
   ],
   "source": [
    "df_pivot = df.pivot_table(index=['total_income_category'], columns='debt', values='education_id', aggfunc='count')\n",
    "df_pivot"
   ]
  },
  {
   "cell_type": "code",
   "execution_count": 42,
   "id": "f2b772e4",
   "metadata": {},
   "outputs": [
    {
     "data": {
      "text/html": [
       "<div>\n",
       "<style scoped>\n",
       "    .dataframe tbody tr th:only-of-type {\n",
       "        vertical-align: middle;\n",
       "    }\n",
       "\n",
       "    .dataframe tbody tr th {\n",
       "        vertical-align: top;\n",
       "    }\n",
       "\n",
       "    .dataframe thead th {\n",
       "        text-align: right;\n",
       "    }\n",
       "</style>\n",
       "<table border=\"1\" class=\"dataframe\">\n",
       "  <thead>\n",
       "    <tr style=\"text-align: right;\">\n",
       "      <th></th>\n",
       "      <th>total_income_category</th>\n",
       "      <th>dept_0</th>\n",
       "      <th>dept_1</th>\n",
       "    </tr>\n",
       "  </thead>\n",
       "  <tbody>\n",
       "    <tr>\n",
       "      <th>0</th>\n",
       "      <td>A</td>\n",
       "      <td>23</td>\n",
       "      <td>2</td>\n",
       "    </tr>\n",
       "    <tr>\n",
       "      <th>1</th>\n",
       "      <td>B</td>\n",
       "      <td>4685</td>\n",
       "      <td>356</td>\n",
       "    </tr>\n",
       "    <tr>\n",
       "      <th>2</th>\n",
       "      <td>C</td>\n",
       "      <td>10896</td>\n",
       "      <td>1029</td>\n",
       "    </tr>\n",
       "    <tr>\n",
       "      <th>3</th>\n",
       "      <td>D</td>\n",
       "      <td>3760</td>\n",
       "      <td>331</td>\n",
       "    </tr>\n",
       "    <tr>\n",
       "      <th>4</th>\n",
       "      <td>E</td>\n",
       "      <td>329</td>\n",
       "      <td>21</td>\n",
       "    </tr>\n",
       "    <tr>\n",
       "      <th>5</th>\n",
       "      <td>F</td>\n",
       "      <td>20</td>\n",
       "      <td>2</td>\n",
       "    </tr>\n",
       "  </tbody>\n",
       "</table>\n",
       "</div>"
      ],
      "text/plain": [
       "  total_income_category  dept_0  dept_1\n",
       "0                     A      23       2\n",
       "1                     B    4685     356\n",
       "2                     C   10896    1029\n",
       "3                     D    3760     331\n",
       "4                     E     329      21\n",
       "5                     F      20       2"
      ]
     },
     "execution_count": 42,
     "metadata": {},
     "output_type": "execute_result"
    }
   ],
   "source": [
    "debt_ = {'total_income_category':['A', 'B', 'C', 'D', 'E', 'F'],\n",
    "         'dept_0':[23, 4685, 10896, 3760, 329, 20],\n",
    "         'dept_1':[2, 356, 1029, 331, 21, 2]\n",
    "        }\n",
    "df_debt = pd.DataFrame(debt_)\n",
    "df_debt"
   ]
  },
  {
   "cell_type": "code",
   "execution_count": 43,
   "id": "31e9ac77",
   "metadata": {},
   "outputs": [
    {
     "data": {
      "text/html": [
       "<div>\n",
       "<style scoped>\n",
       "    .dataframe tbody tr th:only-of-type {\n",
       "        vertical-align: middle;\n",
       "    }\n",
       "\n",
       "    .dataframe tbody tr th {\n",
       "        vertical-align: top;\n",
       "    }\n",
       "\n",
       "    .dataframe thead th {\n",
       "        text-align: right;\n",
       "    }\n",
       "</style>\n",
       "<table border=\"1\" class=\"dataframe\">\n",
       "  <thead>\n",
       "    <tr style=\"text-align: right;\">\n",
       "      <th></th>\n",
       "      <th>total_income_category</th>\n",
       "      <th>dept_0</th>\n",
       "      <th>dept_1</th>\n",
       "      <th>debt_ratio,%</th>\n",
       "    </tr>\n",
       "  </thead>\n",
       "  <tbody>\n",
       "    <tr>\n",
       "      <th>0</th>\n",
       "      <td>A</td>\n",
       "      <td>23</td>\n",
       "      <td>2</td>\n",
       "      <td>8.0</td>\n",
       "    </tr>\n",
       "    <tr>\n",
       "      <th>1</th>\n",
       "      <td>B</td>\n",
       "      <td>4685</td>\n",
       "      <td>356</td>\n",
       "      <td>7.1</td>\n",
       "    </tr>\n",
       "    <tr>\n",
       "      <th>2</th>\n",
       "      <td>C</td>\n",
       "      <td>10896</td>\n",
       "      <td>1029</td>\n",
       "      <td>8.6</td>\n",
       "    </tr>\n",
       "    <tr>\n",
       "      <th>3</th>\n",
       "      <td>D</td>\n",
       "      <td>3760</td>\n",
       "      <td>331</td>\n",
       "      <td>8.1</td>\n",
       "    </tr>\n",
       "    <tr>\n",
       "      <th>4</th>\n",
       "      <td>E</td>\n",
       "      <td>329</td>\n",
       "      <td>21</td>\n",
       "      <td>6.0</td>\n",
       "    </tr>\n",
       "    <tr>\n",
       "      <th>5</th>\n",
       "      <td>F</td>\n",
       "      <td>20</td>\n",
       "      <td>2</td>\n",
       "      <td>9.1</td>\n",
       "    </tr>\n",
       "  </tbody>\n",
       "</table>\n",
       "</div>"
      ],
      "text/plain": [
       "  total_income_category  dept_0  dept_1  debt_ratio,%\n",
       "0                     A      23       2           8.0\n",
       "1                     B    4685     356           7.1\n",
       "2                     C   10896    1029           8.6\n",
       "3                     D    3760     331           8.1\n",
       "4                     E     329      21           6.0\n",
       "5                     F      20       2           9.1"
      ]
     },
     "execution_count": 43,
     "metadata": {},
     "output_type": "execute_result"
    }
   ],
   "source": [
    "def debt_ratio(row):\n",
    "    d = round(row['dept_1']/(row['dept_0']+row['dept_1'])*100, 1)\n",
    "    return d\n",
    "\n",
    "df_debt['debt_ratio,%'] = df_debt.apply(debt_ratio, axis=1)\n",
    "df_debt"
   ]
  },
  {
   "cell_type": "code",
   "execution_count": 44,
   "id": "936964f7",
   "metadata": {},
   "outputs": [
    {
     "data": {
      "text/html": [
       "<div>\n",
       "<style scoped>\n",
       "    .dataframe tbody tr th:only-of-type {\n",
       "        vertical-align: middle;\n",
       "    }\n",
       "\n",
       "    .dataframe tbody tr th {\n",
       "        vertical-align: top;\n",
       "    }\n",
       "\n",
       "    .dataframe thead th {\n",
       "        text-align: right;\n",
       "    }\n",
       "</style>\n",
       "<table border=\"1\" class=\"dataframe\">\n",
       "  <thead>\n",
       "    <tr style=\"text-align: right;\">\n",
       "      <th></th>\n",
       "      <th>total_income_category</th>\n",
       "      <th>income_level</th>\n",
       "    </tr>\n",
       "  </thead>\n",
       "  <tbody>\n",
       "    <tr>\n",
       "      <th>0</th>\n",
       "      <td>A</td>\n",
       "      <td>1000001 и выше</td>\n",
       "    </tr>\n",
       "    <tr>\n",
       "      <th>1</th>\n",
       "      <td>B</td>\n",
       "      <td>200001–1000000</td>\n",
       "    </tr>\n",
       "    <tr>\n",
       "      <th>2</th>\n",
       "      <td>C</td>\n",
       "      <td>100001–200000</td>\n",
       "    </tr>\n",
       "    <tr>\n",
       "      <th>3</th>\n",
       "      <td>D</td>\n",
       "      <td>50001–100000</td>\n",
       "    </tr>\n",
       "    <tr>\n",
       "      <th>4</th>\n",
       "      <td>E</td>\n",
       "      <td>30001–50000</td>\n",
       "    </tr>\n",
       "    <tr>\n",
       "      <th>5</th>\n",
       "      <td>F</td>\n",
       "      <td>0–30000</td>\n",
       "    </tr>\n",
       "  </tbody>\n",
       "</table>\n",
       "</div>"
      ],
      "text/plain": [
       "  total_income_category    income_level\n",
       "0                     A  1000001 и выше\n",
       "1                     B  200001–1000000\n",
       "2                     C   100001–200000\n",
       "3                     D    50001–100000\n",
       "4                     E     30001–50000\n",
       "5                     F         0–30000"
      ]
     },
     "execution_count": 44,
     "metadata": {},
     "output_type": "execute_result"
    }
   ],
   "source": [
    "income_category = {'total_income_category':['A', 'B', 'C', 'D', 'E', 'F'],\n",
    "         'income_level':['1000001 и выше', '200001–1000000', '100001–200000', '50001–100000', '30001–50000', '0–30000'],\n",
    "         }\n",
    "df_income_category = pd.DataFrame(income_category)\n",
    "df_income_category"
   ]
  },
  {
   "cell_type": "code",
   "execution_count": 45,
   "id": "d71b10f1",
   "metadata": {},
   "outputs": [
    {
     "data": {
      "text/html": [
       "<div>\n",
       "<style scoped>\n",
       "    .dataframe tbody tr th:only-of-type {\n",
       "        vertical-align: middle;\n",
       "    }\n",
       "\n",
       "    .dataframe tbody tr th {\n",
       "        vertical-align: top;\n",
       "    }\n",
       "\n",
       "    .dataframe thead th {\n",
       "        text-align: right;\n",
       "    }\n",
       "</style>\n",
       "<table border=\"1\" class=\"dataframe\">\n",
       "  <thead>\n",
       "    <tr style=\"text-align: right;\">\n",
       "      <th></th>\n",
       "      <th>total_income_category</th>\n",
       "      <th>income_level</th>\n",
       "      <th>dept_0</th>\n",
       "      <th>dept_1</th>\n",
       "      <th>debt_ratio,%</th>\n",
       "    </tr>\n",
       "  </thead>\n",
       "  <tbody>\n",
       "    <tr>\n",
       "      <th>0</th>\n",
       "      <td>A</td>\n",
       "      <td>1000001 и выше</td>\n",
       "      <td>23</td>\n",
       "      <td>2</td>\n",
       "      <td>8.0</td>\n",
       "    </tr>\n",
       "    <tr>\n",
       "      <th>1</th>\n",
       "      <td>B</td>\n",
       "      <td>200001–1000000</td>\n",
       "      <td>4685</td>\n",
       "      <td>356</td>\n",
       "      <td>7.1</td>\n",
       "    </tr>\n",
       "    <tr>\n",
       "      <th>2</th>\n",
       "      <td>C</td>\n",
       "      <td>100001–200000</td>\n",
       "      <td>10896</td>\n",
       "      <td>1029</td>\n",
       "      <td>8.6</td>\n",
       "    </tr>\n",
       "    <tr>\n",
       "      <th>3</th>\n",
       "      <td>D</td>\n",
       "      <td>50001–100000</td>\n",
       "      <td>3760</td>\n",
       "      <td>331</td>\n",
       "      <td>8.1</td>\n",
       "    </tr>\n",
       "    <tr>\n",
       "      <th>4</th>\n",
       "      <td>E</td>\n",
       "      <td>30001–50000</td>\n",
       "      <td>329</td>\n",
       "      <td>21</td>\n",
       "      <td>6.0</td>\n",
       "    </tr>\n",
       "    <tr>\n",
       "      <th>5</th>\n",
       "      <td>F</td>\n",
       "      <td>0–30000</td>\n",
       "      <td>20</td>\n",
       "      <td>2</td>\n",
       "      <td>9.1</td>\n",
       "    </tr>\n",
       "  </tbody>\n",
       "</table>\n",
       "</div>"
      ],
      "text/plain": [
       "  total_income_category    income_level  dept_0  dept_1  debt_ratio,%\n",
       "0                     A  1000001 и выше      23       2           8.0\n",
       "1                     B  200001–1000000    4685     356           7.1\n",
       "2                     C   100001–200000   10896    1029           8.6\n",
       "3                     D    50001–100000    3760     331           8.1\n",
       "4                     E     30001–50000     329      21           6.0\n",
       "5                     F         0–30000      20       2           9.1"
      ]
     },
     "execution_count": 45,
     "metadata": {},
     "output_type": "execute_result"
    }
   ],
   "source": [
    "df_income_level = df_income_category.merge(df_debt,on='total_income_category',how='left')\n",
    "df_income_level"
   ]
  },
  {
   "cell_type": "markdown",
   "id": "66ed4fc9",
   "metadata": {},
   "source": [
    "**Вывод**\n",
    "\n",
    "Если сравнить клиентов с уровнем дохода, можно сделать следующие выводы о их платежеспособности: \n",
    "\n",
    "1. В группе клиентов с уровнем дохода ниже 30 тыс.рублей находятся более 9% должников. Это макисмальная доля среди групп.\n",
    "2. Высокий % должников наблюдается также в группе с доходом от 100 тыс. до 200 тыс.рублей. Доля имеющих задолжненность составляет более 8,6%. \n",
    "3. Самая низкая доля должников в группе с доходом от 30 тыс до 50 тыс.рублей. Она равна 6%.\n",
    "4. Клиентов получающих доход более милиона рублей в месяц ничтожно мало для выборки. Поэтому эта группа не репрезентативна для анализа. \n",
    "\n",
    "Таким образом, клиентам имеющим ежемесячный доход до 30 тыс.руб., стоит уделить повышенное внимание при кредитном скорринге, также как и клиентам с доходом от 100 до 200 тыс. рублей. Риск по таким клиентам максимальный.\n",
    "\n",
    "Для более достоверного и полного анализа платежеспособности клиентов с разным уровнем дохода, следует также опираться на другие факторы (тип занятости, семейный статус, общий трудовой стаж и т.д.)\n"
   ]
  },
  {
   "cell_type": "markdown",
   "id": "4c866d4d",
   "metadata": {},
   "source": [
    "#### Вопрос 4:"
   ]
  },
  {
   "cell_type": "markdown",
   "id": "24e81154",
   "metadata": {},
   "source": [
    "Вясним как разные цели кредита влияют на его возврат в срок."
   ]
  },
  {
   "cell_type": "code",
   "execution_count": 46,
   "id": "f65987b4",
   "metadata": {},
   "outputs": [
    {
     "data": {
      "text/html": [
       "<div>\n",
       "<style scoped>\n",
       "    .dataframe tbody tr th:only-of-type {\n",
       "        vertical-align: middle;\n",
       "    }\n",
       "\n",
       "    .dataframe tbody tr th {\n",
       "        vertical-align: top;\n",
       "    }\n",
       "\n",
       "    .dataframe thead th {\n",
       "        text-align: right;\n",
       "    }\n",
       "</style>\n",
       "<table border=\"1\" class=\"dataframe\">\n",
       "  <thead>\n",
       "    <tr style=\"text-align: right;\">\n",
       "      <th>debt</th>\n",
       "      <th>0</th>\n",
       "      <th>1</th>\n",
       "    </tr>\n",
       "    <tr>\n",
       "      <th>purpose_category</th>\n",
       "      <th></th>\n",
       "      <th></th>\n",
       "    </tr>\n",
       "  </thead>\n",
       "  <tbody>\n",
       "    <tr>\n",
       "      <th>операции с автомобилем</th>\n",
       "      <td>3903</td>\n",
       "      <td>403</td>\n",
       "    </tr>\n",
       "    <tr>\n",
       "      <th>операции с недвижимостью</th>\n",
       "      <td>10029</td>\n",
       "      <td>782</td>\n",
       "    </tr>\n",
       "    <tr>\n",
       "      <th>получение образования</th>\n",
       "      <td>3643</td>\n",
       "      <td>370</td>\n",
       "    </tr>\n",
       "    <tr>\n",
       "      <th>проведение свадьбы</th>\n",
       "      <td>2138</td>\n",
       "      <td>186</td>\n",
       "    </tr>\n",
       "  </tbody>\n",
       "</table>\n",
       "</div>"
      ],
      "text/plain": [
       "debt                          0    1\n",
       "purpose_category                    \n",
       "операции с автомобилем     3903  403\n",
       "операции с недвижимостью  10029  782\n",
       "получение образования      3643  370\n",
       "проведение свадьбы         2138  186"
      ]
     },
     "execution_count": 46,
     "metadata": {},
     "output_type": "execute_result"
    }
   ],
   "source": [
    "df_pivot = df.pivot_table(index=['purpose_category'], columns='debt', values='education_id', aggfunc='count')\n",
    "df_pivot"
   ]
  },
  {
   "cell_type": "code",
   "execution_count": 47,
   "id": "37d6c69d",
   "metadata": {},
   "outputs": [
    {
     "data": {
      "text/html": [
       "<div>\n",
       "<style scoped>\n",
       "    .dataframe tbody tr th:only-of-type {\n",
       "        vertical-align: middle;\n",
       "    }\n",
       "\n",
       "    .dataframe tbody tr th {\n",
       "        vertical-align: top;\n",
       "    }\n",
       "\n",
       "    .dataframe thead th {\n",
       "        text-align: right;\n",
       "    }\n",
       "</style>\n",
       "<table border=\"1\" class=\"dataframe\">\n",
       "  <thead>\n",
       "    <tr style=\"text-align: right;\">\n",
       "      <th></th>\n",
       "      <th>purpose_category</th>\n",
       "      <th>dept_0</th>\n",
       "      <th>dept_1</th>\n",
       "    </tr>\n",
       "  </thead>\n",
       "  <tbody>\n",
       "    <tr>\n",
       "      <th>0</th>\n",
       "      <td>операции с автомобилем</td>\n",
       "      <td>3903</td>\n",
       "      <td>403</td>\n",
       "    </tr>\n",
       "    <tr>\n",
       "      <th>1</th>\n",
       "      <td>операции с недвижимостью</td>\n",
       "      <td>10029</td>\n",
       "      <td>782</td>\n",
       "    </tr>\n",
       "    <tr>\n",
       "      <th>2</th>\n",
       "      <td>получение образования</td>\n",
       "      <td>3643</td>\n",
       "      <td>370</td>\n",
       "    </tr>\n",
       "    <tr>\n",
       "      <th>3</th>\n",
       "      <td>проведение свадьбы</td>\n",
       "      <td>2138</td>\n",
       "      <td>186</td>\n",
       "    </tr>\n",
       "  </tbody>\n",
       "</table>\n",
       "</div>"
      ],
      "text/plain": [
       "           purpose_category  dept_0  dept_1\n",
       "0    операции с автомобилем    3903     403\n",
       "1  операции с недвижимостью   10029     782\n",
       "2     получение образования    3643     370\n",
       "3        проведение свадьбы    2138     186"
      ]
     },
     "execution_count": 47,
     "metadata": {},
     "output_type": "execute_result"
    }
   ],
   "source": [
    "debt_ = {'purpose_category':['операции с автомобилем', 'операции с недвижимостью', 'получение образования', 'проведение свадьбы'],\n",
    "         'dept_0':[3903, 10029, 3643, 2138],\n",
    "         'dept_1':[403, 782, 370, 186]\n",
    "        }\n",
    "df_debt = pd.DataFrame(debt_)\n",
    "df_debt"
   ]
  },
  {
   "cell_type": "code",
   "execution_count": 48,
   "id": "d933952e",
   "metadata": {},
   "outputs": [
    {
     "data": {
      "text/html": [
       "<div>\n",
       "<style scoped>\n",
       "    .dataframe tbody tr th:only-of-type {\n",
       "        vertical-align: middle;\n",
       "    }\n",
       "\n",
       "    .dataframe tbody tr th {\n",
       "        vertical-align: top;\n",
       "    }\n",
       "\n",
       "    .dataframe thead th {\n",
       "        text-align: right;\n",
       "    }\n",
       "</style>\n",
       "<table border=\"1\" class=\"dataframe\">\n",
       "  <thead>\n",
       "    <tr style=\"text-align: right;\">\n",
       "      <th></th>\n",
       "      <th>purpose_category</th>\n",
       "      <th>dept_0</th>\n",
       "      <th>dept_1</th>\n",
       "      <th>debt_ratio,%</th>\n",
       "    </tr>\n",
       "  </thead>\n",
       "  <tbody>\n",
       "    <tr>\n",
       "      <th>0</th>\n",
       "      <td>операции с автомобилем</td>\n",
       "      <td>3903</td>\n",
       "      <td>403</td>\n",
       "      <td>9.4</td>\n",
       "    </tr>\n",
       "    <tr>\n",
       "      <th>1</th>\n",
       "      <td>операции с недвижимостью</td>\n",
       "      <td>10029</td>\n",
       "      <td>782</td>\n",
       "      <td>7.2</td>\n",
       "    </tr>\n",
       "    <tr>\n",
       "      <th>2</th>\n",
       "      <td>получение образования</td>\n",
       "      <td>3643</td>\n",
       "      <td>370</td>\n",
       "      <td>9.2</td>\n",
       "    </tr>\n",
       "    <tr>\n",
       "      <th>3</th>\n",
       "      <td>проведение свадьбы</td>\n",
       "      <td>2138</td>\n",
       "      <td>186</td>\n",
       "      <td>8.0</td>\n",
       "    </tr>\n",
       "  </tbody>\n",
       "</table>\n",
       "</div>"
      ],
      "text/plain": [
       "           purpose_category  dept_0  dept_1  debt_ratio,%\n",
       "0    операции с автомобилем    3903     403           9.4\n",
       "1  операции с недвижимостью   10029     782           7.2\n",
       "2     получение образования    3643     370           9.2\n",
       "3        проведение свадьбы    2138     186           8.0"
      ]
     },
     "execution_count": 48,
     "metadata": {},
     "output_type": "execute_result"
    }
   ],
   "source": [
    "def debt_ratio(row):\n",
    "    d = round(row['dept_1']/(row['dept_0']+row['dept_1'])*100, 1)\n",
    "    return d\n",
    "df_debt['debt_ratio,%']=df_debt.apply(debt_ratio, axis=1)\n",
    "df_debt"
   ]
  },
  {
   "cell_type": "markdown",
   "id": "695e2e20",
   "metadata": {},
   "source": [
    "**Вывод**\n",
    "\n",
    "Проведя анализ клиентов с разными целями кридита и их корреляции с возвратом кредита, можно сделать следующие выводы:\n",
    "\n",
    "1. Наибольшее количество должников в группе клиентов с целями кредитования на операции с автомобилем и получение образования. Доля таких клиентов более 9%.\n",
    "2. Наибольший % клиентов с возвратом кредитных средств в группе \"операции с недвижимостью\". Около 93% клиентов не имеют задолженности перед банком. Вероятно, что на возвращаемость кредита влияет страхование ипотеки и обременение недвижимости банком.\n",
    " \n",
    "Необходимо учитывать цели кредита при кредитном скорринге. При этом, рассматривая рисковые группы клиентов, указанные выше, уделять повышенное внимание и к другим факторам (тип занятости, семейный статус, общий трудовой стаж и т.д.)"
   ]
  },
  {
   "cell_type": "markdown",
   "id": "f807b519",
   "metadata": {},
   "source": [
    "## Общий вывод:"
   ]
  },
  {
   "cell_type": "markdown",
   "id": "7f0fa093",
   "metadata": {},
   "source": [
    "<a id='conclusion'></a>\n",
    "**Оценив полученные от заказчика [данные](#intro) по кредитной истории и характеристикам клиентов, а также проведя анализ влияния различных факторов на возвратность кредитов было установлено:**\n",
    "1. Если сравнить клиентов с разным количеством детей (от 1го до 5) и клиентов без детей, можно сделать следующие выводы:\n",
    "- Клиенты без детей имеют высокую платежеспособность. Кредитный рейтинг по такой группе можно повысить. \n",
    "- И наоборот, рисковыми являются клиенты имеющие одного, двух или четырех детей. Кредитный рейтинг по такой группе необходимо понизить.\n",
    "\n",
    "2. Если сравнить клиентов с разным семейным статусом, можно сделать следующие выводы о их платежеспособности:\n",
    "- Клиенты, имеющие семейный статус \"женат/замужем\", \"в разводе\" или \"вдовец/вдова\" имеют высокую платежеспособность. Кредитный рейтинг по такой группе можно повысить. \n",
    "- Клиентам не состоявшим ранее в официальном браке (статусы \"не женат/не замужем\", \"гражданский брак\") стоит уделить повышенное внимание при кредитном скорринге. Риск по таким клиентам максимальный.\n",
    "\n",
    "3. Если сравнить клиентов с уровнем дохода, можно сделать следующие выводы о их платежеспособности:\n",
    "- Самая низкая доля должников среди клиентов с доходом от 30 тыс до 50 тыс.рублей. Кредитный рейтинг по такой группе можно повысить. \n",
    "- Клиентам, имеющим ежемесячный доход до 30 тыс.руб., стоит уделить повышенное внимание при кредитном скорринге, также как и клиентам с доходом от 100 до 200 тыс. рублей. Риск по таким клиентам максимальный. Кредитный рейтинг необходимо понизить.\n",
    "\n",
    "4. Проведя анализ платежеспособности клиентов с разными целями кридитования, можно сделать следующие выводы:\n",
    "- Наибольшая доля клиентов, возвращающих кредитные средствв, берут кредиты с целью \"операции с недвижимостью\". Около 93% клиентов не имеют задолженности перед банком. Вероятно, что на возвращаемость кредита влияет страхование ипотеки и обременение недвижимости банком. Кредитный рейтинг по этой группе можно повысить. \n",
    "- Наибольшее количество должников, взявших кредиты, с целями \"на операции с автомобилем\" и \"на получение образования\". Кредитный рейтинг по таким группам необходимо понизить.\n",
    "\t\n",
    "**Для более достоверного и полноценного анализа платежеспособности клиентов при составлении математической модели кредитного скорринга необходимо применять повышающие и понижающие коэффициенты ко всем вышуказанным характеристикам, а также распределить вес каждого показателя для расчета итогового скорринг-балла.**\n",
    "\n"
   ]
  }
 ],
 "metadata": {
  "ExecuteTimeLog": [
   {
    "duration": 556,
    "start_time": "2022-02-09T04:25:29.965Z"
   },
   {
    "duration": 48,
    "start_time": "2022-02-09T04:27:27.674Z"
   },
   {
    "duration": 59,
    "start_time": "2022-02-09T04:27:55.392Z"
   },
   {
    "duration": 10,
    "start_time": "2022-02-09T04:30:53.961Z"
   },
   {
    "duration": 54,
    "start_time": "2022-02-09T04:33:19.592Z"
   },
   {
    "duration": 54,
    "start_time": "2022-02-09T04:37:09.636Z"
   },
   {
    "duration": 373,
    "start_time": "2022-02-09T04:45:28.066Z"
   },
   {
    "duration": 4,
    "start_time": "2022-02-09T04:50:51.501Z"
   },
   {
    "duration": 17,
    "start_time": "2022-02-09T04:52:57.167Z"
   },
   {
    "duration": 9,
    "start_time": "2022-02-09T04:53:44.152Z"
   },
   {
    "duration": 4,
    "start_time": "2022-02-09T04:54:10.091Z"
   },
   {
    "duration": 9,
    "start_time": "2022-02-09T04:56:10.232Z"
   },
   {
    "duration": 9,
    "start_time": "2022-02-09T05:00:25.489Z"
   },
   {
    "duration": 5,
    "start_time": "2022-02-09T05:02:15.861Z"
   },
   {
    "duration": 4,
    "start_time": "2022-02-09T05:21:38.665Z"
   },
   {
    "duration": 4,
    "start_time": "2022-02-09T05:21:44.204Z"
   },
   {
    "duration": 5,
    "start_time": "2022-02-09T05:22:02.161Z"
   },
   {
    "duration": 111,
    "start_time": "2022-02-09T05:22:49.615Z"
   },
   {
    "duration": 5,
    "start_time": "2022-02-09T05:24:57.337Z"
   },
   {
    "duration": 4,
    "start_time": "2022-02-09T05:25:10.814Z"
   },
   {
    "duration": 4,
    "start_time": "2022-02-09T05:26:08.302Z"
   },
   {
    "duration": 4,
    "start_time": "2022-02-09T05:27:37.615Z"
   },
   {
    "duration": 4,
    "start_time": "2022-02-09T05:29:09.348Z"
   },
   {
    "duration": 4,
    "start_time": "2022-02-09T05:29:20.592Z"
   },
   {
    "duration": 4,
    "start_time": "2022-02-09T05:29:59.581Z"
   },
   {
    "duration": 4,
    "start_time": "2022-02-09T05:30:54.887Z"
   },
   {
    "duration": 4,
    "start_time": "2022-02-09T05:31:19.289Z"
   },
   {
    "duration": 4,
    "start_time": "2022-02-09T05:56:06.740Z"
   },
   {
    "duration": 325,
    "start_time": "2022-02-09T05:59:16.442Z"
   },
   {
    "duration": 3,
    "start_time": "2022-02-09T05:59:31.239Z"
   },
   {
    "duration": 4,
    "start_time": "2022-02-09T05:59:42.772Z"
   },
   {
    "duration": 337,
    "start_time": "2022-02-09T06:00:48.953Z"
   },
   {
    "duration": 5,
    "start_time": "2022-02-09T06:01:30.541Z"
   },
   {
    "duration": 6,
    "start_time": "2022-02-09T06:02:30.655Z"
   },
   {
    "duration": 6,
    "start_time": "2022-02-09T06:02:41.084Z"
   },
   {
    "duration": 3,
    "start_time": "2022-02-09T16:00:45.307Z"
   },
   {
    "duration": 399,
    "start_time": "2022-02-09T16:01:26.185Z"
   },
   {
    "duration": 9,
    "start_time": "2022-02-09T16:01:48.590Z"
   },
   {
    "duration": 6,
    "start_time": "2022-02-09T16:04:29.902Z"
   },
   {
    "duration": 5,
    "start_time": "2022-02-09T16:13:12.855Z"
   },
   {
    "duration": 422,
    "start_time": "2022-02-09T16:19:14.854Z"
   },
   {
    "duration": 410,
    "start_time": "2022-02-09T16:20:29.271Z"
   },
   {
    "duration": 11,
    "start_time": "2022-02-09T16:34:19.297Z"
   },
   {
    "duration": 3,
    "start_time": "2022-02-09T16:34:53.266Z"
   },
   {
    "duration": 5100,
    "start_time": "2022-02-09T16:35:21.737Z"
   },
   {
    "duration": 11,
    "start_time": "2022-02-09T16:35:43.820Z"
   },
   {
    "duration": 17,
    "start_time": "2022-02-09T16:37:03.139Z"
   },
   {
    "duration": 5,
    "start_time": "2022-02-09T16:42:06.483Z"
   },
   {
    "duration": 11,
    "start_time": "2022-02-09T17:05:29.146Z"
   },
   {
    "duration": 111,
    "start_time": "2022-02-09T17:06:15.251Z"
   },
   {
    "duration": 52,
    "start_time": "2022-02-09T17:06:35.462Z"
   },
   {
    "duration": 19,
    "start_time": "2022-02-09T17:08:27.298Z"
   },
   {
    "duration": 13,
    "start_time": "2022-02-09T17:08:40.604Z"
   },
   {
    "duration": 13,
    "start_time": "2022-02-09T17:09:01.964Z"
   },
   {
    "duration": 13,
    "start_time": "2022-02-09T17:09:21.002Z"
   },
   {
    "duration": 77,
    "start_time": "2022-02-09T17:10:13.812Z"
   },
   {
    "duration": 54,
    "start_time": "2022-02-09T17:10:59.779Z"
   },
   {
    "duration": 4,
    "start_time": "2022-02-09T17:12:34.156Z"
   },
   {
    "duration": 5,
    "start_time": "2022-02-09T17:13:22.855Z"
   },
   {
    "duration": 5,
    "start_time": "2022-02-09T17:13:38.317Z"
   },
   {
    "duration": 10,
    "start_time": "2022-02-09T17:13:41.772Z"
   },
   {
    "duration": 6,
    "start_time": "2022-02-09T17:14:04.507Z"
   },
   {
    "duration": 11,
    "start_time": "2022-02-09T17:14:38.930Z"
   },
   {
    "duration": 9,
    "start_time": "2022-02-09T17:15:12.618Z"
   },
   {
    "duration": 5,
    "start_time": "2022-02-09T17:18:31.580Z"
   },
   {
    "duration": 5,
    "start_time": "2022-02-09T17:23:49.422Z"
   },
   {
    "duration": 3,
    "start_time": "2022-02-09T18:35:14.710Z"
   },
   {
    "duration": 353,
    "start_time": "2022-02-09T18:36:58.513Z"
   },
   {
    "duration": 10,
    "start_time": "2022-02-09T18:42:30.816Z"
   },
   {
    "duration": 114,
    "start_time": "2022-02-09T18:42:55.400Z"
   },
   {
    "duration": 10,
    "start_time": "2022-02-09T18:43:36.621Z"
   },
   {
    "duration": 10,
    "start_time": "2022-02-09T18:44:35.643Z"
   },
   {
    "duration": 11,
    "start_time": "2022-02-09T18:45:26.080Z"
   },
   {
    "duration": 111,
    "start_time": "2022-02-09T18:45:50.790Z"
   },
   {
    "duration": 7,
    "start_time": "2022-02-09T18:46:51.083Z"
   },
   {
    "duration": 7,
    "start_time": "2022-02-09T18:47:00.002Z"
   },
   {
    "duration": 6,
    "start_time": "2022-02-09T18:47:12.135Z"
   },
   {
    "duration": 9,
    "start_time": "2022-02-09T18:51:42.022Z"
   },
   {
    "duration": 7,
    "start_time": "2022-02-09T18:52:55.721Z"
   },
   {
    "duration": 111,
    "start_time": "2022-02-09T19:26:25.062Z"
   },
   {
    "duration": 349,
    "start_time": "2022-02-09T19:27:46.482Z"
   },
   {
    "duration": 3,
    "start_time": "2022-02-09T19:30:31.003Z"
   },
   {
    "duration": 50,
    "start_time": "2022-02-09T20:21:49.638Z"
   },
   {
    "duration": 3,
    "start_time": "2022-02-09T20:22:39.591Z"
   },
   {
    "duration": 52,
    "start_time": "2022-02-09T20:22:39.595Z"
   },
   {
    "duration": 10,
    "start_time": "2022-02-09T20:22:39.649Z"
   },
   {
    "duration": 4,
    "start_time": "2022-02-09T20:22:39.661Z"
   },
   {
    "duration": 10,
    "start_time": "2022-02-09T20:22:39.666Z"
   },
   {
    "duration": 4,
    "start_time": "2022-02-09T20:22:39.677Z"
   },
   {
    "duration": 5,
    "start_time": "2022-02-09T20:22:39.683Z"
   },
   {
    "duration": 40,
    "start_time": "2022-02-09T20:22:39.690Z"
   },
   {
    "duration": 9,
    "start_time": "2022-02-09T20:23:37.797Z"
   },
   {
    "duration": 6,
    "start_time": "2022-02-09T20:24:28.965Z"
   },
   {
    "duration": 16,
    "start_time": "2022-02-09T20:25:04.670Z"
   },
   {
    "duration": 18,
    "start_time": "2022-02-09T20:26:11.950Z"
   },
   {
    "duration": 15,
    "start_time": "2022-02-09T20:26:21.224Z"
   },
   {
    "duration": 3,
    "start_time": "2022-02-09T20:26:34.890Z"
   },
   {
    "duration": 58,
    "start_time": "2022-02-09T20:26:34.894Z"
   },
   {
    "duration": 9,
    "start_time": "2022-02-09T20:26:34.954Z"
   },
   {
    "duration": 7,
    "start_time": "2022-02-09T20:26:34.964Z"
   },
   {
    "duration": 12,
    "start_time": "2022-02-09T20:26:34.972Z"
   },
   {
    "duration": 4,
    "start_time": "2022-02-09T20:26:34.986Z"
   },
   {
    "duration": 9,
    "start_time": "2022-02-09T20:26:34.991Z"
   },
   {
    "duration": 25,
    "start_time": "2022-02-09T20:26:35.001Z"
   },
   {
    "duration": 6,
    "start_time": "2022-02-09T20:26:35.029Z"
   },
   {
    "duration": 8,
    "start_time": "2022-02-09T20:26:35.037Z"
   },
   {
    "duration": 9,
    "start_time": "2022-02-09T20:26:35.047Z"
   },
   {
    "duration": 7,
    "start_time": "2022-02-09T20:26:35.058Z"
   },
   {
    "duration": 10,
    "start_time": "2022-02-09T20:26:35.067Z"
   },
   {
    "duration": 11,
    "start_time": "2022-02-09T20:26:35.079Z"
   },
   {
    "duration": 44,
    "start_time": "2022-02-09T20:26:35.092Z"
   },
   {
    "duration": 14,
    "start_time": "2022-02-09T20:26:35.138Z"
   },
   {
    "duration": 24,
    "start_time": "2022-02-09T20:29:44.968Z"
   },
   {
    "duration": 29,
    "start_time": "2022-02-09T20:32:05.066Z"
   },
   {
    "duration": 5,
    "start_time": "2022-02-10T18:08:31.688Z"
   },
   {
    "duration": 6,
    "start_time": "2022-02-10T18:08:57.726Z"
   },
   {
    "duration": 3,
    "start_time": "2022-02-10T18:09:03.466Z"
   },
   {
    "duration": 51,
    "start_time": "2022-02-10T18:09:03.473Z"
   },
   {
    "duration": 10,
    "start_time": "2022-02-10T18:09:03.526Z"
   },
   {
    "duration": 3,
    "start_time": "2022-02-10T18:09:03.538Z"
   },
   {
    "duration": 11,
    "start_time": "2022-02-10T18:09:03.542Z"
   },
   {
    "duration": 3,
    "start_time": "2022-02-10T18:09:03.555Z"
   },
   {
    "duration": 5,
    "start_time": "2022-02-10T18:09:03.560Z"
   },
   {
    "duration": 4,
    "start_time": "2022-02-10T18:09:03.566Z"
   },
   {
    "duration": 6,
    "start_time": "2022-02-10T18:09:03.572Z"
   },
   {
    "duration": 5,
    "start_time": "2022-02-10T18:09:03.580Z"
   },
   {
    "duration": 7,
    "start_time": "2022-02-10T18:09:03.586Z"
   },
   {
    "duration": 5,
    "start_time": "2022-02-10T18:09:03.627Z"
   },
   {
    "duration": 8,
    "start_time": "2022-02-10T18:09:03.633Z"
   },
   {
    "duration": 10,
    "start_time": "2022-02-10T18:09:03.642Z"
   },
   {
    "duration": 14,
    "start_time": "2022-02-10T18:09:03.653Z"
   },
   {
    "duration": 11,
    "start_time": "2022-02-10T18:09:03.668Z"
   },
   {
    "duration": 47,
    "start_time": "2022-02-10T18:09:03.680Z"
   },
   {
    "duration": 23,
    "start_time": "2022-02-10T18:09:03.728Z"
   },
   {
    "duration": 14,
    "start_time": "2022-02-10T18:09:03.753Z"
   },
   {
    "duration": 5,
    "start_time": "2022-02-10T18:10:12.216Z"
   },
   {
    "duration": 52,
    "start_time": "2022-02-10T18:13:07.388Z"
   },
   {
    "duration": 15,
    "start_time": "2022-02-10T18:15:16.557Z"
   },
   {
    "duration": 6,
    "start_time": "2022-02-10T18:18:11.155Z"
   },
   {
    "duration": 4,
    "start_time": "2022-02-10T18:20:56.760Z"
   },
   {
    "duration": 10,
    "start_time": "2022-02-10T18:36:38.873Z"
   },
   {
    "duration": 9,
    "start_time": "2022-02-10T18:38:03.489Z"
   },
   {
    "duration": 8,
    "start_time": "2022-02-10T18:38:25.695Z"
   },
   {
    "duration": 99,
    "start_time": "2022-02-10T18:39:31.636Z"
   },
   {
    "duration": 106,
    "start_time": "2022-02-10T18:39:38.038Z"
   },
   {
    "duration": 9,
    "start_time": "2022-02-10T18:42:40.437Z"
   },
   {
    "duration": 9,
    "start_time": "2022-02-10T18:43:00.027Z"
   },
   {
    "duration": 8,
    "start_time": "2022-02-10T18:43:54.852Z"
   },
   {
    "duration": 7,
    "start_time": "2022-02-10T18:48:41.684Z"
   },
   {
    "duration": 10,
    "start_time": "2022-02-10T18:50:58.536Z"
   },
   {
    "duration": 8,
    "start_time": "2022-02-10T18:53:05.855Z"
   },
   {
    "duration": 13,
    "start_time": "2022-02-10T18:53:49.709Z"
   },
   {
    "duration": 30,
    "start_time": "2022-02-10T18:55:11.981Z"
   },
   {
    "duration": 10,
    "start_time": "2022-02-10T18:56:42.256Z"
   },
   {
    "duration": 393,
    "start_time": "2022-02-10T18:58:09.614Z"
   },
   {
    "duration": 7,
    "start_time": "2022-02-10T18:58:33.763Z"
   },
   {
    "duration": 10,
    "start_time": "2022-02-10T18:58:50.406Z"
   },
   {
    "duration": 11,
    "start_time": "2022-02-10T18:59:05.472Z"
   },
   {
    "duration": 10,
    "start_time": "2022-02-10T18:59:19.796Z"
   },
   {
    "duration": 9,
    "start_time": "2022-02-10T19:00:19.122Z"
   },
   {
    "duration": 24,
    "start_time": "2022-02-10T19:02:36.121Z"
   },
   {
    "duration": 27,
    "start_time": "2022-02-10T19:03:13.831Z"
   },
   {
    "duration": 2,
    "start_time": "2022-02-10T19:03:26.011Z"
   },
   {
    "duration": 52,
    "start_time": "2022-02-10T19:03:26.018Z"
   },
   {
    "duration": 9,
    "start_time": "2022-02-10T19:03:26.072Z"
   },
   {
    "duration": 3,
    "start_time": "2022-02-10T19:03:26.083Z"
   },
   {
    "duration": 10,
    "start_time": "2022-02-10T19:03:26.087Z"
   },
   {
    "duration": 4,
    "start_time": "2022-02-10T19:03:26.098Z"
   },
   {
    "duration": 5,
    "start_time": "2022-02-10T19:03:26.126Z"
   },
   {
    "duration": 6,
    "start_time": "2022-02-10T19:03:26.132Z"
   },
   {
    "duration": 7,
    "start_time": "2022-02-10T19:03:26.139Z"
   },
   {
    "duration": 4,
    "start_time": "2022-02-10T19:03:26.148Z"
   },
   {
    "duration": 5,
    "start_time": "2022-02-10T19:03:26.154Z"
   },
   {
    "duration": 6,
    "start_time": "2022-02-10T19:03:26.160Z"
   },
   {
    "duration": 6,
    "start_time": "2022-02-10T19:03:26.167Z"
   },
   {
    "duration": 14,
    "start_time": "2022-02-10T19:03:26.175Z"
   },
   {
    "duration": 43,
    "start_time": "2022-02-10T19:03:26.190Z"
   },
   {
    "duration": 25,
    "start_time": "2022-02-10T19:03:26.234Z"
   },
   {
    "duration": 12,
    "start_time": "2022-02-10T19:03:26.260Z"
   },
   {
    "duration": 24,
    "start_time": "2022-02-10T19:03:26.273Z"
   },
   {
    "duration": 55,
    "start_time": "2022-02-10T19:03:26.299Z"
   },
   {
    "duration": 14,
    "start_time": "2022-02-10T19:03:26.355Z"
   },
   {
    "duration": 5,
    "start_time": "2022-02-10T19:03:26.371Z"
   },
   {
    "duration": 4,
    "start_time": "2022-02-10T19:03:26.378Z"
   },
   {
    "duration": 19,
    "start_time": "2022-02-10T19:03:26.383Z"
   },
   {
    "duration": 29,
    "start_time": "2022-02-10T19:03:26.403Z"
   },
   {
    "duration": 8,
    "start_time": "2022-02-10T19:15:21.481Z"
   },
   {
    "duration": 305,
    "start_time": "2022-02-10T19:15:48.590Z"
   },
   {
    "duration": 326,
    "start_time": "2022-02-10T19:17:54.138Z"
   },
   {
    "duration": 358,
    "start_time": "2022-02-10T19:19:03.947Z"
   },
   {
    "duration": 317,
    "start_time": "2022-02-10T19:19:39.709Z"
   },
   {
    "duration": 421,
    "start_time": "2022-02-10T19:20:17.433Z"
   },
   {
    "duration": 315,
    "start_time": "2022-02-10T19:23:40.894Z"
   },
   {
    "duration": 6,
    "start_time": "2022-02-10T19:23:57.217Z"
   },
   {
    "duration": 5,
    "start_time": "2022-02-10T19:24:54.811Z"
   },
   {
    "duration": 5,
    "start_time": "2022-02-10T19:25:37.501Z"
   },
   {
    "duration": 9,
    "start_time": "2022-02-10T19:26:17.682Z"
   },
   {
    "duration": 6,
    "start_time": "2022-02-10T19:27:06.750Z"
   },
   {
    "duration": 4,
    "start_time": "2022-02-10T19:27:38.549Z"
   },
   {
    "duration": 53,
    "start_time": "2022-02-10T19:28:12.249Z"
   },
   {
    "duration": 10,
    "start_time": "2022-02-10T19:28:21.571Z"
   },
   {
    "duration": 2,
    "start_time": "2022-02-10T19:28:31.410Z"
   },
   {
    "duration": 56,
    "start_time": "2022-02-10T19:28:31.414Z"
   },
   {
    "duration": 9,
    "start_time": "2022-02-10T19:28:31.472Z"
   },
   {
    "duration": 4,
    "start_time": "2022-02-10T19:28:31.483Z"
   },
   {
    "duration": 11,
    "start_time": "2022-02-10T19:28:31.488Z"
   },
   {
    "duration": 3,
    "start_time": "2022-02-10T19:28:31.500Z"
   },
   {
    "duration": 22,
    "start_time": "2022-02-10T19:28:31.505Z"
   },
   {
    "duration": 4,
    "start_time": "2022-02-10T19:28:31.529Z"
   },
   {
    "duration": 7,
    "start_time": "2022-02-10T19:28:31.534Z"
   },
   {
    "duration": 4,
    "start_time": "2022-02-10T19:28:31.543Z"
   },
   {
    "duration": 4,
    "start_time": "2022-02-10T19:28:31.548Z"
   },
   {
    "duration": 7,
    "start_time": "2022-02-10T19:28:31.554Z"
   },
   {
    "duration": 9,
    "start_time": "2022-02-10T19:28:31.562Z"
   },
   {
    "duration": 11,
    "start_time": "2022-02-10T19:28:31.573Z"
   },
   {
    "duration": 48,
    "start_time": "2022-02-10T19:28:31.585Z"
   },
   {
    "duration": 22,
    "start_time": "2022-02-10T19:28:31.635Z"
   },
   {
    "duration": 13,
    "start_time": "2022-02-10T19:28:31.659Z"
   },
   {
    "duration": 25,
    "start_time": "2022-02-10T19:28:31.673Z"
   },
   {
    "duration": 50,
    "start_time": "2022-02-10T19:28:31.700Z"
   },
   {
    "duration": 13,
    "start_time": "2022-02-10T19:28:31.752Z"
   },
   {
    "duration": 7,
    "start_time": "2022-02-10T19:28:31.767Z"
   },
   {
    "duration": 5,
    "start_time": "2022-02-10T19:28:31.775Z"
   },
   {
    "duration": 10,
    "start_time": "2022-02-10T19:28:31.783Z"
   },
   {
    "duration": 37,
    "start_time": "2022-02-10T19:28:31.795Z"
   },
   {
    "duration": 6,
    "start_time": "2022-02-10T19:28:31.834Z"
   },
   {
    "duration": 317,
    "start_time": "2022-02-10T19:29:14.388Z"
   },
   {
    "duration": 309,
    "start_time": "2022-02-10T19:29:25.800Z"
   },
   {
    "duration": 342,
    "start_time": "2022-02-10T19:29:49.037Z"
   },
   {
    "duration": 7,
    "start_time": "2022-02-10T19:30:06.524Z"
   },
   {
    "duration": 315,
    "start_time": "2022-02-10T19:30:46.420Z"
   },
   {
    "duration": 9,
    "start_time": "2022-02-10T19:32:13.269Z"
   },
   {
    "duration": 324,
    "start_time": "2022-02-10T19:32:31.048Z"
   },
   {
    "duration": 319,
    "start_time": "2022-02-10T19:33:14.930Z"
   },
   {
    "duration": 322,
    "start_time": "2022-02-10T19:33:17.661Z"
   },
   {
    "duration": 309,
    "start_time": "2022-02-10T19:33:35.773Z"
   },
   {
    "duration": 2,
    "start_time": "2022-02-10T19:33:45.327Z"
   },
   {
    "duration": 56,
    "start_time": "2022-02-10T19:33:45.332Z"
   },
   {
    "duration": 9,
    "start_time": "2022-02-10T19:33:45.389Z"
   },
   {
    "duration": 3,
    "start_time": "2022-02-10T19:33:45.400Z"
   },
   {
    "duration": 9,
    "start_time": "2022-02-10T19:33:45.404Z"
   },
   {
    "duration": 3,
    "start_time": "2022-02-10T19:33:45.427Z"
   },
   {
    "duration": 5,
    "start_time": "2022-02-10T19:33:45.432Z"
   },
   {
    "duration": 4,
    "start_time": "2022-02-10T19:33:45.438Z"
   },
   {
    "duration": 5,
    "start_time": "2022-02-10T19:33:45.444Z"
   },
   {
    "duration": 5,
    "start_time": "2022-02-10T19:33:45.451Z"
   },
   {
    "duration": 7,
    "start_time": "2022-02-10T19:33:45.457Z"
   },
   {
    "duration": 5,
    "start_time": "2022-02-10T19:33:45.465Z"
   },
   {
    "duration": 6,
    "start_time": "2022-02-10T19:33:45.472Z"
   },
   {
    "duration": 49,
    "start_time": "2022-02-10T19:33:45.479Z"
   },
   {
    "duration": 11,
    "start_time": "2022-02-10T19:33:45.529Z"
   },
   {
    "duration": 23,
    "start_time": "2022-02-10T19:33:45.541Z"
   },
   {
    "duration": 13,
    "start_time": "2022-02-10T19:33:45.565Z"
   },
   {
    "duration": 48,
    "start_time": "2022-02-10T19:33:45.579Z"
   },
   {
    "duration": 29,
    "start_time": "2022-02-10T19:33:45.628Z"
   },
   {
    "duration": 15,
    "start_time": "2022-02-10T19:33:45.659Z"
   },
   {
    "duration": 5,
    "start_time": "2022-02-10T19:33:45.675Z"
   },
   {
    "duration": 4,
    "start_time": "2022-02-10T19:33:45.682Z"
   },
   {
    "duration": 8,
    "start_time": "2022-02-10T19:33:45.688Z"
   },
   {
    "duration": 12,
    "start_time": "2022-02-10T19:33:45.727Z"
   },
   {
    "duration": 9,
    "start_time": "2022-02-10T19:33:45.741Z"
   },
   {
    "duration": 353,
    "start_time": "2022-02-10T19:34:05.301Z"
   },
   {
    "duration": 320,
    "start_time": "2022-02-10T19:34:33.290Z"
   },
   {
    "duration": 3,
    "start_time": "2022-02-10T19:34:36.823Z"
   },
   {
    "duration": 56,
    "start_time": "2022-02-10T19:34:36.827Z"
   },
   {
    "duration": 9,
    "start_time": "2022-02-10T19:34:36.885Z"
   },
   {
    "duration": 4,
    "start_time": "2022-02-10T19:34:36.895Z"
   },
   {
    "duration": 9,
    "start_time": "2022-02-10T19:34:36.900Z"
   },
   {
    "duration": 17,
    "start_time": "2022-02-10T19:34:36.911Z"
   },
   {
    "duration": 5,
    "start_time": "2022-02-10T19:34:36.931Z"
   },
   {
    "duration": 5,
    "start_time": "2022-02-10T19:34:36.938Z"
   },
   {
    "duration": 5,
    "start_time": "2022-02-10T19:34:36.945Z"
   },
   {
    "duration": 4,
    "start_time": "2022-02-10T19:34:36.951Z"
   },
   {
    "duration": 6,
    "start_time": "2022-02-10T19:34:36.956Z"
   },
   {
    "duration": 5,
    "start_time": "2022-02-10T19:34:36.963Z"
   },
   {
    "duration": 7,
    "start_time": "2022-02-10T19:34:36.970Z"
   },
   {
    "duration": 50,
    "start_time": "2022-02-10T19:34:36.978Z"
   },
   {
    "duration": 10,
    "start_time": "2022-02-10T19:34:37.029Z"
   },
   {
    "duration": 22,
    "start_time": "2022-02-10T19:34:37.041Z"
   },
   {
    "duration": 12,
    "start_time": "2022-02-10T19:34:37.065Z"
   },
   {
    "duration": 49,
    "start_time": "2022-02-10T19:34:37.079Z"
   },
   {
    "duration": 29,
    "start_time": "2022-02-10T19:34:37.130Z"
   },
   {
    "duration": 13,
    "start_time": "2022-02-10T19:34:37.161Z"
   },
   {
    "duration": 5,
    "start_time": "2022-02-10T19:34:37.175Z"
   },
   {
    "duration": 4,
    "start_time": "2022-02-10T19:34:37.181Z"
   },
   {
    "duration": 10,
    "start_time": "2022-02-10T19:34:37.187Z"
   },
   {
    "duration": 37,
    "start_time": "2022-02-10T19:34:37.198Z"
   },
   {
    "duration": 7,
    "start_time": "2022-02-10T19:34:37.236Z"
   },
   {
    "duration": 338,
    "start_time": "2022-02-10T19:34:51.431Z"
   },
   {
    "duration": 354,
    "start_time": "2022-02-10T19:34:56.659Z"
   },
   {
    "duration": 1399,
    "start_time": "2022-02-10T19:35:15.960Z"
   },
   {
    "duration": 2,
    "start_time": "2022-02-10T19:35:20.919Z"
   },
   {
    "duration": 55,
    "start_time": "2022-02-10T19:35:20.923Z"
   },
   {
    "duration": 9,
    "start_time": "2022-02-10T19:35:20.980Z"
   },
   {
    "duration": 4,
    "start_time": "2022-02-10T19:35:20.990Z"
   },
   {
    "duration": 9,
    "start_time": "2022-02-10T19:35:20.995Z"
   },
   {
    "duration": 3,
    "start_time": "2022-02-10T19:35:21.005Z"
   },
   {
    "duration": 20,
    "start_time": "2022-02-10T19:35:21.010Z"
   },
   {
    "duration": 5,
    "start_time": "2022-02-10T19:35:21.032Z"
   },
   {
    "duration": 7,
    "start_time": "2022-02-10T19:35:21.039Z"
   },
   {
    "duration": 5,
    "start_time": "2022-02-10T19:35:21.047Z"
   },
   {
    "duration": 5,
    "start_time": "2022-02-10T19:35:21.053Z"
   },
   {
    "duration": 5,
    "start_time": "2022-02-10T19:35:21.059Z"
   },
   {
    "duration": 8,
    "start_time": "2022-02-10T19:35:21.065Z"
   },
   {
    "duration": 9,
    "start_time": "2022-02-10T19:35:21.074Z"
   },
   {
    "duration": 44,
    "start_time": "2022-02-10T19:35:21.084Z"
   },
   {
    "duration": 24,
    "start_time": "2022-02-10T19:35:21.129Z"
   },
   {
    "duration": 13,
    "start_time": "2022-02-10T19:35:21.155Z"
   },
   {
    "duration": 26,
    "start_time": "2022-02-10T19:35:21.169Z"
   },
   {
    "duration": 54,
    "start_time": "2022-02-10T19:35:21.196Z"
   },
   {
    "duration": 14,
    "start_time": "2022-02-10T19:35:21.251Z"
   },
   {
    "duration": 4,
    "start_time": "2022-02-10T19:35:21.267Z"
   },
   {
    "duration": 4,
    "start_time": "2022-02-10T19:35:21.273Z"
   },
   {
    "duration": 8,
    "start_time": "2022-02-10T19:35:21.279Z"
   },
   {
    "duration": 41,
    "start_time": "2022-02-10T19:35:21.289Z"
   },
   {
    "duration": 6,
    "start_time": "2022-02-10T19:35:21.332Z"
   },
   {
    "duration": 344,
    "start_time": "2022-02-10T19:35:31.106Z"
   },
   {
    "duration": 3,
    "start_time": "2022-02-10T19:35:59.795Z"
   },
   {
    "duration": 57,
    "start_time": "2022-02-10T19:35:59.799Z"
   },
   {
    "duration": 9,
    "start_time": "2022-02-10T19:35:59.857Z"
   },
   {
    "duration": 3,
    "start_time": "2022-02-10T19:35:59.868Z"
   },
   {
    "duration": 12,
    "start_time": "2022-02-10T19:35:59.873Z"
   },
   {
    "duration": 4,
    "start_time": "2022-02-10T19:35:59.886Z"
   },
   {
    "duration": 6,
    "start_time": "2022-02-10T19:35:59.892Z"
   },
   {
    "duration": 29,
    "start_time": "2022-02-10T19:35:59.900Z"
   },
   {
    "duration": 8,
    "start_time": "2022-02-10T19:35:59.932Z"
   },
   {
    "duration": 5,
    "start_time": "2022-02-10T19:35:59.942Z"
   },
   {
    "duration": 5,
    "start_time": "2022-02-10T19:35:59.949Z"
   },
   {
    "duration": 6,
    "start_time": "2022-02-10T19:35:59.955Z"
   },
   {
    "duration": 11,
    "start_time": "2022-02-10T19:35:59.963Z"
   },
   {
    "duration": 9,
    "start_time": "2022-02-10T19:35:59.976Z"
   },
   {
    "duration": 49,
    "start_time": "2022-02-10T19:35:59.987Z"
   },
   {
    "duration": 32,
    "start_time": "2022-02-10T19:36:00.038Z"
   },
   {
    "duration": 15,
    "start_time": "2022-02-10T19:36:00.072Z"
   },
   {
    "duration": 57,
    "start_time": "2022-02-10T19:36:00.088Z"
   },
   {
    "duration": 30,
    "start_time": "2022-02-10T19:36:00.146Z"
   },
   {
    "duration": 13,
    "start_time": "2022-02-10T19:36:00.177Z"
   },
   {
    "duration": 19,
    "start_time": "2022-02-10T19:36:00.191Z"
   },
   {
    "duration": 4,
    "start_time": "2022-02-10T19:36:00.212Z"
   },
   {
    "duration": 16,
    "start_time": "2022-02-10T19:36:00.218Z"
   },
   {
    "duration": 20,
    "start_time": "2022-02-10T19:36:00.236Z"
   },
   {
    "duration": 7,
    "start_time": "2022-02-10T19:36:00.257Z"
   },
   {
    "duration": 3,
    "start_time": "2022-02-10T19:36:10.383Z"
   },
   {
    "duration": 57,
    "start_time": "2022-02-10T19:36:10.388Z"
   },
   {
    "duration": 10,
    "start_time": "2022-02-10T19:36:10.448Z"
   },
   {
    "duration": 4,
    "start_time": "2022-02-10T19:36:10.460Z"
   },
   {
    "duration": 10,
    "start_time": "2022-02-10T19:36:10.465Z"
   },
   {
    "duration": 4,
    "start_time": "2022-02-10T19:36:10.476Z"
   },
   {
    "duration": 5,
    "start_time": "2022-02-10T19:36:10.482Z"
   },
   {
    "duration": 4,
    "start_time": "2022-02-10T19:36:10.526Z"
   },
   {
    "duration": 10,
    "start_time": "2022-02-10T19:36:10.532Z"
   },
   {
    "duration": 10,
    "start_time": "2022-02-10T19:36:10.544Z"
   },
   {
    "duration": 6,
    "start_time": "2022-02-10T19:36:10.556Z"
   },
   {
    "duration": 10,
    "start_time": "2022-02-10T19:36:10.563Z"
   },
   {
    "duration": 7,
    "start_time": "2022-02-10T19:36:10.575Z"
   },
   {
    "duration": 11,
    "start_time": "2022-02-10T19:36:10.584Z"
   },
   {
    "duration": 11,
    "start_time": "2022-02-10T19:36:10.596Z"
   },
   {
    "duration": 22,
    "start_time": "2022-02-10T19:36:10.627Z"
   },
   {
    "duration": 13,
    "start_time": "2022-02-10T19:36:10.651Z"
   },
   {
    "duration": 27,
    "start_time": "2022-02-10T19:36:10.666Z"
   },
   {
    "duration": 50,
    "start_time": "2022-02-10T19:36:10.694Z"
   },
   {
    "duration": 15,
    "start_time": "2022-02-10T19:36:10.745Z"
   },
   {
    "duration": 5,
    "start_time": "2022-02-10T19:36:10.761Z"
   },
   {
    "duration": 5,
    "start_time": "2022-02-10T19:36:10.767Z"
   },
   {
    "duration": 8,
    "start_time": "2022-02-10T19:36:10.774Z"
   },
   {
    "duration": 13,
    "start_time": "2022-02-10T19:36:10.784Z"
   },
   {
    "duration": 34,
    "start_time": "2022-02-10T19:36:10.799Z"
   },
   {
    "duration": 3,
    "start_time": "2022-02-10T19:36:41.311Z"
   },
   {
    "duration": 57,
    "start_time": "2022-02-10T19:36:41.316Z"
   },
   {
    "duration": 9,
    "start_time": "2022-02-10T19:36:41.374Z"
   },
   {
    "duration": 3,
    "start_time": "2022-02-10T19:36:41.385Z"
   },
   {
    "duration": 10,
    "start_time": "2022-02-10T19:36:41.390Z"
   },
   {
    "duration": 7,
    "start_time": "2022-02-10T19:36:41.402Z"
   },
   {
    "duration": 19,
    "start_time": "2022-02-10T19:36:41.411Z"
   },
   {
    "duration": 4,
    "start_time": "2022-02-10T19:36:41.433Z"
   },
   {
    "duration": 5,
    "start_time": "2022-02-10T19:36:41.440Z"
   },
   {
    "duration": 6,
    "start_time": "2022-02-10T19:36:41.447Z"
   },
   {
    "duration": 5,
    "start_time": "2022-02-10T19:36:41.455Z"
   },
   {
    "duration": 6,
    "start_time": "2022-02-10T19:36:41.462Z"
   },
   {
    "duration": 8,
    "start_time": "2022-02-10T19:36:41.470Z"
   },
   {
    "duration": 12,
    "start_time": "2022-02-10T19:36:41.479Z"
   },
   {
    "duration": 49,
    "start_time": "2022-02-10T19:36:41.493Z"
   },
   {
    "duration": 23,
    "start_time": "2022-02-10T19:36:41.543Z"
   },
   {
    "duration": 13,
    "start_time": "2022-02-10T19:36:41.568Z"
   },
   {
    "duration": 51,
    "start_time": "2022-02-10T19:36:41.583Z"
   },
   {
    "duration": 30,
    "start_time": "2022-02-10T19:36:41.635Z"
   },
   {
    "duration": 14,
    "start_time": "2022-02-10T19:36:41.667Z"
   },
   {
    "duration": 5,
    "start_time": "2022-02-10T19:36:41.683Z"
   },
   {
    "duration": 5,
    "start_time": "2022-02-10T19:36:41.690Z"
   },
   {
    "duration": 37,
    "start_time": "2022-02-10T19:36:41.698Z"
   },
   {
    "duration": 18,
    "start_time": "2022-02-10T19:36:41.737Z"
   },
   {
    "duration": 6,
    "start_time": "2022-02-10T19:36:41.757Z"
   },
   {
    "duration": 27,
    "start_time": "2022-02-10T19:37:58.856Z"
   },
   {
    "duration": 3,
    "start_time": "2022-02-10T20:02:14.458Z"
   },
   {
    "duration": 59,
    "start_time": "2022-02-10T20:02:14.462Z"
   },
   {
    "duration": 8,
    "start_time": "2022-02-10T20:02:14.523Z"
   },
   {
    "duration": 27,
    "start_time": "2022-02-10T20:02:14.532Z"
   },
   {
    "duration": 3,
    "start_time": "2022-02-10T20:02:14.560Z"
   },
   {
    "duration": 11,
    "start_time": "2022-02-10T20:02:14.564Z"
   },
   {
    "duration": 3,
    "start_time": "2022-02-10T20:02:14.577Z"
   },
   {
    "duration": 8,
    "start_time": "2022-02-10T20:02:14.582Z"
   },
   {
    "duration": 5,
    "start_time": "2022-02-10T20:02:14.591Z"
   },
   {
    "duration": 30,
    "start_time": "2022-02-10T20:02:14.597Z"
   },
   {
    "duration": 5,
    "start_time": "2022-02-10T20:02:14.629Z"
   },
   {
    "duration": 4,
    "start_time": "2022-02-10T20:02:14.636Z"
   },
   {
    "duration": 5,
    "start_time": "2022-02-10T20:02:14.641Z"
   },
   {
    "duration": 7,
    "start_time": "2022-02-10T20:02:14.648Z"
   },
   {
    "duration": 9,
    "start_time": "2022-02-10T20:02:14.657Z"
   },
   {
    "duration": 11,
    "start_time": "2022-02-10T20:02:14.667Z"
   },
   {
    "duration": 56,
    "start_time": "2022-02-10T20:02:14.679Z"
   },
   {
    "duration": 14,
    "start_time": "2022-02-10T20:02:14.736Z"
   },
   {
    "duration": 25,
    "start_time": "2022-02-10T20:02:14.751Z"
   },
   {
    "duration": 49,
    "start_time": "2022-02-10T20:02:14.778Z"
   },
   {
    "duration": 14,
    "start_time": "2022-02-10T20:02:14.829Z"
   },
   {
    "duration": 5,
    "start_time": "2022-02-10T20:02:14.844Z"
   },
   {
    "duration": 5,
    "start_time": "2022-02-10T20:02:14.851Z"
   },
   {
    "duration": 9,
    "start_time": "2022-02-10T20:02:14.857Z"
   },
   {
    "duration": 13,
    "start_time": "2022-02-10T20:02:14.867Z"
   },
   {
    "duration": 5,
    "start_time": "2022-02-10T20:02:14.881Z"
   },
   {
    "duration": 6,
    "start_time": "2022-02-11T03:08:20.112Z"
   },
   {
    "duration": 117,
    "start_time": "2022-02-11T03:39:21.244Z"
   },
   {
    "duration": 267,
    "start_time": "2022-02-11T03:40:32.604Z"
   },
   {
    "duration": 683,
    "start_time": "2022-02-11T03:40:46.082Z"
   },
   {
    "duration": 101,
    "start_time": "2022-02-11T03:44:11.298Z"
   },
   {
    "duration": 102,
    "start_time": "2022-02-11T03:48:47.500Z"
   },
   {
    "duration": 4,
    "start_time": "2022-02-11T03:49:40.884Z"
   },
   {
    "duration": 4,
    "start_time": "2022-02-11T03:49:50.374Z"
   },
   {
    "duration": 4,
    "start_time": "2022-02-11T03:49:57.735Z"
   },
   {
    "duration": 9,
    "start_time": "2022-02-11T03:51:47.194Z"
   },
   {
    "duration": 12,
    "start_time": "2022-02-11T03:52:10.254Z"
   },
   {
    "duration": 18,
    "start_time": "2022-02-11T03:59:24.336Z"
   },
   {
    "duration": 3,
    "start_time": "2022-02-11T04:29:43.828Z"
   },
   {
    "duration": 4,
    "start_time": "2022-02-11T04:29:52.355Z"
   },
   {
    "duration": 101,
    "start_time": "2022-02-11T04:38:35.393Z"
   },
   {
    "duration": 544,
    "start_time": "2022-02-11T04:43:06.048Z"
   },
   {
    "duration": 317,
    "start_time": "2022-02-11T04:47:02.644Z"
   },
   {
    "duration": 3,
    "start_time": "2022-02-11T04:49:00.444Z"
   },
   {
    "duration": 4,
    "start_time": "2022-02-11T04:49:20.839Z"
   },
   {
    "duration": 4,
    "start_time": "2022-02-11T04:49:32.619Z"
   },
   {
    "duration": 310,
    "start_time": "2022-02-11T04:50:37.105Z"
   },
   {
    "duration": 353,
    "start_time": "2022-02-11T04:51:47.889Z"
   },
   {
    "duration": 17,
    "start_time": "2022-02-11T04:52:10.640Z"
   },
   {
    "duration": 5,
    "start_time": "2022-02-11T04:54:59.754Z"
   },
   {
    "duration": 7652,
    "start_time": "2022-02-11T04:59:32.237Z"
   },
   {
    "duration": 9,
    "start_time": "2022-02-11T05:01:22.268Z"
   },
   {
    "duration": 7,
    "start_time": "2022-02-11T05:01:36.880Z"
   },
   {
    "duration": 8,
    "start_time": "2022-02-11T05:01:53.701Z"
   },
   {
    "duration": 8,
    "start_time": "2022-02-11T05:04:35.961Z"
   },
   {
    "duration": 8,
    "start_time": "2022-02-11T05:04:57.920Z"
   },
   {
    "duration": 8,
    "start_time": "2022-02-11T05:07:27.463Z"
   },
   {
    "duration": 7,
    "start_time": "2022-02-11T05:09:12.696Z"
   },
   {
    "duration": 14,
    "start_time": "2022-02-11T05:10:11.856Z"
   },
   {
    "duration": 327,
    "start_time": "2022-02-11T05:33:08.571Z"
   },
   {
    "duration": 15,
    "start_time": "2022-02-11T05:33:42.725Z"
   },
   {
    "duration": 16,
    "start_time": "2022-02-11T05:33:50.726Z"
   },
   {
    "duration": 16,
    "start_time": "2022-02-11T05:33:56.636Z"
   },
   {
    "duration": 15,
    "start_time": "2022-02-11T05:34:27.189Z"
   },
   {
    "duration": 2,
    "start_time": "2022-02-11T18:42:18.328Z"
   },
   {
    "duration": 57,
    "start_time": "2022-02-11T18:42:18.333Z"
   },
   {
    "duration": 9,
    "start_time": "2022-02-11T18:42:18.391Z"
   },
   {
    "duration": 42,
    "start_time": "2022-02-11T18:42:18.402Z"
   },
   {
    "duration": 3,
    "start_time": "2022-02-11T18:42:18.446Z"
   },
   {
    "duration": 9,
    "start_time": "2022-02-11T18:42:18.450Z"
   },
   {
    "duration": 3,
    "start_time": "2022-02-11T18:42:18.460Z"
   },
   {
    "duration": 6,
    "start_time": "2022-02-11T18:42:18.465Z"
   },
   {
    "duration": 4,
    "start_time": "2022-02-11T18:42:18.473Z"
   },
   {
    "duration": 5,
    "start_time": "2022-02-11T18:42:18.479Z"
   },
   {
    "duration": 4,
    "start_time": "2022-02-11T18:42:18.486Z"
   },
   {
    "duration": 37,
    "start_time": "2022-02-11T18:42:18.491Z"
   },
   {
    "duration": 5,
    "start_time": "2022-02-11T18:42:18.529Z"
   },
   {
    "duration": 6,
    "start_time": "2022-02-11T18:42:18.536Z"
   },
   {
    "duration": 10,
    "start_time": "2022-02-11T18:42:18.543Z"
   },
   {
    "duration": 10,
    "start_time": "2022-02-11T18:42:18.554Z"
   },
   {
    "duration": 22,
    "start_time": "2022-02-11T18:42:18.565Z"
   },
   {
    "duration": 45,
    "start_time": "2022-02-11T18:42:18.589Z"
   },
   {
    "duration": 26,
    "start_time": "2022-02-11T18:42:18.635Z"
   },
   {
    "duration": 28,
    "start_time": "2022-02-11T18:42:18.662Z"
   },
   {
    "duration": 14,
    "start_time": "2022-02-11T18:42:18.692Z"
   },
   {
    "duration": 21,
    "start_time": "2022-02-11T18:42:18.707Z"
   },
   {
    "duration": 5,
    "start_time": "2022-02-11T18:42:18.730Z"
   },
   {
    "duration": 14,
    "start_time": "2022-02-11T18:42:18.736Z"
   },
   {
    "duration": 14,
    "start_time": "2022-02-11T18:42:18.751Z"
   },
   {
    "duration": 5,
    "start_time": "2022-02-11T18:42:18.767Z"
   },
   {
    "duration": 14,
    "start_time": "2022-02-11T18:42:18.774Z"
   },
   {
    "duration": 42,
    "start_time": "2022-02-11T18:42:18.790Z"
   },
   {
    "duration": 15,
    "start_time": "2022-02-11T18:42:18.834Z"
   },
   {
    "duration": 9,
    "start_time": "2022-02-11T18:42:18.851Z"
   },
   {
    "duration": 9,
    "start_time": "2022-02-11T18:42:18.861Z"
   },
   {
    "duration": 15,
    "start_time": "2022-02-11T18:42:18.871Z"
   },
   {
    "duration": 11,
    "start_time": "2022-02-11T19:18:05.024Z"
   },
   {
    "duration": 14,
    "start_time": "2022-02-11T19:20:11.142Z"
   },
   {
    "duration": 16,
    "start_time": "2022-02-11T19:20:52.196Z"
   },
   {
    "duration": -188,
    "start_time": "2022-02-11T19:37:44.728Z"
   },
   {
    "duration": 4332,
    "start_time": "2022-02-11T19:39:45.076Z"
   },
   {
    "duration": 333,
    "start_time": "2022-02-11T20:07:29.144Z"
   },
   {
    "duration": 18,
    "start_time": "2022-02-11T20:08:48.512Z"
   },
   {
    "duration": 18,
    "start_time": "2022-02-11T20:09:31.971Z"
   },
   {
    "duration": 14,
    "start_time": "2022-02-11T20:14:55.583Z"
   },
   {
    "duration": 15,
    "start_time": "2022-02-11T20:15:49.683Z"
   },
   {
    "duration": 337,
    "start_time": "2022-02-11T20:20:48.260Z"
   },
   {
    "duration": 18,
    "start_time": "2022-02-11T20:28:31.097Z"
   },
   {
    "duration": 16,
    "start_time": "2022-02-11T20:28:49.407Z"
   },
   {
    "duration": 24,
    "start_time": "2022-02-11T20:30:40.037Z"
   },
   {
    "duration": 23,
    "start_time": "2022-02-11T20:32:44.421Z"
   },
   {
    "duration": 466,
    "start_time": "2022-02-12T03:35:49.126Z"
   },
   {
    "duration": 16,
    "start_time": "2022-02-12T03:37:11.877Z"
   },
   {
    "duration": 3,
    "start_time": "2022-02-12T03:37:26.061Z"
   },
   {
    "duration": 62,
    "start_time": "2022-02-12T03:37:26.066Z"
   },
   {
    "duration": 11,
    "start_time": "2022-02-12T03:37:26.130Z"
   },
   {
    "duration": 28,
    "start_time": "2022-02-12T03:37:26.143Z"
   },
   {
    "duration": 4,
    "start_time": "2022-02-12T03:37:26.172Z"
   },
   {
    "duration": 9,
    "start_time": "2022-02-12T03:37:26.178Z"
   },
   {
    "duration": 40,
    "start_time": "2022-02-12T03:37:26.189Z"
   },
   {
    "duration": 9,
    "start_time": "2022-02-12T03:37:26.231Z"
   },
   {
    "duration": 6,
    "start_time": "2022-02-12T03:37:26.242Z"
   },
   {
    "duration": 6,
    "start_time": "2022-02-12T03:37:26.249Z"
   },
   {
    "duration": 5,
    "start_time": "2022-02-12T03:37:26.257Z"
   },
   {
    "duration": 9,
    "start_time": "2022-02-12T03:37:26.264Z"
   },
   {
    "duration": 6,
    "start_time": "2022-02-12T03:37:26.274Z"
   },
   {
    "duration": 8,
    "start_time": "2022-02-12T03:37:26.281Z"
   },
   {
    "duration": 9,
    "start_time": "2022-02-12T03:37:26.327Z"
   },
   {
    "duration": 11,
    "start_time": "2022-02-12T03:37:26.338Z"
   },
   {
    "duration": 22,
    "start_time": "2022-02-12T03:37:26.350Z"
   },
   {
    "duration": 13,
    "start_time": "2022-02-12T03:37:26.374Z"
   },
   {
    "duration": 50,
    "start_time": "2022-02-12T03:37:26.388Z"
   },
   {
    "duration": 29,
    "start_time": "2022-02-12T03:37:26.439Z"
   },
   {
    "duration": 14,
    "start_time": "2022-02-12T03:37:26.469Z"
   },
   {
    "duration": 4,
    "start_time": "2022-02-12T03:37:26.484Z"
   },
   {
    "duration": 3,
    "start_time": "2022-02-12T03:37:26.491Z"
   },
   {
    "duration": 32,
    "start_time": "2022-02-12T03:37:26.495Z"
   },
   {
    "duration": 11,
    "start_time": "2022-02-12T03:37:26.529Z"
   },
   {
    "duration": 5,
    "start_time": "2022-02-12T03:37:26.542Z"
   },
   {
    "duration": 13,
    "start_time": "2022-02-12T03:37:26.548Z"
   },
   {
    "duration": 16,
    "start_time": "2022-02-12T03:37:26.563Z"
   },
   {
    "duration": 14,
    "start_time": "2022-02-12T03:37:26.580Z"
   },
   {
    "duration": 33,
    "start_time": "2022-02-12T03:37:26.596Z"
   },
   {
    "duration": 7,
    "start_time": "2022-02-12T03:37:26.631Z"
   },
   {
    "duration": 14,
    "start_time": "2022-02-12T03:37:26.640Z"
   },
   {
    "duration": 10,
    "start_time": "2022-02-12T03:37:26.655Z"
   },
   {
    "duration": 13,
    "start_time": "2022-02-12T03:37:26.667Z"
   },
   {
    "duration": 307,
    "start_time": "2022-02-12T03:48:35.975Z"
   },
   {
    "duration": 329,
    "start_time": "2022-02-12T03:50:00.263Z"
   },
   {
    "duration": 365,
    "start_time": "2022-02-12T03:51:00.025Z"
   },
   {
    "duration": 327,
    "start_time": "2022-02-12T03:53:21.186Z"
   },
   {
    "duration": 317,
    "start_time": "2022-02-12T03:53:43.861Z"
   },
   {
    "duration": 311,
    "start_time": "2022-02-12T04:08:32.907Z"
   },
   {
    "duration": 7,
    "start_time": "2022-02-12T04:08:45.061Z"
   },
   {
    "duration": 8,
    "start_time": "2022-02-12T04:15:59.780Z"
   },
   {
    "duration": 320,
    "start_time": "2022-02-12T04:18:43.404Z"
   },
   {
    "duration": 7,
    "start_time": "2022-02-12T04:18:53.767Z"
   },
   {
    "duration": 8,
    "start_time": "2022-02-12T04:19:46.281Z"
   },
   {
    "duration": 7,
    "start_time": "2022-02-12T04:20:07.066Z"
   },
   {
    "duration": 6,
    "start_time": "2022-02-12T04:21:26.641Z"
   },
   {
    "duration": 524,
    "start_time": "2022-02-12T04:53:31.418Z"
   },
   {
    "duration": 541,
    "start_time": "2022-02-12T04:54:11.452Z"
   },
   {
    "duration": 6,
    "start_time": "2022-02-12T04:55:04.431Z"
   },
   {
    "duration": 7,
    "start_time": "2022-02-12T04:55:36.971Z"
   },
   {
    "duration": 10,
    "start_time": "2022-02-12T05:13:36.852Z"
   },
   {
    "duration": 12,
    "start_time": "2022-02-12T05:34:51.052Z"
   },
   {
    "duration": 12,
    "start_time": "2022-02-12T05:34:53.510Z"
   },
   {
    "duration": 857,
    "start_time": "2022-02-12T05:35:14.624Z"
   },
   {
    "duration": 19,
    "start_time": "2022-02-12T05:35:29.796Z"
   },
   {
    "duration": 332,
    "start_time": "2022-02-12T05:36:03.124Z"
   },
   {
    "duration": 17,
    "start_time": "2022-02-12T05:36:37.357Z"
   },
   {
    "duration": 2,
    "start_time": "2022-02-12T10:23:40.126Z"
   },
   {
    "duration": 5,
    "start_time": "2022-02-12T10:26:13.127Z"
   },
   {
    "duration": 322,
    "start_time": "2022-02-12T10:26:24.693Z"
   },
   {
    "duration": 307,
    "start_time": "2022-02-12T10:28:44.611Z"
   },
   {
    "duration": 313,
    "start_time": "2022-02-12T10:30:16.595Z"
   },
   {
    "duration": 3,
    "start_time": "2022-02-12T10:31:50.366Z"
   },
   {
    "duration": 4,
    "start_time": "2022-02-12T10:32:43.039Z"
   },
   {
    "duration": 349,
    "start_time": "2022-02-12T10:32:59.143Z"
   },
   {
    "duration": 3,
    "start_time": "2022-02-12T10:33:42.942Z"
   },
   {
    "duration": 56,
    "start_time": "2022-02-12T10:33:42.947Z"
   },
   {
    "duration": 9,
    "start_time": "2022-02-12T10:33:43.005Z"
   },
   {
    "duration": 26,
    "start_time": "2022-02-12T10:33:43.016Z"
   },
   {
    "duration": 4,
    "start_time": "2022-02-12T10:33:43.043Z"
   },
   {
    "duration": 9,
    "start_time": "2022-02-12T10:33:43.048Z"
   },
   {
    "duration": 4,
    "start_time": "2022-02-12T10:33:43.058Z"
   },
   {
    "duration": 5,
    "start_time": "2022-02-12T10:33:43.063Z"
   },
   {
    "duration": 4,
    "start_time": "2022-02-12T10:33:43.070Z"
   },
   {
    "duration": 5,
    "start_time": "2022-02-12T10:33:43.076Z"
   },
   {
    "duration": 4,
    "start_time": "2022-02-12T10:33:43.083Z"
   },
   {
    "duration": 40,
    "start_time": "2022-02-12T10:33:43.088Z"
   },
   {
    "duration": 5,
    "start_time": "2022-02-12T10:33:43.129Z"
   },
   {
    "duration": 7,
    "start_time": "2022-02-12T10:33:43.135Z"
   },
   {
    "duration": 9,
    "start_time": "2022-02-12T10:33:43.144Z"
   },
   {
    "duration": 11,
    "start_time": "2022-02-12T10:33:43.154Z"
   },
   {
    "duration": 23,
    "start_time": "2022-02-12T10:33:43.166Z"
   },
   {
    "duration": 46,
    "start_time": "2022-02-12T10:33:43.190Z"
   },
   {
    "duration": 24,
    "start_time": "2022-02-12T10:33:43.237Z"
   },
   {
    "duration": 29,
    "start_time": "2022-02-12T10:33:43.262Z"
   },
   {
    "duration": 16,
    "start_time": "2022-02-12T10:33:43.292Z"
   },
   {
    "duration": 20,
    "start_time": "2022-02-12T10:33:43.310Z"
   },
   {
    "duration": 13,
    "start_time": "2022-02-12T10:33:43.332Z"
   },
   {
    "duration": 15,
    "start_time": "2022-02-12T10:33:43.346Z"
   },
   {
    "duration": 17,
    "start_time": "2022-02-12T10:33:43.363Z"
   },
   {
    "duration": 4,
    "start_time": "2022-02-12T10:33:43.382Z"
   },
   {
    "duration": 26,
    "start_time": "2022-02-12T10:33:43.389Z"
   },
   {
    "duration": 17,
    "start_time": "2022-02-12T10:33:43.417Z"
   },
   {
    "duration": 16,
    "start_time": "2022-02-12T10:33:43.436Z"
   },
   {
    "duration": 4,
    "start_time": "2022-02-12T10:33:43.454Z"
   },
   {
    "duration": 9,
    "start_time": "2022-02-12T10:33:43.460Z"
   },
   {
    "duration": 16,
    "start_time": "2022-02-12T10:33:43.471Z"
   },
   {
    "duration": 19,
    "start_time": "2022-02-12T10:33:43.488Z"
   },
   {
    "duration": 32,
    "start_time": "2022-02-12T10:33:43.508Z"
   },
   {
    "duration": 7,
    "start_time": "2022-02-12T10:33:43.541Z"
   },
   {
    "duration": 6,
    "start_time": "2022-02-12T10:33:43.550Z"
   },
   {
    "duration": 9,
    "start_time": "2022-02-12T10:33:43.557Z"
   },
   {
    "duration": 14,
    "start_time": "2022-02-12T10:33:58.518Z"
   },
   {
    "duration": 14,
    "start_time": "2022-02-12T10:34:43.000Z"
   },
   {
    "duration": 7,
    "start_time": "2022-02-12T10:38:37.075Z"
   },
   {
    "duration": 7,
    "start_time": "2022-02-12T10:39:23.329Z"
   },
   {
    "duration": 8,
    "start_time": "2022-02-12T10:40:58.512Z"
   },
   {
    "duration": 16,
    "start_time": "2022-02-12T11:12:56.019Z"
   },
   {
    "duration": 30,
    "start_time": "2022-02-12T11:14:27.789Z"
   },
   {
    "duration": 16,
    "start_time": "2022-02-12T11:15:06.939Z"
   },
   {
    "duration": 317,
    "start_time": "2022-02-12T11:17:19.829Z"
   },
   {
    "duration": 7,
    "start_time": "2022-02-12T11:18:00.253Z"
   },
   {
    "duration": 7,
    "start_time": "2022-02-12T11:26:32.004Z"
   },
   {
    "duration": 334,
    "start_time": "2022-02-12T11:30:33.928Z"
   },
   {
    "duration": 7,
    "start_time": "2022-02-12T11:30:52.903Z"
   },
   {
    "duration": 518,
    "start_time": "2022-02-12T11:32:39.456Z"
   },
   {
    "duration": 6,
    "start_time": "2022-02-12T11:34:36.194Z"
   },
   {
    "duration": 2930,
    "start_time": "2022-02-12T11:35:05.520Z"
   },
   {
    "duration": 4201,
    "start_time": "2022-02-12T11:35:08.835Z"
   },
   {
    "duration": 7,
    "start_time": "2022-02-12T11:35:49.611Z"
   },
   {
    "duration": 608,
    "start_time": "2022-02-12T11:36:04.756Z"
   },
   {
    "duration": 6,
    "start_time": "2022-02-12T11:36:30.204Z"
   },
   {
    "duration": 8,
    "start_time": "2022-02-12T11:37:03.232Z"
   },
   {
    "duration": 14,
    "start_time": "2022-02-12T11:59:04.132Z"
   },
   {
    "duration": 2,
    "start_time": "2022-02-12T11:59:11.203Z"
   },
   {
    "duration": 61,
    "start_time": "2022-02-12T11:59:11.207Z"
   },
   {
    "duration": 11,
    "start_time": "2022-02-12T11:59:11.270Z"
   },
   {
    "duration": 51,
    "start_time": "2022-02-12T11:59:11.283Z"
   },
   {
    "duration": 4,
    "start_time": "2022-02-12T11:59:11.336Z"
   },
   {
    "duration": 9,
    "start_time": "2022-02-12T11:59:11.341Z"
   },
   {
    "duration": 4,
    "start_time": "2022-02-12T11:59:11.351Z"
   },
   {
    "duration": 5,
    "start_time": "2022-02-12T11:59:11.357Z"
   },
   {
    "duration": 4,
    "start_time": "2022-02-12T11:59:11.364Z"
   },
   {
    "duration": 6,
    "start_time": "2022-02-12T11:59:11.370Z"
   },
   {
    "duration": 10,
    "start_time": "2022-02-12T11:59:11.377Z"
   },
   {
    "duration": 11,
    "start_time": "2022-02-12T11:59:11.388Z"
   },
   {
    "duration": 5,
    "start_time": "2022-02-12T11:59:11.427Z"
   },
   {
    "duration": 9,
    "start_time": "2022-02-12T11:59:11.434Z"
   },
   {
    "duration": 10,
    "start_time": "2022-02-12T11:59:11.444Z"
   },
   {
    "duration": 10,
    "start_time": "2022-02-12T11:59:11.456Z"
   },
   {
    "duration": 24,
    "start_time": "2022-02-12T11:59:11.467Z"
   },
   {
    "duration": 42,
    "start_time": "2022-02-12T11:59:11.492Z"
   },
   {
    "duration": 26,
    "start_time": "2022-02-12T11:59:11.535Z"
   },
   {
    "duration": 29,
    "start_time": "2022-02-12T11:59:11.562Z"
   },
   {
    "duration": 34,
    "start_time": "2022-02-12T11:59:11.593Z"
   },
   {
    "duration": 5,
    "start_time": "2022-02-12T11:59:11.628Z"
   },
   {
    "duration": 3,
    "start_time": "2022-02-12T11:59:11.636Z"
   },
   {
    "duration": 12,
    "start_time": "2022-02-12T11:59:11.641Z"
   },
   {
    "duration": 16,
    "start_time": "2022-02-12T11:59:11.654Z"
   },
   {
    "duration": 6,
    "start_time": "2022-02-12T11:59:11.672Z"
   },
   {
    "duration": 14,
    "start_time": "2022-02-12T11:59:11.679Z"
   },
   {
    "duration": 48,
    "start_time": "2022-02-12T11:59:11.695Z"
   },
   {
    "duration": 17,
    "start_time": "2022-02-12T11:59:11.744Z"
   },
   {
    "duration": 4,
    "start_time": "2022-02-12T11:59:11.763Z"
   },
   {
    "duration": 11,
    "start_time": "2022-02-12T11:59:11.768Z"
   },
   {
    "duration": 20,
    "start_time": "2022-02-12T11:59:11.780Z"
   },
   {
    "duration": 32,
    "start_time": "2022-02-12T11:59:11.801Z"
   },
   {
    "duration": 19,
    "start_time": "2022-02-12T11:59:11.835Z"
   },
   {
    "duration": 6,
    "start_time": "2022-02-12T11:59:11.856Z"
   },
   {
    "duration": 8,
    "start_time": "2022-02-12T11:59:11.863Z"
   },
   {
    "duration": 16,
    "start_time": "2022-02-12T11:59:11.872Z"
   },
   {
    "duration": 6,
    "start_time": "2022-02-12T11:59:11.890Z"
   },
   {
    "duration": 32,
    "start_time": "2022-02-12T11:59:11.897Z"
   },
   {
    "duration": 9,
    "start_time": "2022-02-12T11:59:11.930Z"
   },
   {
    "duration": 19,
    "start_time": "2022-02-12T11:59:11.941Z"
   },
   {
    "duration": 7,
    "start_time": "2022-02-12T11:59:11.962Z"
   },
   {
    "duration": 8,
    "start_time": "2022-02-12T11:59:11.971Z"
   },
   {
    "duration": 12,
    "start_time": "2022-02-12T11:59:11.980Z"
   },
   {
    "duration": 9,
    "start_time": "2022-02-12T11:59:11.994Z"
   },
   {
    "duration": 7,
    "start_time": "2022-02-12T12:01:04.404Z"
   },
   {
    "duration": 7,
    "start_time": "2022-02-12T12:01:12.715Z"
   },
   {
    "duration": 11,
    "start_time": "2022-02-12T12:01:12.724Z"
   },
   {
    "duration": 8,
    "start_time": "2022-02-12T12:01:12.737Z"
   },
   {
    "duration": 7,
    "start_time": "2022-02-12T12:02:38.210Z"
   },
   {
    "duration": 12,
    "start_time": "2022-02-12T12:02:38.219Z"
   },
   {
    "duration": 17,
    "start_time": "2022-02-12T16:28:30.769Z"
   },
   {
    "duration": 423,
    "start_time": "2022-02-12T16:31:49.945Z"
   },
   {
    "duration": 8,
    "start_time": "2022-02-12T16:32:19.446Z"
   },
   {
    "duration": 7,
    "start_time": "2022-02-12T16:33:20.231Z"
   },
   {
    "duration": 520,
    "start_time": "2022-02-12T16:33:56.995Z"
   },
   {
    "duration": 580,
    "start_time": "2022-02-12T16:34:34.895Z"
   },
   {
    "duration": 1068,
    "start_time": "2022-02-12T16:35:25.240Z"
   },
   {
    "duration": 597,
    "start_time": "2022-02-12T16:36:51.240Z"
   },
   {
    "duration": 6,
    "start_time": "2022-02-12T16:37:07.127Z"
   },
   {
    "duration": 7,
    "start_time": "2022-02-12T16:37:28.182Z"
   },
   {
    "duration": 8,
    "start_time": "2022-02-12T16:38:31.117Z"
   },
   {
    "duration": 9,
    "start_time": "2022-02-12T16:38:45.904Z"
   },
   {
    "duration": 6,
    "start_time": "2022-02-12T16:40:04.339Z"
   },
   {
    "duration": 7,
    "start_time": "2022-02-12T16:40:11.514Z"
   },
   {
    "duration": 1730,
    "start_time": "2022-02-12T16:40:11.523Z"
   },
   {
    "duration": -203,
    "start_time": "2022-02-12T16:40:13.458Z"
   },
   {
    "duration": -206,
    "start_time": "2022-02-12T16:40:13.462Z"
   },
   {
    "duration": -208,
    "start_time": "2022-02-12T16:40:13.465Z"
   },
   {
    "duration": 2,
    "start_time": "2022-02-12T16:40:26.194Z"
   },
   {
    "duration": 59,
    "start_time": "2022-02-12T16:40:26.198Z"
   },
   {
    "duration": 10,
    "start_time": "2022-02-12T16:40:26.259Z"
   },
   {
    "duration": 29,
    "start_time": "2022-02-12T16:40:26.271Z"
   },
   {
    "duration": 3,
    "start_time": "2022-02-12T16:40:26.301Z"
   },
   {
    "duration": 26,
    "start_time": "2022-02-12T16:40:26.306Z"
   },
   {
    "duration": 4,
    "start_time": "2022-02-12T16:40:26.333Z"
   },
   {
    "duration": 6,
    "start_time": "2022-02-12T16:40:26.339Z"
   },
   {
    "duration": 5,
    "start_time": "2022-02-12T16:40:26.347Z"
   },
   {
    "duration": 6,
    "start_time": "2022-02-12T16:40:26.353Z"
   },
   {
    "duration": 5,
    "start_time": "2022-02-12T16:40:26.360Z"
   },
   {
    "duration": 5,
    "start_time": "2022-02-12T16:40:26.366Z"
   },
   {
    "duration": 8,
    "start_time": "2022-02-12T16:40:26.372Z"
   },
   {
    "duration": 48,
    "start_time": "2022-02-12T16:40:26.381Z"
   },
   {
    "duration": 10,
    "start_time": "2022-02-12T16:40:26.431Z"
   },
   {
    "duration": 12,
    "start_time": "2022-02-12T16:40:26.443Z"
   },
   {
    "duration": 25,
    "start_time": "2022-02-12T16:40:26.456Z"
   },
   {
    "duration": 47,
    "start_time": "2022-02-12T16:40:26.483Z"
   },
   {
    "duration": 27,
    "start_time": "2022-02-12T16:40:26.531Z"
   },
   {
    "duration": 29,
    "start_time": "2022-02-12T16:40:26.560Z"
   },
   {
    "duration": 13,
    "start_time": "2022-02-12T16:40:26.591Z"
   },
   {
    "duration": 25,
    "start_time": "2022-02-12T16:40:26.605Z"
   },
   {
    "duration": 5,
    "start_time": "2022-02-12T16:40:26.633Z"
   },
   {
    "duration": 13,
    "start_time": "2022-02-12T16:40:26.639Z"
   },
   {
    "duration": 13,
    "start_time": "2022-02-12T16:40:26.653Z"
   },
   {
    "duration": 4,
    "start_time": "2022-02-12T16:40:26.668Z"
   },
   {
    "duration": 15,
    "start_time": "2022-02-12T16:40:26.674Z"
   },
   {
    "duration": 46,
    "start_time": "2022-02-12T16:40:26.691Z"
   },
   {
    "duration": 16,
    "start_time": "2022-02-12T16:40:26.738Z"
   },
   {
    "duration": 4,
    "start_time": "2022-02-12T16:40:26.755Z"
   },
   {
    "duration": 8,
    "start_time": "2022-02-12T16:40:26.760Z"
   },
   {
    "duration": 15,
    "start_time": "2022-02-12T16:40:26.769Z"
   },
   {
    "duration": 8,
    "start_time": "2022-02-12T16:40:26.786Z"
   },
   {
    "duration": 16,
    "start_time": "2022-02-12T16:40:26.827Z"
   },
   {
    "duration": 6,
    "start_time": "2022-02-12T16:40:26.845Z"
   },
   {
    "duration": 7,
    "start_time": "2022-02-12T16:40:26.852Z"
   },
   {
    "duration": 15,
    "start_time": "2022-02-12T16:40:26.860Z"
   },
   {
    "duration": 6,
    "start_time": "2022-02-12T16:40:26.876Z"
   },
   {
    "duration": 7,
    "start_time": "2022-02-12T16:40:26.883Z"
   },
   {
    "duration": 38,
    "start_time": "2022-02-12T16:40:26.892Z"
   },
   {
    "duration": 16,
    "start_time": "2022-02-12T16:40:26.931Z"
   },
   {
    "duration": 8,
    "start_time": "2022-02-12T16:40:26.948Z"
   },
   {
    "duration": 7,
    "start_time": "2022-02-12T16:40:26.957Z"
   },
   {
    "duration": 8,
    "start_time": "2022-02-12T16:40:26.965Z"
   },
   {
    "duration": 8,
    "start_time": "2022-02-12T16:40:26.974Z"
   },
   {
    "duration": 50,
    "start_time": "2022-02-12T16:40:26.984Z"
   },
   {
    "duration": 7,
    "start_time": "2022-02-12T16:40:27.035Z"
   },
   {
    "duration": 7,
    "start_time": "2022-02-12T16:40:27.043Z"
   },
   {
    "duration": 8,
    "start_time": "2022-02-12T16:42:00.513Z"
   },
   {
    "duration": 525,
    "start_time": "2022-02-12T16:42:36.159Z"
   },
   {
    "duration": 3,
    "start_time": "2022-02-12T16:42:42.495Z"
   },
   {
    "duration": 60,
    "start_time": "2022-02-12T16:42:42.499Z"
   },
   {
    "duration": 8,
    "start_time": "2022-02-12T16:42:42.561Z"
   },
   {
    "duration": 26,
    "start_time": "2022-02-12T16:42:42.571Z"
   },
   {
    "duration": 28,
    "start_time": "2022-02-12T16:42:42.599Z"
   },
   {
    "duration": 8,
    "start_time": "2022-02-12T16:42:42.628Z"
   },
   {
    "duration": 4,
    "start_time": "2022-02-12T16:42:42.637Z"
   },
   {
    "duration": 5,
    "start_time": "2022-02-12T16:42:42.644Z"
   },
   {
    "duration": 5,
    "start_time": "2022-02-12T16:42:42.651Z"
   },
   {
    "duration": 8,
    "start_time": "2022-02-12T16:42:42.658Z"
   },
   {
    "duration": 5,
    "start_time": "2022-02-12T16:42:42.668Z"
   },
   {
    "duration": 4,
    "start_time": "2022-02-12T16:42:42.675Z"
   },
   {
    "duration": 47,
    "start_time": "2022-02-12T16:42:42.681Z"
   },
   {
    "duration": 10,
    "start_time": "2022-02-12T16:42:42.729Z"
   },
   {
    "duration": 12,
    "start_time": "2022-02-12T16:42:42.740Z"
   },
   {
    "duration": 14,
    "start_time": "2022-02-12T16:42:42.754Z"
   },
   {
    "duration": 57,
    "start_time": "2022-02-12T16:42:42.770Z"
   },
   {
    "duration": 21,
    "start_time": "2022-02-12T16:42:42.829Z"
   },
   {
    "duration": 37,
    "start_time": "2022-02-12T16:42:42.852Z"
   },
   {
    "duration": 62,
    "start_time": "2022-02-12T16:42:42.891Z"
   },
   {
    "duration": 19,
    "start_time": "2022-02-12T16:42:42.955Z"
   },
   {
    "duration": 6,
    "start_time": "2022-02-12T16:42:42.976Z"
   },
   {
    "duration": 10,
    "start_time": "2022-02-12T16:42:42.986Z"
   },
   {
    "duration": 32,
    "start_time": "2022-02-12T16:42:42.998Z"
   },
   {
    "duration": 15,
    "start_time": "2022-02-12T16:42:43.032Z"
   },
   {
    "duration": 7,
    "start_time": "2022-02-12T16:42:43.049Z"
   },
   {
    "duration": 21,
    "start_time": "2022-02-12T16:42:43.057Z"
   },
   {
    "duration": 20,
    "start_time": "2022-02-12T16:42:43.079Z"
   },
   {
    "duration": 36,
    "start_time": "2022-02-12T16:42:43.101Z"
   },
   {
    "duration": 7,
    "start_time": "2022-02-12T16:42:43.139Z"
   },
   {
    "duration": 10,
    "start_time": "2022-02-12T16:42:43.147Z"
   },
   {
    "duration": 16,
    "start_time": "2022-02-12T16:42:43.159Z"
   },
   {
    "duration": 9,
    "start_time": "2022-02-12T16:42:43.176Z"
   },
   {
    "duration": 41,
    "start_time": "2022-02-12T16:42:43.186Z"
   },
   {
    "duration": 7,
    "start_time": "2022-02-12T16:42:43.228Z"
   },
   {
    "duration": 7,
    "start_time": "2022-02-12T16:42:43.236Z"
   },
   {
    "duration": 15,
    "start_time": "2022-02-12T16:42:43.244Z"
   },
   {
    "duration": 7,
    "start_time": "2022-02-12T16:42:43.260Z"
   },
   {
    "duration": 6,
    "start_time": "2022-02-12T16:42:43.268Z"
   },
   {
    "duration": 9,
    "start_time": "2022-02-12T16:42:43.276Z"
   },
   {
    "duration": 45,
    "start_time": "2022-02-12T16:42:43.286Z"
   },
   {
    "duration": 6,
    "start_time": "2022-02-12T16:42:43.333Z"
   },
   {
    "duration": 10,
    "start_time": "2022-02-12T16:42:43.340Z"
   },
   {
    "duration": 9,
    "start_time": "2022-02-12T16:42:43.351Z"
   },
   {
    "duration": 10,
    "start_time": "2022-02-12T16:42:43.362Z"
   },
   {
    "duration": 15,
    "start_time": "2022-02-12T16:42:43.374Z"
   },
   {
    "duration": 6,
    "start_time": "2022-02-12T16:42:43.391Z"
   },
   {
    "duration": 34,
    "start_time": "2022-02-12T16:42:43.398Z"
   },
   {
    "duration": 9,
    "start_time": "2022-02-12T16:43:00.148Z"
   },
   {
    "duration": 307,
    "start_time": "2022-02-12T16:43:35.758Z"
   },
   {
    "duration": 2,
    "start_time": "2022-02-12T16:43:41.954Z"
   },
   {
    "duration": 57,
    "start_time": "2022-02-12T16:43:41.958Z"
   },
   {
    "duration": 9,
    "start_time": "2022-02-12T16:43:42.017Z"
   },
   {
    "duration": 27,
    "start_time": "2022-02-12T16:43:42.027Z"
   },
   {
    "duration": 3,
    "start_time": "2022-02-12T16:43:42.056Z"
   },
   {
    "duration": 19,
    "start_time": "2022-02-12T16:43:42.060Z"
   },
   {
    "duration": 13,
    "start_time": "2022-02-12T16:43:42.080Z"
   },
   {
    "duration": 7,
    "start_time": "2022-02-12T16:43:42.095Z"
   },
   {
    "duration": 5,
    "start_time": "2022-02-12T16:43:42.105Z"
   },
   {
    "duration": 10,
    "start_time": "2022-02-12T16:43:42.117Z"
   },
   {
    "duration": 5,
    "start_time": "2022-02-12T16:43:42.129Z"
   },
   {
    "duration": 5,
    "start_time": "2022-02-12T16:43:42.136Z"
   },
   {
    "duration": 5,
    "start_time": "2022-02-12T16:43:42.142Z"
   },
   {
    "duration": 7,
    "start_time": "2022-02-12T16:43:42.149Z"
   },
   {
    "duration": 10,
    "start_time": "2022-02-12T16:43:42.158Z"
   },
   {
    "duration": 12,
    "start_time": "2022-02-12T16:43:42.170Z"
   },
   {
    "duration": 24,
    "start_time": "2022-02-12T16:43:42.227Z"
   },
   {
    "duration": 14,
    "start_time": "2022-02-12T16:43:42.253Z"
   },
   {
    "duration": 26,
    "start_time": "2022-02-12T16:43:42.269Z"
   },
   {
    "duration": 55,
    "start_time": "2022-02-12T16:43:42.296Z"
   },
   {
    "duration": 14,
    "start_time": "2022-02-12T16:43:42.353Z"
   },
   {
    "duration": 5,
    "start_time": "2022-02-12T16:43:42.368Z"
   },
   {
    "duration": 5,
    "start_time": "2022-02-12T16:43:42.375Z"
   },
   {
    "duration": 10,
    "start_time": "2022-02-12T16:43:42.381Z"
   },
   {
    "duration": 44,
    "start_time": "2022-02-12T16:43:42.392Z"
   },
   {
    "duration": 5,
    "start_time": "2022-02-12T16:43:42.438Z"
   },
   {
    "duration": 12,
    "start_time": "2022-02-12T16:43:42.447Z"
   },
   {
    "duration": 17,
    "start_time": "2022-02-12T16:43:42.462Z"
   },
   {
    "duration": 15,
    "start_time": "2022-02-12T16:43:42.481Z"
   },
   {
    "duration": 31,
    "start_time": "2022-02-12T16:43:42.497Z"
   },
   {
    "duration": 8,
    "start_time": "2022-02-12T16:43:42.530Z"
   },
   {
    "duration": 14,
    "start_time": "2022-02-12T16:43:42.539Z"
   },
   {
    "duration": 10,
    "start_time": "2022-02-12T16:43:42.555Z"
   },
   {
    "duration": 17,
    "start_time": "2022-02-12T16:43:42.567Z"
   },
   {
    "duration": 7,
    "start_time": "2022-02-12T16:43:42.586Z"
   },
   {
    "duration": 6,
    "start_time": "2022-02-12T16:43:42.627Z"
   },
   {
    "duration": 15,
    "start_time": "2022-02-12T16:43:42.635Z"
   },
   {
    "duration": 6,
    "start_time": "2022-02-12T16:43:42.652Z"
   },
   {
    "duration": 7,
    "start_time": "2022-02-12T16:43:42.660Z"
   },
   {
    "duration": 10,
    "start_time": "2022-02-12T16:43:42.669Z"
   },
   {
    "duration": 51,
    "start_time": "2022-02-12T16:43:42.680Z"
   },
   {
    "duration": 7,
    "start_time": "2022-02-12T16:43:42.733Z"
   },
   {
    "duration": 12,
    "start_time": "2022-02-12T16:43:42.742Z"
   },
   {
    "duration": 8,
    "start_time": "2022-02-12T16:43:42.755Z"
   },
   {
    "duration": 11,
    "start_time": "2022-02-12T16:43:42.764Z"
   },
   {
    "duration": 20,
    "start_time": "2022-02-12T16:43:42.776Z"
   },
   {
    "duration": 6,
    "start_time": "2022-02-12T16:43:42.797Z"
   },
   {
    "duration": 28,
    "start_time": "2022-02-12T16:43:42.804Z"
   },
   {
    "duration": 8,
    "start_time": "2022-02-12T16:44:08.443Z"
   },
   {
    "duration": 18,
    "start_time": "2022-02-12T16:44:30.304Z"
   },
   {
    "duration": 19,
    "start_time": "2022-02-12T16:44:37.546Z"
   },
   {
    "duration": 584,
    "start_time": "2022-02-12T16:44:55.764Z"
   },
   {
    "duration": 3,
    "start_time": "2022-02-12T16:45:01.088Z"
   },
   {
    "duration": 61,
    "start_time": "2022-02-12T16:45:01.092Z"
   },
   {
    "duration": 9,
    "start_time": "2022-02-12T16:45:01.155Z"
   },
   {
    "duration": 31,
    "start_time": "2022-02-12T16:45:01.165Z"
   },
   {
    "duration": 3,
    "start_time": "2022-02-12T16:45:01.198Z"
   },
   {
    "duration": 32,
    "start_time": "2022-02-12T16:45:01.202Z"
   },
   {
    "duration": 15,
    "start_time": "2022-02-12T16:45:01.235Z"
   },
   {
    "duration": 14,
    "start_time": "2022-02-12T16:45:01.252Z"
   },
   {
    "duration": 10,
    "start_time": "2022-02-12T16:45:01.268Z"
   },
   {
    "duration": 9,
    "start_time": "2022-02-12T16:45:01.280Z"
   },
   {
    "duration": 23,
    "start_time": "2022-02-12T16:45:01.291Z"
   },
   {
    "duration": 6,
    "start_time": "2022-02-12T16:45:01.315Z"
   },
   {
    "duration": 10,
    "start_time": "2022-02-12T16:45:01.323Z"
   },
   {
    "duration": 15,
    "start_time": "2022-02-12T16:45:01.335Z"
   },
   {
    "duration": 11,
    "start_time": "2022-02-12T16:45:01.351Z"
   },
   {
    "duration": 11,
    "start_time": "2022-02-12T16:45:01.364Z"
   },
   {
    "duration": 26,
    "start_time": "2022-02-12T16:45:01.377Z"
   },
   {
    "duration": 30,
    "start_time": "2022-02-12T16:45:01.405Z"
   },
   {
    "duration": 30,
    "start_time": "2022-02-12T16:45:01.436Z"
   },
   {
    "duration": 33,
    "start_time": "2022-02-12T16:45:01.468Z"
   },
   {
    "duration": 16,
    "start_time": "2022-02-12T16:45:01.528Z"
   },
   {
    "duration": 9,
    "start_time": "2022-02-12T16:45:01.546Z"
   },
   {
    "duration": 14,
    "start_time": "2022-02-12T16:45:01.559Z"
   },
   {
    "duration": 16,
    "start_time": "2022-02-12T16:45:01.576Z"
   },
   {
    "duration": 25,
    "start_time": "2022-02-12T16:45:01.594Z"
   },
   {
    "duration": 7,
    "start_time": "2022-02-12T16:45:01.621Z"
   },
   {
    "duration": 18,
    "start_time": "2022-02-12T16:45:01.629Z"
   },
   {
    "duration": 18,
    "start_time": "2022-02-12T16:45:01.648Z"
   },
   {
    "duration": 20,
    "start_time": "2022-02-12T16:45:01.667Z"
   },
   {
    "duration": 7,
    "start_time": "2022-02-12T16:45:01.689Z"
   },
   {
    "duration": 12,
    "start_time": "2022-02-12T16:45:01.728Z"
   },
   {
    "duration": 16,
    "start_time": "2022-02-12T16:45:01.742Z"
   },
   {
    "duration": 18,
    "start_time": "2022-02-12T16:45:01.760Z"
   },
   {
    "duration": 18,
    "start_time": "2022-02-12T16:45:01.780Z"
   },
   {
    "duration": 33,
    "start_time": "2022-02-12T16:45:01.800Z"
   },
   {
    "duration": 12,
    "start_time": "2022-02-12T16:45:01.835Z"
   },
   {
    "duration": 16,
    "start_time": "2022-02-12T16:45:01.849Z"
   },
   {
    "duration": 7,
    "start_time": "2022-02-12T16:45:01.866Z"
   },
   {
    "duration": 8,
    "start_time": "2022-02-12T16:45:01.874Z"
   },
   {
    "duration": 12,
    "start_time": "2022-02-12T16:45:01.884Z"
   },
   {
    "duration": 40,
    "start_time": "2022-02-12T16:45:01.898Z"
   },
   {
    "duration": 7,
    "start_time": "2022-02-12T16:45:01.939Z"
   },
   {
    "duration": 13,
    "start_time": "2022-02-12T16:45:01.947Z"
   },
   {
    "duration": 8,
    "start_time": "2022-02-12T16:45:01.962Z"
   },
   {
    "duration": 12,
    "start_time": "2022-02-12T16:45:01.972Z"
   },
   {
    "duration": 16,
    "start_time": "2022-02-12T16:45:01.986Z"
   },
   {
    "duration": 7,
    "start_time": "2022-02-12T16:45:02.028Z"
   },
   {
    "duration": 10,
    "start_time": "2022-02-12T16:45:02.037Z"
   },
   {
    "duration": 16,
    "start_time": "2022-02-12T16:45:17.676Z"
   },
   {
    "duration": 13,
    "start_time": "2022-02-12T16:45:52.338Z"
   },
   {
    "duration": 326,
    "start_time": "2022-02-12T16:46:05.572Z"
   },
   {
    "duration": 3,
    "start_time": "2022-02-12T16:46:13.570Z"
   },
   {
    "duration": 56,
    "start_time": "2022-02-12T16:46:13.574Z"
   },
   {
    "duration": 9,
    "start_time": "2022-02-12T16:46:13.631Z"
   },
   {
    "duration": 26,
    "start_time": "2022-02-12T16:46:13.641Z"
   },
   {
    "duration": 4,
    "start_time": "2022-02-12T16:46:13.668Z"
   },
   {
    "duration": 9,
    "start_time": "2022-02-12T16:46:13.673Z"
   },
   {
    "duration": 4,
    "start_time": "2022-02-12T16:46:13.684Z"
   },
   {
    "duration": 7,
    "start_time": "2022-02-12T16:46:13.690Z"
   },
   {
    "duration": 31,
    "start_time": "2022-02-12T16:46:13.698Z"
   },
   {
    "duration": 6,
    "start_time": "2022-02-12T16:46:13.730Z"
   },
   {
    "duration": 7,
    "start_time": "2022-02-12T16:46:13.737Z"
   },
   {
    "duration": 11,
    "start_time": "2022-02-12T16:46:13.745Z"
   },
   {
    "duration": 8,
    "start_time": "2022-02-12T16:46:13.757Z"
   },
   {
    "duration": 10,
    "start_time": "2022-02-12T16:46:13.767Z"
   },
   {
    "duration": 10,
    "start_time": "2022-02-12T16:46:13.778Z"
   },
   {
    "duration": 15,
    "start_time": "2022-02-12T16:46:13.789Z"
   },
   {
    "duration": 43,
    "start_time": "2022-02-12T16:46:13.805Z"
   },
   {
    "duration": 13,
    "start_time": "2022-02-12T16:46:13.849Z"
   },
   {
    "duration": 25,
    "start_time": "2022-02-12T16:46:13.865Z"
   },
   {
    "duration": 50,
    "start_time": "2022-02-12T16:46:13.891Z"
   },
   {
    "duration": 14,
    "start_time": "2022-02-12T16:46:13.942Z"
   },
   {
    "duration": 5,
    "start_time": "2022-02-12T16:46:13.957Z"
   },
   {
    "duration": 5,
    "start_time": "2022-02-12T16:46:13.963Z"
   },
   {
    "duration": 13,
    "start_time": "2022-02-12T16:46:17.062Z"
   },
   {
    "duration": 14,
    "start_time": "2022-02-12T16:46:30.619Z"
   },
   {
    "duration": 13,
    "start_time": "2022-02-12T16:47:04.617Z"
   },
   {
    "duration": 12,
    "start_time": "2022-02-12T16:47:08.320Z"
   },
   {
    "duration": 10,
    "start_time": "2022-02-12T16:47:19.359Z"
   },
   {
    "duration": 8,
    "start_time": "2022-02-12T16:47:28.087Z"
   },
   {
    "duration": 54,
    "start_time": "2022-02-12T16:47:47.347Z"
   },
   {
    "duration": 3,
    "start_time": "2022-02-12T17:57:48.754Z"
   },
   {
    "duration": 54,
    "start_time": "2022-02-12T17:57:48.760Z"
   },
   {
    "duration": 10,
    "start_time": "2022-02-12T17:57:48.816Z"
   },
   {
    "duration": 26,
    "start_time": "2022-02-12T17:57:48.828Z"
   },
   {
    "duration": 3,
    "start_time": "2022-02-12T17:57:48.856Z"
   },
   {
    "duration": 10,
    "start_time": "2022-02-12T17:57:48.860Z"
   },
   {
    "duration": 3,
    "start_time": "2022-02-12T17:57:48.872Z"
   },
   {
    "duration": 6,
    "start_time": "2022-02-12T17:57:48.877Z"
   },
   {
    "duration": 4,
    "start_time": "2022-02-12T17:57:48.885Z"
   },
   {
    "duration": 9,
    "start_time": "2022-02-12T17:57:48.891Z"
   },
   {
    "duration": 27,
    "start_time": "2022-02-12T17:57:48.902Z"
   },
   {
    "duration": 4,
    "start_time": "2022-02-12T17:57:48.931Z"
   },
   {
    "duration": 6,
    "start_time": "2022-02-12T17:57:48.936Z"
   },
   {
    "duration": 7,
    "start_time": "2022-02-12T17:57:48.943Z"
   },
   {
    "duration": 8,
    "start_time": "2022-02-12T17:57:48.951Z"
   },
   {
    "duration": 11,
    "start_time": "2022-02-12T17:57:48.961Z"
   },
   {
    "duration": 60,
    "start_time": "2022-02-12T17:57:48.973Z"
   },
   {
    "duration": 14,
    "start_time": "2022-02-12T17:57:49.035Z"
   },
   {
    "duration": 25,
    "start_time": "2022-02-12T17:57:49.051Z"
   },
   {
    "duration": 58,
    "start_time": "2022-02-12T17:57:49.077Z"
   },
   {
    "duration": 14,
    "start_time": "2022-02-12T17:57:49.137Z"
   },
   {
    "duration": 6,
    "start_time": "2022-02-12T17:57:49.153Z"
   },
   {
    "duration": 5,
    "start_time": "2022-02-12T17:57:49.161Z"
   },
   {
    "duration": 15,
    "start_time": "2022-02-12T17:57:49.169Z"
   },
   {
    "duration": 55,
    "start_time": "2022-02-12T17:57:49.187Z"
   },
   {
    "duration": 6,
    "start_time": "2022-02-12T17:57:49.244Z"
   },
   {
    "duration": 22,
    "start_time": "2022-02-12T17:57:49.251Z"
   },
   {
    "duration": 22,
    "start_time": "2022-02-12T17:57:49.275Z"
   },
   {
    "duration": 39,
    "start_time": "2022-02-12T17:57:49.298Z"
   },
   {
    "duration": 4,
    "start_time": "2022-02-12T17:57:49.338Z"
   },
   {
    "duration": 11,
    "start_time": "2022-02-12T17:57:49.343Z"
   },
   {
    "duration": 16,
    "start_time": "2022-02-12T17:57:49.355Z"
   },
   {
    "duration": 11,
    "start_time": "2022-02-12T17:57:49.372Z"
   },
   {
    "duration": 44,
    "start_time": "2022-02-12T17:57:49.384Z"
   },
   {
    "duration": 5,
    "start_time": "2022-02-12T17:57:49.430Z"
   },
   {
    "duration": 13,
    "start_time": "2022-02-12T17:57:49.437Z"
   },
   {
    "duration": 16,
    "start_time": "2022-02-12T17:57:49.452Z"
   },
   {
    "duration": 6,
    "start_time": "2022-02-12T17:57:49.469Z"
   },
   {
    "duration": 8,
    "start_time": "2022-02-12T17:57:49.477Z"
   },
   {
    "duration": 12,
    "start_time": "2022-02-12T17:57:49.486Z"
   },
   {
    "duration": 35,
    "start_time": "2022-02-12T17:57:49.499Z"
   },
   {
    "duration": 7,
    "start_time": "2022-02-12T17:57:49.536Z"
   },
   {
    "duration": 10,
    "start_time": "2022-02-12T17:57:49.544Z"
   },
   {
    "duration": 15,
    "start_time": "2022-02-12T17:57:49.556Z"
   },
   {
    "duration": 14,
    "start_time": "2022-02-12T17:57:49.572Z"
   },
   {
    "duration": 19,
    "start_time": "2022-02-12T17:57:49.587Z"
   },
   {
    "duration": 23,
    "start_time": "2022-02-12T17:57:49.608Z"
   },
   {
    "duration": 10,
    "start_time": "2022-02-12T17:57:49.632Z"
   },
   {
    "duration": 10,
    "start_time": "2022-02-12T19:51:15.286Z"
   },
   {
    "duration": 9,
    "start_time": "2022-02-12T19:52:42.304Z"
   },
   {
    "duration": 3,
    "start_time": "2022-02-12T19:53:22.871Z"
   },
   {
    "duration": 60,
    "start_time": "2022-02-12T19:53:22.877Z"
   },
   {
    "duration": 12,
    "start_time": "2022-02-12T19:53:22.939Z"
   },
   {
    "duration": 28,
    "start_time": "2022-02-12T19:53:22.953Z"
   },
   {
    "duration": 3,
    "start_time": "2022-02-12T19:53:22.983Z"
   },
   {
    "duration": 45,
    "start_time": "2022-02-12T19:53:22.988Z"
   },
   {
    "duration": 5,
    "start_time": "2022-02-12T19:53:23.035Z"
   },
   {
    "duration": 6,
    "start_time": "2022-02-12T19:53:23.041Z"
   },
   {
    "duration": 4,
    "start_time": "2022-02-12T19:53:23.049Z"
   },
   {
    "duration": 7,
    "start_time": "2022-02-12T19:53:23.055Z"
   },
   {
    "duration": 4,
    "start_time": "2022-02-12T19:53:23.064Z"
   },
   {
    "duration": 5,
    "start_time": "2022-02-12T19:53:23.069Z"
   },
   {
    "duration": 7,
    "start_time": "2022-02-12T19:53:23.076Z"
   },
   {
    "duration": 44,
    "start_time": "2022-02-12T19:53:23.084Z"
   },
   {
    "duration": 11,
    "start_time": "2022-02-12T19:53:23.130Z"
   },
   {
    "duration": 11,
    "start_time": "2022-02-12T19:53:23.143Z"
   },
   {
    "duration": 26,
    "start_time": "2022-02-12T19:53:23.156Z"
   },
   {
    "duration": 14,
    "start_time": "2022-02-12T19:53:23.183Z"
   },
   {
    "duration": 53,
    "start_time": "2022-02-12T19:53:23.198Z"
   },
   {
    "duration": 30,
    "start_time": "2022-02-12T19:53:23.253Z"
   },
   {
    "duration": 14,
    "start_time": "2022-02-12T19:53:23.284Z"
   },
   {
    "duration": 4,
    "start_time": "2022-02-12T19:53:23.300Z"
   },
   {
    "duration": 21,
    "start_time": "2022-02-12T19:53:23.306Z"
   },
   {
    "duration": 12,
    "start_time": "2022-02-12T19:53:23.328Z"
   },
   {
    "duration": 15,
    "start_time": "2022-02-12T19:53:23.342Z"
   },
   {
    "duration": 5,
    "start_time": "2022-02-12T19:53:23.359Z"
   },
   {
    "duration": 18,
    "start_time": "2022-02-12T19:53:23.365Z"
   },
   {
    "duration": 49,
    "start_time": "2022-02-12T19:53:23.386Z"
   },
   {
    "duration": 18,
    "start_time": "2022-02-12T19:53:23.437Z"
   },
   {
    "duration": 5,
    "start_time": "2022-02-12T19:53:23.457Z"
   },
   {
    "duration": 10,
    "start_time": "2022-02-12T19:53:23.463Z"
   },
   {
    "duration": 16,
    "start_time": "2022-02-12T19:53:23.474Z"
   },
   {
    "duration": 36,
    "start_time": "2022-02-12T19:53:23.491Z"
   },
   {
    "duration": 14,
    "start_time": "2022-02-12T19:53:23.529Z"
   },
   {
    "duration": 6,
    "start_time": "2022-02-12T19:53:23.544Z"
   },
   {
    "duration": 9,
    "start_time": "2022-02-12T19:53:23.551Z"
   },
   {
    "duration": 16,
    "start_time": "2022-02-12T19:53:23.561Z"
   },
   {
    "duration": 6,
    "start_time": "2022-02-12T19:53:23.578Z"
   },
   {
    "duration": 7,
    "start_time": "2022-02-12T19:53:23.585Z"
   },
   {
    "duration": 39,
    "start_time": "2022-02-12T19:53:23.593Z"
   },
   {
    "duration": 14,
    "start_time": "2022-02-12T19:53:23.634Z"
   },
   {
    "duration": 6,
    "start_time": "2022-02-12T19:53:23.649Z"
   },
   {
    "duration": 8,
    "start_time": "2022-02-12T19:53:23.657Z"
   },
   {
    "duration": 7,
    "start_time": "2022-02-12T19:53:23.667Z"
   },
   {
    "duration": 12,
    "start_time": "2022-02-12T19:53:23.675Z"
   },
   {
    "duration": 41,
    "start_time": "2022-02-12T19:53:23.689Z"
   },
   {
    "duration": 6,
    "start_time": "2022-02-12T19:53:23.731Z"
   },
   {
    "duration": 10,
    "start_time": "2022-02-12T19:53:23.739Z"
   },
   {
    "duration": 6,
    "start_time": "2022-02-12T19:55:56.813Z"
   },
   {
    "duration": 4,
    "start_time": "2022-02-12T19:56:11.897Z"
   },
   {
    "duration": 77,
    "start_time": "2022-02-12T19:56:11.903Z"
   },
   {
    "duration": 13,
    "start_time": "2022-02-12T19:56:11.982Z"
   },
   {
    "duration": 61,
    "start_time": "2022-02-12T19:56:11.997Z"
   },
   {
    "duration": 4,
    "start_time": "2022-02-12T19:56:12.060Z"
   },
   {
    "duration": 14,
    "start_time": "2022-02-12T19:56:12.066Z"
   },
   {
    "duration": 3,
    "start_time": "2022-02-12T19:56:12.082Z"
   },
   {
    "duration": 7,
    "start_time": "2022-02-12T19:56:12.086Z"
   },
   {
    "duration": 7,
    "start_time": "2022-02-12T19:56:12.094Z"
   },
   {
    "duration": 6,
    "start_time": "2022-02-12T19:56:12.127Z"
   },
   {
    "duration": 4,
    "start_time": "2022-02-12T19:56:12.135Z"
   },
   {
    "duration": 7,
    "start_time": "2022-02-12T19:56:12.141Z"
   },
   {
    "duration": 6,
    "start_time": "2022-02-12T19:56:12.150Z"
   },
   {
    "duration": 8,
    "start_time": "2022-02-12T19:56:12.158Z"
   },
   {
    "duration": 10,
    "start_time": "2022-02-12T19:56:12.167Z"
   },
   {
    "duration": 48,
    "start_time": "2022-02-12T19:56:12.179Z"
   },
   {
    "duration": 25,
    "start_time": "2022-02-12T19:56:12.229Z"
   },
   {
    "duration": 14,
    "start_time": "2022-02-12T19:56:12.256Z"
   },
   {
    "duration": 27,
    "start_time": "2022-02-12T19:56:12.272Z"
   },
   {
    "duration": 55,
    "start_time": "2022-02-12T19:56:12.300Z"
   },
   {
    "duration": 14,
    "start_time": "2022-02-12T19:56:12.356Z"
   },
   {
    "duration": 5,
    "start_time": "2022-02-12T19:56:12.371Z"
   },
   {
    "duration": 4,
    "start_time": "2022-02-12T19:56:12.378Z"
   },
   {
    "duration": 18,
    "start_time": "2022-02-12T19:56:12.384Z"
   },
   {
    "duration": 36,
    "start_time": "2022-02-12T19:56:12.404Z"
   },
   {
    "duration": 5,
    "start_time": "2022-02-12T19:56:12.442Z"
   },
   {
    "duration": 19,
    "start_time": "2022-02-12T19:56:12.448Z"
   },
   {
    "duration": 18,
    "start_time": "2022-02-12T19:56:12.470Z"
   },
   {
    "duration": 43,
    "start_time": "2022-02-12T19:56:12.489Z"
   },
   {
    "duration": 5,
    "start_time": "2022-02-12T19:56:12.534Z"
   },
   {
    "duration": 10,
    "start_time": "2022-02-12T19:56:12.540Z"
   },
   {
    "duration": 15,
    "start_time": "2022-02-12T19:56:12.551Z"
   },
   {
    "duration": 10,
    "start_time": "2022-02-12T19:56:12.567Z"
   },
   {
    "duration": 15,
    "start_time": "2022-02-12T19:56:12.579Z"
   },
   {
    "duration": 36,
    "start_time": "2022-02-12T19:56:12.595Z"
   },
   {
    "duration": 10,
    "start_time": "2022-02-12T19:56:12.633Z"
   },
   {
    "duration": 16,
    "start_time": "2022-02-12T19:56:12.645Z"
   },
   {
    "duration": 5,
    "start_time": "2022-02-12T19:56:12.663Z"
   },
   {
    "duration": 8,
    "start_time": "2022-02-12T19:56:12.670Z"
   },
   {
    "duration": 11,
    "start_time": "2022-02-12T19:56:12.679Z"
   },
   {
    "duration": 42,
    "start_time": "2022-02-12T19:56:12.692Z"
   },
   {
    "duration": 6,
    "start_time": "2022-02-12T19:56:12.735Z"
   },
   {
    "duration": 10,
    "start_time": "2022-02-12T19:56:12.743Z"
   },
   {
    "duration": 8,
    "start_time": "2022-02-12T19:56:12.754Z"
   },
   {
    "duration": 11,
    "start_time": "2022-02-12T19:56:12.764Z"
   },
   {
    "duration": 15,
    "start_time": "2022-02-12T19:56:12.777Z"
   },
   {
    "duration": 33,
    "start_time": "2022-02-12T19:56:12.794Z"
   },
   {
    "duration": 8,
    "start_time": "2022-02-12T19:56:12.828Z"
   },
   {
    "duration": 2,
    "start_time": "2022-02-12T19:59:08.736Z"
   },
   {
    "duration": 60,
    "start_time": "2022-02-12T19:59:08.740Z"
   },
   {
    "duration": 9,
    "start_time": "2022-02-12T19:59:08.802Z"
   },
   {
    "duration": 38,
    "start_time": "2022-02-12T19:59:08.813Z"
   },
   {
    "duration": 3,
    "start_time": "2022-02-12T19:59:08.853Z"
   },
   {
    "duration": 11,
    "start_time": "2022-02-12T19:59:08.858Z"
   },
   {
    "duration": 5,
    "start_time": "2022-02-12T19:59:08.871Z"
   },
   {
    "duration": 5,
    "start_time": "2022-02-12T19:59:08.878Z"
   },
   {
    "duration": 12,
    "start_time": "2022-02-12T19:59:08.885Z"
   },
   {
    "duration": 29,
    "start_time": "2022-02-12T19:59:08.898Z"
   },
   {
    "duration": 5,
    "start_time": "2022-02-12T19:59:08.929Z"
   },
   {
    "duration": 7,
    "start_time": "2022-02-12T19:59:08.935Z"
   },
   {
    "duration": 7,
    "start_time": "2022-02-12T19:59:08.944Z"
   },
   {
    "duration": 17,
    "start_time": "2022-02-12T19:59:08.953Z"
   },
   {
    "duration": 10,
    "start_time": "2022-02-12T19:59:08.971Z"
   },
   {
    "duration": 13,
    "start_time": "2022-02-12T19:59:08.982Z"
   },
   {
    "duration": 49,
    "start_time": "2022-02-12T19:59:08.996Z"
   },
   {
    "duration": 15,
    "start_time": "2022-02-12T19:59:09.046Z"
   },
   {
    "duration": 28,
    "start_time": "2022-02-12T19:59:09.062Z"
   },
   {
    "duration": 56,
    "start_time": "2022-02-12T19:59:09.091Z"
   },
   {
    "duration": 22,
    "start_time": "2022-02-12T19:59:09.149Z"
   },
   {
    "duration": 7,
    "start_time": "2022-02-12T19:59:09.173Z"
   },
   {
    "duration": 4,
    "start_time": "2022-02-12T19:59:09.184Z"
   },
   {
    "duration": 42,
    "start_time": "2022-02-12T19:59:09.190Z"
   },
   {
    "duration": 19,
    "start_time": "2022-02-12T19:59:09.234Z"
   },
   {
    "duration": 5,
    "start_time": "2022-02-12T19:59:09.255Z"
   },
   {
    "duration": 22,
    "start_time": "2022-02-12T19:59:09.262Z"
   },
   {
    "duration": 42,
    "start_time": "2022-02-12T19:59:09.286Z"
   },
   {
    "duration": 19,
    "start_time": "2022-02-12T19:59:09.330Z"
   },
   {
    "duration": 9,
    "start_time": "2022-02-12T19:59:09.351Z"
   },
   {
    "duration": 16,
    "start_time": "2022-02-12T19:59:09.361Z"
   },
   {
    "duration": 17,
    "start_time": "2022-02-12T19:59:09.378Z"
   },
   {
    "duration": 34,
    "start_time": "2022-02-12T19:59:09.396Z"
   },
   {
    "duration": 18,
    "start_time": "2022-02-12T19:59:09.431Z"
   },
   {
    "duration": 6,
    "start_time": "2022-02-12T19:59:09.450Z"
   },
   {
    "duration": 10,
    "start_time": "2022-02-12T19:59:09.458Z"
   },
   {
    "duration": 15,
    "start_time": "2022-02-12T19:59:09.469Z"
   },
   {
    "duration": 7,
    "start_time": "2022-02-12T19:59:09.485Z"
   },
   {
    "duration": 35,
    "start_time": "2022-02-12T19:59:09.494Z"
   },
   {
    "duration": 11,
    "start_time": "2022-02-12T19:59:09.530Z"
   },
   {
    "duration": 17,
    "start_time": "2022-02-12T19:59:09.542Z"
   },
   {
    "duration": 6,
    "start_time": "2022-02-12T19:59:09.560Z"
   },
   {
    "duration": 8,
    "start_time": "2022-02-12T19:59:09.568Z"
   },
   {
    "duration": 8,
    "start_time": "2022-02-12T19:59:09.577Z"
   },
   {
    "duration": 12,
    "start_time": "2022-02-12T19:59:09.586Z"
   },
   {
    "duration": 44,
    "start_time": "2022-02-12T19:59:09.599Z"
   },
   {
    "duration": 6,
    "start_time": "2022-02-12T19:59:09.644Z"
   },
   {
    "duration": 10,
    "start_time": "2022-02-12T19:59:09.651Z"
   },
   {
    "duration": 21,
    "start_time": "2022-02-12T20:06:35.829Z"
   },
   {
    "duration": 539,
    "start_time": "2022-02-19T06:48:54.525Z"
   },
   {
    "duration": 91,
    "start_time": "2022-02-19T06:48:55.066Z"
   },
   {
    "duration": 18,
    "start_time": "2022-02-19T06:48:55.160Z"
   },
   {
    "duration": 55,
    "start_time": "2022-02-19T06:48:55.181Z"
   },
   {
    "duration": 6,
    "start_time": "2022-02-19T06:48:55.238Z"
   },
   {
    "duration": 14,
    "start_time": "2022-02-19T06:48:55.246Z"
   },
   {
    "duration": 11,
    "start_time": "2022-02-19T06:48:55.262Z"
   },
   {
    "duration": 35,
    "start_time": "2022-02-19T06:48:55.277Z"
   },
   {
    "duration": 6,
    "start_time": "2022-02-19T06:48:55.315Z"
   },
   {
    "duration": 8,
    "start_time": "2022-02-19T06:48:55.323Z"
   },
   {
    "duration": 7,
    "start_time": "2022-02-19T06:48:55.333Z"
   },
   {
    "duration": 10,
    "start_time": "2022-02-19T06:48:55.342Z"
   },
   {
    "duration": 9,
    "start_time": "2022-02-19T06:48:55.354Z"
   },
   {
    "duration": 44,
    "start_time": "2022-02-19T06:48:55.365Z"
   },
   {
    "duration": 12,
    "start_time": "2022-02-19T06:48:55.411Z"
   },
   {
    "duration": 18,
    "start_time": "2022-02-19T06:48:55.425Z"
   },
   {
    "duration": 64,
    "start_time": "2022-02-19T06:48:55.445Z"
   },
   {
    "duration": 21,
    "start_time": "2022-02-19T06:48:55.511Z"
   },
   {
    "duration": 42,
    "start_time": "2022-02-19T06:48:55.534Z"
   },
   {
    "duration": 59,
    "start_time": "2022-02-19T06:48:55.577Z"
   },
   {
    "duration": 19,
    "start_time": "2022-02-19T06:48:55.637Z"
   },
   {
    "duration": 7,
    "start_time": "2022-02-19T06:48:55.658Z"
   },
   {
    "duration": 10,
    "start_time": "2022-02-19T06:48:55.668Z"
   },
   {
    "duration": 17,
    "start_time": "2022-02-19T06:48:55.709Z"
   },
   {
    "duration": 24,
    "start_time": "2022-02-19T06:48:55.728Z"
   },
   {
    "duration": 7,
    "start_time": "2022-02-19T06:48:55.754Z"
   },
   {
    "duration": 60,
    "start_time": "2022-02-19T06:48:55.762Z"
   },
   {
    "duration": 22,
    "start_time": "2022-02-19T06:48:55.824Z"
   },
   {
    "duration": 26,
    "start_time": "2022-02-19T06:48:55.848Z"
   },
   {
    "duration": 33,
    "start_time": "2022-02-19T06:48:55.876Z"
   },
   {
    "duration": 15,
    "start_time": "2022-02-19T06:48:55.911Z"
   },
   {
    "duration": 20,
    "start_time": "2022-02-19T06:48:55.928Z"
   },
   {
    "duration": 21,
    "start_time": "2022-02-19T06:48:55.950Z"
   },
   {
    "duration": 36,
    "start_time": "2022-02-19T06:48:55.972Z"
   },
   {
    "duration": 11,
    "start_time": "2022-02-19T06:48:56.010Z"
   },
   {
    "duration": 20,
    "start_time": "2022-02-19T06:48:56.023Z"
   },
   {
    "duration": 8,
    "start_time": "2022-02-19T06:48:56.045Z"
   },
   {
    "duration": 14,
    "start_time": "2022-02-19T06:48:56.055Z"
   },
   {
    "duration": 46,
    "start_time": "2022-02-19T06:48:56.072Z"
   },
   {
    "duration": 18,
    "start_time": "2022-02-19T06:48:56.121Z"
   },
   {
    "duration": 10,
    "start_time": "2022-02-19T06:48:56.142Z"
   },
   {
    "duration": 12,
    "start_time": "2022-02-19T06:48:56.154Z"
   },
   {
    "duration": 41,
    "start_time": "2022-02-19T06:48:56.168Z"
   },
   {
    "duration": 21,
    "start_time": "2022-02-19T06:48:56.211Z"
   },
   {
    "duration": 24,
    "start_time": "2022-02-19T06:48:56.234Z"
   },
   {
    "duration": 10,
    "start_time": "2022-02-19T06:48:56.261Z"
   },
   {
    "duration": 41,
    "start_time": "2022-02-19T06:48:56.273Z"
   },
   {
    "duration": 8,
    "start_time": "2022-02-19T06:51:09.730Z"
   },
   {
    "duration": 6,
    "start_time": "2022-02-19T06:51:20.171Z"
   },
   {
    "duration": 50,
    "start_time": "2022-09-18T12:38:03.609Z"
   },
   {
    "duration": 9,
    "start_time": "2022-09-18T12:39:45.628Z"
   },
   {
    "duration": 430,
    "start_time": "2022-09-18T12:39:52.508Z"
   },
   {
    "duration": 149,
    "start_time": "2022-09-18T12:39:52.941Z"
   },
   {
    "duration": 16,
    "start_time": "2022-09-18T12:39:53.092Z"
   },
   {
    "duration": 54,
    "start_time": "2022-09-18T12:39:53.109Z"
   },
   {
    "duration": 4,
    "start_time": "2022-09-18T12:39:53.165Z"
   },
   {
    "duration": 40,
    "start_time": "2022-09-18T12:39:53.171Z"
   },
   {
    "duration": 26,
    "start_time": "2022-09-18T12:39:53.213Z"
   },
   {
    "duration": 24,
    "start_time": "2022-09-18T12:39:53.240Z"
   },
   {
    "duration": 32,
    "start_time": "2022-09-18T12:39:53.266Z"
   },
   {
    "duration": 15,
    "start_time": "2022-09-18T12:39:53.302Z"
   },
   {
    "duration": 34,
    "start_time": "2022-09-18T12:39:53.319Z"
   },
   {
    "duration": 29,
    "start_time": "2022-09-18T12:39:53.355Z"
   },
   {
    "duration": 32,
    "start_time": "2022-09-18T12:39:53.385Z"
   },
   {
    "duration": 31,
    "start_time": "2022-09-18T12:39:53.419Z"
   },
   {
    "duration": 11,
    "start_time": "2022-09-18T12:39:53.452Z"
   },
   {
    "duration": 26,
    "start_time": "2022-09-18T12:39:53.465Z"
   },
   {
    "duration": 36,
    "start_time": "2022-09-18T12:39:53.493Z"
   },
   {
    "duration": 18,
    "start_time": "2022-09-18T12:39:53.531Z"
   },
   {
    "duration": 52,
    "start_time": "2022-09-18T12:39:53.550Z"
   },
   {
    "duration": 25,
    "start_time": "2022-09-18T12:39:53.604Z"
   },
   {
    "duration": 26,
    "start_time": "2022-09-18T12:39:53.631Z"
   },
   {
    "duration": 6,
    "start_time": "2022-09-18T12:39:53.658Z"
   },
   {
    "duration": 24,
    "start_time": "2022-09-18T12:39:53.666Z"
   },
   {
    "duration": 28,
    "start_time": "2022-09-18T12:39:53.692Z"
   },
   {
    "duration": 21,
    "start_time": "2022-09-18T12:39:53.722Z"
   },
   {
    "duration": 26,
    "start_time": "2022-09-18T12:39:53.746Z"
   },
   {
    "duration": 40,
    "start_time": "2022-09-18T12:39:53.774Z"
   },
   {
    "duration": 59,
    "start_time": "2022-09-18T12:39:53.818Z"
   },
   {
    "duration": 70,
    "start_time": "2022-09-18T12:39:53.879Z"
   },
   {
    "duration": 29,
    "start_time": "2022-09-18T12:39:53.950Z"
   },
   {
    "duration": 33,
    "start_time": "2022-09-18T12:39:53.981Z"
   },
   {
    "duration": 68,
    "start_time": "2022-09-18T12:39:54.015Z"
   },
   {
    "duration": 61,
    "start_time": "2022-09-18T12:39:54.085Z"
   },
   {
    "duration": 30,
    "start_time": "2022-09-18T12:39:54.147Z"
   },
   {
    "duration": 35,
    "start_time": "2022-09-18T12:39:54.179Z"
   },
   {
    "duration": 44,
    "start_time": "2022-09-18T12:39:54.215Z"
   },
   {
    "duration": 13,
    "start_time": "2022-09-18T12:39:54.261Z"
   },
   {
    "duration": 19,
    "start_time": "2022-09-18T12:39:54.275Z"
   },
   {
    "duration": 32,
    "start_time": "2022-09-18T12:39:54.297Z"
   },
   {
    "duration": 17,
    "start_time": "2022-09-18T12:39:54.331Z"
   },
   {
    "duration": 10,
    "start_time": "2022-09-18T12:39:54.350Z"
   },
   {
    "duration": 20,
    "start_time": "2022-09-18T12:39:54.362Z"
   },
   {
    "duration": 11,
    "start_time": "2022-09-18T12:39:54.384Z"
   },
   {
    "duration": 19,
    "start_time": "2022-09-18T12:39:54.396Z"
   },
   {
    "duration": 21,
    "start_time": "2022-09-18T12:39:54.416Z"
   },
   {
    "duration": 9,
    "start_time": "2022-09-18T12:39:54.439Z"
   },
   {
    "duration": 12,
    "start_time": "2022-09-18T12:39:54.449Z"
   },
   {
    "duration": 2,
    "start_time": "2022-09-18T12:41:47.772Z"
   },
   {
    "duration": 12,
    "start_time": "2022-09-18T12:41:51.444Z"
   },
   {
    "duration": 3,
    "start_time": "2022-09-18T12:41:56.205Z"
   },
   {
    "duration": 9,
    "start_time": "2022-09-18T12:42:08.204Z"
   },
   {
    "duration": 419,
    "start_time": "2022-09-18T12:42:14.827Z"
   },
   {
    "duration": 102,
    "start_time": "2022-09-18T12:42:15.248Z"
   },
   {
    "duration": 19,
    "start_time": "2022-09-18T12:42:15.353Z"
   },
   {
    "duration": 61,
    "start_time": "2022-09-18T12:42:15.374Z"
   },
   {
    "duration": 4,
    "start_time": "2022-09-18T12:42:15.437Z"
   },
   {
    "duration": 20,
    "start_time": "2022-09-18T12:42:15.443Z"
   },
   {
    "duration": 10,
    "start_time": "2022-09-18T12:42:15.465Z"
   },
   {
    "duration": 14,
    "start_time": "2022-09-18T12:42:15.476Z"
   },
   {
    "duration": 8,
    "start_time": "2022-09-18T12:42:15.492Z"
   },
   {
    "duration": 8,
    "start_time": "2022-09-18T12:42:15.502Z"
   },
   {
    "duration": 8,
    "start_time": "2022-09-18T12:42:15.512Z"
   },
   {
    "duration": 5,
    "start_time": "2022-09-18T12:42:15.522Z"
   },
   {
    "duration": 19,
    "start_time": "2022-09-18T12:42:15.529Z"
   },
   {
    "duration": 9,
    "start_time": "2022-09-18T12:42:15.551Z"
   },
   {
    "duration": 30,
    "start_time": "2022-09-18T12:42:15.563Z"
   },
   {
    "duration": 12,
    "start_time": "2022-09-18T12:42:15.594Z"
   },
   {
    "duration": 22,
    "start_time": "2022-09-18T12:42:15.607Z"
   },
   {
    "duration": 35,
    "start_time": "2022-09-18T12:42:15.630Z"
   },
   {
    "duration": 40,
    "start_time": "2022-09-18T12:42:15.666Z"
   },
   {
    "duration": 36,
    "start_time": "2022-09-18T12:42:15.708Z"
   },
   {
    "duration": 51,
    "start_time": "2022-09-18T12:42:15.745Z"
   },
   {
    "duration": 19,
    "start_time": "2022-09-18T12:42:15.798Z"
   },
   {
    "duration": 33,
    "start_time": "2022-09-18T12:42:15.819Z"
   },
   {
    "duration": 24,
    "start_time": "2022-09-18T12:42:15.854Z"
   },
   {
    "duration": 47,
    "start_time": "2022-09-18T12:42:15.880Z"
   },
   {
    "duration": 25,
    "start_time": "2022-09-18T12:42:15.929Z"
   },
   {
    "duration": 14,
    "start_time": "2022-09-18T12:42:15.956Z"
   },
   {
    "duration": 54,
    "start_time": "2022-09-18T12:42:15.972Z"
   },
   {
    "duration": 45,
    "start_time": "2022-09-18T12:42:16.028Z"
   },
   {
    "duration": 27,
    "start_time": "2022-09-18T12:42:16.075Z"
   },
   {
    "duration": 9,
    "start_time": "2022-09-18T12:42:16.104Z"
   },
   {
    "duration": 24,
    "start_time": "2022-09-18T12:42:16.115Z"
   },
   {
    "duration": 35,
    "start_time": "2022-09-18T12:42:16.140Z"
   },
   {
    "duration": 38,
    "start_time": "2022-09-18T12:42:16.177Z"
   },
   {
    "duration": 7,
    "start_time": "2022-09-18T12:42:16.217Z"
   },
   {
    "duration": 18,
    "start_time": "2022-09-18T12:42:16.226Z"
   },
   {
    "duration": 15,
    "start_time": "2022-09-18T12:42:16.246Z"
   },
   {
    "duration": 8,
    "start_time": "2022-09-18T12:42:16.262Z"
   },
   {
    "duration": 26,
    "start_time": "2022-09-18T12:42:16.272Z"
   },
   {
    "duration": 31,
    "start_time": "2022-09-18T12:42:16.301Z"
   },
   {
    "duration": 24,
    "start_time": "2022-09-18T12:42:16.338Z"
   },
   {
    "duration": 8,
    "start_time": "2022-09-18T12:42:16.364Z"
   },
   {
    "duration": 22,
    "start_time": "2022-09-18T12:42:16.374Z"
   },
   {
    "duration": 15,
    "start_time": "2022-09-18T12:42:16.397Z"
   },
   {
    "duration": 15,
    "start_time": "2022-09-18T12:42:16.414Z"
   },
   {
    "duration": 23,
    "start_time": "2022-09-18T12:42:16.431Z"
   },
   {
    "duration": 8,
    "start_time": "2022-09-18T12:42:16.456Z"
   },
   {
    "duration": 27,
    "start_time": "2022-09-18T12:42:16.466Z"
   },
   {
    "duration": 362,
    "start_time": "2022-10-06T20:21:25.763Z"
   },
   {
    "duration": 322,
    "start_time": "2022-10-06T20:21:26.128Z"
   },
   {
    "duration": 13,
    "start_time": "2022-10-06T20:21:26.452Z"
   },
   {
    "duration": 48,
    "start_time": "2022-10-06T20:21:26.466Z"
   },
   {
    "duration": 7,
    "start_time": "2022-10-06T20:21:26.516Z"
   },
   {
    "duration": 13,
    "start_time": "2022-10-06T20:21:26.525Z"
   },
   {
    "duration": 5,
    "start_time": "2022-10-06T20:21:26.540Z"
   },
   {
    "duration": 11,
    "start_time": "2022-10-06T20:21:26.547Z"
   },
   {
    "duration": 10,
    "start_time": "2022-10-06T20:21:26.560Z"
   },
   {
    "duration": 9,
    "start_time": "2022-10-06T20:21:26.571Z"
   },
   {
    "duration": 5,
    "start_time": "2022-10-06T20:21:26.582Z"
   },
   {
    "duration": 24,
    "start_time": "2022-10-06T20:21:26.588Z"
   },
   {
    "duration": 12,
    "start_time": "2022-10-06T20:21:26.613Z"
   },
   {
    "duration": 10,
    "start_time": "2022-10-06T20:21:26.628Z"
   },
   {
    "duration": 8,
    "start_time": "2022-10-06T20:21:26.639Z"
   },
   {
    "duration": 10,
    "start_time": "2022-10-06T20:21:26.649Z"
   },
   {
    "duration": 14,
    "start_time": "2022-10-06T20:21:26.661Z"
   },
   {
    "duration": 65,
    "start_time": "2022-10-06T20:21:26.677Z"
   },
   {
    "duration": 15,
    "start_time": "2022-10-06T20:21:26.743Z"
   },
   {
    "duration": 29,
    "start_time": "2022-10-06T20:21:26.759Z"
   },
   {
    "duration": 44,
    "start_time": "2022-10-06T20:21:26.790Z"
   },
   {
    "duration": 14,
    "start_time": "2022-10-06T20:21:26.836Z"
   },
   {
    "duration": 5,
    "start_time": "2022-10-06T20:21:26.851Z"
   },
   {
    "duration": 5,
    "start_time": "2022-10-06T20:21:26.857Z"
   },
   {
    "duration": 15,
    "start_time": "2022-10-06T20:21:26.864Z"
   },
   {
    "duration": 47,
    "start_time": "2022-10-06T20:21:26.881Z"
   },
   {
    "duration": 8,
    "start_time": "2022-10-06T20:21:26.930Z"
   },
   {
    "duration": 17,
    "start_time": "2022-10-06T20:21:26.939Z"
   },
   {
    "duration": 28,
    "start_time": "2022-10-06T20:21:26.958Z"
   },
   {
    "duration": 48,
    "start_time": "2022-10-06T20:21:26.988Z"
   },
   {
    "duration": 8,
    "start_time": "2022-10-06T20:21:27.037Z"
   },
   {
    "duration": 14,
    "start_time": "2022-10-06T20:21:27.047Z"
   },
   {
    "duration": 27,
    "start_time": "2022-10-06T20:21:27.063Z"
   },
   {
    "duration": 41,
    "start_time": "2022-10-06T20:21:27.092Z"
   },
   {
    "duration": 8,
    "start_time": "2022-10-06T20:21:27.134Z"
   },
   {
    "duration": 11,
    "start_time": "2022-10-06T20:21:27.143Z"
   },
   {
    "duration": 12,
    "start_time": "2022-10-06T20:21:27.156Z"
   },
   {
    "duration": 6,
    "start_time": "2022-10-06T20:21:27.170Z"
   },
   {
    "duration": 10,
    "start_time": "2022-10-06T20:21:27.177Z"
   },
   {
    "duration": 41,
    "start_time": "2022-10-06T20:21:27.188Z"
   },
   {
    "duration": 16,
    "start_time": "2022-10-06T20:21:27.233Z"
   },
   {
    "duration": 7,
    "start_time": "2022-10-06T20:21:27.251Z"
   },
   {
    "duration": 13,
    "start_time": "2022-10-06T20:21:27.260Z"
   },
   {
    "duration": 11,
    "start_time": "2022-10-06T20:21:27.275Z"
   },
   {
    "duration": 16,
    "start_time": "2022-10-06T20:21:27.315Z"
   },
   {
    "duration": 18,
    "start_time": "2022-10-06T20:21:27.332Z"
   },
   {
    "duration": 7,
    "start_time": "2022-10-06T20:21:27.351Z"
   },
   {
    "duration": 13,
    "start_time": "2022-10-06T20:21:27.360Z"
   },
   {
    "duration": 445,
    "start_time": "2022-10-06T20:24:28.597Z"
   },
   {
    "duration": 93,
    "start_time": "2022-10-06T20:24:29.044Z"
   },
   {
    "duration": 13,
    "start_time": "2022-10-06T20:24:29.138Z"
   },
   {
    "duration": 26,
    "start_time": "2022-10-06T20:24:29.153Z"
   },
   {
    "duration": 3,
    "start_time": "2022-10-06T20:24:29.181Z"
   },
   {
    "duration": 8,
    "start_time": "2022-10-06T20:24:29.186Z"
   },
   {
    "duration": 5,
    "start_time": "2022-10-06T20:24:29.196Z"
   },
   {
    "duration": 12,
    "start_time": "2022-10-06T20:24:29.203Z"
   },
   {
    "duration": 15,
    "start_time": "2022-10-06T20:24:29.219Z"
   },
   {
    "duration": 6,
    "start_time": "2022-10-06T20:24:29.235Z"
   },
   {
    "duration": 8,
    "start_time": "2022-10-06T20:24:29.242Z"
   },
   {
    "duration": 6,
    "start_time": "2022-10-06T20:24:29.251Z"
   },
   {
    "duration": 61,
    "start_time": "2022-10-06T20:24:29.258Z"
   },
   {
    "duration": 7,
    "start_time": "2022-10-06T20:24:29.324Z"
   },
   {
    "duration": 6,
    "start_time": "2022-10-06T20:24:29.333Z"
   },
   {
    "duration": 10,
    "start_time": "2022-10-06T20:24:29.340Z"
   },
   {
    "duration": 13,
    "start_time": "2022-10-06T20:24:29.351Z"
   },
   {
    "duration": 56,
    "start_time": "2022-10-06T20:24:29.366Z"
   },
   {
    "duration": 17,
    "start_time": "2022-10-06T20:24:29.424Z"
   },
   {
    "duration": 85,
    "start_time": "2022-10-06T20:24:29.443Z"
   },
   {
    "duration": 22,
    "start_time": "2022-10-06T20:24:29.529Z"
   },
   {
    "duration": 14,
    "start_time": "2022-10-06T20:24:29.552Z"
   },
   {
    "duration": 41,
    "start_time": "2022-10-06T20:24:29.568Z"
   },
   {
    "duration": 16,
    "start_time": "2022-10-06T20:24:29.611Z"
   },
   {
    "duration": 16,
    "start_time": "2022-10-06T20:24:29.629Z"
   },
   {
    "duration": 17,
    "start_time": "2022-10-06T20:24:29.647Z"
   },
   {
    "duration": 8,
    "start_time": "2022-10-06T20:24:29.665Z"
   },
   {
    "duration": 50,
    "start_time": "2022-10-06T20:24:29.674Z"
   },
   {
    "duration": 19,
    "start_time": "2022-10-06T20:24:29.725Z"
   },
   {
    "duration": 18,
    "start_time": "2022-10-06T20:24:29.746Z"
   },
   {
    "duration": 5,
    "start_time": "2022-10-06T20:24:29.766Z"
   },
   {
    "duration": 15,
    "start_time": "2022-10-06T20:24:29.772Z"
   },
   {
    "duration": 40,
    "start_time": "2022-10-06T20:24:29.788Z"
   },
   {
    "duration": 15,
    "start_time": "2022-10-06T20:24:29.830Z"
   },
   {
    "duration": 7,
    "start_time": "2022-10-06T20:24:29.847Z"
   },
   {
    "duration": 13,
    "start_time": "2022-10-06T20:24:29.855Z"
   },
   {
    "duration": 18,
    "start_time": "2022-10-06T20:24:29.870Z"
   },
   {
    "duration": 38,
    "start_time": "2022-10-06T20:24:29.890Z"
   },
   {
    "duration": 11,
    "start_time": "2022-10-06T20:24:29.929Z"
   },
   {
    "duration": 11,
    "start_time": "2022-10-06T20:24:29.942Z"
   },
   {
    "duration": 15,
    "start_time": "2022-10-06T20:24:29.957Z"
   },
   {
    "duration": 8,
    "start_time": "2022-10-06T20:24:29.973Z"
   },
   {
    "duration": 40,
    "start_time": "2022-10-06T20:24:29.983Z"
   },
   {
    "duration": 11,
    "start_time": "2022-10-06T20:24:30.025Z"
   },
   {
    "duration": 15,
    "start_time": "2022-10-06T20:24:30.037Z"
   },
   {
    "duration": 23,
    "start_time": "2022-10-06T20:24:30.054Z"
   },
   {
    "duration": 8,
    "start_time": "2022-10-06T20:24:30.078Z"
   },
   {
    "duration": 13,
    "start_time": "2022-10-06T20:24:30.088Z"
   }
  ],
  "kernelspec": {
   "display_name": "Python 3 (ipykernel)",
   "language": "python",
   "name": "python3"
  },
  "language_info": {
   "codemirror_mode": {
    "name": "ipython",
    "version": 3
   },
   "file_extension": ".py",
   "mimetype": "text/x-python",
   "name": "python",
   "nbconvert_exporter": "python",
   "pygments_lexer": "ipython3",
   "version": "3.9.5"
  },
  "toc": {
   "base_numbering": 1,
   "nav_menu": {},
   "number_sections": true,
   "sideBar": true,
   "skip_h1_title": true,
   "title_cell": "Table of Contents",
   "title_sidebar": "Contents",
   "toc_cell": false,
   "toc_position": {
    "height": "calc(100% - 180px)",
    "left": "10px",
    "top": "150px",
    "width": "394.025px"
   },
   "toc_section_display": true,
   "toc_window_display": false
  }
 },
 "nbformat": 4,
 "nbformat_minor": 5
}
