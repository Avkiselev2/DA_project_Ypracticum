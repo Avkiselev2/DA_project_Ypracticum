{
 "cells": [
  {
   "cell_type": "markdown",
   "metadata": {},
   "source": [
    "# Анализ тарифных планов сотового оператора\n",
    "\n",
    "**Описание проекта**\n",
    "\n",
    "Компания «N», федеральный оператор сотовой связи, предлагает сволим клиентам два тарифных плана: «Смарт» и «Ультра». Необходимо сделать предварительный анализ тарифов на небольшой выборке клиентов, которая содержит данные 500 пользователей «N». Необходиимо понять кто они, откуда, каким тарифом пользуются, сколько звонков и сообщений каждый отправил за 2018 год. \n",
    "\n",
    "**Задача**\n",
    "\n",
    "Нужно проанализировать поведение клиентов и сделать вывод — какой тариф лучше, т.е. приносит больше денег (более маржинальный).\n",
    "\n",
    "**Описание тарифов**\n",
    "**Тариф «Смарт»**\n",
    "- Ежемесячная плата: 550 рублей\n",
    "- Включено 500 минут разговора, 50 сообщений и 15 Гб интернет-трафика\n",
    "\n",
    "Стоимость услуг сверх тарифного пакета:\n",
    "- минута разговора: 3 рубля\n",
    "- сообщение: 3 рубля\n",
    "- 1 Гб интернет-трафика: 200 рублей\n",
    "\n",
    "**Тариф «Ультра»**\n",
    "- Ежемесячная плата: 1950 рублей\n",
    "- Включено 3000 минут разговора, 1000 сообщений и 30 Гб интернет-трафика\n",
    "\n",
    "Стоимость услуг сверх тарифного пакета:\n",
    "- минута разговора: 1 рубль\n",
    "- сообщение: 1 рубль\n",
    "- 1 Гб интернет-трафика: 150 рублей\n",
    "\n",
    "**Примечание:**\n",
    "- «N» всегда округляет секунды до минут, а мегабайты — до гигабайт. Каждый звонок округляется отдельно: даже если он длился всего 1 секунду, будет засчитан как 1 минута.\n",
    "- Для веб-трафика отдельные сессии не считаются. Вместо этого общая сумма за месяц округляется в бо́льшую сторону. Если абонент использует 1025 мегабайт в этом месяце, с него возьмут плату за 2 гигабайта.\n"
   ]
  },
  {
   "cell_type": "markdown",
   "metadata": {},
   "source": [
    "## Изучение данных из файла"
   ]
  },
  {
   "cell_type": "code",
   "execution_count": 1,
   "metadata": {},
   "outputs": [],
   "source": [
    "import matplotlib.pyplot as plt \n",
    "import warnings\n",
    "warnings.filterwarnings(\"ignore\")\n",
    "import pandas as pd\n",
    "import numpy as np\n",
    "from scipy import stats as st"
   ]
  },
  {
   "cell_type": "markdown",
   "metadata": {},
   "source": [
    "Изучим первичную информацию о поведении пользователей, выгруженную в пяти датасетах"
   ]
  },
  {
   "cell_type": "code",
   "execution_count": 2,
   "metadata": {},
   "outputs": [],
   "source": [
    "calls = pd.read_csv('/datasets/calls.csv', sep=',')  #содержит информацию о исходящих звонках"
   ]
  },
  {
   "cell_type": "code",
   "execution_count": 3,
   "metadata": {},
   "outputs": [
    {
     "data": {
      "text/html": [
       "<div>\n",
       "<style scoped>\n",
       "    .dataframe tbody tr th:only-of-type {\n",
       "        vertical-align: middle;\n",
       "    }\n",
       "\n",
       "    .dataframe tbody tr th {\n",
       "        vertical-align: top;\n",
       "    }\n",
       "\n",
       "    .dataframe thead th {\n",
       "        text-align: right;\n",
       "    }\n",
       "</style>\n",
       "<table border=\"1\" class=\"dataframe\">\n",
       "  <thead>\n",
       "    <tr style=\"text-align: right;\">\n",
       "      <th></th>\n",
       "      <th>id</th>\n",
       "      <th>call_date</th>\n",
       "      <th>duration</th>\n",
       "      <th>user_id</th>\n",
       "    </tr>\n",
       "  </thead>\n",
       "  <tbody>\n",
       "    <tr>\n",
       "      <th>202602</th>\n",
       "      <td>1499_215</td>\n",
       "      <td>2018-12-26</td>\n",
       "      <td>0.76</td>\n",
       "      <td>1499</td>\n",
       "    </tr>\n",
       "    <tr>\n",
       "      <th>202603</th>\n",
       "      <td>1499_216</td>\n",
       "      <td>2018-10-18</td>\n",
       "      <td>18.83</td>\n",
       "      <td>1499</td>\n",
       "    </tr>\n",
       "    <tr>\n",
       "      <th>202604</th>\n",
       "      <td>1499_217</td>\n",
       "      <td>2018-11-10</td>\n",
       "      <td>10.81</td>\n",
       "      <td>1499</td>\n",
       "    </tr>\n",
       "    <tr>\n",
       "      <th>202605</th>\n",
       "      <td>1499_218</td>\n",
       "      <td>2018-10-06</td>\n",
       "      <td>4.27</td>\n",
       "      <td>1499</td>\n",
       "    </tr>\n",
       "    <tr>\n",
       "      <th>202606</th>\n",
       "      <td>1499_219</td>\n",
       "      <td>2018-12-14</td>\n",
       "      <td>19.62</td>\n",
       "      <td>1499</td>\n",
       "    </tr>\n",
       "  </tbody>\n",
       "</table>\n",
       "</div>"
      ],
      "text/plain": [
       "              id   call_date  duration  user_id\n",
       "202602  1499_215  2018-12-26      0.76     1499\n",
       "202603  1499_216  2018-10-18     18.83     1499\n",
       "202604  1499_217  2018-11-10     10.81     1499\n",
       "202605  1499_218  2018-10-06      4.27     1499\n",
       "202606  1499_219  2018-12-14     19.62     1499"
      ]
     },
     "metadata": {},
     "output_type": "display_data"
    }
   ],
   "source": [
    "display(calls.tail())"
   ]
  },
  {
   "cell_type": "code",
   "execution_count": 4,
   "metadata": {},
   "outputs": [
    {
     "name": "stdout",
     "output_type": "stream",
     "text": [
      "<class 'pandas.core.frame.DataFrame'>\n",
      "RangeIndex: 202607 entries, 0 to 202606\n",
      "Data columns (total 4 columns):\n",
      " #   Column     Non-Null Count   Dtype  \n",
      "---  ------     --------------   -----  \n",
      " 0   id         202607 non-null  object \n",
      " 1   call_date  202607 non-null  object \n",
      " 2   duration   202607 non-null  float64\n",
      " 3   user_id    202607 non-null  int64  \n",
      "dtypes: float64(1), int64(1), object(2)\n",
      "memory usage: 6.2+ MB\n"
     ]
    }
   ],
   "source": [
    "calls.info() # проверим информацию в датасете "
   ]
  },
  {
   "cell_type": "code",
   "execution_count": 5,
   "metadata": {},
   "outputs": [
    {
     "data": {
      "text/html": [
       "<div>\n",
       "<style scoped>\n",
       "    .dataframe tbody tr th:only-of-type {\n",
       "        vertical-align: middle;\n",
       "    }\n",
       "\n",
       "    .dataframe tbody tr th {\n",
       "        vertical-align: top;\n",
       "    }\n",
       "\n",
       "    .dataframe thead th {\n",
       "        text-align: right;\n",
       "    }\n",
       "</style>\n",
       "<table border=\"1\" class=\"dataframe\">\n",
       "  <thead>\n",
       "    <tr style=\"text-align: right;\">\n",
       "      <th></th>\n",
       "      <th>duration</th>\n",
       "      <th>user_id</th>\n",
       "    </tr>\n",
       "  </thead>\n",
       "  <tbody>\n",
       "    <tr>\n",
       "      <th>count</th>\n",
       "      <td>202607.000000</td>\n",
       "      <td>202607.000000</td>\n",
       "    </tr>\n",
       "    <tr>\n",
       "      <th>mean</th>\n",
       "      <td>6.755887</td>\n",
       "      <td>1253.940619</td>\n",
       "    </tr>\n",
       "    <tr>\n",
       "      <th>std</th>\n",
       "      <td>5.843365</td>\n",
       "      <td>144.722751</td>\n",
       "    </tr>\n",
       "    <tr>\n",
       "      <th>min</th>\n",
       "      <td>0.000000</td>\n",
       "      <td>1000.000000</td>\n",
       "    </tr>\n",
       "    <tr>\n",
       "      <th>25%</th>\n",
       "      <td>1.300000</td>\n",
       "      <td>1126.000000</td>\n",
       "    </tr>\n",
       "    <tr>\n",
       "      <th>50%</th>\n",
       "      <td>6.000000</td>\n",
       "      <td>1260.000000</td>\n",
       "    </tr>\n",
       "    <tr>\n",
       "      <th>75%</th>\n",
       "      <td>10.700000</td>\n",
       "      <td>1379.000000</td>\n",
       "    </tr>\n",
       "    <tr>\n",
       "      <th>max</th>\n",
       "      <td>38.000000</td>\n",
       "      <td>1499.000000</td>\n",
       "    </tr>\n",
       "  </tbody>\n",
       "</table>\n",
       "</div>"
      ],
      "text/plain": [
       "            duration        user_id\n",
       "count  202607.000000  202607.000000\n",
       "mean        6.755887    1253.940619\n",
       "std         5.843365     144.722751\n",
       "min         0.000000    1000.000000\n",
       "25%         1.300000    1126.000000\n",
       "50%         6.000000    1260.000000\n",
       "75%        10.700000    1379.000000\n",
       "max        38.000000    1499.000000"
      ]
     },
     "execution_count": 5,
     "metadata": {},
     "output_type": "execute_result"
    }
   ],
   "source": [
    "calls.describe()"
   ]
  },
  {
   "cell_type": "markdown",
   "metadata": {},
   "source": [
    "Таблица calls (информация о звонках):\n",
    "- id — уникальный номер звонка\n",
    "- call_date — дата звонка\n",
    "- duration — длительность звонка в минутах\n",
    "- user_id — идентификатор пользователя, сделавшего звонок\n",
    "\n",
    "Пустых строк нет. Имена колонок названы стилистически корректно. Столбец `call_date` необходимо будет перевести в тип дата, а `duration` округлить до целых минут. Имеются нулевые значения длительности звонка. В вводных к задаче сказано, что нулями обозначены пропущенные звонки, поэтому их не нужно удалять."
   ]
  },
  {
   "cell_type": "code",
   "execution_count": 6,
   "metadata": {},
   "outputs": [],
   "source": [
    "internet = pd.read_csv('/datasets/internet.csv', sep=',')  #содержит информацию об интернет трафике и сессиях пользователей"
   ]
  },
  {
   "cell_type": "code",
   "execution_count": 7,
   "metadata": {},
   "outputs": [
    {
     "data": {
      "text/html": [
       "<div>\n",
       "<style scoped>\n",
       "    .dataframe tbody tr th:only-of-type {\n",
       "        vertical-align: middle;\n",
       "    }\n",
       "\n",
       "    .dataframe tbody tr th {\n",
       "        vertical-align: top;\n",
       "    }\n",
       "\n",
       "    .dataframe thead th {\n",
       "        text-align: right;\n",
       "    }\n",
       "</style>\n",
       "<table border=\"1\" class=\"dataframe\">\n",
       "  <thead>\n",
       "    <tr style=\"text-align: right;\">\n",
       "      <th></th>\n",
       "      <th>Unnamed: 0</th>\n",
       "      <th>id</th>\n",
       "      <th>mb_used</th>\n",
       "      <th>session_date</th>\n",
       "      <th>user_id</th>\n",
       "    </tr>\n",
       "  </thead>\n",
       "  <tbody>\n",
       "    <tr>\n",
       "      <th>149391</th>\n",
       "      <td>149391</td>\n",
       "      <td>1499_152</td>\n",
       "      <td>318.90</td>\n",
       "      <td>2018-10-03</td>\n",
       "      <td>1499</td>\n",
       "    </tr>\n",
       "    <tr>\n",
       "      <th>149392</th>\n",
       "      <td>149392</td>\n",
       "      <td>1499_153</td>\n",
       "      <td>490.13</td>\n",
       "      <td>2018-12-14</td>\n",
       "      <td>1499</td>\n",
       "    </tr>\n",
       "    <tr>\n",
       "      <th>149393</th>\n",
       "      <td>149393</td>\n",
       "      <td>1499_154</td>\n",
       "      <td>0.00</td>\n",
       "      <td>2018-10-27</td>\n",
       "      <td>1499</td>\n",
       "    </tr>\n",
       "    <tr>\n",
       "      <th>149394</th>\n",
       "      <td>149394</td>\n",
       "      <td>1499_155</td>\n",
       "      <td>1246.32</td>\n",
       "      <td>2018-11-26</td>\n",
       "      <td>1499</td>\n",
       "    </tr>\n",
       "    <tr>\n",
       "      <th>149395</th>\n",
       "      <td>149395</td>\n",
       "      <td>1499_156</td>\n",
       "      <td>544.37</td>\n",
       "      <td>2018-10-26</td>\n",
       "      <td>1499</td>\n",
       "    </tr>\n",
       "  </tbody>\n",
       "</table>\n",
       "</div>"
      ],
      "text/plain": [
       "        Unnamed: 0        id  mb_used session_date  user_id\n",
       "149391      149391  1499_152   318.90   2018-10-03     1499\n",
       "149392      149392  1499_153   490.13   2018-12-14     1499\n",
       "149393      149393  1499_154     0.00   2018-10-27     1499\n",
       "149394      149394  1499_155  1246.32   2018-11-26     1499\n",
       "149395      149395  1499_156   544.37   2018-10-26     1499"
      ]
     },
     "metadata": {},
     "output_type": "display_data"
    }
   ],
   "source": [
    "display(internet.tail())"
   ]
  },
  {
   "cell_type": "code",
   "execution_count": 8,
   "metadata": {},
   "outputs": [
    {
     "name": "stdout",
     "output_type": "stream",
     "text": [
      "<class 'pandas.core.frame.DataFrame'>\n",
      "RangeIndex: 149396 entries, 0 to 149395\n",
      "Data columns (total 5 columns):\n",
      " #   Column        Non-Null Count   Dtype  \n",
      "---  ------        --------------   -----  \n",
      " 0   Unnamed: 0    149396 non-null  int64  \n",
      " 1   id            149396 non-null  object \n",
      " 2   mb_used       149396 non-null  float64\n",
      " 3   session_date  149396 non-null  object \n",
      " 4   user_id       149396 non-null  int64  \n",
      "dtypes: float64(1), int64(2), object(2)\n",
      "memory usage: 5.7+ MB\n"
     ]
    },
    {
     "data": {
      "text/plain": [
       "count    149396.000000\n",
       "mean        370.192426\n",
       "std         278.300951\n",
       "min           0.000000\n",
       "25%         138.187500\n",
       "50%         348.015000\n",
       "75%         559.552500\n",
       "max        1724.830000\n",
       "Name: mb_used, dtype: float64"
      ]
     },
     "execution_count": 8,
     "metadata": {},
     "output_type": "execute_result"
    }
   ],
   "source": [
    "internet.info() # проверим информацию в датасете \n",
    "internet['mb_used'].describe()"
   ]
  },
  {
   "cell_type": "markdown",
   "metadata": {},
   "source": [
    "Таблица internet (информация об интернет-сессиях):\n",
    "- id — уникальный номер сессии\n",
    "- mb_used — объём потраченного за сессию интернет-трафика (в мегабайтах)\n",
    "- session_date — дата интернет-сессии\n",
    "- user_id — идентификатор пользователя\n",
    "\n",
    "Пустых строк нет. Имена колонок названы стилистически корректно. Столбец `session_date` необходимо будет перевести в тип дата. Нужно не забыть при группировке pivot сгруппированные по столбцу `mb_used` и по месяцу данные перевести из Мб в Гб и округлить в большую сторону до Гб."
   ]
  },
  {
   "cell_type": "code",
   "execution_count": 9,
   "metadata": {},
   "outputs": [],
   "source": [
    "messages = pd.read_csv('/datasets/messages.csv', sep=',')   #содержит информацию о исходящих sms"
   ]
  },
  {
   "cell_type": "code",
   "execution_count": 10,
   "metadata": {},
   "outputs": [
    {
     "data": {
      "text/html": [
       "<div>\n",
       "<style scoped>\n",
       "    .dataframe tbody tr th:only-of-type {\n",
       "        vertical-align: middle;\n",
       "    }\n",
       "\n",
       "    .dataframe tbody tr th {\n",
       "        vertical-align: top;\n",
       "    }\n",
       "\n",
       "    .dataframe thead th {\n",
       "        text-align: right;\n",
       "    }\n",
       "</style>\n",
       "<table border=\"1\" class=\"dataframe\">\n",
       "  <thead>\n",
       "    <tr style=\"text-align: right;\">\n",
       "      <th></th>\n",
       "      <th>id</th>\n",
       "      <th>message_date</th>\n",
       "      <th>user_id</th>\n",
       "    </tr>\n",
       "  </thead>\n",
       "  <tbody>\n",
       "    <tr>\n",
       "      <th>123031</th>\n",
       "      <td>1499_179</td>\n",
       "      <td>2018-12-12</td>\n",
       "      <td>1499</td>\n",
       "    </tr>\n",
       "    <tr>\n",
       "      <th>123032</th>\n",
       "      <td>1499_180</td>\n",
       "      <td>2018-09-28</td>\n",
       "      <td>1499</td>\n",
       "    </tr>\n",
       "    <tr>\n",
       "      <th>123033</th>\n",
       "      <td>1499_181</td>\n",
       "      <td>2018-09-27</td>\n",
       "      <td>1499</td>\n",
       "    </tr>\n",
       "    <tr>\n",
       "      <th>123034</th>\n",
       "      <td>1499_182</td>\n",
       "      <td>2018-11-15</td>\n",
       "      <td>1499</td>\n",
       "    </tr>\n",
       "    <tr>\n",
       "      <th>123035</th>\n",
       "      <td>1499_183</td>\n",
       "      <td>2018-11-16</td>\n",
       "      <td>1499</td>\n",
       "    </tr>\n",
       "  </tbody>\n",
       "</table>\n",
       "</div>"
      ],
      "text/plain": [
       "              id message_date  user_id\n",
       "123031  1499_179   2018-12-12     1499\n",
       "123032  1499_180   2018-09-28     1499\n",
       "123033  1499_181   2018-09-27     1499\n",
       "123034  1499_182   2018-11-15     1499\n",
       "123035  1499_183   2018-11-16     1499"
      ]
     },
     "metadata": {},
     "output_type": "display_data"
    }
   ],
   "source": [
    "display(messages.tail())"
   ]
  },
  {
   "cell_type": "code",
   "execution_count": 11,
   "metadata": {},
   "outputs": [
    {
     "name": "stdout",
     "output_type": "stream",
     "text": [
      "<class 'pandas.core.frame.DataFrame'>\n",
      "RangeIndex: 123036 entries, 0 to 123035\n",
      "Data columns (total 3 columns):\n",
      " #   Column        Non-Null Count   Dtype \n",
      "---  ------        --------------   ----- \n",
      " 0   id            123036 non-null  object\n",
      " 1   message_date  123036 non-null  object\n",
      " 2   user_id       123036 non-null  int64 \n",
      "dtypes: int64(1), object(2)\n",
      "memory usage: 2.8+ MB\n"
     ]
    }
   ],
   "source": [
    "messages.info()"
   ]
  },
  {
   "cell_type": "markdown",
   "metadata": {},
   "source": [
    "Таблица messages (информация о сообщениях):\n",
    "- id — уникальный номер сообщения\n",
    "- message_date — дата сообщения\n",
    "- user_id — идентификатор пользователя, отправившего сообщение\n",
    "\n",
    "Пустых строк нет. Имена колонок названы стилистически корректно. Столбец `message_date` необходимо будет перевести в тип дата."
   ]
  },
  {
   "cell_type": "code",
   "execution_count": 12,
   "metadata": {},
   "outputs": [],
   "source": [
    "tariffs = pd.read_csv('/datasets/tariffs.csv', sep=',')   #содержит информацию о тарифных планах"
   ]
  },
  {
   "cell_type": "code",
   "execution_count": 13,
   "metadata": {},
   "outputs": [
    {
     "data": {
      "text/html": [
       "<div>\n",
       "<style scoped>\n",
       "    .dataframe tbody tr th:only-of-type {\n",
       "        vertical-align: middle;\n",
       "    }\n",
       "\n",
       "    .dataframe tbody tr th {\n",
       "        vertical-align: top;\n",
       "    }\n",
       "\n",
       "    .dataframe thead th {\n",
       "        text-align: right;\n",
       "    }\n",
       "</style>\n",
       "<table border=\"1\" class=\"dataframe\">\n",
       "  <thead>\n",
       "    <tr style=\"text-align: right;\">\n",
       "      <th></th>\n",
       "      <th>messages_included</th>\n",
       "      <th>mb_per_month_included</th>\n",
       "      <th>minutes_included</th>\n",
       "      <th>rub_monthly_fee</th>\n",
       "      <th>rub_per_gb</th>\n",
       "      <th>rub_per_message</th>\n",
       "      <th>rub_per_minute</th>\n",
       "      <th>tariff_name</th>\n",
       "    </tr>\n",
       "  </thead>\n",
       "  <tbody>\n",
       "    <tr>\n",
       "      <th>0</th>\n",
       "      <td>50</td>\n",
       "      <td>15360</td>\n",
       "      <td>500</td>\n",
       "      <td>550</td>\n",
       "      <td>200</td>\n",
       "      <td>3</td>\n",
       "      <td>3</td>\n",
       "      <td>smart</td>\n",
       "    </tr>\n",
       "    <tr>\n",
       "      <th>1</th>\n",
       "      <td>1000</td>\n",
       "      <td>30720</td>\n",
       "      <td>3000</td>\n",
       "      <td>1950</td>\n",
       "      <td>150</td>\n",
       "      <td>1</td>\n",
       "      <td>1</td>\n",
       "      <td>ultra</td>\n",
       "    </tr>\n",
       "  </tbody>\n",
       "</table>\n",
       "</div>"
      ],
      "text/plain": [
       "   messages_included  mb_per_month_included  minutes_included  \\\n",
       "0                 50                  15360               500   \n",
       "1               1000                  30720              3000   \n",
       "\n",
       "   rub_monthly_fee  rub_per_gb  rub_per_message  rub_per_minute tariff_name  \n",
       "0              550         200                3               3       smart  \n",
       "1             1950         150                1               1       ultra  "
      ]
     },
     "metadata": {},
     "output_type": "display_data"
    }
   ],
   "source": [
    "display(tariffs.tail())"
   ]
  },
  {
   "cell_type": "code",
   "execution_count": 14,
   "metadata": {},
   "outputs": [
    {
     "name": "stdout",
     "output_type": "stream",
     "text": [
      "<class 'pandas.core.frame.DataFrame'>\n",
      "RangeIndex: 2 entries, 0 to 1\n",
      "Data columns (total 8 columns):\n",
      " #   Column                 Non-Null Count  Dtype \n",
      "---  ------                 --------------  ----- \n",
      " 0   messages_included      2 non-null      int64 \n",
      " 1   mb_per_month_included  2 non-null      int64 \n",
      " 2   minutes_included       2 non-null      int64 \n",
      " 3   rub_monthly_fee        2 non-null      int64 \n",
      " 4   rub_per_gb             2 non-null      int64 \n",
      " 5   rub_per_message        2 non-null      int64 \n",
      " 6   rub_per_minute         2 non-null      int64 \n",
      " 7   tariff_name            2 non-null      object\n",
      "dtypes: int64(7), object(1)\n",
      "memory usage: 256.0+ bytes\n"
     ]
    }
   ],
   "source": [
    "tariffs.info()"
   ]
  },
  {
   "cell_type": "markdown",
   "metadata": {},
   "source": [
    "Таблица tariffs (информация о тарифах):\n",
    "- tariff_name — название тарифа\n",
    "- rub_monthly_fee — ежемесячная абонентская плата в рублях\n",
    "- minutes_included — количество минут разговора в месяц, включённых в абонентскую плату\n",
    "- messages_included — количество сообщений в месяц, включённых в абонентскую плату\n",
    "- mb_per_month_included — объём интернет-трафика, включённого в абонентскую плату (в мегабайтах)\n",
    "- rub_per_minute — стоимость минуты разговора сверх тарифного пакета (например, если в тарифе 100 минут разговора в месяц, то со 101 минуты будет взиматься плата)\n",
    "- rub_per_message — стоимость отправки сообщения сверх тарифного пакета\n",
    "- rub_per_gb — стоимость дополнительного гигабайта интернет-трафика сверх тарифного пакета (1 гигабайт = 1024 мегабайта)\n",
    "\n",
    "В таблице с Тарифами всего 2 строки. Т.к. оплата за интернет округляется компанией до Гб то в столбце `mb_per_month_included` необходимо значение перевести из Мб  в Гб"
   ]
  },
  {
   "cell_type": "code",
   "execution_count": 15,
   "metadata": {},
   "outputs": [],
   "source": [
    "users = pd.read_csv('/datasets/users.csv', sep=',')     #содержит информацию об абонентах"
   ]
  },
  {
   "cell_type": "code",
   "execution_count": 16,
   "metadata": {},
   "outputs": [
    {
     "data": {
      "text/html": [
       "<div>\n",
       "<style scoped>\n",
       "    .dataframe tbody tr th:only-of-type {\n",
       "        vertical-align: middle;\n",
       "    }\n",
       "\n",
       "    .dataframe tbody tr th {\n",
       "        vertical-align: top;\n",
       "    }\n",
       "\n",
       "    .dataframe thead th {\n",
       "        text-align: right;\n",
       "    }\n",
       "</style>\n",
       "<table border=\"1\" class=\"dataframe\">\n",
       "  <thead>\n",
       "    <tr style=\"text-align: right;\">\n",
       "      <th></th>\n",
       "      <th>user_id</th>\n",
       "      <th>age</th>\n",
       "      <th>churn_date</th>\n",
       "      <th>city</th>\n",
       "      <th>first_name</th>\n",
       "      <th>last_name</th>\n",
       "      <th>reg_date</th>\n",
       "      <th>tariff</th>\n",
       "    </tr>\n",
       "  </thead>\n",
       "  <tbody>\n",
       "    <tr>\n",
       "      <th>495</th>\n",
       "      <td>1495</td>\n",
       "      <td>65</td>\n",
       "      <td>NaN</td>\n",
       "      <td>Иркутск</td>\n",
       "      <td>Авксентий</td>\n",
       "      <td>Фокин</td>\n",
       "      <td>2018-08-28</td>\n",
       "      <td>ultra</td>\n",
       "    </tr>\n",
       "    <tr>\n",
       "      <th>496</th>\n",
       "      <td>1496</td>\n",
       "      <td>36</td>\n",
       "      <td>NaN</td>\n",
       "      <td>Вологда</td>\n",
       "      <td>Трифон</td>\n",
       "      <td>Блохин</td>\n",
       "      <td>2018-01-27</td>\n",
       "      <td>smart</td>\n",
       "    </tr>\n",
       "    <tr>\n",
       "      <th>497</th>\n",
       "      <td>1497</td>\n",
       "      <td>32</td>\n",
       "      <td>NaN</td>\n",
       "      <td>Челябинск</td>\n",
       "      <td>Каролина</td>\n",
       "      <td>Агеева</td>\n",
       "      <td>2018-10-09</td>\n",
       "      <td>smart</td>\n",
       "    </tr>\n",
       "    <tr>\n",
       "      <th>498</th>\n",
       "      <td>1498</td>\n",
       "      <td>68</td>\n",
       "      <td>2018-10-25</td>\n",
       "      <td>Владикавказ</td>\n",
       "      <td>Всеволод</td>\n",
       "      <td>Акимчин</td>\n",
       "      <td>2018-07-19</td>\n",
       "      <td>smart</td>\n",
       "    </tr>\n",
       "    <tr>\n",
       "      <th>499</th>\n",
       "      <td>1499</td>\n",
       "      <td>35</td>\n",
       "      <td>NaN</td>\n",
       "      <td>Пермь</td>\n",
       "      <td>Гектор</td>\n",
       "      <td>Корнилов</td>\n",
       "      <td>2018-09-27</td>\n",
       "      <td>smart</td>\n",
       "    </tr>\n",
       "  </tbody>\n",
       "</table>\n",
       "</div>"
      ],
      "text/plain": [
       "     user_id  age  churn_date         city first_name last_name    reg_date  \\\n",
       "495     1495   65         NaN      Иркутск  Авксентий     Фокин  2018-08-28   \n",
       "496     1496   36         NaN      Вологда     Трифон    Блохин  2018-01-27   \n",
       "497     1497   32         NaN    Челябинск   Каролина    Агеева  2018-10-09   \n",
       "498     1498   68  2018-10-25  Владикавказ   Всеволод   Акимчин  2018-07-19   \n",
       "499     1499   35         NaN        Пермь     Гектор  Корнилов  2018-09-27   \n",
       "\n",
       "    tariff  \n",
       "495  ultra  \n",
       "496  smart  \n",
       "497  smart  \n",
       "498  smart  \n",
       "499  smart  "
      ]
     },
     "metadata": {},
     "output_type": "display_data"
    }
   ],
   "source": [
    "display(users.tail())"
   ]
  },
  {
   "cell_type": "code",
   "execution_count": 17,
   "metadata": {},
   "outputs": [
    {
     "name": "stdout",
     "output_type": "stream",
     "text": [
      "<class 'pandas.core.frame.DataFrame'>\n",
      "RangeIndex: 500 entries, 0 to 499\n",
      "Data columns (total 8 columns):\n",
      " #   Column      Non-Null Count  Dtype \n",
      "---  ------      --------------  ----- \n",
      " 0   user_id     500 non-null    int64 \n",
      " 1   age         500 non-null    int64 \n",
      " 2   churn_date  38 non-null     object\n",
      " 3   city        500 non-null    object\n",
      " 4   first_name  500 non-null    object\n",
      " 5   last_name   500 non-null    object\n",
      " 6   reg_date    500 non-null    object\n",
      " 7   tariff      500 non-null    object\n",
      "dtypes: int64(2), object(6)\n",
      "memory usage: 31.4+ KB\n"
     ]
    }
   ],
   "source": [
    "users.info()"
   ]
  },
  {
   "cell_type": "markdown",
   "metadata": {},
   "source": [
    "Таблица users (информация о пользователях):\n",
    "- user_id — уникальный идентификатор пользователя\n",
    "- first_name — имя пользователя\n",
    "- last_name — фамилия пользователя\n",
    "- age — возраст пользователя (годы)\n",
    "- reg_date — дата подключения тарифа (день, месяц, год)\n",
    "- churn_date — дата прекращения пользования тарифом.\n",
    "- city — город проживания пользователя\n",
    "- tarif — название тарифного плана\n",
    "\n",
    "Пустых строки в столбце `churn_date`. В водных была подсказка, если значение пропущено, то тариф ещё действовал на момент выгрузки данных. Эти пропуски необходимо сохранить. Имена колонок названы стилистически корректно. Столбцы `reg_date` и `churn_date` необходимо будет перевести в тип дата."
   ]
  },
  {
   "cell_type": "markdown",
   "metadata": {},
   "source": [
    "Проверим строки на явные дубликаты и дубли уникальных номеров. "
   ]
  },
  {
   "cell_type": "code",
   "execution_count": 18,
   "metadata": {},
   "outputs": [
    {
     "name": "stdout",
     "output_type": "stream",
     "text": [
      "0\n",
      "0\n",
      "0\n",
      "0\n"
     ]
    }
   ],
   "source": [
    "print (users.duplicated().sum())\n",
    "print (calls.duplicated().sum())\n",
    "print (messages.duplicated().sum())\n",
    "print (internet.duplicated().sum())"
   ]
  },
  {
   "cell_type": "code",
   "execution_count": 19,
   "metadata": {},
   "outputs": [
    {
     "name": "stdout",
     "output_type": "stream",
     "text": [
      "500\n",
      "500\n",
      "123036\n",
      "123036\n",
      "149396\n",
      "149396\n"
     ]
    }
   ],
   "source": [
    "print(users['user_id'].nunique()) #проверим нет ли дублей по ID абонента\n",
    "print(users['user_id'].count())\n",
    "print(messages['id'].nunique()) #проверим нет ли дублей в уникальных номерах sms\n",
    "print(messages['id'].count())\n",
    "print(internet['id'].nunique()) #проверим нет ли дублей в уникальных номерах сессий интернета\n",
    "print(internet['id'].count())"
   ]
  },
  {
   "cell_type": "markdown",
   "metadata": {},
   "source": [
    "### Вывод\n",
    "\n",
    "На этапе изучения данных была проведена проверка данных, названия колонок, наполнение столбцов, типы переменных, статистические данные датафрейма, а также наличие пустот и аномалий.\n",
    "\n",
    "Данные находятся в 5 датасетах. Далее необходима будет склейка данных для проведегния полного анализа. \n",
    "\n",
    "Колонки названы корректно, в змеином стиле, нижний регистр, без пропусков. Корректировка не требуется.\n",
    "\n",
    "Колонки имеют типы данных: float64(14), int64(3), object(3).\n",
    "Значения дат во всех таблицах нужно перевести из строкого типа `object` в тип `datetime`. Т.к. тарификация помесячная, то необходимо выделить в отдельную колнку месяц, по которому в дальнейшем объединим столбцы. \n",
    "Ввиду того, что тарификация на обоих тарифах поминутная, то тип float64 переведем int с округлением в вверх.\n",
    "\n",
    "**Описание данных**\n",
    "\n",
    "Таблица users (информация о пользователях):\n",
    "- user_id — уникальный идентификатор пользователя\n",
    "- first_name — имя пользователя\n",
    "- last_name — фамилия пользователя\n",
    "- age — возраст пользователя (годы)\n",
    "- reg_date — дата подключения тарифа (день, месяц, год)\n",
    "- churn_date — дата прекращения пользования тарифом (если значение пропущено, то тариф ещё действовал на момент выгрузки данных)\n",
    "- city — город проживания пользователя\n",
    "- tarif — название тарифного плана\n",
    "\n",
    "Таблица calls (информация о звонках):\n",
    "- id — уникальный номер звонка\n",
    "- call_date — дата звонка\n",
    "- duration — длительность звонка в минутах\n",
    "- user_id — идентификатор пользователя, сделавшего звонок\n",
    "\n",
    "Таблица messages (информация о сообщениях):\n",
    "- id — уникальный номер сообщения\n",
    "- message_date — дата сообщения\n",
    "- user_id — идентификатор пользователя, отправившего сообщение\n",
    "\n",
    "Таблица internet (информация об интернет-сессиях):\n",
    "- id — уникальный номер сессии\n",
    "- mb_used — объём потраченного за сессию интернет-трафика (в мегабайтах)\n",
    "- session_date — дата интернет-сессии\n",
    "- user_id — идентификатор пользователя\n",
    "\n",
    "Таблица tariffs (информация о тарифах):\n",
    "- tariff_name — название тарифа\n",
    "- rub_monthly_fee — ежемесячная абонентская плата в рублях\n",
    "- minutes_included — количество минут разговора в месяц, включённых в абонентскую плату\n",
    "- messages_included — количество сообщений в месяц, включённых в абонентскую плату\n",
    "- mb_per_month_included — объём интернет-трафика, включённого в абонентскую плату (в мегабайтах)\n",
    "- rub_per_minute — стоимость минуты разговора сверх тарифного пакета (например, если в тарифе 100 минут разговора в месяц, то со 101 минуты будет взиматься плата)\n",
    "- rub_per_message — стоимость отправки сообщения сверх тарифного пакета\n",
    "- rub_per_gb — стоимость дополнительного гигабайта интернет-трафика сверх тарифного пакета (1 гигабайт = 1024 мегабайта)"
   ]
  },
  {
   "cell_type": "markdown",
   "metadata": {},
   "source": [
    "## Предобработка данных"
   ]
  },
  {
   "cell_type": "markdown",
   "metadata": {},
   "source": [
    "Преобразуем типы данных, добавим столбец месяц и выполним преобразования которые наметили в процессе первичного анализа данных."
   ]
  },
  {
   "cell_type": "code",
   "execution_count": 20,
   "metadata": {},
   "outputs": [
    {
     "name": "stdout",
     "output_type": "stream",
     "text": [
      "<class 'pandas.core.frame.DataFrame'>\n",
      "RangeIndex: 500 entries, 0 to 499\n",
      "Data columns (total 10 columns):\n",
      " #   Column       Non-Null Count  Dtype         \n",
      "---  ------       --------------  -----         \n",
      " 0   user_id      500 non-null    int64         \n",
      " 1   age          500 non-null    int64         \n",
      " 2   churn_date   38 non-null     datetime64[ns]\n",
      " 3   city         500 non-null    object        \n",
      " 4   first_name   500 non-null    object        \n",
      " 5   last_name    500 non-null    object        \n",
      " 6   reg_date     500 non-null    datetime64[ns]\n",
      " 7   tariff       500 non-null    object        \n",
      " 8   month_reg    500 non-null    int64         \n",
      " 9   month_churn  38 non-null     float64       \n",
      "dtypes: datetime64[ns](2), float64(1), int64(3), object(4)\n",
      "memory usage: 39.2+ KB\n"
     ]
    }
   ],
   "source": [
    "users['reg_date'] = pd.to_datetime(users['reg_date'], format='%Y-%m-%d') #преобразуем в тип datetime\n",
    "users['churn_date'] = pd.to_datetime(users['churn_date'], format='%Y-%m-%d')\n",
    "users['month_reg'] = users['reg_date'].dt.month.astype('int') #выделим отдельный столбец месяц и переведм в целочисленные значения\n",
    "users['month_churn'] = users['churn_date'].dt.month\n",
    "users.info()"
   ]
  },
  {
   "cell_type": "markdown",
   "metadata": {},
   "source": [
    "Т.к. для склейки нам нужен только номер месяца из 2018 года, то сразу выделим и преобразуем эти данные в отдельном столбце без изменения типа столбца с датой. Проведем эту операцию на всех таблицах."
   ]
  },
  {
   "cell_type": "code",
   "execution_count": 21,
   "metadata": {},
   "outputs": [
    {
     "name": "stdout",
     "output_type": "stream",
     "text": [
      "<class 'pandas.core.frame.DataFrame'>\n",
      "RangeIndex: 202607 entries, 0 to 202606\n",
      "Data columns (total 5 columns):\n",
      " #   Column     Non-Null Count   Dtype  \n",
      "---  ------     --------------   -----  \n",
      " 0   id         202607 non-null  object \n",
      " 1   call_date  202607 non-null  object \n",
      " 2   duration   202607 non-null  float64\n",
      " 3   user_id    202607 non-null  int64  \n",
      " 4   month      202607 non-null  int64  \n",
      "dtypes: float64(1), int64(2), object(2)\n",
      "memory usage: 7.7+ MB\n"
     ]
    }
   ],
   "source": [
    "calls['month'] = pd.to_datetime(calls['call_date'], format='%Y-%m-%d').dt.month\n",
    "calls.info()"
   ]
  },
  {
   "cell_type": "code",
   "execution_count": 22,
   "metadata": {},
   "outputs": [
    {
     "name": "stdout",
     "output_type": "stream",
     "text": [
      "<class 'pandas.core.frame.DataFrame'>\n",
      "RangeIndex: 123036 entries, 0 to 123035\n",
      "Data columns (total 4 columns):\n",
      " #   Column        Non-Null Count   Dtype \n",
      "---  ------        --------------   ----- \n",
      " 0   id            123036 non-null  object\n",
      " 1   message_date  123036 non-null  object\n",
      " 2   user_id       123036 non-null  int64 \n",
      " 3   month         123036 non-null  int64 \n",
      "dtypes: int64(2), object(2)\n",
      "memory usage: 3.8+ MB\n"
     ]
    }
   ],
   "source": [
    "messages['month'] = pd.to_datetime(messages['message_date'], format='%Y-%m-%d').dt.month\n",
    "messages.info()"
   ]
  },
  {
   "cell_type": "code",
   "execution_count": 23,
   "metadata": {},
   "outputs": [
    {
     "name": "stdout",
     "output_type": "stream",
     "text": [
      "<class 'pandas.core.frame.DataFrame'>\n",
      "RangeIndex: 149396 entries, 0 to 149395\n",
      "Data columns (total 6 columns):\n",
      " #   Column        Non-Null Count   Dtype  \n",
      "---  ------        --------------   -----  \n",
      " 0   Unnamed: 0    149396 non-null  int64  \n",
      " 1   id            149396 non-null  object \n",
      " 2   mb_used       149396 non-null  float64\n",
      " 3   session_date  149396 non-null  object \n",
      " 4   user_id       149396 non-null  int64  \n",
      " 5   month         149396 non-null  int64  \n",
      "dtypes: float64(1), int64(3), object(2)\n",
      "memory usage: 6.8+ MB\n"
     ]
    }
   ],
   "source": [
    "internet['month'] = pd.to_datetime(internet['session_date'], format='%Y-%m-%d').dt.month\n",
    "internet.info()"
   ]
  },
  {
   "cell_type": "markdown",
   "metadata": {},
   "source": [
    "Т.к. звонки оцениваются по минутно, то в столбце `duration` округлим значения до целых минут."
   ]
  },
  {
   "cell_type": "code",
   "execution_count": 24,
   "metadata": {},
   "outputs": [
    {
     "name": "stdout",
     "output_type": "stream",
     "text": [
      "0     0.00\n",
      "1     0.00\n",
      "2     2.85\n",
      "3    13.80\n",
      "4     5.18\n",
      "Name: duration, dtype: float64\n"
     ]
    }
   ],
   "source": [
    "print (calls['duration'].head())"
   ]
  },
  {
   "cell_type": "code",
   "execution_count": 25,
   "metadata": {},
   "outputs": [
    {
     "name": "stdout",
     "output_type": "stream",
     "text": [
      "       id   call_date  duration  user_id  month\n",
      "0  1000_0  2018-07-25         0     1000      7\n",
      "1  1000_1  2018-08-17         0     1000      8\n",
      "2  1000_2  2018-06-11         3     1000      6\n",
      "3  1000_3  2018-09-21        14     1000      9\n",
      "4  1000_4  2018-12-15         6     1000     12\n"
     ]
    }
   ],
   "source": [
    "calls['duration'] = np.ceil(calls['duration']).astype('int')\n",
    "print (calls.head())"
   ]
  },
  {
   "cell_type": "markdown",
   "metadata": {},
   "source": [
    "Т.к. тарификация в обоих тарифах погигабайтная, то переведем в датасете `tariffs` значения в столбце `mb_per_month_included` из Мб в ГБ."
   ]
  },
  {
   "cell_type": "code",
   "execution_count": 26,
   "metadata": {},
   "outputs": [
    {
     "name": "stdout",
     "output_type": "stream",
     "text": [
      "0    15360\n",
      "1    30720\n",
      "Name: mb_per_month_included, dtype: int64\n"
     ]
    }
   ],
   "source": [
    "print (tariffs['mb_per_month_included'])"
   ]
  },
  {
   "cell_type": "code",
   "execution_count": 27,
   "metadata": {},
   "outputs": [
    {
     "name": "stdout",
     "output_type": "stream",
     "text": [
      "0    15\n",
      "1    30\n",
      "Name: gb_per_month_included, dtype: int64\n"
     ]
    }
   ],
   "source": [
    "tariffs['mb_per_month_included'] = tariffs['mb_per_month_included']/1024\n",
    "tariffs['mb_per_month_included'] = tariffs['mb_per_month_included'].astype('int')\n",
    "tariffs = tariffs.rename(columns={'mb_per_month_included':'gb_per_month_included'})\n",
    "print (tariffs['gb_per_month_included'])"
   ]
  },
  {
   "cell_type": "markdown",
   "metadata": {},
   "source": [
    "Чтобы отсеять не важную информацию сгруппируем все таблицы по столбцам `user_id` и `month`"
   ]
  },
  {
   "cell_type": "code",
   "execution_count": 28,
   "metadata": {},
   "outputs": [
    {
     "data": {
      "text/html": [
       "<div>\n",
       "<style scoped>\n",
       "    .dataframe tbody tr th:only-of-type {\n",
       "        vertical-align: middle;\n",
       "    }\n",
       "\n",
       "    .dataframe tbody tr th {\n",
       "        vertical-align: top;\n",
       "    }\n",
       "\n",
       "    .dataframe thead th {\n",
       "        text-align: right;\n",
       "    }\n",
       "</style>\n",
       "<table border=\"1\" class=\"dataframe\">\n",
       "  <thead>\n",
       "    <tr style=\"text-align: right;\">\n",
       "      <th></th>\n",
       "      <th>month</th>\n",
       "      <th>user_id</th>\n",
       "      <th>duration</th>\n",
       "    </tr>\n",
       "  </thead>\n",
       "  <tbody>\n",
       "    <tr>\n",
       "      <th>0</th>\n",
       "      <td>1</td>\n",
       "      <td>1005</td>\n",
       "      <td>95</td>\n",
       "    </tr>\n",
       "    <tr>\n",
       "      <th>1</th>\n",
       "      <td>1</td>\n",
       "      <td>1032</td>\n",
       "      <td>380</td>\n",
       "    </tr>\n",
       "    <tr>\n",
       "      <th>2</th>\n",
       "      <td>1</td>\n",
       "      <td>1045</td>\n",
       "      <td>9</td>\n",
       "    </tr>\n",
       "    <tr>\n",
       "      <th>3</th>\n",
       "      <td>1</td>\n",
       "      <td>1055</td>\n",
       "      <td>551</td>\n",
       "    </tr>\n",
       "    <tr>\n",
       "      <th>4</th>\n",
       "      <td>1</td>\n",
       "      <td>1071</td>\n",
       "      <td>194</td>\n",
       "    </tr>\n",
       "    <tr>\n",
       "      <th>...</th>\n",
       "      <td>...</td>\n",
       "      <td>...</td>\n",
       "      <td>...</td>\n",
       "    </tr>\n",
       "    <tr>\n",
       "      <th>3169</th>\n",
       "      <td>12</td>\n",
       "      <td>1494</td>\n",
       "      <td>418</td>\n",
       "    </tr>\n",
       "    <tr>\n",
       "      <th>3170</th>\n",
       "      <td>12</td>\n",
       "      <td>1495</td>\n",
       "      <td>1031</td>\n",
       "    </tr>\n",
       "    <tr>\n",
       "      <th>3171</th>\n",
       "      <td>12</td>\n",
       "      <td>1496</td>\n",
       "      <td>518</td>\n",
       "    </tr>\n",
       "    <tr>\n",
       "      <th>3172</th>\n",
       "      <td>12</td>\n",
       "      <td>1497</td>\n",
       "      <td>545</td>\n",
       "    </tr>\n",
       "    <tr>\n",
       "      <th>3173</th>\n",
       "      <td>12</td>\n",
       "      <td>1499</td>\n",
       "      <td>492</td>\n",
       "    </tr>\n",
       "  </tbody>\n",
       "</table>\n",
       "<p>3174 rows × 3 columns</p>\n",
       "</div>"
      ],
      "text/plain": [
       "      month  user_id  duration\n",
       "0         1     1005        95\n",
       "1         1     1032       380\n",
       "2         1     1045         9\n",
       "3         1     1055       551\n",
       "4         1     1071       194\n",
       "...     ...      ...       ...\n",
       "3169     12     1494       418\n",
       "3170     12     1495      1031\n",
       "3171     12     1496       518\n",
       "3172     12     1497       545\n",
       "3173     12     1499       492\n",
       "\n",
       "[3174 rows x 3 columns]"
      ]
     },
     "execution_count": 28,
     "metadata": {},
     "output_type": "execute_result"
    }
   ],
   "source": [
    "calls_pivot = calls.pivot_table(index=['month', 'user_id'], values='duration', aggfunc='sum').reset_index()\n",
    "calls_pivot"
   ]
  },
  {
   "cell_type": "code",
   "execution_count": 29,
   "metadata": {},
   "outputs": [
    {
     "data": {
      "text/html": [
       "<div>\n",
       "<style scoped>\n",
       "    .dataframe tbody tr th:only-of-type {\n",
       "        vertical-align: middle;\n",
       "    }\n",
       "\n",
       "    .dataframe tbody tr th {\n",
       "        vertical-align: top;\n",
       "    }\n",
       "\n",
       "    .dataframe thead th {\n",
       "        text-align: right;\n",
       "    }\n",
       "</style>\n",
       "<table border=\"1\" class=\"dataframe\">\n",
       "  <thead>\n",
       "    <tr style=\"text-align: right;\">\n",
       "      <th></th>\n",
       "      <th>month</th>\n",
       "      <th>user_id</th>\n",
       "      <th>id</th>\n",
       "    </tr>\n",
       "  </thead>\n",
       "  <tbody>\n",
       "    <tr>\n",
       "      <th>0</th>\n",
       "      <td>1</td>\n",
       "      <td>1005</td>\n",
       "      <td>7</td>\n",
       "    </tr>\n",
       "    <tr>\n",
       "      <th>1</th>\n",
       "      <td>1</td>\n",
       "      <td>1032</td>\n",
       "      <td>38</td>\n",
       "    </tr>\n",
       "    <tr>\n",
       "      <th>2</th>\n",
       "      <td>1</td>\n",
       "      <td>1045</td>\n",
       "      <td>5</td>\n",
       "    </tr>\n",
       "    <tr>\n",
       "      <th>3</th>\n",
       "      <td>1</td>\n",
       "      <td>1055</td>\n",
       "      <td>30</td>\n",
       "    </tr>\n",
       "    <tr>\n",
       "      <th>4</th>\n",
       "      <td>1</td>\n",
       "      <td>1071</td>\n",
       "      <td>16</td>\n",
       "    </tr>\n",
       "    <tr>\n",
       "      <th>...</th>\n",
       "      <td>...</td>\n",
       "      <td>...</td>\n",
       "      <td>...</td>\n",
       "    </tr>\n",
       "    <tr>\n",
       "      <th>2712</th>\n",
       "      <td>12</td>\n",
       "      <td>1493</td>\n",
       "      <td>78</td>\n",
       "    </tr>\n",
       "    <tr>\n",
       "      <th>2713</th>\n",
       "      <td>12</td>\n",
       "      <td>1495</td>\n",
       "      <td>84</td>\n",
       "    </tr>\n",
       "    <tr>\n",
       "      <th>2714</th>\n",
       "      <td>12</td>\n",
       "      <td>1496</td>\n",
       "      <td>51</td>\n",
       "    </tr>\n",
       "    <tr>\n",
       "      <th>2715</th>\n",
       "      <td>12</td>\n",
       "      <td>1497</td>\n",
       "      <td>17</td>\n",
       "    </tr>\n",
       "    <tr>\n",
       "      <th>2716</th>\n",
       "      <td>12</td>\n",
       "      <td>1499</td>\n",
       "      <td>66</td>\n",
       "    </tr>\n",
       "  </tbody>\n",
       "</table>\n",
       "<p>2717 rows × 3 columns</p>\n",
       "</div>"
      ],
      "text/plain": [
       "      month  user_id  id\n",
       "0         1     1005   7\n",
       "1         1     1032  38\n",
       "2         1     1045   5\n",
       "3         1     1055  30\n",
       "4         1     1071  16\n",
       "...     ...      ...  ..\n",
       "2712     12     1493  78\n",
       "2713     12     1495  84\n",
       "2714     12     1496  51\n",
       "2715     12     1497  17\n",
       "2716     12     1499  66\n",
       "\n",
       "[2717 rows x 3 columns]"
      ]
     },
     "execution_count": 29,
     "metadata": {},
     "output_type": "execute_result"
    }
   ],
   "source": [
    "messages_pivot = messages.pivot_table(index=['month', 'user_id'], values='id', aggfunc='count').reset_index()\n",
    "messages_pivot"
   ]
  },
  {
   "cell_type": "markdown",
   "metadata": {},
   "source": [
    "Переименуем столбец `id` в `messages`"
   ]
  },
  {
   "cell_type": "code",
   "execution_count": 30,
   "metadata": {},
   "outputs": [
    {
     "data": {
      "text/html": [
       "<div>\n",
       "<style scoped>\n",
       "    .dataframe tbody tr th:only-of-type {\n",
       "        vertical-align: middle;\n",
       "    }\n",
       "\n",
       "    .dataframe tbody tr th {\n",
       "        vertical-align: top;\n",
       "    }\n",
       "\n",
       "    .dataframe thead th {\n",
       "        text-align: right;\n",
       "    }\n",
       "</style>\n",
       "<table border=\"1\" class=\"dataframe\">\n",
       "  <thead>\n",
       "    <tr style=\"text-align: right;\">\n",
       "      <th></th>\n",
       "      <th>month</th>\n",
       "      <th>user_id</th>\n",
       "      <th>messages</th>\n",
       "    </tr>\n",
       "  </thead>\n",
       "  <tbody>\n",
       "    <tr>\n",
       "      <th>0</th>\n",
       "      <td>1</td>\n",
       "      <td>1005</td>\n",
       "      <td>7</td>\n",
       "    </tr>\n",
       "    <tr>\n",
       "      <th>1</th>\n",
       "      <td>1</td>\n",
       "      <td>1032</td>\n",
       "      <td>38</td>\n",
       "    </tr>\n",
       "    <tr>\n",
       "      <th>2</th>\n",
       "      <td>1</td>\n",
       "      <td>1045</td>\n",
       "      <td>5</td>\n",
       "    </tr>\n",
       "    <tr>\n",
       "      <th>3</th>\n",
       "      <td>1</td>\n",
       "      <td>1055</td>\n",
       "      <td>30</td>\n",
       "    </tr>\n",
       "    <tr>\n",
       "      <th>4</th>\n",
       "      <td>1</td>\n",
       "      <td>1071</td>\n",
       "      <td>16</td>\n",
       "    </tr>\n",
       "    <tr>\n",
       "      <th>...</th>\n",
       "      <td>...</td>\n",
       "      <td>...</td>\n",
       "      <td>...</td>\n",
       "    </tr>\n",
       "    <tr>\n",
       "      <th>2712</th>\n",
       "      <td>12</td>\n",
       "      <td>1493</td>\n",
       "      <td>78</td>\n",
       "    </tr>\n",
       "    <tr>\n",
       "      <th>2713</th>\n",
       "      <td>12</td>\n",
       "      <td>1495</td>\n",
       "      <td>84</td>\n",
       "    </tr>\n",
       "    <tr>\n",
       "      <th>2714</th>\n",
       "      <td>12</td>\n",
       "      <td>1496</td>\n",
       "      <td>51</td>\n",
       "    </tr>\n",
       "    <tr>\n",
       "      <th>2715</th>\n",
       "      <td>12</td>\n",
       "      <td>1497</td>\n",
       "      <td>17</td>\n",
       "    </tr>\n",
       "    <tr>\n",
       "      <th>2716</th>\n",
       "      <td>12</td>\n",
       "      <td>1499</td>\n",
       "      <td>66</td>\n",
       "    </tr>\n",
       "  </tbody>\n",
       "</table>\n",
       "<p>2717 rows × 3 columns</p>\n",
       "</div>"
      ],
      "text/plain": [
       "      month  user_id  messages\n",
       "0         1     1005         7\n",
       "1         1     1032        38\n",
       "2         1     1045         5\n",
       "3         1     1055        30\n",
       "4         1     1071        16\n",
       "...     ...      ...       ...\n",
       "2712     12     1493        78\n",
       "2713     12     1495        84\n",
       "2714     12     1496        51\n",
       "2715     12     1497        17\n",
       "2716     12     1499        66\n",
       "\n",
       "[2717 rows x 3 columns]"
      ]
     },
     "execution_count": 30,
     "metadata": {},
     "output_type": "execute_result"
    }
   ],
   "source": [
    "messages_pivot = messages_pivot.rename(columns = {'id': 'messages'})\n",
    "messages_pivot"
   ]
  },
  {
   "cell_type": "markdown",
   "metadata": {},
   "source": [
    "Сгруппируем данные датасета `internet` по месяцу и переведем Мб в Гб"
   ]
  },
  {
   "cell_type": "code",
   "execution_count": 31,
   "metadata": {},
   "outputs": [
    {
     "data": {
      "text/html": [
       "<div>\n",
       "<style scoped>\n",
       "    .dataframe tbody tr th:only-of-type {\n",
       "        vertical-align: middle;\n",
       "    }\n",
       "\n",
       "    .dataframe tbody tr th {\n",
       "        vertical-align: top;\n",
       "    }\n",
       "\n",
       "    .dataframe thead th {\n",
       "        text-align: right;\n",
       "    }\n",
       "</style>\n",
       "<table border=\"1\" class=\"dataframe\">\n",
       "  <thead>\n",
       "    <tr style=\"text-align: right;\">\n",
       "      <th></th>\n",
       "      <th>month</th>\n",
       "      <th>user_id</th>\n",
       "      <th>mb_used</th>\n",
       "      <th>gb_used</th>\n",
       "    </tr>\n",
       "  </thead>\n",
       "  <tbody>\n",
       "    <tr>\n",
       "      <th>0</th>\n",
       "      <td>1</td>\n",
       "      <td>1005</td>\n",
       "      <td>2727.97</td>\n",
       "      <td>3</td>\n",
       "    </tr>\n",
       "    <tr>\n",
       "      <th>1</th>\n",
       "      <td>1</td>\n",
       "      <td>1032</td>\n",
       "      <td>24127.69</td>\n",
       "      <td>24</td>\n",
       "    </tr>\n",
       "    <tr>\n",
       "      <th>2</th>\n",
       "      <td>1</td>\n",
       "      <td>1045</td>\n",
       "      <td>2346.71</td>\n",
       "      <td>3</td>\n",
       "    </tr>\n",
       "    <tr>\n",
       "      <th>3</th>\n",
       "      <td>1</td>\n",
       "      <td>1055</td>\n",
       "      <td>17090.88</td>\n",
       "      <td>17</td>\n",
       "    </tr>\n",
       "    <tr>\n",
       "      <th>4</th>\n",
       "      <td>1</td>\n",
       "      <td>1071</td>\n",
       "      <td>15604.34</td>\n",
       "      <td>16</td>\n",
       "    </tr>\n",
       "    <tr>\n",
       "      <th>...</th>\n",
       "      <td>...</td>\n",
       "      <td>...</td>\n",
       "      <td>...</td>\n",
       "      <td>...</td>\n",
       "    </tr>\n",
       "    <tr>\n",
       "      <th>3198</th>\n",
       "      <td>12</td>\n",
       "      <td>1494</td>\n",
       "      <td>17621.21</td>\n",
       "      <td>18</td>\n",
       "    </tr>\n",
       "    <tr>\n",
       "      <th>3199</th>\n",
       "      <td>12</td>\n",
       "      <td>1495</td>\n",
       "      <td>23426.76</td>\n",
       "      <td>23</td>\n",
       "    </tr>\n",
       "    <tr>\n",
       "      <th>3200</th>\n",
       "      <td>12</td>\n",
       "      <td>1496</td>\n",
       "      <td>20736.15</td>\n",
       "      <td>21</td>\n",
       "    </tr>\n",
       "    <tr>\n",
       "      <th>3201</th>\n",
       "      <td>12</td>\n",
       "      <td>1497</td>\n",
       "      <td>19918.60</td>\n",
       "      <td>20</td>\n",
       "    </tr>\n",
       "    <tr>\n",
       "      <th>3202</th>\n",
       "      <td>12</td>\n",
       "      <td>1499</td>\n",
       "      <td>13055.58</td>\n",
       "      <td>13</td>\n",
       "    </tr>\n",
       "  </tbody>\n",
       "</table>\n",
       "<p>3203 rows × 4 columns</p>\n",
       "</div>"
      ],
      "text/plain": [
       "      month  user_id   mb_used  gb_used\n",
       "0         1     1005   2727.97        3\n",
       "1         1     1032  24127.69       24\n",
       "2         1     1045   2346.71        3\n",
       "3         1     1055  17090.88       17\n",
       "4         1     1071  15604.34       16\n",
       "...     ...      ...       ...      ...\n",
       "3198     12     1494  17621.21       18\n",
       "3199     12     1495  23426.76       23\n",
       "3200     12     1496  20736.15       21\n",
       "3201     12     1497  19918.60       20\n",
       "3202     12     1499  13055.58       13\n",
       "\n",
       "[3203 rows x 4 columns]"
      ]
     },
     "execution_count": 31,
     "metadata": {},
     "output_type": "execute_result"
    }
   ],
   "source": [
    "internet_pivot = internet.pivot_table(index=['month', 'user_id'], values='mb_used', aggfunc='sum').reset_index()\n",
    "internet_pivot['gb_used'] = np.ceil(internet_pivot['mb_used']/1024).astype('int') # переведем в Гб\n",
    "internet_pivot"
   ]
  },
  {
   "cell_type": "code",
   "execution_count": 32,
   "metadata": {},
   "outputs": [
    {
     "data": {
      "text/html": [
       "<div>\n",
       "<style scoped>\n",
       "    .dataframe tbody tr th:only-of-type {\n",
       "        vertical-align: middle;\n",
       "    }\n",
       "\n",
       "    .dataframe tbody tr th {\n",
       "        vertical-align: top;\n",
       "    }\n",
       "\n",
       "    .dataframe thead th {\n",
       "        text-align: right;\n",
       "    }\n",
       "</style>\n",
       "<table border=\"1\" class=\"dataframe\">\n",
       "  <thead>\n",
       "    <tr style=\"text-align: right;\">\n",
       "      <th></th>\n",
       "      <th>month</th>\n",
       "      <th>user_id</th>\n",
       "      <th>gb_used</th>\n",
       "    </tr>\n",
       "  </thead>\n",
       "  <tbody>\n",
       "    <tr>\n",
       "      <th>0</th>\n",
       "      <td>1</td>\n",
       "      <td>1005</td>\n",
       "      <td>3</td>\n",
       "    </tr>\n",
       "    <tr>\n",
       "      <th>1</th>\n",
       "      <td>1</td>\n",
       "      <td>1032</td>\n",
       "      <td>24</td>\n",
       "    </tr>\n",
       "    <tr>\n",
       "      <th>2</th>\n",
       "      <td>1</td>\n",
       "      <td>1045</td>\n",
       "      <td>3</td>\n",
       "    </tr>\n",
       "    <tr>\n",
       "      <th>3</th>\n",
       "      <td>1</td>\n",
       "      <td>1055</td>\n",
       "      <td>17</td>\n",
       "    </tr>\n",
       "    <tr>\n",
       "      <th>4</th>\n",
       "      <td>1</td>\n",
       "      <td>1071</td>\n",
       "      <td>16</td>\n",
       "    </tr>\n",
       "    <tr>\n",
       "      <th>...</th>\n",
       "      <td>...</td>\n",
       "      <td>...</td>\n",
       "      <td>...</td>\n",
       "    </tr>\n",
       "    <tr>\n",
       "      <th>3198</th>\n",
       "      <td>12</td>\n",
       "      <td>1494</td>\n",
       "      <td>18</td>\n",
       "    </tr>\n",
       "    <tr>\n",
       "      <th>3199</th>\n",
       "      <td>12</td>\n",
       "      <td>1495</td>\n",
       "      <td>23</td>\n",
       "    </tr>\n",
       "    <tr>\n",
       "      <th>3200</th>\n",
       "      <td>12</td>\n",
       "      <td>1496</td>\n",
       "      <td>21</td>\n",
       "    </tr>\n",
       "    <tr>\n",
       "      <th>3201</th>\n",
       "      <td>12</td>\n",
       "      <td>1497</td>\n",
       "      <td>20</td>\n",
       "    </tr>\n",
       "    <tr>\n",
       "      <th>3202</th>\n",
       "      <td>12</td>\n",
       "      <td>1499</td>\n",
       "      <td>13</td>\n",
       "    </tr>\n",
       "  </tbody>\n",
       "</table>\n",
       "<p>3203 rows × 3 columns</p>\n",
       "</div>"
      ],
      "text/plain": [
       "      month  user_id  gb_used\n",
       "0         1     1005        3\n",
       "1         1     1032       24\n",
       "2         1     1045        3\n",
       "3         1     1055       17\n",
       "4         1     1071       16\n",
       "...     ...      ...      ...\n",
       "3198     12     1494       18\n",
       "3199     12     1495       23\n",
       "3200     12     1496       21\n",
       "3201     12     1497       20\n",
       "3202     12     1499       13\n",
       "\n",
       "[3203 rows x 3 columns]"
      ]
     },
     "execution_count": 32,
     "metadata": {},
     "output_type": "execute_result"
    }
   ],
   "source": [
    "internet_pivot = internet_pivot.drop('mb_used', 1) #удалим столбец с Мб\n",
    "internet_pivot"
   ]
  },
  {
   "cell_type": "markdown",
   "metadata": {},
   "source": [
    "Приведем все данные в единую таблицу. Для этого склеим данные по столбцам `user_id` и `month`."
   ]
  },
  {
   "cell_type": "code",
   "execution_count": 33,
   "metadata": {},
   "outputs": [
    {
     "data": {
      "text/html": [
       "<div>\n",
       "<style scoped>\n",
       "    .dataframe tbody tr th:only-of-type {\n",
       "        vertical-align: middle;\n",
       "    }\n",
       "\n",
       "    .dataframe tbody tr th {\n",
       "        vertical-align: top;\n",
       "    }\n",
       "\n",
       "    .dataframe thead th {\n",
       "        text-align: right;\n",
       "    }\n",
       "</style>\n",
       "<table border=\"1\" class=\"dataframe\">\n",
       "  <thead>\n",
       "    <tr style=\"text-align: right;\">\n",
       "      <th></th>\n",
       "      <th>month</th>\n",
       "      <th>user_id</th>\n",
       "      <th>duration</th>\n",
       "      <th>messages</th>\n",
       "      <th>gb_used</th>\n",
       "      <th>age</th>\n",
       "      <th>churn_date</th>\n",
       "      <th>city</th>\n",
       "      <th>first_name</th>\n",
       "      <th>last_name</th>\n",
       "      <th>reg_date</th>\n",
       "      <th>tariff</th>\n",
       "      <th>month_reg</th>\n",
       "      <th>month_churn</th>\n",
       "    </tr>\n",
       "  </thead>\n",
       "  <tbody>\n",
       "    <tr>\n",
       "      <th>0</th>\n",
       "      <td>1</td>\n",
       "      <td>1005</td>\n",
       "      <td>95.0</td>\n",
       "      <td>7.0</td>\n",
       "      <td>3.0</td>\n",
       "      <td>67</td>\n",
       "      <td>NaT</td>\n",
       "      <td>Набережные Челны</td>\n",
       "      <td>Афанасий</td>\n",
       "      <td>Горлов</td>\n",
       "      <td>2018-01-25</td>\n",
       "      <td>smart</td>\n",
       "      <td>1</td>\n",
       "      <td>NaN</td>\n",
       "    </tr>\n",
       "    <tr>\n",
       "      <th>1</th>\n",
       "      <td>1</td>\n",
       "      <td>1032</td>\n",
       "      <td>380.0</td>\n",
       "      <td>38.0</td>\n",
       "      <td>24.0</td>\n",
       "      <td>31</td>\n",
       "      <td>NaT</td>\n",
       "      <td>Ульяновск</td>\n",
       "      <td>Инна</td>\n",
       "      <td>Игнатьева</td>\n",
       "      <td>2018-01-04</td>\n",
       "      <td>smart</td>\n",
       "      <td>1</td>\n",
       "      <td>NaN</td>\n",
       "    </tr>\n",
       "    <tr>\n",
       "      <th>2</th>\n",
       "      <td>1</td>\n",
       "      <td>1045</td>\n",
       "      <td>9.0</td>\n",
       "      <td>5.0</td>\n",
       "      <td>3.0</td>\n",
       "      <td>48</td>\n",
       "      <td>NaT</td>\n",
       "      <td>Улан-Удэ</td>\n",
       "      <td>Джемма</td>\n",
       "      <td>Карасева</td>\n",
       "      <td>2018-01-30</td>\n",
       "      <td>smart</td>\n",
       "      <td>1</td>\n",
       "      <td>NaN</td>\n",
       "    </tr>\n",
       "    <tr>\n",
       "      <th>3</th>\n",
       "      <td>1</td>\n",
       "      <td>1055</td>\n",
       "      <td>551.0</td>\n",
       "      <td>30.0</td>\n",
       "      <td>17.0</td>\n",
       "      <td>39</td>\n",
       "      <td>NaT</td>\n",
       "      <td>Казань</td>\n",
       "      <td>Луиза</td>\n",
       "      <td>Березина</td>\n",
       "      <td>2018-01-02</td>\n",
       "      <td>smart</td>\n",
       "      <td>1</td>\n",
       "      <td>NaN</td>\n",
       "    </tr>\n",
       "    <tr>\n",
       "      <th>4</th>\n",
       "      <td>1</td>\n",
       "      <td>1071</td>\n",
       "      <td>194.0</td>\n",
       "      <td>16.0</td>\n",
       "      <td>16.0</td>\n",
       "      <td>20</td>\n",
       "      <td>2018-08-31</td>\n",
       "      <td>Омск</td>\n",
       "      <td>Гектор</td>\n",
       "      <td>Чумаков</td>\n",
       "      <td>2018-01-09</td>\n",
       "      <td>smart</td>\n",
       "      <td>1</td>\n",
       "      <td>8.0</td>\n",
       "    </tr>\n",
       "  </tbody>\n",
       "</table>\n",
       "</div>"
      ],
      "text/plain": [
       "   month  user_id  duration  messages  gb_used  age churn_date  \\\n",
       "0      1     1005      95.0       7.0      3.0   67        NaT   \n",
       "1      1     1032     380.0      38.0     24.0   31        NaT   \n",
       "2      1     1045       9.0       5.0      3.0   48        NaT   \n",
       "3      1     1055     551.0      30.0     17.0   39        NaT   \n",
       "4      1     1071     194.0      16.0     16.0   20 2018-08-31   \n",
       "\n",
       "               city first_name  last_name   reg_date tariff  month_reg  \\\n",
       "0  Набережные Челны   Афанасий     Горлов 2018-01-25  smart          1   \n",
       "1         Ульяновск       Инна  Игнатьева 2018-01-04  smart          1   \n",
       "2          Улан-Удэ     Джемма   Карасева 2018-01-30  smart          1   \n",
       "3            Казань      Луиза   Березина 2018-01-02  smart          1   \n",
       "4              Омск     Гектор    Чумаков 2018-01-09  smart          1   \n",
       "\n",
       "   month_churn  \n",
       "0          NaN  \n",
       "1          NaN  \n",
       "2          NaN  \n",
       "3          NaN  \n",
       "4          8.0  "
      ]
     },
     "execution_count": 33,
     "metadata": {},
     "output_type": "execute_result"
    }
   ],
   "source": [
    "df = (calls_pivot\n",
    "      .merge(messages_pivot, on=['user_id', 'month'], how='outer')    #объединение если есть данные хотя бы в одной из таблиц\n",
    "      .merge(internet_pivot, on=['user_id', 'month'], how='outer')    #объединение если есть данные хотя бы в одной из таблиц\n",
    "      .merge(users, on='user_id', how='left')                         #в итоговую таблицу будут включены id из 1\n",
    "     )\n",
    "df.head()"
   ]
  },
  {
   "cell_type": "markdown",
   "metadata": {},
   "source": [
    "Удалим столбцы, которые не пригодятся нам в анализе"
   ]
  },
  {
   "cell_type": "code",
   "execution_count": 34,
   "metadata": {},
   "outputs": [
    {
     "data": {
      "text/html": [
       "<div>\n",
       "<style scoped>\n",
       "    .dataframe tbody tr th:only-of-type {\n",
       "        vertical-align: middle;\n",
       "    }\n",
       "\n",
       "    .dataframe tbody tr th {\n",
       "        vertical-align: top;\n",
       "    }\n",
       "\n",
       "    .dataframe thead th {\n",
       "        text-align: right;\n",
       "    }\n",
       "</style>\n",
       "<table border=\"1\" class=\"dataframe\">\n",
       "  <thead>\n",
       "    <tr style=\"text-align: right;\">\n",
       "      <th></th>\n",
       "      <th>month</th>\n",
       "      <th>user_id</th>\n",
       "      <th>duration</th>\n",
       "      <th>messages</th>\n",
       "      <th>gb_used</th>\n",
       "      <th>age</th>\n",
       "      <th>city</th>\n",
       "      <th>tariff</th>\n",
       "      <th>month_reg</th>\n",
       "      <th>month_churn</th>\n",
       "    </tr>\n",
       "  </thead>\n",
       "  <tbody>\n",
       "    <tr>\n",
       "      <th>0</th>\n",
       "      <td>1</td>\n",
       "      <td>1005</td>\n",
       "      <td>95.0</td>\n",
       "      <td>7.0</td>\n",
       "      <td>3.0</td>\n",
       "      <td>67</td>\n",
       "      <td>Набережные Челны</td>\n",
       "      <td>smart</td>\n",
       "      <td>1</td>\n",
       "      <td>NaN</td>\n",
       "    </tr>\n",
       "    <tr>\n",
       "      <th>1</th>\n",
       "      <td>1</td>\n",
       "      <td>1032</td>\n",
       "      <td>380.0</td>\n",
       "      <td>38.0</td>\n",
       "      <td>24.0</td>\n",
       "      <td>31</td>\n",
       "      <td>Ульяновск</td>\n",
       "      <td>smart</td>\n",
       "      <td>1</td>\n",
       "      <td>NaN</td>\n",
       "    </tr>\n",
       "    <tr>\n",
       "      <th>2</th>\n",
       "      <td>1</td>\n",
       "      <td>1045</td>\n",
       "      <td>9.0</td>\n",
       "      <td>5.0</td>\n",
       "      <td>3.0</td>\n",
       "      <td>48</td>\n",
       "      <td>Улан-Удэ</td>\n",
       "      <td>smart</td>\n",
       "      <td>1</td>\n",
       "      <td>NaN</td>\n",
       "    </tr>\n",
       "    <tr>\n",
       "      <th>3</th>\n",
       "      <td>1</td>\n",
       "      <td>1055</td>\n",
       "      <td>551.0</td>\n",
       "      <td>30.0</td>\n",
       "      <td>17.0</td>\n",
       "      <td>39</td>\n",
       "      <td>Казань</td>\n",
       "      <td>smart</td>\n",
       "      <td>1</td>\n",
       "      <td>NaN</td>\n",
       "    </tr>\n",
       "    <tr>\n",
       "      <th>4</th>\n",
       "      <td>1</td>\n",
       "      <td>1071</td>\n",
       "      <td>194.0</td>\n",
       "      <td>16.0</td>\n",
       "      <td>16.0</td>\n",
       "      <td>20</td>\n",
       "      <td>Омск</td>\n",
       "      <td>smart</td>\n",
       "      <td>1</td>\n",
       "      <td>8.0</td>\n",
       "    </tr>\n",
       "  </tbody>\n",
       "</table>\n",
       "</div>"
      ],
      "text/plain": [
       "   month  user_id  duration  messages  gb_used  age              city tariff  \\\n",
       "0      1     1005      95.0       7.0      3.0   67  Набережные Челны  smart   \n",
       "1      1     1032     380.0      38.0     24.0   31         Ульяновск  smart   \n",
       "2      1     1045       9.0       5.0      3.0   48          Улан-Удэ  smart   \n",
       "3      1     1055     551.0      30.0     17.0   39            Казань  smart   \n",
       "4      1     1071     194.0      16.0     16.0   20              Омск  smart   \n",
       "\n",
       "   month_reg  month_churn  \n",
       "0          1          NaN  \n",
       "1          1          NaN  \n",
       "2          1          NaN  \n",
       "3          1          NaN  \n",
       "4          1          8.0  "
      ]
     },
     "execution_count": 34,
     "metadata": {},
     "output_type": "execute_result"
    }
   ],
   "source": [
    "df_clear = df.drop(['churn_date','first_name','last_name','reg_date'], axis=1)\n",
    "df_clear.head()"
   ]
  },
  {
   "cell_type": "markdown",
   "metadata": {},
   "source": [
    "Заменим пропуск в столбцах `duration`, `messages`, `gb_used` на нулевые значения. Пропуски означают, что абонент не воспользовался услугами. "
   ]
  },
  {
   "cell_type": "code",
   "execution_count": 35,
   "metadata": {},
   "outputs": [
    {
     "data": {
      "text/plain": [
       "month             0\n",
       "user_id           0\n",
       "duration         40\n",
       "messages        497\n",
       "gb_used          11\n",
       "age               0\n",
       "city              0\n",
       "tariff            0\n",
       "month_reg         0\n",
       "month_churn    3027\n",
       "dtype: int64"
      ]
     },
     "execution_count": 35,
     "metadata": {},
     "output_type": "execute_result"
    }
   ],
   "source": [
    "df_clear.isna().sum()  #посчитаем количество пропусков"
   ]
  },
  {
   "cell_type": "code",
   "execution_count": 36,
   "metadata": {},
   "outputs": [
    {
     "data": {
      "text/plain": [
       "month             0\n",
       "user_id           0\n",
       "duration          0\n",
       "messages          0\n",
       "gb_used           0\n",
       "age               0\n",
       "city              0\n",
       "tariff            0\n",
       "month_reg         0\n",
       "month_churn    3027\n",
       "dtype: int64"
      ]
     },
     "execution_count": 36,
     "metadata": {},
     "output_type": "execute_result"
    }
   ],
   "source": [
    "df_clear[['duration', 'messages' , 'gb_used']] = df_clear[['duration', 'messages' , 'gb_used']].fillna(0)\n",
    "df_clear.isna().sum()"
   ]
  },
  {
   "cell_type": "code",
   "execution_count": 37,
   "metadata": {},
   "outputs": [],
   "source": [
    "df_clear[['duration', 'messages' , 'gb_used']] = df_clear[['duration', 'messages' , 'gb_used']].astype('int')"
   ]
  },
  {
   "cell_type": "markdown",
   "metadata": {},
   "source": [
    "Посчитаем помесячную выручку с каждого пользователя. Создадим функцию, которая посчитает по каждому тарифу доход с учетом его особенностей."
   ]
  },
  {
   "cell_type": "code",
   "execution_count": 38,
   "metadata": {},
   "outputs": [
    {
     "data": {
      "text/html": [
       "<div>\n",
       "<style scoped>\n",
       "    .dataframe tbody tr th:only-of-type {\n",
       "        vertical-align: middle;\n",
       "    }\n",
       "\n",
       "    .dataframe tbody tr th {\n",
       "        vertical-align: top;\n",
       "    }\n",
       "\n",
       "    .dataframe thead th {\n",
       "        text-align: right;\n",
       "    }\n",
       "</style>\n",
       "<table border=\"1\" class=\"dataframe\">\n",
       "  <thead>\n",
       "    <tr style=\"text-align: right;\">\n",
       "      <th></th>\n",
       "      <th>messages_included</th>\n",
       "      <th>gb_per_month_included</th>\n",
       "      <th>minutes_included</th>\n",
       "      <th>rub_monthly_fee</th>\n",
       "      <th>rub_per_gb</th>\n",
       "      <th>rub_per_message</th>\n",
       "      <th>rub_per_minute</th>\n",
       "      <th>tariff_name</th>\n",
       "    </tr>\n",
       "  </thead>\n",
       "  <tbody>\n",
       "    <tr>\n",
       "      <th>0</th>\n",
       "      <td>50</td>\n",
       "      <td>15</td>\n",
       "      <td>500</td>\n",
       "      <td>550</td>\n",
       "      <td>200</td>\n",
       "      <td>3</td>\n",
       "      <td>3</td>\n",
       "      <td>smart</td>\n",
       "    </tr>\n",
       "    <tr>\n",
       "      <th>1</th>\n",
       "      <td>1000</td>\n",
       "      <td>30</td>\n",
       "      <td>3000</td>\n",
       "      <td>1950</td>\n",
       "      <td>150</td>\n",
       "      <td>1</td>\n",
       "      <td>1</td>\n",
       "      <td>ultra</td>\n",
       "    </tr>\n",
       "  </tbody>\n",
       "</table>\n",
       "</div>"
      ],
      "text/plain": [
       "   messages_included  gb_per_month_included  minutes_included  \\\n",
       "0                 50                     15               500   \n",
       "1               1000                     30              3000   \n",
       "\n",
       "   rub_monthly_fee  rub_per_gb  rub_per_message  rub_per_minute tariff_name  \n",
       "0              550         200                3               3       smart  \n",
       "1             1950         150                1               1       ultra  "
      ]
     },
     "metadata": {},
     "output_type": "display_data"
    }
   ],
   "source": [
    "display (tariffs)"
   ]
  },
  {
   "cell_type": "markdown",
   "metadata": {},
   "source": [
    "Создадим переменные для значений параметров тарифа из таблицы `tariffs`"
   ]
  },
  {
   "cell_type": "code",
   "execution_count": 39,
   "metadata": {},
   "outputs": [],
   "source": [
    "fee_smart = int(tariffs.query('tariff_name == \"smart\"')['rub_monthly_fee'])\n",
    "fee_ultra = int(tariffs.query('tariff_name == \"ultra\"')['rub_monthly_fee'])\n",
    "minutes_smart = int(tariffs.query('tariff_name == \"smart\"')['minutes_included'])\n",
    "minutes_ultra = int(tariffs.query('tariff_name == \"ultra\"')['minutes_included'])\n",
    "messages_smart = int(tariffs.query('tariff_name == \"smart\"')['messages_included'])\n",
    "messages_ultra  =  int(tariffs.query('tariff_name == \"ultra\"')['messages_included'])\n",
    "gb_per_month_smart  = int(tariffs.query('tariff_name == \"smart\"')['gb_per_month_included'])\n",
    "gb_per_month_ultra = int(tariffs.query('tariff_name == \"ultra\"')['gb_per_month_included'])\n",
    "rub_sms_smart = int(tariffs.query('tariff_name == \"smart\"')['rub_per_message'])\n",
    "rub_sms_ultra = int(tariffs.query('tariff_name == \"ultra\"')['rub_per_message'])\n",
    "rub_min_smart = int(tariffs.query('tariff_name == \"smart\"')['rub_per_minute'])\n",
    "rub_min_ultra = int(tariffs.query('tariff_name == \"ultra\"')['rub_per_minute'])\n",
    "rub_per_gb_smart = int(tariffs.query('tariff_name == \"smart\"')['rub_per_gb'])\n",
    "rub_per_gb_ultra = int(tariffs.query('tariff_name == \"ultra\"')['rub_per_gb'])"
   ]
  },
  {
   "cell_type": "code",
   "execution_count": 40,
   "metadata": {},
   "outputs": [
    {
     "name": "stdout",
     "output_type": "stream",
     "text": [
      "(550, 1950, 500, 3000, 50, 1000, 15, 30, 3, 1, 3, 1, 200, 150)\n"
     ]
    }
   ],
   "source": [
    "a = (fee_smart, fee_ultra, minutes_smart, minutes_ultra, messages_smart, messages_ultra, gb_per_month_smart, gb_per_month_ultra, rub_sms_smart, rub_sms_ultra, rub_min_smart, rub_min_ultra, rub_per_gb_smart, rub_per_gb_ultra)\n",
    "print (a)"
   ]
  },
  {
   "cell_type": "code",
   "execution_count": 41,
   "metadata": {},
   "outputs": [
    {
     "data": {
      "text/html": [
       "<div>\n",
       "<style scoped>\n",
       "    .dataframe tbody tr th:only-of-type {\n",
       "        vertical-align: middle;\n",
       "    }\n",
       "\n",
       "    .dataframe tbody tr th {\n",
       "        vertical-align: top;\n",
       "    }\n",
       "\n",
       "    .dataframe thead th {\n",
       "        text-align: right;\n",
       "    }\n",
       "</style>\n",
       "<table border=\"1\" class=\"dataframe\">\n",
       "  <thead>\n",
       "    <tr style=\"text-align: right;\">\n",
       "      <th></th>\n",
       "      <th>month</th>\n",
       "      <th>user_id</th>\n",
       "      <th>duration</th>\n",
       "      <th>messages</th>\n",
       "      <th>gb_used</th>\n",
       "      <th>age</th>\n",
       "      <th>city</th>\n",
       "      <th>tariff</th>\n",
       "      <th>month_reg</th>\n",
       "      <th>month_churn</th>\n",
       "      <th>revenue</th>\n",
       "    </tr>\n",
       "  </thead>\n",
       "  <tbody>\n",
       "    <tr>\n",
       "      <th>0</th>\n",
       "      <td>1</td>\n",
       "      <td>1005</td>\n",
       "      <td>95</td>\n",
       "      <td>7</td>\n",
       "      <td>3</td>\n",
       "      <td>67</td>\n",
       "      <td>Набережные Челны</td>\n",
       "      <td>smart</td>\n",
       "      <td>1</td>\n",
       "      <td>NaN</td>\n",
       "      <td>550</td>\n",
       "    </tr>\n",
       "    <tr>\n",
       "      <th>1</th>\n",
       "      <td>1</td>\n",
       "      <td>1032</td>\n",
       "      <td>380</td>\n",
       "      <td>38</td>\n",
       "      <td>24</td>\n",
       "      <td>31</td>\n",
       "      <td>Ульяновск</td>\n",
       "      <td>smart</td>\n",
       "      <td>1</td>\n",
       "      <td>NaN</td>\n",
       "      <td>2350</td>\n",
       "    </tr>\n",
       "    <tr>\n",
       "      <th>2</th>\n",
       "      <td>1</td>\n",
       "      <td>1045</td>\n",
       "      <td>9</td>\n",
       "      <td>5</td>\n",
       "      <td>3</td>\n",
       "      <td>48</td>\n",
       "      <td>Улан-Удэ</td>\n",
       "      <td>smart</td>\n",
       "      <td>1</td>\n",
       "      <td>NaN</td>\n",
       "      <td>550</td>\n",
       "    </tr>\n",
       "    <tr>\n",
       "      <th>3</th>\n",
       "      <td>1</td>\n",
       "      <td>1055</td>\n",
       "      <td>551</td>\n",
       "      <td>30</td>\n",
       "      <td>17</td>\n",
       "      <td>39</td>\n",
       "      <td>Казань</td>\n",
       "      <td>smart</td>\n",
       "      <td>1</td>\n",
       "      <td>NaN</td>\n",
       "      <td>1103</td>\n",
       "    </tr>\n",
       "    <tr>\n",
       "      <th>4</th>\n",
       "      <td>1</td>\n",
       "      <td>1071</td>\n",
       "      <td>194</td>\n",
       "      <td>16</td>\n",
       "      <td>16</td>\n",
       "      <td>20</td>\n",
       "      <td>Омск</td>\n",
       "      <td>smart</td>\n",
       "      <td>1</td>\n",
       "      <td>8.0</td>\n",
       "      <td>750</td>\n",
       "    </tr>\n",
       "  </tbody>\n",
       "</table>\n",
       "</div>"
      ],
      "text/plain": [
       "   month  user_id  duration  messages  gb_used  age              city tariff  \\\n",
       "0      1     1005        95         7        3   67  Набережные Челны  smart   \n",
       "1      1     1032       380        38       24   31         Ульяновск  smart   \n",
       "2      1     1045         9         5        3   48          Улан-Удэ  smart   \n",
       "3      1     1055       551        30       17   39            Казань  smart   \n",
       "4      1     1071       194        16       16   20              Омск  smart   \n",
       "\n",
       "   month_reg  month_churn  revenue  \n",
       "0          1          NaN      550  \n",
       "1          1          NaN     2350  \n",
       "2          1          NaN      550  \n",
       "3          1          NaN     1103  \n",
       "4          1          8.0      750  "
      ]
     },
     "execution_count": 41,
     "metadata": {},
     "output_type": "execute_result"
    }
   ],
   "source": [
    "def revenue(row):  \n",
    "    if row['tariff'] == 'smart':\n",
    "        if row['duration']<= minutes_smart:\n",
    "            a = 0\n",
    "        else:\n",
    "            a = (row['duration'] - minutes_smart) * rub_min_smart\n",
    "        if row['messages']<= messages_smart:\n",
    "            b = 0\n",
    "        else:\n",
    "            b = (row['messages'] - messages_smart) * rub_sms_smart\n",
    "        if row['gb_used'] <= gb_per_month_smart:\n",
    "            c = 0\n",
    "        else:\n",
    "            c = (row['gb_used']- gb_per_month_smart) * rub_per_gb_smart\n",
    "        return fee_smart+a+b+c\n",
    "    if row['tariff'] == 'ultra':\n",
    "        if row['duration']<= minutes_ultra:\n",
    "            a = 0\n",
    "        else:\n",
    "            a = row['duration'] - minutes_ultra\n",
    "        if row['messages'] <= messages_ultra:\n",
    "            b = 0\n",
    "        else:\n",
    "            b = row['messages'] - messages_ultra\n",
    "        if row['gb_used']<= gb_per_month_ultra:\n",
    "            c = 0\n",
    "        else:\n",
    "            c = (row['gb_used'] - gb_per_month_ultra) * rub_per_gb_ultra\n",
    "        return fee_ultra+a+b+c       \n",
    "\n",
    "df_clear['revenue'] = df_clear.apply(revenue, axis=1)  #применим функцию к датасету и запишем столбец revenue (пер. доход)\n",
    "df_clear.head()"
   ]
  },
  {
   "cell_type": "markdown",
   "metadata": {},
   "source": [
    "## Исследовательский анализ данных"
   ]
  },
  {
   "cell_type": "markdown",
   "metadata": {},
   "source": [
    "Проанализируем данные. Опишем поведение клиентов оператора, исходя из выборки `df_clear`"
   ]
  },
  {
   "cell_type": "markdown",
   "metadata": {},
   "source": [
    "Посчитаем минимальное и максимальное значение, а также среднее количество, дисперсию и стандартное отклонение по столбцу выручка по каждому тарифу в отдельности."
   ]
  },
  {
   "cell_type": "code",
   "execution_count": 42,
   "metadata": {},
   "outputs": [
    {
     "name": "stdout",
     "output_type": "stream",
     "text": [
      "           min     max         mean  median            var         std\n",
      "       revenue revenue      revenue revenue        revenue     revenue\n",
      "tariff                                                                \n",
      "smart      550    6770  1289.973531    1023  669785.708006  818.404367\n",
      "ultra     1950    4800  2070.152284    1950  141516.745079  376.187114\n"
     ]
    }
   ],
   "source": [
    "df_clear_tariff = df_clear.pivot_table(index='tariff', values='revenue', aggfunc= ['min', 'max', 'mean', 'median', 'var','std'])\n",
    "print (df_clear_tariff)"
   ]
  },
  {
   "cell_type": "markdown",
   "metadata": {},
   "source": [
    "Стандартное отклонение и значение медианы показывает, что несмотря на то, что абонентская плата (далее - АП) на тарифе Smart ниже, абоненты тратят значительно больше и приносят компании больше денег. По медиане и средней выручке на тарифе Ultra видим, что в целом абоненты тратят сумму равную абонентской плате и стараются не выходить за рамки АП. Стандартное отклонение не значительное. \n",
    "\n",
    "Построим гистограммы и посмотрим распределение"
   ]
  },
  {
   "cell_type": "code",
   "execution_count": 43,
   "metadata": {},
   "outputs": [
    {
     "data": {
      "image/png": "[encoded data removed]",
      "text/plain": [
       "<Figure size 864x432 with 1 Axes>"
      ]
     },
     "metadata": {
      "needs_background": "light"
     },
     "output_type": "display_data"
    }
   ],
   "source": [
    "fig, ax = plt.subplots()\n",
    "df_clear.query('tariff == \"smart\"').plot(y='revenue', kind='hist', bins=100, alpha=0.5, ax=ax, label = 'smart', figsize=(12,6), grid=True)\n",
    "df_clear.query('tariff == \"ultra\"').plot(y='revenue', kind='hist', bins=100, alpha=0.5, ax=ax, label = 'ultra', grid=True)\n",
    "ax.set_xlabel('Выручка на одного абонента, руб.')\n",
    "ax.set_ylabel('Частота значения')\n",
    "ax.set_title('Распределение выручки')\n",
    "plt.show()"
   ]
  },
  {
   "cell_type": "code",
   "execution_count": 44,
   "metadata": {},
   "outputs": [
    {
     "data": {
      "text/plain": [
       "<AxesSubplot:>"
      ]
     },
     "execution_count": 44,
     "metadata": {},
     "output_type": "execute_result"
    },
    {
     "data": {
      "image/png": "[encoded data removed]",
      "text/plain": [
       "<Figure size 432x288 with 1 Axes>"
      ]
     },
     "metadata": {
      "needs_background": "light"
     },
     "output_type": "display_data"
    }
   ],
   "source": [
    "df_clear.query('tariff == \"smart\"').boxplot(column=['revenue']) # построим диаграмму размаха для тарифа Смарт"
   ]
  },
  {
   "cell_type": "markdown",
   "metadata": {},
   "source": [
    "График подтверждает гипотезу, что значительное количество абонентов тратит больше установленной АП (много выбросов за пределами усов)"
   ]
  },
  {
   "cell_type": "code",
   "execution_count": 45,
   "metadata": {},
   "outputs": [
    {
     "data": {
      "text/plain": [
       "<AxesSubplot:>"
      ]
     },
     "execution_count": 45,
     "metadata": {},
     "output_type": "execute_result"
    },
    {
     "data": {
      "image/png": "[encoded data removed]",
      "text/plain": [
       "<Figure size 432x288 with 1 Axes>"
      ]
     },
     "metadata": {
      "needs_background": "light"
     },
     "output_type": "display_data"
    }
   ],
   "source": [
    "df_clear.query('tariff == \"ultra\"').boxplot(column=['revenue']) "
   ]
  },
  {
   "cell_type": "markdown",
   "metadata": {},
   "source": [
    "На графике Ультра видим незначительное количество выбросов. Ящик усов совпадает с медианой. "
   ]
  },
  {
   "cell_type": "code",
   "execution_count": 46,
   "metadata": {},
   "outputs": [
    {
     "data": {
      "text/html": [
       "<div>\n",
       "<style scoped>\n",
       "    .dataframe tbody tr th:only-of-type {\n",
       "        vertical-align: middle;\n",
       "    }\n",
       "\n",
       "    .dataframe tbody tr th {\n",
       "        vertical-align: top;\n",
       "    }\n",
       "\n",
       "    .dataframe thead th {\n",
       "        text-align: right;\n",
       "    }\n",
       "</style>\n",
       "<table border=\"1\" class=\"dataframe\">\n",
       "  <thead>\n",
       "    <tr style=\"text-align: right;\">\n",
       "      <th></th>\n",
       "      <th>messages_included</th>\n",
       "      <th>gb_per_month_included</th>\n",
       "      <th>minutes_included</th>\n",
       "      <th>rub_monthly_fee</th>\n",
       "      <th>rub_per_gb</th>\n",
       "      <th>rub_per_message</th>\n",
       "      <th>rub_per_minute</th>\n",
       "      <th>tariff_name</th>\n",
       "    </tr>\n",
       "  </thead>\n",
       "  <tbody>\n",
       "    <tr>\n",
       "      <th>0</th>\n",
       "      <td>50</td>\n",
       "      <td>15</td>\n",
       "      <td>500</td>\n",
       "      <td>550</td>\n",
       "      <td>200</td>\n",
       "      <td>3</td>\n",
       "      <td>3</td>\n",
       "      <td>smart</td>\n",
       "    </tr>\n",
       "    <tr>\n",
       "      <th>1</th>\n",
       "      <td>1000</td>\n",
       "      <td>30</td>\n",
       "      <td>3000</td>\n",
       "      <td>1950</td>\n",
       "      <td>150</td>\n",
       "      <td>1</td>\n",
       "      <td>1</td>\n",
       "      <td>ultra</td>\n",
       "    </tr>\n",
       "  </tbody>\n",
       "</table>\n",
       "</div>"
      ],
      "text/plain": [
       "   messages_included  gb_per_month_included  minutes_included  \\\n",
       "0                 50                     15               500   \n",
       "1               1000                     30              3000   \n",
       "\n",
       "   rub_monthly_fee  rub_per_gb  rub_per_message  rub_per_minute tariff_name  \n",
       "0              550         200                3               3       smart  \n",
       "1             1950         150                1               1       ultra  "
      ]
     },
     "metadata": {},
     "output_type": "display_data"
    }
   ],
   "source": [
    "display (tariffs)"
   ]
  },
  {
   "cell_type": "code",
   "execution_count": 47,
   "metadata": {
    "scrolled": true
   },
   "outputs": [
    {
     "data": {
      "image/png": "[encoded data removed]",
      "text/plain": [
       "<Figure size 576x288 with 1 Axes>"
      ]
     },
     "metadata": {
      "needs_background": "light"
     },
     "output_type": "display_data"
    }
   ],
   "source": [
    "fig, ax = plt.subplots()\n",
    "df_clear.query('tariff == \"smart\"').plot(y='duration', kind='hist', bins=100, alpha=0.5, ax=ax, label = 'smart', figsize=(8,4), grid=True)\n",
    "df_clear.query('tariff == \"ultra\"').plot(y='duration', kind='hist', bins=100, alpha=0.5, ax=ax, label = 'ultra', grid=True)\n",
    "ax.set_xlabel('Количество минут в мес.')\n",
    "ax.set_ylabel('Частота значения')\n",
    "ax.set_title('Длительность звонков')\n",
    "plt.show()"
   ]
  },
  {
   "cell_type": "markdown",
   "metadata": {},
   "source": [
    "Значительное количество абонентов тарифного плана Смарт выговаривают больше положенного пакета минут (500 минут). Напротив, абоненты более дорогого тарифа Ультра не выговаривают бесплатное количество минут из пакета (3000 мин.). "
   ]
  },
  {
   "cell_type": "code",
   "execution_count": 48,
   "metadata": {},
   "outputs": [
    {
     "data": {
      "image/png": "[encoded data removed]",
      "text/plain": [
       "<Figure size 864x432 with 1 Axes>"
      ]
     },
     "metadata": {
      "needs_background": "light"
     },
     "output_type": "display_data"
    }
   ],
   "source": [
    "fig, ax = plt.subplots()\n",
    "df_clear.query('tariff == \"smart\"').plot(y='messages', kind='hist', bins=100, alpha=0.5, ax=ax, label = 'smart', figsize=(12,6), grid=True)\n",
    "df_clear.query('tariff == \"ultra\"').plot(y='messages', kind='hist', bins=100, alpha=0.5, ax=ax, label = 'ultra', grid=True)\n",
    "ax.set_xlabel('Количество sms в мес.')\n",
    "ax.set_ylabel('Частота значения')\n",
    "ax.set_title('Количество sms, шт.')\n",
    "plt.show()"
   ]
  },
  {
   "cell_type": "markdown",
   "metadata": {},
   "source": [
    "График показывает, что значительное количество абонентов не отправляет sms. Чтобы рассмотреть абонентов, отправляющих сообщения, более детально построим график без 0-х значений."
   ]
  },
  {
   "cell_type": "code",
   "execution_count": 49,
   "metadata": {},
   "outputs": [
    {
     "data": {
      "image/png": "[encoded data removed]",
      "text/plain": [
       "<Figure size 576x288 with 1 Axes>"
      ]
     },
     "metadata": {
      "needs_background": "light"
     },
     "output_type": "display_data"
    },
    {
     "data": {
      "text/plain": [
       "<Figure size 7200x7200 with 0 Axes>"
      ]
     },
     "metadata": {},
     "output_type": "display_data"
    }
   ],
   "source": [
    "fig, ax = plt.subplots()\n",
    "df_clear.query('tariff == \"smart\"').plot(y='messages', kind='hist', bins=100, alpha=0.5, ax=ax, label = 'smart', figsize=(8,4), grid=True, range=(1,200))\n",
    "df_clear.query('tariff == \"ultra\"').plot(y='messages', kind='hist', bins=100, alpha=0.5, ax=ax, label = 'ultra', grid=True, range=(1,200))\n",
    "fig = plt.figure(figsize=(100, 100))\n",
    "ax.set_xlabel('Количество sms в мес.')\n",
    "ax.set_ylabel('Частота значения')\n",
    "ax.set_title('Количество sms, шт.')\n",
    "plt.show()"
   ]
  },
  {
   "cell_type": "markdown",
   "metadata": {},
   "source": [
    "Значительное количество абонентов тарифного плана Смарт стараются расходовать положенный пакет в 50 sms. Многоим этого пакета не хватает, поэтому пользуются платными сообщениями. Напротив, абоненты более дорогого тарифа Ультра не выговаривают бесплатное количество sms из пакета (1000 шт.). "
   ]
  },
  {
   "cell_type": "code",
   "execution_count": 50,
   "metadata": {},
   "outputs": [
    {
     "data": {
      "image/png": "[encoded data removed]",
      "text/plain": [
       "<Figure size 576x288 with 1 Axes>"
      ]
     },
     "metadata": {
      "needs_background": "light"
     },
     "output_type": "display_data"
    }
   ],
   "source": [
    "fig, ax = plt.subplots()\n",
    "df_clear.query('tariff == \"smart\"').plot(y='gb_used', kind='hist', bins=100, alpha=0.5, ax=ax, label = 'smart', figsize=(8,4), grid=True)\n",
    "df_clear.query('tariff == \"ultra\"').plot(y='gb_used', kind='hist', bins=100, alpha=0.5, ax=ax, label = 'ultra', grid=True)\n",
    "ax.set_xlabel('Интернет трафик')\n",
    "ax.set_ylabel('Частота значения')\n",
    "ax.set_title('Интернет трафик в мес., Гб')\n",
    "plt.show()"
   ]
  },
  {
   "cell_type": "markdown",
   "metadata": {},
   "source": [
    "Значительное количество абонентов тарифного плана Смарт стабильного много пользуются интернетом. Включенных в пакет 15Гб явно не достаточно, приходиться оплачивать интернет погигабайтно. Болшинство абонентов ТП Ультра тратят около 20 Гб. График распределен нормально, за пределы 50Гб абоненты выборки не выходили. "
   ]
  },
  {
   "cell_type": "markdown",
   "metadata": {},
   "source": [
    "По итогам оценки расходов пользователей можно сделать вывод, что необходим промежуточный тариф со средней ценой, который будет включать в себя увеличенные пакеты минут, смс и интернета. Большую часть пользователей ТП Smart можно будет перевети на него. "
   ]
  },
  {
   "cell_type": "markdown",
   "metadata": {},
   "source": [
    "## Проверка гипотез"
   ]
  },
  {
   "cell_type": "markdown",
   "metadata": {},
   "source": [
    "Проверим 2 гипотезы:\n",
    "* средняя выручка пользователей тарифов «Ультра» и «Смарт» различаются;\n",
    "* средняя выручка пользователей из Москвы отличается от выручки пользователей из других регионов.\n",
    "    \n",
    "В качестве выборок по тарифам для проверки гипотезы используем склеяную таблицу `df_clear`. Проверим достаточное ли количество значений для оценки. \n"
   ]
  },
  {
   "cell_type": "code",
   "execution_count": 51,
   "metadata": {},
   "outputs": [
    {
     "name": "stdout",
     "output_type": "stream",
     "text": [
      "количество значений по ТП Ультра: 985\n",
      "количество значений по ТП Смарт: 2229\n"
     ]
    }
   ],
   "source": [
    "array_ultra = df_clear.query('tariff == \"ultra\"')['revenue']     #выделим массив выборки абонентов ТП Ультра\n",
    "print (f'количество значений по ТП Ультра: {len(array_ultra)}')\n",
    "array_smart = df_clear.query('tariff == \"smart\"')['revenue']     #выделим массив выборки абонентов ТП Смарт\n",
    "print (f'количество значений по ТП Смарт: {len(array_smart)}')"
   ]
  },
  {
   "cell_type": "markdown",
   "metadata": {},
   "source": [
    "Сформулируем нулевую и альтернативные гипотезы для первой гипотезы. \n",
    "* H₀ - средняя выручка пользователей тарифов «Ультра» и «Смарт» одинаковы.\n",
    "* H₁ - средняя выручка пользователей тарифов «Ультра» и «Смарт» различаются. Это 2-хсторонняя гипотеза."
   ]
  },
  {
   "cell_type": "markdown",
   "metadata": {},
   "source": [
    "Воспользуемся методом t-тест для сравнения 2х выборок. Как мы выяснили в предыдущем разделе, дисперсии выборок не равны."
   ]
  },
  {
   "cell_type": "code",
   "execution_count": 52,
   "metadata": {},
   "outputs": [],
   "source": [
    "alpha = .05 # критический уровень статистической значимости\n",
    "# если p-value окажется меньше него - отвегнем 0-ю гипотезу в сторону альтернативной."
   ]
  },
  {
   "cell_type": "code",
   "execution_count": 53,
   "metadata": {},
   "outputs": [],
   "source": [
    "results = st.ttest_ind(\n",
    "    array_ultra, \n",
    "    array_smart,\n",
    "    equal_var = False     #разные по размеру выборки, дисперсия сильно отличается\n",
    ")"
   ]
  },
  {
   "cell_type": "code",
   "execution_count": 54,
   "metadata": {},
   "outputs": [
    {
     "name": "stdout",
     "output_type": "stream",
     "text": [
      "p-значение:  4.2606313931076085e-250\n",
      "Отвергаем нулевую гипотезу\n"
     ]
    }
   ],
   "source": [
    "print('p-значение: ', results.pvalue)\n",
    "if results.pvalue < alpha:\n",
    "    print(\"Отвергаем нулевую гипотезу\")\n",
    "else:\n",
    "    print(\"Не получилось отвергнуть нулевую гипотезу\") "
   ]
  },
  {
   "cell_type": "markdown",
   "metadata": {},
   "source": [
    "Результат теста дает понять, что скорее всего предположение, что средняя выручка пользователей тарифов «Ультра» и «Смарт» одинаковы НЕ верное. Слишком низка вероятность того, что средние доходы по ним совпадут. Вероятнее всего, что доходы по этим тарифам будут отличаться. "
   ]
  },
  {
   "cell_type": "markdown",
   "metadata": {},
   "source": [
    "**Сформулируем нулевую и альтернативные гипотезы для второй гипотезы.**\n",
    "* H₀ - средняя выручка пользователей из Москвы совпадает с выручкой пользователей из других регионов.\n",
    "* H₁ - средняя выручка пользователей из Москвы отличается от выручки пользователей из других регионов. Это 2-хсторонняя гипотеза."
   ]
  },
  {
   "cell_type": "code",
   "execution_count": 55,
   "metadata": {},
   "outputs": [
    {
     "name": "stdout",
     "output_type": "stream",
     "text": [
      "['Набережные Челны' 'Ульяновск' 'Улан-Удэ' 'Казань' 'Омск' 'Чита'\n",
      " 'Краснодар' 'Санкт-Петербург' 'Красноярск' 'Архангельск' 'Ставрополь'\n",
      " 'Кострома' 'Волгоград' 'Тамбов' 'Москва' 'Киров' 'Ростов-на-Дону' 'Уфа'\n",
      " 'Вологда' 'Пенза' 'Магнитогорск' 'Иркутск' 'Орёл' 'Астрахань' 'Подольск'\n",
      " 'Ярославль' 'Новокузнецк' 'Нижний Тагил' 'Мурманск' 'Самара' 'Воронеж'\n",
      " 'Пермь' 'Саранск' 'Новосибирск' 'Владивосток' 'Нижний Новгород'\n",
      " 'Новороссийск' 'Брянск' 'Челябинск' 'Калининград' 'Барнаул' 'Якутск'\n",
      " 'Тольятти' 'Курган' 'Томск' 'Балашиха' 'Саратов' 'Петрозаводск' 'Тюмень'\n",
      " 'Курск' 'Тула' 'Сочи' 'Оренбург' 'Смоленск' 'Хабаровск' 'Рязань'\n",
      " 'Махачкала' 'Тверь' 'Ижевск' 'Чебоксары' 'Белгород' 'Череповец'\n",
      " 'Стерлитамак' 'Владимир' 'Волжский' 'Калуга' 'Екатеринбург' 'Севастополь'\n",
      " 'Нижневартовск' 'Грозный' 'Владикавказ' 'Химки' 'Сургут' 'Липецк'\n",
      " 'Кемерово' 'Иваново']\n"
     ]
    }
   ],
   "source": [
    "print (df_clear['city'].unique()) #проверим города на дубликаты"
   ]
  },
  {
   "cell_type": "code",
   "execution_count": 56,
   "metadata": {},
   "outputs": [
    {
     "name": "stdout",
     "output_type": "stream",
     "text": [
      "количество значений по г.Москва: 611\n",
      "количество значений по регионам: 2603\n"
     ]
    }
   ],
   "source": [
    "array_msk = df_clear.query('city == \"Москва\"')['revenue']      #выделим массив выборки абонентов г.Москва\n",
    "print (f'количество значений по г.Москва: {len(array_msk)}')\n",
    "array_region = df_clear.query('city != \"Москва\"')['revenue']    #выделим массив выборки абонентов регионов\n",
    "print (f'количество значений по регионам: {len(array_region)}')"
   ]
  },
  {
   "cell_type": "code",
   "execution_count": 57,
   "metadata": {},
   "outputs": [],
   "source": [
    "results = st.ttest_ind(\n",
    "    array_msk, \n",
    "    array_region,\n",
    "    equal_var = False     #выборки разные по размеру\n",
    ")"
   ]
  },
  {
   "cell_type": "code",
   "execution_count": 58,
   "metadata": {},
   "outputs": [
    {
     "name": "stdout",
     "output_type": "stream",
     "text": [
      "p-значение:  0.5257376663729298\n",
      "Не получилось отвергнуть нулевую гипотезу\n"
     ]
    }
   ],
   "source": [
    "print('p-значение: ', results.pvalue)\n",
    "if results.pvalue < alpha:\n",
    "    print(\"Отвергаем нулевую гипотезу\")\n",
    "else:\n",
    "    print(\"Не получилось отвергнуть нулевую гипотезу\") "
   ]
  },
  {
   "cell_type": "markdown",
   "metadata": {},
   "source": [
    "По итогам теста видим, что скорее всего, верно предположение, что средняя выручка пользователей из Москвы совпадает с выручкой пользователей из других регионов."
   ]
  },
  {
   "cell_type": "markdown",
   "metadata": {},
   "source": [
    "## Общий вывод"
   ]
  },
  {
   "cell_type": "markdown",
   "metadata": {},
   "source": [
    "На входе мы получили данные по 500 пользователям «Мегалайна». \n",
    "\n",
    "**В выборке значения были распределены следующим образом.**\n",
    "\n",
    "**По городам:**\n",
    "* количество пользователей по г.Москва: 611\n",
    "* количество пользователей по регионам: 2603\n",
    "\n",
    "**По тарифам:**\n",
    "* количество абонентов ТП Ультра: 985\n",
    "* количество абонентов ТП Смарт: 2229\n",
    "\n",
    "**Проведя предварительный анализ тарифов можно сделать следующие выводы:**\n",
    "\n",
    "Стандартное отклонение и значение медианы показывает, что несмотря на то, что абонентская плата (далее - АП) на тарифе Smart ниже, абоненты тратят значительно больше чем заложено в цену тарифа, а значить приносят компании больше денег. \n",
    "По медиане и средней выручке на тарифе Ultra видим, что в целом абоненты тратят сумму равную абонентской плате и стараются не выходить за рамки АП. Стандартное отклонение не значительное. По этим абонентам компания получает высокий и стабильный доход, т.к. заложеные в себестоимость пакеты практически не расходуются. Это подтверждает и анализ графиков распределения по тарифам звонков, sms и интернет-трафика. \n",
    "\n",
    "**Анализ графиков позволяет сделать следующие выводы:**\n",
    "1. Значительное количество абонентов ТП Смарт тратит больше установленной АП. И наоборот, абоненты ТП Ультра в целом не выбирают бесплатные пакеты. \n",
    "2. Значительное количество абонентов тарифного плана Смарт выговаривают больше положенного пакета в 500 минут. Напротив, абоненты более дорогого тарифа Ультра не выговаривают бесплатное количество минут из пакета (3000 мин.).\n",
    "3. График распределения показал, что большое количество абонентов обоих тарифов не отправляет sms. \n",
    "4. Значительное количество абонентов тарифного плана Смарт стараются расходовать положенный пакет в 50 sms. Многоим этого пакета не хватает, поэтому пользуются платными сообщениями. Напротив, абоненты более дорогого тарифа Ультра не выговаривают бесплатное количество sms из пакета (1000 шт.). \n",
    "5. Значительное количество абонентов тарифного плана Смарт стабильного много пользуются интернетом. Включенных в пакет 15Гб явно не достаточно, приходиться оплачивать интернет погигабайтно. Большинство абонентов ТП Ультра тратят около 20 Гб. при пакете в 30 Гб.\n",
    "\n",
    "**Проверили 2 гипотезы:**\n",
    "* средняя выручка пользователей тарифов «Ультра» и «Смарт» различаются;\n",
    "* средняя выручка пользователей из Москвы отличается от выручки пользователей из других регионов.\n",
    "\n",
    "Результаты 1-го t-теста показали, что, скорее всего, верно предположение, что **средняя выручка пользователей тарифов «Ультра» и «Смарт» будут отличаться.**\n",
    "\n",
    "Результаты 2-го t-теста показали, что, скорее всего, верно предположение, что **средняя выручка пользователей из Москвы совпадает с выручкой пользователей из других регионов.**\n",
    "\n",
    "**По итогам оценки расходов пользователей можно сделать вывод, что необходим промежуточный тариф со средней ценой (выше АП \"Смарт\" и ниже АП \"Ультра\"), который будет включать в себя увеличенные пакеты минут, смс и интернета. Большую часть пользователей ТП Smart можно будет перевети на него. Тогда доходы компании вырастут. Важно сохранять баланс предложения (пакетов) и цены. Тогда компания удовлетворит запросы рынка по разным сегментам пользователей и получит бОльший доход.**"
   ]
  }
 ],
 "metadata": {
  "ExecuteTimeLog": [
   {
    "duration": 62,
    "start_time": "2022-03-17T03:44:57.489Z"
   },
   {
    "duration": 756,
    "start_time": "2022-03-17T03:55:34.236Z"
   },
   {
    "duration": 213,
    "start_time": "2022-03-17T03:56:31.537Z"
   },
   {
    "duration": 13,
    "start_time": "2022-03-17T03:56:49.872Z"
   },
   {
    "duration": 267,
    "start_time": "2022-03-17T03:57:36.569Z"
   },
   {
    "duration": 229,
    "start_time": "2022-03-17T03:57:39.383Z"
   },
   {
    "duration": 9,
    "start_time": "2022-03-17T03:57:42.677Z"
   },
   {
    "duration": 153,
    "start_time": "2022-03-17T04:00:19.812Z"
   },
   {
    "duration": 9,
    "start_time": "2022-03-17T04:00:43.428Z"
   },
   {
    "duration": 99,
    "start_time": "2022-03-17T04:01:27.038Z"
   },
   {
    "duration": 9,
    "start_time": "2022-03-17T04:01:29.176Z"
   },
   {
    "duration": 9,
    "start_time": "2022-03-17T04:03:09.163Z"
   },
   {
    "duration": 19,
    "start_time": "2022-03-17T04:03:09.174Z"
   },
   {
    "duration": 10,
    "start_time": "2022-03-17T04:03:09.196Z"
   },
   {
    "duration": 18,
    "start_time": "2022-03-17T04:03:09.209Z"
   },
   {
    "duration": 12,
    "start_time": "2022-03-17T04:03:09.230Z"
   },
   {
    "duration": 199,
    "start_time": "2022-03-17T04:10:26.122Z"
   },
   {
    "duration": 11,
    "start_time": "2022-03-17T04:10:27.990Z"
   },
   {
    "duration": 169,
    "start_time": "2022-03-17T04:10:41.296Z"
   },
   {
    "duration": 13,
    "start_time": "2022-03-17T04:10:44.396Z"
   },
   {
    "duration": 5,
    "start_time": "2022-03-17T04:11:56.493Z"
   },
   {
    "duration": 282,
    "start_time": "2022-03-17T04:11:56.501Z"
   },
   {
    "duration": 14,
    "start_time": "2022-03-17T04:11:56.789Z"
   },
   {
    "duration": 178,
    "start_time": "2022-03-17T04:11:56.806Z"
   },
   {
    "duration": 11,
    "start_time": "2022-03-17T04:11:56.988Z"
   },
   {
    "duration": 128,
    "start_time": "2022-03-17T04:11:57.001Z"
   },
   {
    "duration": 10,
    "start_time": "2022-03-17T04:11:57.131Z"
   },
   {
    "duration": 16,
    "start_time": "2022-03-17T04:11:57.143Z"
   },
   {
    "duration": 26,
    "start_time": "2022-03-17T04:11:57.162Z"
   },
   {
    "duration": 19,
    "start_time": "2022-03-17T04:11:57.191Z"
   },
   {
    "duration": 15,
    "start_time": "2022-03-17T04:11:57.212Z"
   },
   {
    "duration": 23,
    "start_time": "2022-03-17T04:39:39.553Z"
   },
   {
    "duration": 30,
    "start_time": "2022-03-17T04:46:47.266Z"
   },
   {
    "duration": 20,
    "start_time": "2022-03-17T04:49:52.454Z"
   },
   {
    "duration": 9,
    "start_time": "2022-03-17T04:52:49.394Z"
   },
   {
    "duration": 35,
    "start_time": "2022-03-17T04:53:46.251Z"
   },
   {
    "duration": 1101,
    "start_time": "2022-03-18T03:37:16.687Z"
   },
   {
    "duration": 192,
    "start_time": "2022-03-18T03:37:17.791Z"
   },
   {
    "duration": 17,
    "start_time": "2022-03-18T03:37:17.985Z"
   },
   {
    "duration": 33,
    "start_time": "2022-03-18T03:37:18.005Z"
   },
   {
    "duration": 56,
    "start_time": "2022-03-18T03:37:18.042Z"
   },
   {
    "duration": 180,
    "start_time": "2022-03-18T03:37:18.100Z"
   },
   {
    "duration": 12,
    "start_time": "2022-03-18T03:37:18.282Z"
   },
   {
    "duration": 31,
    "start_time": "2022-03-18T03:37:18.297Z"
   },
   {
    "duration": 122,
    "start_time": "2022-03-18T03:37:18.332Z"
   },
   {
    "duration": 10,
    "start_time": "2022-03-18T03:37:18.457Z"
   },
   {
    "duration": 28,
    "start_time": "2022-03-18T03:37:18.481Z"
   },
   {
    "duration": 12,
    "start_time": "2022-03-18T03:37:18.512Z"
   },
   {
    "duration": 11,
    "start_time": "2022-03-18T03:37:18.526Z"
   },
   {
    "duration": 41,
    "start_time": "2022-03-18T03:37:18.541Z"
   },
   {
    "duration": 17,
    "start_time": "2022-03-18T03:37:18.585Z"
   },
   {
    "duration": 15,
    "start_time": "2022-03-18T03:37:18.604Z"
   },
   {
    "duration": 102,
    "start_time": "2022-03-18T03:37:46.638Z"
   },
   {
    "duration": 12,
    "start_time": "2022-03-18T03:38:38.795Z"
   },
   {
    "duration": 14,
    "start_time": "2022-03-18T03:38:47.892Z"
   },
   {
    "duration": 4,
    "start_time": "2022-03-18T03:39:06.000Z"
   },
   {
    "duration": 16,
    "start_time": "2022-03-18T03:41:38.034Z"
   },
   {
    "duration": 157,
    "start_time": "2022-03-18T04:13:45.113Z"
   },
   {
    "duration": 2782,
    "start_time": "2022-03-18T04:14:10.388Z"
   },
   {
    "duration": 2608,
    "start_time": "2022-03-18T04:14:13.743Z"
   },
   {
    "duration": 2660,
    "start_time": "2022-03-18T04:15:05.261Z"
   },
   {
    "duration": 10,
    "start_time": "2022-03-18T04:15:27.110Z"
   },
   {
    "duration": 22,
    "start_time": "2022-03-18T04:16:54.341Z"
   },
   {
    "duration": 4,
    "start_time": "2022-03-18T04:17:23.672Z"
   },
   {
    "duration": 198,
    "start_time": "2022-03-18T04:17:23.679Z"
   },
   {
    "duration": 12,
    "start_time": "2022-03-18T04:17:23.879Z"
   },
   {
    "duration": 34,
    "start_time": "2022-03-18T04:17:23.893Z"
   },
   {
    "duration": 59,
    "start_time": "2022-03-18T04:17:23.930Z"
   },
   {
    "duration": 163,
    "start_time": "2022-03-18T04:17:23.991Z"
   },
   {
    "duration": 12,
    "start_time": "2022-03-18T04:17:24.156Z"
   },
   {
    "duration": 28,
    "start_time": "2022-03-18T04:17:24.182Z"
   },
   {
    "duration": 117,
    "start_time": "2022-03-18T04:17:24.212Z"
   },
   {
    "duration": 11,
    "start_time": "2022-03-18T04:17:24.331Z"
   },
   {
    "duration": 42,
    "start_time": "2022-03-18T04:17:24.344Z"
   },
   {
    "duration": 12,
    "start_time": "2022-03-18T04:17:24.388Z"
   },
   {
    "duration": 10,
    "start_time": "2022-03-18T04:17:24.402Z"
   },
   {
    "duration": 14,
    "start_time": "2022-03-18T04:17:24.416Z"
   },
   {
    "duration": 17,
    "start_time": "2022-03-18T04:17:24.433Z"
   },
   {
    "duration": 42,
    "start_time": "2022-03-18T04:17:24.453Z"
   },
   {
    "duration": 17,
    "start_time": "2022-03-18T04:17:24.497Z"
   },
   {
    "duration": 22,
    "start_time": "2022-03-18T04:17:24.516Z"
   },
   {
    "duration": 30,
    "start_time": "2022-03-18T04:17:54.258Z"
   },
   {
    "duration": 5,
    "start_time": "2022-03-18T04:18:08.941Z"
   },
   {
    "duration": 298,
    "start_time": "2022-03-18T04:18:08.950Z"
   },
   {
    "duration": 16,
    "start_time": "2022-03-18T04:18:09.251Z"
   },
   {
    "duration": 40,
    "start_time": "2022-03-18T04:18:09.283Z"
   },
   {
    "duration": 33,
    "start_time": "2022-03-18T04:18:09.326Z"
   },
   {
    "duration": 175,
    "start_time": "2022-03-18T04:18:09.362Z"
   },
   {
    "duration": 13,
    "start_time": "2022-03-18T04:18:09.539Z"
   },
   {
    "duration": 48,
    "start_time": "2022-03-18T04:18:09.554Z"
   },
   {
    "duration": 115,
    "start_time": "2022-03-18T04:18:09.605Z"
   },
   {
    "duration": 11,
    "start_time": "2022-03-18T04:18:09.722Z"
   },
   {
    "duration": 35,
    "start_time": "2022-03-18T04:18:09.736Z"
   },
   {
    "duration": 14,
    "start_time": "2022-03-18T04:18:09.782Z"
   },
   {
    "duration": 12,
    "start_time": "2022-03-18T04:18:09.798Z"
   },
   {
    "duration": 39,
    "start_time": "2022-03-18T04:18:09.814Z"
   },
   {
    "duration": 34,
    "start_time": "2022-03-18T04:18:09.856Z"
   },
   {
    "duration": 15,
    "start_time": "2022-03-18T04:18:09.892Z"
   },
   {
    "duration": 43,
    "start_time": "2022-03-18T04:18:09.910Z"
   },
   {
    "duration": 51,
    "start_time": "2022-03-18T04:18:09.955Z"
   },
   {
    "duration": 9,
    "start_time": "2022-03-18T04:36:39.168Z"
   },
   {
    "duration": 12,
    "start_time": "2022-03-18T04:50:52.433Z"
   },
   {
    "duration": 12,
    "start_time": "2022-03-18T04:51:06.600Z"
   },
   {
    "duration": 24,
    "start_time": "2022-03-18T04:51:11.273Z"
   },
   {
    "duration": 152,
    "start_time": "2022-03-18T04:53:55.999Z"
   },
   {
    "duration": 69,
    "start_time": "2022-03-18T04:54:10.296Z"
   },
   {
    "duration": 92,
    "start_time": "2022-03-18T04:54:33.963Z"
   },
   {
    "duration": 94,
    "start_time": "2022-03-18T04:55:35.901Z"
   },
   {
    "duration": 101,
    "start_time": "2022-03-18T04:57:52.221Z"
   },
   {
    "duration": 25,
    "start_time": "2022-03-18T04:59:47.378Z"
   },
   {
    "duration": 30,
    "start_time": "2022-03-18T05:00:17.080Z"
   },
   {
    "duration": 3,
    "start_time": "2022-03-18T05:00:26.621Z"
   },
   {
    "duration": 187,
    "start_time": "2022-03-18T05:00:26.627Z"
   },
   {
    "duration": 11,
    "start_time": "2022-03-18T05:00:26.817Z"
   },
   {
    "duration": 38,
    "start_time": "2022-03-18T05:00:26.830Z"
   },
   {
    "duration": 32,
    "start_time": "2022-03-18T05:00:26.884Z"
   },
   {
    "duration": 172,
    "start_time": "2022-03-18T05:00:26.918Z"
   },
   {
    "duration": 12,
    "start_time": "2022-03-18T05:00:27.092Z"
   },
   {
    "duration": 31,
    "start_time": "2022-03-18T05:00:27.107Z"
   },
   {
    "duration": 132,
    "start_time": "2022-03-18T05:00:27.140Z"
   },
   {
    "duration": 15,
    "start_time": "2022-03-18T05:00:27.274Z"
   },
   {
    "duration": 27,
    "start_time": "2022-03-18T05:00:27.291Z"
   },
   {
    "duration": 10,
    "start_time": "2022-03-18T05:00:27.321Z"
   },
   {
    "duration": 11,
    "start_time": "2022-03-18T05:00:27.334Z"
   },
   {
    "duration": 41,
    "start_time": "2022-03-18T05:00:27.348Z"
   },
   {
    "duration": 20,
    "start_time": "2022-03-18T05:00:27.391Z"
   },
   {
    "duration": 14,
    "start_time": "2022-03-18T05:00:27.413Z"
   },
   {
    "duration": 18,
    "start_time": "2022-03-18T05:00:27.429Z"
   },
   {
    "duration": 50,
    "start_time": "2022-03-18T05:00:27.449Z"
   },
   {
    "duration": 0,
    "start_time": "2022-03-18T05:00:27.501Z"
   },
   {
    "duration": 26,
    "start_time": "2022-03-18T05:01:33.065Z"
   },
   {
    "duration": 99,
    "start_time": "2022-03-18T05:01:52.971Z"
   },
   {
    "duration": 93,
    "start_time": "2022-03-18T05:02:52.105Z"
   },
   {
    "duration": 70,
    "start_time": "2022-03-19T13:21:31.271Z"
   },
   {
    "duration": 8,
    "start_time": "2022-03-19T13:21:50.683Z"
   },
   {
    "duration": 1036,
    "start_time": "2022-03-19T13:21:54.436Z"
   },
   {
    "duration": 183,
    "start_time": "2022-03-19T13:21:55.474Z"
   },
   {
    "duration": 23,
    "start_time": "2022-03-19T13:21:55.659Z"
   },
   {
    "duration": 36,
    "start_time": "2022-03-19T13:21:55.684Z"
   },
   {
    "duration": 31,
    "start_time": "2022-03-19T13:21:55.723Z"
   },
   {
    "duration": 179,
    "start_time": "2022-03-19T13:21:55.756Z"
   },
   {
    "duration": 12,
    "start_time": "2022-03-19T13:21:55.937Z"
   },
   {
    "duration": 46,
    "start_time": "2022-03-19T13:21:55.952Z"
   },
   {
    "duration": 105,
    "start_time": "2022-03-19T13:21:56.001Z"
   },
   {
    "duration": 11,
    "start_time": "2022-03-19T13:21:56.109Z"
   },
   {
    "duration": 28,
    "start_time": "2022-03-19T13:21:56.122Z"
   },
   {
    "duration": 38,
    "start_time": "2022-03-19T13:21:56.152Z"
   },
   {
    "duration": 11,
    "start_time": "2022-03-19T13:21:56.192Z"
   },
   {
    "duration": 11,
    "start_time": "2022-03-19T13:21:56.207Z"
   },
   {
    "duration": 15,
    "start_time": "2022-03-19T13:21:56.220Z"
   },
   {
    "duration": 47,
    "start_time": "2022-03-19T13:21:56.238Z"
   },
   {
    "duration": 16,
    "start_time": "2022-03-19T13:21:56.287Z"
   },
   {
    "duration": 16,
    "start_time": "2022-03-19T13:21:56.306Z"
   },
   {
    "duration": 23,
    "start_time": "2022-03-19T13:21:56.325Z"
   },
   {
    "duration": 134,
    "start_time": "2022-03-19T13:21:56.350Z"
   },
   {
    "duration": 108,
    "start_time": "2022-03-19T13:28:44.114Z"
   },
   {
    "duration": 96,
    "start_time": "2022-03-19T13:28:57.437Z"
   },
   {
    "duration": 70,
    "start_time": "2022-03-19T13:30:44.433Z"
   },
   {
    "duration": 67,
    "start_time": "2022-03-19T13:31:28.111Z"
   },
   {
    "duration": 82,
    "start_time": "2022-03-19T13:34:00.642Z"
   },
   {
    "duration": 84,
    "start_time": "2022-03-19T13:34:15.082Z"
   },
   {
    "duration": 15,
    "start_time": "2022-03-19T13:36:19.305Z"
   },
   {
    "duration": 6,
    "start_time": "2022-03-19T13:40:00.159Z"
   },
   {
    "duration": 10,
    "start_time": "2022-03-19T13:40:20.498Z"
   },
   {
    "duration": 55,
    "start_time": "2022-03-19T13:43:01.079Z"
   },
   {
    "duration": 11,
    "start_time": "2022-03-19T13:43:30.434Z"
   },
   {
    "duration": 20,
    "start_time": "2022-03-19T13:43:51.640Z"
   },
   {
    "duration": 14,
    "start_time": "2022-03-19T13:45:41.438Z"
   },
   {
    "duration": 18,
    "start_time": "2022-03-19T13:46:18.043Z"
   },
   {
    "duration": 26,
    "start_time": "2022-03-19T13:47:28.112Z"
   },
   {
    "duration": 10,
    "start_time": "2022-03-19T13:49:53.283Z"
   },
   {
    "duration": 13,
    "start_time": "2022-03-19T13:50:00.667Z"
   },
   {
    "duration": 11,
    "start_time": "2022-03-19T13:50:07.296Z"
   },
   {
    "duration": 5,
    "start_time": "2022-03-19T13:50:24.538Z"
   },
   {
    "duration": 186,
    "start_time": "2022-03-19T13:50:24.546Z"
   },
   {
    "duration": 12,
    "start_time": "2022-03-19T13:50:24.734Z"
   },
   {
    "duration": 55,
    "start_time": "2022-03-19T13:50:24.748Z"
   },
   {
    "duration": 38,
    "start_time": "2022-03-19T13:50:24.806Z"
   },
   {
    "duration": 167,
    "start_time": "2022-03-19T13:50:24.846Z"
   },
   {
    "duration": 13,
    "start_time": "2022-03-19T13:50:25.015Z"
   },
   {
    "duration": 56,
    "start_time": "2022-03-19T13:50:25.031Z"
   },
   {
    "duration": 109,
    "start_time": "2022-03-19T13:50:25.090Z"
   },
   {
    "duration": 12,
    "start_time": "2022-03-19T13:50:25.201Z"
   },
   {
    "duration": 27,
    "start_time": "2022-03-19T13:50:25.215Z"
   },
   {
    "duration": 39,
    "start_time": "2022-03-19T13:50:25.244Z"
   },
   {
    "duration": 13,
    "start_time": "2022-03-19T13:50:25.285Z"
   },
   {
    "duration": 16,
    "start_time": "2022-03-19T13:50:25.304Z"
   },
   {
    "duration": 21,
    "start_time": "2022-03-19T13:50:25.323Z"
   },
   {
    "duration": 39,
    "start_time": "2022-03-19T13:50:25.346Z"
   },
   {
    "duration": 23,
    "start_time": "2022-03-19T13:50:25.387Z"
   },
   {
    "duration": 29,
    "start_time": "2022-03-19T13:50:25.412Z"
   },
   {
    "duration": 118,
    "start_time": "2022-03-19T13:50:25.443Z"
   },
   {
    "duration": 64,
    "start_time": "2022-03-19T13:50:25.563Z"
   },
   {
    "duration": 85,
    "start_time": "2022-03-19T13:50:25.630Z"
   },
   {
    "duration": 15,
    "start_time": "2022-03-19T13:50:25.717Z"
   },
   {
    "duration": 10,
    "start_time": "2022-03-19T13:50:25.735Z"
   },
   {
    "duration": 10,
    "start_time": "2022-03-19T13:50:25.747Z"
   },
   {
    "duration": 9,
    "start_time": "2022-03-19T13:54:01.096Z"
   },
   {
    "duration": 7,
    "start_time": "2022-03-19T13:54:22.176Z"
   },
   {
    "duration": 12,
    "start_time": "2022-03-19T13:54:22.186Z"
   },
   {
    "duration": 5,
    "start_time": "2022-03-19T13:54:33.755Z"
   },
   {
    "duration": 227,
    "start_time": "2022-03-19T13:54:33.764Z"
   },
   {
    "duration": 13,
    "start_time": "2022-03-19T13:54:33.993Z"
   },
   {
    "duration": 36,
    "start_time": "2022-03-19T13:54:34.009Z"
   },
   {
    "duration": 61,
    "start_time": "2022-03-19T13:54:34.050Z"
   },
   {
    "duration": 203,
    "start_time": "2022-03-19T13:54:34.114Z"
   },
   {
    "duration": 13,
    "start_time": "2022-03-19T13:54:34.319Z"
   },
   {
    "duration": 59,
    "start_time": "2022-03-19T13:54:34.335Z"
   },
   {
    "duration": 133,
    "start_time": "2022-03-19T13:54:34.396Z"
   },
   {
    "duration": 10,
    "start_time": "2022-03-19T13:54:34.532Z"
   },
   {
    "duration": 47,
    "start_time": "2022-03-19T13:54:34.544Z"
   },
   {
    "duration": 11,
    "start_time": "2022-03-19T13:54:34.594Z"
   },
   {
    "duration": 11,
    "start_time": "2022-03-19T13:54:34.607Z"
   },
   {
    "duration": 19,
    "start_time": "2022-03-19T13:54:34.622Z"
   },
   {
    "duration": 40,
    "start_time": "2022-03-19T13:54:34.643Z"
   },
   {
    "duration": 19,
    "start_time": "2022-03-19T13:54:34.686Z"
   },
   {
    "duration": 19,
    "start_time": "2022-03-19T13:54:34.708Z"
   },
   {
    "duration": 52,
    "start_time": "2022-03-19T13:54:34.730Z"
   },
   {
    "duration": 106,
    "start_time": "2022-03-19T13:54:34.785Z"
   },
   {
    "duration": 65,
    "start_time": "2022-03-19T13:54:34.894Z"
   },
   {
    "duration": 136,
    "start_time": "2022-03-19T13:54:34.961Z"
   },
   {
    "duration": 14,
    "start_time": "2022-03-19T13:54:35.101Z"
   },
   {
    "duration": 9,
    "start_time": "2022-03-19T13:54:35.118Z"
   },
   {
    "duration": 15,
    "start_time": "2022-03-19T13:54:35.130Z"
   },
   {
    "duration": 10,
    "start_time": "2022-03-19T13:57:27.729Z"
   },
   {
    "duration": 6,
    "start_time": "2022-03-19T13:57:36.892Z"
   },
   {
    "duration": 10,
    "start_time": "2022-03-19T13:57:36.901Z"
   },
   {
    "duration": 4,
    "start_time": "2022-03-19T13:57:41.830Z"
   },
   {
    "duration": 192,
    "start_time": "2022-03-19T13:57:41.836Z"
   },
   {
    "duration": 13,
    "start_time": "2022-03-19T13:57:42.030Z"
   },
   {
    "duration": 51,
    "start_time": "2022-03-19T13:57:42.045Z"
   },
   {
    "duration": 31,
    "start_time": "2022-03-19T13:57:42.099Z"
   },
   {
    "duration": 173,
    "start_time": "2022-03-19T13:57:42.132Z"
   },
   {
    "duration": 12,
    "start_time": "2022-03-19T13:57:42.307Z"
   },
   {
    "duration": 35,
    "start_time": "2022-03-19T13:57:42.321Z"
   },
   {
    "duration": 127,
    "start_time": "2022-03-19T13:57:42.358Z"
   },
   {
    "duration": 11,
    "start_time": "2022-03-19T13:57:42.488Z"
   },
   {
    "duration": 29,
    "start_time": "2022-03-19T13:57:42.502Z"
   },
   {
    "duration": 11,
    "start_time": "2022-03-19T13:57:42.533Z"
   },
   {
    "duration": 38,
    "start_time": "2022-03-19T13:57:42.547Z"
   },
   {
    "duration": 15,
    "start_time": "2022-03-19T13:57:42.589Z"
   },
   {
    "duration": 20,
    "start_time": "2022-03-19T13:57:42.607Z"
   },
   {
    "duration": 15,
    "start_time": "2022-03-19T13:57:42.629Z"
   },
   {
    "duration": 46,
    "start_time": "2022-03-19T13:57:42.647Z"
   },
   {
    "duration": 25,
    "start_time": "2022-03-19T13:57:42.696Z"
   },
   {
    "duration": 108,
    "start_time": "2022-03-19T13:57:42.723Z"
   },
   {
    "duration": 73,
    "start_time": "2022-03-19T13:57:42.834Z"
   },
   {
    "duration": 83,
    "start_time": "2022-03-19T13:57:42.910Z"
   },
   {
    "duration": 14,
    "start_time": "2022-03-19T13:57:42.995Z"
   },
   {
    "duration": 10,
    "start_time": "2022-03-19T13:57:43.011Z"
   },
   {
    "duration": 12,
    "start_time": "2022-03-19T13:57:43.023Z"
   },
   {
    "duration": 5,
    "start_time": "2022-03-19T14:02:15.946Z"
   },
   {
    "duration": 5,
    "start_time": "2022-03-19T14:02:25.602Z"
   },
   {
    "duration": 8,
    "start_time": "2022-03-19T14:02:55.414Z"
   },
   {
    "duration": 6,
    "start_time": "2022-03-19T14:03:04.360Z"
   },
   {
    "duration": 7,
    "start_time": "2022-03-19T14:05:01.558Z"
   },
   {
    "duration": 6,
    "start_time": "2022-03-19T14:05:28.809Z"
   },
   {
    "duration": 4,
    "start_time": "2022-03-19T14:05:34.124Z"
   },
   {
    "duration": 188,
    "start_time": "2022-03-19T14:05:34.130Z"
   },
   {
    "duration": 12,
    "start_time": "2022-03-19T14:05:34.320Z"
   },
   {
    "duration": 60,
    "start_time": "2022-03-19T14:05:34.334Z"
   },
   {
    "duration": 31,
    "start_time": "2022-03-19T14:05:34.397Z"
   },
   {
    "duration": 179,
    "start_time": "2022-03-19T14:05:34.430Z"
   },
   {
    "duration": 13,
    "start_time": "2022-03-19T14:05:34.611Z"
   },
   {
    "duration": 31,
    "start_time": "2022-03-19T14:05:34.626Z"
   },
   {
    "duration": 149,
    "start_time": "2022-03-19T14:05:34.659Z"
   },
   {
    "duration": 16,
    "start_time": "2022-03-19T14:05:34.811Z"
   },
   {
    "duration": 33,
    "start_time": "2022-03-19T14:05:34.829Z"
   },
   {
    "duration": 12,
    "start_time": "2022-03-19T14:05:34.882Z"
   },
   {
    "duration": 14,
    "start_time": "2022-03-19T14:05:34.899Z"
   },
   {
    "duration": 20,
    "start_time": "2022-03-19T14:05:34.916Z"
   },
   {
    "duration": 45,
    "start_time": "2022-03-19T14:05:34.938Z"
   },
   {
    "duration": 22,
    "start_time": "2022-03-19T14:05:34.986Z"
   },
   {
    "duration": 26,
    "start_time": "2022-03-19T14:05:35.011Z"
   },
   {
    "duration": 53,
    "start_time": "2022-03-19T14:05:35.040Z"
   },
   {
    "duration": 166,
    "start_time": "2022-03-19T14:05:35.096Z"
   },
   {
    "duration": 94,
    "start_time": "2022-03-19T14:05:35.265Z"
   },
   {
    "duration": 140,
    "start_time": "2022-03-19T14:05:35.362Z"
   },
   {
    "duration": 17,
    "start_time": "2022-03-19T14:05:35.504Z"
   },
   {
    "duration": 28,
    "start_time": "2022-03-19T14:05:35.524Z"
   },
   {
    "duration": 46,
    "start_time": "2022-03-19T14:05:35.555Z"
   },
   {
    "duration": 6,
    "start_time": "2022-03-19T14:05:35.604Z"
   },
   {
    "duration": 24,
    "start_time": "2022-03-19T14:05:35.613Z"
   },
   {
    "duration": 234,
    "start_time": "2022-03-19T14:06:04.172Z"
   },
   {
    "duration": 5,
    "start_time": "2022-03-19T14:06:07.983Z"
   },
   {
    "duration": 306,
    "start_time": "2022-03-19T14:06:07.992Z"
   },
   {
    "duration": 17,
    "start_time": "2022-03-19T14:06:08.301Z"
   },
   {
    "duration": 73,
    "start_time": "2022-03-19T14:06:08.321Z"
   },
   {
    "duration": 34,
    "start_time": "2022-03-19T14:06:08.398Z"
   },
   {
    "duration": 185,
    "start_time": "2022-03-19T14:06:08.434Z"
   },
   {
    "duration": 12,
    "start_time": "2022-03-19T14:06:08.621Z"
   },
   {
    "duration": 52,
    "start_time": "2022-03-19T14:06:08.635Z"
   },
   {
    "duration": 115,
    "start_time": "2022-03-19T14:06:08.690Z"
   },
   {
    "duration": 12,
    "start_time": "2022-03-19T14:06:08.807Z"
   },
   {
    "duration": 25,
    "start_time": "2022-03-19T14:06:08.822Z"
   },
   {
    "duration": 36,
    "start_time": "2022-03-19T14:06:08.849Z"
   },
   {
    "duration": 13,
    "start_time": "2022-03-19T14:06:08.887Z"
   },
   {
    "duration": 16,
    "start_time": "2022-03-19T14:06:08.906Z"
   },
   {
    "duration": 52,
    "start_time": "2022-03-19T14:06:08.924Z"
   },
   {
    "duration": 21,
    "start_time": "2022-03-19T14:06:08.979Z"
   },
   {
    "duration": 20,
    "start_time": "2022-03-19T14:06:09.002Z"
   },
   {
    "duration": 26,
    "start_time": "2022-03-19T14:06:09.024Z"
   },
   {
    "duration": 147,
    "start_time": "2022-03-19T14:06:09.052Z"
   },
   {
    "duration": 72,
    "start_time": "2022-03-19T14:06:09.201Z"
   },
   {
    "duration": 81,
    "start_time": "2022-03-19T14:06:09.275Z"
   },
   {
    "duration": 14,
    "start_time": "2022-03-19T14:06:09.358Z"
   },
   {
    "duration": 6,
    "start_time": "2022-03-19T14:06:09.382Z"
   },
   {
    "duration": 11,
    "start_time": "2022-03-19T14:06:09.390Z"
   },
   {
    "duration": 5,
    "start_time": "2022-03-19T14:06:09.404Z"
   },
   {
    "duration": 293,
    "start_time": "2022-03-19T14:06:09.411Z"
   },
   {
    "duration": 18,
    "start_time": "2022-03-19T14:07:05.046Z"
   },
   {
    "duration": 147,
    "start_time": "2022-03-19T14:08:11.348Z"
   },
   {
    "duration": 7,
    "start_time": "2022-03-19T14:08:36.162Z"
   },
   {
    "duration": 22,
    "start_time": "2022-03-19T14:09:57.420Z"
   },
   {
    "duration": 6,
    "start_time": "2022-03-19T14:10:12.203Z"
   },
   {
    "duration": 8,
    "start_time": "2022-03-19T14:10:21.010Z"
   },
   {
    "duration": 5,
    "start_time": "2022-03-19T14:10:24.869Z"
   },
   {
    "duration": 196,
    "start_time": "2022-03-19T14:10:24.878Z"
   },
   {
    "duration": 12,
    "start_time": "2022-03-19T14:10:25.077Z"
   },
   {
    "duration": 35,
    "start_time": "2022-03-19T14:10:25.091Z"
   },
   {
    "duration": 62,
    "start_time": "2022-03-19T14:10:25.131Z"
   },
   {
    "duration": 171,
    "start_time": "2022-03-19T14:10:25.196Z"
   },
   {
    "duration": 20,
    "start_time": "2022-03-19T14:10:25.369Z"
   },
   {
    "duration": 29,
    "start_time": "2022-03-19T14:10:25.392Z"
   },
   {
    "duration": 130,
    "start_time": "2022-03-19T14:10:25.424Z"
   },
   {
    "duration": 12,
    "start_time": "2022-03-19T14:10:25.558Z"
   },
   {
    "duration": 27,
    "start_time": "2022-03-19T14:10:25.583Z"
   },
   {
    "duration": 12,
    "start_time": "2022-03-19T14:10:25.612Z"
   },
   {
    "duration": 12,
    "start_time": "2022-03-19T14:10:25.626Z"
   },
   {
    "duration": 50,
    "start_time": "2022-03-19T14:10:25.643Z"
   },
   {
    "duration": 19,
    "start_time": "2022-03-19T14:10:25.696Z"
   },
   {
    "duration": 20,
    "start_time": "2022-03-19T14:10:25.717Z"
   },
   {
    "duration": 17,
    "start_time": "2022-03-19T14:10:25.739Z"
   },
   {
    "duration": 25,
    "start_time": "2022-03-19T14:10:25.781Z"
   },
   {
    "duration": 115,
    "start_time": "2022-03-19T14:10:25.808Z"
   },
   {
    "duration": 78,
    "start_time": "2022-03-19T14:10:25.926Z"
   },
   {
    "duration": 88,
    "start_time": "2022-03-19T14:10:26.007Z"
   },
   {
    "duration": 16,
    "start_time": "2022-03-19T14:10:26.097Z"
   },
   {
    "duration": 9,
    "start_time": "2022-03-19T14:10:26.115Z"
   },
   {
    "duration": 11,
    "start_time": "2022-03-19T14:10:26.126Z"
   },
   {
    "duration": 5,
    "start_time": "2022-03-19T14:10:26.140Z"
   },
   {
    "duration": 40,
    "start_time": "2022-03-19T14:10:26.147Z"
   },
   {
    "duration": 73,
    "start_time": "2022-03-19T14:18:11.969Z"
   },
   {
    "duration": 85,
    "start_time": "2022-03-19T14:18:52.251Z"
   },
   {
    "duration": 27,
    "start_time": "2022-03-19T14:20:01.181Z"
   },
   {
    "duration": 10,
    "start_time": "2022-03-19T14:26:01.148Z"
   },
   {
    "duration": 303,
    "start_time": "2022-03-19T14:27:38.819Z"
   },
   {
    "duration": 6,
    "start_time": "2022-03-19T14:29:52.303Z"
   },
   {
    "duration": 5,
    "start_time": "2022-03-19T14:30:41.346Z"
   },
   {
    "duration": 11,
    "start_time": "2022-03-19T14:30:51.124Z"
   },
   {
    "duration": 4,
    "start_time": "2022-03-19T14:31:56.294Z"
   },
   {
    "duration": 17,
    "start_time": "2022-03-19T14:45:44.379Z"
   },
   {
    "duration": 41,
    "start_time": "2022-03-19T14:52:22.829Z"
   },
   {
    "duration": 11,
    "start_time": "2022-03-19T14:55:51.699Z"
   },
   {
    "duration": 5,
    "start_time": "2022-03-19T14:55:55.894Z"
   },
   {
    "duration": 193,
    "start_time": "2022-03-19T14:55:55.902Z"
   },
   {
    "duration": 14,
    "start_time": "2022-03-19T14:55:56.097Z"
   },
   {
    "duration": 74,
    "start_time": "2022-03-19T14:55:56.114Z"
   },
   {
    "duration": 33,
    "start_time": "2022-03-19T14:55:56.192Z"
   },
   {
    "duration": 187,
    "start_time": "2022-03-19T14:55:56.228Z"
   },
   {
    "duration": 13,
    "start_time": "2022-03-19T14:55:56.417Z"
   },
   {
    "duration": 61,
    "start_time": "2022-03-19T14:55:56.433Z"
   },
   {
    "duration": 110,
    "start_time": "2022-03-19T14:55:56.496Z"
   },
   {
    "duration": 11,
    "start_time": "2022-03-19T14:55:56.608Z"
   },
   {
    "duration": 29,
    "start_time": "2022-03-19T14:55:56.622Z"
   },
   {
    "duration": 29,
    "start_time": "2022-03-19T14:55:56.654Z"
   },
   {
    "duration": 13,
    "start_time": "2022-03-19T14:55:56.685Z"
   },
   {
    "duration": 38,
    "start_time": "2022-03-19T14:55:56.704Z"
   },
   {
    "duration": 20,
    "start_time": "2022-03-19T14:55:56.745Z"
   },
   {
    "duration": 27,
    "start_time": "2022-03-19T14:55:56.768Z"
   },
   {
    "duration": 20,
    "start_time": "2022-03-19T14:55:56.797Z"
   },
   {
    "duration": 69,
    "start_time": "2022-03-19T14:55:56.820Z"
   },
   {
    "duration": 160,
    "start_time": "2022-03-19T14:55:56.891Z"
   },
   {
    "duration": 103,
    "start_time": "2022-03-19T14:55:57.054Z"
   },
   {
    "duration": 85,
    "start_time": "2022-03-19T14:55:57.161Z"
   },
   {
    "duration": 6,
    "start_time": "2022-03-19T14:55:57.250Z"
   },
   {
    "duration": 29,
    "start_time": "2022-03-19T14:55:57.259Z"
   },
   {
    "duration": 5,
    "start_time": "2022-03-19T14:55:57.291Z"
   },
   {
    "duration": 10,
    "start_time": "2022-03-19T14:55:57.299Z"
   },
   {
    "duration": 326,
    "start_time": "2022-03-19T14:55:57.311Z"
   },
   {
    "duration": 7,
    "start_time": "2022-03-19T14:55:57.640Z"
   },
   {
    "duration": 58,
    "start_time": "2022-03-19T14:55:57.649Z"
   },
   {
    "duration": 33,
    "start_time": "2022-03-19T14:55:57.709Z"
   },
   {
    "duration": 32,
    "start_time": "2022-03-19T14:58:12.226Z"
   },
   {
    "duration": 35,
    "start_time": "2022-03-19T14:58:26.493Z"
   },
   {
    "duration": 35,
    "start_time": "2022-03-19T14:59:21.629Z"
   },
   {
    "duration": 33,
    "start_time": "2022-03-19T14:59:39.524Z"
   },
   {
    "duration": 25,
    "start_time": "2022-03-19T15:01:53.159Z"
   },
   {
    "duration": 48,
    "start_time": "2022-03-19T15:04:10.608Z"
   },
   {
    "duration": 55,
    "start_time": "2022-03-19T15:04:42.203Z"
   },
   {
    "duration": 54,
    "start_time": "2022-03-19T15:05:04.382Z"
   },
   {
    "duration": 4,
    "start_time": "2022-03-19T15:05:11.569Z"
   },
   {
    "duration": 209,
    "start_time": "2022-03-19T15:05:11.576Z"
   },
   {
    "duration": 13,
    "start_time": "2022-03-19T15:05:11.787Z"
   },
   {
    "duration": 36,
    "start_time": "2022-03-19T15:05:11.802Z"
   },
   {
    "duration": 64,
    "start_time": "2022-03-19T15:05:11.842Z"
   },
   {
    "duration": 169,
    "start_time": "2022-03-19T15:05:11.908Z"
   },
   {
    "duration": 14,
    "start_time": "2022-03-19T15:05:12.082Z"
   },
   {
    "duration": 45,
    "start_time": "2022-03-19T15:05:12.098Z"
   },
   {
    "duration": 130,
    "start_time": "2022-03-19T15:05:12.146Z"
   },
   {
    "duration": 11,
    "start_time": "2022-03-19T15:05:12.279Z"
   },
   {
    "duration": 32,
    "start_time": "2022-03-19T15:05:12.292Z"
   },
   {
    "duration": 11,
    "start_time": "2022-03-19T15:05:12.326Z"
   },
   {
    "duration": 13,
    "start_time": "2022-03-19T15:05:12.339Z"
   },
   {
    "duration": 18,
    "start_time": "2022-03-19T15:05:12.385Z"
   },
   {
    "duration": 22,
    "start_time": "2022-03-19T15:05:12.406Z"
   },
   {
    "duration": 15,
    "start_time": "2022-03-19T15:05:12.430Z"
   },
   {
    "duration": 46,
    "start_time": "2022-03-19T15:05:12.447Z"
   },
   {
    "duration": 25,
    "start_time": "2022-03-19T15:05:12.496Z"
   },
   {
    "duration": 117,
    "start_time": "2022-03-19T15:05:12.523Z"
   },
   {
    "duration": 81,
    "start_time": "2022-03-19T15:05:12.643Z"
   },
   {
    "duration": 84,
    "start_time": "2022-03-19T15:05:12.727Z"
   },
   {
    "duration": 6,
    "start_time": "2022-03-19T15:05:12.814Z"
   },
   {
    "duration": 14,
    "start_time": "2022-03-19T15:05:12.823Z"
   },
   {
    "duration": 6,
    "start_time": "2022-03-19T15:05:12.840Z"
   },
   {
    "duration": 8,
    "start_time": "2022-03-19T15:05:12.883Z"
   },
   {
    "duration": 319,
    "start_time": "2022-03-19T15:05:12.894Z"
   },
   {
    "duration": 74,
    "start_time": "2022-03-19T15:05:13.216Z"
   },
   {
    "duration": 28,
    "start_time": "2022-03-19T15:05:13.294Z"
   },
   {
    "duration": 63,
    "start_time": "2022-03-19T15:05:13.324Z"
   },
   {
    "duration": 16,
    "start_time": "2022-03-19T15:05:13.390Z"
   },
   {
    "duration": 0,
    "start_time": "2022-03-19T15:05:13.408Z"
   },
   {
    "duration": 37,
    "start_time": "2022-03-19T15:05:51.175Z"
   },
   {
    "duration": 31,
    "start_time": "2022-03-19T15:06:56.454Z"
   },
   {
    "duration": 95,
    "start_time": "2022-03-19T15:08:56.391Z"
   },
   {
    "duration": 60,
    "start_time": "2022-03-19T15:13:06.102Z"
   },
   {
    "duration": 46,
    "start_time": "2022-03-19T15:16:14.180Z"
   },
   {
    "duration": 54,
    "start_time": "2022-03-19T15:17:18.553Z"
   },
   {
    "duration": 76,
    "start_time": "2022-03-19T15:17:38.513Z"
   },
   {
    "duration": 34,
    "start_time": "2022-03-19T15:18:13.371Z"
   },
   {
    "duration": 16,
    "start_time": "2022-03-19T15:19:08.579Z"
   },
   {
    "duration": 16,
    "start_time": "2022-03-19T15:20:25.436Z"
   },
   {
    "duration": 14,
    "start_time": "2022-03-19T15:21:27.912Z"
   },
   {
    "duration": 15,
    "start_time": "2022-03-19T15:21:42.572Z"
   },
   {
    "duration": 7,
    "start_time": "2022-03-19T15:22:37.686Z"
   },
   {
    "duration": 4,
    "start_time": "2022-03-19T15:22:42.929Z"
   },
   {
    "duration": 231,
    "start_time": "2022-03-19T15:22:42.936Z"
   },
   {
    "duration": 13,
    "start_time": "2022-03-19T15:22:43.170Z"
   },
   {
    "duration": 61,
    "start_time": "2022-03-19T15:22:43.186Z"
   },
   {
    "duration": 31,
    "start_time": "2022-03-19T15:22:43.251Z"
   },
   {
    "duration": 162,
    "start_time": "2022-03-19T15:22:43.284Z"
   },
   {
    "duration": 13,
    "start_time": "2022-03-19T15:22:43.449Z"
   },
   {
    "duration": 54,
    "start_time": "2022-03-19T15:22:43.465Z"
   },
   {
    "duration": 117,
    "start_time": "2022-03-19T15:22:43.522Z"
   },
   {
    "duration": 12,
    "start_time": "2022-03-19T15:22:43.641Z"
   },
   {
    "duration": 43,
    "start_time": "2022-03-19T15:22:43.655Z"
   },
   {
    "duration": 11,
    "start_time": "2022-03-19T15:22:43.700Z"
   },
   {
    "duration": 12,
    "start_time": "2022-03-19T15:22:43.713Z"
   },
   {
    "duration": 15,
    "start_time": "2022-03-19T15:22:43.730Z"
   },
   {
    "duration": 72,
    "start_time": "2022-03-19T15:22:43.748Z"
   },
   {
    "duration": 15,
    "start_time": "2022-03-19T15:22:43.823Z"
   },
   {
    "duration": 18,
    "start_time": "2022-03-19T15:22:43.840Z"
   },
   {
    "duration": 24,
    "start_time": "2022-03-19T15:22:43.861Z"
   },
   {
    "duration": 106,
    "start_time": "2022-03-19T15:22:43.887Z"
   },
   {
    "duration": 63,
    "start_time": "2022-03-19T15:22:43.995Z"
   },
   {
    "duration": 86,
    "start_time": "2022-03-19T15:22:44.061Z"
   },
   {
    "duration": 6,
    "start_time": "2022-03-19T15:22:44.149Z"
   },
   {
    "duration": 32,
    "start_time": "2022-03-19T15:22:44.158Z"
   },
   {
    "duration": 5,
    "start_time": "2022-03-19T15:22:44.193Z"
   },
   {
    "duration": 10,
    "start_time": "2022-03-19T15:22:44.200Z"
   },
   {
    "duration": 319,
    "start_time": "2022-03-19T15:22:44.212Z"
   },
   {
    "duration": 104,
    "start_time": "2022-03-19T15:22:44.533Z"
   },
   {
    "duration": 47,
    "start_time": "2022-03-19T15:22:44.639Z"
   },
   {
    "duration": 36,
    "start_time": "2022-03-19T15:22:44.688Z"
   },
   {
    "duration": 62,
    "start_time": "2022-03-19T15:22:44.727Z"
   },
   {
    "duration": 38,
    "start_time": "2022-03-19T15:22:44.791Z"
   },
   {
    "duration": 11,
    "start_time": "2022-03-19T15:24:34.171Z"
   },
   {
    "duration": 11,
    "start_time": "2022-03-19T15:24:52.347Z"
   },
   {
    "duration": 17,
    "start_time": "2022-03-19T15:29:24.406Z"
   },
   {
    "duration": 5,
    "start_time": "2022-03-19T15:29:49.646Z"
   },
   {
    "duration": 5,
    "start_time": "2022-03-19T15:30:04.172Z"
   },
   {
    "duration": 4,
    "start_time": "2022-03-19T15:34:14.926Z"
   },
   {
    "duration": 9,
    "start_time": "2022-03-19T15:34:22.842Z"
   },
   {
    "duration": 139,
    "start_time": "2022-03-19T17:43:56.181Z"
   },
   {
    "duration": 148,
    "start_time": "2022-03-19T17:44:03.442Z"
   },
   {
    "duration": 29,
    "start_time": "2022-03-19T17:44:17.086Z"
   },
   {
    "duration": 38,
    "start_time": "2022-03-19T17:44:41.494Z"
   },
   {
    "duration": 37,
    "start_time": "2022-03-19T17:45:05.511Z"
   },
   {
    "duration": 40,
    "start_time": "2022-03-19T17:45:17.443Z"
   },
   {
    "duration": 5,
    "start_time": "2022-03-19T17:47:02.335Z"
   },
   {
    "duration": 271,
    "start_time": "2022-03-19T17:47:02.343Z"
   },
   {
    "duration": 17,
    "start_time": "2022-03-19T17:47:02.617Z"
   },
   {
    "duration": 64,
    "start_time": "2022-03-19T17:47:02.637Z"
   },
   {
    "duration": 31,
    "start_time": "2022-03-19T17:47:02.704Z"
   },
   {
    "duration": 165,
    "start_time": "2022-03-19T17:47:02.738Z"
   },
   {
    "duration": 13,
    "start_time": "2022-03-19T17:47:02.905Z"
   },
   {
    "duration": 46,
    "start_time": "2022-03-19T17:47:02.921Z"
   },
   {
    "duration": 111,
    "start_time": "2022-03-19T17:47:02.982Z"
   },
   {
    "duration": 11,
    "start_time": "2022-03-19T17:47:03.095Z"
   },
   {
    "duration": 35,
    "start_time": "2022-03-19T17:47:03.109Z"
   },
   {
    "duration": 11,
    "start_time": "2022-03-19T17:47:03.146Z"
   },
   {
    "duration": 28,
    "start_time": "2022-03-19T17:47:03.159Z"
   },
   {
    "duration": 15,
    "start_time": "2022-03-19T17:47:03.191Z"
   },
   {
    "duration": 20,
    "start_time": "2022-03-19T17:47:03.208Z"
   },
   {
    "duration": 15,
    "start_time": "2022-03-19T17:47:03.230Z"
   },
   {
    "duration": 45,
    "start_time": "2022-03-19T17:47:03.247Z"
   },
   {
    "duration": 25,
    "start_time": "2022-03-19T17:47:03.294Z"
   },
   {
    "duration": 113,
    "start_time": "2022-03-19T17:47:03.321Z"
   },
   {
    "duration": 76,
    "start_time": "2022-03-19T17:47:03.436Z"
   },
   {
    "duration": 90,
    "start_time": "2022-03-19T17:47:03.514Z"
   },
   {
    "duration": 5,
    "start_time": "2022-03-19T17:47:03.607Z"
   },
   {
    "duration": 22,
    "start_time": "2022-03-19T17:47:03.614Z"
   },
   {
    "duration": 20,
    "start_time": "2022-03-19T17:47:03.638Z"
   },
   {
    "duration": 24,
    "start_time": "2022-03-19T17:47:03.660Z"
   },
   {
    "duration": 272,
    "start_time": "2022-03-19T17:47:03.687Z"
   },
   {
    "duration": 122,
    "start_time": "2022-03-19T17:47:03.962Z"
   },
   {
    "duration": 29,
    "start_time": "2022-03-19T17:47:04.086Z"
   },
   {
    "duration": 35,
    "start_time": "2022-03-19T17:47:04.117Z"
   },
   {
    "duration": 35,
    "start_time": "2022-03-19T17:47:04.182Z"
   },
   {
    "duration": 36,
    "start_time": "2022-03-19T17:47:04.219Z"
   },
   {
    "duration": 31,
    "start_time": "2022-03-19T17:47:04.258Z"
   },
   {
    "duration": 40,
    "start_time": "2022-03-19T17:47:04.291Z"
   },
   {
    "duration": 48,
    "start_time": "2022-03-19T17:47:20.242Z"
   },
   {
    "duration": 47,
    "start_time": "2022-03-19T17:57:06.247Z"
   },
   {
    "duration": 4,
    "start_time": "2022-03-19T17:57:10.360Z"
   },
   {
    "duration": 246,
    "start_time": "2022-03-19T17:57:10.368Z"
   },
   {
    "duration": 13,
    "start_time": "2022-03-19T17:57:10.616Z"
   },
   {
    "duration": 53,
    "start_time": "2022-03-19T17:57:10.632Z"
   },
   {
    "duration": 35,
    "start_time": "2022-03-19T17:57:10.688Z"
   },
   {
    "duration": 265,
    "start_time": "2022-03-19T17:57:10.726Z"
   },
   {
    "duration": 17,
    "start_time": "2022-03-19T17:57:10.994Z"
   },
   {
    "duration": 68,
    "start_time": "2022-03-19T17:57:11.014Z"
   },
   {
    "duration": 114,
    "start_time": "2022-03-19T17:57:11.084Z"
   },
   {
    "duration": 10,
    "start_time": "2022-03-19T17:57:11.202Z"
   },
   {
    "duration": 39,
    "start_time": "2022-03-19T17:57:11.214Z"
   },
   {
    "duration": 29,
    "start_time": "2022-03-19T17:57:11.255Z"
   },
   {
    "duration": 12,
    "start_time": "2022-03-19T17:57:11.286Z"
   },
   {
    "duration": 23,
    "start_time": "2022-03-19T17:57:11.302Z"
   },
   {
    "duration": 19,
    "start_time": "2022-03-19T17:57:11.328Z"
   },
   {
    "duration": 14,
    "start_time": "2022-03-19T17:57:11.350Z"
   },
   {
    "duration": 15,
    "start_time": "2022-03-19T17:57:11.382Z"
   },
   {
    "duration": 29,
    "start_time": "2022-03-19T17:57:11.400Z"
   },
   {
    "duration": 138,
    "start_time": "2022-03-19T17:57:11.431Z"
   },
   {
    "duration": 79,
    "start_time": "2022-03-19T17:57:11.571Z"
   },
   {
    "duration": 96,
    "start_time": "2022-03-19T17:57:11.652Z"
   },
   {
    "duration": 7,
    "start_time": "2022-03-19T17:57:11.751Z"
   },
   {
    "duration": 12,
    "start_time": "2022-03-19T17:57:11.785Z"
   },
   {
    "duration": 5,
    "start_time": "2022-03-19T17:57:11.801Z"
   },
   {
    "duration": 10,
    "start_time": "2022-03-19T17:57:11.809Z"
   },
   {
    "duration": 426,
    "start_time": "2022-03-19T17:57:11.822Z"
   },
   {
    "duration": 143,
    "start_time": "2022-03-19T17:57:12.251Z"
   },
   {
    "duration": 37,
    "start_time": "2022-03-19T17:57:12.402Z"
   },
   {
    "duration": 61,
    "start_time": "2022-03-19T17:57:12.442Z"
   },
   {
    "duration": 38,
    "start_time": "2022-03-19T17:57:12.506Z"
   },
   {
    "duration": 62,
    "start_time": "2022-03-19T17:57:12.547Z"
   },
   {
    "duration": 9,
    "start_time": "2022-03-19T17:57:12.611Z"
   },
   {
    "duration": 77,
    "start_time": "2022-03-19T17:57:12.622Z"
   },
   {
    "duration": 52,
    "start_time": "2022-03-19T17:57:41.825Z"
   },
   {
    "duration": 51,
    "start_time": "2022-03-19T18:04:58.469Z"
   },
   {
    "duration": 60,
    "start_time": "2022-03-19T18:11:33.082Z"
   },
   {
    "duration": 58,
    "start_time": "2022-03-19T18:11:47.942Z"
   },
   {
    "duration": 12,
    "start_time": "2022-03-19T18:14:15.731Z"
   },
   {
    "duration": 7,
    "start_time": "2022-03-19T18:16:14.645Z"
   },
   {
    "duration": 46,
    "start_time": "2022-03-19T18:16:39.564Z"
   },
   {
    "duration": 42,
    "start_time": "2022-03-19T18:16:46.374Z"
   },
   {
    "duration": 15,
    "start_time": "2022-03-19T18:16:55.034Z"
   },
   {
    "duration": 11,
    "start_time": "2022-03-19T18:17:10.663Z"
   },
   {
    "duration": 11,
    "start_time": "2022-03-19T18:17:13.221Z"
   },
   {
    "duration": 4,
    "start_time": "2022-03-19T18:17:16.074Z"
   },
   {
    "duration": 191,
    "start_time": "2022-03-19T18:17:16.081Z"
   },
   {
    "duration": 14,
    "start_time": "2022-03-19T18:17:16.275Z"
   },
   {
    "duration": 33,
    "start_time": "2022-03-19T18:17:16.292Z"
   },
   {
    "duration": 56,
    "start_time": "2022-03-19T18:17:16.327Z"
   },
   {
    "duration": 163,
    "start_time": "2022-03-19T18:17:16.386Z"
   },
   {
    "duration": 12,
    "start_time": "2022-03-19T18:17:16.551Z"
   },
   {
    "duration": 59,
    "start_time": "2022-03-19T18:17:16.565Z"
   },
   {
    "duration": 111,
    "start_time": "2022-03-19T18:17:16.626Z"
   },
   {
    "duration": 11,
    "start_time": "2022-03-19T18:17:16.742Z"
   },
   {
    "duration": 44,
    "start_time": "2022-03-19T18:17:16.756Z"
   },
   {
    "duration": 12,
    "start_time": "2022-03-19T18:17:16.803Z"
   },
   {
    "duration": 11,
    "start_time": "2022-03-19T18:17:16.817Z"
   },
   {
    "duration": 15,
    "start_time": "2022-03-19T18:17:16.830Z"
   },
   {
    "duration": 51,
    "start_time": "2022-03-19T18:17:16.847Z"
   },
   {
    "duration": 14,
    "start_time": "2022-03-19T18:17:16.900Z"
   },
   {
    "duration": 17,
    "start_time": "2022-03-19T18:17:16.916Z"
   },
   {
    "duration": 22,
    "start_time": "2022-03-19T18:17:16.935Z"
   },
   {
    "duration": 102,
    "start_time": "2022-03-19T18:17:16.982Z"
   },
   {
    "duration": 60,
    "start_time": "2022-03-19T18:17:17.087Z"
   },
   {
    "duration": 90,
    "start_time": "2022-03-19T18:17:17.150Z"
   },
   {
    "duration": 6,
    "start_time": "2022-03-19T18:17:17.242Z"
   },
   {
    "duration": 11,
    "start_time": "2022-03-19T18:17:17.250Z"
   },
   {
    "duration": 5,
    "start_time": "2022-03-19T18:17:17.283Z"
   },
   {
    "duration": 9,
    "start_time": "2022-03-19T18:17:17.290Z"
   },
   {
    "duration": 334,
    "start_time": "2022-03-19T18:17:17.302Z"
   },
   {
    "duration": 102,
    "start_time": "2022-03-19T18:17:17.638Z"
   },
   {
    "duration": 44,
    "start_time": "2022-03-19T18:17:17.746Z"
   },
   {
    "duration": 35,
    "start_time": "2022-03-19T18:17:17.792Z"
   },
   {
    "duration": 60,
    "start_time": "2022-03-19T18:17:17.830Z"
   },
   {
    "duration": 34,
    "start_time": "2022-03-19T18:17:17.893Z"
   },
   {
    "duration": 9,
    "start_time": "2022-03-19T18:17:17.929Z"
   },
   {
    "duration": 66,
    "start_time": "2022-03-19T18:17:17.940Z"
   },
   {
    "duration": 12,
    "start_time": "2022-03-19T18:17:18.009Z"
   },
   {
    "duration": 11,
    "start_time": "2022-03-19T18:17:45.220Z"
   },
   {
    "duration": 11,
    "start_time": "2022-03-19T18:18:12.689Z"
   },
   {
    "duration": 10,
    "start_time": "2022-03-19T18:19:54.862Z"
   },
   {
    "duration": 11,
    "start_time": "2022-03-19T18:19:56.739Z"
   },
   {
    "duration": 10,
    "start_time": "2022-03-19T18:23:24.475Z"
   },
   {
    "duration": 4,
    "start_time": "2022-03-19T18:23:27.634Z"
   },
   {
    "duration": 183,
    "start_time": "2022-03-19T18:23:27.641Z"
   },
   {
    "duration": 12,
    "start_time": "2022-03-19T18:23:27.827Z"
   },
   {
    "duration": 51,
    "start_time": "2022-03-19T18:23:27.841Z"
   },
   {
    "duration": 31,
    "start_time": "2022-03-19T18:23:27.896Z"
   },
   {
    "duration": 168,
    "start_time": "2022-03-19T18:23:27.929Z"
   },
   {
    "duration": 12,
    "start_time": "2022-03-19T18:23:28.099Z"
   },
   {
    "duration": 43,
    "start_time": "2022-03-19T18:23:28.113Z"
   },
   {
    "duration": 136,
    "start_time": "2022-03-19T18:23:28.158Z"
   },
   {
    "duration": 10,
    "start_time": "2022-03-19T18:23:28.296Z"
   },
   {
    "duration": 27,
    "start_time": "2022-03-19T18:23:28.308Z"
   },
   {
    "duration": 10,
    "start_time": "2022-03-19T18:23:28.338Z"
   },
   {
    "duration": 34,
    "start_time": "2022-03-19T18:23:28.350Z"
   },
   {
    "duration": 15,
    "start_time": "2022-03-19T18:23:28.390Z"
   },
   {
    "duration": 18,
    "start_time": "2022-03-19T18:23:28.408Z"
   },
   {
    "duration": 16,
    "start_time": "2022-03-19T18:23:28.428Z"
   },
   {
    "duration": 48,
    "start_time": "2022-03-19T18:23:28.446Z"
   },
   {
    "duration": 25,
    "start_time": "2022-03-19T18:23:28.497Z"
   },
   {
    "duration": 118,
    "start_time": "2022-03-19T18:23:28.524Z"
   },
   {
    "duration": 76,
    "start_time": "2022-03-19T18:23:28.645Z"
   },
   {
    "duration": 89,
    "start_time": "2022-03-19T18:23:28.724Z"
   },
   {
    "duration": 6,
    "start_time": "2022-03-19T18:23:28.815Z"
   },
   {
    "duration": 17,
    "start_time": "2022-03-19T18:23:28.823Z"
   },
   {
    "duration": 4,
    "start_time": "2022-03-19T18:23:28.842Z"
   },
   {
    "duration": 35,
    "start_time": "2022-03-19T18:23:28.848Z"
   },
   {
    "duration": 279,
    "start_time": "2022-03-19T18:23:28.885Z"
   },
   {
    "duration": 102,
    "start_time": "2022-03-19T18:23:29.166Z"
   },
   {
    "duration": 29,
    "start_time": "2022-03-19T18:23:29.283Z"
   },
   {
    "duration": 42,
    "start_time": "2022-03-19T18:23:29.314Z"
   },
   {
    "duration": 56,
    "start_time": "2022-03-19T18:23:29.358Z"
   },
   {
    "duration": 36,
    "start_time": "2022-03-19T18:23:29.416Z"
   },
   {
    "duration": 34,
    "start_time": "2022-03-19T18:23:29.454Z"
   },
   {
    "duration": 55,
    "start_time": "2022-03-19T18:23:29.490Z"
   },
   {
    "duration": 7,
    "start_time": "2022-03-19T18:23:29.548Z"
   },
   {
    "duration": 30,
    "start_time": "2022-03-19T18:23:41.398Z"
   },
   {
    "duration": 10,
    "start_time": "2022-03-19T18:31:09.342Z"
   },
   {
    "duration": 48,
    "start_time": "2022-03-19T18:33:06.524Z"
   },
   {
    "duration": 3,
    "start_time": "2022-03-19T18:33:24.708Z"
   },
   {
    "duration": 183,
    "start_time": "2022-03-19T18:33:24.714Z"
   },
   {
    "duration": 12,
    "start_time": "2022-03-19T18:33:24.899Z"
   },
   {
    "duration": 35,
    "start_time": "2022-03-19T18:33:24.913Z"
   },
   {
    "duration": 57,
    "start_time": "2022-03-19T18:33:24.952Z"
   },
   {
    "duration": 171,
    "start_time": "2022-03-19T18:33:25.011Z"
   },
   {
    "duration": 14,
    "start_time": "2022-03-19T18:33:25.186Z"
   },
   {
    "duration": 43,
    "start_time": "2022-03-19T18:33:25.203Z"
   },
   {
    "duration": 134,
    "start_time": "2022-03-19T18:33:25.248Z"
   },
   {
    "duration": 12,
    "start_time": "2022-03-19T18:33:25.384Z"
   },
   {
    "duration": 28,
    "start_time": "2022-03-19T18:33:25.399Z"
   },
   {
    "duration": 12,
    "start_time": "2022-03-19T18:33:25.429Z"
   },
   {
    "duration": 12,
    "start_time": "2022-03-19T18:33:25.483Z"
   },
   {
    "duration": 18,
    "start_time": "2022-03-19T18:33:25.499Z"
   },
   {
    "duration": 20,
    "start_time": "2022-03-19T18:33:25.520Z"
   },
   {
    "duration": 43,
    "start_time": "2022-03-19T18:33:25.542Z"
   },
   {
    "duration": 18,
    "start_time": "2022-03-19T18:33:25.587Z"
   },
   {
    "duration": 26,
    "start_time": "2022-03-19T18:33:25.607Z"
   },
   {
    "duration": 116,
    "start_time": "2022-03-19T18:33:25.636Z"
   },
   {
    "duration": 76,
    "start_time": "2022-03-19T18:33:25.755Z"
   },
   {
    "duration": 89,
    "start_time": "2022-03-19T18:33:25.833Z"
   },
   {
    "duration": 6,
    "start_time": "2022-03-19T18:33:25.925Z"
   },
   {
    "duration": 14,
    "start_time": "2022-03-19T18:33:25.933Z"
   },
   {
    "duration": 5,
    "start_time": "2022-03-19T18:33:25.950Z"
   },
   {
    "duration": 8,
    "start_time": "2022-03-19T18:33:25.981Z"
   },
   {
    "duration": 308,
    "start_time": "2022-03-19T18:33:25.991Z"
   },
   {
    "duration": 104,
    "start_time": "2022-03-19T18:33:26.302Z"
   },
   {
    "duration": 30,
    "start_time": "2022-03-19T18:33:26.409Z"
   },
   {
    "duration": 58,
    "start_time": "2022-03-19T18:33:26.442Z"
   },
   {
    "duration": 36,
    "start_time": "2022-03-19T18:33:26.503Z"
   },
   {
    "duration": 10,
    "start_time": "2022-03-19T18:33:26.542Z"
   },
   {
    "duration": 0,
    "start_time": "2022-03-19T18:33:26.582Z"
   },
   {
    "duration": 0,
    "start_time": "2022-03-19T18:33:26.584Z"
   },
   {
    "duration": 0,
    "start_time": "2022-03-19T18:33:26.586Z"
   },
   {
    "duration": 0,
    "start_time": "2022-03-19T18:33:26.588Z"
   },
   {
    "duration": 8,
    "start_time": "2022-03-19T18:33:45.697Z"
   },
   {
    "duration": 36,
    "start_time": "2022-03-19T18:33:59.760Z"
   },
   {
    "duration": 9,
    "start_time": "2022-03-19T18:33:59.799Z"
   },
   {
    "duration": 47,
    "start_time": "2022-03-19T18:33:59.811Z"
   },
   {
    "duration": 51,
    "start_time": "2022-03-19T18:33:59.861Z"
   },
   {
    "duration": 12,
    "start_time": "2022-03-19T18:51:38.403Z"
   },
   {
    "duration": 159,
    "start_time": "2022-03-19T19:25:39.389Z"
   },
   {
    "duration": 170,
    "start_time": "2022-03-19T19:26:04.000Z"
   },
   {
    "duration": 4,
    "start_time": "2022-03-19T19:26:53.989Z"
   },
   {
    "duration": 202,
    "start_time": "2022-03-19T19:26:53.996Z"
   },
   {
    "duration": 12,
    "start_time": "2022-03-19T19:26:54.200Z"
   },
   {
    "duration": 32,
    "start_time": "2022-03-19T19:26:54.215Z"
   },
   {
    "duration": 58,
    "start_time": "2022-03-19T19:26:54.249Z"
   },
   {
    "duration": 157,
    "start_time": "2022-03-19T19:26:54.310Z"
   },
   {
    "duration": 16,
    "start_time": "2022-03-19T19:26:54.469Z"
   },
   {
    "duration": 42,
    "start_time": "2022-03-19T19:26:54.487Z"
   },
   {
    "duration": 116,
    "start_time": "2022-03-19T19:26:54.533Z"
   },
   {
    "duration": 11,
    "start_time": "2022-03-19T19:26:54.653Z"
   },
   {
    "duration": 25,
    "start_time": "2022-03-19T19:26:54.681Z"
   },
   {
    "duration": 11,
    "start_time": "2022-03-19T19:26:54.708Z"
   },
   {
    "duration": 11,
    "start_time": "2022-03-19T19:26:54.721Z"
   },
   {
    "duration": 16,
    "start_time": "2022-03-19T19:26:54.734Z"
   },
   {
    "duration": 18,
    "start_time": "2022-03-19T19:26:54.783Z"
   },
   {
    "duration": 14,
    "start_time": "2022-03-19T19:26:54.803Z"
   },
   {
    "duration": 22,
    "start_time": "2022-03-19T19:26:54.819Z"
   },
   {
    "duration": 49,
    "start_time": "2022-03-19T19:26:54.843Z"
   },
   {
    "duration": 107,
    "start_time": "2022-03-19T19:26:54.894Z"
   },
   {
    "duration": 88,
    "start_time": "2022-03-19T19:26:55.003Z"
   },
   {
    "duration": 95,
    "start_time": "2022-03-19T19:26:55.093Z"
   },
   {
    "duration": 5,
    "start_time": "2022-03-19T19:26:55.190Z"
   },
   {
    "duration": 12,
    "start_time": "2022-03-19T19:26:55.197Z"
   },
   {
    "duration": 4,
    "start_time": "2022-03-19T19:26:55.212Z"
   },
   {
    "duration": 8,
    "start_time": "2022-03-19T19:26:55.218Z"
   },
   {
    "duration": 312,
    "start_time": "2022-03-19T19:26:55.228Z"
   },
   {
    "duration": 109,
    "start_time": "2022-03-19T19:26:55.542Z"
   },
   {
    "duration": 42,
    "start_time": "2022-03-19T19:26:55.658Z"
   },
   {
    "duration": 37,
    "start_time": "2022-03-19T19:26:55.703Z"
   },
   {
    "duration": 69,
    "start_time": "2022-03-19T19:26:55.742Z"
   },
   {
    "duration": 9,
    "start_time": "2022-03-19T19:26:55.814Z"
   },
   {
    "duration": 59,
    "start_time": "2022-03-19T19:26:55.825Z"
   },
   {
    "duration": 10,
    "start_time": "2022-03-19T19:26:55.886Z"
   },
   {
    "duration": 49,
    "start_time": "2022-03-19T19:26:55.899Z"
   },
   {
    "duration": 54,
    "start_time": "2022-03-19T19:26:55.950Z"
   },
   {
    "duration": 11,
    "start_time": "2022-03-19T19:26:56.007Z"
   },
   {
    "duration": 154,
    "start_time": "2022-03-19T19:26:56.021Z"
   },
   {
    "duration": 0,
    "start_time": "2022-03-19T19:26:56.178Z"
   },
   {
    "duration": 175,
    "start_time": "2022-03-19T19:33:10.556Z"
   },
   {
    "duration": 10,
    "start_time": "2022-03-19T19:33:34.602Z"
   },
   {
    "duration": 19,
    "start_time": "2022-03-19T19:35:02.429Z"
   },
   {
    "duration": 27,
    "start_time": "2022-03-19T19:35:20.591Z"
   },
   {
    "duration": 24,
    "start_time": "2022-03-19T19:36:17.445Z"
   },
   {
    "duration": 3105,
    "start_time": "2022-03-19T19:39:17.371Z"
   },
   {
    "duration": 20,
    "start_time": "2022-03-19T19:44:36.083Z"
   },
   {
    "duration": 20,
    "start_time": "2022-03-19T19:44:46.526Z"
   },
   {
    "duration": 16,
    "start_time": "2022-03-19T19:47:40.267Z"
   },
   {
    "duration": 10,
    "start_time": "2022-03-19T19:49:05.502Z"
   },
   {
    "duration": 9,
    "start_time": "2022-03-19T19:50:01.194Z"
   },
   {
    "duration": 20,
    "start_time": "2022-03-19T19:50:18.829Z"
   },
   {
    "duration": 16,
    "start_time": "2022-03-19T19:51:33.927Z"
   },
   {
    "duration": 9,
    "start_time": "2022-03-19T19:51:48.369Z"
   },
   {
    "duration": 4,
    "start_time": "2022-03-19T19:51:57.098Z"
   },
   {
    "duration": 186,
    "start_time": "2022-03-19T19:51:57.107Z"
   },
   {
    "duration": 12,
    "start_time": "2022-03-19T19:51:57.296Z"
   },
   {
    "duration": 35,
    "start_time": "2022-03-19T19:51:57.310Z"
   },
   {
    "duration": 57,
    "start_time": "2022-03-19T19:51:57.348Z"
   },
   {
    "duration": 160,
    "start_time": "2022-03-19T19:51:57.407Z"
   },
   {
    "duration": 15,
    "start_time": "2022-03-19T19:51:57.570Z"
   },
   {
    "duration": 42,
    "start_time": "2022-03-19T19:51:57.587Z"
   },
   {
    "duration": 121,
    "start_time": "2022-03-19T19:51:57.631Z"
   },
   {
    "duration": 12,
    "start_time": "2022-03-19T19:51:57.754Z"
   },
   {
    "duration": 34,
    "start_time": "2022-03-19T19:51:57.772Z"
   },
   {
    "duration": 12,
    "start_time": "2022-03-19T19:51:57.809Z"
   },
   {
    "duration": 12,
    "start_time": "2022-03-19T19:51:57.823Z"
   },
   {
    "duration": 49,
    "start_time": "2022-03-19T19:51:57.838Z"
   },
   {
    "duration": 19,
    "start_time": "2022-03-19T19:51:57.889Z"
   },
   {
    "duration": 14,
    "start_time": "2022-03-19T19:51:57.911Z"
   },
   {
    "duration": 16,
    "start_time": "2022-03-19T19:51:57.927Z"
   },
   {
    "duration": 53,
    "start_time": "2022-03-19T19:51:57.945Z"
   },
   {
    "duration": 99,
    "start_time": "2022-03-19T19:51:58.000Z"
   },
   {
    "duration": 63,
    "start_time": "2022-03-19T19:51:58.101Z"
   },
   {
    "duration": 83,
    "start_time": "2022-03-19T19:51:58.166Z"
   },
   {
    "duration": 6,
    "start_time": "2022-03-19T19:51:58.251Z"
   },
   {
    "duration": 10,
    "start_time": "2022-03-19T19:51:58.282Z"
   },
   {
    "duration": 4,
    "start_time": "2022-03-19T19:51:58.294Z"
   },
   {
    "duration": 8,
    "start_time": "2022-03-19T19:51:58.300Z"
   },
   {
    "duration": 313,
    "start_time": "2022-03-19T19:51:58.311Z"
   },
   {
    "duration": 102,
    "start_time": "2022-03-19T19:51:58.627Z"
   },
   {
    "duration": 29,
    "start_time": "2022-03-19T19:51:58.731Z"
   },
   {
    "duration": 51,
    "start_time": "2022-03-19T19:51:58.764Z"
   },
   {
    "duration": 35,
    "start_time": "2022-03-19T19:51:58.817Z"
   },
   {
    "duration": 32,
    "start_time": "2022-03-19T19:51:58.854Z"
   },
   {
    "duration": 37,
    "start_time": "2022-03-19T19:51:58.888Z"
   },
   {
    "duration": 9,
    "start_time": "2022-03-19T19:51:58.927Z"
   },
   {
    "duration": 73,
    "start_time": "2022-03-19T19:51:58.938Z"
   },
   {
    "duration": 30,
    "start_time": "2022-03-19T19:51:59.014Z"
   },
   {
    "duration": 10,
    "start_time": "2022-03-19T19:51:59.047Z"
   },
   {
    "duration": 20,
    "start_time": "2022-03-19T19:51:59.083Z"
   },
   {
    "duration": 8,
    "start_time": "2022-03-19T19:51:59.105Z"
   },
   {
    "duration": 25,
    "start_time": "2022-03-19T19:51:59.115Z"
   },
   {
    "duration": 58,
    "start_time": "2022-03-19T19:51:59.143Z"
   },
   {
    "duration": 0,
    "start_time": "2022-03-19T19:51:59.204Z"
   },
   {
    "duration": 5,
    "start_time": "2022-03-19T19:54:07.036Z"
   },
   {
    "duration": 8,
    "start_time": "2022-03-19T19:55:09.960Z"
   },
   {
    "duration": 33,
    "start_time": "2022-03-19T19:55:59.498Z"
   },
   {
    "duration": 4,
    "start_time": "2022-03-19T19:56:36.259Z"
   },
   {
    "duration": 198,
    "start_time": "2022-03-19T19:56:36.266Z"
   },
   {
    "duration": 17,
    "start_time": "2022-03-19T19:56:36.467Z"
   },
   {
    "duration": 35,
    "start_time": "2022-03-19T19:56:36.486Z"
   },
   {
    "duration": 65,
    "start_time": "2022-03-19T19:56:36.524Z"
   },
   {
    "duration": 160,
    "start_time": "2022-03-19T19:56:36.591Z"
   },
   {
    "duration": 13,
    "start_time": "2022-03-19T19:56:36.753Z"
   },
   {
    "duration": 42,
    "start_time": "2022-03-19T19:56:36.783Z"
   },
   {
    "duration": 123,
    "start_time": "2022-03-19T19:56:36.828Z"
   },
   {
    "duration": 11,
    "start_time": "2022-03-19T19:56:36.953Z"
   },
   {
    "duration": 39,
    "start_time": "2022-03-19T19:56:36.967Z"
   },
   {
    "duration": 12,
    "start_time": "2022-03-19T19:56:37.009Z"
   },
   {
    "duration": 17,
    "start_time": "2022-03-19T19:56:37.025Z"
   },
   {
    "duration": 45,
    "start_time": "2022-03-19T19:56:37.048Z"
   },
   {
    "duration": 19,
    "start_time": "2022-03-19T19:56:37.095Z"
   },
   {
    "duration": 14,
    "start_time": "2022-03-19T19:56:37.116Z"
   },
   {
    "duration": 18,
    "start_time": "2022-03-19T19:56:37.132Z"
   },
   {
    "duration": 50,
    "start_time": "2022-03-19T19:56:37.152Z"
   },
   {
    "duration": 124,
    "start_time": "2022-03-19T19:56:37.204Z"
   },
   {
    "duration": 81,
    "start_time": "2022-03-19T19:56:37.330Z"
   },
   {
    "duration": 87,
    "start_time": "2022-03-19T19:56:37.414Z"
   },
   {
    "duration": 7,
    "start_time": "2022-03-19T19:56:37.504Z"
   },
   {
    "duration": 13,
    "start_time": "2022-03-19T19:56:37.513Z"
   },
   {
    "duration": 5,
    "start_time": "2022-03-19T19:56:37.528Z"
   },
   {
    "duration": 47,
    "start_time": "2022-03-19T19:56:37.536Z"
   },
   {
    "duration": 281,
    "start_time": "2022-03-19T19:56:37.586Z"
   },
   {
    "duration": 114,
    "start_time": "2022-03-19T19:56:37.870Z"
   },
   {
    "duration": 28,
    "start_time": "2022-03-19T19:56:37.987Z"
   },
   {
    "duration": 35,
    "start_time": "2022-03-19T19:56:38.017Z"
   },
   {
    "duration": 37,
    "start_time": "2022-03-19T19:56:38.082Z"
   },
   {
    "duration": 8,
    "start_time": "2022-03-19T19:56:38.121Z"
   },
   {
    "duration": 65,
    "start_time": "2022-03-19T19:56:38.131Z"
   },
   {
    "duration": 10,
    "start_time": "2022-03-19T19:56:38.199Z"
   },
   {
    "duration": 58,
    "start_time": "2022-03-19T19:56:38.211Z"
   },
   {
    "duration": 33,
    "start_time": "2022-03-19T19:56:38.283Z"
   },
   {
    "duration": 11,
    "start_time": "2022-03-19T19:56:38.318Z"
   },
   {
    "duration": 22,
    "start_time": "2022-03-19T19:56:38.331Z"
   },
   {
    "duration": 22,
    "start_time": "2022-03-19T19:56:38.381Z"
   },
   {
    "duration": 53,
    "start_time": "2022-03-19T19:56:38.405Z"
   },
   {
    "duration": 34,
    "start_time": "2022-03-19T19:56:38.460Z"
   },
   {
    "duration": 0,
    "start_time": "2022-03-19T19:56:38.498Z"
   },
   {
    "duration": 11,
    "start_time": "2022-03-19T19:57:19.312Z"
   },
   {
    "duration": 8,
    "start_time": "2022-03-19T19:59:26.783Z"
   },
   {
    "duration": 20,
    "start_time": "2022-03-19T19:59:49.411Z"
   },
   {
    "duration": 6,
    "start_time": "2022-03-19T19:59:59.078Z"
   },
   {
    "duration": 25,
    "start_time": "2022-03-19T20:00:11.509Z"
   },
   {
    "duration": 101,
    "start_time": "2022-03-19T20:01:22.435Z"
   },
   {
    "duration": 11,
    "start_time": "2022-03-19T20:02:52.364Z"
   },
   {
    "duration": 107,
    "start_time": "2022-03-19T20:04:56.024Z"
   },
   {
    "duration": 110,
    "start_time": "2022-03-19T20:05:36.587Z"
   },
   {
    "duration": 110,
    "start_time": "2022-03-19T20:06:53.069Z"
   },
   {
    "duration": 111,
    "start_time": "2022-03-19T20:07:08.159Z"
   },
   {
    "duration": 110,
    "start_time": "2022-03-19T20:07:54.511Z"
   },
   {
    "duration": 102,
    "start_time": "2022-03-20T13:17:46.981Z"
   },
   {
    "duration": 67,
    "start_time": "2022-03-20T13:17:54.845Z"
   },
   {
    "duration": 9,
    "start_time": "2022-03-20T13:19:03.241Z"
   },
   {
    "duration": 1717,
    "start_time": "2022-03-20T13:22:38.036Z"
   },
   {
    "duration": 335,
    "start_time": "2022-03-20T13:22:39.757Z"
   },
   {
    "duration": 23,
    "start_time": "2022-03-20T13:22:40.095Z"
   },
   {
    "duration": 66,
    "start_time": "2022-03-20T13:22:40.121Z"
   },
   {
    "duration": 35,
    "start_time": "2022-03-20T13:22:40.189Z"
   },
   {
    "duration": 191,
    "start_time": "2022-03-20T13:22:40.226Z"
   },
   {
    "duration": 14,
    "start_time": "2022-03-20T13:22:40.419Z"
   },
   {
    "duration": 62,
    "start_time": "2022-03-20T13:22:40.436Z"
   },
   {
    "duration": 127,
    "start_time": "2022-03-20T13:22:40.500Z"
   },
   {
    "duration": 10,
    "start_time": "2022-03-20T13:22:40.633Z"
   },
   {
    "duration": 41,
    "start_time": "2022-03-20T13:22:40.645Z"
   },
   {
    "duration": 12,
    "start_time": "2022-03-20T13:22:40.688Z"
   },
   {
    "duration": 12,
    "start_time": "2022-03-20T13:22:40.703Z"
   },
   {
    "duration": 17,
    "start_time": "2022-03-20T13:22:40.717Z"
   },
   {
    "duration": 21,
    "start_time": "2022-03-20T13:22:40.737Z"
   },
   {
    "duration": 36,
    "start_time": "2022-03-20T13:22:40.760Z"
   },
   {
    "duration": 17,
    "start_time": "2022-03-20T13:22:40.798Z"
   },
   {
    "duration": 28,
    "start_time": "2022-03-20T13:22:40.817Z"
   },
   {
    "duration": 193,
    "start_time": "2022-03-20T13:22:40.848Z"
   },
   {
    "duration": 117,
    "start_time": "2022-03-20T13:22:41.044Z"
   },
   {
    "duration": 136,
    "start_time": "2022-03-20T13:22:41.164Z"
   },
   {
    "duration": 7,
    "start_time": "2022-03-20T13:22:41.303Z"
   },
   {
    "duration": 16,
    "start_time": "2022-03-20T13:22:41.312Z"
   },
   {
    "duration": 5,
    "start_time": "2022-03-20T13:22:41.331Z"
   },
   {
    "duration": 54,
    "start_time": "2022-03-20T13:22:41.339Z"
   },
   {
    "duration": 499,
    "start_time": "2022-03-20T13:22:41.396Z"
   },
   {
    "duration": 185,
    "start_time": "2022-03-20T13:22:41.899Z"
   },
   {
    "duration": 32,
    "start_time": "2022-03-20T13:22:42.092Z"
   },
   {
    "duration": 75,
    "start_time": "2022-03-20T13:22:42.126Z"
   },
   {
    "duration": 45,
    "start_time": "2022-03-20T13:22:42.204Z"
   },
   {
    "duration": 33,
    "start_time": "2022-03-20T13:22:42.252Z"
   },
   {
    "duration": 46,
    "start_time": "2022-03-20T13:22:42.287Z"
   },
   {
    "duration": 10,
    "start_time": "2022-03-20T13:22:42.335Z"
   },
   {
    "duration": 77,
    "start_time": "2022-03-20T13:22:42.347Z"
   },
   {
    "duration": 31,
    "start_time": "2022-03-20T13:22:42.426Z"
   },
   {
    "duration": 9,
    "start_time": "2022-03-20T13:22:42.484Z"
   },
   {
    "duration": 12,
    "start_time": "2022-03-20T13:22:42.496Z"
   },
   {
    "duration": 8,
    "start_time": "2022-03-20T13:22:42.511Z"
   },
   {
    "duration": 14,
    "start_time": "2022-03-20T13:22:42.522Z"
   },
   {
    "duration": 172,
    "start_time": "2022-03-20T13:22:42.538Z"
   },
   {
    "duration": 33,
    "start_time": "2022-03-20T13:22:42.712Z"
   },
   {
    "duration": 41,
    "start_time": "2022-03-20T13:22:59.071Z"
   },
   {
    "duration": 55,
    "start_time": "2022-03-20T13:23:33.404Z"
   },
   {
    "duration": 12,
    "start_time": "2022-03-20T13:23:46.064Z"
   },
   {
    "duration": 47,
    "start_time": "2022-03-20T13:24:41.397Z"
   },
   {
    "duration": 98,
    "start_time": "2022-03-20T13:48:54.415Z"
   },
   {
    "duration": 100,
    "start_time": "2022-03-20T13:50:51.496Z"
   },
   {
    "duration": 4,
    "start_time": "2022-03-20T13:53:44.245Z"
   },
   {
    "duration": 1792,
    "start_time": "2022-03-20T13:54:42.233Z"
   },
   {
    "duration": 290,
    "start_time": "2022-03-20T13:55:11.799Z"
   },
   {
    "duration": 485,
    "start_time": "2022-03-20T13:56:13.026Z"
   },
   {
    "duration": 714,
    "start_time": "2022-03-20T14:00:20.949Z"
   },
   {
    "duration": 507,
    "start_time": "2022-03-20T14:02:12.616Z"
   },
   {
    "duration": 102,
    "start_time": "2022-03-20T14:33:14.372Z"
   },
   {
    "duration": 289,
    "start_time": "2022-03-20T14:34:31.643Z"
   },
   {
    "duration": 96,
    "start_time": "2022-03-20T14:43:23.563Z"
   },
   {
    "duration": 99,
    "start_time": "2022-03-20T14:47:42.503Z"
   },
   {
    "duration": 97,
    "start_time": "2022-03-20T14:47:50.338Z"
   },
   {
    "duration": 4,
    "start_time": "2022-03-20T14:47:53.205Z"
   },
   {
    "duration": 217,
    "start_time": "2022-03-20T14:47:53.212Z"
   },
   {
    "duration": 12,
    "start_time": "2022-03-20T14:47:53.432Z"
   },
   {
    "duration": 51,
    "start_time": "2022-03-20T14:47:53.447Z"
   },
   {
    "duration": 35,
    "start_time": "2022-03-20T14:47:53.500Z"
   },
   {
    "duration": 186,
    "start_time": "2022-03-20T14:47:53.537Z"
   },
   {
    "duration": 13,
    "start_time": "2022-03-20T14:47:53.726Z"
   },
   {
    "duration": 59,
    "start_time": "2022-03-20T14:47:53.742Z"
   },
   {
    "duration": 124,
    "start_time": "2022-03-20T14:47:53.803Z"
   },
   {
    "duration": 15,
    "start_time": "2022-03-20T14:47:53.931Z"
   },
   {
    "duration": 45,
    "start_time": "2022-03-20T14:47:53.948Z"
   },
   {
    "duration": 11,
    "start_time": "2022-03-20T14:47:53.996Z"
   },
   {
    "duration": 13,
    "start_time": "2022-03-20T14:47:54.010Z"
   },
   {
    "duration": 21,
    "start_time": "2022-03-20T14:47:54.025Z"
   },
   {
    "duration": 36,
    "start_time": "2022-03-20T14:47:54.048Z"
   },
   {
    "duration": 16,
    "start_time": "2022-03-20T14:47:54.086Z"
   },
   {
    "duration": 20,
    "start_time": "2022-03-20T14:47:54.104Z"
   },
   {
    "duration": 30,
    "start_time": "2022-03-20T14:47:54.127Z"
   },
   {
    "duration": 107,
    "start_time": "2022-03-20T14:47:54.184Z"
   },
   {
    "duration": 67,
    "start_time": "2022-03-20T14:47:54.293Z"
   },
   {
    "duration": 102,
    "start_time": "2022-03-20T14:47:54.362Z"
   },
   {
    "duration": 19,
    "start_time": "2022-03-20T14:47:54.467Z"
   },
   {
    "duration": 15,
    "start_time": "2022-03-20T14:47:54.489Z"
   },
   {
    "duration": 6,
    "start_time": "2022-03-20T14:47:54.506Z"
   },
   {
    "duration": 13,
    "start_time": "2022-03-20T14:47:54.514Z"
   },
   {
    "duration": 372,
    "start_time": "2022-03-20T14:47:54.529Z"
   },
   {
    "duration": 125,
    "start_time": "2022-03-20T14:47:54.904Z"
   },
   {
    "duration": 49,
    "start_time": "2022-03-20T14:47:55.036Z"
   },
   {
    "duration": 43,
    "start_time": "2022-03-20T14:47:55.088Z"
   },
   {
    "duration": 68,
    "start_time": "2022-03-20T14:47:55.133Z"
   },
   {
    "duration": 8,
    "start_time": "2022-03-20T14:47:55.203Z"
   },
   {
    "duration": 39,
    "start_time": "2022-03-20T14:47:55.213Z"
   },
   {
    "duration": 32,
    "start_time": "2022-03-20T14:47:55.255Z"
   },
   {
    "duration": 45,
    "start_time": "2022-03-20T14:47:55.289Z"
   },
   {
    "duration": 60,
    "start_time": "2022-03-20T14:47:55.336Z"
   },
   {
    "duration": 8,
    "start_time": "2022-03-20T14:47:55.399Z"
   },
   {
    "duration": 17,
    "start_time": "2022-03-20T14:47:55.409Z"
   },
   {
    "duration": 16,
    "start_time": "2022-03-20T14:47:55.429Z"
   },
   {
    "duration": 16,
    "start_time": "2022-03-20T14:47:55.447Z"
   },
   {
    "duration": 123,
    "start_time": "2022-03-20T14:47:55.484Z"
   },
   {
    "duration": 36,
    "start_time": "2022-03-20T14:47:55.609Z"
   },
   {
    "duration": 3,
    "start_time": "2022-03-20T14:47:55.648Z"
   },
   {
    "duration": 102,
    "start_time": "2022-03-20T14:47:55.653Z"
   },
   {
    "duration": 104,
    "start_time": "2022-03-20T14:48:11.361Z"
   },
   {
    "duration": 527,
    "start_time": "2022-03-20T14:48:34.671Z"
   },
   {
    "duration": 951,
    "start_time": "2022-03-20T14:48:41.415Z"
   },
   {
    "duration": 1194,
    "start_time": "2022-03-20T14:48:50.926Z"
   },
   {
    "duration": 962,
    "start_time": "2022-03-20T15:05:37.836Z"
   },
   {
    "duration": 967,
    "start_time": "2022-03-20T15:14:08.406Z"
   },
   {
    "duration": 889,
    "start_time": "2022-03-20T15:15:23.354Z"
   },
   {
    "duration": 797,
    "start_time": "2022-03-20T15:17:46.833Z"
   },
   {
    "duration": 858,
    "start_time": "2022-03-20T15:18:11.728Z"
   },
   {
    "duration": 863,
    "start_time": "2022-03-20T15:20:18.243Z"
   },
   {
    "duration": 910,
    "start_time": "2022-03-20T15:21:30.739Z"
   },
   {
    "duration": 764,
    "start_time": "2022-03-20T15:22:05.241Z"
   },
   {
    "duration": 980,
    "start_time": "2022-03-20T15:23:18.971Z"
   },
   {
    "duration": 904,
    "start_time": "2022-03-20T15:24:58.481Z"
   },
   {
    "duration": 812,
    "start_time": "2022-03-20T15:25:20.646Z"
   },
   {
    "duration": 779,
    "start_time": "2022-03-20T15:26:38.039Z"
   },
   {
    "duration": 782,
    "start_time": "2022-03-20T15:27:28.782Z"
   },
   {
    "duration": 954,
    "start_time": "2022-03-20T15:29:11.183Z"
   },
   {
    "duration": 883,
    "start_time": "2022-03-20T15:29:35.762Z"
   },
   {
    "duration": 803,
    "start_time": "2022-03-20T15:29:57.614Z"
   },
   {
    "duration": 967,
    "start_time": "2022-03-20T15:30:08.729Z"
   },
   {
    "duration": 823,
    "start_time": "2022-03-20T15:32:15.788Z"
   },
   {
    "duration": 609,
    "start_time": "2022-03-20T15:32:44.651Z"
   },
   {
    "duration": 823,
    "start_time": "2022-03-20T15:32:53.176Z"
   },
   {
    "duration": 811,
    "start_time": "2022-03-20T15:40:14.399Z"
   },
   {
    "duration": 1093,
    "start_time": "2022-03-20T15:40:51.435Z"
   },
   {
    "duration": 771,
    "start_time": "2022-03-20T15:43:30.716Z"
   },
   {
    "duration": 842,
    "start_time": "2022-03-20T15:43:46.164Z"
   },
   {
    "duration": 773,
    "start_time": "2022-03-20T15:46:13.547Z"
   },
   {
    "duration": 1047,
    "start_time": "2022-03-20T15:46:40.990Z"
   },
   {
    "duration": 888,
    "start_time": "2022-03-20T15:48:27.151Z"
   },
   {
    "duration": 816,
    "start_time": "2022-03-20T15:48:51.461Z"
   },
   {
    "duration": 782,
    "start_time": "2022-03-20T15:53:01.715Z"
   },
   {
    "duration": 796,
    "start_time": "2022-03-20T15:57:23.787Z"
   },
   {
    "duration": 1076,
    "start_time": "2022-03-20T17:23:17.673Z"
   },
   {
    "duration": 779,
    "start_time": "2022-03-20T17:24:39.178Z"
   },
   {
    "duration": 780,
    "start_time": "2022-03-20T17:25:10.255Z"
   },
   {
    "duration": 790,
    "start_time": "2022-03-20T17:27:53.535Z"
   },
   {
    "duration": 785,
    "start_time": "2022-03-20T17:28:16.316Z"
   },
   {
    "duration": 834,
    "start_time": "2022-03-20T17:29:05.408Z"
   },
   {
    "duration": 95,
    "start_time": "2022-03-20T17:30:47.300Z"
   },
   {
    "duration": 107,
    "start_time": "2022-03-20T17:31:01.498Z"
   },
   {
    "duration": 96,
    "start_time": "2022-03-20T17:32:12.416Z"
   },
   {
    "duration": 5,
    "start_time": "2022-03-20T17:32:20.206Z"
   },
   {
    "duration": 221,
    "start_time": "2022-03-20T17:32:20.217Z"
   },
   {
    "duration": 13,
    "start_time": "2022-03-20T17:32:20.441Z"
   },
   {
    "duration": 72,
    "start_time": "2022-03-20T17:32:20.457Z"
   },
   {
    "duration": 52,
    "start_time": "2022-03-20T17:32:20.533Z"
   },
   {
    "duration": 181,
    "start_time": "2022-03-20T17:32:20.587Z"
   },
   {
    "duration": 18,
    "start_time": "2022-03-20T17:32:20.770Z"
   },
   {
    "duration": 48,
    "start_time": "2022-03-20T17:32:20.791Z"
   },
   {
    "duration": 142,
    "start_time": "2022-03-20T17:32:20.842Z"
   },
   {
    "duration": 14,
    "start_time": "2022-03-20T17:32:20.987Z"
   },
   {
    "duration": 31,
    "start_time": "2022-03-20T17:32:21.005Z"
   },
   {
    "duration": 12,
    "start_time": "2022-03-20T17:32:21.038Z"
   },
   {
    "duration": 46,
    "start_time": "2022-03-20T17:32:21.053Z"
   },
   {
    "duration": 19,
    "start_time": "2022-03-20T17:32:21.102Z"
   },
   {
    "duration": 31,
    "start_time": "2022-03-20T17:32:21.124Z"
   },
   {
    "duration": 34,
    "start_time": "2022-03-20T17:32:21.157Z"
   },
   {
    "duration": 51,
    "start_time": "2022-03-20T17:32:21.197Z"
   },
   {
    "duration": 34,
    "start_time": "2022-03-20T17:32:21.251Z"
   },
   {
    "duration": 112,
    "start_time": "2022-03-20T17:32:21.288Z"
   },
   {
    "duration": 67,
    "start_time": "2022-03-20T17:32:21.403Z"
   },
   {
    "duration": 78,
    "start_time": "2022-03-20T17:32:21.486Z"
   },
   {
    "duration": 7,
    "start_time": "2022-03-20T17:32:21.583Z"
   },
   {
    "duration": 25,
    "start_time": "2022-03-20T17:32:21.593Z"
   },
   {
    "duration": 6,
    "start_time": "2022-03-20T17:32:21.621Z"
   },
   {
    "duration": 11,
    "start_time": "2022-03-20T17:32:21.630Z"
   },
   {
    "duration": 395,
    "start_time": "2022-03-20T17:32:21.645Z"
   },
   {
    "duration": 118,
    "start_time": "2022-03-20T17:32:22.042Z"
   },
   {
    "duration": 39,
    "start_time": "2022-03-20T17:32:22.162Z"
   },
   {
    "duration": 44,
    "start_time": "2022-03-20T17:32:22.207Z"
   },
   {
    "duration": 65,
    "start_time": "2022-03-20T17:32:22.253Z"
   },
   {
    "duration": 9,
    "start_time": "2022-03-20T17:32:22.320Z"
   },
   {
    "duration": 67,
    "start_time": "2022-03-20T17:32:22.332Z"
   },
   {
    "duration": 11,
    "start_time": "2022-03-20T17:32:22.402Z"
   },
   {
    "duration": 74,
    "start_time": "2022-03-20T17:32:22.417Z"
   },
   {
    "duration": 36,
    "start_time": "2022-03-20T17:32:22.493Z"
   },
   {
    "duration": 9,
    "start_time": "2022-03-20T17:32:22.531Z"
   },
   {
    "duration": 49,
    "start_time": "2022-03-20T17:32:22.542Z"
   },
   {
    "duration": 21,
    "start_time": "2022-03-20T17:32:22.593Z"
   },
   {
    "duration": 23,
    "start_time": "2022-03-20T17:32:22.616Z"
   },
   {
    "duration": 128,
    "start_time": "2022-03-20T17:32:22.643Z"
   },
   {
    "duration": 45,
    "start_time": "2022-03-20T17:32:22.774Z"
   },
   {
    "duration": 849,
    "start_time": "2022-03-20T17:32:22.821Z"
   },
   {
    "duration": 843,
    "start_time": "2022-03-20T17:32:23.673Z"
   },
   {
    "duration": 525,
    "start_time": "2022-03-20T17:32:24.518Z"
   },
   {
    "duration": 95,
    "start_time": "2022-03-20T17:32:25.045Z"
   },
   {
    "duration": 0,
    "start_time": "2022-03-20T17:32:25.142Z"
   },
   {
    "duration": 0,
    "start_time": "2022-03-20T17:32:25.144Z"
   },
   {
    "duration": 0,
    "start_time": "2022-03-20T17:32:25.147Z"
   },
   {
    "duration": 0,
    "start_time": "2022-03-20T17:32:25.149Z"
   },
   {
    "duration": 779,
    "start_time": "2022-03-20T17:32:48.168Z"
   },
   {
    "duration": 167,
    "start_time": "2022-03-20T17:36:20.425Z"
   },
   {
    "duration": 169,
    "start_time": "2022-03-20T17:36:53.755Z"
   },
   {
    "duration": 504,
    "start_time": "2022-03-20T17:37:59.828Z"
   },
   {
    "duration": 56,
    "start_time": "2022-03-20T17:39:01.620Z"
   },
   {
    "duration": 62,
    "start_time": "2022-03-20T17:43:29.192Z"
   },
   {
    "duration": 930,
    "start_time": "2022-03-20T17:48:10.207Z"
   },
   {
    "duration": 719,
    "start_time": "2022-03-20T17:48:31.981Z"
   },
   {
    "duration": 404,
    "start_time": "2022-03-20T17:49:13.310Z"
   },
   {
    "duration": 170,
    "start_time": "2022-03-20T17:49:42.479Z"
   },
   {
    "duration": 5,
    "start_time": "2022-03-20T17:53:07.963Z"
   },
   {
    "duration": 204,
    "start_time": "2022-03-20T17:53:07.971Z"
   },
   {
    "duration": 13,
    "start_time": "2022-03-20T17:53:08.183Z"
   },
   {
    "duration": 41,
    "start_time": "2022-03-20T17:53:08.199Z"
   },
   {
    "duration": 62,
    "start_time": "2022-03-20T17:53:08.244Z"
   },
   {
    "duration": 190,
    "start_time": "2022-03-20T17:53:08.309Z"
   },
   {
    "duration": 13,
    "start_time": "2022-03-20T17:53:08.501Z"
   },
   {
    "duration": 44,
    "start_time": "2022-03-20T17:53:08.517Z"
   },
   {
    "duration": 135,
    "start_time": "2022-03-20T17:53:08.563Z"
   },
   {
    "duration": 12,
    "start_time": "2022-03-20T17:53:08.701Z"
   },
   {
    "duration": 29,
    "start_time": "2022-03-20T17:53:08.715Z"
   },
   {
    "duration": 13,
    "start_time": "2022-03-20T17:53:08.746Z"
   },
   {
    "duration": 13,
    "start_time": "2022-03-20T17:53:08.785Z"
   },
   {
    "duration": 19,
    "start_time": "2022-03-20T17:53:08.803Z"
   },
   {
    "duration": 26,
    "start_time": "2022-03-20T17:53:08.824Z"
   },
   {
    "duration": 34,
    "start_time": "2022-03-20T17:53:08.852Z"
   },
   {
    "duration": 17,
    "start_time": "2022-03-20T17:53:08.889Z"
   },
   {
    "duration": 26,
    "start_time": "2022-03-20T17:53:08.908Z"
   },
   {
    "duration": 123,
    "start_time": "2022-03-20T17:53:08.937Z"
   },
   {
    "duration": 74,
    "start_time": "2022-03-20T17:53:09.062Z"
   },
   {
    "duration": 97,
    "start_time": "2022-03-20T17:53:09.138Z"
   },
   {
    "duration": 6,
    "start_time": "2022-03-20T17:53:09.237Z"
   },
   {
    "duration": 21,
    "start_time": "2022-03-20T17:53:09.245Z"
   },
   {
    "duration": 16,
    "start_time": "2022-03-20T17:53:09.268Z"
   },
   {
    "duration": 7,
    "start_time": "2022-03-20T17:53:09.287Z"
   },
   {
    "duration": 349,
    "start_time": "2022-03-20T17:53:09.297Z"
   },
   {
    "duration": 123,
    "start_time": "2022-03-20T17:53:09.648Z"
   },
   {
    "duration": 38,
    "start_time": "2022-03-20T17:53:09.773Z"
   },
   {
    "duration": 36,
    "start_time": "2022-03-20T17:53:09.814Z"
   },
   {
    "duration": 66,
    "start_time": "2022-03-20T17:53:09.852Z"
   },
   {
    "duration": 7,
    "start_time": "2022-03-20T17:53:09.921Z"
   },
   {
    "duration": 63,
    "start_time": "2022-03-20T17:53:09.931Z"
   },
   {
    "duration": 10,
    "start_time": "2022-03-20T17:53:09.996Z"
   },
   {
    "duration": 53,
    "start_time": "2022-03-20T17:53:10.009Z"
   },
   {
    "duration": 33,
    "start_time": "2022-03-20T17:53:10.084Z"
   },
   {
    "duration": 8,
    "start_time": "2022-03-20T17:53:10.120Z"
   },
   {
    "duration": 16,
    "start_time": "2022-03-20T17:53:10.130Z"
   },
   {
    "duration": 39,
    "start_time": "2022-03-20T17:53:10.148Z"
   },
   {
    "duration": 17,
    "start_time": "2022-03-20T17:53:10.189Z"
   },
   {
    "duration": 135,
    "start_time": "2022-03-20T17:53:10.208Z"
   },
   {
    "duration": 80,
    "start_time": "2022-03-20T17:53:10.348Z"
   },
   {
    "duration": 819,
    "start_time": "2022-03-20T17:53:10.430Z"
   },
   {
    "duration": 188,
    "start_time": "2022-03-20T17:53:11.252Z"
   },
   {
    "duration": 184,
    "start_time": "2022-03-20T17:53:11.443Z"
   },
   {
    "duration": 801,
    "start_time": "2022-03-20T17:53:11.630Z"
   },
   {
    "duration": 1065,
    "start_time": "2022-03-20T17:53:12.434Z"
   },
   {
    "duration": 803,
    "start_time": "2022-03-20T17:53:13.501Z"
   },
   {
    "duration": 795,
    "start_time": "2022-03-20T17:53:14.306Z"
   },
   {
    "duration": 13,
    "start_time": "2022-03-20T18:15:05.644Z"
   },
   {
    "duration": 50,
    "start_time": "2022-03-20T19:53:53.545Z"
   },
   {
    "duration": 44,
    "start_time": "2022-03-20T19:54:16.184Z"
   },
   {
    "duration": 17,
    "start_time": "2022-03-20T19:54:26.732Z"
   },
   {
    "duration": 150,
    "start_time": "2022-03-20T20:11:03.033Z"
   },
   {
    "duration": 7,
    "start_time": "2022-03-20T20:11:08.829Z"
   },
   {
    "duration": 19,
    "start_time": "2022-03-20T20:11:31.117Z"
   },
   {
    "duration": 23,
    "start_time": "2022-03-20T20:12:33.885Z"
   },
   {
    "duration": 15,
    "start_time": "2022-03-20T20:13:33.346Z"
   },
   {
    "duration": 19,
    "start_time": "2022-03-20T20:15:23.978Z"
   },
   {
    "duration": 101,
    "start_time": "2022-03-20T20:16:08.231Z"
   },
   {
    "duration": 18,
    "start_time": "2022-03-20T20:18:09.322Z"
   },
   {
    "duration": 14,
    "start_time": "2022-03-20T20:18:46.255Z"
   },
   {
    "duration": 4,
    "start_time": "2022-03-20T20:20:46.403Z"
   },
   {
    "duration": 13,
    "start_time": "2022-03-20T20:20:57.266Z"
   },
   {
    "duration": 11,
    "start_time": "2022-03-20T20:27:34.526Z"
   },
   {
    "duration": 16,
    "start_time": "2022-03-20T20:28:03.657Z"
   },
   {
    "duration": 13,
    "start_time": "2022-03-20T20:28:17.659Z"
   },
   {
    "duration": 4,
    "start_time": "2022-03-20T20:28:54.289Z"
   },
   {
    "duration": 215,
    "start_time": "2022-03-20T20:28:54.296Z"
   },
   {
    "duration": 12,
    "start_time": "2022-03-20T20:28:54.513Z"
   },
   {
    "duration": 57,
    "start_time": "2022-03-20T20:28:54.527Z"
   },
   {
    "duration": 35,
    "start_time": "2022-03-20T20:28:54.588Z"
   },
   {
    "duration": 190,
    "start_time": "2022-03-20T20:28:54.625Z"
   },
   {
    "duration": 13,
    "start_time": "2022-03-20T20:28:54.817Z"
   },
   {
    "duration": 62,
    "start_time": "2022-03-20T20:28:54.832Z"
   },
   {
    "duration": 121,
    "start_time": "2022-03-20T20:28:54.896Z"
   },
   {
    "duration": 12,
    "start_time": "2022-03-20T20:28:55.020Z"
   },
   {
    "duration": 50,
    "start_time": "2022-03-20T20:28:55.034Z"
   },
   {
    "duration": 13,
    "start_time": "2022-03-20T20:28:55.086Z"
   },
   {
    "duration": 12,
    "start_time": "2022-03-20T20:28:55.101Z"
   },
   {
    "duration": 16,
    "start_time": "2022-03-20T20:28:55.118Z"
   },
   {
    "duration": 37,
    "start_time": "2022-03-20T20:28:55.136Z"
   },
   {
    "duration": 21,
    "start_time": "2022-03-20T20:28:55.175Z"
   },
   {
    "duration": 17,
    "start_time": "2022-03-20T20:28:55.198Z"
   },
   {
    "duration": 30,
    "start_time": "2022-03-20T20:28:55.217Z"
   },
   {
    "duration": 129,
    "start_time": "2022-03-20T20:28:55.249Z"
   },
   {
    "duration": 69,
    "start_time": "2022-03-20T20:28:55.384Z"
   },
   {
    "duration": 89,
    "start_time": "2022-03-20T20:28:55.456Z"
   },
   {
    "duration": 6,
    "start_time": "2022-03-20T20:28:55.547Z"
   },
   {
    "duration": 34,
    "start_time": "2022-03-20T20:28:55.555Z"
   },
   {
    "duration": 9,
    "start_time": "2022-03-20T20:28:55.592Z"
   },
   {
    "duration": 9,
    "start_time": "2022-03-20T20:28:55.604Z"
   },
   {
    "duration": 370,
    "start_time": "2022-03-20T20:28:55.616Z"
   },
   {
    "duration": 133,
    "start_time": "2022-03-20T20:28:55.988Z"
   },
   {
    "duration": 32,
    "start_time": "2022-03-20T20:28:56.123Z"
   },
   {
    "duration": 63,
    "start_time": "2022-03-20T20:28:56.157Z"
   },
   {
    "duration": 62,
    "start_time": "2022-03-20T20:28:56.222Z"
   },
   {
    "duration": 9,
    "start_time": "2022-03-20T20:28:56.286Z"
   },
   {
    "duration": 41,
    "start_time": "2022-03-20T20:28:56.296Z"
   },
   {
    "duration": 9,
    "start_time": "2022-03-20T20:28:56.339Z"
   },
   {
    "duration": 74,
    "start_time": "2022-03-20T20:28:56.350Z"
   },
   {
    "duration": 34,
    "start_time": "2022-03-20T20:28:56.426Z"
   },
   {
    "duration": 8,
    "start_time": "2022-03-20T20:28:56.485Z"
   },
   {
    "duration": 13,
    "start_time": "2022-03-20T20:28:56.496Z"
   },
   {
    "duration": 8,
    "start_time": "2022-03-20T20:28:56.512Z"
   },
   {
    "duration": 14,
    "start_time": "2022-03-20T20:28:56.523Z"
   },
   {
    "duration": 170,
    "start_time": "2022-03-20T20:28:56.540Z"
   },
   {
    "duration": 73,
    "start_time": "2022-03-20T20:28:56.716Z"
   },
   {
    "duration": 799,
    "start_time": "2022-03-20T20:28:56.791Z"
   },
   {
    "duration": 194,
    "start_time": "2022-03-20T20:28:57.592Z"
   },
   {
    "duration": 176,
    "start_time": "2022-03-20T20:28:57.789Z"
   },
   {
    "duration": 18,
    "start_time": "2022-03-20T20:28:57.967Z"
   },
   {
    "duration": 806,
    "start_time": "2022-03-20T20:28:57.988Z"
   },
   {
    "duration": 1086,
    "start_time": "2022-03-20T20:28:58.797Z"
   },
   {
    "duration": 826,
    "start_time": "2022-03-20T20:28:59.886Z"
   },
   {
    "duration": 791,
    "start_time": "2022-03-20T20:29:00.715Z"
   },
   {
    "duration": 14,
    "start_time": "2022-03-20T20:29:01.508Z"
   },
   {
    "duration": 33,
    "start_time": "2022-03-20T20:29:01.524Z"
   },
   {
    "duration": 501,
    "start_time": "2022-03-20T20:29:01.559Z"
   },
   {
    "duration": 3,
    "start_time": "2022-03-20T20:29:02.063Z"
   },
   {
    "duration": 16,
    "start_time": "2022-03-20T20:29:02.068Z"
   },
   {
    "duration": 5,
    "start_time": "2022-03-20T20:30:38.008Z"
   },
   {
    "duration": 4,
    "start_time": "2022-03-21T03:49:28.129Z"
   },
   {
    "duration": 233,
    "start_time": "2022-03-21T03:49:28.137Z"
   },
   {
    "duration": 22,
    "start_time": "2022-03-21T03:49:28.372Z"
   },
   {
    "duration": 38,
    "start_time": "2022-03-21T03:49:28.397Z"
   },
   {
    "duration": 59,
    "start_time": "2022-03-21T03:49:28.438Z"
   },
   {
    "duration": 177,
    "start_time": "2022-03-21T03:49:28.499Z"
   },
   {
    "duration": 13,
    "start_time": "2022-03-21T03:49:28.678Z"
   },
   {
    "duration": 43,
    "start_time": "2022-03-21T03:49:28.693Z"
   },
   {
    "duration": 123,
    "start_time": "2022-03-21T03:49:28.739Z"
   },
   {
    "duration": 18,
    "start_time": "2022-03-21T03:49:28.865Z"
   },
   {
    "duration": 26,
    "start_time": "2022-03-21T03:49:28.886Z"
   },
   {
    "duration": 12,
    "start_time": "2022-03-21T03:49:28.914Z"
   },
   {
    "duration": 11,
    "start_time": "2022-03-21T03:49:28.929Z"
   },
   {
    "duration": 49,
    "start_time": "2022-03-21T03:49:28.945Z"
   },
   {
    "duration": 19,
    "start_time": "2022-03-21T03:49:28.996Z"
   },
   {
    "duration": 15,
    "start_time": "2022-03-21T03:49:29.017Z"
   },
   {
    "duration": 22,
    "start_time": "2022-03-21T03:49:29.034Z"
   },
   {
    "duration": 42,
    "start_time": "2022-03-21T03:49:29.058Z"
   },
   {
    "duration": 118,
    "start_time": "2022-03-21T03:49:29.102Z"
   },
   {
    "duration": 77,
    "start_time": "2022-03-21T03:49:29.222Z"
   },
   {
    "duration": 88,
    "start_time": "2022-03-21T03:49:29.301Z"
   },
   {
    "duration": 5,
    "start_time": "2022-03-21T03:49:29.391Z"
   },
   {
    "duration": 13,
    "start_time": "2022-03-21T03:49:29.398Z"
   },
   {
    "duration": 4,
    "start_time": "2022-03-21T03:49:29.413Z"
   },
   {
    "duration": 12,
    "start_time": "2022-03-21T03:49:29.419Z"
   },
   {
    "duration": 341,
    "start_time": "2022-03-21T03:49:29.433Z"
   },
   {
    "duration": 118,
    "start_time": "2022-03-21T03:49:29.776Z"
   },
   {
    "duration": 30,
    "start_time": "2022-03-21T03:49:29.896Z"
   },
   {
    "duration": 65,
    "start_time": "2022-03-21T03:49:29.928Z"
   },
   {
    "duration": 39,
    "start_time": "2022-03-21T03:49:29.995Z"
   },
   {
    "duration": 10,
    "start_time": "2022-03-21T03:49:30.036Z"
   },
   {
    "duration": 71,
    "start_time": "2022-03-21T03:49:30.048Z"
   },
   {
    "duration": 10,
    "start_time": "2022-03-21T03:49:30.121Z"
   },
   {
    "duration": 64,
    "start_time": "2022-03-21T03:49:30.133Z"
   },
   {
    "duration": 33,
    "start_time": "2022-03-21T03:49:30.199Z"
   },
   {
    "duration": 7,
    "start_time": "2022-03-21T03:49:30.234Z"
   },
   {
    "duration": 46,
    "start_time": "2022-03-21T03:49:30.243Z"
   },
   {
    "duration": 18,
    "start_time": "2022-03-21T03:49:30.291Z"
   },
   {
    "duration": 25,
    "start_time": "2022-03-21T03:49:30.312Z"
   },
   {
    "duration": 123,
    "start_time": "2022-03-21T03:49:30.339Z"
   },
   {
    "duration": 68,
    "start_time": "2022-03-21T03:49:30.469Z"
   },
   {
    "duration": 794,
    "start_time": "2022-03-21T03:49:30.540Z"
   },
   {
    "duration": 480,
    "start_time": "2022-03-21T03:49:31.337Z"
   },
   {
    "duration": 182,
    "start_time": "2022-03-21T03:49:31.820Z"
   },
   {
    "duration": 12,
    "start_time": "2022-03-21T03:49:32.005Z"
   },
   {
    "duration": 794,
    "start_time": "2022-03-21T03:49:32.019Z"
   },
   {
    "duration": 805,
    "start_time": "2022-03-21T03:49:32.816Z"
   },
   {
    "duration": 831,
    "start_time": "2022-03-21T03:49:33.624Z"
   },
   {
    "duration": 791,
    "start_time": "2022-03-21T03:49:34.458Z"
   },
   {
    "duration": 13,
    "start_time": "2022-03-21T03:49:35.251Z"
   },
   {
    "duration": 30,
    "start_time": "2022-03-21T03:49:35.266Z"
   },
   {
    "duration": 15,
    "start_time": "2022-03-21T03:49:35.299Z"
   },
   {
    "duration": 23,
    "start_time": "2022-03-21T03:49:35.316Z"
   },
   {
    "duration": 13,
    "start_time": "2022-03-21T03:49:35.341Z"
   },
   {
    "duration": 12,
    "start_time": "2022-03-21T03:49:35.356Z"
   },
   {
    "duration": 6,
    "start_time": "2022-03-21T03:51:51.848Z"
   },
   {
    "duration": 5,
    "start_time": "2022-03-21T03:52:31.367Z"
   },
   {
    "duration": 6,
    "start_time": "2022-03-21T03:52:42.971Z"
   },
   {
    "duration": 16,
    "start_time": "2022-03-21T04:01:59.040Z"
   },
   {
    "duration": 18,
    "start_time": "2022-03-21T04:03:22.240Z"
   },
   {
    "duration": 4,
    "start_time": "2022-03-21T04:04:28.343Z"
   },
   {
    "duration": 19,
    "start_time": "2022-03-21T04:04:38.424Z"
   },
   {
    "duration": 64,
    "start_time": "2022-03-21T04:07:25.738Z"
   },
   {
    "duration": 14,
    "start_time": "2022-03-21T04:07:37.853Z"
   },
   {
    "duration": 6,
    "start_time": "2022-03-21T04:09:51.757Z"
   },
   {
    "duration": 6,
    "start_time": "2022-03-21T04:13:45.289Z"
   },
   {
    "duration": 4,
    "start_time": "2022-03-21T04:13:50.280Z"
   },
   {
    "duration": 211,
    "start_time": "2022-03-21T04:13:50.290Z"
   },
   {
    "duration": 12,
    "start_time": "2022-03-21T04:13:50.504Z"
   },
   {
    "duration": 38,
    "start_time": "2022-03-21T04:13:50.519Z"
   },
   {
    "duration": 56,
    "start_time": "2022-03-21T04:13:50.560Z"
   },
   {
    "duration": 185,
    "start_time": "2022-03-21T04:13:50.618Z"
   },
   {
    "duration": 14,
    "start_time": "2022-03-21T04:13:50.805Z"
   },
   {
    "duration": 64,
    "start_time": "2022-03-21T04:13:50.821Z"
   },
   {
    "duration": 131,
    "start_time": "2022-03-21T04:13:50.887Z"
   },
   {
    "duration": 10,
    "start_time": "2022-03-21T04:13:51.020Z"
   },
   {
    "duration": 31,
    "start_time": "2022-03-21T04:13:51.034Z"
   },
   {
    "duration": 14,
    "start_time": "2022-03-21T04:13:51.083Z"
   },
   {
    "duration": 12,
    "start_time": "2022-03-21T04:13:51.100Z"
   },
   {
    "duration": 22,
    "start_time": "2022-03-21T04:13:51.114Z"
   },
   {
    "duration": 22,
    "start_time": "2022-03-21T04:13:51.138Z"
   },
   {
    "duration": 28,
    "start_time": "2022-03-21T04:13:51.163Z"
   },
   {
    "duration": 19,
    "start_time": "2022-03-21T04:13:51.194Z"
   },
   {
    "duration": 25,
    "start_time": "2022-03-21T04:13:51.216Z"
   },
   {
    "duration": 130,
    "start_time": "2022-03-21T04:13:51.243Z"
   },
   {
    "duration": 64,
    "start_time": "2022-03-21T04:13:51.384Z"
   },
   {
    "duration": 93,
    "start_time": "2022-03-21T04:13:51.450Z"
   },
   {
    "duration": 6,
    "start_time": "2022-03-21T04:13:51.545Z"
   },
   {
    "duration": 32,
    "start_time": "2022-03-21T04:13:51.553Z"
   },
   {
    "duration": 5,
    "start_time": "2022-03-21T04:13:51.587Z"
   },
   {
    "duration": 12,
    "start_time": "2022-03-21T04:13:51.595Z"
   },
   {
    "duration": 397,
    "start_time": "2022-03-21T04:13:51.610Z"
   },
   {
    "duration": 130,
    "start_time": "2022-03-21T04:13:52.010Z"
   },
   {
    "duration": 48,
    "start_time": "2022-03-21T04:13:52.143Z"
   },
   {
    "duration": 47,
    "start_time": "2022-03-21T04:13:52.199Z"
   },
   {
    "duration": 68,
    "start_time": "2022-03-21T04:13:52.248Z"
   },
   {
    "duration": 8,
    "start_time": "2022-03-21T04:13:52.318Z"
   },
   {
    "duration": 55,
    "start_time": "2022-03-21T04:13:52.328Z"
   },
   {
    "duration": 9,
    "start_time": "2022-03-21T04:13:52.386Z"
   },
   {
    "duration": 55,
    "start_time": "2022-03-21T04:13:52.397Z"
   },
   {
    "duration": 49,
    "start_time": "2022-03-21T04:13:52.454Z"
   },
   {
    "duration": 7,
    "start_time": "2022-03-21T04:13:52.505Z"
   },
   {
    "duration": 15,
    "start_time": "2022-03-21T04:13:52.514Z"
   },
   {
    "duration": 17,
    "start_time": "2022-03-21T04:13:52.531Z"
   },
   {
    "duration": 36,
    "start_time": "2022-03-21T04:13:52.550Z"
   },
   {
    "duration": 123,
    "start_time": "2022-03-21T04:13:52.588Z"
   },
   {
    "duration": 75,
    "start_time": "2022-03-21T04:13:52.713Z"
   },
   {
    "duration": 794,
    "start_time": "2022-03-21T04:13:52.790Z"
   },
   {
    "duration": 490,
    "start_time": "2022-03-21T04:13:53.587Z"
   },
   {
    "duration": 174,
    "start_time": "2022-03-21T04:13:54.079Z"
   },
   {
    "duration": 11,
    "start_time": "2022-03-21T04:13:54.255Z"
   },
   {
    "duration": 909,
    "start_time": "2022-03-21T04:13:54.284Z"
   },
   {
    "duration": 788,
    "start_time": "2022-03-21T04:13:55.195Z"
   },
   {
    "duration": 815,
    "start_time": "2022-03-21T04:13:55.986Z"
   },
   {
    "duration": 807,
    "start_time": "2022-03-21T04:13:56.803Z"
   },
   {
    "duration": 14,
    "start_time": "2022-03-21T04:13:57.613Z"
   },
   {
    "duration": 17,
    "start_time": "2022-03-21T04:13:57.630Z"
   },
   {
    "duration": 22,
    "start_time": "2022-03-21T04:13:57.649Z"
   },
   {
    "duration": 33,
    "start_time": "2022-03-21T04:13:57.673Z"
   },
   {
    "duration": 35,
    "start_time": "2022-03-21T04:13:57.708Z"
   },
   {
    "duration": 19,
    "start_time": "2022-03-21T04:13:57.745Z"
   },
   {
    "duration": 28,
    "start_time": "2022-03-21T04:13:57.766Z"
   },
   {
    "duration": 31,
    "start_time": "2022-03-21T04:13:57.796Z"
   },
   {
    "duration": 13,
    "start_time": "2022-03-21T04:13:57.829Z"
   },
   {
    "duration": 8,
    "start_time": "2022-03-21T04:13:57.845Z"
   },
   {
    "duration": 55,
    "start_time": "2022-03-21T19:01:57.446Z"
   },
   {
    "duration": 912,
    "start_time": "2022-03-21T19:02:01.414Z"
   },
   {
    "duration": 158,
    "start_time": "2022-03-21T19:02:02.330Z"
   },
   {
    "duration": 20,
    "start_time": "2022-03-21T19:02:02.489Z"
   },
   {
    "duration": 40,
    "start_time": "2022-03-21T19:02:02.510Z"
   },
   {
    "duration": 28,
    "start_time": "2022-03-21T19:02:02.553Z"
   },
   {
    "duration": 166,
    "start_time": "2022-03-21T19:02:02.582Z"
   },
   {
    "duration": 9,
    "start_time": "2022-03-21T19:02:02.750Z"
   },
   {
    "duration": 69,
    "start_time": "2022-03-21T19:02:02.761Z"
   },
   {
    "duration": 98,
    "start_time": "2022-03-21T19:02:02.832Z"
   },
   {
    "duration": 9,
    "start_time": "2022-03-21T19:02:02.932Z"
   },
   {
    "duration": 29,
    "start_time": "2022-03-21T19:02:02.943Z"
   },
   {
    "duration": 12,
    "start_time": "2022-03-21T19:02:02.974Z"
   },
   {
    "duration": 10,
    "start_time": "2022-03-21T19:02:03.001Z"
   },
   {
    "duration": 16,
    "start_time": "2022-03-21T19:02:03.014Z"
   },
   {
    "duration": 57,
    "start_time": "2022-03-21T19:02:03.032Z"
   },
   {
    "duration": 11,
    "start_time": "2022-03-21T19:02:03.091Z"
   },
   {
    "duration": 22,
    "start_time": "2022-03-21T19:02:03.103Z"
   },
   {
    "duration": 30,
    "start_time": "2022-03-21T19:02:03.127Z"
   },
   {
    "duration": 91,
    "start_time": "2022-03-21T19:02:03.159Z"
   },
   {
    "duration": 63,
    "start_time": "2022-03-21T19:02:03.252Z"
   },
   {
    "duration": 65,
    "start_time": "2022-03-21T19:02:03.317Z"
   },
   {
    "duration": 33,
    "start_time": "2022-03-21T19:02:03.384Z"
   },
   {
    "duration": 32,
    "start_time": "2022-03-21T19:02:03.419Z"
   },
   {
    "duration": 28,
    "start_time": "2022-03-21T19:02:03.454Z"
   },
   {
    "duration": 80,
    "start_time": "2022-03-21T19:02:03.484Z"
   },
   {
    "duration": 305,
    "start_time": "2022-03-21T19:02:03.566Z"
   },
   {
    "duration": 101,
    "start_time": "2022-03-21T19:02:03.873Z"
   },
   {
    "duration": 35,
    "start_time": "2022-03-21T19:02:03.976Z"
   },
   {
    "duration": 39,
    "start_time": "2022-03-21T19:02:04.013Z"
   },
   {
    "duration": 54,
    "start_time": "2022-03-21T19:02:04.056Z"
   },
   {
    "duration": 7,
    "start_time": "2022-03-21T19:02:04.112Z"
   },
   {
    "duration": 61,
    "start_time": "2022-03-21T19:02:04.121Z"
   },
   {
    "duration": 9,
    "start_time": "2022-03-21T19:02:04.184Z"
   },
   {
    "duration": 102,
    "start_time": "2022-03-21T19:02:04.195Z"
   },
   {
    "duration": 90,
    "start_time": "2022-03-21T19:02:04.299Z"
   },
   {
    "duration": 6,
    "start_time": "2022-03-21T19:02:04.391Z"
   },
   {
    "duration": 12,
    "start_time": "2022-03-21T19:02:04.399Z"
   },
   {
    "duration": 7,
    "start_time": "2022-03-21T19:02:04.413Z"
   },
   {
    "duration": 16,
    "start_time": "2022-03-21T19:02:04.423Z"
   },
   {
    "duration": 133,
    "start_time": "2022-03-21T19:02:04.442Z"
   },
   {
    "duration": 77,
    "start_time": "2022-03-21T19:02:04.582Z"
   },
   {
    "duration": 564,
    "start_time": "2022-03-21T19:02:04.662Z"
   },
   {
    "duration": 125,
    "start_time": "2022-03-21T19:02:05.228Z"
   },
   {
    "duration": 181,
    "start_time": "2022-03-21T19:02:05.355Z"
   },
   {
    "duration": 9,
    "start_time": "2022-03-21T19:02:05.538Z"
   },
   {
    "duration": 741,
    "start_time": "2022-03-21T19:02:05.549Z"
   },
   {
    "duration": 493,
    "start_time": "2022-03-21T19:02:06.293Z"
   },
   {
    "duration": 505,
    "start_time": "2022-03-21T19:02:06.788Z"
   },
   {
    "duration": 612,
    "start_time": "2022-03-21T19:02:07.300Z"
   },
   {
    "duration": 11,
    "start_time": "2022-03-21T19:02:07.914Z"
   },
   {
    "duration": 17,
    "start_time": "2022-03-21T19:02:07.927Z"
   },
   {
    "duration": 453,
    "start_time": "2022-03-21T19:02:07.946Z"
   },
   {
    "duration": 3,
    "start_time": "2022-03-21T19:02:08.401Z"
   },
   {
    "duration": 10,
    "start_time": "2022-03-21T19:02:08.406Z"
   },
   {
    "duration": 14,
    "start_time": "2022-03-21T19:02:08.418Z"
   },
   {
    "duration": 23,
    "start_time": "2022-03-21T19:02:08.435Z"
   },
   {
    "duration": 16,
    "start_time": "2022-03-21T19:02:08.460Z"
   },
   {
    "duration": 4,
    "start_time": "2022-03-21T19:02:08.478Z"
   },
   {
    "duration": 9,
    "start_time": "2022-03-21T19:02:08.484Z"
   },
   {
    "duration": 8,
    "start_time": "2022-03-21T19:13:29.178Z"
   },
   {
    "duration": 4,
    "start_time": "2022-03-21T19:13:45.220Z"
   },
   {
    "duration": 198,
    "start_time": "2022-03-21T19:13:45.227Z"
   },
   {
    "duration": 10,
    "start_time": "2022-03-21T19:13:45.428Z"
   },
   {
    "duration": 38,
    "start_time": "2022-03-21T19:13:45.440Z"
   },
   {
    "duration": 43,
    "start_time": "2022-03-21T19:13:45.480Z"
   },
   {
    "duration": 175,
    "start_time": "2022-03-21T19:13:45.527Z"
   },
   {
    "duration": 10,
    "start_time": "2022-03-21T19:13:45.704Z"
   },
   {
    "duration": 371,
    "start_time": "2022-03-21T19:13:45.716Z"
   },
   {
    "duration": 168,
    "start_time": "2022-03-21T19:13:46.089Z"
   },
   {
    "duration": 14,
    "start_time": "2022-03-21T19:13:46.260Z"
   },
   {
    "duration": 81,
    "start_time": "2022-03-21T19:13:46.277Z"
   },
   {
    "duration": 32,
    "start_time": "2022-03-21T19:13:46.360Z"
   },
   {
    "duration": 21,
    "start_time": "2022-03-21T19:13:46.395Z"
   },
   {
    "duration": 26,
    "start_time": "2022-03-21T19:13:46.418Z"
   },
   {
    "duration": 28,
    "start_time": "2022-03-21T19:13:46.447Z"
   },
   {
    "duration": 14,
    "start_time": "2022-03-21T19:13:46.478Z"
   },
   {
    "duration": 21,
    "start_time": "2022-03-21T19:13:46.494Z"
   },
   {
    "duration": 36,
    "start_time": "2022-03-21T19:13:46.516Z"
   },
   {
    "duration": 104,
    "start_time": "2022-03-21T19:13:46.554Z"
   },
   {
    "duration": 69,
    "start_time": "2022-03-21T19:13:46.660Z"
   },
   {
    "duration": 75,
    "start_time": "2022-03-21T19:13:46.730Z"
   },
   {
    "duration": 5,
    "start_time": "2022-03-21T19:13:46.807Z"
   },
   {
    "duration": 18,
    "start_time": "2022-03-21T19:13:46.814Z"
   },
   {
    "duration": 15,
    "start_time": "2022-03-21T19:13:46.834Z"
   },
   {
    "duration": 8,
    "start_time": "2022-03-21T19:13:54.000Z"
   },
   {
    "duration": 14,
    "start_time": "2022-03-21T19:17:43.071Z"
   },
   {
    "duration": 7,
    "start_time": "2022-03-21T19:18:17.537Z"
   },
   {
    "duration": 9,
    "start_time": "2022-03-21T19:21:25.354Z"
   },
   {
    "duration": 9,
    "start_time": "2022-03-21T19:22:46.867Z"
   },
   {
    "duration": 67,
    "start_time": "2022-04-01T18:00:58.580Z"
   },
   {
    "duration": 60,
    "start_time": "2022-04-01T18:07:11.532Z"
   },
   {
    "duration": 74,
    "start_time": "2022-04-01T18:07:19.242Z"
   },
   {
    "duration": 632,
    "start_time": "2022-04-03T13:38:35.783Z"
   },
   {
    "duration": 146,
    "start_time": "2022-04-03T13:38:36.417Z"
   },
   {
    "duration": 12,
    "start_time": "2022-04-03T13:38:36.564Z"
   },
   {
    "duration": 36,
    "start_time": "2022-04-03T13:38:36.578Z"
   },
   {
    "duration": 26,
    "start_time": "2022-04-03T13:38:36.616Z"
   },
   {
    "duration": 133,
    "start_time": "2022-04-03T13:38:36.643Z"
   },
   {
    "duration": 8,
    "start_time": "2022-04-03T13:38:36.778Z"
   },
   {
    "duration": 41,
    "start_time": "2022-04-03T13:38:36.788Z"
   },
   {
    "duration": 85,
    "start_time": "2022-04-03T13:38:36.830Z"
   },
   {
    "duration": 7,
    "start_time": "2022-04-03T13:38:36.918Z"
   },
   {
    "duration": 20,
    "start_time": "2022-04-03T13:38:36.926Z"
   },
   {
    "duration": 9,
    "start_time": "2022-04-03T13:38:36.948Z"
   },
   {
    "duration": 7,
    "start_time": "2022-04-03T13:38:36.959Z"
   },
   {
    "duration": 14,
    "start_time": "2022-04-03T13:38:36.968Z"
   },
   {
    "duration": 28,
    "start_time": "2022-04-03T13:38:36.984Z"
   },
   {
    "duration": 9,
    "start_time": "2022-04-03T13:38:37.014Z"
   },
   {
    "duration": 16,
    "start_time": "2022-04-03T13:38:37.024Z"
   },
   {
    "duration": 15,
    "start_time": "2022-04-03T13:38:37.042Z"
   },
   {
    "duration": 86,
    "start_time": "2022-04-03T13:38:37.059Z"
   },
   {
    "duration": 46,
    "start_time": "2022-04-03T13:38:37.147Z"
   },
   {
    "duration": 54,
    "start_time": "2022-04-03T13:38:37.208Z"
   },
   {
    "duration": 5,
    "start_time": "2022-04-03T13:38:37.264Z"
   },
   {
    "duration": 86,
    "start_time": "2022-04-03T13:38:37.271Z"
   },
   {
    "duration": 0,
    "start_time": "2022-04-03T13:38:37.360Z"
   },
   {
    "duration": 0,
    "start_time": "2022-04-03T13:38:37.362Z"
   },
   {
    "duration": 0,
    "start_time": "2022-04-03T13:38:37.363Z"
   },
   {
    "duration": 0,
    "start_time": "2022-04-03T13:38:37.365Z"
   },
   {
    "duration": 0,
    "start_time": "2022-04-03T13:38:37.366Z"
   },
   {
    "duration": 0,
    "start_time": "2022-04-03T13:38:37.368Z"
   },
   {
    "duration": 0,
    "start_time": "2022-04-03T13:38:37.369Z"
   },
   {
    "duration": 0,
    "start_time": "2022-04-03T13:38:37.371Z"
   },
   {
    "duration": 0,
    "start_time": "2022-04-03T13:38:37.372Z"
   },
   {
    "duration": 0,
    "start_time": "2022-04-03T13:38:37.374Z"
   },
   {
    "duration": 0,
    "start_time": "2022-04-03T13:38:37.375Z"
   },
   {
    "duration": 0,
    "start_time": "2022-04-03T13:38:37.377Z"
   },
   {
    "duration": 0,
    "start_time": "2022-04-03T13:38:37.409Z"
   },
   {
    "duration": 0,
    "start_time": "2022-04-03T13:38:37.411Z"
   },
   {
    "duration": 0,
    "start_time": "2022-04-03T13:38:37.413Z"
   },
   {
    "duration": 0,
    "start_time": "2022-04-03T13:38:37.414Z"
   },
   {
    "duration": 0,
    "start_time": "2022-04-03T13:38:37.416Z"
   },
   {
    "duration": 0,
    "start_time": "2022-04-03T13:38:37.417Z"
   },
   {
    "duration": 0,
    "start_time": "2022-04-03T13:38:37.419Z"
   },
   {
    "duration": 0,
    "start_time": "2022-04-03T13:38:37.421Z"
   },
   {
    "duration": 1,
    "start_time": "2022-04-03T13:38:37.422Z"
   },
   {
    "duration": 0,
    "start_time": "2022-04-03T13:38:37.424Z"
   },
   {
    "duration": 0,
    "start_time": "2022-04-03T13:38:37.426Z"
   },
   {
    "duration": 0,
    "start_time": "2022-04-03T13:38:37.429Z"
   },
   {
    "duration": 0,
    "start_time": "2022-04-03T13:38:37.431Z"
   },
   {
    "duration": 0,
    "start_time": "2022-04-03T13:38:37.432Z"
   },
   {
    "duration": 0,
    "start_time": "2022-04-03T13:38:37.434Z"
   },
   {
    "duration": 0,
    "start_time": "2022-04-03T13:38:37.436Z"
   },
   {
    "duration": 0,
    "start_time": "2022-04-03T13:38:37.437Z"
   },
   {
    "duration": 0,
    "start_time": "2022-04-03T13:38:37.437Z"
   },
   {
    "duration": 0,
    "start_time": "2022-04-03T13:38:37.438Z"
   },
   {
    "duration": 0,
    "start_time": "2022-04-03T13:38:37.439Z"
   },
   {
    "duration": 0,
    "start_time": "2022-04-03T13:38:37.441Z"
   },
   {
    "duration": 0,
    "start_time": "2022-04-03T13:38:37.442Z"
   },
   {
    "duration": 0,
    "start_time": "2022-04-03T13:38:37.444Z"
   },
   {
    "duration": 0,
    "start_time": "2022-04-03T13:38:37.446Z"
   },
   {
    "duration": 8,
    "start_time": "2022-04-03T13:39:21.464Z"
   },
   {
    "duration": 2,
    "start_time": "2022-04-03T13:40:01.909Z"
   },
   {
    "duration": 179,
    "start_time": "2022-04-03T13:40:01.913Z"
   },
   {
    "duration": 22,
    "start_time": "2022-04-03T13:40:02.093Z"
   },
   {
    "duration": 28,
    "start_time": "2022-04-03T13:40:02.117Z"
   },
   {
    "duration": 28,
    "start_time": "2022-04-03T13:40:02.147Z"
   },
   {
    "duration": 145,
    "start_time": "2022-04-03T13:40:02.176Z"
   },
   {
    "duration": 9,
    "start_time": "2022-04-03T13:40:02.323Z"
   },
   {
    "duration": 35,
    "start_time": "2022-04-03T13:40:02.334Z"
   },
   {
    "duration": 100,
    "start_time": "2022-04-03T13:40:02.371Z"
   },
   {
    "duration": 6,
    "start_time": "2022-04-03T13:40:02.473Z"
   },
   {
    "duration": 26,
    "start_time": "2022-04-03T13:40:02.482Z"
   },
   {
    "duration": 19,
    "start_time": "2022-04-03T13:40:02.510Z"
   },
   {
    "duration": 7,
    "start_time": "2022-04-03T13:40:02.530Z"
   },
   {
    "duration": 10,
    "start_time": "2022-04-03T13:40:02.539Z"
   },
   {
    "duration": 24,
    "start_time": "2022-04-03T13:40:02.551Z"
   },
   {
    "duration": 9,
    "start_time": "2022-04-03T13:40:02.577Z"
   },
   {
    "duration": 11,
    "start_time": "2022-04-03T13:40:02.588Z"
   },
   {
    "duration": 26,
    "start_time": "2022-04-03T13:40:02.600Z"
   },
   {
    "duration": 67,
    "start_time": "2022-04-03T13:40:02.628Z"
   },
   {
    "duration": 54,
    "start_time": "2022-04-03T13:40:02.697Z"
   },
   {
    "duration": 62,
    "start_time": "2022-04-03T13:40:02.753Z"
   },
   {
    "duration": 3,
    "start_time": "2022-04-03T13:40:02.817Z"
   },
   {
    "duration": 26,
    "start_time": "2022-04-03T13:40:02.822Z"
   },
   {
    "duration": 6,
    "start_time": "2022-04-03T13:40:02.850Z"
   },
   {
    "duration": 9,
    "start_time": "2022-04-03T13:40:02.858Z"
   },
   {
    "duration": 221,
    "start_time": "2022-04-03T13:40:02.868Z"
   },
   {
    "duration": 86,
    "start_time": "2022-04-03T13:40:03.090Z"
   },
   {
    "duration": 30,
    "start_time": "2022-04-03T13:40:03.178Z"
   },
   {
    "duration": 33,
    "start_time": "2022-04-03T13:40:03.212Z"
   },
   {
    "duration": 29,
    "start_time": "2022-04-03T13:40:03.247Z"
   },
   {
    "duration": 5,
    "start_time": "2022-04-03T13:40:03.277Z"
   },
   {
    "duration": 52,
    "start_time": "2022-04-03T13:40:03.283Z"
   },
   {
    "duration": 6,
    "start_time": "2022-04-03T13:40:03.336Z"
   },
   {
    "duration": 31,
    "start_time": "2022-04-03T13:40:03.344Z"
   },
   {
    "duration": 34,
    "start_time": "2022-04-03T13:40:03.377Z"
   },
   {
    "duration": 5,
    "start_time": "2022-04-03T13:40:03.413Z"
   },
   {
    "duration": 9,
    "start_time": "2022-04-03T13:40:03.420Z"
   },
   {
    "duration": 5,
    "start_time": "2022-04-03T13:40:03.430Z"
   },
   {
    "duration": 9,
    "start_time": "2022-04-03T13:40:03.436Z"
   },
   {
    "duration": 90,
    "start_time": "2022-04-03T13:40:03.446Z"
   },
   {
    "duration": 37,
    "start_time": "2022-04-03T13:40:03.537Z"
   },
   {
    "duration": 503,
    "start_time": "2022-04-03T13:40:03.575Z"
   },
   {
    "duration": 171,
    "start_time": "2022-04-03T13:40:04.080Z"
   },
   {
    "duration": 113,
    "start_time": "2022-04-03T13:40:04.253Z"
   },
   {
    "duration": 8,
    "start_time": "2022-04-03T13:40:04.369Z"
   },
   {
    "duration": 485,
    "start_time": "2022-04-03T13:40:04.380Z"
   },
   {
    "duration": 488,
    "start_time": "2022-04-03T13:40:04.867Z"
   },
   {
    "duration": 491,
    "start_time": "2022-04-03T13:40:05.357Z"
   },
   {
    "duration": 582,
    "start_time": "2022-04-03T13:40:05.850Z"
   },
   {
    "duration": 9,
    "start_time": "2022-04-03T13:40:06.434Z"
   },
   {
    "duration": 25,
    "start_time": "2022-04-03T13:40:06.445Z"
   },
   {
    "duration": 443,
    "start_time": "2022-04-03T13:40:06.471Z"
   },
   {
    "duration": 2,
    "start_time": "2022-04-03T13:40:06.916Z"
   },
   {
    "duration": 8,
    "start_time": "2022-04-03T13:40:06.920Z"
   },
   {
    "duration": 7,
    "start_time": "2022-04-03T13:40:06.930Z"
   },
   {
    "duration": 9,
    "start_time": "2022-04-03T13:40:06.938Z"
   },
   {
    "duration": 11,
    "start_time": "2022-04-03T13:40:06.948Z"
   },
   {
    "duration": 6,
    "start_time": "2022-04-03T13:40:06.961Z"
   },
   {
    "duration": 8,
    "start_time": "2022-04-03T13:40:06.969Z"
   },
   {
    "duration": 637,
    "start_time": "2022-04-03T13:59:40.394Z"
   },
   {
    "duration": 140,
    "start_time": "2022-04-03T13:59:41.033Z"
   },
   {
    "duration": 12,
    "start_time": "2022-04-03T13:59:41.174Z"
   },
   {
    "duration": 36,
    "start_time": "2022-04-03T13:59:41.188Z"
   },
   {
    "duration": 26,
    "start_time": "2022-04-03T13:59:41.226Z"
   },
   {
    "duration": 144,
    "start_time": "2022-04-03T13:59:41.253Z"
   },
   {
    "duration": 14,
    "start_time": "2022-04-03T13:59:41.399Z"
   },
   {
    "duration": 32,
    "start_time": "2022-04-03T13:59:41.414Z"
   },
   {
    "duration": 91,
    "start_time": "2022-04-03T13:59:41.448Z"
   },
   {
    "duration": 7,
    "start_time": "2022-04-03T13:59:41.542Z"
   },
   {
    "duration": 20,
    "start_time": "2022-04-03T13:59:41.550Z"
   },
   {
    "duration": 10,
    "start_time": "2022-04-03T13:59:41.571Z"
   },
   {
    "duration": 7,
    "start_time": "2022-04-03T13:59:41.582Z"
   },
   {
    "duration": 23,
    "start_time": "2022-04-03T13:59:41.591Z"
   },
   {
    "duration": 16,
    "start_time": "2022-04-03T13:59:41.616Z"
   },
   {
    "duration": 9,
    "start_time": "2022-04-03T13:59:41.633Z"
   },
   {
    "duration": 10,
    "start_time": "2022-04-03T13:59:41.644Z"
   },
   {
    "duration": 241,
    "start_time": "2022-04-03T13:59:41.656Z"
   },
   {
    "duration": 81,
    "start_time": "2022-04-03T13:59:41.899Z"
   },
   {
    "duration": 32,
    "start_time": "2022-04-03T13:59:41.982Z"
   },
   {
    "duration": 69,
    "start_time": "2022-04-03T13:59:42.016Z"
   },
   {
    "duration": 56,
    "start_time": "2022-04-03T13:59:42.087Z"
   },
   {
    "duration": 51,
    "start_time": "2022-04-03T13:59:42.144Z"
   },
   {
    "duration": 13,
    "start_time": "2022-04-03T13:59:42.196Z"
   },
   {
    "duration": 10,
    "start_time": "2022-04-03T13:59:42.210Z"
   },
   {
    "duration": 3,
    "start_time": "2022-04-03T13:59:42.221Z"
   },
   {
    "duration": 11,
    "start_time": "2022-04-03T13:59:42.225Z"
   },
   {
    "duration": 30,
    "start_time": "2022-04-03T13:59:42.239Z"
   },
   {
    "duration": 53,
    "start_time": "2022-04-03T13:59:42.270Z"
   },
   {
    "duration": 5,
    "start_time": "2022-04-03T13:59:42.324Z"
   },
   {
    "duration": 31,
    "start_time": "2022-04-03T13:59:42.330Z"
   },
   {
    "duration": 7,
    "start_time": "2022-04-03T13:59:42.362Z"
   },
   {
    "duration": 51,
    "start_time": "2022-04-03T13:59:42.370Z"
   },
   {
    "duration": 13,
    "start_time": "2022-04-03T13:59:42.422Z"
   },
   {
    "duration": 5,
    "start_time": "2022-04-03T13:59:42.436Z"
   },
   {
    "duration": 7,
    "start_time": "2022-04-03T13:59:42.443Z"
   },
   {
    "duration": 4,
    "start_time": "2022-04-03T13:59:42.451Z"
   },
   {
    "duration": 9,
    "start_time": "2022-04-03T13:59:42.457Z"
   },
   {
    "duration": 96,
    "start_time": "2022-04-03T13:59:42.468Z"
   },
   {
    "duration": 43,
    "start_time": "2022-04-03T13:59:42.566Z"
   },
   {
    "duration": 476,
    "start_time": "2022-04-03T13:59:42.610Z"
   },
   {
    "duration": 103,
    "start_time": "2022-04-03T13:59:43.088Z"
   },
   {
    "duration": 165,
    "start_time": "2022-04-03T13:59:43.192Z"
   },
   {
    "duration": 8,
    "start_time": "2022-04-03T13:59:43.358Z"
   },
   {
    "duration": 458,
    "start_time": "2022-04-03T13:59:43.368Z"
   },
   {
    "duration": 450,
    "start_time": "2022-04-03T13:59:43.828Z"
   },
   {
    "duration": 456,
    "start_time": "2022-04-03T13:59:44.279Z"
   },
   {
    "duration": 545,
    "start_time": "2022-04-03T13:59:44.737Z"
   },
   {
    "duration": 11,
    "start_time": "2022-04-03T13:59:45.284Z"
   },
   {
    "duration": 14,
    "start_time": "2022-04-03T13:59:45.296Z"
   },
   {
    "duration": 392,
    "start_time": "2022-04-03T13:59:45.312Z"
   },
   {
    "duration": 3,
    "start_time": "2022-04-03T13:59:45.706Z"
   },
   {
    "duration": 7,
    "start_time": "2022-04-03T13:59:45.711Z"
   },
   {
    "duration": 9,
    "start_time": "2022-04-03T13:59:45.719Z"
   },
   {
    "duration": 11,
    "start_time": "2022-04-03T13:59:45.730Z"
   },
   {
    "duration": 47,
    "start_time": "2022-04-03T13:59:45.743Z"
   },
   {
    "duration": 15,
    "start_time": "2022-04-03T13:59:45.791Z"
   },
   {
    "duration": 6,
    "start_time": "2022-04-03T13:59:45.808Z"
   },
   {
    "duration": 28,
    "start_time": "2022-04-03T14:02:09.075Z"
   },
   {
    "duration": 32,
    "start_time": "2022-04-03T14:02:29.820Z"
   },
   {
    "duration": 31,
    "start_time": "2022-04-03T14:02:59.000Z"
   },
   {
    "duration": 35,
    "start_time": "2022-04-03T14:03:34.906Z"
   },
   {
    "duration": 10,
    "start_time": "2022-04-03T14:03:53.369Z"
   },
   {
    "duration": 11,
    "start_time": "2022-04-03T14:04:11.239Z"
   },
   {
    "duration": 36,
    "start_time": "2022-04-03T14:08:28.670Z"
   },
   {
    "duration": 29,
    "start_time": "2022-04-03T14:08:41.755Z"
   },
   {
    "duration": 14,
    "start_time": "2022-04-03T14:10:11.966Z"
   },
   {
    "duration": 7,
    "start_time": "2022-04-03T14:13:15.485Z"
   },
   {
    "duration": 9,
    "start_time": "2022-04-03T14:23:32.527Z"
   },
   {
    "duration": 73,
    "start_time": "2022-04-03T14:26:45.639Z"
   },
   {
    "duration": 69,
    "start_time": "2022-04-03T14:26:49.544Z"
   },
   {
    "duration": 67,
    "start_time": "2022-04-03T14:28:35.370Z"
   },
   {
    "duration": 110,
    "start_time": "2022-04-03T14:33:06.505Z"
   },
   {
    "duration": 4,
    "start_time": "2022-04-03T14:33:43.829Z"
   },
   {
    "duration": 6,
    "start_time": "2022-04-03T14:33:52.329Z"
   },
   {
    "duration": 5,
    "start_time": "2022-04-03T14:33:58.363Z"
   },
   {
    "duration": 7,
    "start_time": "2022-04-03T14:34:11.761Z"
   },
   {
    "duration": 7,
    "start_time": "2022-04-03T14:34:51.401Z"
   },
   {
    "duration": 7,
    "start_time": "2022-04-03T14:35:29.596Z"
   },
   {
    "duration": 22,
    "start_time": "2022-04-03T14:36:45.133Z"
   },
   {
    "duration": 22,
    "start_time": "2022-04-03T14:37:38.041Z"
   },
   {
    "duration": 20,
    "start_time": "2022-04-03T14:38:33.383Z"
   },
   {
    "duration": 3,
    "start_time": "2022-04-03T14:38:45.133Z"
   },
   {
    "duration": 147,
    "start_time": "2022-04-03T14:38:45.138Z"
   },
   {
    "duration": 8,
    "start_time": "2022-04-03T14:38:45.287Z"
   },
   {
    "duration": 25,
    "start_time": "2022-04-03T14:38:45.309Z"
   },
   {
    "duration": 25,
    "start_time": "2022-04-03T14:38:45.335Z"
   },
   {
    "duration": 140,
    "start_time": "2022-04-03T14:38:45.361Z"
   },
   {
    "duration": 9,
    "start_time": "2022-04-03T14:38:45.502Z"
   },
   {
    "duration": 34,
    "start_time": "2022-04-03T14:38:45.512Z"
   },
   {
    "duration": 94,
    "start_time": "2022-04-03T14:38:45.548Z"
   },
   {
    "duration": 7,
    "start_time": "2022-04-03T14:38:45.643Z"
   },
   {
    "duration": 19,
    "start_time": "2022-04-03T14:38:45.652Z"
   },
   {
    "duration": 9,
    "start_time": "2022-04-03T14:38:45.673Z"
   },
   {
    "duration": 7,
    "start_time": "2022-04-03T14:38:45.683Z"
   },
   {
    "duration": 24,
    "start_time": "2022-04-03T14:38:45.692Z"
   },
   {
    "duration": 19,
    "start_time": "2022-04-03T14:38:45.718Z"
   },
   {
    "duration": 9,
    "start_time": "2022-04-03T14:38:45.738Z"
   },
   {
    "duration": 23,
    "start_time": "2022-04-03T14:38:45.749Z"
   },
   {
    "duration": 198,
    "start_time": "2022-04-03T14:38:45.774Z"
   },
   {
    "duration": 83,
    "start_time": "2022-04-03T14:38:45.973Z"
   },
   {
    "duration": 15,
    "start_time": "2022-04-03T14:38:46.058Z"
   },
   {
    "duration": 81,
    "start_time": "2022-04-03T14:38:46.075Z"
   },
   {
    "duration": 42,
    "start_time": "2022-04-03T14:38:46.157Z"
   },
   {
    "duration": 50,
    "start_time": "2022-04-03T14:38:46.209Z"
   },
   {
    "duration": 4,
    "start_time": "2022-04-03T14:38:46.263Z"
   },
   {
    "duration": 9,
    "start_time": "2022-04-03T14:38:46.268Z"
   },
   {
    "duration": 3,
    "start_time": "2022-04-03T14:38:46.279Z"
   },
   {
    "duration": 6,
    "start_time": "2022-04-03T14:38:46.308Z"
   },
   {
    "duration": 32,
    "start_time": "2022-04-03T14:38:46.315Z"
   },
   {
    "duration": 28,
    "start_time": "2022-04-03T14:38:46.349Z"
   },
   {
    "duration": 9,
    "start_time": "2022-04-03T14:38:46.378Z"
   },
   {
    "duration": 27,
    "start_time": "2022-04-03T14:38:46.408Z"
   },
   {
    "duration": 8,
    "start_time": "2022-04-03T14:38:46.437Z"
   },
   {
    "duration": 27,
    "start_time": "2022-04-03T14:38:46.447Z"
   },
   {
    "duration": 38,
    "start_time": "2022-04-03T14:38:46.475Z"
   },
   {
    "duration": 5,
    "start_time": "2022-04-03T14:38:46.515Z"
   },
   {
    "duration": 19,
    "start_time": "2022-04-03T14:38:46.522Z"
   },
   {
    "duration": 7,
    "start_time": "2022-04-03T14:38:46.542Z"
   },
   {
    "duration": 13,
    "start_time": "2022-04-03T14:38:46.550Z"
   },
   {
    "duration": 8,
    "start_time": "2022-04-03T14:38:46.565Z"
   },
   {
    "duration": 35,
    "start_time": "2022-04-03T14:38:46.575Z"
   },
   {
    "duration": 0,
    "start_time": "2022-04-03T14:38:46.611Z"
   },
   {
    "duration": 0,
    "start_time": "2022-04-03T14:38:46.613Z"
   },
   {
    "duration": 0,
    "start_time": "2022-04-03T14:38:46.614Z"
   },
   {
    "duration": 0,
    "start_time": "2022-04-03T14:38:46.615Z"
   },
   {
    "duration": 0,
    "start_time": "2022-04-03T14:38:46.616Z"
   },
   {
    "duration": 0,
    "start_time": "2022-04-03T14:38:46.617Z"
   },
   {
    "duration": 0,
    "start_time": "2022-04-03T14:38:46.618Z"
   },
   {
    "duration": 0,
    "start_time": "2022-04-03T14:38:46.619Z"
   },
   {
    "duration": 0,
    "start_time": "2022-04-03T14:38:46.620Z"
   },
   {
    "duration": 0,
    "start_time": "2022-04-03T14:38:46.621Z"
   },
   {
    "duration": 0,
    "start_time": "2022-04-03T14:38:46.622Z"
   },
   {
    "duration": 0,
    "start_time": "2022-04-03T14:38:46.623Z"
   },
   {
    "duration": 0,
    "start_time": "2022-04-03T14:38:46.624Z"
   },
   {
    "duration": 0,
    "start_time": "2022-04-03T14:38:46.625Z"
   },
   {
    "duration": 0,
    "start_time": "2022-04-03T14:38:46.626Z"
   },
   {
    "duration": 0,
    "start_time": "2022-04-03T14:38:46.627Z"
   },
   {
    "duration": 0,
    "start_time": "2022-04-03T14:38:46.627Z"
   },
   {
    "duration": 0,
    "start_time": "2022-04-03T14:38:46.628Z"
   },
   {
    "duration": 0,
    "start_time": "2022-04-03T14:38:46.630Z"
   },
   {
    "duration": 0,
    "start_time": "2022-04-03T14:38:46.630Z"
   },
   {
    "duration": 9,
    "start_time": "2022-04-03T14:48:25.872Z"
   },
   {
    "duration": 15,
    "start_time": "2022-04-03T14:50:23.946Z"
   },
   {
    "duration": 5,
    "start_time": "2022-04-03T14:50:54.681Z"
   },
   {
    "duration": 16,
    "start_time": "2022-04-03T14:53:35.407Z"
   },
   {
    "duration": 20,
    "start_time": "2022-04-03T14:55:01.034Z"
   },
   {
    "duration": 23,
    "start_time": "2022-04-03T14:58:55.925Z"
   },
   {
    "duration": 26,
    "start_time": "2022-04-03T15:03:07.837Z"
   },
   {
    "duration": 20,
    "start_time": "2022-04-03T15:03:53.142Z"
   },
   {
    "duration": 60,
    "start_time": "2022-04-03T15:05:22.887Z"
   },
   {
    "duration": 3,
    "start_time": "2022-04-03T15:06:37.589Z"
   },
   {
    "duration": 167,
    "start_time": "2022-04-03T15:06:37.597Z"
   },
   {
    "duration": 9,
    "start_time": "2022-04-03T15:06:37.766Z"
   },
   {
    "duration": 47,
    "start_time": "2022-04-03T15:06:37.777Z"
   },
   {
    "duration": 26,
    "start_time": "2022-04-03T15:06:37.826Z"
   },
   {
    "duration": 140,
    "start_time": "2022-04-03T15:06:37.853Z"
   },
   {
    "duration": 9,
    "start_time": "2022-04-03T15:06:37.994Z"
   },
   {
    "duration": 31,
    "start_time": "2022-04-03T15:06:38.009Z"
   },
   {
    "duration": 96,
    "start_time": "2022-04-03T15:06:38.041Z"
   },
   {
    "duration": 8,
    "start_time": "2022-04-03T15:06:38.138Z"
   },
   {
    "duration": 19,
    "start_time": "2022-04-03T15:06:38.148Z"
   },
   {
    "duration": 10,
    "start_time": "2022-04-03T15:06:38.168Z"
   },
   {
    "duration": 7,
    "start_time": "2022-04-03T15:06:38.179Z"
   },
   {
    "duration": 31,
    "start_time": "2022-04-03T15:06:38.188Z"
   },
   {
    "duration": 18,
    "start_time": "2022-04-03T15:06:38.221Z"
   },
   {
    "duration": 9,
    "start_time": "2022-04-03T15:06:38.241Z"
   },
   {
    "duration": 11,
    "start_time": "2022-04-03T15:06:38.252Z"
   },
   {
    "duration": 217,
    "start_time": "2022-04-03T15:06:38.264Z"
   },
   {
    "duration": 89,
    "start_time": "2022-04-03T15:06:38.482Z"
   },
   {
    "duration": 16,
    "start_time": "2022-04-03T15:06:38.573Z"
   },
   {
    "duration": 80,
    "start_time": "2022-04-03T15:06:38.591Z"
   },
   {
    "duration": 60,
    "start_time": "2022-04-03T15:06:38.673Z"
   },
   {
    "duration": 56,
    "start_time": "2022-04-03T15:06:38.735Z"
   },
   {
    "duration": 4,
    "start_time": "2022-04-03T15:06:38.809Z"
   },
   {
    "duration": 13,
    "start_time": "2022-04-03T15:06:38.814Z"
   },
   {
    "duration": 17,
    "start_time": "2022-04-03T15:06:38.829Z"
   },
   {
    "duration": 21,
    "start_time": "2022-04-03T15:06:38.848Z"
   },
   {
    "duration": 31,
    "start_time": "2022-04-03T15:06:38.871Z"
   },
   {
    "duration": 29,
    "start_time": "2022-04-03T15:06:38.906Z"
   },
   {
    "duration": 11,
    "start_time": "2022-04-03T15:06:38.937Z"
   },
   {
    "duration": 35,
    "start_time": "2022-04-03T15:06:38.950Z"
   },
   {
    "duration": 29,
    "start_time": "2022-04-03T15:06:38.987Z"
   },
   {
    "duration": 30,
    "start_time": "2022-04-03T15:06:39.017Z"
   },
   {
    "duration": 13,
    "start_time": "2022-04-03T15:06:39.049Z"
   },
   {
    "duration": 6,
    "start_time": "2022-04-03T15:06:39.064Z"
   },
   {
    "duration": 23,
    "start_time": "2022-04-03T15:06:39.071Z"
   },
   {
    "duration": 5,
    "start_time": "2022-04-03T15:06:39.109Z"
   },
   {
    "duration": 16,
    "start_time": "2022-04-03T15:06:39.116Z"
   },
   {
    "duration": 40,
    "start_time": "2022-04-03T15:06:39.134Z"
   },
   {
    "duration": 38,
    "start_time": "2022-04-03T15:06:39.176Z"
   },
   {
    "duration": 0,
    "start_time": "2022-04-03T15:06:39.215Z"
   },
   {
    "duration": 0,
    "start_time": "2022-04-03T15:06:39.217Z"
   },
   {
    "duration": 0,
    "start_time": "2022-04-03T15:06:39.218Z"
   },
   {
    "duration": 0,
    "start_time": "2022-04-03T15:06:39.218Z"
   },
   {
    "duration": 0,
    "start_time": "2022-04-03T15:06:39.219Z"
   },
   {
    "duration": 0,
    "start_time": "2022-04-03T15:06:39.220Z"
   },
   {
    "duration": 0,
    "start_time": "2022-04-03T15:06:39.222Z"
   },
   {
    "duration": 0,
    "start_time": "2022-04-03T15:06:39.222Z"
   },
   {
    "duration": 0,
    "start_time": "2022-04-03T15:06:39.223Z"
   },
   {
    "duration": 0,
    "start_time": "2022-04-03T15:06:39.225Z"
   },
   {
    "duration": 0,
    "start_time": "2022-04-03T15:06:39.225Z"
   },
   {
    "duration": 0,
    "start_time": "2022-04-03T15:06:39.226Z"
   },
   {
    "duration": 0,
    "start_time": "2022-04-03T15:06:39.227Z"
   },
   {
    "duration": 0,
    "start_time": "2022-04-03T15:06:39.229Z"
   },
   {
    "duration": 0,
    "start_time": "2022-04-03T15:06:39.230Z"
   },
   {
    "duration": 0,
    "start_time": "2022-04-03T15:06:39.230Z"
   },
   {
    "duration": 0,
    "start_time": "2022-04-03T15:06:39.231Z"
   },
   {
    "duration": 0,
    "start_time": "2022-04-03T15:06:39.233Z"
   },
   {
    "duration": 0,
    "start_time": "2022-04-03T15:06:39.234Z"
   },
   {
    "duration": 1,
    "start_time": "2022-04-03T15:06:39.234Z"
   },
   {
    "duration": 4,
    "start_time": "2022-04-03T15:07:34.343Z"
   },
   {
    "duration": 2,
    "start_time": "2022-04-03T15:07:39.240Z"
   },
   {
    "duration": 145,
    "start_time": "2022-04-03T15:07:39.244Z"
   },
   {
    "duration": 21,
    "start_time": "2022-04-03T15:07:39.391Z"
   },
   {
    "duration": 27,
    "start_time": "2022-04-03T15:07:39.414Z"
   },
   {
    "duration": 26,
    "start_time": "2022-04-03T15:07:39.444Z"
   },
   {
    "duration": 148,
    "start_time": "2022-04-03T15:07:39.471Z"
   },
   {
    "duration": 9,
    "start_time": "2022-04-03T15:07:39.620Z"
   },
   {
    "duration": 33,
    "start_time": "2022-04-03T15:07:39.630Z"
   },
   {
    "duration": 100,
    "start_time": "2022-04-03T15:07:39.664Z"
   },
   {
    "duration": 8,
    "start_time": "2022-04-03T15:07:39.765Z"
   },
   {
    "duration": 39,
    "start_time": "2022-04-03T15:07:39.774Z"
   },
   {
    "duration": 9,
    "start_time": "2022-04-03T15:07:39.815Z"
   },
   {
    "duration": 7,
    "start_time": "2022-04-03T15:07:39.826Z"
   },
   {
    "duration": 11,
    "start_time": "2022-04-03T15:07:39.836Z"
   },
   {
    "duration": 20,
    "start_time": "2022-04-03T15:07:39.848Z"
   },
   {
    "duration": 11,
    "start_time": "2022-04-03T15:07:39.872Z"
   },
   {
    "duration": 20,
    "start_time": "2022-04-03T15:07:39.910Z"
   },
   {
    "duration": 188,
    "start_time": "2022-04-03T15:07:39.931Z"
   },
   {
    "duration": 69,
    "start_time": "2022-04-03T15:07:40.121Z"
   },
   {
    "duration": 31,
    "start_time": "2022-04-03T15:07:40.191Z"
   },
   {
    "duration": 67,
    "start_time": "2022-04-03T15:07:40.224Z"
   },
   {
    "duration": 45,
    "start_time": "2022-04-03T15:07:40.309Z"
   },
   {
    "duration": 66,
    "start_time": "2022-04-03T15:07:40.355Z"
   },
   {
    "duration": 4,
    "start_time": "2022-04-03T15:07:40.423Z"
   },
   {
    "duration": 10,
    "start_time": "2022-04-03T15:07:40.429Z"
   },
   {
    "duration": 5,
    "start_time": "2022-04-03T15:07:40.440Z"
   },
   {
    "duration": 6,
    "start_time": "2022-04-03T15:07:40.447Z"
   },
   {
    "duration": 56,
    "start_time": "2022-04-03T15:07:40.455Z"
   },
   {
    "duration": 33,
    "start_time": "2022-04-03T15:07:40.514Z"
   },
   {
    "duration": 13,
    "start_time": "2022-04-03T15:07:40.550Z"
   },
   {
    "duration": 70,
    "start_time": "2022-04-03T15:07:40.565Z"
   },
   {
    "duration": 11,
    "start_time": "2022-04-03T15:07:40.637Z"
   },
   {
    "duration": 32,
    "start_time": "2022-04-03T15:07:40.650Z"
   },
   {
    "duration": 36,
    "start_time": "2022-04-03T15:07:40.683Z"
   },
   {
    "duration": 6,
    "start_time": "2022-04-03T15:07:40.721Z"
   },
   {
    "duration": 9,
    "start_time": "2022-04-03T15:07:40.728Z"
   },
   {
    "duration": 5,
    "start_time": "2022-04-03T15:07:40.739Z"
   },
   {
    "duration": 15,
    "start_time": "2022-04-03T15:07:40.745Z"
   },
   {
    "duration": 59,
    "start_time": "2022-04-03T15:07:40.761Z"
   },
   {
    "duration": 4,
    "start_time": "2022-04-03T15:07:40.822Z"
   },
   {
    "duration": 89,
    "start_time": "2022-04-03T15:07:40.830Z"
   },
   {
    "duration": 36,
    "start_time": "2022-04-03T15:07:40.921Z"
   },
   {
    "duration": 555,
    "start_time": "2022-04-03T15:07:40.958Z"
   },
   {
    "duration": 117,
    "start_time": "2022-04-03T15:07:41.514Z"
   },
   {
    "duration": 109,
    "start_time": "2022-04-03T15:07:41.633Z"
   },
   {
    "duration": 8,
    "start_time": "2022-04-03T15:07:41.744Z"
   },
   {
    "duration": 493,
    "start_time": "2022-04-03T15:07:41.753Z"
   },
   {
    "duration": 452,
    "start_time": "2022-04-03T15:07:42.248Z"
   },
   {
    "duration": 569,
    "start_time": "2022-04-03T15:07:42.702Z"
   },
   {
    "duration": 464,
    "start_time": "2022-04-03T15:07:43.272Z"
   },
   {
    "duration": 9,
    "start_time": "2022-04-03T15:07:43.738Z"
   },
   {
    "duration": 3,
    "start_time": "2022-04-03T15:07:43.749Z"
   },
   {
    "duration": 4,
    "start_time": "2022-04-03T15:07:43.754Z"
   },
   {
    "duration": 3,
    "start_time": "2022-04-03T15:07:43.760Z"
   },
   {
    "duration": 7,
    "start_time": "2022-04-03T15:07:43.764Z"
   },
   {
    "duration": 5,
    "start_time": "2022-04-03T15:07:43.772Z"
   },
   {
    "duration": 30,
    "start_time": "2022-04-03T15:07:43.779Z"
   },
   {
    "duration": 10,
    "start_time": "2022-04-03T15:07:43.811Z"
   },
   {
    "duration": 6,
    "start_time": "2022-04-03T15:07:43.822Z"
   },
   {
    "duration": 5,
    "start_time": "2022-04-03T15:07:43.830Z"
   },
   {
    "duration": 4,
    "start_time": "2022-04-03T15:13:09.809Z"
   },
   {
    "duration": 3,
    "start_time": "2022-04-03T15:13:39.043Z"
   },
   {
    "duration": 4,
    "start_time": "2022-04-03T15:14:26.015Z"
   },
   {
    "duration": 10,
    "start_time": "2022-04-03T15:14:38.457Z"
   },
   {
    "duration": 5,
    "start_time": "2022-04-03T15:16:18.359Z"
   },
   {
    "duration": 4,
    "start_time": "2022-04-03T15:16:58.922Z"
   },
   {
    "duration": 4,
    "start_time": "2022-04-03T15:17:40.174Z"
   },
   {
    "duration": 4,
    "start_time": "2022-04-03T15:18:34.374Z"
   },
   {
    "duration": 4,
    "start_time": "2022-04-03T15:19:29.412Z"
   },
   {
    "duration": 2,
    "start_time": "2022-04-03T15:20:36.725Z"
   },
   {
    "duration": 3,
    "start_time": "2022-04-03T15:20:45.133Z"
   },
   {
    "duration": 6,
    "start_time": "2022-04-03T15:22:50.313Z"
   },
   {
    "duration": 469,
    "start_time": "2022-04-03T15:29:45.914Z"
   },
   {
    "duration": 432,
    "start_time": "2022-04-03T15:31:47.061Z"
   },
   {
    "duration": 586,
    "start_time": "2022-04-03T15:32:00.650Z"
   },
   {
    "duration": 491,
    "start_time": "2022-04-03T15:32:05.564Z"
   },
   {
    "duration": 493,
    "start_time": "2022-04-03T15:32:22.502Z"
   },
   {
    "duration": 455,
    "start_time": "2022-04-03T15:32:39.503Z"
   },
   {
    "duration": 588,
    "start_time": "2022-04-03T15:32:51.648Z"
   },
   {
    "duration": 496,
    "start_time": "2022-04-03T15:33:04.792Z"
   },
   {
    "duration": 502,
    "start_time": "2022-04-03T15:33:13.530Z"
   },
   {
    "duration": 3,
    "start_time": "2022-04-03T15:35:21.540Z"
   },
   {
    "duration": 1064,
    "start_time": "2022-04-03T15:41:51.191Z"
   },
   {
    "duration": 147,
    "start_time": "2022-04-03T15:41:52.257Z"
   },
   {
    "duration": 15,
    "start_time": "2022-04-03T15:41:52.405Z"
   },
   {
    "duration": 28,
    "start_time": "2022-04-03T15:41:52.422Z"
   },
   {
    "duration": 25,
    "start_time": "2022-04-03T15:41:52.451Z"
   },
   {
    "duration": 143,
    "start_time": "2022-04-03T15:41:52.478Z"
   },
   {
    "duration": 9,
    "start_time": "2022-04-03T15:41:52.622Z"
   },
   {
    "duration": 37,
    "start_time": "2022-04-03T15:41:52.633Z"
   },
   {
    "duration": 91,
    "start_time": "2022-04-03T15:41:52.672Z"
   },
   {
    "duration": 7,
    "start_time": "2022-04-03T15:41:52.765Z"
   },
   {
    "duration": 34,
    "start_time": "2022-04-03T15:41:52.774Z"
   },
   {
    "duration": 9,
    "start_time": "2022-04-03T15:41:52.810Z"
   },
   {
    "duration": 7,
    "start_time": "2022-04-03T15:41:52.821Z"
   },
   {
    "duration": 13,
    "start_time": "2022-04-03T15:41:52.829Z"
   },
   {
    "duration": 31,
    "start_time": "2022-04-03T15:41:52.843Z"
   },
   {
    "duration": 9,
    "start_time": "2022-04-03T15:41:52.875Z"
   },
   {
    "duration": 11,
    "start_time": "2022-04-03T15:41:52.886Z"
   },
   {
    "duration": 233,
    "start_time": "2022-04-03T15:41:52.899Z"
   },
   {
    "duration": 87,
    "start_time": "2022-04-03T15:41:53.133Z"
   },
   {
    "duration": 16,
    "start_time": "2022-04-03T15:41:53.222Z"
   },
   {
    "duration": 87,
    "start_time": "2022-04-03T15:41:53.240Z"
   },
   {
    "duration": 43,
    "start_time": "2022-04-03T15:41:53.329Z"
   },
   {
    "duration": 69,
    "start_time": "2022-04-03T15:41:53.374Z"
   },
   {
    "duration": 4,
    "start_time": "2022-04-03T15:41:53.445Z"
   },
   {
    "duration": 10,
    "start_time": "2022-04-03T15:41:53.450Z"
   },
   {
    "duration": 3,
    "start_time": "2022-04-03T15:41:53.462Z"
   },
   {
    "duration": 8,
    "start_time": "2022-04-03T15:41:53.467Z"
   },
   {
    "duration": 33,
    "start_time": "2022-04-03T15:41:53.508Z"
   },
   {
    "duration": 30,
    "start_time": "2022-04-03T15:41:53.543Z"
   },
   {
    "duration": 10,
    "start_time": "2022-04-03T15:41:53.574Z"
   },
   {
    "duration": 32,
    "start_time": "2022-04-03T15:41:53.608Z"
   },
   {
    "duration": 8,
    "start_time": "2022-04-03T15:41:53.641Z"
   },
   {
    "duration": 30,
    "start_time": "2022-04-03T15:41:53.651Z"
   },
   {
    "duration": 14,
    "start_time": "2022-04-03T15:41:53.709Z"
   },
   {
    "duration": 6,
    "start_time": "2022-04-03T15:41:53.725Z"
   },
   {
    "duration": 8,
    "start_time": "2022-04-03T15:41:53.733Z"
   },
   {
    "duration": 5,
    "start_time": "2022-04-03T15:41:53.743Z"
   },
   {
    "duration": 11,
    "start_time": "2022-04-03T15:41:53.749Z"
   },
   {
    "duration": 65,
    "start_time": "2022-04-03T15:41:53.761Z"
   },
   {
    "duration": 11,
    "start_time": "2022-04-03T15:41:53.828Z"
   },
   {
    "duration": 6,
    "start_time": "2022-04-03T15:41:53.841Z"
   },
   {
    "duration": 97,
    "start_time": "2022-04-03T15:41:53.848Z"
   },
   {
    "duration": 35,
    "start_time": "2022-04-03T15:41:53.947Z"
   },
   {
    "duration": 483,
    "start_time": "2022-04-03T15:41:53.983Z"
   },
   {
    "duration": 113,
    "start_time": "2022-04-03T15:41:54.467Z"
   },
   {
    "duration": 107,
    "start_time": "2022-04-03T15:41:54.582Z"
   },
   {
    "duration": 18,
    "start_time": "2022-04-03T15:41:54.690Z"
   },
   {
    "duration": 467,
    "start_time": "2022-04-03T15:41:54.710Z"
   },
   {
    "duration": 549,
    "start_time": "2022-04-03T15:41:55.178Z"
   },
   {
    "duration": 462,
    "start_time": "2022-04-03T15:41:55.729Z"
   },
   {
    "duration": 448,
    "start_time": "2022-04-03T15:41:56.192Z"
   },
   {
    "duration": 9,
    "start_time": "2022-04-03T15:41:56.642Z"
   },
   {
    "duration": 6,
    "start_time": "2022-04-03T15:41:56.652Z"
   },
   {
    "duration": 6,
    "start_time": "2022-04-03T15:41:56.660Z"
   },
   {
    "duration": 6,
    "start_time": "2022-04-03T15:41:56.667Z"
   },
   {
    "duration": 9,
    "start_time": "2022-04-03T15:41:56.675Z"
   },
   {
    "duration": 5,
    "start_time": "2022-04-03T15:41:56.685Z"
   },
   {
    "duration": 10,
    "start_time": "2022-04-03T15:41:56.709Z"
   },
   {
    "duration": 3,
    "start_time": "2022-04-03T15:41:56.720Z"
   },
   {
    "duration": 11,
    "start_time": "2022-04-03T15:41:56.725Z"
   },
   {
    "duration": 1246,
    "start_time": "2022-04-04T08:39:29.707Z"
   },
   {
    "duration": 151,
    "start_time": "2022-04-04T08:39:30.955Z"
   },
   {
    "duration": 13,
    "start_time": "2022-04-04T08:39:31.107Z"
   },
   {
    "duration": 30,
    "start_time": "2022-04-04T08:39:31.123Z"
   },
   {
    "duration": 27,
    "start_time": "2022-04-04T08:39:31.155Z"
   },
   {
    "duration": 135,
    "start_time": "2022-04-04T08:39:31.184Z"
   },
   {
    "duration": 9,
    "start_time": "2022-04-04T08:39:31.321Z"
   },
   {
    "duration": 42,
    "start_time": "2022-04-04T08:39:31.332Z"
   },
   {
    "duration": 95,
    "start_time": "2022-04-04T08:39:31.376Z"
   },
   {
    "duration": 8,
    "start_time": "2022-04-04T08:39:31.473Z"
   },
   {
    "duration": 33,
    "start_time": "2022-04-04T08:39:31.483Z"
   },
   {
    "duration": 10,
    "start_time": "2022-04-04T08:39:31.518Z"
   },
   {
    "duration": 8,
    "start_time": "2022-04-04T08:39:31.529Z"
   },
   {
    "duration": 13,
    "start_time": "2022-04-04T08:39:31.539Z"
   },
   {
    "duration": 18,
    "start_time": "2022-04-04T08:39:31.553Z"
   },
   {
    "duration": 10,
    "start_time": "2022-04-04T08:39:31.572Z"
   },
   {
    "duration": 26,
    "start_time": "2022-04-04T08:39:31.583Z"
   },
   {
    "duration": 226,
    "start_time": "2022-04-04T08:39:31.610Z"
   },
   {
    "duration": 101,
    "start_time": "2022-04-04T08:39:31.838Z"
   },
   {
    "duration": 19,
    "start_time": "2022-04-04T08:39:31.941Z"
   },
   {
    "duration": 89,
    "start_time": "2022-04-04T08:39:31.962Z"
   },
   {
    "duration": 45,
    "start_time": "2022-04-04T08:39:32.053Z"
   },
   {
    "duration": 55,
    "start_time": "2022-04-04T08:39:32.109Z"
   },
   {
    "duration": 5,
    "start_time": "2022-04-04T08:39:32.166Z"
   },
   {
    "duration": 9,
    "start_time": "2022-04-04T08:39:32.173Z"
   },
   {
    "duration": 27,
    "start_time": "2022-04-04T08:39:32.184Z"
   },
   {
    "duration": 10,
    "start_time": "2022-04-04T08:39:32.213Z"
   },
   {
    "duration": 46,
    "start_time": "2022-04-04T08:39:32.227Z"
   },
   {
    "duration": 51,
    "start_time": "2022-04-04T08:39:32.275Z"
   },
   {
    "duration": 10,
    "start_time": "2022-04-04T08:39:32.328Z"
   },
   {
    "duration": 33,
    "start_time": "2022-04-04T08:39:32.340Z"
   },
   {
    "duration": 37,
    "start_time": "2022-04-04T08:39:32.375Z"
   },
   {
    "duration": 28,
    "start_time": "2022-04-04T08:39:32.414Z"
   },
   {
    "duration": 14,
    "start_time": "2022-04-04T08:39:32.444Z"
   },
   {
    "duration": 7,
    "start_time": "2022-04-04T08:39:32.460Z"
   },
   {
    "duration": 41,
    "start_time": "2022-04-04T08:39:32.468Z"
   },
   {
    "duration": 5,
    "start_time": "2022-04-04T08:39:32.511Z"
   },
   {
    "duration": 9,
    "start_time": "2022-04-04T08:39:32.518Z"
   },
   {
    "duration": 27,
    "start_time": "2022-04-04T08:39:32.528Z"
   },
   {
    "duration": 8,
    "start_time": "2022-04-04T08:39:32.557Z"
   },
   {
    "duration": 110,
    "start_time": "2022-04-04T08:39:50.620Z"
   },
   {
    "duration": 22,
    "start_time": "2022-04-04T08:42:34.933Z"
   },
   {
    "duration": 30,
    "start_time": "2022-04-04T08:43:02.178Z"
   },
   {
    "duration": 34,
    "start_time": "2022-04-04T08:43:10.462Z"
   },
   {
    "duration": 36,
    "start_time": "2022-04-04T08:43:13.267Z"
   },
   {
    "duration": 26,
    "start_time": "2022-04-04T08:43:23.006Z"
   },
   {
    "duration": 28,
    "start_time": "2022-04-04T08:43:33.139Z"
   },
   {
    "duration": 26,
    "start_time": "2022-04-04T08:43:40.461Z"
   },
   {
    "duration": 19,
    "start_time": "2022-04-04T08:43:46.633Z"
   },
   {
    "duration": 4,
    "start_time": "2022-04-04T08:44:20.586Z"
   },
   {
    "duration": 75,
    "start_time": "2022-04-04T08:44:22.356Z"
   },
   {
    "duration": 68,
    "start_time": "2022-04-04T09:10:50.813Z"
   },
   {
    "duration": 72,
    "start_time": "2022-04-04T09:11:07.041Z"
   },
   {
    "duration": 69,
    "start_time": "2022-04-04T09:13:09.709Z"
   },
   {
    "duration": 69,
    "start_time": "2022-04-04T09:13:16.988Z"
   },
   {
    "duration": 66,
    "start_time": "2022-04-04T09:13:45.915Z"
   },
   {
    "duration": 70,
    "start_time": "2022-04-04T09:13:52.770Z"
   },
   {
    "duration": 28,
    "start_time": "2022-04-04T09:25:37.499Z"
   },
   {
    "duration": 31,
    "start_time": "2022-04-04T09:25:44.992Z"
   },
   {
    "duration": 46,
    "start_time": "2022-04-05T15:42:13.977Z"
   },
   {
    "duration": 1382,
    "start_time": "2022-04-05T15:42:35.943Z"
   },
   {
    "duration": 176,
    "start_time": "2022-04-05T15:42:37.327Z"
   },
   {
    "duration": 12,
    "start_time": "2022-04-05T15:42:37.504Z"
   },
   {
    "duration": 41,
    "start_time": "2022-04-05T15:42:37.518Z"
   },
   {
    "duration": 28,
    "start_time": "2022-04-05T15:42:37.562Z"
   },
   {
    "duration": 163,
    "start_time": "2022-04-05T15:42:37.592Z"
   },
   {
    "duration": 8,
    "start_time": "2022-04-05T15:42:37.757Z"
   },
   {
    "duration": 33,
    "start_time": "2022-04-05T15:42:37.767Z"
   },
   {
    "duration": 104,
    "start_time": "2022-04-05T15:42:37.802Z"
   },
   {
    "duration": 8,
    "start_time": "2022-04-05T15:42:37.908Z"
   },
   {
    "duration": 28,
    "start_time": "2022-04-05T15:42:37.932Z"
   },
   {
    "duration": 9,
    "start_time": "2022-04-05T15:42:37.962Z"
   },
   {
    "duration": 7,
    "start_time": "2022-04-05T15:42:37.973Z"
   },
   {
    "duration": 10,
    "start_time": "2022-04-05T15:42:37.983Z"
   },
   {
    "duration": 18,
    "start_time": "2022-04-05T15:42:37.995Z"
   },
   {
    "duration": 31,
    "start_time": "2022-04-05T15:42:38.015Z"
   },
   {
    "duration": 14,
    "start_time": "2022-04-05T15:42:38.048Z"
   },
   {
    "duration": 278,
    "start_time": "2022-04-05T15:42:38.064Z"
   },
   {
    "duration": 103,
    "start_time": "2022-04-05T15:42:38.345Z"
   },
   {
    "duration": 17,
    "start_time": "2022-04-05T15:42:38.450Z"
   },
   {
    "duration": 96,
    "start_time": "2022-04-05T15:42:38.469Z"
   },
   {
    "duration": 43,
    "start_time": "2022-04-05T15:42:38.567Z"
   },
   {
    "duration": 73,
    "start_time": "2022-04-05T15:42:38.612Z"
   },
   {
    "duration": 5,
    "start_time": "2022-04-05T15:42:38.686Z"
   },
   {
    "duration": 13,
    "start_time": "2022-04-05T15:42:38.692Z"
   },
   {
    "duration": 4,
    "start_time": "2022-04-05T15:42:38.706Z"
   },
   {
    "duration": 30,
    "start_time": "2022-04-05T15:42:38.711Z"
   },
   {
    "duration": 48,
    "start_time": "2022-04-05T15:42:38.742Z"
   },
   {
    "duration": 50,
    "start_time": "2022-04-05T15:42:38.792Z"
   },
   {
    "duration": 10,
    "start_time": "2022-04-05T15:42:38.845Z"
   },
   {
    "duration": 35,
    "start_time": "2022-04-05T15:42:38.857Z"
   },
   {
    "duration": 10,
    "start_time": "2022-04-05T15:42:38.893Z"
   },
   {
    "duration": 51,
    "start_time": "2022-04-05T15:42:38.905Z"
   },
   {
    "duration": 13,
    "start_time": "2022-04-05T15:42:38.957Z"
   },
   {
    "duration": 6,
    "start_time": "2022-04-05T15:42:38.972Z"
   },
   {
    "duration": 10,
    "start_time": "2022-04-05T15:42:38.979Z"
   },
   {
    "duration": 6,
    "start_time": "2022-04-05T15:42:38.991Z"
   },
   {
    "duration": 35,
    "start_time": "2022-04-05T15:42:38.998Z"
   },
   {
    "duration": 30,
    "start_time": "2022-04-05T15:42:39.035Z"
   },
   {
    "duration": 12,
    "start_time": "2022-04-05T15:42:39.067Z"
   },
   {
    "duration": 8,
    "start_time": "2022-04-05T15:42:39.083Z"
   },
   {
    "duration": 98,
    "start_time": "2022-04-05T15:42:39.092Z"
   },
   {
    "duration": 46,
    "start_time": "2022-04-05T15:42:39.192Z"
   },
   {
    "duration": 501,
    "start_time": "2022-04-05T15:42:39.240Z"
   },
   {
    "duration": 124,
    "start_time": "2022-04-05T15:42:39.743Z"
   },
   {
    "duration": 112,
    "start_time": "2022-04-05T15:42:39.869Z"
   },
   {
    "duration": 9,
    "start_time": "2022-04-05T15:42:39.983Z"
   },
   {
    "duration": 494,
    "start_time": "2022-04-05T15:42:39.994Z"
   },
   {
    "duration": 568,
    "start_time": "2022-04-05T15:42:40.490Z"
   },
   {
    "duration": 479,
    "start_time": "2022-04-05T15:42:41.060Z"
   },
   {
    "duration": 462,
    "start_time": "2022-04-05T15:42:41.541Z"
   },
   {
    "duration": 9,
    "start_time": "2022-04-05T15:42:42.005Z"
   },
   {
    "duration": 17,
    "start_time": "2022-04-05T15:42:42.016Z"
   },
   {
    "duration": 7,
    "start_time": "2022-04-05T15:42:42.035Z"
   },
   {
    "duration": 14,
    "start_time": "2022-04-05T15:42:42.044Z"
   },
   {
    "duration": 6,
    "start_time": "2022-04-05T15:42:42.059Z"
   },
   {
    "duration": 7,
    "start_time": "2022-04-05T15:42:42.067Z"
   },
   {
    "duration": 11,
    "start_time": "2022-04-05T15:42:42.075Z"
   },
   {
    "duration": 9,
    "start_time": "2022-04-05T15:42:42.087Z"
   },
   {
    "duration": 7,
    "start_time": "2022-04-05T15:42:42.097Z"
   },
   {
    "duration": 28,
    "start_time": "2022-04-05T15:46:38.777Z"
   },
   {
    "duration": 6,
    "start_time": "2022-04-05T15:46:41.857Z"
   },
   {
    "duration": 27,
    "start_time": "2022-04-05T15:48:18.286Z"
   },
   {
    "duration": 2,
    "start_time": "2022-04-05T15:48:26.285Z"
   },
   {
    "duration": 185,
    "start_time": "2022-04-05T15:48:26.290Z"
   },
   {
    "duration": 9,
    "start_time": "2022-04-05T15:48:26.477Z"
   },
   {
    "duration": 46,
    "start_time": "2022-04-05T15:48:26.488Z"
   },
   {
    "duration": 26,
    "start_time": "2022-04-05T15:48:26.537Z"
   },
   {
    "duration": 141,
    "start_time": "2022-04-05T15:48:26.565Z"
   },
   {
    "duration": 10,
    "start_time": "2022-04-05T15:48:26.707Z"
   },
   {
    "duration": 42,
    "start_time": "2022-04-05T15:48:26.719Z"
   },
   {
    "duration": 100,
    "start_time": "2022-04-05T15:48:26.763Z"
   },
   {
    "duration": 8,
    "start_time": "2022-04-05T15:48:26.864Z"
   },
   {
    "duration": 19,
    "start_time": "2022-04-05T15:48:26.876Z"
   },
   {
    "duration": 10,
    "start_time": "2022-04-05T15:48:26.897Z"
   },
   {
    "duration": 27,
    "start_time": "2022-04-05T15:48:26.908Z"
   },
   {
    "duration": 10,
    "start_time": "2022-04-05T15:48:26.937Z"
   },
   {
    "duration": 17,
    "start_time": "2022-04-05T15:48:26.949Z"
   },
   {
    "duration": 10,
    "start_time": "2022-04-05T15:48:26.968Z"
   },
   {
    "duration": 12,
    "start_time": "2022-04-05T15:48:26.980Z"
   },
   {
    "duration": 227,
    "start_time": "2022-04-05T15:48:26.993Z"
   },
   {
    "duration": 74,
    "start_time": "2022-04-05T15:48:27.233Z"
   },
   {
    "duration": 33,
    "start_time": "2022-04-05T15:48:27.309Z"
   },
   {
    "duration": 71,
    "start_time": "2022-04-05T15:48:27.343Z"
   },
   {
    "duration": 57,
    "start_time": "2022-04-05T15:48:27.416Z"
   },
   {
    "duration": 72,
    "start_time": "2022-04-05T15:48:27.475Z"
   },
   {
    "duration": 4,
    "start_time": "2022-04-05T15:48:27.549Z"
   },
   {
    "duration": 10,
    "start_time": "2022-04-05T15:48:27.554Z"
   },
   {
    "duration": 4,
    "start_time": "2022-04-05T15:48:27.565Z"
   },
   {
    "duration": 8,
    "start_time": "2022-04-05T15:48:27.570Z"
   },
   {
    "duration": 57,
    "start_time": "2022-04-05T15:48:27.579Z"
   },
   {
    "duration": 29,
    "start_time": "2022-04-05T15:48:27.640Z"
   },
   {
    "duration": 10,
    "start_time": "2022-04-05T15:48:27.670Z"
   },
   {
    "duration": 55,
    "start_time": "2022-04-05T15:48:27.682Z"
   },
   {
    "duration": 11,
    "start_time": "2022-04-05T15:48:27.739Z"
   },
   {
    "duration": 30,
    "start_time": "2022-04-05T15:48:27.752Z"
   },
   {
    "duration": 15,
    "start_time": "2022-04-05T15:48:27.784Z"
   },
   {
    "duration": 8,
    "start_time": "2022-04-05T15:48:27.832Z"
   },
   {
    "duration": 9,
    "start_time": "2022-04-05T15:48:27.842Z"
   },
   {
    "duration": 5,
    "start_time": "2022-04-05T15:48:27.854Z"
   },
   {
    "duration": 9,
    "start_time": "2022-04-05T15:48:27.861Z"
   },
   {
    "duration": 27,
    "start_time": "2022-04-05T15:48:27.872Z"
   },
   {
    "duration": 37,
    "start_time": "2022-04-05T15:48:27.901Z"
   },
   {
    "duration": 7,
    "start_time": "2022-04-05T15:48:27.940Z"
   },
   {
    "duration": 86,
    "start_time": "2022-04-05T15:48:27.949Z"
   },
   {
    "duration": 37,
    "start_time": "2022-04-05T15:48:28.037Z"
   },
   {
    "duration": 466,
    "start_time": "2022-04-05T15:48:28.076Z"
   },
   {
    "duration": 217,
    "start_time": "2022-04-05T15:48:28.544Z"
   },
   {
    "duration": 108,
    "start_time": "2022-04-05T15:48:28.763Z"
   },
   {
    "duration": 9,
    "start_time": "2022-04-05T15:48:28.873Z"
   },
   {
    "duration": 452,
    "start_time": "2022-04-05T15:48:28.884Z"
   },
   {
    "duration": 546,
    "start_time": "2022-04-05T15:48:29.338Z"
   },
   {
    "duration": 451,
    "start_time": "2022-04-05T15:48:29.886Z"
   },
   {
    "duration": 558,
    "start_time": "2022-04-05T15:48:30.338Z"
   },
   {
    "duration": 9,
    "start_time": "2022-04-05T15:48:30.898Z"
   },
   {
    "duration": 16,
    "start_time": "2022-04-05T15:48:30.909Z"
   },
   {
    "duration": 6,
    "start_time": "2022-04-05T15:48:30.927Z"
   },
   {
    "duration": 13,
    "start_time": "2022-04-05T15:48:30.935Z"
   },
   {
    "duration": 8,
    "start_time": "2022-04-05T15:48:30.950Z"
   },
   {
    "duration": 11,
    "start_time": "2022-04-05T15:48:30.960Z"
   },
   {
    "duration": 23,
    "start_time": "2022-04-05T15:48:30.972Z"
   },
   {
    "duration": 28,
    "start_time": "2022-04-05T15:48:30.997Z"
   },
   {
    "duration": 21,
    "start_time": "2022-04-05T15:48:31.026Z"
   },
   {
    "duration": 72,
    "start_time": "2022-04-05T15:51:34.866Z"
   },
   {
    "duration": 3,
    "start_time": "2022-04-05T15:52:22.758Z"
   },
   {
    "duration": 150,
    "start_time": "2022-04-05T15:52:22.763Z"
   },
   {
    "duration": 20,
    "start_time": "2022-04-05T15:52:22.915Z"
   },
   {
    "duration": 26,
    "start_time": "2022-04-05T15:52:22.937Z"
   },
   {
    "duration": 24,
    "start_time": "2022-04-05T15:52:22.965Z"
   },
   {
    "duration": 144,
    "start_time": "2022-04-05T15:52:22.991Z"
   },
   {
    "duration": 10,
    "start_time": "2022-04-05T15:52:23.136Z"
   },
   {
    "duration": 34,
    "start_time": "2022-04-05T15:52:23.147Z"
   },
   {
    "duration": 97,
    "start_time": "2022-04-05T15:52:23.184Z"
   },
   {
    "duration": 8,
    "start_time": "2022-04-05T15:52:23.283Z"
   },
   {
    "duration": 21,
    "start_time": "2022-04-05T15:52:23.292Z"
   },
   {
    "duration": 19,
    "start_time": "2022-04-05T15:52:23.314Z"
   },
   {
    "duration": 8,
    "start_time": "2022-04-05T15:52:23.335Z"
   },
   {
    "duration": 10,
    "start_time": "2022-04-05T15:52:23.345Z"
   },
   {
    "duration": 32,
    "start_time": "2022-04-05T15:52:23.357Z"
   },
   {
    "duration": 11,
    "start_time": "2022-04-05T15:52:23.391Z"
   },
   {
    "duration": 12,
    "start_time": "2022-04-05T15:52:23.404Z"
   },
   {
    "duration": 215,
    "start_time": "2022-04-05T15:52:23.418Z"
   },
   {
    "duration": 74,
    "start_time": "2022-04-05T15:52:23.635Z"
   },
   {
    "duration": 35,
    "start_time": "2022-04-05T15:52:23.711Z"
   },
   {
    "duration": 68,
    "start_time": "2022-04-05T15:52:23.748Z"
   },
   {
    "duration": 46,
    "start_time": "2022-04-05T15:52:23.833Z"
   },
   {
    "duration": 69,
    "start_time": "2022-04-05T15:52:23.881Z"
   },
   {
    "duration": 4,
    "start_time": "2022-04-05T15:52:23.955Z"
   },
   {
    "duration": 10,
    "start_time": "2022-04-05T15:52:23.960Z"
   },
   {
    "duration": 4,
    "start_time": "2022-04-05T15:52:23.971Z"
   },
   {
    "duration": 7,
    "start_time": "2022-04-05T15:52:23.976Z"
   },
   {
    "duration": 56,
    "start_time": "2022-04-05T15:52:23.985Z"
   },
   {
    "duration": 30,
    "start_time": "2022-04-05T15:52:24.042Z"
   },
   {
    "duration": 10,
    "start_time": "2022-04-05T15:52:24.074Z"
   },
   {
    "duration": 51,
    "start_time": "2022-04-05T15:52:24.086Z"
   },
   {
    "duration": 10,
    "start_time": "2022-04-05T15:52:24.139Z"
   },
   {
    "duration": 31,
    "start_time": "2022-04-05T15:52:24.151Z"
   },
   {
    "duration": 14,
    "start_time": "2022-04-05T15:52:24.184Z"
   },
   {
    "duration": 34,
    "start_time": "2022-04-05T15:52:24.200Z"
   },
   {
    "duration": 12,
    "start_time": "2022-04-05T15:52:24.236Z"
   },
   {
    "duration": 6,
    "start_time": "2022-04-05T15:52:24.249Z"
   },
   {
    "duration": 9,
    "start_time": "2022-04-05T15:52:24.257Z"
   },
   {
    "duration": 31,
    "start_time": "2022-04-05T15:52:24.268Z"
   },
   {
    "duration": 3,
    "start_time": "2022-04-05T15:52:24.300Z"
   },
   {
    "duration": 92,
    "start_time": "2022-04-05T15:52:24.305Z"
   },
   {
    "duration": 48,
    "start_time": "2022-04-05T15:52:24.399Z"
   },
   {
    "duration": 443,
    "start_time": "2022-04-05T15:52:24.449Z"
   },
   {
    "duration": 105,
    "start_time": "2022-04-05T15:52:24.893Z"
   },
   {
    "duration": 101,
    "start_time": "2022-04-05T15:52:24.999Z"
   },
   {
    "duration": 8,
    "start_time": "2022-04-05T15:52:25.102Z"
   },
   {
    "duration": 553,
    "start_time": "2022-04-05T15:52:25.111Z"
   },
   {
    "duration": 437,
    "start_time": "2022-04-05T15:52:25.666Z"
   },
   {
    "duration": 432,
    "start_time": "2022-04-05T15:52:26.105Z"
   },
   {
    "duration": 427,
    "start_time": "2022-04-05T15:52:26.538Z"
   },
   {
    "duration": 10,
    "start_time": "2022-04-05T15:52:26.967Z"
   },
   {
    "duration": 4,
    "start_time": "2022-04-05T15:52:26.978Z"
   },
   {
    "duration": 5,
    "start_time": "2022-04-05T15:52:26.984Z"
   },
   {
    "duration": 11,
    "start_time": "2022-04-05T15:52:26.990Z"
   },
   {
    "duration": 15,
    "start_time": "2022-04-05T15:52:27.003Z"
   },
   {
    "duration": 15,
    "start_time": "2022-04-05T15:52:27.020Z"
   },
   {
    "duration": 12,
    "start_time": "2022-04-05T15:52:27.037Z"
   },
   {
    "duration": 4,
    "start_time": "2022-04-05T15:52:27.051Z"
   },
   {
    "duration": 5,
    "start_time": "2022-04-05T15:52:27.057Z"
   },
   {
    "duration": 1062,
    "start_time": "2022-04-05T15:52:38.018Z"
   },
   {
    "duration": 155,
    "start_time": "2022-04-05T15:52:39.082Z"
   },
   {
    "duration": 13,
    "start_time": "2022-04-05T15:52:39.239Z"
   },
   {
    "duration": 27,
    "start_time": "2022-04-05T15:52:39.254Z"
   },
   {
    "duration": 50,
    "start_time": "2022-04-05T15:52:39.283Z"
   },
   {
    "duration": 122,
    "start_time": "2022-04-05T15:52:39.335Z"
   },
   {
    "duration": 9,
    "start_time": "2022-04-05T15:52:39.459Z"
   },
   {
    "duration": 34,
    "start_time": "2022-04-05T15:52:39.470Z"
   },
   {
    "duration": 99,
    "start_time": "2022-04-05T15:52:39.506Z"
   },
   {
    "duration": 8,
    "start_time": "2022-04-05T15:52:39.609Z"
   },
   {
    "duration": 25,
    "start_time": "2022-04-05T15:52:39.619Z"
   },
   {
    "duration": 10,
    "start_time": "2022-04-05T15:52:39.646Z"
   },
   {
    "duration": 9,
    "start_time": "2022-04-05T15:52:39.658Z"
   },
   {
    "duration": 11,
    "start_time": "2022-04-05T15:52:39.669Z"
   },
   {
    "duration": 17,
    "start_time": "2022-04-05T15:52:39.682Z"
   },
   {
    "duration": 36,
    "start_time": "2022-04-05T15:52:39.701Z"
   },
   {
    "duration": 11,
    "start_time": "2022-04-05T15:52:39.738Z"
   },
   {
    "duration": 251,
    "start_time": "2022-04-05T15:52:39.751Z"
   },
   {
    "duration": 101,
    "start_time": "2022-04-05T15:52:40.004Z"
   },
   {
    "duration": 26,
    "start_time": "2022-04-05T15:52:40.107Z"
   },
   {
    "duration": 68,
    "start_time": "2022-04-05T15:52:40.135Z"
   },
   {
    "duration": 59,
    "start_time": "2022-04-05T15:52:40.205Z"
   },
   {
    "duration": 54,
    "start_time": "2022-04-05T15:52:40.265Z"
   },
   {
    "duration": 3,
    "start_time": "2022-04-05T15:52:40.333Z"
   },
   {
    "duration": 13,
    "start_time": "2022-04-05T15:52:40.338Z"
   },
   {
    "duration": 4,
    "start_time": "2022-04-05T15:52:40.353Z"
   },
   {
    "duration": 14,
    "start_time": "2022-04-05T15:52:40.359Z"
   },
   {
    "duration": 57,
    "start_time": "2022-04-05T15:52:40.377Z"
   },
   {
    "duration": 34,
    "start_time": "2022-04-05T15:52:40.436Z"
   },
   {
    "duration": 11,
    "start_time": "2022-04-05T15:52:40.472Z"
   },
   {
    "duration": 55,
    "start_time": "2022-04-05T15:52:40.484Z"
   },
   {
    "duration": 9,
    "start_time": "2022-04-05T15:52:40.541Z"
   },
   {
    "duration": 30,
    "start_time": "2022-04-05T15:52:40.552Z"
   },
   {
    "duration": 13,
    "start_time": "2022-04-05T15:52:40.584Z"
   },
   {
    "duration": 35,
    "start_time": "2022-04-05T15:52:40.598Z"
   },
   {
    "duration": 9,
    "start_time": "2022-04-05T15:52:40.635Z"
   },
   {
    "duration": 9,
    "start_time": "2022-04-05T15:52:40.645Z"
   },
   {
    "duration": 9,
    "start_time": "2022-04-05T15:52:40.656Z"
   },
   {
    "duration": 29,
    "start_time": "2022-04-05T15:52:40.667Z"
   },
   {
    "duration": 7,
    "start_time": "2022-04-05T15:52:40.697Z"
   },
   {
    "duration": 66,
    "start_time": "2022-04-05T15:52:40.732Z"
   },
   {
    "duration": 48,
    "start_time": "2022-04-05T15:52:40.800Z"
   },
   {
    "duration": 446,
    "start_time": "2022-04-05T15:52:40.850Z"
   },
   {
    "duration": 103,
    "start_time": "2022-04-05T15:52:41.298Z"
   },
   {
    "duration": 106,
    "start_time": "2022-04-05T15:52:41.403Z"
   },
   {
    "duration": 7,
    "start_time": "2022-04-05T15:52:41.511Z"
   },
   {
    "duration": 440,
    "start_time": "2022-04-05T15:52:41.519Z"
   },
   {
    "duration": 515,
    "start_time": "2022-04-05T15:52:41.960Z"
   },
   {
    "duration": 438,
    "start_time": "2022-04-05T15:52:42.477Z"
   },
   {
    "duration": 419,
    "start_time": "2022-04-05T15:52:42.916Z"
   },
   {
    "duration": 10,
    "start_time": "2022-04-05T15:52:43.337Z"
   },
   {
    "duration": 6,
    "start_time": "2022-04-05T15:52:43.348Z"
   },
   {
    "duration": 7,
    "start_time": "2022-04-05T15:52:43.355Z"
   },
   {
    "duration": 6,
    "start_time": "2022-04-05T15:52:43.364Z"
   },
   {
    "duration": 7,
    "start_time": "2022-04-05T15:52:43.372Z"
   },
   {
    "duration": 6,
    "start_time": "2022-04-05T15:52:43.380Z"
   },
   {
    "duration": 12,
    "start_time": "2022-04-05T15:52:43.387Z"
   },
   {
    "duration": 32,
    "start_time": "2022-04-05T15:52:43.401Z"
   },
   {
    "duration": 6,
    "start_time": "2022-04-05T15:52:43.435Z"
   },
   {
    "duration": 107,
    "start_time": "2022-04-05T15:53:45.720Z"
   },
   {
    "duration": 3,
    "start_time": "2022-04-05T16:00:30.344Z"
   },
   {
    "duration": 160,
    "start_time": "2022-04-05T16:00:30.349Z"
   },
   {
    "duration": 23,
    "start_time": "2022-04-05T16:00:30.511Z"
   },
   {
    "duration": 26,
    "start_time": "2022-04-05T16:00:30.536Z"
   },
   {
    "duration": 26,
    "start_time": "2022-04-05T16:00:30.563Z"
   },
   {
    "duration": 152,
    "start_time": "2022-04-05T16:00:30.591Z"
   },
   {
    "duration": 9,
    "start_time": "2022-04-05T16:00:30.745Z"
   },
   {
    "duration": 39,
    "start_time": "2022-04-05T16:00:30.755Z"
   },
   {
    "duration": 95,
    "start_time": "2022-04-05T16:00:30.796Z"
   },
   {
    "duration": 9,
    "start_time": "2022-04-05T16:00:30.892Z"
   },
   {
    "duration": 35,
    "start_time": "2022-04-05T16:00:30.902Z"
   },
   {
    "duration": 10,
    "start_time": "2022-04-05T16:00:30.939Z"
   },
   {
    "duration": 9,
    "start_time": "2022-04-05T16:00:30.950Z"
   },
   {
    "duration": 15,
    "start_time": "2022-04-05T16:00:30.960Z"
   },
   {
    "duration": 26,
    "start_time": "2022-04-05T16:00:30.977Z"
   },
   {
    "duration": 10,
    "start_time": "2022-04-05T16:00:31.005Z"
   },
   {
    "duration": 22,
    "start_time": "2022-04-05T16:00:31.017Z"
   },
   {
    "duration": 211,
    "start_time": "2022-04-05T16:00:31.041Z"
   },
   {
    "duration": 91,
    "start_time": "2022-04-05T16:00:31.254Z"
   },
   {
    "duration": 17,
    "start_time": "2022-04-05T16:00:31.347Z"
   },
   {
    "duration": 90,
    "start_time": "2022-04-05T16:00:31.366Z"
   },
   {
    "duration": 46,
    "start_time": "2022-04-05T16:00:31.458Z"
   },
   {
    "duration": 65,
    "start_time": "2022-04-05T16:00:31.506Z"
   },
   {
    "duration": 4,
    "start_time": "2022-04-05T16:00:31.576Z"
   },
   {
    "duration": 12,
    "start_time": "2022-04-05T16:00:31.582Z"
   },
   {
    "duration": 4,
    "start_time": "2022-04-05T16:00:31.596Z"
   },
   {
    "duration": 33,
    "start_time": "2022-04-05T16:00:31.602Z"
   },
   {
    "duration": 37,
    "start_time": "2022-04-05T16:00:31.637Z"
   },
   {
    "duration": 30,
    "start_time": "2022-04-05T16:00:31.676Z"
   },
   {
    "duration": 12,
    "start_time": "2022-04-05T16:00:31.732Z"
   },
   {
    "duration": 34,
    "start_time": "2022-04-05T16:00:31.746Z"
   },
   {
    "duration": 10,
    "start_time": "2022-04-05T16:00:31.782Z"
   },
   {
    "duration": 58,
    "start_time": "2022-04-05T16:00:31.794Z"
   },
   {
    "duration": 13,
    "start_time": "2022-04-05T16:00:31.854Z"
   },
   {
    "duration": 10,
    "start_time": "2022-04-05T16:00:31.869Z"
   },
   {
    "duration": 9,
    "start_time": "2022-04-05T16:00:31.880Z"
   },
   {
    "duration": 5,
    "start_time": "2022-04-05T16:00:31.890Z"
   },
   {
    "duration": 11,
    "start_time": "2022-04-05T16:00:31.897Z"
   },
   {
    "duration": 27,
    "start_time": "2022-04-05T16:00:31.934Z"
   },
   {
    "duration": 8,
    "start_time": "2022-04-05T16:00:31.963Z"
   },
   {
    "duration": 82,
    "start_time": "2022-04-05T16:00:31.973Z"
   },
   {
    "duration": 36,
    "start_time": "2022-04-05T16:00:32.057Z"
   },
   {
    "duration": 456,
    "start_time": "2022-04-05T16:00:32.095Z"
   },
   {
    "duration": 206,
    "start_time": "2022-04-05T16:00:32.553Z"
   },
   {
    "duration": 102,
    "start_time": "2022-04-05T16:00:32.760Z"
   },
   {
    "duration": 8,
    "start_time": "2022-04-05T16:00:32.864Z"
   },
   {
    "duration": 441,
    "start_time": "2022-04-05T16:00:32.873Z"
   },
   {
    "duration": 434,
    "start_time": "2022-04-05T16:00:33.316Z"
   },
   {
    "duration": 421,
    "start_time": "2022-04-05T16:00:33.752Z"
   },
   {
    "duration": 532,
    "start_time": "2022-04-05T16:00:34.175Z"
   },
   {
    "duration": 9,
    "start_time": "2022-04-05T16:00:34.708Z"
   },
   {
    "duration": 14,
    "start_time": "2022-04-05T16:00:34.719Z"
   },
   {
    "duration": 7,
    "start_time": "2022-04-05T16:00:34.735Z"
   },
   {
    "duration": 18,
    "start_time": "2022-04-05T16:00:34.743Z"
   },
   {
    "duration": 9,
    "start_time": "2022-04-05T16:00:34.762Z"
   },
   {
    "duration": 10,
    "start_time": "2022-04-05T16:00:34.772Z"
   },
   {
    "duration": 20,
    "start_time": "2022-04-05T16:00:34.784Z"
   },
   {
    "duration": 4,
    "start_time": "2022-04-05T16:00:34.806Z"
   },
   {
    "duration": 5,
    "start_time": "2022-04-05T16:00:34.811Z"
   },
   {
    "duration": 74,
    "start_time": "2022-10-06T19:47:23.241Z"
   },
   {
    "duration": 1211,
    "start_time": "2022-10-06T19:47:49.058Z"
   },
   {
    "duration": 252,
    "start_time": "2022-10-06T19:47:50.271Z"
   },
   {
    "duration": 12,
    "start_time": "2022-10-06T19:47:50.525Z"
   },
   {
    "duration": 23,
    "start_time": "2022-10-06T19:47:50.538Z"
   },
   {
    "duration": 25,
    "start_time": "2022-10-06T19:47:50.562Z"
   },
   {
    "duration": 318,
    "start_time": "2022-10-06T19:47:50.588Z"
   },
   {
    "duration": 8,
    "start_time": "2022-10-06T19:47:50.908Z"
   },
   {
    "duration": 42,
    "start_time": "2022-10-06T19:47:50.918Z"
   },
   {
    "duration": 298,
    "start_time": "2022-10-06T19:47:50.962Z"
   },
   {
    "duration": 6,
    "start_time": "2022-10-06T19:47:51.264Z"
   },
   {
    "duration": 24,
    "start_time": "2022-10-06T19:47:51.276Z"
   },
   {
    "duration": 73,
    "start_time": "2022-10-06T19:47:51.302Z"
   },
   {
    "duration": 7,
    "start_time": "2022-10-06T19:47:51.377Z"
   },
   {
    "duration": 17,
    "start_time": "2022-10-06T19:47:51.385Z"
   },
   {
    "duration": 68,
    "start_time": "2022-10-06T19:47:51.404Z"
   },
   {
    "duration": 8,
    "start_time": "2022-10-06T19:47:51.474Z"
   },
   {
    "duration": 14,
    "start_time": "2022-10-06T19:47:51.484Z"
   },
   {
    "duration": 204,
    "start_time": "2022-10-06T19:47:51.500Z"
   },
   {
    "duration": 75,
    "start_time": "2022-10-06T19:47:51.706Z"
   },
   {
    "duration": 16,
    "start_time": "2022-10-06T19:47:51.782Z"
   },
   {
    "duration": 70,
    "start_time": "2022-10-06T19:47:51.800Z"
   },
   {
    "duration": 56,
    "start_time": "2022-10-06T19:47:51.873Z"
   },
   {
    "duration": 70,
    "start_time": "2022-10-06T19:47:51.931Z"
   },
   {
    "duration": 20,
    "start_time": "2022-10-06T19:47:52.003Z"
   },
   {
    "duration": 8,
    "start_time": "2022-10-06T19:47:52.026Z"
   },
   {
    "duration": 4,
    "start_time": "2022-10-06T19:47:52.036Z"
   },
   {
    "duration": 12,
    "start_time": "2022-10-06T19:47:52.041Z"
   },
   {
    "duration": 31,
    "start_time": "2022-10-06T19:47:52.056Z"
   },
   {
    "duration": 68,
    "start_time": "2022-10-06T19:47:52.089Z"
   },
   {
    "duration": 12,
    "start_time": "2022-10-06T19:47:52.159Z"
   },
   {
    "duration": 48,
    "start_time": "2022-10-06T19:47:52.173Z"
   },
   {
    "duration": 10,
    "start_time": "2022-10-06T19:47:52.222Z"
   },
   {
    "duration": 28,
    "start_time": "2022-10-06T19:47:52.234Z"
   },
   {
    "duration": 12,
    "start_time": "2022-10-06T19:47:52.263Z"
   },
   {
    "duration": 7,
    "start_time": "2022-10-06T19:47:52.277Z"
   },
   {
    "duration": 34,
    "start_time": "2022-10-06T19:47:52.285Z"
   },
   {
    "duration": 10,
    "start_time": "2022-10-06T19:47:52.320Z"
   },
   {
    "duration": 12,
    "start_time": "2022-10-06T19:47:52.332Z"
   },
   {
    "duration": 27,
    "start_time": "2022-10-06T19:47:52.346Z"
   },
   {
    "duration": 3,
    "start_time": "2022-10-06T19:47:52.375Z"
   },
   {
    "duration": 98,
    "start_time": "2022-10-06T19:47:52.379Z"
   },
   {
    "duration": 43,
    "start_time": "2022-10-06T19:47:52.478Z"
   },
   {
    "duration": 468,
    "start_time": "2022-10-06T19:47:52.523Z"
   },
   {
    "duration": 133,
    "start_time": "2022-10-06T19:47:52.992Z"
   },
   {
    "duration": 101,
    "start_time": "2022-10-06T19:47:53.127Z"
   },
   {
    "duration": 8,
    "start_time": "2022-10-06T19:47:53.230Z"
   },
   {
    "duration": 448,
    "start_time": "2022-10-06T19:47:53.240Z"
   },
   {
    "duration": 564,
    "start_time": "2022-10-06T19:47:53.690Z"
   },
   {
    "duration": 526,
    "start_time": "2022-10-06T19:47:54.256Z"
   },
   {
    "duration": 468,
    "start_time": "2022-10-06T19:47:54.785Z"
   },
   {
    "duration": 12,
    "start_time": "2022-10-06T19:47:55.255Z"
   },
   {
    "duration": 11,
    "start_time": "2022-10-06T19:47:55.269Z"
   },
   {
    "duration": 5,
    "start_time": "2022-10-06T19:47:55.282Z"
   },
   {
    "duration": 23,
    "start_time": "2022-10-06T19:47:55.288Z"
   },
   {
    "duration": 17,
    "start_time": "2022-10-06T19:47:55.316Z"
   },
   {
    "duration": 11,
    "start_time": "2022-10-06T19:47:55.334Z"
   },
   {
    "duration": 6,
    "start_time": "2022-10-06T19:47:55.347Z"
   },
   {
    "duration": 6,
    "start_time": "2022-10-06T19:47:55.355Z"
   },
   {
    "duration": 1052,
    "start_time": "2022-10-06T19:49:36.767Z"
   },
   {
    "duration": 163,
    "start_time": "2022-10-06T19:49:37.821Z"
   },
   {
    "duration": 13,
    "start_time": "2022-10-06T19:49:37.986Z"
   },
   {
    "duration": 40,
    "start_time": "2022-10-06T19:49:38.001Z"
   },
   {
    "duration": 30,
    "start_time": "2022-10-06T19:49:38.043Z"
   },
   {
    "duration": 149,
    "start_time": "2022-10-06T19:49:38.075Z"
   },
   {
    "duration": 12,
    "start_time": "2022-10-06T19:49:38.226Z"
   },
   {
    "duration": 33,
    "start_time": "2022-10-06T19:49:38.241Z"
   },
   {
    "duration": 94,
    "start_time": "2022-10-06T19:49:38.276Z"
   },
   {
    "duration": 8,
    "start_time": "2022-10-06T19:49:38.372Z"
   },
   {
    "duration": 19,
    "start_time": "2022-10-06T19:49:38.381Z"
   },
   {
    "duration": 25,
    "start_time": "2022-10-06T19:49:38.402Z"
   },
   {
    "duration": 8,
    "start_time": "2022-10-06T19:49:38.428Z"
   },
   {
    "duration": 9,
    "start_time": "2022-10-06T19:49:38.439Z"
   },
   {
    "duration": 28,
    "start_time": "2022-10-06T19:49:38.450Z"
   },
   {
    "duration": 9,
    "start_time": "2022-10-06T19:49:38.480Z"
   },
   {
    "duration": 13,
    "start_time": "2022-10-06T19:49:38.490Z"
   },
   {
    "duration": 198,
    "start_time": "2022-10-06T19:49:38.504Z"
   },
   {
    "duration": 75,
    "start_time": "2022-10-06T19:49:38.703Z"
   },
   {
    "duration": 16,
    "start_time": "2022-10-06T19:49:38.780Z"
   },
   {
    "duration": 60,
    "start_time": "2022-10-06T19:49:38.820Z"
   },
   {
    "duration": 44,
    "start_time": "2022-10-06T19:49:38.881Z"
   },
   {
    "duration": 48,
    "start_time": "2022-10-06T19:49:38.926Z"
   },
   {
    "duration": 4,
    "start_time": "2022-10-06T19:49:38.976Z"
   },
   {
    "duration": 9,
    "start_time": "2022-10-06T19:49:38.982Z"
   },
   {
    "duration": 10,
    "start_time": "2022-10-06T19:49:39.011Z"
   },
   {
    "duration": 8,
    "start_time": "2022-10-06T19:49:39.022Z"
   },
   {
    "duration": 34,
    "start_time": "2022-10-06T19:49:39.032Z"
   },
   {
    "duration": 26,
    "start_time": "2022-10-06T19:49:39.067Z"
   },
   {
    "duration": 24,
    "start_time": "2022-10-06T19:49:39.094Z"
   },
   {
    "duration": 35,
    "start_time": "2022-10-06T19:49:39.119Z"
   },
   {
    "duration": 8,
    "start_time": "2022-10-06T19:49:39.156Z"
   },
   {
    "duration": 27,
    "start_time": "2022-10-06T19:49:39.165Z"
   },
   {
    "duration": 41,
    "start_time": "2022-10-06T19:49:39.193Z"
   },
   {
    "duration": 7,
    "start_time": "2022-10-06T19:49:39.236Z"
   },
   {
    "duration": 15,
    "start_time": "2022-10-06T19:49:39.245Z"
   },
   {
    "duration": 6,
    "start_time": "2022-10-06T19:49:39.262Z"
   },
   {
    "duration": 11,
    "start_time": "2022-10-06T19:49:39.270Z"
   },
   {
    "duration": 40,
    "start_time": "2022-10-06T19:49:39.283Z"
   },
   {
    "duration": 4,
    "start_time": "2022-10-06T19:49:39.325Z"
   },
   {
    "duration": 94,
    "start_time": "2022-10-06T19:49:39.332Z"
   },
   {
    "duration": 32,
    "start_time": "2022-10-06T19:49:39.428Z"
   },
   {
    "duration": 469,
    "start_time": "2022-10-06T19:49:39.461Z"
   },
   {
    "duration": 108,
    "start_time": "2022-10-06T19:49:39.931Z"
   },
   {
    "duration": 106,
    "start_time": "2022-10-06T19:49:40.041Z"
   },
   {
    "duration": 8,
    "start_time": "2022-10-06T19:49:40.149Z"
   },
   {
    "duration": 464,
    "start_time": "2022-10-06T19:49:40.159Z"
   },
   {
    "duration": 475,
    "start_time": "2022-10-06T19:49:40.625Z"
   },
   {
    "duration": 465,
    "start_time": "2022-10-06T19:49:41.102Z"
   },
   {
    "duration": 457,
    "start_time": "2022-10-06T19:49:41.569Z"
   },
   {
    "duration": 9,
    "start_time": "2022-10-06T19:49:42.028Z"
   },
   {
    "duration": 7,
    "start_time": "2022-10-06T19:49:42.039Z"
   },
   {
    "duration": 5,
    "start_time": "2022-10-06T19:49:42.047Z"
   },
   {
    "duration": 5,
    "start_time": "2022-10-06T19:49:42.054Z"
   },
   {
    "duration": 6,
    "start_time": "2022-10-06T19:49:42.060Z"
   },
   {
    "duration": 9,
    "start_time": "2022-10-06T19:49:42.068Z"
   },
   {
    "duration": 40,
    "start_time": "2022-10-06T19:49:42.079Z"
   },
   {
    "duration": 3,
    "start_time": "2022-10-06T19:49:42.120Z"
   }
  ],
  "kernelspec": {
   "display_name": "Python 3 (ipykernel)",
   "language": "python",
   "name": "python3"
  },
  "language_info": {
   "codemirror_mode": {
    "name": "ipython",
    "version": 3
   },
   "file_extension": ".py",
   "mimetype": "text/x-python",
   "name": "python",
   "nbconvert_exporter": "python",
   "pygments_lexer": "ipython3",
   "version": "3.9.5"
  },
  "toc": {
   "base_numbering": 1,
   "nav_menu": {},
   "number_sections": true,
   "sideBar": true,
   "skip_h1_title": true,
   "title_cell": "Table of Contents",
   "title_sidebar": "Contents",
   "toc_cell": false,
   "toc_position": {
    "height": "calc(100% - 180px)",
    "left": "10px",
    "top": "150px",
    "width": "164.988px"
   },
   "toc_section_display": true,
   "toc_window_display": true
  }
 },
 "nbformat": 4,
 "nbformat_minor": 2
}
