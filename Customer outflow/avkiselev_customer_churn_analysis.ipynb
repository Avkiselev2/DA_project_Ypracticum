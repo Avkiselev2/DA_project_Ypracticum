{
 "cells": [
  {
   "cell_type": "markdown",
   "id": "bcef6a13",
   "metadata": {},
   "source": [
    "# Проект \"Банки — Анализ оттока клиентов\"\n",
    "## Материалы\n",
    "\n",
    "- [Презентация](https://disk.yandex.ru/i/FVJ0qEThkCR-Mg)\n",
    "- [Дашборд](https://public.tableau.com/views/Banks_analisis/Dashboard1?:language=en-US&:display_count=n&:origin=viz_share_link)"
   ]
  },
  {
   "cell_type": "markdown",
   "id": "e9e78294",
   "metadata": {},
   "source": [
    "## Описание проекта\n",
    "\n",
    "**Описание**\n",
    "Необходимо проанализировать клиентов регионального банка «Метанпром». Банк располагается в Ярославле и областных городах: Ростов Великий и Рыбинск. \n",
    "\n",
    "**Заказчик:**\n",
    "Менеджер проекта.\n",
    "\n",
    "**Стейкхолдеры:**\n",
    "Менеджер проекта, менеджеры по работе с клиентами, кредитный отдел, руководство компании.\n",
    "\n",
    "**Задача:**\n",
    "- Описать портреты клиентов, которые склонны уходить из банка. Проанализировать основные признаки, наиболее сильно влияющие на отток;\n",
    "- Сформировать и проверить гипотезы, проверить зависимости показателей и влияние на отток;\n",
    "- По итогам исследования подготовить презентацию в Табло и отправить в формате pdf, прикрепив ссылку на файл Табло в основном проекте.\n",
    "\n",
    "**Цели:**\n",
    "Найти характеристики (признаки) клиентов склонных  к оттоку (классифицировать). Сформулировать основные выводы и разработать рекомендации по повышению качества работы с клиентами и снижению оттока.\n",
    "На основе регулярного отчета будут приниматься решения о мерах по снижению оттока и увеличению пользовательской активности."
   ]
  },
  {
   "cell_type": "code",
   "execution_count": 1,
   "id": "cc53e3f2",
   "metadata": {},
   "outputs": [],
   "source": [
    "# импортируем библиотеки\n",
    "import pandas as pd\n",
    "import seaborn as sns\n",
    "import matplotlib.pyplot as plt\n",
    "import numpy as np\n",
    "\n",
    "from scipy import stats as st\n",
    "import warnings\n",
    "warnings.filterwarnings(\"ignore\")"
   ]
  },
  {
   "cell_type": "markdown",
   "id": "abd135c6",
   "metadata": {
    "scrolled": true
   },
   "source": [
    "# Загрузим датасет"
   ]
  },
  {
   "cell_type": "code",
   "execution_count": 2,
   "id": "b5b8543d",
   "metadata": {},
   "outputs": [],
   "source": [
    "try:\n",
    "    # Загрузим датасет\n",
    "    bank = pd.read_csv('/datasets/bank_dataset.csv', index_col=0)\n",
    "except FileNotFoundError:\n",
    "    # в случае ошибки загрузка с ЯД\n",
    "    path = \"https://disk.yandex.ru/d/\"\n",
    "    bank = pd.read_csv(path,index_col=0)"
   ]
  },
  {
   "cell_type": "markdown",
   "id": "d50de220",
   "metadata": {},
   "source": [
    "Посмотрим содержание данных датасета"
   ]
  },
  {
   "cell_type": "code",
   "execution_count": 3,
   "id": "5e0c8a70",
   "metadata": {},
   "outputs": [
    {
     "name": "stdout",
     "output_type": "stream",
     "text": [
      "<class 'pandas.core.frame.DataFrame'>\n",
      "Int64Index: 10000 entries, 15677338 to 15671055\n",
      "Data columns (total 11 columns):\n",
      " #   Column            Non-Null Count  Dtype  \n",
      "---  ------            --------------  -----  \n",
      " 0   score             10000 non-null  int64  \n",
      " 1   City              10000 non-null  object \n",
      " 2   Gender            10000 non-null  object \n",
      " 3   Age               10000 non-null  int64  \n",
      " 4   Objects           10000 non-null  int64  \n",
      " 5   Balance           6383 non-null   float64\n",
      " 6   Products          10000 non-null  int64  \n",
      " 7   CreditCard        10000 non-null  int64  \n",
      " 8   Loyalty           10000 non-null  int64  \n",
      " 9   estimated_salary  10000 non-null  float64\n",
      " 10  Churn             10000 non-null  int64  \n",
      "dtypes: float64(2), int64(7), object(2)\n",
      "memory usage: 937.5+ KB\n"
     ]
    }
   ],
   "source": [
    "bank.info()"
   ]
  },
  {
   "cell_type": "code",
   "execution_count": 4,
   "id": "b500f58b",
   "metadata": {},
   "outputs": [
    {
     "data": {
      "text/html": [
       "<div>\n",
       "<style scoped>\n",
       "    .dataframe tbody tr th:only-of-type {\n",
       "        vertical-align: middle;\n",
       "    }\n",
       "\n",
       "    .dataframe tbody tr th {\n",
       "        vertical-align: top;\n",
       "    }\n",
       "\n",
       "    .dataframe thead th {\n",
       "        text-align: right;\n",
       "    }\n",
       "</style>\n",
       "<table border=\"1\" class=\"dataframe\">\n",
       "  <thead>\n",
       "    <tr style=\"text-align: right;\">\n",
       "      <th></th>\n",
       "      <th>score</th>\n",
       "      <th>Age</th>\n",
       "      <th>Objects</th>\n",
       "      <th>Balance</th>\n",
       "      <th>Products</th>\n",
       "      <th>CreditCard</th>\n",
       "      <th>Loyalty</th>\n",
       "      <th>estimated_salary</th>\n",
       "      <th>Churn</th>\n",
       "    </tr>\n",
       "  </thead>\n",
       "  <tbody>\n",
       "    <tr>\n",
       "      <th>count</th>\n",
       "      <td>10000.000000</td>\n",
       "      <td>10000.000000</td>\n",
       "      <td>10000.000000</td>\n",
       "      <td>6383.000000</td>\n",
       "      <td>10000.000000</td>\n",
       "      <td>10000.00000</td>\n",
       "      <td>10000.000000</td>\n",
       "      <td>10000.000000</td>\n",
       "      <td>10000.000000</td>\n",
       "    </tr>\n",
       "    <tr>\n",
       "      <th>mean</th>\n",
       "      <td>650.528800</td>\n",
       "      <td>38.921800</td>\n",
       "      <td>5.012800</td>\n",
       "      <td>119827.493793</td>\n",
       "      <td>1.530200</td>\n",
       "      <td>0.70550</td>\n",
       "      <td>0.515100</td>\n",
       "      <td>100090.239881</td>\n",
       "      <td>0.203700</td>\n",
       "    </tr>\n",
       "    <tr>\n",
       "      <th>std</th>\n",
       "      <td>96.653299</td>\n",
       "      <td>10.487806</td>\n",
       "      <td>2.892174</td>\n",
       "      <td>30095.056462</td>\n",
       "      <td>0.581654</td>\n",
       "      <td>0.45584</td>\n",
       "      <td>0.499797</td>\n",
       "      <td>57510.492818</td>\n",
       "      <td>0.402769</td>\n",
       "    </tr>\n",
       "    <tr>\n",
       "      <th>min</th>\n",
       "      <td>350.000000</td>\n",
       "      <td>18.000000</td>\n",
       "      <td>0.000000</td>\n",
       "      <td>3768.690000</td>\n",
       "      <td>1.000000</td>\n",
       "      <td>0.00000</td>\n",
       "      <td>0.000000</td>\n",
       "      <td>11.580000</td>\n",
       "      <td>0.000000</td>\n",
       "    </tr>\n",
       "    <tr>\n",
       "      <th>25%</th>\n",
       "      <td>584.000000</td>\n",
       "      <td>32.000000</td>\n",
       "      <td>3.000000</td>\n",
       "      <td>100181.975000</td>\n",
       "      <td>1.000000</td>\n",
       "      <td>0.00000</td>\n",
       "      <td>0.000000</td>\n",
       "      <td>51002.110000</td>\n",
       "      <td>0.000000</td>\n",
       "    </tr>\n",
       "    <tr>\n",
       "      <th>50%</th>\n",
       "      <td>652.000000</td>\n",
       "      <td>37.000000</td>\n",
       "      <td>5.000000</td>\n",
       "      <td>119839.690000</td>\n",
       "      <td>1.000000</td>\n",
       "      <td>1.00000</td>\n",
       "      <td>1.000000</td>\n",
       "      <td>100193.915000</td>\n",
       "      <td>0.000000</td>\n",
       "    </tr>\n",
       "    <tr>\n",
       "      <th>75%</th>\n",
       "      <td>718.000000</td>\n",
       "      <td>44.000000</td>\n",
       "      <td>7.000000</td>\n",
       "      <td>139512.290000</td>\n",
       "      <td>2.000000</td>\n",
       "      <td>1.00000</td>\n",
       "      <td>1.000000</td>\n",
       "      <td>149388.247500</td>\n",
       "      <td>0.000000</td>\n",
       "    </tr>\n",
       "    <tr>\n",
       "      <th>max</th>\n",
       "      <td>850.000000</td>\n",
       "      <td>92.000000</td>\n",
       "      <td>10.000000</td>\n",
       "      <td>250898.090000</td>\n",
       "      <td>4.000000</td>\n",
       "      <td>1.00000</td>\n",
       "      <td>1.000000</td>\n",
       "      <td>199992.480000</td>\n",
       "      <td>1.000000</td>\n",
       "    </tr>\n",
       "  </tbody>\n",
       "</table>\n",
       "</div>"
      ],
      "text/plain": [
       "              score           Age       Objects        Balance      Products  \\\n",
       "count  10000.000000  10000.000000  10000.000000    6383.000000  10000.000000   \n",
       "mean     650.528800     38.921800      5.012800  119827.493793      1.530200   \n",
       "std       96.653299     10.487806      2.892174   30095.056462      0.581654   \n",
       "min      350.000000     18.000000      0.000000    3768.690000      1.000000   \n",
       "25%      584.000000     32.000000      3.000000  100181.975000      1.000000   \n",
       "50%      652.000000     37.000000      5.000000  119839.690000      1.000000   \n",
       "75%      718.000000     44.000000      7.000000  139512.290000      2.000000   \n",
       "max      850.000000     92.000000     10.000000  250898.090000      4.000000   \n",
       "\n",
       "        CreditCard       Loyalty  estimated_salary         Churn  \n",
       "count  10000.00000  10000.000000      10000.000000  10000.000000  \n",
       "mean       0.70550      0.515100     100090.239881      0.203700  \n",
       "std        0.45584      0.499797      57510.492818      0.402769  \n",
       "min        0.00000      0.000000         11.580000      0.000000  \n",
       "25%        0.00000      0.000000      51002.110000      0.000000  \n",
       "50%        1.00000      1.000000     100193.915000      0.000000  \n",
       "75%        1.00000      1.000000     149388.247500      0.000000  \n",
       "max        1.00000      1.000000     199992.480000      1.000000  "
      ]
     },
     "execution_count": 4,
     "metadata": {},
     "output_type": "execute_result"
    }
   ],
   "source": [
    "bank.describe()"
   ]
  },
  {
   "cell_type": "code",
   "execution_count": 5,
   "id": "2fdab376",
   "metadata": {},
   "outputs": [
    {
     "data": {
      "text/html": [
       "<div>\n",
       "<style scoped>\n",
       "    .dataframe tbody tr th:only-of-type {\n",
       "        vertical-align: middle;\n",
       "    }\n",
       "\n",
       "    .dataframe tbody tr th {\n",
       "        vertical-align: top;\n",
       "    }\n",
       "\n",
       "    .dataframe thead th {\n",
       "        text-align: right;\n",
       "    }\n",
       "</style>\n",
       "<table border=\"1\" class=\"dataframe\">\n",
       "  <thead>\n",
       "    <tr style=\"text-align: right;\">\n",
       "      <th></th>\n",
       "      <th>score</th>\n",
       "      <th>City</th>\n",
       "      <th>Gender</th>\n",
       "      <th>Age</th>\n",
       "      <th>Objects</th>\n",
       "      <th>Balance</th>\n",
       "      <th>Products</th>\n",
       "      <th>CreditCard</th>\n",
       "      <th>Loyalty</th>\n",
       "      <th>estimated_salary</th>\n",
       "      <th>Churn</th>\n",
       "    </tr>\n",
       "    <tr>\n",
       "      <th>userid</th>\n",
       "      <th></th>\n",
       "      <th></th>\n",
       "      <th></th>\n",
       "      <th></th>\n",
       "      <th></th>\n",
       "      <th></th>\n",
       "      <th></th>\n",
       "      <th></th>\n",
       "      <th></th>\n",
       "      <th></th>\n",
       "      <th></th>\n",
       "    </tr>\n",
       "  </thead>\n",
       "  <tbody>\n",
       "    <tr>\n",
       "      <th>15677338</th>\n",
       "      <td>619</td>\n",
       "      <td>Ярославль</td>\n",
       "      <td>Ж</td>\n",
       "      <td>42</td>\n",
       "      <td>2</td>\n",
       "      <td>NaN</td>\n",
       "      <td>1</td>\n",
       "      <td>1</td>\n",
       "      <td>1</td>\n",
       "      <td>101348.88</td>\n",
       "      <td>1</td>\n",
       "    </tr>\n",
       "    <tr>\n",
       "      <th>15690047</th>\n",
       "      <td>608</td>\n",
       "      <td>Рыбинск</td>\n",
       "      <td>Ж</td>\n",
       "      <td>41</td>\n",
       "      <td>1</td>\n",
       "      <td>83807.86</td>\n",
       "      <td>1</td>\n",
       "      <td>0</td>\n",
       "      <td>1</td>\n",
       "      <td>112542.58</td>\n",
       "      <td>0</td>\n",
       "    </tr>\n",
       "    <tr>\n",
       "      <th>15662040</th>\n",
       "      <td>502</td>\n",
       "      <td>Ярославль</td>\n",
       "      <td>Ж</td>\n",
       "      <td>42</td>\n",
       "      <td>8</td>\n",
       "      <td>159660.80</td>\n",
       "      <td>3</td>\n",
       "      <td>1</td>\n",
       "      <td>0</td>\n",
       "      <td>113931.57</td>\n",
       "      <td>1</td>\n",
       "    </tr>\n",
       "    <tr>\n",
       "      <th>15744090</th>\n",
       "      <td>699</td>\n",
       "      <td>Ярославль</td>\n",
       "      <td>Ж</td>\n",
       "      <td>39</td>\n",
       "      <td>1</td>\n",
       "      <td>NaN</td>\n",
       "      <td>2</td>\n",
       "      <td>0</td>\n",
       "      <td>0</td>\n",
       "      <td>93826.63</td>\n",
       "      <td>0</td>\n",
       "    </tr>\n",
       "    <tr>\n",
       "      <th>15780624</th>\n",
       "      <td>850</td>\n",
       "      <td>Рыбинск</td>\n",
       "      <td>Ж</td>\n",
       "      <td>43</td>\n",
       "      <td>2</td>\n",
       "      <td>125510.82</td>\n",
       "      <td>1</td>\n",
       "      <td>1</td>\n",
       "      <td>1</td>\n",
       "      <td>79084.10</td>\n",
       "      <td>0</td>\n",
       "    </tr>\n",
       "    <tr>\n",
       "      <th>...</th>\n",
       "      <td>...</td>\n",
       "      <td>...</td>\n",
       "      <td>...</td>\n",
       "      <td>...</td>\n",
       "      <td>...</td>\n",
       "      <td>...</td>\n",
       "      <td>...</td>\n",
       "      <td>...</td>\n",
       "      <td>...</td>\n",
       "      <td>...</td>\n",
       "      <td>...</td>\n",
       "    </tr>\n",
       "    <tr>\n",
       "      <th>15648965</th>\n",
       "      <td>771</td>\n",
       "      <td>Ярославль</td>\n",
       "      <td>М</td>\n",
       "      <td>39</td>\n",
       "      <td>5</td>\n",
       "      <td>NaN</td>\n",
       "      <td>2</td>\n",
       "      <td>1</td>\n",
       "      <td>0</td>\n",
       "      <td>96270.64</td>\n",
       "      <td>0</td>\n",
       "    </tr>\n",
       "    <tr>\n",
       "      <th>15612628</th>\n",
       "      <td>516</td>\n",
       "      <td>Ярославль</td>\n",
       "      <td>М</td>\n",
       "      <td>35</td>\n",
       "      <td>10</td>\n",
       "      <td>57369.61</td>\n",
       "      <td>1</td>\n",
       "      <td>1</td>\n",
       "      <td>1</td>\n",
       "      <td>101699.77</td>\n",
       "      <td>0</td>\n",
       "    </tr>\n",
       "    <tr>\n",
       "      <th>15627268</th>\n",
       "      <td>709</td>\n",
       "      <td>Ярославль</td>\n",
       "      <td>Ж</td>\n",
       "      <td>36</td>\n",
       "      <td>7</td>\n",
       "      <td>NaN</td>\n",
       "      <td>1</td>\n",
       "      <td>0</td>\n",
       "      <td>1</td>\n",
       "      <td>42085.58</td>\n",
       "      <td>1</td>\n",
       "    </tr>\n",
       "    <tr>\n",
       "      <th>15725091</th>\n",
       "      <td>772</td>\n",
       "      <td>Ростов Великий</td>\n",
       "      <td>М</td>\n",
       "      <td>42</td>\n",
       "      <td>3</td>\n",
       "      <td>75075.31</td>\n",
       "      <td>2</td>\n",
       "      <td>1</td>\n",
       "      <td>0</td>\n",
       "      <td>92888.52</td>\n",
       "      <td>1</td>\n",
       "    </tr>\n",
       "    <tr>\n",
       "      <th>15671055</th>\n",
       "      <td>792</td>\n",
       "      <td>Ярославль</td>\n",
       "      <td>Ж</td>\n",
       "      <td>28</td>\n",
       "      <td>4</td>\n",
       "      <td>130142.79</td>\n",
       "      <td>1</td>\n",
       "      <td>1</td>\n",
       "      <td>0</td>\n",
       "      <td>38190.78</td>\n",
       "      <td>0</td>\n",
       "    </tr>\n",
       "  </tbody>\n",
       "</table>\n",
       "<p>10000 rows × 11 columns</p>\n",
       "</div>"
      ],
      "text/plain": [
       "          score            City Gender  Age  Objects    Balance  Products  \\\n",
       "userid                                                                      \n",
       "15677338    619       Ярославль      Ж   42        2        NaN         1   \n",
       "15690047    608         Рыбинск      Ж   41        1   83807.86         1   \n",
       "15662040    502       Ярославль      Ж   42        8  159660.80         3   \n",
       "15744090    699       Ярославль      Ж   39        1        NaN         2   \n",
       "15780624    850         Рыбинск      Ж   43        2  125510.82         1   \n",
       "...         ...             ...    ...  ...      ...        ...       ...   \n",
       "15648965    771       Ярославль      М   39        5        NaN         2   \n",
       "15612628    516       Ярославль      М   35       10   57369.61         1   \n",
       "15627268    709       Ярославль      Ж   36        7        NaN         1   \n",
       "15725091    772  Ростов Великий      М   42        3   75075.31         2   \n",
       "15671055    792       Ярославль      Ж   28        4  130142.79         1   \n",
       "\n",
       "          CreditCard  Loyalty  estimated_salary  Churn  \n",
       "userid                                                  \n",
       "15677338           1        1         101348.88      1  \n",
       "15690047           0        1         112542.58      0  \n",
       "15662040           1        0         113931.57      1  \n",
       "15744090           0        0          93826.63      0  \n",
       "15780624           1        1          79084.10      0  \n",
       "...              ...      ...               ...    ...  \n",
       "15648965           1        0          96270.64      0  \n",
       "15612628           1        1         101699.77      0  \n",
       "15627268           0        1          42085.58      1  \n",
       "15725091           1        0          92888.52      1  \n",
       "15671055           1        0          38190.78      0  \n",
       "\n",
       "[10000 rows x 11 columns]"
      ]
     },
     "metadata": {},
     "output_type": "display_data"
    }
   ],
   "source": [
    "display(bank)"
   ]
  },
  {
   "cell_type": "code",
   "execution_count": 6,
   "id": "41d22fe5",
   "metadata": {},
   "outputs": [
    {
     "data": {
      "text/plain": [
       "array(['Ж', 'М'], dtype=object)"
      ]
     },
     "execution_count": 6,
     "metadata": {},
     "output_type": "execute_result"
    }
   ],
   "source": [
    "# проверим значения катгориальных переменных, внесем данные в описание ниже.\n",
    "bank['Gender'].unique()"
   ]
  },
  {
   "cell_type": "markdown",
   "id": "9652413b",
   "metadata": {},
   "source": [
    "Датасет содержит информацию о 10 000 клиентах банка. На дубликаты проверим на следующем шаге.\n",
    "\n",
    "**Набор данных включает следующие поля:**\n",
    "- userid — идентификатор пользователя,\n",
    "- score — баллы кредитного скоринга (от 350 до 850),\n",
    "- City — город ('Ярославль', 'Рыбинск', 'Ростов Великий'),\n",
    "- Gender — пол ('Ж', 'М'),\n",
    "- Age — возраст (от 18 до 92 лет),\n",
    "- Objects — количество объектов в собственности (от 1 до 10),\n",
    "- Balance — баланс на счёте,\n",
    "- Products — количество продуктов, которыми пользуется клиент (1, 3, 2, 4),\n",
    "- CreditCard — есть ли кредитная карта (1, 0),\n",
    "- Loyalty — активный клиент (1, 0),\n",
    "- estimated_salary — заработная плата клиента, предположительно в месяц (от 11.58 до 199 992.48),\n",
    "- Churn — ушёл или нет (1, 0).\n",
    "\n",
    "Датасет содержит пропуски в поле Balance (около 1/3), необходимо их проверить и в случае необходимости заменить.\n",
    "Названия колонок необходимо привести к единому формату: нижний регистр."
   ]
  },
  {
   "cell_type": "markdown",
   "id": "60688037",
   "metadata": {},
   "source": [
    "## Предобработка данных"
   ]
  },
  {
   "cell_type": "code",
   "execution_count": 7,
   "id": "27fa081e",
   "metadata": {},
   "outputs": [
    {
     "data": {
      "text/plain": [
       "Index(['score', 'city', 'gender', 'age', 'objects', 'balance', 'products',\n",
       "       'creditcard', 'loyalty', 'estimated_salary', 'churn'],\n",
       "      dtype='object')"
      ]
     },
     "execution_count": 7,
     "metadata": {},
     "output_type": "execute_result"
    }
   ],
   "source": [
    "# приведем колонки в единый формат\n",
    "bank.columns = bank.columns.str.lower()\n",
    "bank.columns"
   ]
  },
  {
   "cell_type": "code",
   "execution_count": 8,
   "id": "778d4df5",
   "metadata": {},
   "outputs": [
    {
     "name": "stdout",
     "output_type": "stream",
     "text": [
      "0\n"
     ]
    }
   ],
   "source": [
    "#проверим на явные дубликаты\n",
    "print (bank.duplicated().sum())"
   ]
  },
  {
   "cell_type": "code",
   "execution_count": 9,
   "id": "7a03877b",
   "metadata": {},
   "outputs": [
    {
     "data": {
      "text/plain": [
       "0.3617"
      ]
     },
     "execution_count": 9,
     "metadata": {},
     "output_type": "execute_result"
    }
   ],
   "source": [
    "# посчитаем долю пропущенных значений в данных с балансом\n",
    "bank['balance'].isna().mean()"
   ]
  },
  {
   "cell_type": "code",
   "execution_count": 10,
   "id": "c3669958",
   "metadata": {},
   "outputs": [
    {
     "data": {
      "text/html": [
       "<div>\n",
       "<style scoped>\n",
       "    .dataframe tbody tr th:only-of-type {\n",
       "        vertical-align: middle;\n",
       "    }\n",
       "\n",
       "    .dataframe tbody tr th {\n",
       "        vertical-align: top;\n",
       "    }\n",
       "\n",
       "    .dataframe thead th {\n",
       "        text-align: right;\n",
       "    }\n",
       "</style>\n",
       "<table border=\"1\" class=\"dataframe\">\n",
       "  <thead>\n",
       "    <tr style=\"text-align: right;\">\n",
       "      <th></th>\n",
       "      <th>score</th>\n",
       "      <th>city</th>\n",
       "      <th>gender</th>\n",
       "      <th>age</th>\n",
       "      <th>objects</th>\n",
       "      <th>balance</th>\n",
       "      <th>products</th>\n",
       "      <th>creditcard</th>\n",
       "      <th>loyalty</th>\n",
       "      <th>estimated_salary</th>\n",
       "    </tr>\n",
       "    <tr>\n",
       "      <th>churn</th>\n",
       "      <th></th>\n",
       "      <th></th>\n",
       "      <th></th>\n",
       "      <th></th>\n",
       "      <th></th>\n",
       "      <th></th>\n",
       "      <th></th>\n",
       "      <th></th>\n",
       "      <th></th>\n",
       "      <th></th>\n",
       "    </tr>\n",
       "  </thead>\n",
       "  <tbody>\n",
       "    <tr>\n",
       "      <th>0</th>\n",
       "      <td>7963</td>\n",
       "      <td>7963</td>\n",
       "      <td>7963</td>\n",
       "      <td>7963</td>\n",
       "      <td>7963</td>\n",
       "      <td>4846</td>\n",
       "      <td>7963</td>\n",
       "      <td>7963</td>\n",
       "      <td>7963</td>\n",
       "      <td>7963</td>\n",
       "    </tr>\n",
       "    <tr>\n",
       "      <th>1</th>\n",
       "      <td>2037</td>\n",
       "      <td>2037</td>\n",
       "      <td>2037</td>\n",
       "      <td>2037</td>\n",
       "      <td>2037</td>\n",
       "      <td>1537</td>\n",
       "      <td>2037</td>\n",
       "      <td>2037</td>\n",
       "      <td>2037</td>\n",
       "      <td>2037</td>\n",
       "    </tr>\n",
       "  </tbody>\n",
       "</table>\n",
       "</div>"
      ],
      "text/plain": [
       "       score  city  gender   age  objects  balance  products  creditcard  \\\n",
       "churn                                                                      \n",
       "0       7963  7963    7963  7963     7963     4846      7963        7963   \n",
       "1       2037  2037    2037  2037     2037     1537      2037        2037   \n",
       "\n",
       "       loyalty  estimated_salary  \n",
       "churn                             \n",
       "0         7963              7963  \n",
       "1         2037              2037  "
      ]
     },
     "execution_count": 10,
     "metadata": {},
     "output_type": "execute_result"
    }
   ],
   "source": [
    "# посмотрим количество данных с оттоком и без\n",
    "bank.groupby(by = 'churn').count()"
   ]
  },
  {
   "cell_type": "code",
   "execution_count": 11,
   "id": "d91d1d52",
   "metadata": {},
   "outputs": [
    {
     "data": {
      "text/html": [
       "<div>\n",
       "<style scoped>\n",
       "    .dataframe tbody tr th:only-of-type {\n",
       "        vertical-align: middle;\n",
       "    }\n",
       "\n",
       "    .dataframe tbody tr th {\n",
       "        vertical-align: top;\n",
       "    }\n",
       "\n",
       "    .dataframe thead th {\n",
       "        text-align: right;\n",
       "    }\n",
       "</style>\n",
       "<table border=\"1\" class=\"dataframe\">\n",
       "  <thead>\n",
       "    <tr style=\"text-align: right;\">\n",
       "      <th></th>\n",
       "      <th>score</th>\n",
       "      <th>age</th>\n",
       "      <th>objects</th>\n",
       "      <th>balance</th>\n",
       "      <th>products</th>\n",
       "      <th>creditcard</th>\n",
       "      <th>loyalty</th>\n",
       "      <th>estimated_salary</th>\n",
       "    </tr>\n",
       "    <tr>\n",
       "      <th>churn</th>\n",
       "      <th></th>\n",
       "      <th></th>\n",
       "      <th></th>\n",
       "      <th></th>\n",
       "      <th></th>\n",
       "      <th></th>\n",
       "      <th></th>\n",
       "      <th></th>\n",
       "    </tr>\n",
       "  </thead>\n",
       "  <tbody>\n",
       "    <tr>\n",
       "      <th>0</th>\n",
       "      <td>651.853196</td>\n",
       "      <td>37.408389</td>\n",
       "      <td>5.033279</td>\n",
       "      <td>119535.864270</td>\n",
       "      <td>1.544267</td>\n",
       "      <td>0.707146</td>\n",
       "      <td>0.554565</td>\n",
       "      <td>99738.391772</td>\n",
       "    </tr>\n",
       "    <tr>\n",
       "      <th>1</th>\n",
       "      <td>645.351497</td>\n",
       "      <td>44.837997</td>\n",
       "      <td>4.932744</td>\n",
       "      <td>120746.971132</td>\n",
       "      <td>1.475209</td>\n",
       "      <td>0.699067</td>\n",
       "      <td>0.360825</td>\n",
       "      <td>101465.677531</td>\n",
       "    </tr>\n",
       "  </tbody>\n",
       "</table>\n",
       "</div>"
      ],
      "text/plain": [
       "            score        age   objects        balance  products  creditcard  \\\n",
       "churn                                                                         \n",
       "0      651.853196  37.408389  5.033279  119535.864270  1.544267    0.707146   \n",
       "1      645.351497  44.837997  4.932744  120746.971132  1.475209    0.699067   \n",
       "\n",
       "        loyalty  estimated_salary  \n",
       "churn                              \n",
       "0      0.554565      99738.391772  \n",
       "1      0.360825     101465.677531  "
      ]
     },
     "metadata": {},
     "output_type": "display_data"
    }
   ],
   "source": [
    "# выведем статистику по средним значениям наших признаков \n",
    "average = bank.groupby(['churn']).mean()\n",
    "display (average)"
   ]
  },
  {
   "cell_type": "markdown",
   "id": "6a6a8387",
   "metadata": {},
   "source": [
    "Датасет содержит пропуски в данных с балансом на счете клиента. Доля пропусков около 36%. Это большой объем данных которые не следует удалять, т.к. это может повлиять на репрезентативность исследования. Можем предполоижть, что на момент снятия данных у клиентов дебетовых карт закончились деньги на счете. Оставим данные без изменений, т.к. удаление либо замена на \"0\" может gjвлиять на результаты исследования в дальнейшем. Будем иметь эти данные ввиду, и фильтровать, когда будем строить диаграммы распределения и рисовать портрет пользователя. "
   ]
  },
  {
   "cell_type": "markdown",
   "id": "50665091",
   "metadata": {},
   "source": [
    "Предобработка проведена. С датасетом можно проводить EDA."
   ]
  },
  {
   "cell_type": "markdown",
   "id": "2657fb1a",
   "metadata": {},
   "source": [
    "## Исследовательский анализ данных"
   ]
  },
  {
   "cell_type": "code",
   "execution_count": 12,
   "id": "10c53d33",
   "metadata": {},
   "outputs": [
    {
     "data": {
      "text/plain": [
       "churn\n",
       "0    7963\n",
       "1    2037\n",
       "Name: gender, dtype: int64"
      ]
     },
     "execution_count": 12,
     "metadata": {},
     "output_type": "execute_result"
    }
   ],
   "source": [
    "# посчитаем количество ушедших в отток\n",
    "bank.groupby(['churn'])['gender'].count()"
   ]
  },
  {
   "cell_type": "code",
   "execution_count": 13,
   "id": "5b2882c4",
   "metadata": {
    "scrolled": true
   },
   "outputs": [
    {
     "data": {
      "text/html": [
       "<div>\n",
       "<style scoped>\n",
       "    .dataframe tbody tr th:only-of-type {\n",
       "        vertical-align: middle;\n",
       "    }\n",
       "\n",
       "    .dataframe tbody tr th {\n",
       "        vertical-align: top;\n",
       "    }\n",
       "\n",
       "    .dataframe thead th {\n",
       "        text-align: right;\n",
       "    }\n",
       "</style>\n",
       "<table border=\"1\" class=\"dataframe\">\n",
       "  <thead>\n",
       "    <tr style=\"text-align: right;\">\n",
       "      <th></th>\n",
       "      <th>score</th>\n",
       "      <th>age</th>\n",
       "      <th>objects</th>\n",
       "      <th>balance</th>\n",
       "      <th>products</th>\n",
       "      <th>creditcard</th>\n",
       "      <th>loyalty</th>\n",
       "      <th>estimated_salary</th>\n",
       "    </tr>\n",
       "    <tr>\n",
       "      <th>churn</th>\n",
       "      <th></th>\n",
       "      <th></th>\n",
       "      <th></th>\n",
       "      <th></th>\n",
       "      <th></th>\n",
       "      <th></th>\n",
       "      <th></th>\n",
       "      <th></th>\n",
       "    </tr>\n",
       "  </thead>\n",
       "  <tbody>\n",
       "    <tr>\n",
       "      <th>0</th>\n",
       "      <td>651.853196</td>\n",
       "      <td>37.408389</td>\n",
       "      <td>5.033279</td>\n",
       "      <td>119535.864270</td>\n",
       "      <td>1.544267</td>\n",
       "      <td>0.707146</td>\n",
       "      <td>0.554565</td>\n",
       "      <td>99738.391772</td>\n",
       "    </tr>\n",
       "    <tr>\n",
       "      <th>1</th>\n",
       "      <td>645.351497</td>\n",
       "      <td>44.837997</td>\n",
       "      <td>4.932744</td>\n",
       "      <td>120746.971132</td>\n",
       "      <td>1.475209</td>\n",
       "      <td>0.699067</td>\n",
       "      <td>0.360825</td>\n",
       "      <td>101465.677531</td>\n",
       "    </tr>\n",
       "  </tbody>\n",
       "</table>\n",
       "</div>"
      ],
      "text/plain": [
       "            score        age   objects        balance  products  creditcard  \\\n",
       "churn                                                                         \n",
       "0      651.853196  37.408389  5.033279  119535.864270  1.544267    0.707146   \n",
       "1      645.351497  44.837997  4.932744  120746.971132  1.475209    0.699067   \n",
       "\n",
       "        loyalty  estimated_salary  \n",
       "churn                              \n",
       "0      0.554565      99738.391772  \n",
       "1      0.360825     101465.677531  "
      ]
     },
     "metadata": {},
     "output_type": "display_data"
    }
   ],
   "source": [
    "# выведем статистику по средним значениям наших признаков \n",
    "average = bank.groupby(['churn']).mean()\n",
    "display (average)"
   ]
  },
  {
   "cell_type": "markdown",
   "id": "b916c11f",
   "metadata": {},
   "source": [
    "Средние по ушедшим и оставшимся показывают небольшое различие в переменных: возраст, активность и баланс на счете. По остальным переменным средние практически схожие. Более детально посмотрим их на графиках."
   ]
  },
  {
   "cell_type": "code",
   "execution_count": 14,
   "id": "7259e55d",
   "metadata": {},
   "outputs": [
    {
     "data": {
      "text/html": [
       "<div>\n",
       "<style scoped>\n",
       "    .dataframe tbody tr th:only-of-type {\n",
       "        vertical-align: middle;\n",
       "    }\n",
       "\n",
       "    .dataframe tbody tr th {\n",
       "        vertical-align: top;\n",
       "    }\n",
       "\n",
       "    .dataframe thead th {\n",
       "        text-align: right;\n",
       "    }\n",
       "</style>\n",
       "<table border=\"1\" class=\"dataframe\">\n",
       "  <thead>\n",
       "    <tr style=\"text-align: right;\">\n",
       "      <th></th>\n",
       "      <th>score</th>\n",
       "      <th>age</th>\n",
       "      <th>objects</th>\n",
       "      <th>balance</th>\n",
       "      <th>products</th>\n",
       "      <th>creditcard</th>\n",
       "      <th>loyalty</th>\n",
       "      <th>estimated_salary</th>\n",
       "      <th>churn</th>\n",
       "    </tr>\n",
       "  </thead>\n",
       "  <tbody>\n",
       "    <tr>\n",
       "      <th>count</th>\n",
       "      <td>10000.000000</td>\n",
       "      <td>10000.000000</td>\n",
       "      <td>10000.000000</td>\n",
       "      <td>6383.000000</td>\n",
       "      <td>10000.000000</td>\n",
       "      <td>10000.00000</td>\n",
       "      <td>10000.000000</td>\n",
       "      <td>10000.000000</td>\n",
       "      <td>10000.000000</td>\n",
       "    </tr>\n",
       "    <tr>\n",
       "      <th>mean</th>\n",
       "      <td>650.528800</td>\n",
       "      <td>38.921800</td>\n",
       "      <td>5.012800</td>\n",
       "      <td>119827.493793</td>\n",
       "      <td>1.530200</td>\n",
       "      <td>0.70550</td>\n",
       "      <td>0.515100</td>\n",
       "      <td>100090.239881</td>\n",
       "      <td>0.203700</td>\n",
       "    </tr>\n",
       "    <tr>\n",
       "      <th>std</th>\n",
       "      <td>96.653299</td>\n",
       "      <td>10.487806</td>\n",
       "      <td>2.892174</td>\n",
       "      <td>30095.056462</td>\n",
       "      <td>0.581654</td>\n",
       "      <td>0.45584</td>\n",
       "      <td>0.499797</td>\n",
       "      <td>57510.492818</td>\n",
       "      <td>0.402769</td>\n",
       "    </tr>\n",
       "    <tr>\n",
       "      <th>min</th>\n",
       "      <td>350.000000</td>\n",
       "      <td>18.000000</td>\n",
       "      <td>0.000000</td>\n",
       "      <td>3768.690000</td>\n",
       "      <td>1.000000</td>\n",
       "      <td>0.00000</td>\n",
       "      <td>0.000000</td>\n",
       "      <td>11.580000</td>\n",
       "      <td>0.000000</td>\n",
       "    </tr>\n",
       "    <tr>\n",
       "      <th>25%</th>\n",
       "      <td>584.000000</td>\n",
       "      <td>32.000000</td>\n",
       "      <td>3.000000</td>\n",
       "      <td>100181.975000</td>\n",
       "      <td>1.000000</td>\n",
       "      <td>0.00000</td>\n",
       "      <td>0.000000</td>\n",
       "      <td>51002.110000</td>\n",
       "      <td>0.000000</td>\n",
       "    </tr>\n",
       "    <tr>\n",
       "      <th>50%</th>\n",
       "      <td>652.000000</td>\n",
       "      <td>37.000000</td>\n",
       "      <td>5.000000</td>\n",
       "      <td>119839.690000</td>\n",
       "      <td>1.000000</td>\n",
       "      <td>1.00000</td>\n",
       "      <td>1.000000</td>\n",
       "      <td>100193.915000</td>\n",
       "      <td>0.000000</td>\n",
       "    </tr>\n",
       "    <tr>\n",
       "      <th>75%</th>\n",
       "      <td>718.000000</td>\n",
       "      <td>44.000000</td>\n",
       "      <td>7.000000</td>\n",
       "      <td>139512.290000</td>\n",
       "      <td>2.000000</td>\n",
       "      <td>1.00000</td>\n",
       "      <td>1.000000</td>\n",
       "      <td>149388.247500</td>\n",
       "      <td>0.000000</td>\n",
       "    </tr>\n",
       "    <tr>\n",
       "      <th>max</th>\n",
       "      <td>850.000000</td>\n",
       "      <td>92.000000</td>\n",
       "      <td>10.000000</td>\n",
       "      <td>250898.090000</td>\n",
       "      <td>4.000000</td>\n",
       "      <td>1.00000</td>\n",
       "      <td>1.000000</td>\n",
       "      <td>199992.480000</td>\n",
       "      <td>1.000000</td>\n",
       "    </tr>\n",
       "  </tbody>\n",
       "</table>\n",
       "</div>"
      ],
      "text/plain": [
       "              score           age       objects        balance      products  \\\n",
       "count  10000.000000  10000.000000  10000.000000    6383.000000  10000.000000   \n",
       "mean     650.528800     38.921800      5.012800  119827.493793      1.530200   \n",
       "std       96.653299     10.487806      2.892174   30095.056462      0.581654   \n",
       "min      350.000000     18.000000      0.000000    3768.690000      1.000000   \n",
       "25%      584.000000     32.000000      3.000000  100181.975000      1.000000   \n",
       "50%      652.000000     37.000000      5.000000  119839.690000      1.000000   \n",
       "75%      718.000000     44.000000      7.000000  139512.290000      2.000000   \n",
       "max      850.000000     92.000000     10.000000  250898.090000      4.000000   \n",
       "\n",
       "        creditcard       loyalty  estimated_salary         churn  \n",
       "count  10000.00000  10000.000000      10000.000000  10000.000000  \n",
       "mean       0.70550      0.515100     100090.239881      0.203700  \n",
       "std        0.45584      0.499797      57510.492818      0.402769  \n",
       "min        0.00000      0.000000         11.580000      0.000000  \n",
       "25%        0.00000      0.000000      51002.110000      0.000000  \n",
       "50%        1.00000      1.000000     100193.915000      0.000000  \n",
       "75%        1.00000      1.000000     149388.247500      0.000000  \n",
       "max        1.00000      1.000000     199992.480000      1.000000  "
      ]
     },
     "execution_count": 14,
     "metadata": {},
     "output_type": "execute_result"
    }
   ],
   "source": [
    "bank.describe()"
   ]
  },
  {
   "cell_type": "markdown",
   "id": "8d6960cc",
   "metadata": {},
   "source": [
    "Среднее и медиана (50% персентель) по всем показателям не показывает большое различие. Несмотря на высокое стандартное отклонение по объектам `estimated_salary` и `balance`, не было влияния больших чисел на среднее, поэтому не будем удалять строки в датасете. \t"
   ]
  },
  {
   "cell_type": "code",
   "execution_count": 15,
   "id": "8e530b1c",
   "metadata": {},
   "outputs": [
    {
     "data": {
      "text/plain": [
       "['score',\n",
       " 'city',\n",
       " 'gender',\n",
       " 'age',\n",
       " 'objects',\n",
       " 'balance',\n",
       " 'products',\n",
       " 'creditcard',\n",
       " 'loyalty',\n",
       " 'estimated_salary',\n",
       " 'churn']"
      ]
     },
     "execution_count": 15,
     "metadata": {},
     "output_type": "execute_result"
    }
   ],
   "source": [
    "# созадим список с названия колонок для копирования\n",
    "list (bank.columns.values)"
   ]
  },
  {
   "cell_type": "markdown",
   "id": "8dd125a0",
   "metadata": {},
   "source": [
    "Построим гистограммы по количественным признакам и столбчатые диаграммы по категориальным по ушедшим и оставшимся клиентам. Списки с названиями признаков определим в переменные."
   ]
  },
  {
   "cell_type": "code",
   "execution_count": 16,
   "id": "1f390386",
   "metadata": {},
   "outputs": [],
   "source": [
    "# количественные признаки\n",
    "col_1 = ['score',\n",
    " 'age',\n",
    " 'balance',\n",
    " 'estimated_salary',\n",
    " ]"
   ]
  },
  {
   "cell_type": "code",
   "execution_count": 17,
   "id": "27352908",
   "metadata": {
    "scrolled": false
   },
   "outputs": [
    {
     "data": {
      "image/png": "[encoded data removed]",
      "text/plain": [
       "<Figure size 1800x1080 with 4 Axes>"
      ]
     },
     "metadata": {
      "needs_background": "light"
     },
     "output_type": "display_data"
    }
   ],
   "source": [
    "# разобьем Figure на 2 строки и 2 столбца, и зададим размер\n",
    "fig, axes = plt.subplots(2, 2, figsize = (25, 15))\n",
    "axes = axes.ravel() # возвращает сжатый до одной оси массив\n",
    "#создадим временный срез датасета с НЕнулевым балансом \n",
    "bank_balance = bank.query('balance != 0')\n",
    "\n",
    "#Построим гистгораммы\n",
    "for col, ax in zip(col_1, axes):\n",
    "    if col == 'balance':    # пропишем условие для колнки с балансом\n",
    "        sns.histplot(data = bank_balance, x=col, hue='churn', stat='density', common_norm=False, multiple='stack', alpha=0.5, ax=ax)\n",
    "        ax.set_title(f'Распределение для признака {col}', fontsize=14)\n",
    "        ax.set_xlabel(f'{col}')\n",
    "        ax.set_ylabel('Частота значения')\n",
    "    else:\n",
    "        sns.histplot(data = bank, x=col, hue='churn', stat='density', common_norm=False, multiple='stack', alpha=0.5, ax=ax)\n",
    "        ax.set_title(f'Распределение для признака {col}', fontsize=14)\n",
    "        ax.set_xlabel(f'{col}')\n",
    "        ax.set_ylabel('Частота значения')\n",
    "        \n",
    "fig.tight_layout()\n",
    "plt.show()"
   ]
  },
  {
   "cell_type": "markdown",
   "id": "e7477520",
   "metadata": {},
   "source": [
    "Графики с возрастом и балансом показывают нормальное распределение. График с распределением ЗП показывает, что количество пользователей в корзинах вилок ЗП примерно одинаковая. На графике c призанком score видны выбросы, которые надо проверить. Обрежем даатсет, чтобы увидеть, где возникли выбросы."
   ]
  },
  {
   "cell_type": "code",
   "execution_count": 18,
   "id": "ec1f61bd",
   "metadata": {},
   "outputs": [
    {
     "data": {
      "image/png": "[encoded data removed]",
      "text/plain": [
       "<Figure size 432x288 with 1 Axes>"
      ]
     },
     "metadata": {
      "needs_background": "light"
     },
     "output_type": "display_data"
    }
   ],
   "source": [
    "fig, ax = plt.subplots()\n",
    "#создадим временный срез датасета  \n",
    "bank_score = bank.query('score > 700')\n",
    "\n",
    "#Построим гистгорамму\n",
    "sns.histplot(data = bank_score, x='score', common_norm=False, alpha=0.5)\n",
    "ax.set_title(f'Распределение для признака score', fontsize=14)\n",
    "ax.set_xlabel('score')\n",
    "ax.set_ylabel('Частота значения')\n",
    "        \n",
    "fig.tight_layout()\n",
    "plt.show()"
   ]
  },
  {
   "cell_type": "code",
   "execution_count": 19,
   "id": "7124f74d",
   "metadata": {},
   "outputs": [
    {
     "name": "stdout",
     "output_type": "stream",
     "text": [
      "0.0291\n"
     ]
    }
   ],
   "source": [
    "# вычеслим долю данных с выбросами.\n",
    "print (bank.query('score > 840')['score'].count()/bank['score'].count())"
   ]
  },
  {
   "cell_type": "markdown",
   "id": "bc571942",
   "metadata": {},
   "source": [
    "3% - это часть которую можем дропнуть без ущерба для исследования."
   ]
  },
  {
   "cell_type": "code",
   "execution_count": 20,
   "id": "341f7f8f",
   "metadata": {},
   "outputs": [],
   "source": [
    "#срежем данные с выбросами в скорринге\n",
    "bank = bank.query('score < 840')"
   ]
  },
  {
   "cell_type": "markdown",
   "id": "9e800d0c",
   "metadata": {},
   "source": [
    "Построим заново гистограммы"
   ]
  },
  {
   "cell_type": "code",
   "execution_count": 21,
   "id": "28be041b",
   "metadata": {
    "scrolled": false
   },
   "outputs": [
    {
     "data": {
      "image/png": "[encoded data removed]",
      "text/plain": [
       "<Figure size 1800x1080 with 4 Axes>"
      ]
     },
     "metadata": {
      "needs_background": "light"
     },
     "output_type": "display_data"
    }
   ],
   "source": [
    "# разобьем Figure на 2 строки и 2 столбца, и зададим размер\n",
    "fig, axes = plt.subplots(2, 2, figsize = (25, 15))\n",
    "axes = axes.ravel() # возвращает сжатый до одной оси массив\n",
    "#создадим временный срез датасета с НЕнулевым балансом \n",
    "bank_balance = bank.query('balance != 0')\n",
    "\n",
    "#Построим гистгораммы\n",
    "for col, ax in zip(col_1, axes):\n",
    "    if col == 'balance':    # пропишем условие для колнки с балансом\n",
    "        sns.histplot(data = bank_balance, x=col, hue='churn', stat='density', common_norm=False, multiple='stack', alpha=0.5, ax=ax)\n",
    "        ax.set_title(f'Распределение для признака {col}', fontsize=14)\n",
    "        ax.set_xlabel(f'{col}')\n",
    "        ax.set_ylabel('Частота значения')\n",
    "    else:\n",
    "        sns.histplot(data = bank, x=col, hue='churn', stat='density', common_norm=False, multiple='stack', alpha=0.5, ax=ax)\n",
    "        ax.set_title(f'Распределение для признака {col}', fontsize=14)\n",
    "        ax.set_xlabel(f'{col}')\n",
    "        ax.set_ylabel('Частота значения')\n",
    "        \n",
    "fig.tight_layout()\n",
    "plt.show()"
   ]
  },
  {
   "cell_type": "code",
   "execution_count": 22,
   "id": "810c65b2",
   "metadata": {},
   "outputs": [
    {
     "name": "stdout",
     "output_type": "stream",
     "text": [
      "<class 'pandas.core.frame.DataFrame'>\n",
      "Int64Index: 9704 entries, 15677338 to 15671055\n",
      "Data columns (total 11 columns):\n",
      " #   Column            Non-Null Count  Dtype  \n",
      "---  ------            --------------  -----  \n",
      " 0   score             9704 non-null   int64  \n",
      " 1   city              9704 non-null   object \n",
      " 2   gender            9704 non-null   object \n",
      " 3   age               9704 non-null   int64  \n",
      " 4   objects           9704 non-null   int64  \n",
      " 5   balance           6186 non-null   float64\n",
      " 6   products          9704 non-null   int64  \n",
      " 7   creditcard        9704 non-null   int64  \n",
      " 8   loyalty           9704 non-null   int64  \n",
      " 9   estimated_salary  9704 non-null   float64\n",
      " 10  churn             9704 non-null   int64  \n",
      "dtypes: float64(2), int64(7), object(2)\n",
      "memory usage: 909.8+ KB\n"
     ]
    }
   ],
   "source": [
    "bank.info()"
   ]
  },
  {
   "cell_type": "code",
   "execution_count": 23,
   "id": "27c1a89f",
   "metadata": {},
   "outputs": [
    {
     "data": {
      "image/png": "[encoded data removed]",
      "text/plain": [
       "<Figure size 1800x1080 with 4 Axes>"
      ]
     },
     "metadata": {
      "needs_background": "light"
     },
     "output_type": "display_data"
    }
   ],
   "source": [
    "# разобьем Figure на 2 строки и 2 столбца, и зададим размер\n",
    "fig, axes = plt.subplots(2, 2, figsize = (25, 15))\n",
    "axes = axes.ravel() # возвращает сжатый до одной оси массив\n",
    "#создадим временный срез датасета с НЕнулевым балансом \n",
    "bank_balance = bank.query('balance != 0')\n",
    "\n",
    "#Построим графики \"ящик с усами\"\n",
    "for col, ax in zip(col_1, axes):\n",
    "        sns.boxplot(data = bank, y=col, x='churn', ax=ax)\n",
    "        ax.set_title(f'Распределение для признака {col}', fontsize=14)\n",
    "        ax.set_xlabel(f'{col}')\n",
    "        ax.set_ylabel('Частота значения')\n",
    "        \n",
    "fig.tight_layout()\n",
    "plt.show()"
   ]
  },
  {
   "cell_type": "markdown",
   "id": "e4dc6ebb",
   "metadata": {},
   "source": [
    "- Видны выбросы по возрасту по клиентам оставшимся с банком.\n",
    "- Также заметны выбросы по балансу как в сторону мнимума, так и максимума."
   ]
  },
  {
   "cell_type": "markdown",
   "id": "3257585a",
   "metadata": {},
   "source": [
    "Для удобства просмотра графиков с количественными переменными определим группы по признакам: score, age, balance, estimated_salary. "
   ]
  },
  {
   "cell_type": "code",
   "execution_count": 24,
   "id": "3bd50e50",
   "metadata": {},
   "outputs": [
    {
     "data": {
      "text/html": [
       "<div>\n",
       "<style scoped>\n",
       "    .dataframe tbody tr th:only-of-type {\n",
       "        vertical-align: middle;\n",
       "    }\n",
       "\n",
       "    .dataframe tbody tr th {\n",
       "        vertical-align: top;\n",
       "    }\n",
       "\n",
       "    .dataframe thead th {\n",
       "        text-align: right;\n",
       "    }\n",
       "</style>\n",
       "<table border=\"1\" class=\"dataframe\">\n",
       "  <thead>\n",
       "    <tr style=\"text-align: right;\">\n",
       "      <th></th>\n",
       "      <th>score</th>\n",
       "      <th>city</th>\n",
       "      <th>gender</th>\n",
       "      <th>age</th>\n",
       "      <th>objects</th>\n",
       "      <th>balance</th>\n",
       "      <th>products</th>\n",
       "      <th>creditcard</th>\n",
       "      <th>loyalty</th>\n",
       "      <th>estimated_salary</th>\n",
       "      <th>churn</th>\n",
       "      <th>score_group</th>\n",
       "    </tr>\n",
       "    <tr>\n",
       "      <th>userid</th>\n",
       "      <th></th>\n",
       "      <th></th>\n",
       "      <th></th>\n",
       "      <th></th>\n",
       "      <th></th>\n",
       "      <th></th>\n",
       "      <th></th>\n",
       "      <th></th>\n",
       "      <th></th>\n",
       "      <th></th>\n",
       "      <th></th>\n",
       "      <th></th>\n",
       "    </tr>\n",
       "  </thead>\n",
       "  <tbody>\n",
       "    <tr>\n",
       "      <th>15677338</th>\n",
       "      <td>619</td>\n",
       "      <td>Ярославль</td>\n",
       "      <td>Ж</td>\n",
       "      <td>42</td>\n",
       "      <td>2</td>\n",
       "      <td>NaN</td>\n",
       "      <td>1</td>\n",
       "      <td>1</td>\n",
       "      <td>1</td>\n",
       "      <td>101348.88</td>\n",
       "      <td>1</td>\n",
       "      <td>Score 500-700</td>\n",
       "    </tr>\n",
       "    <tr>\n",
       "      <th>15690047</th>\n",
       "      <td>608</td>\n",
       "      <td>Рыбинск</td>\n",
       "      <td>Ж</td>\n",
       "      <td>41</td>\n",
       "      <td>1</td>\n",
       "      <td>83807.86</td>\n",
       "      <td>1</td>\n",
       "      <td>0</td>\n",
       "      <td>1</td>\n",
       "      <td>112542.58</td>\n",
       "      <td>0</td>\n",
       "      <td>Score 500-700</td>\n",
       "    </tr>\n",
       "    <tr>\n",
       "      <th>15662040</th>\n",
       "      <td>502</td>\n",
       "      <td>Ярославль</td>\n",
       "      <td>Ж</td>\n",
       "      <td>42</td>\n",
       "      <td>8</td>\n",
       "      <td>159660.80</td>\n",
       "      <td>3</td>\n",
       "      <td>1</td>\n",
       "      <td>0</td>\n",
       "      <td>113931.57</td>\n",
       "      <td>1</td>\n",
       "      <td>Score 500-700</td>\n",
       "    </tr>\n",
       "    <tr>\n",
       "      <th>15744090</th>\n",
       "      <td>699</td>\n",
       "      <td>Ярославль</td>\n",
       "      <td>Ж</td>\n",
       "      <td>39</td>\n",
       "      <td>1</td>\n",
       "      <td>NaN</td>\n",
       "      <td>2</td>\n",
       "      <td>0</td>\n",
       "      <td>0</td>\n",
       "      <td>93826.63</td>\n",
       "      <td>0</td>\n",
       "      <td>Score 500-700</td>\n",
       "    </tr>\n",
       "    <tr>\n",
       "      <th>15616748</th>\n",
       "      <td>645</td>\n",
       "      <td>Рыбинск</td>\n",
       "      <td>М</td>\n",
       "      <td>44</td>\n",
       "      <td>8</td>\n",
       "      <td>113755.78</td>\n",
       "      <td>2</td>\n",
       "      <td>1</td>\n",
       "      <td>0</td>\n",
       "      <td>149756.71</td>\n",
       "      <td>1</td>\n",
       "      <td>Score 500-700</td>\n",
       "    </tr>\n",
       "  </tbody>\n",
       "</table>\n",
       "</div>"
      ],
      "text/plain": [
       "          score       city gender  age  objects    balance  products  \\\n",
       "userid                                                                 \n",
       "15677338    619  Ярославль      Ж   42        2        NaN         1   \n",
       "15690047    608    Рыбинск      Ж   41        1   83807.86         1   \n",
       "15662040    502  Ярославль      Ж   42        8  159660.80         3   \n",
       "15744090    699  Ярославль      Ж   39        1        NaN         2   \n",
       "15616748    645    Рыбинск      М   44        8  113755.78         2   \n",
       "\n",
       "          creditcard  loyalty  estimated_salary  churn    score_group  \n",
       "userid                                                                 \n",
       "15677338           1        1         101348.88      1  Score 500-700  \n",
       "15690047           0        1         112542.58      0  Score 500-700  \n",
       "15662040           1        0         113931.57      1  Score 500-700  \n",
       "15744090           0        0          93826.63      0  Score 500-700  \n",
       "15616748           1        0         149756.71      1  Score 500-700  "
      ]
     },
     "metadata": {},
     "output_type": "display_data"
    },
    {
     "data": {
      "text/html": [
       "<div>\n",
       "<style scoped>\n",
       "    .dataframe tbody tr th:only-of-type {\n",
       "        vertical-align: middle;\n",
       "    }\n",
       "\n",
       "    .dataframe tbody tr th {\n",
       "        vertical-align: top;\n",
       "    }\n",
       "\n",
       "    .dataframe thead th {\n",
       "        text-align: right;\n",
       "    }\n",
       "</style>\n",
       "<table border=\"1\" class=\"dataframe\">\n",
       "  <thead>\n",
       "    <tr style=\"text-align: right;\">\n",
       "      <th>churn</th>\n",
       "      <th>score_group</th>\n",
       "      <th>0</th>\n",
       "      <th>1</th>\n",
       "    </tr>\n",
       "  </thead>\n",
       "  <tbody>\n",
       "    <tr>\n",
       "      <th>0</th>\n",
       "      <td>Score 500-700</td>\n",
       "      <td>4975</td>\n",
       "      <td>1266</td>\n",
       "    </tr>\n",
       "    <tr>\n",
       "      <th>1</th>\n",
       "      <td>Score after 700</td>\n",
       "      <td>2260</td>\n",
       "      <td>560</td>\n",
       "    </tr>\n",
       "    <tr>\n",
       "      <th>2</th>\n",
       "      <td>Score before 500</td>\n",
       "      <td>491</td>\n",
       "      <td>152</td>\n",
       "    </tr>\n",
       "  </tbody>\n",
       "</table>\n",
       "</div>"
      ],
      "text/plain": [
       "churn       score_group     0     1\n",
       "0         Score 500-700  4975  1266\n",
       "1       Score after 700  2260   560\n",
       "2      Score before 500   491   152"
      ]
     },
     "execution_count": 24,
     "metadata": {},
     "output_type": "execute_result"
    }
   ],
   "source": [
    "# напишем функцию, которая определяет группы по скорринговым баллам\n",
    "def group(feature):\n",
    "    if feature <= 500:\n",
    "        f = 'Score before 500'\n",
    "    elif feature > 500 and feature <= 700:\n",
    "        f = 'Score 500-700'\n",
    "    else:\n",
    "        f = 'Score after 700'\n",
    "    return f\n",
    "# применим метод apply к столбцу с количественной переменной и добавим новый столбец\n",
    "bank['score_group'] = bank['score'].apply(group)\n",
    "display(bank.head())\n",
    "bank.pivot_table(index = 'score_group', columns='churn', values='loyalty',  aggfunc='count').reset_index()"
   ]
  },
  {
   "cell_type": "code",
   "execution_count": 25,
   "id": "79fb8382",
   "metadata": {},
   "outputs": [
    {
     "data": {
      "text/html": [
       "<div>\n",
       "<style scoped>\n",
       "    .dataframe tbody tr th:only-of-type {\n",
       "        vertical-align: middle;\n",
       "    }\n",
       "\n",
       "    .dataframe tbody tr th {\n",
       "        vertical-align: top;\n",
       "    }\n",
       "\n",
       "    .dataframe thead th {\n",
       "        text-align: right;\n",
       "    }\n",
       "</style>\n",
       "<table border=\"1\" class=\"dataframe\">\n",
       "  <thead>\n",
       "    <tr style=\"text-align: right;\">\n",
       "      <th></th>\n",
       "      <th>score</th>\n",
       "      <th>city</th>\n",
       "      <th>gender</th>\n",
       "      <th>age</th>\n",
       "      <th>objects</th>\n",
       "      <th>balance</th>\n",
       "      <th>products</th>\n",
       "      <th>creditcard</th>\n",
       "      <th>loyalty</th>\n",
       "      <th>estimated_salary</th>\n",
       "      <th>churn</th>\n",
       "      <th>score_group</th>\n",
       "      <th>age_group</th>\n",
       "    </tr>\n",
       "    <tr>\n",
       "      <th>userid</th>\n",
       "      <th></th>\n",
       "      <th></th>\n",
       "      <th></th>\n",
       "      <th></th>\n",
       "      <th></th>\n",
       "      <th></th>\n",
       "      <th></th>\n",
       "      <th></th>\n",
       "      <th></th>\n",
       "      <th></th>\n",
       "      <th></th>\n",
       "      <th></th>\n",
       "      <th></th>\n",
       "    </tr>\n",
       "  </thead>\n",
       "  <tbody>\n",
       "    <tr>\n",
       "      <th>15677338</th>\n",
       "      <td>619</td>\n",
       "      <td>Ярославль</td>\n",
       "      <td>Ж</td>\n",
       "      <td>42</td>\n",
       "      <td>2</td>\n",
       "      <td>NaN</td>\n",
       "      <td>1</td>\n",
       "      <td>1</td>\n",
       "      <td>1</td>\n",
       "      <td>101348.88</td>\n",
       "      <td>1</td>\n",
       "      <td>Score 500-700</td>\n",
       "      <td>age 40-50</td>\n",
       "    </tr>\n",
       "    <tr>\n",
       "      <th>15690047</th>\n",
       "      <td>608</td>\n",
       "      <td>Рыбинск</td>\n",
       "      <td>Ж</td>\n",
       "      <td>41</td>\n",
       "      <td>1</td>\n",
       "      <td>83807.86</td>\n",
       "      <td>1</td>\n",
       "      <td>0</td>\n",
       "      <td>1</td>\n",
       "      <td>112542.58</td>\n",
       "      <td>0</td>\n",
       "      <td>Score 500-700</td>\n",
       "      <td>age 40-50</td>\n",
       "    </tr>\n",
       "    <tr>\n",
       "      <th>15662040</th>\n",
       "      <td>502</td>\n",
       "      <td>Ярославль</td>\n",
       "      <td>Ж</td>\n",
       "      <td>42</td>\n",
       "      <td>8</td>\n",
       "      <td>159660.80</td>\n",
       "      <td>3</td>\n",
       "      <td>1</td>\n",
       "      <td>0</td>\n",
       "      <td>113931.57</td>\n",
       "      <td>1</td>\n",
       "      <td>Score 500-700</td>\n",
       "      <td>age 40-50</td>\n",
       "    </tr>\n",
       "    <tr>\n",
       "      <th>15744090</th>\n",
       "      <td>699</td>\n",
       "      <td>Ярославль</td>\n",
       "      <td>Ж</td>\n",
       "      <td>39</td>\n",
       "      <td>1</td>\n",
       "      <td>NaN</td>\n",
       "      <td>2</td>\n",
       "      <td>0</td>\n",
       "      <td>0</td>\n",
       "      <td>93826.63</td>\n",
       "      <td>0</td>\n",
       "      <td>Score 500-700</td>\n",
       "      <td>age 30-40</td>\n",
       "    </tr>\n",
       "    <tr>\n",
       "      <th>15616748</th>\n",
       "      <td>645</td>\n",
       "      <td>Рыбинск</td>\n",
       "      <td>М</td>\n",
       "      <td>44</td>\n",
       "      <td>8</td>\n",
       "      <td>113755.78</td>\n",
       "      <td>2</td>\n",
       "      <td>1</td>\n",
       "      <td>0</td>\n",
       "      <td>149756.71</td>\n",
       "      <td>1</td>\n",
       "      <td>Score 500-700</td>\n",
       "      <td>age 40-50</td>\n",
       "    </tr>\n",
       "  </tbody>\n",
       "</table>\n",
       "</div>"
      ],
      "text/plain": [
       "          score       city gender  age  objects    balance  products  \\\n",
       "userid                                                                 \n",
       "15677338    619  Ярославль      Ж   42        2        NaN         1   \n",
       "15690047    608    Рыбинск      Ж   41        1   83807.86         1   \n",
       "15662040    502  Ярославль      Ж   42        8  159660.80         3   \n",
       "15744090    699  Ярославль      Ж   39        1        NaN         2   \n",
       "15616748    645    Рыбинск      М   44        8  113755.78         2   \n",
       "\n",
       "          creditcard  loyalty  estimated_salary  churn    score_group  \\\n",
       "userid                                                                  \n",
       "15677338           1        1         101348.88      1  Score 500-700   \n",
       "15690047           0        1         112542.58      0  Score 500-700   \n",
       "15662040           1        0         113931.57      1  Score 500-700   \n",
       "15744090           0        0          93826.63      0  Score 500-700   \n",
       "15616748           1        0         149756.71      1  Score 500-700   \n",
       "\n",
       "          age_group  \n",
       "userid               \n",
       "15677338  age 40-50  \n",
       "15690047  age 40-50  \n",
       "15662040  age 40-50  \n",
       "15744090  age 30-40  \n",
       "15616748  age 40-50  "
      ]
     },
     "metadata": {},
     "output_type": "display_data"
    },
    {
     "data": {
      "text/html": [
       "<div>\n",
       "<style scoped>\n",
       "    .dataframe tbody tr th:only-of-type {\n",
       "        vertical-align: middle;\n",
       "    }\n",
       "\n",
       "    .dataframe tbody tr th {\n",
       "        vertical-align: top;\n",
       "    }\n",
       "\n",
       "    .dataframe thead th {\n",
       "        text-align: right;\n",
       "    }\n",
       "</style>\n",
       "<table border=\"1\" class=\"dataframe\">\n",
       "  <thead>\n",
       "    <tr style=\"text-align: right;\">\n",
       "      <th>churn</th>\n",
       "      <th>age_group</th>\n",
       "      <th>0</th>\n",
       "      <th>1</th>\n",
       "    </tr>\n",
       "  </thead>\n",
       "  <tbody>\n",
       "    <tr>\n",
       "      <th>0</th>\n",
       "      <td>age 30-40</td>\n",
       "      <td>3782</td>\n",
       "      <td>523</td>\n",
       "    </tr>\n",
       "    <tr>\n",
       "      <th>1</th>\n",
       "      <td>age 40-50</td>\n",
       "      <td>1494</td>\n",
       "      <td>767</td>\n",
       "    </tr>\n",
       "    <tr>\n",
       "      <th>2</th>\n",
       "      <td>age after 50</td>\n",
       "      <td>681</td>\n",
       "      <td>541</td>\n",
       "    </tr>\n",
       "    <tr>\n",
       "      <th>3</th>\n",
       "      <td>age before 30</td>\n",
       "      <td>1769</td>\n",
       "      <td>147</td>\n",
       "    </tr>\n",
       "  </tbody>\n",
       "</table>\n",
       "</div>"
      ],
      "text/plain": [
       "churn      age_group     0    1\n",
       "0          age 30-40  3782  523\n",
       "1          age 40-50  1494  767\n",
       "2       age after 50   681  541\n",
       "3      age before 30  1769  147"
      ]
     },
     "execution_count": 25,
     "metadata": {},
     "output_type": "execute_result"
    }
   ],
   "source": [
    "# напишем функцию, которая определяет группы по age\n",
    "def group(feature):\n",
    "    if feature <= 30:\n",
    "        f = 'age before 30'\n",
    "    elif feature > 30 and feature <= 40:\n",
    "        f = 'age 30-40'\n",
    "    elif feature > 40 and feature <= 50:\n",
    "        f = 'age 40-50'\n",
    "    else:\n",
    "        f = 'age after 50'\n",
    "    return f\n",
    "# применим метод apply к столбцу с количественной переменной и добавим новый столбец\n",
    "bank['age_group'] = bank['age'].apply(group)\n",
    "display(bank.head())\n",
    "bank.pivot_table(index = 'age_group', columns='churn', values='loyalty',  aggfunc='count').reset_index()"
   ]
  },
  {
   "cell_type": "code",
   "execution_count": 26,
   "id": "77aa3765",
   "metadata": {},
   "outputs": [
    {
     "data": {
      "text/html": [
       "<div>\n",
       "<style scoped>\n",
       "    .dataframe tbody tr th:only-of-type {\n",
       "        vertical-align: middle;\n",
       "    }\n",
       "\n",
       "    .dataframe tbody tr th {\n",
       "        vertical-align: top;\n",
       "    }\n",
       "\n",
       "    .dataframe thead th {\n",
       "        text-align: right;\n",
       "    }\n",
       "</style>\n",
       "<table border=\"1\" class=\"dataframe\">\n",
       "  <thead>\n",
       "    <tr style=\"text-align: right;\">\n",
       "      <th></th>\n",
       "      <th>score</th>\n",
       "      <th>city</th>\n",
       "      <th>gender</th>\n",
       "      <th>age</th>\n",
       "      <th>objects</th>\n",
       "      <th>balance</th>\n",
       "      <th>products</th>\n",
       "      <th>creditcard</th>\n",
       "      <th>loyalty</th>\n",
       "      <th>estimated_salary</th>\n",
       "      <th>churn</th>\n",
       "      <th>score_group</th>\n",
       "      <th>age_group</th>\n",
       "      <th>balance_group</th>\n",
       "    </tr>\n",
       "    <tr>\n",
       "      <th>userid</th>\n",
       "      <th></th>\n",
       "      <th></th>\n",
       "      <th></th>\n",
       "      <th></th>\n",
       "      <th></th>\n",
       "      <th></th>\n",
       "      <th></th>\n",
       "      <th></th>\n",
       "      <th></th>\n",
       "      <th></th>\n",
       "      <th></th>\n",
       "      <th></th>\n",
       "      <th></th>\n",
       "      <th></th>\n",
       "    </tr>\n",
       "  </thead>\n",
       "  <tbody>\n",
       "    <tr>\n",
       "      <th>15677338</th>\n",
       "      <td>619</td>\n",
       "      <td>Ярославль</td>\n",
       "      <td>Ж</td>\n",
       "      <td>42</td>\n",
       "      <td>2</td>\n",
       "      <td>NaN</td>\n",
       "      <td>1</td>\n",
       "      <td>1</td>\n",
       "      <td>1</td>\n",
       "      <td>101348.88</td>\n",
       "      <td>1</td>\n",
       "      <td>Score 500-700</td>\n",
       "      <td>age 40-50</td>\n",
       "      <td>balance empty</td>\n",
       "    </tr>\n",
       "    <tr>\n",
       "      <th>15690047</th>\n",
       "      <td>608</td>\n",
       "      <td>Рыбинск</td>\n",
       "      <td>Ж</td>\n",
       "      <td>41</td>\n",
       "      <td>1</td>\n",
       "      <td>83807.86</td>\n",
       "      <td>1</td>\n",
       "      <td>0</td>\n",
       "      <td>1</td>\n",
       "      <td>112542.58</td>\n",
       "      <td>0</td>\n",
       "      <td>Score 500-700</td>\n",
       "      <td>age 40-50</td>\n",
       "      <td>balance 50-100 t.r.</td>\n",
       "    </tr>\n",
       "    <tr>\n",
       "      <th>15662040</th>\n",
       "      <td>502</td>\n",
       "      <td>Ярославль</td>\n",
       "      <td>Ж</td>\n",
       "      <td>42</td>\n",
       "      <td>8</td>\n",
       "      <td>159660.80</td>\n",
       "      <td>3</td>\n",
       "      <td>1</td>\n",
       "      <td>0</td>\n",
       "      <td>113931.57</td>\n",
       "      <td>1</td>\n",
       "      <td>Score 500-700</td>\n",
       "      <td>age 40-50</td>\n",
       "      <td>balance after 150 t.r.</td>\n",
       "    </tr>\n",
       "    <tr>\n",
       "      <th>15744090</th>\n",
       "      <td>699</td>\n",
       "      <td>Ярославль</td>\n",
       "      <td>Ж</td>\n",
       "      <td>39</td>\n",
       "      <td>1</td>\n",
       "      <td>NaN</td>\n",
       "      <td>2</td>\n",
       "      <td>0</td>\n",
       "      <td>0</td>\n",
       "      <td>93826.63</td>\n",
       "      <td>0</td>\n",
       "      <td>Score 500-700</td>\n",
       "      <td>age 30-40</td>\n",
       "      <td>balance empty</td>\n",
       "    </tr>\n",
       "    <tr>\n",
       "      <th>15616748</th>\n",
       "      <td>645</td>\n",
       "      <td>Рыбинск</td>\n",
       "      <td>М</td>\n",
       "      <td>44</td>\n",
       "      <td>8</td>\n",
       "      <td>113755.78</td>\n",
       "      <td>2</td>\n",
       "      <td>1</td>\n",
       "      <td>0</td>\n",
       "      <td>149756.71</td>\n",
       "      <td>1</td>\n",
       "      <td>Score 500-700</td>\n",
       "      <td>age 40-50</td>\n",
       "      <td>balance 100-150 t.r.</td>\n",
       "    </tr>\n",
       "  </tbody>\n",
       "</table>\n",
       "</div>"
      ],
      "text/plain": [
       "          score       city gender  age  objects    balance  products  \\\n",
       "userid                                                                 \n",
       "15677338    619  Ярославль      Ж   42        2        NaN         1   \n",
       "15690047    608    Рыбинск      Ж   41        1   83807.86         1   \n",
       "15662040    502  Ярославль      Ж   42        8  159660.80         3   \n",
       "15744090    699  Ярославль      Ж   39        1        NaN         2   \n",
       "15616748    645    Рыбинск      М   44        8  113755.78         2   \n",
       "\n",
       "          creditcard  loyalty  estimated_salary  churn    score_group  \\\n",
       "userid                                                                  \n",
       "15677338           1        1         101348.88      1  Score 500-700   \n",
       "15690047           0        1         112542.58      0  Score 500-700   \n",
       "15662040           1        0         113931.57      1  Score 500-700   \n",
       "15744090           0        0          93826.63      0  Score 500-700   \n",
       "15616748           1        0         149756.71      1  Score 500-700   \n",
       "\n",
       "          age_group           balance_group  \n",
       "userid                                       \n",
       "15677338  age 40-50           balance empty  \n",
       "15690047  age 40-50     balance 50-100 t.r.  \n",
       "15662040  age 40-50  balance after 150 t.r.  \n",
       "15744090  age 30-40           balance empty  \n",
       "15616748  age 40-50    balance 100-150 t.r.  "
      ]
     },
     "metadata": {},
     "output_type": "display_data"
    },
    {
     "data": {
      "text/html": [
       "<div>\n",
       "<style scoped>\n",
       "    .dataframe tbody tr th:only-of-type {\n",
       "        vertical-align: middle;\n",
       "    }\n",
       "\n",
       "    .dataframe tbody tr th {\n",
       "        vertical-align: top;\n",
       "    }\n",
       "\n",
       "    .dataframe thead th {\n",
       "        text-align: right;\n",
       "    }\n",
       "</style>\n",
       "<table border=\"1\" class=\"dataframe\">\n",
       "  <thead>\n",
       "    <tr style=\"text-align: right;\">\n",
       "      <th>churn</th>\n",
       "      <th>balance_group</th>\n",
       "      <th>0</th>\n",
       "      <th>1</th>\n",
       "    </tr>\n",
       "  </thead>\n",
       "  <tbody>\n",
       "    <tr>\n",
       "      <th>0</th>\n",
       "      <td>balance 100-150 t.r.</td>\n",
       "      <td>2755</td>\n",
       "      <td>962</td>\n",
       "    </tr>\n",
       "    <tr>\n",
       "      <th>1</th>\n",
       "      <td>balance 50-100 t.r.</td>\n",
       "      <td>1170</td>\n",
       "      <td>285</td>\n",
       "    </tr>\n",
       "    <tr>\n",
       "      <th>2</th>\n",
       "      <td>balance after 150 t.r.</td>\n",
       "      <td>722</td>\n",
       "      <td>218</td>\n",
       "    </tr>\n",
       "    <tr>\n",
       "      <th>3</th>\n",
       "      <td>balance before 50 t.r.</td>\n",
       "      <td>48</td>\n",
       "      <td>26</td>\n",
       "    </tr>\n",
       "    <tr>\n",
       "      <th>4</th>\n",
       "      <td>balance empty</td>\n",
       "      <td>3031</td>\n",
       "      <td>487</td>\n",
       "    </tr>\n",
       "  </tbody>\n",
       "</table>\n",
       "</div>"
      ],
      "text/plain": [
       "churn           balance_group     0    1\n",
       "0        balance 100-150 t.r.  2755  962\n",
       "1         balance 50-100 t.r.  1170  285\n",
       "2      balance after 150 t.r.   722  218\n",
       "3      balance before 50 t.r.    48   26\n",
       "4               balance empty  3031  487"
      ]
     },
     "execution_count": 26,
     "metadata": {},
     "output_type": "execute_result"
    }
   ],
   "source": [
    "# напишем функцию, которая определяет группы по balance\n",
    "def group(feature):\n",
    "    if feature <= 50000:\n",
    "        f = 'balance before 50 t.r.'\n",
    "    elif feature > 50000 and feature <= 100000:\n",
    "        f = 'balance 50-100 t.r.'\n",
    "    elif feature > 100000 and feature <= 150000:\n",
    "        f = 'balance 100-150 t.r.'\n",
    "    elif feature > 150000:\n",
    "        f = 'balance after 150 t.r.'   \n",
    "    else:\n",
    "        f = 'balance empty'\n",
    "    return f\n",
    "# применим метод apply к столбцу с количественной переменной и добавим новый столбец\n",
    "bank['balance_group'] = bank['balance'].apply(group)\n",
    "display(bank.head())\n",
    "bank.pivot_table(index = 'balance_group', columns='churn', values='loyalty',  aggfunc='count').reset_index()"
   ]
  },
  {
   "cell_type": "code",
   "execution_count": 27,
   "id": "a869422a",
   "metadata": {},
   "outputs": [
    {
     "data": {
      "text/html": [
       "<div>\n",
       "<style scoped>\n",
       "    .dataframe tbody tr th:only-of-type {\n",
       "        vertical-align: middle;\n",
       "    }\n",
       "\n",
       "    .dataframe tbody tr th {\n",
       "        vertical-align: top;\n",
       "    }\n",
       "\n",
       "    .dataframe thead th {\n",
       "        text-align: right;\n",
       "    }\n",
       "</style>\n",
       "<table border=\"1\" class=\"dataframe\">\n",
       "  <thead>\n",
       "    <tr style=\"text-align: right;\">\n",
       "      <th></th>\n",
       "      <th>score</th>\n",
       "      <th>city</th>\n",
       "      <th>gender</th>\n",
       "      <th>age</th>\n",
       "      <th>objects</th>\n",
       "      <th>balance</th>\n",
       "      <th>products</th>\n",
       "      <th>creditcard</th>\n",
       "      <th>loyalty</th>\n",
       "      <th>estimated_salary</th>\n",
       "      <th>churn</th>\n",
       "      <th>score_group</th>\n",
       "      <th>age_group</th>\n",
       "      <th>balance_group</th>\n",
       "      <th>salary_group</th>\n",
       "    </tr>\n",
       "    <tr>\n",
       "      <th>userid</th>\n",
       "      <th></th>\n",
       "      <th></th>\n",
       "      <th></th>\n",
       "      <th></th>\n",
       "      <th></th>\n",
       "      <th></th>\n",
       "      <th></th>\n",
       "      <th></th>\n",
       "      <th></th>\n",
       "      <th></th>\n",
       "      <th></th>\n",
       "      <th></th>\n",
       "      <th></th>\n",
       "      <th></th>\n",
       "      <th></th>\n",
       "    </tr>\n",
       "  </thead>\n",
       "  <tbody>\n",
       "    <tr>\n",
       "      <th>15677338</th>\n",
       "      <td>619</td>\n",
       "      <td>Ярославль</td>\n",
       "      <td>Ж</td>\n",
       "      <td>42</td>\n",
       "      <td>2</td>\n",
       "      <td>NaN</td>\n",
       "      <td>1</td>\n",
       "      <td>1</td>\n",
       "      <td>1</td>\n",
       "      <td>101348.88</td>\n",
       "      <td>1</td>\n",
       "      <td>Score 500-700</td>\n",
       "      <td>age 40-50</td>\n",
       "      <td>balance empty</td>\n",
       "      <td>salary 100-150 t.r.</td>\n",
       "    </tr>\n",
       "    <tr>\n",
       "      <th>15690047</th>\n",
       "      <td>608</td>\n",
       "      <td>Рыбинск</td>\n",
       "      <td>Ж</td>\n",
       "      <td>41</td>\n",
       "      <td>1</td>\n",
       "      <td>83807.86</td>\n",
       "      <td>1</td>\n",
       "      <td>0</td>\n",
       "      <td>1</td>\n",
       "      <td>112542.58</td>\n",
       "      <td>0</td>\n",
       "      <td>Score 500-700</td>\n",
       "      <td>age 40-50</td>\n",
       "      <td>balance 50-100 t.r.</td>\n",
       "      <td>salary 100-150 t.r.</td>\n",
       "    </tr>\n",
       "    <tr>\n",
       "      <th>15662040</th>\n",
       "      <td>502</td>\n",
       "      <td>Ярославль</td>\n",
       "      <td>Ж</td>\n",
       "      <td>42</td>\n",
       "      <td>8</td>\n",
       "      <td>159660.80</td>\n",
       "      <td>3</td>\n",
       "      <td>1</td>\n",
       "      <td>0</td>\n",
       "      <td>113931.57</td>\n",
       "      <td>1</td>\n",
       "      <td>Score 500-700</td>\n",
       "      <td>age 40-50</td>\n",
       "      <td>balance after 150 t.r.</td>\n",
       "      <td>salary 100-150 t.r.</td>\n",
       "    </tr>\n",
       "    <tr>\n",
       "      <th>15744090</th>\n",
       "      <td>699</td>\n",
       "      <td>Ярославль</td>\n",
       "      <td>Ж</td>\n",
       "      <td>39</td>\n",
       "      <td>1</td>\n",
       "      <td>NaN</td>\n",
       "      <td>2</td>\n",
       "      <td>0</td>\n",
       "      <td>0</td>\n",
       "      <td>93826.63</td>\n",
       "      <td>0</td>\n",
       "      <td>Score 500-700</td>\n",
       "      <td>age 30-40</td>\n",
       "      <td>balance empty</td>\n",
       "      <td>salary 50-100 t.r.</td>\n",
       "    </tr>\n",
       "    <tr>\n",
       "      <th>15616748</th>\n",
       "      <td>645</td>\n",
       "      <td>Рыбинск</td>\n",
       "      <td>М</td>\n",
       "      <td>44</td>\n",
       "      <td>8</td>\n",
       "      <td>113755.78</td>\n",
       "      <td>2</td>\n",
       "      <td>1</td>\n",
       "      <td>0</td>\n",
       "      <td>149756.71</td>\n",
       "      <td>1</td>\n",
       "      <td>Score 500-700</td>\n",
       "      <td>age 40-50</td>\n",
       "      <td>balance 100-150 t.r.</td>\n",
       "      <td>salary 100-150 t.r.</td>\n",
       "    </tr>\n",
       "  </tbody>\n",
       "</table>\n",
       "</div>"
      ],
      "text/plain": [
       "          score       city gender  age  objects    balance  products  \\\n",
       "userid                                                                 \n",
       "15677338    619  Ярославль      Ж   42        2        NaN         1   \n",
       "15690047    608    Рыбинск      Ж   41        1   83807.86         1   \n",
       "15662040    502  Ярославль      Ж   42        8  159660.80         3   \n",
       "15744090    699  Ярославль      Ж   39        1        NaN         2   \n",
       "15616748    645    Рыбинск      М   44        8  113755.78         2   \n",
       "\n",
       "          creditcard  loyalty  estimated_salary  churn    score_group  \\\n",
       "userid                                                                  \n",
       "15677338           1        1         101348.88      1  Score 500-700   \n",
       "15690047           0        1         112542.58      0  Score 500-700   \n",
       "15662040           1        0         113931.57      1  Score 500-700   \n",
       "15744090           0        0          93826.63      0  Score 500-700   \n",
       "15616748           1        0         149756.71      1  Score 500-700   \n",
       "\n",
       "          age_group           balance_group         salary_group  \n",
       "userid                                                            \n",
       "15677338  age 40-50           balance empty  salary 100-150 t.r.  \n",
       "15690047  age 40-50     balance 50-100 t.r.  salary 100-150 t.r.  \n",
       "15662040  age 40-50  balance after 150 t.r.  salary 100-150 t.r.  \n",
       "15744090  age 30-40           balance empty   salary 50-100 t.r.  \n",
       "15616748  age 40-50    balance 100-150 t.r.  salary 100-150 t.r.  "
      ]
     },
     "metadata": {},
     "output_type": "display_data"
    },
    {
     "data": {
      "text/html": [
       "<div>\n",
       "<style scoped>\n",
       "    .dataframe tbody tr th:only-of-type {\n",
       "        vertical-align: middle;\n",
       "    }\n",
       "\n",
       "    .dataframe tbody tr th {\n",
       "        vertical-align: top;\n",
       "    }\n",
       "\n",
       "    .dataframe thead th {\n",
       "        text-align: right;\n",
       "    }\n",
       "</style>\n",
       "<table border=\"1\" class=\"dataframe\">\n",
       "  <thead>\n",
       "    <tr style=\"text-align: right;\">\n",
       "      <th>churn</th>\n",
       "      <th>salary_group</th>\n",
       "      <th>0</th>\n",
       "      <th>1</th>\n",
       "    </tr>\n",
       "  </thead>\n",
       "  <tbody>\n",
       "    <tr>\n",
       "      <th>0</th>\n",
       "      <td>salary 100-150 t.r.</td>\n",
       "      <td>1982</td>\n",
       "      <td>509</td>\n",
       "    </tr>\n",
       "    <tr>\n",
       "      <th>1</th>\n",
       "      <td>salary 50-100 t.r.</td>\n",
       "      <td>1977</td>\n",
       "      <td>489</td>\n",
       "    </tr>\n",
       "    <tr>\n",
       "      <th>2</th>\n",
       "      <td>salary after 150 t.r.</td>\n",
       "      <td>1863</td>\n",
       "      <td>510</td>\n",
       "    </tr>\n",
       "    <tr>\n",
       "      <th>3</th>\n",
       "      <td>salary before 50 t.r.</td>\n",
       "      <td>1904</td>\n",
       "      <td>470</td>\n",
       "    </tr>\n",
       "  </tbody>\n",
       "</table>\n",
       "</div>"
      ],
      "text/plain": [
       "churn           salary_group     0    1\n",
       "0        salary 100-150 t.r.  1982  509\n",
       "1         salary 50-100 t.r.  1977  489\n",
       "2      salary after 150 t.r.  1863  510\n",
       "3      salary before 50 t.r.  1904  470"
      ]
     },
     "execution_count": 27,
     "metadata": {},
     "output_type": "execute_result"
    }
   ],
   "source": [
    "# напишем функцию, которая определяет группы по estimated_salary\n",
    "def group(feature):\n",
    "    if feature <= 50000:\n",
    "        f = 'salary before 50 t.r.'\n",
    "    elif feature > 50000 and feature <= 100000:\n",
    "        f = 'salary 50-100 t.r.'\n",
    "    elif feature > 100000 and feature <= 150000:\n",
    "        f = 'salary 100-150 t.r.'\n",
    "    else:\n",
    "        f = 'salary after 150 t.r.'\n",
    "    return f\n",
    "# применим метод apply к столбцу с количественной переменной и добавим новый столбец\n",
    "bank['salary_group'] = bank['estimated_salary'].apply(group)\n",
    "display(bank.head())\n",
    "bank.pivot_table(index = 'salary_group', columns='churn', values='loyalty',  aggfunc='count').reset_index()"
   ]
  },
  {
   "cell_type": "code",
   "execution_count": 28,
   "id": "a800d711",
   "metadata": {},
   "outputs": [
    {
     "data": {
      "text/plain": [
       "['score',\n",
       " 'city',\n",
       " 'gender',\n",
       " 'age',\n",
       " 'objects',\n",
       " 'balance',\n",
       " 'products',\n",
       " 'creditcard',\n",
       " 'loyalty',\n",
       " 'estimated_salary',\n",
       " 'churn',\n",
       " 'score_group',\n",
       " 'age_group',\n",
       " 'balance_group',\n",
       " 'salary_group']"
      ]
     },
     "execution_count": 28,
     "metadata": {},
     "output_type": "execute_result"
    }
   ],
   "source": [
    "list (bank.columns)"
   ]
  },
  {
   "cell_type": "markdown",
   "id": "840d7310",
   "metadata": {},
   "source": [
    "Построим столбчатые диаграммы для категориальных признаков, включая вновь определенные."
   ]
  },
  {
   "cell_type": "code",
   "execution_count": 29,
   "id": "34c64b34",
   "metadata": {},
   "outputs": [],
   "source": [
    "# категориальные признаки\n",
    "col_2 = ['city',\n",
    " 'gender',\n",
    " 'objects',\n",
    " 'products',\n",
    " 'creditcard',\n",
    " 'loyalty',\n",
    " 'score_group',\n",
    " 'age_group',\n",
    " 'balance_group',\n",
    " 'salary_group'\n",
    " ]"
   ]
  },
  {
   "cell_type": "code",
   "execution_count": 30,
   "id": "67e297a5",
   "metadata": {
    "scrolled": false
   },
   "outputs": [
    {
     "data": {
      "image/png": "[encoded data removed]",
      "text/plain": [
       "<Figure size 1440x2160 with 10 Axes>"
      ]
     },
     "metadata": {
      "needs_background": "light"
     },
     "output_type": "display_data"
    }
   ],
   "source": [
    "# разобьем Figure на 3 строки и 2 столбца, и зададим размер\n",
    "fig, axes = plt.subplots(5, 2, figsize = (20, 30))\n",
    "axes = axes.ravel() # возвращает сжатый до одной оси массив\n",
    "\n",
    "#Построим столбчатые диаграммы\n",
    "for col, ax in zip(col_2, axes):\n",
    "    bank.pivot_table(index = col, columns='churn', values='age',  aggfunc='count').reset_index()\\\n",
    "    .plot(kind = 'bar', x=col, alpha=0.8, grid=True, width=0.5, ax=ax)\n",
    "    ax.set_xlabel(f'{col}')\n",
    "    ax.set_ylabel('Частота значения')\n",
    "    ax.set_title(f'Распределение для признака {col}', fontsize=14)\n",
    "\n",
    "fig.tight_layout()\n",
    "plt.show()"
   ]
  },
  {
   "cell_type": "markdown",
   "id": "2388982a",
   "metadata": {},
   "source": [
    "Построим матрицу корреляций и тепловую карту корреляций"
   ]
  },
  {
   "cell_type": "code",
   "execution_count": 32,
   "id": "4ca88af9",
   "metadata": {},
   "outputs": [],
   "source": [
    "# преобразуем категориальные переменные в индикаторные переменные.\n",
    "df = pd.get_dummies(bank,  columns=['city', 'gender'])"
   ]
  },
  {
   "cell_type": "code",
   "execution_count": 33,
   "id": "aa8c3102",
   "metadata": {},
   "outputs": [
    {
     "data": {
      "text/html": [
       "<div>\n",
       "<style scoped>\n",
       "    .dataframe tbody tr th:only-of-type {\n",
       "        vertical-align: middle;\n",
       "    }\n",
       "\n",
       "    .dataframe tbody tr th {\n",
       "        vertical-align: top;\n",
       "    }\n",
       "\n",
       "    .dataframe thead th {\n",
       "        text-align: right;\n",
       "    }\n",
       "</style>\n",
       "<table border=\"1\" class=\"dataframe\">\n",
       "  <thead>\n",
       "    <tr style=\"text-align: right;\">\n",
       "      <th></th>\n",
       "      <th>score</th>\n",
       "      <th>age</th>\n",
       "      <th>objects</th>\n",
       "      <th>balance</th>\n",
       "      <th>products</th>\n",
       "      <th>creditcard</th>\n",
       "      <th>loyalty</th>\n",
       "      <th>estimated_salary</th>\n",
       "      <th>churn</th>\n",
       "      <th>city_Ростов Великий</th>\n",
       "      <th>city_Рыбинск</th>\n",
       "      <th>city_Ярославль</th>\n",
       "      <th>gender_Ж</th>\n",
       "      <th>gender_М</th>\n",
       "    </tr>\n",
       "  </thead>\n",
       "  <tbody>\n",
       "    <tr>\n",
       "      <th>score</th>\n",
       "      <td>1.000000</td>\n",
       "      <td>-0.005182</td>\n",
       "      <td>0.003530</td>\n",
       "      <td>-0.001677</td>\n",
       "      <td>0.014890</td>\n",
       "      <td>-0.005516</td>\n",
       "      <td>0.025271</td>\n",
       "      <td>-0.000549</td>\n",
       "      <td>-0.028658</td>\n",
       "      <td>0.003443</td>\n",
       "      <td>0.008009</td>\n",
       "      <td>-0.009903</td>\n",
       "      <td>-0.000312</td>\n",
       "      <td>0.000312</td>\n",
       "    </tr>\n",
       "    <tr>\n",
       "      <th>age</th>\n",
       "      <td>-0.005182</td>\n",
       "      <td>1.000000</td>\n",
       "      <td>-0.008860</td>\n",
       "      <td>-0.012936</td>\n",
       "      <td>-0.028284</td>\n",
       "      <td>-0.010767</td>\n",
       "      <td>0.089156</td>\n",
       "      <td>-0.006190</td>\n",
       "      <td>0.282947</td>\n",
       "      <td>0.048305</td>\n",
       "      <td>-0.003155</td>\n",
       "      <td>-0.039131</td>\n",
       "      <td>0.029289</td>\n",
       "      <td>-0.029289</td>\n",
       "    </tr>\n",
       "    <tr>\n",
       "      <th>objects</th>\n",
       "      <td>0.003530</td>\n",
       "      <td>-0.008860</td>\n",
       "      <td>1.000000</td>\n",
       "      <td>0.008762</td>\n",
       "      <td>0.018184</td>\n",
       "      <td>0.021819</td>\n",
       "      <td>-0.027705</td>\n",
       "      <td>0.008031</td>\n",
       "      <td>-0.016268</td>\n",
       "      <td>0.002934</td>\n",
       "      <td>0.004124</td>\n",
       "      <td>-0.006105</td>\n",
       "      <td>-0.014824</td>\n",
       "      <td>0.014824</td>\n",
       "    </tr>\n",
       "    <tr>\n",
       "      <th>balance</th>\n",
       "      <td>-0.001677</td>\n",
       "      <td>-0.012936</td>\n",
       "      <td>0.008762</td>\n",
       "      <td>1.000000</td>\n",
       "      <td>0.000139</td>\n",
       "      <td>0.010032</td>\n",
       "      <td>-0.022820</td>\n",
       "      <td>-0.001187</td>\n",
       "      <td>0.017061</td>\n",
       "      <td>-0.002110</td>\n",
       "      <td>-0.000990</td>\n",
       "      <td>0.002904</td>\n",
       "      <td>-0.026506</td>\n",
       "      <td>0.026506</td>\n",
       "    </tr>\n",
       "    <tr>\n",
       "      <th>products</th>\n",
       "      <td>0.014890</td>\n",
       "      <td>-0.028284</td>\n",
       "      <td>0.018184</td>\n",
       "      <td>0.000139</td>\n",
       "      <td>1.000000</td>\n",
       "      <td>0.001923</td>\n",
       "      <td>0.009113</td>\n",
       "      <td>0.017118</td>\n",
       "      <td>-0.048219</td>\n",
       "      <td>-0.009567</td>\n",
       "      <td>0.008526</td>\n",
       "      <td>0.000923</td>\n",
       "      <td>0.019878</td>\n",
       "      <td>-0.019878</td>\n",
       "    </tr>\n",
       "    <tr>\n",
       "      <th>creditcard</th>\n",
       "      <td>-0.005516</td>\n",
       "      <td>-0.010767</td>\n",
       "      <td>0.021819</td>\n",
       "      <td>0.010032</td>\n",
       "      <td>0.001923</td>\n",
       "      <td>1.000000</td>\n",
       "      <td>-0.012661</td>\n",
       "      <td>-0.010761</td>\n",
       "      <td>-0.004292</td>\n",
       "      <td>0.013792</td>\n",
       "      <td>-0.014526</td>\n",
       "      <td>0.000600</td>\n",
       "      <td>-0.008757</td>\n",
       "      <td>0.008757</td>\n",
       "    </tr>\n",
       "    <tr>\n",
       "      <th>loyalty</th>\n",
       "      <td>0.025271</td>\n",
       "      <td>0.089156</td>\n",
       "      <td>-0.027705</td>\n",
       "      <td>-0.022820</td>\n",
       "      <td>0.009113</td>\n",
       "      <td>-0.012661</td>\n",
       "      <td>1.000000</td>\n",
       "      <td>-0.012639</td>\n",
       "      <td>-0.152392</td>\n",
       "      <td>-0.020135</td>\n",
       "      <td>0.014556</td>\n",
       "      <td>0.004871</td>\n",
       "      <td>-0.022550</td>\n",
       "      <td>0.022550</td>\n",
       "    </tr>\n",
       "    <tr>\n",
       "      <th>estimated_salary</th>\n",
       "      <td>-0.000549</td>\n",
       "      <td>-0.006190</td>\n",
       "      <td>0.008031</td>\n",
       "      <td>-0.001187</td>\n",
       "      <td>0.017118</td>\n",
       "      <td>-0.010761</td>\n",
       "      <td>-0.012639</td>\n",
       "      <td>1.000000</td>\n",
       "      <td>0.014310</td>\n",
       "      <td>0.012141</td>\n",
       "      <td>-0.006218</td>\n",
       "      <td>-0.005148</td>\n",
       "      <td>0.010590</td>\n",
       "      <td>-0.010590</td>\n",
       "    </tr>\n",
       "    <tr>\n",
       "      <th>churn</th>\n",
       "      <td>-0.028658</td>\n",
       "      <td>0.282947</td>\n",
       "      <td>-0.016268</td>\n",
       "      <td>0.017061</td>\n",
       "      <td>-0.048219</td>\n",
       "      <td>-0.004292</td>\n",
       "      <td>-0.152392</td>\n",
       "      <td>0.014310</td>\n",
       "      <td>1.000000</td>\n",
       "      <td>0.174582</td>\n",
       "      <td>-0.053314</td>\n",
       "      <td>-0.105213</td>\n",
       "      <td>0.109410</td>\n",
       "      <td>-0.109410</td>\n",
       "    </tr>\n",
       "    <tr>\n",
       "      <th>city_Ростов Великий</th>\n",
       "      <td>0.003443</td>\n",
       "      <td>0.048305</td>\n",
       "      <td>0.002934</td>\n",
       "      <td>-0.002110</td>\n",
       "      <td>-0.009567</td>\n",
       "      <td>0.013792</td>\n",
       "      <td>-0.020135</td>\n",
       "      <td>0.012141</td>\n",
       "      <td>0.174582</td>\n",
       "      <td>1.000000</td>\n",
       "      <td>-0.332141</td>\n",
       "      <td>-0.579536</td>\n",
       "      <td>0.023380</td>\n",
       "      <td>-0.023380</td>\n",
       "    </tr>\n",
       "    <tr>\n",
       "      <th>city_Рыбинск</th>\n",
       "      <td>0.008009</td>\n",
       "      <td>-0.003155</td>\n",
       "      <td>0.004124</td>\n",
       "      <td>-0.000990</td>\n",
       "      <td>0.008526</td>\n",
       "      <td>-0.014526</td>\n",
       "      <td>0.014556</td>\n",
       "      <td>-0.006218</td>\n",
       "      <td>-0.053314</td>\n",
       "      <td>-0.332141</td>\n",
       "      <td>1.000000</td>\n",
       "      <td>-0.576195</td>\n",
       "      <td>-0.015592</td>\n",
       "      <td>0.015592</td>\n",
       "    </tr>\n",
       "    <tr>\n",
       "      <th>city_Ярославль</th>\n",
       "      <td>-0.009903</td>\n",
       "      <td>-0.039131</td>\n",
       "      <td>-0.006105</td>\n",
       "      <td>0.002904</td>\n",
       "      <td>0.000923</td>\n",
       "      <td>0.000600</td>\n",
       "      <td>0.004871</td>\n",
       "      <td>-0.005148</td>\n",
       "      <td>-0.105213</td>\n",
       "      <td>-0.579536</td>\n",
       "      <td>-0.576195</td>\n",
       "      <td>1.000000</td>\n",
       "      <td>-0.006788</td>\n",
       "      <td>0.006788</td>\n",
       "    </tr>\n",
       "    <tr>\n",
       "      <th>gender_Ж</th>\n",
       "      <td>-0.000312</td>\n",
       "      <td>0.029289</td>\n",
       "      <td>-0.014824</td>\n",
       "      <td>-0.026506</td>\n",
       "      <td>0.019878</td>\n",
       "      <td>-0.008757</td>\n",
       "      <td>-0.022550</td>\n",
       "      <td>0.010590</td>\n",
       "      <td>0.109410</td>\n",
       "      <td>0.023380</td>\n",
       "      <td>-0.015592</td>\n",
       "      <td>-0.006788</td>\n",
       "      <td>1.000000</td>\n",
       "      <td>-1.000000</td>\n",
       "    </tr>\n",
       "    <tr>\n",
       "      <th>gender_М</th>\n",
       "      <td>0.000312</td>\n",
       "      <td>-0.029289</td>\n",
       "      <td>0.014824</td>\n",
       "      <td>0.026506</td>\n",
       "      <td>-0.019878</td>\n",
       "      <td>0.008757</td>\n",
       "      <td>0.022550</td>\n",
       "      <td>-0.010590</td>\n",
       "      <td>-0.109410</td>\n",
       "      <td>-0.023380</td>\n",
       "      <td>0.015592</td>\n",
       "      <td>0.006788</td>\n",
       "      <td>-1.000000</td>\n",
       "      <td>1.000000</td>\n",
       "    </tr>\n",
       "  </tbody>\n",
       "</table>\n",
       "</div>"
      ],
      "text/plain": [
       "                        score       age   objects   balance  products  \\\n",
       "score                1.000000 -0.005182  0.003530 -0.001677  0.014890   \n",
       "age                 -0.005182  1.000000 -0.008860 -0.012936 -0.028284   \n",
       "objects              0.003530 -0.008860  1.000000  0.008762  0.018184   \n",
       "balance             -0.001677 -0.012936  0.008762  1.000000  0.000139   \n",
       "products             0.014890 -0.028284  0.018184  0.000139  1.000000   \n",
       "creditcard          -0.005516 -0.010767  0.021819  0.010032  0.001923   \n",
       "loyalty              0.025271  0.089156 -0.027705 -0.022820  0.009113   \n",
       "estimated_salary    -0.000549 -0.006190  0.008031 -0.001187  0.017118   \n",
       "churn               -0.028658  0.282947 -0.016268  0.017061 -0.048219   \n",
       "city_Ростов Великий  0.003443  0.048305  0.002934 -0.002110 -0.009567   \n",
       "city_Рыбинск         0.008009 -0.003155  0.004124 -0.000990  0.008526   \n",
       "city_Ярославль      -0.009903 -0.039131 -0.006105  0.002904  0.000923   \n",
       "gender_Ж            -0.000312  0.029289 -0.014824 -0.026506  0.019878   \n",
       "gender_М             0.000312 -0.029289  0.014824  0.026506 -0.019878   \n",
       "\n",
       "                     creditcard   loyalty  estimated_salary     churn  \\\n",
       "score                 -0.005516  0.025271         -0.000549 -0.028658   \n",
       "age                   -0.010767  0.089156         -0.006190  0.282947   \n",
       "objects                0.021819 -0.027705          0.008031 -0.016268   \n",
       "balance                0.010032 -0.022820         -0.001187  0.017061   \n",
       "products               0.001923  0.009113          0.017118 -0.048219   \n",
       "creditcard             1.000000 -0.012661         -0.010761 -0.004292   \n",
       "loyalty               -0.012661  1.000000         -0.012639 -0.152392   \n",
       "estimated_salary      -0.010761 -0.012639          1.000000  0.014310   \n",
       "churn                 -0.004292 -0.152392          0.014310  1.000000   \n",
       "city_Ростов Великий    0.013792 -0.020135          0.012141  0.174582   \n",
       "city_Рыбинск          -0.014526  0.014556         -0.006218 -0.053314   \n",
       "city_Ярославль         0.000600  0.004871         -0.005148 -0.105213   \n",
       "gender_Ж              -0.008757 -0.022550          0.010590  0.109410   \n",
       "gender_М               0.008757  0.022550         -0.010590 -0.109410   \n",
       "\n",
       "                     city_Ростов Великий  city_Рыбинск  city_Ярославль  \\\n",
       "score                           0.003443      0.008009       -0.009903   \n",
       "age                             0.048305     -0.003155       -0.039131   \n",
       "objects                         0.002934      0.004124       -0.006105   \n",
       "balance                        -0.002110     -0.000990        0.002904   \n",
       "products                       -0.009567      0.008526        0.000923   \n",
       "creditcard                      0.013792     -0.014526        0.000600   \n",
       "loyalty                        -0.020135      0.014556        0.004871   \n",
       "estimated_salary                0.012141     -0.006218       -0.005148   \n",
       "churn                           0.174582     -0.053314       -0.105213   \n",
       "city_Ростов Великий             1.000000     -0.332141       -0.579536   \n",
       "city_Рыбинск                   -0.332141      1.000000       -0.576195   \n",
       "city_Ярославль                 -0.579536     -0.576195        1.000000   \n",
       "gender_Ж                        0.023380     -0.015592       -0.006788   \n",
       "gender_М                       -0.023380      0.015592        0.006788   \n",
       "\n",
       "                     gender_Ж  gender_М  \n",
       "score               -0.000312  0.000312  \n",
       "age                  0.029289 -0.029289  \n",
       "objects             -0.014824  0.014824  \n",
       "balance             -0.026506  0.026506  \n",
       "products             0.019878 -0.019878  \n",
       "creditcard          -0.008757  0.008757  \n",
       "loyalty             -0.022550  0.022550  \n",
       "estimated_salary     0.010590 -0.010590  \n",
       "churn                0.109410 -0.109410  \n",
       "city_Ростов Великий  0.023380 -0.023380  \n",
       "city_Рыбинск        -0.015592  0.015592  \n",
       "city_Ярославль      -0.006788  0.006788  \n",
       "gender_Ж             1.000000 -1.000000  \n",
       "gender_М            -1.000000  1.000000  "
      ]
     },
     "execution_count": 33,
     "metadata": {},
     "output_type": "execute_result"
    }
   ],
   "source": [
    "#вычислим матрицу корреляций\n",
    "cm = df.corr()\n",
    "cm"
   ]
  },
  {
   "cell_type": "code",
   "execution_count": 34,
   "id": "356647dd",
   "metadata": {},
   "outputs": [
    {
     "data": {
      "image/png": "[encoded data removed]",
      "text/plain": [
       "<Figure size 1080x1080 with 2 Axes>"
      ]
     },
     "metadata": {
      "needs_background": "light"
     },
     "output_type": "display_data"
    }
   ],
   "source": [
    "fig, ax = plt.subplots()\n",
    "#нарисуем тепловую карту с подписями для матрицы корреляций\n",
    "sns.heatmap(cm, annot=True, square=True) \n",
    "plt.title('Матрица корреляций признаков')\n",
    "fig.set_figheight(15)  # высота\n",
    "fig.set_figwidth(15)  # ширина \n",
    "plt.show()"
   ]
  },
  {
   "cell_type": "markdown",
   "id": "fd2f3b70",
   "metadata": {},
   "source": [
    "Не выявлены зависимости между величинами датасета."
   ]
  },
  {
   "cell_type": "code",
   "execution_count": 35,
   "id": "89420f9c",
   "metadata": {
    "scrolled": true
   },
   "outputs": [
    {
     "data": {
      "text/plain": [
       "['score',\n",
       " 'city',\n",
       " 'gender',\n",
       " 'age',\n",
       " 'objects',\n",
       " 'balance',\n",
       " 'products',\n",
       " 'creditcard',\n",
       " 'loyalty',\n",
       " 'estimated_salary',\n",
       " 'churn',\n",
       " 'score_group',\n",
       " 'age_group',\n",
       " 'balance_group',\n",
       " 'salary_group']"
      ]
     },
     "execution_count": 35,
     "metadata": {},
     "output_type": "execute_result"
    }
   ],
   "source": [
    "list(bank.columns)"
   ]
  },
  {
   "cell_type": "markdown",
   "id": "2a5a6697",
   "metadata": {},
   "source": [
    "**Создадим портреты пользователей склонных к оттоку и лояльных клиентов.**\n",
    "\n",
    "**Клиенты склонные к оттоку:**\n",
    "- Клиенты, проживающие в Ростов.Великом, примерно в равных долях уходят и остаются.\n",
    "- Преимущественно женщины\n",
    "- Клиенты без недвижимости \n",
    "- Клиенты пользующиеся только 1м продуктом\n",
    "- Не активный клиент\n",
    "- Клиенты имеющие низкий скорринговый балл (менее 500)\n",
    "- Клиенты старше 40 лет (выше 50 лет - высокий риск оттока)\n",
    "- Клиенты с балансом более 100 т.р.\n",
    "\n",
    "**Лояльные клиенты:**\n",
    "- Клиенты Ярославля и Рыбинска реже уходят.\n",
    "- Преимущественно мужчины\n",
    "- Клиенты имеющие недвижимость\n",
    "- Клиенты имеющие в портфеле 2 продукта банка\n",
    "- Активный клиент (множество транзакций, участие в акциях банка, пользующийся услугами)\n",
    "- Клиенты со скорринговым баллос выше 500\n",
    "- Клиенты моложе 40 лет\n",
    "- Клиенты с пустым балансом"
   ]
  },
  {
   "cell_type": "markdown",
   "id": "9359d9d8",
   "metadata": {},
   "source": [
    "## Проверка гипотез"
   ]
  },
  {
   "cell_type": "markdown",
   "id": "a0e2851c",
   "metadata": {},
   "source": [
    "**Сформулируем гипотезы:**\n",
    "\n",
    "1. гипотеза №1: клиенты с низкой ЗП чаще уходят из банка\n",
    "2. гипотеза №2: клиенты с низким скорринговым баллом чаще уходят из банка"
   ]
  },
  {
   "cell_type": "markdown",
   "id": "cfa248f8",
   "metadata": {},
   "source": [
    "**Для проверки 1-й гипотезы разобъем клиентов на 3 группы:**\n",
    "- ЗП до 70 000 руб. - `низкая`,\n",
    "- ЗП от 70 000 до 120 000 руб. - `средняя`,\n",
    "- ЗП от 120 000 и выше - `высокая`."
   ]
  },
  {
   "cell_type": "code",
   "execution_count": 36,
   "id": "5b154cef",
   "metadata": {},
   "outputs": [
    {
     "data": {
      "text/html": [
       "<div>\n",
       "<style scoped>\n",
       "    .dataframe tbody tr th:only-of-type {\n",
       "        vertical-align: middle;\n",
       "    }\n",
       "\n",
       "    .dataframe tbody tr th {\n",
       "        vertical-align: top;\n",
       "    }\n",
       "\n",
       "    .dataframe thead th {\n",
       "        text-align: right;\n",
       "    }\n",
       "</style>\n",
       "<table border=\"1\" class=\"dataframe\">\n",
       "  <thead>\n",
       "    <tr style=\"text-align: right;\">\n",
       "      <th></th>\n",
       "      <th>score</th>\n",
       "      <th>city</th>\n",
       "      <th>gender</th>\n",
       "      <th>age</th>\n",
       "      <th>objects</th>\n",
       "      <th>balance</th>\n",
       "      <th>products</th>\n",
       "      <th>creditcard</th>\n",
       "      <th>loyalty</th>\n",
       "      <th>estimated_salary</th>\n",
       "      <th>churn</th>\n",
       "      <th>score_group</th>\n",
       "      <th>age_group</th>\n",
       "      <th>balance_group</th>\n",
       "      <th>salary_group</th>\n",
       "    </tr>\n",
       "    <tr>\n",
       "      <th>userid</th>\n",
       "      <th></th>\n",
       "      <th></th>\n",
       "      <th></th>\n",
       "      <th></th>\n",
       "      <th></th>\n",
       "      <th></th>\n",
       "      <th></th>\n",
       "      <th></th>\n",
       "      <th></th>\n",
       "      <th></th>\n",
       "      <th></th>\n",
       "      <th></th>\n",
       "      <th></th>\n",
       "      <th></th>\n",
       "      <th></th>\n",
       "    </tr>\n",
       "  </thead>\n",
       "  <tbody>\n",
       "    <tr>\n",
       "      <th>15677338</th>\n",
       "      <td>619</td>\n",
       "      <td>Ярославль</td>\n",
       "      <td>Ж</td>\n",
       "      <td>42</td>\n",
       "      <td>2</td>\n",
       "      <td>NaN</td>\n",
       "      <td>1</td>\n",
       "      <td>1</td>\n",
       "      <td>1</td>\n",
       "      <td>101348.88</td>\n",
       "      <td>1</td>\n",
       "      <td>Score 500-700</td>\n",
       "      <td>age 40-50</td>\n",
       "      <td>balance empty</td>\n",
       "      <td>средняя</td>\n",
       "    </tr>\n",
       "    <tr>\n",
       "      <th>15690047</th>\n",
       "      <td>608</td>\n",
       "      <td>Рыбинск</td>\n",
       "      <td>Ж</td>\n",
       "      <td>41</td>\n",
       "      <td>1</td>\n",
       "      <td>83807.86</td>\n",
       "      <td>1</td>\n",
       "      <td>0</td>\n",
       "      <td>1</td>\n",
       "      <td>112542.58</td>\n",
       "      <td>0</td>\n",
       "      <td>Score 500-700</td>\n",
       "      <td>age 40-50</td>\n",
       "      <td>balance 50-100 t.r.</td>\n",
       "      <td>средняя</td>\n",
       "    </tr>\n",
       "    <tr>\n",
       "      <th>15662040</th>\n",
       "      <td>502</td>\n",
       "      <td>Ярославль</td>\n",
       "      <td>Ж</td>\n",
       "      <td>42</td>\n",
       "      <td>8</td>\n",
       "      <td>159660.80</td>\n",
       "      <td>3</td>\n",
       "      <td>1</td>\n",
       "      <td>0</td>\n",
       "      <td>113931.57</td>\n",
       "      <td>1</td>\n",
       "      <td>Score 500-700</td>\n",
       "      <td>age 40-50</td>\n",
       "      <td>balance after 150 t.r.</td>\n",
       "      <td>средняя</td>\n",
       "    </tr>\n",
       "    <tr>\n",
       "      <th>15744090</th>\n",
       "      <td>699</td>\n",
       "      <td>Ярославль</td>\n",
       "      <td>Ж</td>\n",
       "      <td>39</td>\n",
       "      <td>1</td>\n",
       "      <td>NaN</td>\n",
       "      <td>2</td>\n",
       "      <td>0</td>\n",
       "      <td>0</td>\n",
       "      <td>93826.63</td>\n",
       "      <td>0</td>\n",
       "      <td>Score 500-700</td>\n",
       "      <td>age 30-40</td>\n",
       "      <td>balance empty</td>\n",
       "      <td>средняя</td>\n",
       "    </tr>\n",
       "    <tr>\n",
       "      <th>15616748</th>\n",
       "      <td>645</td>\n",
       "      <td>Рыбинск</td>\n",
       "      <td>М</td>\n",
       "      <td>44</td>\n",
       "      <td>8</td>\n",
       "      <td>113755.78</td>\n",
       "      <td>2</td>\n",
       "      <td>1</td>\n",
       "      <td>0</td>\n",
       "      <td>149756.71</td>\n",
       "      <td>1</td>\n",
       "      <td>Score 500-700</td>\n",
       "      <td>age 40-50</td>\n",
       "      <td>balance 100-150 t.r.</td>\n",
       "      <td>высокая</td>\n",
       "    </tr>\n",
       "  </tbody>\n",
       "</table>\n",
       "</div>"
      ],
      "text/plain": [
       "          score       city gender  age  objects    balance  products  \\\n",
       "userid                                                                 \n",
       "15677338    619  Ярославль      Ж   42        2        NaN         1   \n",
       "15690047    608    Рыбинск      Ж   41        1   83807.86         1   \n",
       "15662040    502  Ярославль      Ж   42        8  159660.80         3   \n",
       "15744090    699  Ярославль      Ж   39        1        NaN         2   \n",
       "15616748    645    Рыбинск      М   44        8  113755.78         2   \n",
       "\n",
       "          creditcard  loyalty  estimated_salary  churn    score_group  \\\n",
       "userid                                                                  \n",
       "15677338           1        1         101348.88      1  Score 500-700   \n",
       "15690047           0        1         112542.58      0  Score 500-700   \n",
       "15662040           1        0         113931.57      1  Score 500-700   \n",
       "15744090           0        0          93826.63      0  Score 500-700   \n",
       "15616748           1        0         149756.71      1  Score 500-700   \n",
       "\n",
       "          age_group           balance_group salary_group  \n",
       "userid                                                    \n",
       "15677338  age 40-50           balance empty      средняя  \n",
       "15690047  age 40-50     balance 50-100 t.r.      средняя  \n",
       "15662040  age 40-50  balance after 150 t.r.      средняя  \n",
       "15744090  age 30-40           balance empty      средняя  \n",
       "15616748  age 40-50    balance 100-150 t.r.      высокая  "
      ]
     },
     "metadata": {},
     "output_type": "display_data"
    }
   ],
   "source": [
    "# напишем функцию, которая определяет группы по estimated_salary\n",
    "def group(feature):\n",
    "    if feature <= 70000:\n",
    "        f = 'низкая'\n",
    "    elif feature > 70000 and feature <= 120000:\n",
    "        f = 'средняя'\n",
    "    else:\n",
    "        f = 'высокая'\n",
    "    return f\n",
    "# перезапишем столбец\n",
    "bank['salary_group'] = bank['estimated_salary'].apply(group)\n",
    "display(bank.head())"
   ]
  },
  {
   "cell_type": "code",
   "execution_count": 37,
   "id": "d414374d",
   "metadata": {},
   "outputs": [
    {
     "data": {
      "text/plain": [
       "salary_group\n",
       "высокая    0.210091\n",
       "низкая     0.200179\n",
       "средняя    0.199035\n",
       "Name: churn, dtype: float64"
      ]
     },
     "execution_count": 37,
     "metadata": {},
     "output_type": "execute_result"
    }
   ],
   "source": [
    "# посчитаем долю клиентов с оттоком во всех группах\n",
    "bank.groupby(by = 'salary_group')['churn'].mean()"
   ]
  },
  {
   "cell_type": "code",
   "execution_count": 38,
   "id": "81d18361",
   "metadata": {
    "scrolled": true
   },
   "outputs": [
    {
     "data": {
      "text/html": [
       "<div>\n",
       "<style scoped>\n",
       "    .dataframe tbody tr th:only-of-type {\n",
       "        vertical-align: middle;\n",
       "    }\n",
       "\n",
       "    .dataframe tbody tr th {\n",
       "        vertical-align: top;\n",
       "    }\n",
       "\n",
       "    .dataframe thead tr th {\n",
       "        text-align: left;\n",
       "    }\n",
       "</style>\n",
       "<table border=\"1\" class=\"dataframe\">\n",
       "  <thead>\n",
       "    <tr>\n",
       "      <th></th>\n",
       "      <th>salary_group</th>\n",
       "      <th colspan=\"2\" halign=\"left\">mean</th>\n",
       "    </tr>\n",
       "    <tr>\n",
       "      <th>churn</th>\n",
       "      <th></th>\n",
       "      <th>0</th>\n",
       "      <th>1</th>\n",
       "    </tr>\n",
       "  </thead>\n",
       "  <tbody>\n",
       "    <tr>\n",
       "      <th>0</th>\n",
       "      <td>высокая</td>\n",
       "      <td>646.099574</td>\n",
       "      <td>636.695813</td>\n",
       "    </tr>\n",
       "    <tr>\n",
       "      <th>1</th>\n",
       "      <td>низкая</td>\n",
       "      <td>645.599403</td>\n",
       "      <td>645.640835</td>\n",
       "    </tr>\n",
       "    <tr>\n",
       "      <th>2</th>\n",
       "      <td>средняя</td>\n",
       "      <td>645.646586</td>\n",
       "      <td>634.949495</td>\n",
       "    </tr>\n",
       "  </tbody>\n",
       "</table>\n",
       "</div>"
      ],
      "text/plain": [
       "      salary_group        mean            \n",
       "churn                        0           1\n",
       "0          высокая  646.099574  636.695813\n",
       "1           низкая  645.599403  645.640835\n",
       "2          средняя  645.646586  634.949495"
      ]
     },
     "execution_count": 38,
     "metadata": {},
     "output_type": "execute_result"
    }
   ],
   "source": [
    "# посчитаем среднее значение баллов по ушедшим и лояльным клиентам в зарплатных группах\n",
    "bank.pivot_table(index = 'salary_group', columns='churn', values='score',  aggfunc=['mean']).reset_index()"
   ]
  },
  {
   "cell_type": "code",
   "execution_count": 39,
   "id": "52ca79b8",
   "metadata": {},
   "outputs": [
    {
     "data": {
      "text/html": [
       "<div>\n",
       "<style scoped>\n",
       "    .dataframe tbody tr th:only-of-type {\n",
       "        vertical-align: middle;\n",
       "    }\n",
       "\n",
       "    .dataframe tbody tr th {\n",
       "        vertical-align: top;\n",
       "    }\n",
       "\n",
       "    .dataframe thead tr th {\n",
       "        text-align: left;\n",
       "    }\n",
       "</style>\n",
       "<table border=\"1\" class=\"dataframe\">\n",
       "  <thead>\n",
       "    <tr>\n",
       "      <th></th>\n",
       "      <th>salary_group</th>\n",
       "      <th colspan=\"2\" halign=\"left\">mean</th>\n",
       "    </tr>\n",
       "    <tr>\n",
       "      <th>churn</th>\n",
       "      <th></th>\n",
       "      <th>0</th>\n",
       "      <th>1</th>\n",
       "    </tr>\n",
       "  </thead>\n",
       "  <tbody>\n",
       "    <tr>\n",
       "      <th>0</th>\n",
       "      <td>высокая</td>\n",
       "      <td>37.090403</td>\n",
       "      <td>44.905172</td>\n",
       "    </tr>\n",
       "    <tr>\n",
       "      <th>1</th>\n",
       "      <td>низкая</td>\n",
       "      <td>37.548303</td>\n",
       "      <td>44.622951</td>\n",
       "    </tr>\n",
       "    <tr>\n",
       "      <th>2</th>\n",
       "      <td>средняя</td>\n",
       "      <td>37.739960</td>\n",
       "      <td>44.787879</td>\n",
       "    </tr>\n",
       "  </tbody>\n",
       "</table>\n",
       "</div>"
      ],
      "text/plain": [
       "      salary_group       mean           \n",
       "churn                       0          1\n",
       "0          высокая  37.090403  44.905172\n",
       "1           низкая  37.548303  44.622951\n",
       "2          средняя  37.739960  44.787879"
      ]
     },
     "execution_count": 39,
     "metadata": {},
     "output_type": "execute_result"
    }
   ],
   "source": [
    "# посчитаем среднее значение возраста по ушедшим и лояльным клиентам в зарплатных группах\n",
    "bank.pivot_table(index = 'salary_group', columns='churn', values='age',  aggfunc=['mean']).reset_index()"
   ]
  },
  {
   "cell_type": "code",
   "execution_count": 40,
   "id": "b9f6aee2",
   "metadata": {},
   "outputs": [
    {
     "data": {
      "text/html": [
       "<div>\n",
       "<style scoped>\n",
       "    .dataframe tbody tr th:only-of-type {\n",
       "        vertical-align: middle;\n",
       "    }\n",
       "\n",
       "    .dataframe tbody tr th {\n",
       "        vertical-align: top;\n",
       "    }\n",
       "\n",
       "    .dataframe thead tr th {\n",
       "        text-align: left;\n",
       "    }\n",
       "</style>\n",
       "<table border=\"1\" class=\"dataframe\">\n",
       "  <thead>\n",
       "    <tr>\n",
       "      <th></th>\n",
       "      <th>salary_group</th>\n",
       "      <th colspan=\"2\" halign=\"left\">mean</th>\n",
       "    </tr>\n",
       "    <tr>\n",
       "      <th>churn</th>\n",
       "      <th></th>\n",
       "      <th>0</th>\n",
       "      <th>1</th>\n",
       "    </tr>\n",
       "  </thead>\n",
       "  <tbody>\n",
       "    <tr>\n",
       "      <th>0</th>\n",
       "      <td>высокая</td>\n",
       "      <td>119756.702912</td>\n",
       "      <td>120503.928029</td>\n",
       "    </tr>\n",
       "    <tr>\n",
       "      <th>1</th>\n",
       "      <td>низкая</td>\n",
       "      <td>119290.587685</td>\n",
       "      <td>122076.439201</td>\n",
       "    </tr>\n",
       "    <tr>\n",
       "      <th>2</th>\n",
       "      <td>средняя</td>\n",
       "      <td>119711.492109</td>\n",
       "      <td>119440.937170</td>\n",
       "    </tr>\n",
       "  </tbody>\n",
       "</table>\n",
       "</div>"
      ],
      "text/plain": [
       "      salary_group           mean               \n",
       "churn                           0              1\n",
       "0          высокая  119756.702912  120503.928029\n",
       "1           низкая  119290.587685  122076.439201\n",
       "2          средняя  119711.492109  119440.937170"
      ]
     },
     "execution_count": 40,
     "metadata": {},
     "output_type": "execute_result"
    }
   ],
   "source": [
    "# посчитаем среднее значение баланса по ушедшим и лояльным клиентам в зарплатных группах\n",
    "bank.pivot_table(index = 'salary_group', columns='churn', values='balance',  aggfunc=['mean']).reset_index()"
   ]
  },
  {
   "cell_type": "markdown",
   "id": "bff1627c",
   "metadata": {},
   "source": [
    "**Выводы:**\n",
    "- доля оттока среди клиентов в категории \"низкая\" приблизительно равна долям в остальных группах (около 20%), \n",
    "- среднее значение скорринговых баллов у лояльных клиентов в категории \"низкая\" выше чем в других группах,\n",
    "- средний возраст в группах не отличается\n",
    "- средний баланс у клиентов с низкой ЗП выше чем в других группах.\n",
    "\n",
    "Построим столбчатые диаграммы по остальным признакам по каждой категории."
   ]
  },
  {
   "cell_type": "code",
   "execution_count": 41,
   "id": "a4d732c0",
   "metadata": {},
   "outputs": [],
   "source": [
    "# список признаков\n",
    "col_3 = ['city',\n",
    " 'gender',\n",
    " 'objects',\n",
    " 'products',\n",
    " 'creditcard',\n",
    " 'loyalty',\n",
    "  ]"
   ]
  },
  {
   "cell_type": "code",
   "execution_count": 42,
   "id": "2143f8ad",
   "metadata": {},
   "outputs": [
    {
     "data": {
      "image/png": "[encoded data removed]",
      "text/plain": [
       "<Figure size 1440x1080 with 6 Axes>"
      ]
     },
     "metadata": {
      "needs_background": "light"
     },
     "output_type": "display_data"
    }
   ],
   "source": [
    "# разобьем Figure на 3 строки и 2 столбца, и зададим размер\n",
    "fig, axes = plt.subplots(3, 2, figsize = (20, 15))\n",
    "axes = axes.ravel() # возвращает сжатый до одной оси массив\n",
    "\n",
    "#Построим столбчатые диаграммы\n",
    "for col, ax in zip(col_3, axes):\n",
    "    bank.pivot_table(index = col, columns='salary_group', values='age',  aggfunc='count').reset_index()\\\n",
    "    .plot(kind = 'bar', x=col, alpha=0.8, grid=True, width=0.5, ax=ax)\n",
    "    ax.set_xlabel(f'{col}')\n",
    "    ax.set_ylabel('Частота значения')\n",
    "    ax.set_title(f'Распределение для признака {col}', fontsize=14)\n",
    "\n",
    "fig.tight_layout()\n",
    "plt.show()"
   ]
  },
  {
   "cell_type": "markdown",
   "id": "cc0f76e0",
   "metadata": {},
   "source": [
    "Заметных отличий по категориальным признакам среди когорт с уровнем ЗП не выявлено."
   ]
  },
  {
   "cell_type": "markdown",
   "id": "bb0451b4",
   "metadata": {},
   "source": [
    "**Гипотеза не подтвердилась. Клиенты с низкой, средней и высокой ЗП  уходят из банка с одинаковой частотой.**"
   ]
  },
  {
   "cell_type": "markdown",
   "id": "d0dfcd78",
   "metadata": {},
   "source": [
    "**Для проверки 2-й гипотезы разобъем клиентов на 3 группы:**\n",
    "- Кредитный рейтинг до 500 б. - `низкий`,\n",
    "- Кредитный рейтинг от 500 до 700 б. - `средний`,\n",
    "- Кредитный рейтинг от 700 б. и выше - `высокий`."
   ]
  },
  {
   "cell_type": "code",
   "execution_count": 43,
   "id": "c368ac97",
   "metadata": {},
   "outputs": [
    {
     "data": {
      "text/html": [
       "<div>\n",
       "<style scoped>\n",
       "    .dataframe tbody tr th:only-of-type {\n",
       "        vertical-align: middle;\n",
       "    }\n",
       "\n",
       "    .dataframe tbody tr th {\n",
       "        vertical-align: top;\n",
       "    }\n",
       "\n",
       "    .dataframe thead th {\n",
       "        text-align: right;\n",
       "    }\n",
       "</style>\n",
       "<table border=\"1\" class=\"dataframe\">\n",
       "  <thead>\n",
       "    <tr style=\"text-align: right;\">\n",
       "      <th></th>\n",
       "      <th>score</th>\n",
       "      <th>city</th>\n",
       "      <th>gender</th>\n",
       "      <th>age</th>\n",
       "      <th>objects</th>\n",
       "      <th>balance</th>\n",
       "      <th>products</th>\n",
       "      <th>creditcard</th>\n",
       "      <th>loyalty</th>\n",
       "      <th>estimated_salary</th>\n",
       "      <th>churn</th>\n",
       "      <th>score_group</th>\n",
       "      <th>age_group</th>\n",
       "      <th>balance_group</th>\n",
       "      <th>salary_group</th>\n",
       "    </tr>\n",
       "    <tr>\n",
       "      <th>userid</th>\n",
       "      <th></th>\n",
       "      <th></th>\n",
       "      <th></th>\n",
       "      <th></th>\n",
       "      <th></th>\n",
       "      <th></th>\n",
       "      <th></th>\n",
       "      <th></th>\n",
       "      <th></th>\n",
       "      <th></th>\n",
       "      <th></th>\n",
       "      <th></th>\n",
       "      <th></th>\n",
       "      <th></th>\n",
       "      <th></th>\n",
       "    </tr>\n",
       "  </thead>\n",
       "  <tbody>\n",
       "    <tr>\n",
       "      <th>15677338</th>\n",
       "      <td>619</td>\n",
       "      <td>Ярославль</td>\n",
       "      <td>Ж</td>\n",
       "      <td>42</td>\n",
       "      <td>2</td>\n",
       "      <td>NaN</td>\n",
       "      <td>1</td>\n",
       "      <td>1</td>\n",
       "      <td>1</td>\n",
       "      <td>101348.88</td>\n",
       "      <td>1</td>\n",
       "      <td>средний</td>\n",
       "      <td>age 40-50</td>\n",
       "      <td>balance empty</td>\n",
       "      <td>средняя</td>\n",
       "    </tr>\n",
       "    <tr>\n",
       "      <th>15690047</th>\n",
       "      <td>608</td>\n",
       "      <td>Рыбинск</td>\n",
       "      <td>Ж</td>\n",
       "      <td>41</td>\n",
       "      <td>1</td>\n",
       "      <td>83807.86</td>\n",
       "      <td>1</td>\n",
       "      <td>0</td>\n",
       "      <td>1</td>\n",
       "      <td>112542.58</td>\n",
       "      <td>0</td>\n",
       "      <td>средний</td>\n",
       "      <td>age 40-50</td>\n",
       "      <td>balance 50-100 t.r.</td>\n",
       "      <td>средняя</td>\n",
       "    </tr>\n",
       "    <tr>\n",
       "      <th>15662040</th>\n",
       "      <td>502</td>\n",
       "      <td>Ярославль</td>\n",
       "      <td>Ж</td>\n",
       "      <td>42</td>\n",
       "      <td>8</td>\n",
       "      <td>159660.80</td>\n",
       "      <td>3</td>\n",
       "      <td>1</td>\n",
       "      <td>0</td>\n",
       "      <td>113931.57</td>\n",
       "      <td>1</td>\n",
       "      <td>средний</td>\n",
       "      <td>age 40-50</td>\n",
       "      <td>balance after 150 t.r.</td>\n",
       "      <td>средняя</td>\n",
       "    </tr>\n",
       "    <tr>\n",
       "      <th>15744090</th>\n",
       "      <td>699</td>\n",
       "      <td>Ярославль</td>\n",
       "      <td>Ж</td>\n",
       "      <td>39</td>\n",
       "      <td>1</td>\n",
       "      <td>NaN</td>\n",
       "      <td>2</td>\n",
       "      <td>0</td>\n",
       "      <td>0</td>\n",
       "      <td>93826.63</td>\n",
       "      <td>0</td>\n",
       "      <td>средний</td>\n",
       "      <td>age 30-40</td>\n",
       "      <td>balance empty</td>\n",
       "      <td>средняя</td>\n",
       "    </tr>\n",
       "    <tr>\n",
       "      <th>15616748</th>\n",
       "      <td>645</td>\n",
       "      <td>Рыбинск</td>\n",
       "      <td>М</td>\n",
       "      <td>44</td>\n",
       "      <td>8</td>\n",
       "      <td>113755.78</td>\n",
       "      <td>2</td>\n",
       "      <td>1</td>\n",
       "      <td>0</td>\n",
       "      <td>149756.71</td>\n",
       "      <td>1</td>\n",
       "      <td>средний</td>\n",
       "      <td>age 40-50</td>\n",
       "      <td>balance 100-150 t.r.</td>\n",
       "      <td>высокая</td>\n",
       "    </tr>\n",
       "  </tbody>\n",
       "</table>\n",
       "</div>"
      ],
      "text/plain": [
       "          score       city gender  age  objects    balance  products  \\\n",
       "userid                                                                 \n",
       "15677338    619  Ярославль      Ж   42        2        NaN         1   \n",
       "15690047    608    Рыбинск      Ж   41        1   83807.86         1   \n",
       "15662040    502  Ярославль      Ж   42        8  159660.80         3   \n",
       "15744090    699  Ярославль      Ж   39        1        NaN         2   \n",
       "15616748    645    Рыбинск      М   44        8  113755.78         2   \n",
       "\n",
       "          creditcard  loyalty  estimated_salary  churn score_group  age_group  \\\n",
       "userid                                                                          \n",
       "15677338           1        1         101348.88      1     средний  age 40-50   \n",
       "15690047           0        1         112542.58      0     средний  age 40-50   \n",
       "15662040           1        0         113931.57      1     средний  age 40-50   \n",
       "15744090           0        0          93826.63      0     средний  age 30-40   \n",
       "15616748           1        0         149756.71      1     средний  age 40-50   \n",
       "\n",
       "                   balance_group salary_group  \n",
       "userid                                         \n",
       "15677338           balance empty      средняя  \n",
       "15690047     balance 50-100 t.r.      средняя  \n",
       "15662040  balance after 150 t.r.      средняя  \n",
       "15744090           balance empty      средняя  \n",
       "15616748    balance 100-150 t.r.      высокая  "
      ]
     },
     "metadata": {},
     "output_type": "display_data"
    }
   ],
   "source": [
    "# напишем функцию, которая определяет группы по скорринговым баллам\n",
    "def group(feature):\n",
    "    if feature <= 500:\n",
    "        f = 'низкий'\n",
    "    elif feature > 500 and feature <= 700:\n",
    "        f = 'средний'\n",
    "    else:\n",
    "        f = 'высокий'\n",
    "    return f\n",
    "# применим метод apply к столбцу с количественной переменной и добавим новый столбец\n",
    "bank['score_group'] = bank['score'].apply(group)\n",
    "display(bank.head())"
   ]
  },
  {
   "cell_type": "code",
   "execution_count": 44,
   "id": "ec994aa4",
   "metadata": {},
   "outputs": [
    {
     "data": {
      "text/plain": [
       "score_group\n",
       "высокий    0.198582\n",
       "низкий     0.236392\n",
       "средний    0.202852\n",
       "Name: churn, dtype: float64"
      ]
     },
     "execution_count": 44,
     "metadata": {},
     "output_type": "execute_result"
    }
   ],
   "source": [
    "# посчитаем долю клиентов с оттоком во всех группах\n",
    "bank.groupby(by = 'score_group')['churn'].mean()"
   ]
  },
  {
   "cell_type": "code",
   "execution_count": 45,
   "id": "1514f874",
   "metadata": {},
   "outputs": [
    {
     "data": {
      "text/html": [
       "<div>\n",
       "<style scoped>\n",
       "    .dataframe tbody tr th:only-of-type {\n",
       "        vertical-align: middle;\n",
       "    }\n",
       "\n",
       "    .dataframe tbody tr th {\n",
       "        vertical-align: top;\n",
       "    }\n",
       "\n",
       "    .dataframe thead tr th {\n",
       "        text-align: left;\n",
       "    }\n",
       "</style>\n",
       "<table border=\"1\" class=\"dataframe\">\n",
       "  <thead>\n",
       "    <tr>\n",
       "      <th></th>\n",
       "      <th>score_group</th>\n",
       "      <th colspan=\"2\" halign=\"left\">mean</th>\n",
       "    </tr>\n",
       "    <tr>\n",
       "      <th>churn</th>\n",
       "      <th></th>\n",
       "      <th>0</th>\n",
       "      <th>1</th>\n",
       "    </tr>\n",
       "  </thead>\n",
       "  <tbody>\n",
       "    <tr>\n",
       "      <th>0</th>\n",
       "      <td>высокий</td>\n",
       "      <td>751.703982</td>\n",
       "      <td>752.050000</td>\n",
       "    </tr>\n",
       "    <tr>\n",
       "      <th>1</th>\n",
       "      <td>низкий</td>\n",
       "      <td>467.128310</td>\n",
       "      <td>452.032895</td>\n",
       "    </tr>\n",
       "    <tr>\n",
       "      <th>2</th>\n",
       "      <td>средний</td>\n",
       "      <td>615.338894</td>\n",
       "      <td>611.899684</td>\n",
       "    </tr>\n",
       "  </tbody>\n",
       "</table>\n",
       "</div>"
      ],
      "text/plain": [
       "      score_group        mean            \n",
       "churn                       0           1\n",
       "0         высокий  751.703982  752.050000\n",
       "1          низкий  467.128310  452.032895\n",
       "2         средний  615.338894  611.899684"
      ]
     },
     "execution_count": 45,
     "metadata": {},
     "output_type": "execute_result"
    }
   ],
   "source": [
    "# посчитаем среднее значение баллов по ушедшим и лояльным клиентам в группах\n",
    "bank.pivot_table(index = 'score_group', columns='churn', values='score',  aggfunc=['mean']).reset_index()"
   ]
  },
  {
   "cell_type": "code",
   "execution_count": 46,
   "id": "cae107f8",
   "metadata": {},
   "outputs": [
    {
     "data": {
      "text/html": [
       "<div>\n",
       "<style scoped>\n",
       "    .dataframe tbody tr th:only-of-type {\n",
       "        vertical-align: middle;\n",
       "    }\n",
       "\n",
       "    .dataframe tbody tr th {\n",
       "        vertical-align: top;\n",
       "    }\n",
       "\n",
       "    .dataframe thead tr th {\n",
       "        text-align: left;\n",
       "    }\n",
       "</style>\n",
       "<table border=\"1\" class=\"dataframe\">\n",
       "  <thead>\n",
       "    <tr>\n",
       "      <th></th>\n",
       "      <th>score_group</th>\n",
       "      <th colspan=\"2\" halign=\"left\">mean</th>\n",
       "    </tr>\n",
       "    <tr>\n",
       "      <th>churn</th>\n",
       "      <th></th>\n",
       "      <th>0</th>\n",
       "      <th>1</th>\n",
       "    </tr>\n",
       "  </thead>\n",
       "  <tbody>\n",
       "    <tr>\n",
       "      <th>0</th>\n",
       "      <td>высокий</td>\n",
       "      <td>37.334071</td>\n",
       "      <td>44.810714</td>\n",
       "    </tr>\n",
       "    <tr>\n",
       "      <th>1</th>\n",
       "      <td>низкий</td>\n",
       "      <td>36.898167</td>\n",
       "      <td>45.578947</td>\n",
       "    </tr>\n",
       "    <tr>\n",
       "      <th>2</th>\n",
       "      <td>средний</td>\n",
       "      <td>37.505528</td>\n",
       "      <td>44.670616</td>\n",
       "    </tr>\n",
       "  </tbody>\n",
       "</table>\n",
       "</div>"
      ],
      "text/plain": [
       "      score_group       mean           \n",
       "churn                      0          1\n",
       "0         высокий  37.334071  44.810714\n",
       "1          низкий  36.898167  45.578947\n",
       "2         средний  37.505528  44.670616"
      ]
     },
     "execution_count": 46,
     "metadata": {},
     "output_type": "execute_result"
    }
   ],
   "source": [
    "# посчитаем среднее значение возраста по ушедшим и лояльным клиентам в оценочных группах\n",
    "bank.pivot_table(index = 'score_group', columns='churn', values='age',  aggfunc=['mean']).reset_index()"
   ]
  },
  {
   "cell_type": "code",
   "execution_count": 47,
   "id": "43410646",
   "metadata": {},
   "outputs": [
    {
     "data": {
      "text/html": [
       "<div>\n",
       "<style scoped>\n",
       "    .dataframe tbody tr th:only-of-type {\n",
       "        vertical-align: middle;\n",
       "    }\n",
       "\n",
       "    .dataframe tbody tr th {\n",
       "        vertical-align: top;\n",
       "    }\n",
       "\n",
       "    .dataframe thead tr th {\n",
       "        text-align: left;\n",
       "    }\n",
       "</style>\n",
       "<table border=\"1\" class=\"dataframe\">\n",
       "  <thead>\n",
       "    <tr>\n",
       "      <th></th>\n",
       "      <th>score_group</th>\n",
       "      <th colspan=\"2\" halign=\"left\">mean</th>\n",
       "    </tr>\n",
       "    <tr>\n",
       "      <th>churn</th>\n",
       "      <th></th>\n",
       "      <th>0</th>\n",
       "      <th>1</th>\n",
       "    </tr>\n",
       "  </thead>\n",
       "  <tbody>\n",
       "    <tr>\n",
       "      <th>0</th>\n",
       "      <td>высокий</td>\n",
       "      <td>119420.089463</td>\n",
       "      <td>121443.356580</td>\n",
       "    </tr>\n",
       "    <tr>\n",
       "      <th>1</th>\n",
       "      <td>низкий</td>\n",
       "      <td>122210.069935</td>\n",
       "      <td>120263.300439</td>\n",
       "    </tr>\n",
       "    <tr>\n",
       "      <th>2</th>\n",
       "      <td>средний</td>\n",
       "      <td>119390.137586</td>\n",
       "      <td>120555.222256</td>\n",
       "    </tr>\n",
       "  </tbody>\n",
       "</table>\n",
       "</div>"
      ],
      "text/plain": [
       "      score_group           mean               \n",
       "churn                          0              1\n",
       "0         высокий  119420.089463  121443.356580\n",
       "1          низкий  122210.069935  120263.300439\n",
       "2         средний  119390.137586  120555.222256"
      ]
     },
     "execution_count": 47,
     "metadata": {},
     "output_type": "execute_result"
    }
   ],
   "source": [
    "# посчитаем среднее значение баланса по ушедшим и лояльным клиентам в оценочных группах\n",
    "bank.pivot_table(index = 'score_group', columns='churn', values='balance',  aggfunc=['mean']).reset_index()"
   ]
  },
  {
   "cell_type": "code",
   "execution_count": 48,
   "id": "326db5a2",
   "metadata": {},
   "outputs": [
    {
     "data": {
      "text/html": [
       "<div>\n",
       "<style scoped>\n",
       "    .dataframe tbody tr th:only-of-type {\n",
       "        vertical-align: middle;\n",
       "    }\n",
       "\n",
       "    .dataframe tbody tr th {\n",
       "        vertical-align: top;\n",
       "    }\n",
       "\n",
       "    .dataframe thead tr th {\n",
       "        text-align: left;\n",
       "    }\n",
       "</style>\n",
       "<table border=\"1\" class=\"dataframe\">\n",
       "  <thead>\n",
       "    <tr>\n",
       "      <th></th>\n",
       "      <th>score_group</th>\n",
       "      <th colspan=\"2\" halign=\"left\">mean</th>\n",
       "    </tr>\n",
       "    <tr>\n",
       "      <th>churn</th>\n",
       "      <th></th>\n",
       "      <th>0</th>\n",
       "      <th>1</th>\n",
       "    </tr>\n",
       "  </thead>\n",
       "  <tbody>\n",
       "    <tr>\n",
       "      <th>0</th>\n",
       "      <td>высокий</td>\n",
       "      <td>100728.912204</td>\n",
       "      <td>98828.538536</td>\n",
       "    </tr>\n",
       "    <tr>\n",
       "      <th>1</th>\n",
       "      <td>низкий</td>\n",
       "      <td>101917.769980</td>\n",
       "      <td>109415.522303</td>\n",
       "    </tr>\n",
       "    <tr>\n",
       "      <th>2</th>\n",
       "      <td>средний</td>\n",
       "      <td>99009.833895</td>\n",
       "      <td>102100.898341</td>\n",
       "    </tr>\n",
       "  </tbody>\n",
       "</table>\n",
       "</div>"
      ],
      "text/plain": [
       "      score_group           mean               \n",
       "churn                          0              1\n",
       "0         высокий  100728.912204   98828.538536\n",
       "1          низкий  101917.769980  109415.522303\n",
       "2         средний   99009.833895  102100.898341"
      ]
     },
     "execution_count": 48,
     "metadata": {},
     "output_type": "execute_result"
    }
   ],
   "source": [
    "# посчитаем среднее значение ЗП по ушедшим и лояльным клиентам в оценочных группах\n",
    "bank.pivot_table(index = 'score_group', columns='churn', values='estimated_salary',  aggfunc=['mean']).reset_index()"
   ]
  },
  {
   "cell_type": "markdown",
   "id": "cdc10e7e",
   "metadata": {},
   "source": [
    "**Выводы:**\n",
    "- доля оттока среди клиентов в категории \"низкий\" на 4% пп. выше чем в остальных группах. Что составляет значительную разницу от других групп.\n",
    "- средний баланс в группах среди ушедших клиентов не отличается,\n",
    "- средний возраст в группах не отличается\n",
    "- среднее значение ЗП у клиентов с низким рейтингом ушедшим в отток выше чем в других группах.\n",
    "\n",
    "Построим столбчатые диаграммы по остальным признакам по каждой категории."
   ]
  },
  {
   "cell_type": "markdown",
   "id": "0797341c",
   "metadata": {},
   "source": [
    "Построим столбчатые диаграммы по остальным признакам по каждой категории."
   ]
  },
  {
   "cell_type": "code",
   "execution_count": 49,
   "id": "cd074df9",
   "metadata": {},
   "outputs": [
    {
     "data": {
      "image/png": "[encoded data removed]",
      "text/plain": [
       "<Figure size 1440x1080 with 6 Axes>"
      ]
     },
     "metadata": {
      "needs_background": "light"
     },
     "output_type": "display_data"
    }
   ],
   "source": [
    "# разобьем Figure на 3 строки и 2 столбца, и зададим размер\n",
    "fig, axes = plt.subplots(3, 2, figsize = (20, 15))\n",
    "axes = axes.ravel() # возвращает сжатый до одной оси массив\n",
    "\n",
    "#Построим столбчатые диаграммы\n",
    "for col, ax in zip(col_3, axes):\n",
    "    bank.pivot_table(index = col, columns='score_group', values='age',  aggfunc='count').reset_index()\\\n",
    "    .plot(kind = 'bar', x=col, alpha=0.8, grid=True, width=0.5, ax=ax)\n",
    "    ax.set_xlabel(f'{col}')\n",
    "    ax.set_ylabel('Частота значения')\n",
    "    ax.set_title(f'Распределение для признака {col}', fontsize=14)\n",
    "\n",
    "fig.tight_layout()\n",
    "plt.show()"
   ]
  },
  {
   "cell_type": "markdown",
   "id": "04bc25b1",
   "metadata": {},
   "source": [
    "Заметных отличий по категориальным признакам среди когорт с уровнем рейтинга не выявлено."
   ]
  },
  {
   "cell_type": "markdown",
   "id": "ad8f6f62",
   "metadata": {},
   "source": [
    "**Гипотеза подтвердилась. Клиенты с низким скорринговым баллом чаще уходят из банка.**"
   ]
  },
  {
   "cell_type": "markdown",
   "id": "8a0b4c1c",
   "metadata": {},
   "source": [
    "Проверим гипотезу различия дохода между теми клиентами, которые ушли и теми, которые остались. **Применим критерий Манна-Уитни.** Воспользуемся методом st.mannwhitneyu()"
   ]
  },
  {
   "cell_type": "markdown",
   "id": "830f8043",
   "metadata": {},
   "source": [
    "**Сформулируем гипотезу №1:**\n",
    "- Нулевая гипотеза: различий в зарплатах между клиентами, кто ушел и теми, кто остался нет.\n",
    "- Альтернативная гипотеза: различия в зарплатах между клиентами, кто ушел и теми, кто остался есть."
   ]
  },
  {
   "cell_type": "code",
   "execution_count": 50,
   "id": "a74667a1",
   "metadata": {},
   "outputs": [],
   "source": [
    "# выделим 2 списка с доходами для теста\n",
    "churn_yes = list(bank.query('churn == 1')['estimated_salary'])\n",
    "churn_not = list(bank.query('churn == 0')['estimated_salary'])"
   ]
  },
  {
   "cell_type": "code",
   "execution_count": 51,
   "id": "8c9cdcd7",
   "metadata": {},
   "outputs": [],
   "source": [
    "alpha = 0.05  # критический уровень статистической значимости\n",
    "results = st.mannwhitneyu(churn_yes, churn_not)"
   ]
  },
  {
   "cell_type": "code",
   "execution_count": 52,
   "id": "31586a63",
   "metadata": {},
   "outputs": [
    {
     "name": "stdout",
     "output_type": "stream",
     "text": [
      "p-значение:  0.15841441605187911\n",
      "Не получилось отвергнуть нулевую гипотезу, вывод о различии сделать нельзя\n"
     ]
    }
   ],
   "source": [
    "print('p-значение: ', results.pvalue)\n",
    "if results.pvalue < alpha:\n",
    "    print('Отвергаем нулевую гипотезу: разница статистически значима')\n",
    "else:\n",
    "    print(\n",
    "        'Не получилось отвергнуть нулевую гипотезу, вывод о различии сделать нельзя'\n",
    "    )"
   ]
  },
  {
   "cell_type": "markdown",
   "id": "97f2523c",
   "metadata": {},
   "source": [
    "**Сформулируем гипотезу №2:**\n",
    "- Нулевая гипотеза: различий в скорринговом балле между клиентами, кто ушел и теми, кто остался нет. \n",
    "- Альтернативная гипотеза: различия в скорринговом балле между клиентами, кто ушел и теми, кто остался есть."
   ]
  },
  {
   "cell_type": "code",
   "execution_count": 53,
   "id": "fc82662e",
   "metadata": {},
   "outputs": [],
   "source": [
    "# выделим 2 списка с баллами для теста\n",
    "churn_yes = list(bank.query('churn == 1')['score'])\n",
    "churn_not = list(bank.query('churn == 0')['score'])"
   ]
  },
  {
   "cell_type": "code",
   "execution_count": 54,
   "id": "f861460d",
   "metadata": {},
   "outputs": [],
   "source": [
    "alpha = 0.05  # критический уровень статистической значимости\n",
    "results = st.mannwhitneyu(churn_yes, churn_not)"
   ]
  },
  {
   "cell_type": "code",
   "execution_count": 55,
   "id": "58e767e3",
   "metadata": {},
   "outputs": [
    {
     "name": "stdout",
     "output_type": "stream",
     "text": [
      "p-значение:  0.017656317678938875\n",
      "Отвергаем нулевую гипотезу: разница статистически значима\n"
     ]
    }
   ],
   "source": [
    "print('p-значение: ', results.pvalue)\n",
    "if results.pvalue < alpha:\n",
    "    print('Отвергаем нулевую гипотезу: разница статистически значима')\n",
    "else:\n",
    "    print(\n",
    "        'Не получилось отвергнуть нулевую гипотезу, вывод о различии сделать нельзя'\n",
    "    )"
   ]
  },
  {
   "cell_type": "markdown",
   "id": "97b04ca4",
   "metadata": {},
   "source": [
    "**Выводы исследования гипотез, сделанные ранее, подтверждаются статистическими методами проверки гипотез:**\n",
    "- Различий в доходах между лояльными клиентами и ушедшими нет.\n",
    "- Скорринговый балл у лояльных клиентов и ушедших отличается."
   ]
  },
  {
   "cell_type": "markdown",
   "id": "2ddb5cf5",
   "metadata": {},
   "source": [
    "## Выводы"
   ]
  },
  {
   "cell_type": "markdown",
   "id": "4acc6610",
   "metadata": {},
   "source": [
    "**Общие характеристики клиентов склонных к оттоку:**\n",
    "- Клиенты, проживающие в Ростов.Великом, примерно в равных долях уходят и остаются.\n",
    "- Преимущественно женщины\n",
    "- Клиенты без недвижимости \n",
    "- Клиенты пользующиеся только 1м продуктом\n",
    "- Не активный клиент\n",
    "- Клиенты имеющие низкий скорринговый балл (менее 500)\n",
    "- Клиенты старше 40 лет (выше 50 лет - высокий риск оттока)\n",
    "- Клиенты с балансом более 100 т.р.\n",
    "\n",
    "**Рекомендации по повышению качества работы с рисковыми клиентами и снижению оттока:**\n",
    "- предлагать клиентам продукты Банка с длительным бесплатным периодом (от года),\n",
    "- клиентам старше 40 лет делать таргетированные предложения, уделять больше внимания при личном обслужтивании в Банках, \n",
    "- увеличить количество промо-предложений клиентам по использованию других сервисов, услуг и продуктов банка (преимущественно клиентам с одним продуктом).\n",
    "- разработать \"вкусные\" продукты и фичи для клиентов женщин и клиентов предпенсионного возраста.\n",
    "- научиться прогнозировать вероятность оттока (на уровне следующего месяца) для каждого клиента и применять к клиентам в группе риска повышенное внимание через различные программы лояльности."
   ]
  }
 ],
 "metadata": {
  "ExecuteTimeLog": [
   {
    "duration": 1277,
    "start_time": "2022-08-02T15:35:31.356Z"
   },
   {
    "duration": 1737,
    "start_time": "2022-08-02T15:50:04.250Z"
   },
   {
    "duration": 43,
    "start_time": "2022-08-02T16:01:42.625Z"
   },
   {
    "duration": 59,
    "start_time": "2022-08-02T16:03:02.122Z"
   },
   {
    "duration": 13,
    "start_time": "2022-08-02T16:04:11.842Z"
   },
   {
    "duration": 39,
    "start_time": "2022-08-02T16:04:43.550Z"
   },
   {
    "duration": 8,
    "start_time": "2022-08-02T16:05:46.726Z"
   },
   {
    "duration": 17,
    "start_time": "2022-08-02T16:05:53.216Z"
   },
   {
    "duration": 2,
    "start_time": "2022-08-02T16:07:11.981Z"
   },
   {
    "duration": 6,
    "start_time": "2022-08-02T16:17:52.840Z"
   },
   {
    "duration": 5,
    "start_time": "2022-08-02T16:18:18.823Z"
   },
   {
    "duration": 8,
    "start_time": "2022-08-02T16:19:34.948Z"
   },
   {
    "duration": 4,
    "start_time": "2022-08-02T16:19:53.007Z"
   },
   {
    "duration": 7,
    "start_time": "2022-08-02T16:20:11.069Z"
   },
   {
    "duration": 4,
    "start_time": "2022-08-02T16:20:46.119Z"
   },
   {
    "duration": 13,
    "start_time": "2022-08-02T16:21:12.240Z"
   },
   {
    "duration": 4,
    "start_time": "2022-08-02T16:21:36.319Z"
   },
   {
    "duration": 4,
    "start_time": "2022-08-02T16:21:58.483Z"
   },
   {
    "duration": 3,
    "start_time": "2022-08-02T16:23:20.407Z"
   },
   {
    "duration": 4,
    "start_time": "2022-08-02T16:23:30.814Z"
   },
   {
    "duration": 12,
    "start_time": "2022-08-02T16:23:34.366Z"
   },
   {
    "duration": 8,
    "start_time": "2022-08-02T16:29:19.478Z"
   },
   {
    "duration": 3,
    "start_time": "2022-08-02T16:29:58.308Z"
   },
   {
    "duration": 4,
    "start_time": "2022-08-02T16:30:10.159Z"
   },
   {
    "duration": 9,
    "start_time": "2022-08-02T16:31:35.558Z"
   },
   {
    "duration": 8,
    "start_time": "2022-08-02T16:34:20.718Z"
   },
   {
    "duration": 5,
    "start_time": "2022-08-02T16:34:42.377Z"
   },
   {
    "duration": 4,
    "start_time": "2022-08-02T16:36:06.677Z"
   },
   {
    "duration": 6,
    "start_time": "2022-08-02T16:36:47.558Z"
   },
   {
    "duration": 22,
    "start_time": "2022-08-02T16:38:05.534Z"
   },
   {
    "duration": 11,
    "start_time": "2022-08-02T16:38:34.877Z"
   },
   {
    "duration": 33,
    "start_time": "2022-08-02T16:44:00.377Z"
   },
   {
    "duration": 19,
    "start_time": "2022-08-02T16:45:57.536Z"
   },
   {
    "duration": 8,
    "start_time": "2022-08-02T16:47:32.010Z"
   },
   {
    "duration": 13,
    "start_time": "2022-08-02T16:48:25.116Z"
   },
   {
    "duration": 11,
    "start_time": "2022-08-02T16:48:28.358Z"
   },
   {
    "duration": 59,
    "start_time": "2022-08-02T16:49:05.517Z"
   },
   {
    "duration": 18,
    "start_time": "2022-08-02T16:49:25.336Z"
   },
   {
    "duration": 38,
    "start_time": "2022-08-02T16:49:43.117Z"
   },
   {
    "duration": 10,
    "start_time": "2022-08-02T16:54:59.881Z"
   },
   {
    "duration": 3,
    "start_time": "2022-08-02T16:58:32.924Z"
   },
   {
    "duration": 4,
    "start_time": "2022-08-02T16:58:37.254Z"
   },
   {
    "duration": 9,
    "start_time": "2022-08-02T16:59:18.184Z"
   },
   {
    "duration": 4,
    "start_time": "2022-08-02T17:00:14.425Z"
   },
   {
    "duration": 16,
    "start_time": "2022-08-02T17:00:20.764Z"
   },
   {
    "duration": 7,
    "start_time": "2022-08-02T17:04:44.721Z"
   },
   {
    "duration": 8,
    "start_time": "2022-08-02T17:04:59.385Z"
   },
   {
    "duration": 13,
    "start_time": "2022-08-02T17:05:30.986Z"
   },
   {
    "duration": 1114,
    "start_time": "2022-08-02T17:08:59.672Z"
   },
   {
    "duration": 87,
    "start_time": "2022-08-02T17:09:00.788Z"
   },
   {
    "duration": 13,
    "start_time": "2022-08-02T17:09:00.877Z"
   },
   {
    "duration": 35,
    "start_time": "2022-08-02T17:09:00.892Z"
   },
   {
    "duration": 19,
    "start_time": "2022-08-02T17:09:00.929Z"
   },
   {
    "duration": 6,
    "start_time": "2022-08-02T17:09:00.950Z"
   },
   {
    "duration": 10,
    "start_time": "2022-08-02T17:09:00.958Z"
   },
   {
    "duration": 15,
    "start_time": "2022-08-02T17:09:00.969Z"
   },
   {
    "duration": 5,
    "start_time": "2022-08-02T17:09:00.985Z"
   },
   {
    "duration": 13,
    "start_time": "2022-08-02T17:09:00.992Z"
   },
   {
    "duration": 35,
    "start_time": "2022-08-02T17:09:01.006Z"
   },
   {
    "duration": 24,
    "start_time": "2022-08-02T17:09:01.043Z"
   },
   {
    "duration": 4,
    "start_time": "2022-08-02T17:09:22.650Z"
   },
   {
    "duration": 13,
    "start_time": "2022-08-02T17:09:45.571Z"
   },
   {
    "duration": 44,
    "start_time": "2022-08-03T04:25:43.334Z"
   },
   {
    "duration": 1215,
    "start_time": "2022-08-03T04:26:17.085Z"
   },
   {
    "duration": 69,
    "start_time": "2022-08-03T04:26:18.302Z"
   },
   {
    "duration": 11,
    "start_time": "2022-08-03T04:26:18.373Z"
   },
   {
    "duration": 35,
    "start_time": "2022-08-03T04:26:18.386Z"
   },
   {
    "duration": 15,
    "start_time": "2022-08-03T04:26:18.423Z"
   },
   {
    "duration": 4,
    "start_time": "2022-08-03T04:26:18.452Z"
   },
   {
    "duration": 7,
    "start_time": "2022-08-03T04:26:18.457Z"
   },
   {
    "duration": 9,
    "start_time": "2022-08-03T04:26:18.465Z"
   },
   {
    "duration": 3,
    "start_time": "2022-08-03T04:26:18.476Z"
   },
   {
    "duration": 11,
    "start_time": "2022-08-03T04:26:18.481Z"
   },
   {
    "duration": 3,
    "start_time": "2022-08-03T04:26:18.493Z"
   },
   {
    "duration": 15,
    "start_time": "2022-08-03T04:26:18.497Z"
   },
   {
    "duration": 5,
    "start_time": "2022-08-03T04:26:18.513Z"
   },
   {
    "duration": 116,
    "start_time": "2022-08-03T04:26:18.519Z"
   },
   {
    "duration": 5,
    "start_time": "2022-08-03T04:27:22.463Z"
   },
   {
    "duration": 12,
    "start_time": "2022-08-03T04:29:33.955Z"
   },
   {
    "duration": 31,
    "start_time": "2022-08-03T04:32:16.486Z"
   },
   {
    "duration": 230,
    "start_time": "2022-08-03T04:37:58.834Z"
   },
   {
    "duration": 4,
    "start_time": "2022-08-03T04:40:05.639Z"
   },
   {
    "duration": 6,
    "start_time": "2022-08-03T04:40:13.585Z"
   },
   {
    "duration": 3,
    "start_time": "2022-08-03T04:42:47.637Z"
   },
   {
    "duration": 1205,
    "start_time": "2022-08-03T04:42:53.988Z"
   },
   {
    "duration": 45,
    "start_time": "2022-08-03T04:42:55.195Z"
   },
   {
    "duration": 13,
    "start_time": "2022-08-03T04:42:55.241Z"
   },
   {
    "duration": 39,
    "start_time": "2022-08-03T04:42:55.256Z"
   },
   {
    "duration": 17,
    "start_time": "2022-08-03T04:42:55.297Z"
   },
   {
    "duration": 5,
    "start_time": "2022-08-03T04:42:55.316Z"
   },
   {
    "duration": 30,
    "start_time": "2022-08-03T04:42:55.323Z"
   },
   {
    "duration": 9,
    "start_time": "2022-08-03T04:42:55.355Z"
   },
   {
    "duration": 5,
    "start_time": "2022-08-03T04:42:55.365Z"
   },
   {
    "duration": 12,
    "start_time": "2022-08-03T04:42:55.372Z"
   },
   {
    "duration": 3,
    "start_time": "2022-08-03T04:42:55.385Z"
   },
   {
    "duration": 62,
    "start_time": "2022-08-03T04:42:55.390Z"
   },
   {
    "duration": 7,
    "start_time": "2022-08-03T04:42:55.454Z"
   },
   {
    "duration": 14,
    "start_time": "2022-08-03T04:42:55.463Z"
   },
   {
    "duration": 33,
    "start_time": "2022-08-03T04:42:55.479Z"
   },
   {
    "duration": 275,
    "start_time": "2022-08-03T04:42:55.513Z"
   },
   {
    "duration": 3,
    "start_time": "2022-08-03T04:42:55.790Z"
   },
   {
    "duration": 6,
    "start_time": "2022-08-03T04:43:25.130Z"
   },
   {
    "duration": 6,
    "start_time": "2022-08-03T04:52:34.734Z"
   },
   {
    "duration": 4,
    "start_time": "2022-08-03T04:58:08.313Z"
   },
   {
    "duration": 1963,
    "start_time": "2022-08-03T05:08:30.123Z"
   },
   {
    "duration": 1913,
    "start_time": "2022-08-03T05:08:45.861Z"
   },
   {
    "duration": 136,
    "start_time": "2022-08-03T05:11:56.041Z"
   },
   {
    "duration": 8,
    "start_time": "2022-08-03T05:12:21.729Z"
   },
   {
    "duration": 75,
    "start_time": "2022-08-03T05:15:20.134Z"
   },
   {
    "duration": 2973,
    "start_time": "2022-08-03T05:15:31.356Z"
   },
   {
    "duration": 1910,
    "start_time": "2022-08-03T05:16:05.026Z"
   },
   {
    "duration": 1201,
    "start_time": "2022-08-03T18:26:39.840Z"
   },
   {
    "duration": 117,
    "start_time": "2022-08-03T18:26:41.043Z"
   },
   {
    "duration": 12,
    "start_time": "2022-08-03T18:26:41.161Z"
   },
   {
    "duration": 34,
    "start_time": "2022-08-03T18:26:41.175Z"
   },
   {
    "duration": 16,
    "start_time": "2022-08-03T18:26:41.210Z"
   },
   {
    "duration": 5,
    "start_time": "2022-08-03T18:26:41.228Z"
   },
   {
    "duration": 5,
    "start_time": "2022-08-03T18:26:41.234Z"
   },
   {
    "duration": 9,
    "start_time": "2022-08-03T18:26:41.240Z"
   },
   {
    "duration": 4,
    "start_time": "2022-08-03T18:26:41.250Z"
   },
   {
    "duration": 11,
    "start_time": "2022-08-03T18:26:41.256Z"
   },
   {
    "duration": 5,
    "start_time": "2022-08-03T18:26:41.305Z"
   },
   {
    "duration": 15,
    "start_time": "2022-08-03T18:26:41.311Z"
   },
   {
    "duration": 5,
    "start_time": "2022-08-03T18:26:41.328Z"
   },
   {
    "duration": 16,
    "start_time": "2022-08-03T18:26:41.335Z"
   },
   {
    "duration": 55,
    "start_time": "2022-08-03T18:26:41.352Z"
   },
   {
    "duration": 4,
    "start_time": "2022-08-03T18:26:41.408Z"
   },
   {
    "duration": 5,
    "start_time": "2022-08-03T18:26:41.413Z"
   },
   {
    "duration": 1773,
    "start_time": "2022-08-03T18:26:41.420Z"
   },
   {
    "duration": 4,
    "start_time": "2022-08-03T18:28:43.933Z"
   },
   {
    "duration": 543,
    "start_time": "2022-08-03T18:42:19.942Z"
   },
   {
    "duration": 694,
    "start_time": "2022-08-03T18:46:57.067Z"
   },
   {
    "duration": 569,
    "start_time": "2022-08-03T18:54:26.031Z"
   },
   {
    "duration": 16,
    "start_time": "2022-08-03T18:55:25.298Z"
   },
   {
    "duration": 471,
    "start_time": "2022-08-03T18:56:07.850Z"
   },
   {
    "duration": 569,
    "start_time": "2022-08-03T18:56:39.157Z"
   },
   {
    "duration": 1099,
    "start_time": "2022-08-03T18:57:20.607Z"
   },
   {
    "duration": 43,
    "start_time": "2022-08-03T18:57:21.709Z"
   },
   {
    "duration": 10,
    "start_time": "2022-08-03T18:57:21.754Z"
   },
   {
    "duration": 35,
    "start_time": "2022-08-03T18:57:21.766Z"
   },
   {
    "duration": 18,
    "start_time": "2022-08-03T18:57:21.802Z"
   },
   {
    "duration": 10,
    "start_time": "2022-08-03T18:57:21.822Z"
   },
   {
    "duration": 11,
    "start_time": "2022-08-03T18:57:21.835Z"
   },
   {
    "duration": 14,
    "start_time": "2022-08-03T18:57:21.847Z"
   },
   {
    "duration": 4,
    "start_time": "2022-08-03T18:57:21.863Z"
   },
   {
    "duration": 12,
    "start_time": "2022-08-03T18:57:21.868Z"
   },
   {
    "duration": 3,
    "start_time": "2022-08-03T18:57:21.882Z"
   },
   {
    "duration": 30,
    "start_time": "2022-08-03T18:57:21.886Z"
   },
   {
    "duration": 6,
    "start_time": "2022-08-03T18:57:21.918Z"
   },
   {
    "duration": 20,
    "start_time": "2022-08-03T18:57:21.927Z"
   },
   {
    "duration": 29,
    "start_time": "2022-08-03T18:57:21.948Z"
   },
   {
    "duration": 3,
    "start_time": "2022-08-03T18:57:21.979Z"
   },
   {
    "duration": 24,
    "start_time": "2022-08-03T18:57:21.983Z"
   },
   {
    "duration": 1845,
    "start_time": "2022-08-03T18:57:22.008Z"
   },
   {
    "duration": 25,
    "start_time": "2022-08-03T18:57:23.855Z"
   },
   {
    "duration": 791,
    "start_time": "2022-08-03T18:57:23.882Z"
   },
   {
    "duration": 16,
    "start_time": "2022-08-03T18:58:03.445Z"
   },
   {
    "duration": 16,
    "start_time": "2022-08-03T18:58:40.433Z"
   },
   {
    "duration": 1212,
    "start_time": "2022-08-03T18:58:54.952Z"
   },
   {
    "duration": 1238,
    "start_time": "2022-08-03T18:59:47.739Z"
   },
   {
    "duration": 18,
    "start_time": "2022-08-03T19:04:10.055Z"
   },
   {
    "duration": 682,
    "start_time": "2022-08-03T19:05:08.934Z"
   },
   {
    "duration": 1719,
    "start_time": "2022-08-03T19:08:57.151Z"
   },
   {
    "duration": 1811,
    "start_time": "2022-08-03T19:09:55.642Z"
   },
   {
    "duration": 1418,
    "start_time": "2022-08-03T19:10:19.574Z"
   },
   {
    "duration": 1521,
    "start_time": "2022-08-03T19:10:53.688Z"
   },
   {
    "duration": 1665,
    "start_time": "2022-08-03T19:11:07.242Z"
   },
   {
    "duration": 1589,
    "start_time": "2022-08-03T19:12:19.379Z"
   },
   {
    "duration": 1821,
    "start_time": "2022-08-03T19:15:39.053Z"
   },
   {
    "duration": 365,
    "start_time": "2022-08-03T19:16:15.662Z"
   },
   {
    "duration": 1535,
    "start_time": "2022-08-03T19:16:37.978Z"
   },
   {
    "duration": 1807,
    "start_time": "2022-08-03T19:17:05.203Z"
   },
   {
    "duration": 1764,
    "start_time": "2022-08-03T19:17:36.135Z"
   },
   {
    "duration": 70,
    "start_time": "2022-08-03T19:32:29.565Z"
   },
   {
    "duration": 14,
    "start_time": "2022-08-03T19:33:28.669Z"
   },
   {
    "duration": 22,
    "start_time": "2022-08-03T19:34:44.363Z"
   },
   {
    "duration": 17,
    "start_time": "2022-08-03T19:35:17.373Z"
   },
   {
    "duration": 17,
    "start_time": "2022-08-03T19:35:31.684Z"
   },
   {
    "duration": 1031,
    "start_time": "2022-08-03T19:38:12.155Z"
   },
   {
    "duration": 105,
    "start_time": "2022-08-03T19:38:13.188Z"
   },
   {
    "duration": 12,
    "start_time": "2022-08-03T19:38:13.294Z"
   },
   {
    "duration": 34,
    "start_time": "2022-08-03T19:38:13.307Z"
   },
   {
    "duration": 15,
    "start_time": "2022-08-03T19:38:13.343Z"
   },
   {
    "duration": 6,
    "start_time": "2022-08-03T19:38:13.359Z"
   },
   {
    "duration": 6,
    "start_time": "2022-08-03T19:38:13.366Z"
   },
   {
    "duration": 9,
    "start_time": "2022-08-03T19:38:13.373Z"
   },
   {
    "duration": 23,
    "start_time": "2022-08-03T19:38:13.383Z"
   },
   {
    "duration": 9,
    "start_time": "2022-08-03T19:38:13.408Z"
   },
   {
    "duration": 3,
    "start_time": "2022-08-03T19:38:13.418Z"
   },
   {
    "duration": 15,
    "start_time": "2022-08-03T19:38:13.422Z"
   },
   {
    "duration": 4,
    "start_time": "2022-08-03T19:38:13.438Z"
   },
   {
    "duration": 11,
    "start_time": "2022-08-03T19:38:13.444Z"
   },
   {
    "duration": 60,
    "start_time": "2022-08-03T19:38:13.456Z"
   },
   {
    "duration": 4,
    "start_time": "2022-08-03T19:38:13.517Z"
   },
   {
    "duration": 5,
    "start_time": "2022-08-03T19:38:13.522Z"
   },
   {
    "duration": 1586,
    "start_time": "2022-08-03T19:38:13.528Z"
   },
   {
    "duration": 17,
    "start_time": "2022-08-03T19:38:15.116Z"
   },
   {
    "duration": 3,
    "start_time": "2022-08-03T19:38:15.135Z"
   },
   {
    "duration": 1313,
    "start_time": "2022-08-03T19:38:15.139Z"
   },
   {
    "duration": 18,
    "start_time": "2022-08-03T19:38:16.454Z"
   },
   {
    "duration": 738,
    "start_time": "2022-08-03T19:38:16.474Z"
   },
   {
    "duration": 17,
    "start_time": "2022-08-03T19:40:41.793Z"
   },
   {
    "duration": 25,
    "start_time": "2022-08-03T19:42:18.571Z"
   },
   {
    "duration": 28,
    "start_time": "2022-08-03T19:42:45.281Z"
   },
   {
    "duration": 20,
    "start_time": "2022-08-03T19:44:47.697Z"
   },
   {
    "duration": 18,
    "start_time": "2022-08-03T19:47:49.658Z"
   },
   {
    "duration": 112,
    "start_time": "2022-08-03T19:49:18.550Z"
   },
   {
    "duration": 25,
    "start_time": "2022-08-03T19:49:59.463Z"
   },
   {
    "duration": 37,
    "start_time": "2022-08-03T19:50:26.401Z"
   },
   {
    "duration": 36,
    "start_time": "2022-08-03T19:50:56.370Z"
   },
   {
    "duration": 29,
    "start_time": "2022-08-03T19:51:15.454Z"
   },
   {
    "duration": 29,
    "start_time": "2022-08-03T19:52:17.388Z"
   },
   {
    "duration": 39,
    "start_time": "2022-08-03T19:57:52.401Z"
   },
   {
    "duration": 44,
    "start_time": "2022-08-03T19:58:25.008Z"
   },
   {
    "duration": 51,
    "start_time": "2022-08-03T20:01:05.243Z"
   },
   {
    "duration": 10,
    "start_time": "2022-08-03T20:02:28.838Z"
   },
   {
    "duration": 4,
    "start_time": "2022-08-03T20:02:33.275Z"
   },
   {
    "duration": 1368,
    "start_time": "2022-08-03T20:03:18.047Z"
   },
   {
    "duration": 1281,
    "start_time": "2022-08-03T20:03:33.343Z"
   },
   {
    "duration": 1360,
    "start_time": "2022-08-03T20:04:08.675Z"
   },
   {
    "duration": 1178,
    "start_time": "2022-08-03T20:04:27.782Z"
   },
   {
    "duration": 58,
    "start_time": "2022-08-03T20:04:28.962Z"
   },
   {
    "duration": 13,
    "start_time": "2022-08-03T20:04:29.022Z"
   },
   {
    "duration": 39,
    "start_time": "2022-08-03T20:04:29.038Z"
   },
   {
    "duration": 35,
    "start_time": "2022-08-03T20:04:29.079Z"
   },
   {
    "duration": 8,
    "start_time": "2022-08-03T20:04:29.116Z"
   },
   {
    "duration": 8,
    "start_time": "2022-08-03T20:04:29.125Z"
   },
   {
    "duration": 14,
    "start_time": "2022-08-03T20:04:29.134Z"
   },
   {
    "duration": 5,
    "start_time": "2022-08-03T20:04:29.149Z"
   },
   {
    "duration": 18,
    "start_time": "2022-08-03T20:04:29.157Z"
   },
   {
    "duration": 31,
    "start_time": "2022-08-03T20:04:29.177Z"
   },
   {
    "duration": 23,
    "start_time": "2022-08-03T20:04:29.210Z"
   },
   {
    "duration": 7,
    "start_time": "2022-08-03T20:04:29.235Z"
   },
   {
    "duration": 18,
    "start_time": "2022-08-03T20:04:29.244Z"
   },
   {
    "duration": 58,
    "start_time": "2022-08-03T20:04:29.265Z"
   },
   {
    "duration": 5,
    "start_time": "2022-08-03T20:04:29.324Z"
   },
   {
    "duration": 4,
    "start_time": "2022-08-03T20:04:29.331Z"
   },
   {
    "duration": 1782,
    "start_time": "2022-08-03T20:04:29.336Z"
   },
   {
    "duration": 37,
    "start_time": "2022-08-03T20:04:31.120Z"
   },
   {
    "duration": 47,
    "start_time": "2022-08-03T20:04:31.158Z"
   },
   {
    "duration": 28,
    "start_time": "2022-08-03T20:04:31.207Z"
   },
   {
    "duration": 33,
    "start_time": "2022-08-03T20:04:31.237Z"
   },
   {
    "duration": 4,
    "start_time": "2022-08-03T20:04:31.272Z"
   },
   {
    "duration": 29,
    "start_time": "2022-08-03T20:04:31.278Z"
   },
   {
    "duration": 1839,
    "start_time": "2022-08-03T20:04:31.309Z"
   },
   {
    "duration": 15,
    "start_time": "2022-08-03T20:04:33.151Z"
   },
   {
    "duration": 845,
    "start_time": "2022-08-03T20:04:33.168Z"
   },
   {
    "duration": 1907,
    "start_time": "2022-08-03T20:04:52.343Z"
   },
   {
    "duration": 1673,
    "start_time": "2022-08-03T20:06:16.459Z"
   },
   {
    "duration": 1628,
    "start_time": "2022-08-03T20:06:36.398Z"
   },
   {
    "duration": 2200,
    "start_time": "2022-08-03T20:08:30.646Z"
   },
   {
    "duration": 2275,
    "start_time": "2022-08-03T20:08:45.162Z"
   },
   {
    "duration": 2234,
    "start_time": "2022-08-03T20:09:09.450Z"
   },
   {
    "duration": 2266,
    "start_time": "2022-08-03T20:09:26.827Z"
   },
   {
    "duration": 748,
    "start_time": "2022-08-03T20:09:49.931Z"
   },
   {
    "duration": 19,
    "start_time": "2022-08-03T20:10:03.435Z"
   },
   {
    "duration": 1101,
    "start_time": "2022-08-03T20:10:25.733Z"
   },
   {
    "duration": 71,
    "start_time": "2022-08-03T20:10:26.836Z"
   },
   {
    "duration": 12,
    "start_time": "2022-08-03T20:10:26.909Z"
   },
   {
    "duration": 36,
    "start_time": "2022-08-03T20:10:26.923Z"
   },
   {
    "duration": 17,
    "start_time": "2022-08-03T20:10:26.962Z"
   },
   {
    "duration": 6,
    "start_time": "2022-08-03T20:10:27.005Z"
   },
   {
    "duration": 8,
    "start_time": "2022-08-03T20:10:27.012Z"
   },
   {
    "duration": 10,
    "start_time": "2022-08-03T20:10:27.022Z"
   },
   {
    "duration": 5,
    "start_time": "2022-08-03T20:10:27.033Z"
   },
   {
    "duration": 12,
    "start_time": "2022-08-03T20:10:27.045Z"
   },
   {
    "duration": 6,
    "start_time": "2022-08-03T20:10:27.059Z"
   },
   {
    "duration": 56,
    "start_time": "2022-08-03T20:10:27.066Z"
   },
   {
    "duration": 8,
    "start_time": "2022-08-03T20:10:27.124Z"
   },
   {
    "duration": 15,
    "start_time": "2022-08-03T20:10:27.135Z"
   },
   {
    "duration": 31,
    "start_time": "2022-08-03T20:10:27.151Z"
   },
   {
    "duration": 5,
    "start_time": "2022-08-03T20:10:27.206Z"
   },
   {
    "duration": 4,
    "start_time": "2022-08-03T20:10:27.213Z"
   },
   {
    "duration": 1919,
    "start_time": "2022-08-03T20:10:27.218Z"
   },
   {
    "duration": 36,
    "start_time": "2022-08-03T20:10:29.138Z"
   },
   {
    "duration": 62,
    "start_time": "2022-08-03T20:10:29.176Z"
   },
   {
    "duration": 31,
    "start_time": "2022-08-03T20:10:29.240Z"
   },
   {
    "duration": 48,
    "start_time": "2022-08-03T20:10:29.273Z"
   },
   {
    "duration": 4,
    "start_time": "2022-08-03T20:10:29.323Z"
   },
   {
    "duration": 6,
    "start_time": "2022-08-03T20:10:29.328Z"
   },
   {
    "duration": 2201,
    "start_time": "2022-08-03T20:10:29.335Z"
   },
   {
    "duration": 14,
    "start_time": "2022-08-03T20:10:31.538Z"
   },
   {
    "duration": 861,
    "start_time": "2022-08-03T20:10:31.553Z"
   },
   {
    "duration": 6,
    "start_time": "2022-08-03T20:10:56.151Z"
   },
   {
    "duration": 1041,
    "start_time": "2022-08-03T20:11:02.936Z"
   },
   {
    "duration": 55,
    "start_time": "2022-08-03T20:11:03.978Z"
   },
   {
    "duration": 26,
    "start_time": "2022-08-03T20:11:04.034Z"
   },
   {
    "duration": 39,
    "start_time": "2022-08-03T20:11:04.062Z"
   },
   {
    "duration": 14,
    "start_time": "2022-08-03T20:11:04.103Z"
   },
   {
    "duration": 4,
    "start_time": "2022-08-03T20:11:04.119Z"
   },
   {
    "duration": 6,
    "start_time": "2022-08-03T20:11:04.124Z"
   },
   {
    "duration": 12,
    "start_time": "2022-08-03T20:11:04.131Z"
   },
   {
    "duration": 3,
    "start_time": "2022-08-03T20:11:04.145Z"
   },
   {
    "duration": 11,
    "start_time": "2022-08-03T20:11:04.149Z"
   },
   {
    "duration": 3,
    "start_time": "2022-08-03T20:11:04.162Z"
   },
   {
    "duration": 41,
    "start_time": "2022-08-03T20:11:04.166Z"
   },
   {
    "duration": 6,
    "start_time": "2022-08-03T20:11:04.209Z"
   },
   {
    "duration": 12,
    "start_time": "2022-08-03T20:11:04.217Z"
   },
   {
    "duration": 30,
    "start_time": "2022-08-03T20:11:04.230Z"
   },
   {
    "duration": 3,
    "start_time": "2022-08-03T20:11:04.262Z"
   },
   {
    "duration": 4,
    "start_time": "2022-08-03T20:11:04.267Z"
   },
   {
    "duration": 1762,
    "start_time": "2022-08-03T20:11:04.272Z"
   },
   {
    "duration": 37,
    "start_time": "2022-08-03T20:11:06.036Z"
   },
   {
    "duration": 50,
    "start_time": "2022-08-03T20:11:06.075Z"
   },
   {
    "duration": 50,
    "start_time": "2022-08-03T20:11:06.128Z"
   },
   {
    "duration": 66,
    "start_time": "2022-08-03T20:11:06.181Z"
   },
   {
    "duration": 5,
    "start_time": "2022-08-03T20:11:06.249Z"
   },
   {
    "duration": 12,
    "start_time": "2022-08-03T20:11:06.256Z"
   },
   {
    "duration": 2322,
    "start_time": "2022-08-03T20:11:06.270Z"
   },
   {
    "duration": 16,
    "start_time": "2022-08-03T20:11:08.594Z"
   },
   {
    "duration": 733,
    "start_time": "2022-08-03T20:11:08.612Z"
   },
   {
    "duration": 5,
    "start_time": "2022-08-03T20:11:09.346Z"
   },
   {
    "duration": 1302,
    "start_time": "2022-08-04T03:54:42.918Z"
   },
   {
    "duration": 122,
    "start_time": "2022-08-04T03:54:44.223Z"
   },
   {
    "duration": 14,
    "start_time": "2022-08-04T03:54:44.346Z"
   },
   {
    "duration": 41,
    "start_time": "2022-08-04T03:54:44.362Z"
   },
   {
    "duration": 21,
    "start_time": "2022-08-04T03:54:44.405Z"
   },
   {
    "duration": 5,
    "start_time": "2022-08-04T03:54:44.427Z"
   },
   {
    "duration": 9,
    "start_time": "2022-08-04T03:54:44.434Z"
   },
   {
    "duration": 10,
    "start_time": "2022-08-04T03:54:44.445Z"
   },
   {
    "duration": 5,
    "start_time": "2022-08-04T03:54:44.457Z"
   },
   {
    "duration": 45,
    "start_time": "2022-08-04T03:54:44.463Z"
   },
   {
    "duration": 3,
    "start_time": "2022-08-04T03:54:44.510Z"
   },
   {
    "duration": 17,
    "start_time": "2022-08-04T03:54:44.515Z"
   },
   {
    "duration": 6,
    "start_time": "2022-08-04T03:54:44.533Z"
   },
   {
    "duration": 14,
    "start_time": "2022-08-04T03:54:44.542Z"
   },
   {
    "duration": 66,
    "start_time": "2022-08-04T03:54:44.558Z"
   },
   {
    "duration": 4,
    "start_time": "2022-08-04T03:54:44.626Z"
   },
   {
    "duration": 5,
    "start_time": "2022-08-04T03:54:44.632Z"
   },
   {
    "duration": 1892,
    "start_time": "2022-08-04T03:54:46.069Z"
   },
   {
    "duration": 45,
    "start_time": "2022-08-04T03:54:47.963Z"
   },
   {
    "duration": 32,
    "start_time": "2022-08-04T03:54:48.010Z"
   },
   {
    "duration": 60,
    "start_time": "2022-08-04T03:54:48.044Z"
   },
   {
    "duration": 34,
    "start_time": "2022-08-04T03:54:48.106Z"
   },
   {
    "duration": 4,
    "start_time": "2022-08-04T03:54:48.142Z"
   },
   {
    "duration": 4,
    "start_time": "2022-08-04T03:54:48.148Z"
   },
   {
    "duration": 2496,
    "start_time": "2022-08-04T03:54:48.153Z"
   },
   {
    "duration": 16,
    "start_time": "2022-08-04T03:54:50.651Z"
   },
   {
    "duration": 875,
    "start_time": "2022-08-04T03:54:50.669Z"
   },
   {
    "duration": 5,
    "start_time": "2022-08-04T03:54:51.545Z"
   },
   {
    "duration": 1196,
    "start_time": "2022-08-04T04:13:17.769Z"
   },
   {
    "duration": 53,
    "start_time": "2022-08-04T04:13:18.967Z"
   },
   {
    "duration": 16,
    "start_time": "2022-08-04T04:13:19.022Z"
   },
   {
    "duration": 63,
    "start_time": "2022-08-04T04:13:19.041Z"
   },
   {
    "duration": 24,
    "start_time": "2022-08-04T04:13:19.107Z"
   },
   {
    "duration": 5,
    "start_time": "2022-08-04T04:13:19.133Z"
   },
   {
    "duration": 6,
    "start_time": "2022-08-04T04:13:19.140Z"
   },
   {
    "duration": 13,
    "start_time": "2022-08-04T04:13:19.148Z"
   },
   {
    "duration": 5,
    "start_time": "2022-08-04T04:13:19.162Z"
   },
   {
    "duration": 12,
    "start_time": "2022-08-04T04:13:19.204Z"
   },
   {
    "duration": 4,
    "start_time": "2022-08-04T04:13:19.218Z"
   },
   {
    "duration": 18,
    "start_time": "2022-08-04T04:13:19.224Z"
   },
   {
    "duration": 7,
    "start_time": "2022-08-04T04:13:19.243Z"
   },
   {
    "duration": 14,
    "start_time": "2022-08-04T04:13:19.252Z"
   },
   {
    "duration": 66,
    "start_time": "2022-08-04T04:13:19.268Z"
   },
   {
    "duration": 4,
    "start_time": "2022-08-04T04:13:19.335Z"
   },
   {
    "duration": 11,
    "start_time": "2022-08-04T04:13:19.341Z"
   },
   {
    "duration": 1941,
    "start_time": "2022-08-04T04:13:20.912Z"
   },
   {
    "duration": 30,
    "start_time": "2022-08-04T04:13:22.855Z"
   },
   {
    "duration": 40,
    "start_time": "2022-08-04T04:13:22.887Z"
   },
   {
    "duration": 33,
    "start_time": "2022-08-04T04:13:22.928Z"
   },
   {
    "duration": 61,
    "start_time": "2022-08-04T04:13:22.964Z"
   },
   {
    "duration": 4,
    "start_time": "2022-08-04T04:13:23.026Z"
   },
   {
    "duration": 5,
    "start_time": "2022-08-04T04:13:23.032Z"
   },
   {
    "duration": 2442,
    "start_time": "2022-08-04T04:13:23.039Z"
   },
   {
    "duration": 18,
    "start_time": "2022-08-04T04:13:25.483Z"
   },
   {
    "duration": 838,
    "start_time": "2022-08-04T04:13:25.503Z"
   },
   {
    "duration": 5,
    "start_time": "2022-08-04T04:13:26.343Z"
   },
   {
    "duration": 296,
    "start_time": "2022-08-04T04:23:11.882Z"
   },
   {
    "duration": 118,
    "start_time": "2022-08-04T04:24:17.772Z"
   },
   {
    "duration": 54,
    "start_time": "2022-08-04T04:25:33.021Z"
   },
   {
    "duration": 49,
    "start_time": "2022-08-04T04:25:44.416Z"
   },
   {
    "duration": 57,
    "start_time": "2022-08-04T04:25:53.469Z"
   },
   {
    "duration": 425,
    "start_time": "2022-08-04T04:26:15.795Z"
   },
   {
    "duration": 411,
    "start_time": "2022-08-04T04:26:42.147Z"
   },
   {
    "duration": 286,
    "start_time": "2022-08-04T04:27:06.889Z"
   },
   {
    "duration": 471,
    "start_time": "2022-08-04T04:27:51.297Z"
   },
   {
    "duration": 10,
    "start_time": "2022-08-04T04:29:57.796Z"
   },
   {
    "duration": 11,
    "start_time": "2022-08-04T04:30:16.176Z"
   },
   {
    "duration": 9,
    "start_time": "2022-08-04T04:30:33.366Z"
   },
   {
    "duration": 8,
    "start_time": "2022-08-04T04:30:52.219Z"
   },
   {
    "duration": 78,
    "start_time": "2022-08-04T04:31:32.891Z"
   },
   {
    "duration": 10,
    "start_time": "2022-08-04T04:31:46.401Z"
   },
   {
    "duration": 7,
    "start_time": "2022-08-04T04:32:34.562Z"
   },
   {
    "duration": 7,
    "start_time": "2022-08-04T04:37:52.262Z"
   },
   {
    "duration": 1933,
    "start_time": "2022-08-04T04:38:12.726Z"
   },
   {
    "duration": 1105,
    "start_time": "2022-08-04T04:39:34.846Z"
   },
   {
    "duration": 49,
    "start_time": "2022-08-04T04:39:35.953Z"
   },
   {
    "duration": 13,
    "start_time": "2022-08-04T04:39:36.004Z"
   },
   {
    "duration": 38,
    "start_time": "2022-08-04T04:39:36.019Z"
   },
   {
    "duration": 19,
    "start_time": "2022-08-04T04:39:36.059Z"
   },
   {
    "duration": 5,
    "start_time": "2022-08-04T04:39:36.102Z"
   },
   {
    "duration": 7,
    "start_time": "2022-08-04T04:39:36.109Z"
   },
   {
    "duration": 34,
    "start_time": "2022-08-04T04:39:36.117Z"
   },
   {
    "duration": 23,
    "start_time": "2022-08-04T04:39:36.153Z"
   },
   {
    "duration": 34,
    "start_time": "2022-08-04T04:39:36.178Z"
   },
   {
    "duration": 11,
    "start_time": "2022-08-04T04:39:36.214Z"
   },
   {
    "duration": 41,
    "start_time": "2022-08-04T04:39:36.227Z"
   },
   {
    "duration": 10,
    "start_time": "2022-08-04T04:39:36.270Z"
   },
   {
    "duration": 37,
    "start_time": "2022-08-04T04:39:36.283Z"
   },
   {
    "duration": 42,
    "start_time": "2022-08-04T04:39:36.322Z"
   },
   {
    "duration": 4,
    "start_time": "2022-08-04T04:39:36.366Z"
   },
   {
    "duration": 4,
    "start_time": "2022-08-04T04:39:36.371Z"
   },
   {
    "duration": 1890,
    "start_time": "2022-08-04T04:39:36.377Z"
   },
   {
    "duration": 296,
    "start_time": "2022-08-04T04:39:38.269Z"
   },
   {
    "duration": 6,
    "start_time": "2022-08-04T04:39:38.566Z"
   },
   {
    "duration": 5,
    "start_time": "2022-08-04T04:39:38.574Z"
   },
   {
    "duration": 2096,
    "start_time": "2022-08-04T04:39:38.580Z"
   },
   {
    "duration": 39,
    "start_time": "2022-08-04T04:39:40.678Z"
   },
   {
    "duration": 31,
    "start_time": "2022-08-04T04:39:40.718Z"
   },
   {
    "duration": 54,
    "start_time": "2022-08-04T04:39:40.751Z"
   },
   {
    "duration": 42,
    "start_time": "2022-08-04T04:39:40.806Z"
   },
   {
    "duration": 5,
    "start_time": "2022-08-04T04:39:40.849Z"
   },
   {
    "duration": 21,
    "start_time": "2022-08-04T04:39:40.855Z"
   },
   {
    "duration": 2406,
    "start_time": "2022-08-04T04:39:40.879Z"
   },
   {
    "duration": 15,
    "start_time": "2022-08-04T04:39:43.288Z"
   },
   {
    "duration": 845,
    "start_time": "2022-08-04T04:39:43.305Z"
   },
   {
    "duration": 4,
    "start_time": "2022-08-04T04:39:44.152Z"
   },
   {
    "duration": 867,
    "start_time": "2022-08-04T04:40:40.873Z"
   },
   {
    "duration": 5,
    "start_time": "2022-08-04T04:41:46.840Z"
   },
   {
    "duration": 1386,
    "start_time": "2022-08-04T14:19:52.386Z"
   },
   {
    "duration": 101,
    "start_time": "2022-08-04T14:19:53.774Z"
   },
   {
    "duration": 16,
    "start_time": "2022-08-04T14:19:53.877Z"
   },
   {
    "duration": 35,
    "start_time": "2022-08-04T14:19:53.896Z"
   },
   {
    "duration": 17,
    "start_time": "2022-08-04T14:19:53.933Z"
   },
   {
    "duration": 4,
    "start_time": "2022-08-04T14:19:53.952Z"
   },
   {
    "duration": 6,
    "start_time": "2022-08-04T14:19:53.957Z"
   },
   {
    "duration": 13,
    "start_time": "2022-08-04T14:19:53.964Z"
   },
   {
    "duration": 34,
    "start_time": "2022-08-04T14:19:53.978Z"
   },
   {
    "duration": 13,
    "start_time": "2022-08-04T14:19:54.014Z"
   },
   {
    "duration": 3,
    "start_time": "2022-08-04T14:19:54.029Z"
   },
   {
    "duration": 17,
    "start_time": "2022-08-04T14:19:54.034Z"
   },
   {
    "duration": 6,
    "start_time": "2022-08-04T14:19:54.052Z"
   },
   {
    "duration": 12,
    "start_time": "2022-08-04T14:19:54.186Z"
   },
   {
    "duration": 30,
    "start_time": "2022-08-04T14:19:54.346Z"
   },
   {
    "duration": 3,
    "start_time": "2022-08-04T14:19:54.486Z"
   },
   {
    "duration": 2,
    "start_time": "2022-08-04T14:19:54.627Z"
   },
   {
    "duration": 1718,
    "start_time": "2022-08-04T14:19:55.146Z"
   },
   {
    "duration": 279,
    "start_time": "2022-08-04T14:19:56.866Z"
   },
   {
    "duration": 6,
    "start_time": "2022-08-04T14:19:57.147Z"
   },
   {
    "duration": 8,
    "start_time": "2022-08-04T14:19:57.155Z"
   },
   {
    "duration": 1730,
    "start_time": "2022-08-04T14:19:57.164Z"
   },
   {
    "duration": 34,
    "start_time": "2022-08-04T14:19:58.896Z"
   },
   {
    "duration": 31,
    "start_time": "2022-08-04T14:19:58.932Z"
   },
   {
    "duration": 57,
    "start_time": "2022-08-04T14:19:58.965Z"
   },
   {
    "duration": 32,
    "start_time": "2022-08-04T14:19:59.024Z"
   },
   {
    "duration": 4,
    "start_time": "2022-08-04T14:19:59.059Z"
   },
   {
    "duration": 7,
    "start_time": "2022-08-04T14:19:59.065Z"
   },
   {
    "duration": 2245,
    "start_time": "2022-08-04T14:19:59.074Z"
   },
   {
    "duration": 16,
    "start_time": "2022-08-04T14:20:01.321Z"
   },
   {
    "duration": 696,
    "start_time": "2022-08-04T14:20:01.339Z"
   },
   {
    "duration": 5,
    "start_time": "2022-08-04T14:20:02.037Z"
   },
   {
    "duration": 3,
    "start_time": "2022-08-04T14:20:44.900Z"
   },
   {
    "duration": 43,
    "start_time": "2022-08-04T14:35:43.279Z"
   },
   {
    "duration": 16,
    "start_time": "2022-08-04T14:40:29.365Z"
   },
   {
    "duration": 16,
    "start_time": "2022-08-04T14:40:38.482Z"
   },
   {
    "duration": 11,
    "start_time": "2022-08-04T14:42:04.620Z"
   },
   {
    "duration": 15,
    "start_time": "2022-08-04T14:42:20.465Z"
   },
   {
    "duration": 35,
    "start_time": "2022-08-04T14:45:14.446Z"
   },
   {
    "duration": 26,
    "start_time": "2022-08-04T14:46:29.044Z"
   },
   {
    "duration": 3,
    "start_time": "2022-08-04T14:55:22.027Z"
   },
   {
    "duration": 2217,
    "start_time": "2022-08-04T14:56:32.247Z"
   },
   {
    "duration": 39,
    "start_time": "2022-08-04T15:01:42.667Z"
   },
   {
    "duration": 4,
    "start_time": "2022-08-04T15:03:06.247Z"
   },
   {
    "duration": 44,
    "start_time": "2022-08-04T15:04:07.267Z"
   },
   {
    "duration": 27,
    "start_time": "2022-08-04T15:04:43.927Z"
   },
   {
    "duration": 37,
    "start_time": "2022-08-04T15:14:03.867Z"
   },
   {
    "duration": 36,
    "start_time": "2022-08-04T15:14:46.527Z"
   },
   {
    "duration": 20,
    "start_time": "2022-08-04T15:15:09.928Z"
   },
   {
    "duration": 26,
    "start_time": "2022-08-04T15:15:21.828Z"
   },
   {
    "duration": 21,
    "start_time": "2022-08-04T15:16:12.247Z"
   },
   {
    "duration": 3,
    "start_time": "2022-08-04T15:40:11.747Z"
   },
   {
    "duration": 1880,
    "start_time": "2022-08-04T15:40:15.765Z"
   },
   {
    "duration": 1497,
    "start_time": "2022-08-04T15:40:27.196Z"
   },
   {
    "duration": 1559,
    "start_time": "2022-08-04T15:40:41.797Z"
   },
   {
    "duration": 1296,
    "start_time": "2022-08-04T15:41:04.689Z"
   },
   {
    "duration": 1326,
    "start_time": "2022-08-04T15:41:17.577Z"
   },
   {
    "duration": 1500,
    "start_time": "2022-08-04T15:41:30.488Z"
   },
   {
    "duration": 38,
    "start_time": "2022-08-04T15:44:21.291Z"
   },
   {
    "duration": 17,
    "start_time": "2022-08-04T16:01:37.332Z"
   },
   {
    "duration": 16,
    "start_time": "2022-08-04T16:03:04.186Z"
   },
   {
    "duration": 35,
    "start_time": "2022-08-04T16:04:10.415Z"
   },
   {
    "duration": 20,
    "start_time": "2022-08-04T16:14:17.491Z"
   },
   {
    "duration": 29,
    "start_time": "2022-08-04T16:16:31.106Z"
   },
   {
    "duration": 26,
    "start_time": "2022-08-04T16:17:35.436Z"
   },
   {
    "duration": 19,
    "start_time": "2022-08-04T16:18:10.654Z"
   },
   {
    "duration": 19,
    "start_time": "2022-08-04T16:18:46.085Z"
   },
   {
    "duration": 1271,
    "start_time": "2022-08-04T16:20:07.493Z"
   },
   {
    "duration": 1241,
    "start_time": "2022-08-04T16:22:04.587Z"
   },
   {
    "duration": 92,
    "start_time": "2022-08-04T16:22:05.831Z"
   },
   {
    "duration": 13,
    "start_time": "2022-08-04T16:22:05.926Z"
   },
   {
    "duration": 35,
    "start_time": "2022-08-04T16:22:05.941Z"
   },
   {
    "duration": 18,
    "start_time": "2022-08-04T16:22:05.978Z"
   },
   {
    "duration": 15,
    "start_time": "2022-08-04T16:22:05.997Z"
   },
   {
    "duration": 26,
    "start_time": "2022-08-04T16:22:06.014Z"
   },
   {
    "duration": 11,
    "start_time": "2022-08-04T16:22:06.042Z"
   },
   {
    "duration": 4,
    "start_time": "2022-08-04T16:22:06.054Z"
   },
   {
    "duration": 12,
    "start_time": "2022-08-04T16:22:06.060Z"
   },
   {
    "duration": 4,
    "start_time": "2022-08-04T16:22:06.074Z"
   },
   {
    "duration": 18,
    "start_time": "2022-08-04T16:22:06.079Z"
   },
   {
    "duration": 24,
    "start_time": "2022-08-04T16:22:06.099Z"
   },
   {
    "duration": 26,
    "start_time": "2022-08-04T16:22:06.128Z"
   },
   {
    "duration": 30,
    "start_time": "2022-08-04T16:22:06.155Z"
   },
   {
    "duration": 4,
    "start_time": "2022-08-04T16:22:06.187Z"
   },
   {
    "duration": 9,
    "start_time": "2022-08-04T16:22:06.193Z"
   },
   {
    "duration": 1774,
    "start_time": "2022-08-04T16:22:06.203Z"
   },
   {
    "duration": 276,
    "start_time": "2022-08-04T16:22:07.978Z"
   },
   {
    "duration": 5,
    "start_time": "2022-08-04T16:22:08.255Z"
   },
   {
    "duration": 7,
    "start_time": "2022-08-04T16:22:08.262Z"
   },
   {
    "duration": 1826,
    "start_time": "2022-08-04T16:22:08.271Z"
   },
   {
    "duration": 43,
    "start_time": "2022-08-04T16:22:10.099Z"
   },
   {
    "duration": 34,
    "start_time": "2022-08-04T16:22:10.144Z"
   },
   {
    "duration": 44,
    "start_time": "2022-08-04T16:22:10.180Z"
   },
   {
    "duration": 38,
    "start_time": "2022-08-04T16:22:10.228Z"
   },
   {
    "duration": 4,
    "start_time": "2022-08-04T16:22:10.268Z"
   },
   {
    "duration": 6,
    "start_time": "2022-08-04T16:22:10.273Z"
   },
   {
    "duration": 2286,
    "start_time": "2022-08-04T16:22:10.280Z"
   },
   {
    "duration": 21,
    "start_time": "2022-08-04T16:22:12.568Z"
   },
   {
    "duration": 792,
    "start_time": "2022-08-04T16:22:12.592Z"
   },
   {
    "duration": 4,
    "start_time": "2022-08-04T16:22:13.385Z"
   },
   {
    "duration": 40,
    "start_time": "2022-08-04T16:22:13.390Z"
   },
   {
    "duration": 30,
    "start_time": "2022-08-04T16:22:13.431Z"
   },
   {
    "duration": 18,
    "start_time": "2022-08-04T16:22:13.463Z"
   },
   {
    "duration": 43,
    "start_time": "2022-08-04T16:22:13.482Z"
   },
   {
    "duration": 20,
    "start_time": "2022-08-04T16:22:13.526Z"
   },
   {
    "duration": 3,
    "start_time": "2022-08-04T16:22:13.547Z"
   },
   {
    "duration": 1388,
    "start_time": "2022-08-04T16:22:13.552Z"
   },
   {
    "duration": 15,
    "start_time": "2022-08-04T16:22:14.941Z"
   },
   {
    "duration": 28,
    "start_time": "2022-08-04T16:22:14.960Z"
   },
   {
    "duration": 42,
    "start_time": "2022-08-04T16:22:14.990Z"
   },
   {
    "duration": 25,
    "start_time": "2022-08-04T16:22:15.034Z"
   },
   {
    "duration": 18,
    "start_time": "2022-08-04T16:22:15.061Z"
   },
   {
    "duration": 37,
    "start_time": "2022-08-04T16:22:15.080Z"
   },
   {
    "duration": 1249,
    "start_time": "2022-08-04T16:22:15.119Z"
   },
   {
    "duration": 43,
    "start_time": "2022-08-05T03:28:53.089Z"
   },
   {
    "duration": 1305,
    "start_time": "2022-08-05T03:29:30.753Z"
   },
   {
    "duration": 133,
    "start_time": "2022-08-05T03:29:32.065Z"
   },
   {
    "duration": 11,
    "start_time": "2022-08-05T03:29:32.200Z"
   },
   {
    "duration": 35,
    "start_time": "2022-08-05T03:29:32.213Z"
   },
   {
    "duration": 32,
    "start_time": "2022-08-05T03:29:32.250Z"
   },
   {
    "duration": 18,
    "start_time": "2022-08-05T03:29:32.283Z"
   },
   {
    "duration": 12,
    "start_time": "2022-08-05T03:29:32.303Z"
   },
   {
    "duration": 14,
    "start_time": "2022-08-05T03:29:32.316Z"
   },
   {
    "duration": 5,
    "start_time": "2022-08-05T03:29:32.332Z"
   },
   {
    "duration": 22,
    "start_time": "2022-08-05T03:29:32.338Z"
   },
   {
    "duration": 29,
    "start_time": "2022-08-05T03:29:32.361Z"
   },
   {
    "duration": 20,
    "start_time": "2022-08-05T03:29:32.392Z"
   },
   {
    "duration": 5,
    "start_time": "2022-08-05T03:29:32.414Z"
   },
   {
    "duration": 13,
    "start_time": "2022-08-05T03:29:32.422Z"
   },
   {
    "duration": 45,
    "start_time": "2022-08-05T03:29:32.436Z"
   },
   {
    "duration": 5,
    "start_time": "2022-08-05T03:29:32.484Z"
   },
   {
    "duration": 12,
    "start_time": "2022-08-05T03:29:32.491Z"
   },
   {
    "duration": 1786,
    "start_time": "2022-08-05T03:29:32.505Z"
   },
   {
    "duration": 317,
    "start_time": "2022-08-05T03:29:34.293Z"
   },
   {
    "duration": 7,
    "start_time": "2022-08-05T03:29:34.611Z"
   },
   {
    "duration": 10,
    "start_time": "2022-08-05T03:29:34.619Z"
   },
   {
    "duration": 1893,
    "start_time": "2022-08-05T03:29:34.630Z"
   },
   {
    "duration": 43,
    "start_time": "2022-08-05T03:29:36.524Z"
   },
   {
    "duration": 32,
    "start_time": "2022-08-05T03:29:36.577Z"
   },
   {
    "duration": 34,
    "start_time": "2022-08-05T03:29:36.611Z"
   },
   {
    "duration": 43,
    "start_time": "2022-08-05T03:29:36.656Z"
   },
   {
    "duration": 31,
    "start_time": "2022-08-05T03:29:36.701Z"
   },
   {
    "duration": 10,
    "start_time": "2022-08-05T03:29:36.733Z"
   },
   {
    "duration": 2441,
    "start_time": "2022-08-05T03:29:36.745Z"
   },
   {
    "duration": 16,
    "start_time": "2022-08-05T03:29:39.187Z"
   },
   {
    "duration": 743,
    "start_time": "2022-08-05T03:29:39.205Z"
   },
   {
    "duration": 9,
    "start_time": "2022-08-05T03:29:39.950Z"
   },
   {
    "duration": 47,
    "start_time": "2022-08-05T03:29:39.960Z"
   },
   {
    "duration": 21,
    "start_time": "2022-08-05T03:29:40.008Z"
   },
   {
    "duration": 19,
    "start_time": "2022-08-05T03:29:40.030Z"
   },
   {
    "duration": 25,
    "start_time": "2022-08-05T03:29:40.050Z"
   },
   {
    "duration": 25,
    "start_time": "2022-08-05T03:29:40.085Z"
   },
   {
    "duration": 3,
    "start_time": "2022-08-05T03:29:40.112Z"
   },
   {
    "duration": 1394,
    "start_time": "2022-08-05T03:29:40.116Z"
   },
   {
    "duration": 14,
    "start_time": "2022-08-05T03:29:41.512Z"
   },
   {
    "duration": 56,
    "start_time": "2022-08-05T03:29:41.529Z"
   },
   {
    "duration": 39,
    "start_time": "2022-08-05T03:29:41.587Z"
   },
   {
    "duration": 18,
    "start_time": "2022-08-05T03:29:41.627Z"
   },
   {
    "duration": 27,
    "start_time": "2022-08-05T03:29:41.647Z"
   },
   {
    "duration": 26,
    "start_time": "2022-08-05T03:29:41.676Z"
   },
   {
    "duration": 1287,
    "start_time": "2022-08-05T03:29:41.703Z"
   },
   {
    "duration": 20,
    "start_time": "2022-08-05T03:38:04.478Z"
   },
   {
    "duration": 137,
    "start_time": "2022-08-05T03:39:13.214Z"
   },
   {
    "duration": 21,
    "start_time": "2022-08-05T03:39:24.343Z"
   },
   {
    "duration": 19,
    "start_time": "2022-08-05T03:40:27.866Z"
   },
   {
    "duration": 27,
    "start_time": "2022-08-05T03:41:49.379Z"
   },
   {
    "duration": 144,
    "start_time": "2022-08-05T03:42:07.944Z"
   },
   {
    "duration": 39,
    "start_time": "2022-08-05T03:43:58.334Z"
   },
   {
    "duration": 20,
    "start_time": "2022-08-05T03:45:16.551Z"
   },
   {
    "duration": 20,
    "start_time": "2022-08-05T03:45:52.775Z"
   },
   {
    "duration": 21,
    "start_time": "2022-08-05T03:52:37.576Z"
   },
   {
    "duration": 19,
    "start_time": "2022-08-05T03:52:47.816Z"
   },
   {
    "duration": 7,
    "start_time": "2022-08-05T04:02:11.630Z"
   },
   {
    "duration": 75,
    "start_time": "2022-08-05T04:02:23.650Z"
   },
   {
    "duration": 7,
    "start_time": "2022-08-05T04:02:39.223Z"
   },
   {
    "duration": 8,
    "start_time": "2022-08-05T04:06:20.865Z"
   },
   {
    "duration": 7,
    "start_time": "2022-08-05T04:06:39.428Z"
   },
   {
    "duration": 1089,
    "start_time": "2022-08-05T04:50:57.133Z"
   },
   {
    "duration": 106,
    "start_time": "2022-08-05T04:50:58.224Z"
   },
   {
    "duration": 10,
    "start_time": "2022-08-05T04:50:58.332Z"
   },
   {
    "duration": 36,
    "start_time": "2022-08-05T04:50:58.343Z"
   },
   {
    "duration": 15,
    "start_time": "2022-08-05T04:50:58.381Z"
   },
   {
    "duration": 11,
    "start_time": "2022-08-05T04:50:58.398Z"
   },
   {
    "duration": 26,
    "start_time": "2022-08-05T04:50:58.410Z"
   },
   {
    "duration": 22,
    "start_time": "2022-08-05T04:50:58.437Z"
   },
   {
    "duration": 9,
    "start_time": "2022-08-05T04:50:58.460Z"
   },
   {
    "duration": 26,
    "start_time": "2022-08-05T04:50:58.470Z"
   },
   {
    "duration": 28,
    "start_time": "2022-08-05T04:50:58.498Z"
   },
   {
    "duration": 36,
    "start_time": "2022-08-05T04:50:58.527Z"
   },
   {
    "duration": 22,
    "start_time": "2022-08-05T04:50:58.564Z"
   },
   {
    "duration": 16,
    "start_time": "2022-08-05T04:50:58.589Z"
   },
   {
    "duration": 35,
    "start_time": "2022-08-05T04:50:58.607Z"
   },
   {
    "duration": 4,
    "start_time": "2022-08-05T04:50:58.643Z"
   },
   {
    "duration": 28,
    "start_time": "2022-08-05T04:50:58.649Z"
   },
   {
    "duration": 1628,
    "start_time": "2022-08-05T04:50:58.678Z"
   },
   {
    "duration": 292,
    "start_time": "2022-08-05T04:51:00.308Z"
   },
   {
    "duration": 6,
    "start_time": "2022-08-05T04:51:00.602Z"
   },
   {
    "duration": 34,
    "start_time": "2022-08-05T04:51:00.609Z"
   },
   {
    "duration": 1775,
    "start_time": "2022-08-05T04:51:00.644Z"
   },
   {
    "duration": 40,
    "start_time": "2022-08-05T04:51:02.421Z"
   },
   {
    "duration": 30,
    "start_time": "2022-08-05T04:51:02.463Z"
   },
   {
    "duration": 31,
    "start_time": "2022-08-05T04:51:02.495Z"
   },
   {
    "duration": 57,
    "start_time": "2022-08-05T04:51:02.528Z"
   },
   {
    "duration": 7,
    "start_time": "2022-08-05T04:51:02.587Z"
   },
   {
    "duration": 10,
    "start_time": "2022-08-05T04:51:02.596Z"
   },
   {
    "duration": 2085,
    "start_time": "2022-08-05T04:51:02.608Z"
   },
   {
    "duration": 18,
    "start_time": "2022-08-05T04:51:04.695Z"
   },
   {
    "duration": 713,
    "start_time": "2022-08-05T04:51:04.714Z"
   },
   {
    "duration": 4,
    "start_time": "2022-08-05T04:51:05.428Z"
   },
   {
    "duration": 23,
    "start_time": "2022-08-05T04:51:05.433Z"
   },
   {
    "duration": 6,
    "start_time": "2022-08-05T04:51:05.457Z"
   },
   {
    "duration": 18,
    "start_time": "2022-08-05T04:51:05.464Z"
   },
   {
    "duration": 19,
    "start_time": "2022-08-05T04:51:05.483Z"
   },
   {
    "duration": 22,
    "start_time": "2022-08-05T04:51:05.503Z"
   },
   {
    "duration": 3,
    "start_time": "2022-08-05T04:51:05.555Z"
   },
   {
    "duration": 1322,
    "start_time": "2022-08-05T04:51:05.560Z"
   },
   {
    "duration": 17,
    "start_time": "2022-08-05T04:51:06.885Z"
   },
   {
    "duration": 57,
    "start_time": "2022-08-05T04:51:06.905Z"
   },
   {
    "duration": 37,
    "start_time": "2022-08-05T04:51:06.964Z"
   },
   {
    "duration": 33,
    "start_time": "2022-08-05T04:51:07.003Z"
   },
   {
    "duration": 29,
    "start_time": "2022-08-05T04:51:07.037Z"
   },
   {
    "duration": 32,
    "start_time": "2022-08-05T04:51:07.067Z"
   },
   {
    "duration": 1262,
    "start_time": "2022-08-05T04:51:07.102Z"
   },
   {
    "duration": 1467,
    "start_time": "2022-08-06T08:11:40.970Z"
   },
   {
    "duration": 158,
    "start_time": "2022-08-06T08:11:42.439Z"
   },
   {
    "duration": 0,
    "start_time": "2022-08-06T08:11:42.600Z"
   },
   {
    "duration": 0,
    "start_time": "2022-08-06T08:11:42.601Z"
   },
   {
    "duration": 0,
    "start_time": "2022-08-06T08:11:42.603Z"
   },
   {
    "duration": 0,
    "start_time": "2022-08-06T08:11:42.604Z"
   },
   {
    "duration": 0,
    "start_time": "2022-08-06T08:11:42.605Z"
   },
   {
    "duration": 0,
    "start_time": "2022-08-06T08:11:42.607Z"
   },
   {
    "duration": 0,
    "start_time": "2022-08-06T08:11:42.608Z"
   },
   {
    "duration": 0,
    "start_time": "2022-08-06T08:11:42.609Z"
   },
   {
    "duration": 0,
    "start_time": "2022-08-06T08:11:42.610Z"
   },
   {
    "duration": 0,
    "start_time": "2022-08-06T08:11:42.612Z"
   },
   {
    "duration": 0,
    "start_time": "2022-08-06T08:11:42.613Z"
   },
   {
    "duration": 0,
    "start_time": "2022-08-06T08:11:42.615Z"
   },
   {
    "duration": 0,
    "start_time": "2022-08-06T08:11:42.616Z"
   },
   {
    "duration": 0,
    "start_time": "2022-08-06T08:11:42.617Z"
   },
   {
    "duration": 0,
    "start_time": "2022-08-06T08:11:42.618Z"
   },
   {
    "duration": 0,
    "start_time": "2022-08-06T08:11:42.619Z"
   },
   {
    "duration": 0,
    "start_time": "2022-08-06T08:11:42.620Z"
   },
   {
    "duration": 0,
    "start_time": "2022-08-06T08:11:42.621Z"
   },
   {
    "duration": 0,
    "start_time": "2022-08-06T08:11:42.622Z"
   },
   {
    "duration": 0,
    "start_time": "2022-08-06T08:11:42.623Z"
   },
   {
    "duration": 0,
    "start_time": "2022-08-06T08:11:42.624Z"
   },
   {
    "duration": 0,
    "start_time": "2022-08-06T08:11:42.625Z"
   },
   {
    "duration": 0,
    "start_time": "2022-08-06T08:11:42.626Z"
   },
   {
    "duration": 0,
    "start_time": "2022-08-06T08:11:42.627Z"
   },
   {
    "duration": 0,
    "start_time": "2022-08-06T08:11:42.628Z"
   },
   {
    "duration": 0,
    "start_time": "2022-08-06T08:11:42.629Z"
   },
   {
    "duration": 0,
    "start_time": "2022-08-06T08:11:42.630Z"
   },
   {
    "duration": 0,
    "start_time": "2022-08-06T08:11:42.631Z"
   },
   {
    "duration": 0,
    "start_time": "2022-08-06T08:11:42.632Z"
   },
   {
    "duration": 0,
    "start_time": "2022-08-06T08:11:42.632Z"
   },
   {
    "duration": 0,
    "start_time": "2022-08-06T08:11:42.634Z"
   },
   {
    "duration": 0,
    "start_time": "2022-08-06T08:11:42.635Z"
   },
   {
    "duration": 0,
    "start_time": "2022-08-06T08:11:42.636Z"
   },
   {
    "duration": 0,
    "start_time": "2022-08-06T08:11:42.637Z"
   },
   {
    "duration": 0,
    "start_time": "2022-08-06T08:11:42.692Z"
   },
   {
    "duration": 0,
    "start_time": "2022-08-06T08:11:42.693Z"
   },
   {
    "duration": 0,
    "start_time": "2022-08-06T08:11:42.694Z"
   },
   {
    "duration": 0,
    "start_time": "2022-08-06T08:11:42.695Z"
   },
   {
    "duration": 0,
    "start_time": "2022-08-06T08:11:42.696Z"
   },
   {
    "duration": 0,
    "start_time": "2022-08-06T08:11:42.697Z"
   },
   {
    "duration": 0,
    "start_time": "2022-08-06T08:11:42.698Z"
   },
   {
    "duration": 0,
    "start_time": "2022-08-06T08:11:42.699Z"
   },
   {
    "duration": 0,
    "start_time": "2022-08-06T08:11:42.700Z"
   },
   {
    "duration": 0,
    "start_time": "2022-08-06T08:11:42.701Z"
   },
   {
    "duration": 155,
    "start_time": "2022-08-06T08:47:39.182Z"
   },
   {
    "duration": 1205,
    "start_time": "2022-08-06T08:47:45.155Z"
   },
   {
    "duration": 48,
    "start_time": "2022-08-06T08:47:46.362Z"
   },
   {
    "duration": 13,
    "start_time": "2022-08-06T08:47:46.412Z"
   },
   {
    "duration": 39,
    "start_time": "2022-08-06T08:47:46.428Z"
   },
   {
    "duration": 37,
    "start_time": "2022-08-06T08:47:46.469Z"
   },
   {
    "duration": 38,
    "start_time": "2022-08-06T08:47:46.508Z"
   },
   {
    "duration": 14,
    "start_time": "2022-08-06T08:47:46.548Z"
   },
   {
    "duration": 29,
    "start_time": "2022-08-06T08:47:46.563Z"
   },
   {
    "duration": 15,
    "start_time": "2022-08-06T08:47:46.594Z"
   },
   {
    "duration": 33,
    "start_time": "2022-08-06T08:47:46.613Z"
   },
   {
    "duration": 11,
    "start_time": "2022-08-06T08:47:46.649Z"
   },
   {
    "duration": 32,
    "start_time": "2022-08-06T08:47:46.663Z"
   },
   {
    "duration": 8,
    "start_time": "2022-08-06T08:47:46.698Z"
   },
   {
    "duration": 21,
    "start_time": "2022-08-06T08:47:46.708Z"
   },
   {
    "duration": 46,
    "start_time": "2022-08-06T08:47:46.731Z"
   },
   {
    "duration": 4,
    "start_time": "2022-08-06T08:47:46.779Z"
   },
   {
    "duration": 12,
    "start_time": "2022-08-06T08:47:46.784Z"
   },
   {
    "duration": 1969,
    "start_time": "2022-08-06T08:47:46.798Z"
   },
   {
    "duration": 284,
    "start_time": "2022-08-06T08:47:48.769Z"
   },
   {
    "duration": 8,
    "start_time": "2022-08-06T08:47:49.055Z"
   },
   {
    "duration": 67,
    "start_time": "2022-08-06T08:47:49.065Z"
   },
   {
    "duration": 2039,
    "start_time": "2022-08-06T08:47:49.135Z"
   },
   {
    "duration": 44,
    "start_time": "2022-08-06T08:47:51.176Z"
   },
   {
    "duration": 39,
    "start_time": "2022-08-06T08:47:51.222Z"
   },
   {
    "duration": 53,
    "start_time": "2022-08-06T08:47:51.262Z"
   },
   {
    "duration": 36,
    "start_time": "2022-08-06T08:47:51.317Z"
   },
   {
    "duration": 6,
    "start_time": "2022-08-06T08:47:51.355Z"
   },
   {
    "duration": 3,
    "start_time": "2022-08-06T08:47:51.391Z"
   },
   {
    "duration": 2547,
    "start_time": "2022-08-06T08:47:51.396Z"
   },
   {
    "duration": 25,
    "start_time": "2022-08-06T08:47:53.945Z"
   },
   {
    "duration": 853,
    "start_time": "2022-08-06T08:47:53.972Z"
   },
   {
    "duration": 5,
    "start_time": "2022-08-06T08:47:54.826Z"
   },
   {
    "duration": 22,
    "start_time": "2022-08-06T08:47:54.832Z"
   },
   {
    "duration": 9,
    "start_time": "2022-08-06T08:47:54.855Z"
   },
   {
    "duration": 45,
    "start_time": "2022-08-06T08:47:54.866Z"
   },
   {
    "duration": 22,
    "start_time": "2022-08-06T08:47:54.912Z"
   },
   {
    "duration": 22,
    "start_time": "2022-08-06T08:47:54.936Z"
   },
   {
    "duration": 3,
    "start_time": "2022-08-06T08:47:54.959Z"
   },
   {
    "duration": 1538,
    "start_time": "2022-08-06T08:47:54.992Z"
   },
   {
    "duration": 17,
    "start_time": "2022-08-06T08:47:56.532Z"
   },
   {
    "duration": 9,
    "start_time": "2022-08-06T08:47:56.551Z"
   },
   {
    "duration": 41,
    "start_time": "2022-08-06T08:47:56.562Z"
   },
   {
    "duration": 22,
    "start_time": "2022-08-06T08:47:56.604Z"
   },
   {
    "duration": 21,
    "start_time": "2022-08-06T08:47:56.627Z"
   },
   {
    "duration": 42,
    "start_time": "2022-08-06T08:47:56.650Z"
   },
   {
    "duration": 1470,
    "start_time": "2022-08-06T08:47:56.694Z"
   },
   {
    "duration": 53,
    "start_time": "2022-08-06T13:10:26.437Z"
   },
   {
    "duration": 1145,
    "start_time": "2022-08-06T13:10:36.397Z"
   },
   {
    "duration": 74,
    "start_time": "2022-08-06T13:10:37.544Z"
   },
   {
    "duration": 13,
    "start_time": "2022-08-06T13:10:37.620Z"
   },
   {
    "duration": 36,
    "start_time": "2022-08-06T13:10:37.635Z"
   },
   {
    "duration": 28,
    "start_time": "2022-08-06T13:10:37.673Z"
   },
   {
    "duration": 18,
    "start_time": "2022-08-06T13:10:37.703Z"
   },
   {
    "duration": 4,
    "start_time": "2022-08-06T13:10:38.765Z"
   },
   {
    "duration": 13,
    "start_time": "2022-08-06T13:10:38.771Z"
   },
   {
    "duration": 4,
    "start_time": "2022-08-06T13:10:38.785Z"
   },
   {
    "duration": 16,
    "start_time": "2022-08-06T13:10:39.606Z"
   },
   {
    "duration": 4,
    "start_time": "2022-08-06T13:10:39.624Z"
   },
   {
    "duration": 16,
    "start_time": "2022-08-06T13:10:39.630Z"
   },
   {
    "duration": 7,
    "start_time": "2022-08-06T13:10:40.847Z"
   },
   {
    "duration": 15,
    "start_time": "2022-08-06T13:10:40.856Z"
   },
   {
    "duration": 32,
    "start_time": "2022-08-06T13:10:40.873Z"
   },
   {
    "duration": 4,
    "start_time": "2022-08-06T13:10:41.332Z"
   },
   {
    "duration": 9,
    "start_time": "2022-08-06T13:10:41.338Z"
   },
   {
    "duration": 1778,
    "start_time": "2022-08-06T13:10:41.679Z"
   },
   {
    "duration": 278,
    "start_time": "2022-08-06T13:10:43.459Z"
   },
   {
    "duration": 6,
    "start_time": "2022-08-06T13:10:43.739Z"
   },
   {
    "duration": 6,
    "start_time": "2022-08-06T13:10:43.748Z"
   },
   {
    "duration": 1901,
    "start_time": "2022-08-06T13:10:43.755Z"
   },
   {
    "duration": 47,
    "start_time": "2022-08-06T13:10:45.659Z"
   },
   {
    "duration": 29,
    "start_time": "2022-08-06T13:10:45.708Z"
   },
   {
    "duration": 30,
    "start_time": "2022-08-06T13:10:45.739Z"
   },
   {
    "duration": 53,
    "start_time": "2022-08-06T13:10:45.771Z"
   },
   {
    "duration": 3,
    "start_time": "2022-08-06T13:10:45.826Z"
   },
   {
    "duration": 8,
    "start_time": "2022-08-06T13:10:45.831Z"
   },
   {
    "duration": 2251,
    "start_time": "2022-08-06T13:10:46.248Z"
   },
   {
    "duration": 16,
    "start_time": "2022-08-06T13:10:48.500Z"
   },
   {
    "duration": 750,
    "start_time": "2022-08-06T13:10:48.517Z"
   },
   {
    "duration": 5,
    "start_time": "2022-08-06T13:10:49.269Z"
   },
   {
    "duration": 32,
    "start_time": "2022-08-06T13:10:49.277Z"
   },
   {
    "duration": 12,
    "start_time": "2022-08-06T13:10:49.311Z"
   },
   {
    "duration": 26,
    "start_time": "2022-08-06T13:10:49.325Z"
   },
   {
    "duration": 26,
    "start_time": "2022-08-06T13:10:49.353Z"
   },
   {
    "duration": 29,
    "start_time": "2022-08-06T13:10:49.399Z"
   },
   {
    "duration": 3,
    "start_time": "2022-08-06T13:10:49.431Z"
   },
   {
    "duration": 1411,
    "start_time": "2022-08-06T13:10:49.435Z"
   },
   {
    "duration": 15,
    "start_time": "2022-08-06T13:10:50.848Z"
   },
   {
    "duration": 10,
    "start_time": "2022-08-06T13:10:50.865Z"
   },
   {
    "duration": 35,
    "start_time": "2022-08-06T13:10:50.877Z"
   },
   {
    "duration": 18,
    "start_time": "2022-08-06T13:10:50.913Z"
   },
   {
    "duration": 18,
    "start_time": "2022-08-06T13:10:50.933Z"
   },
   {
    "duration": 18,
    "start_time": "2022-08-06T13:10:50.953Z"
   },
   {
    "duration": 1328,
    "start_time": "2022-08-06T13:10:51.815Z"
   },
   {
    "duration": 219,
    "start_time": "2022-08-06T13:14:36.495Z"
   },
   {
    "duration": 17,
    "start_time": "2022-08-06T13:18:06.679Z"
   },
   {
    "duration": 1100,
    "start_time": "2022-08-06T13:18:19.056Z"
   },
   {
    "duration": 40,
    "start_time": "2022-08-06T13:18:20.158Z"
   },
   {
    "duration": 12,
    "start_time": "2022-08-06T13:18:20.690Z"
   },
   {
    "duration": 36,
    "start_time": "2022-08-06T13:18:20.705Z"
   },
   {
    "duration": 17,
    "start_time": "2022-08-06T13:18:20.743Z"
   },
   {
    "duration": 4,
    "start_time": "2022-08-06T13:18:21.206Z"
   },
   {
    "duration": 9,
    "start_time": "2022-08-06T13:18:21.212Z"
   },
   {
    "duration": 11,
    "start_time": "2022-08-06T13:18:21.223Z"
   },
   {
    "duration": 5,
    "start_time": "2022-08-06T13:18:22.915Z"
   },
   {
    "duration": 13,
    "start_time": "2022-08-06T13:18:22.922Z"
   },
   {
    "duration": 4,
    "start_time": "2022-08-06T13:18:22.937Z"
   },
   {
    "duration": 15,
    "start_time": "2022-08-06T13:18:22.943Z"
   },
   {
    "duration": 5,
    "start_time": "2022-08-06T13:18:22.961Z"
   },
   {
    "duration": 13,
    "start_time": "2022-08-06T13:18:24.802Z"
   },
   {
    "duration": 32,
    "start_time": "2022-08-06T13:18:24.817Z"
   },
   {
    "duration": 5,
    "start_time": "2022-08-06T13:18:24.850Z"
   },
   {
    "duration": 4,
    "start_time": "2022-08-06T13:18:24.857Z"
   },
   {
    "duration": 1840,
    "start_time": "2022-08-06T13:18:33.409Z"
   },
   {
    "duration": 290,
    "start_time": "2022-08-06T13:18:35.251Z"
   },
   {
    "duration": 6,
    "start_time": "2022-08-06T13:18:47.604Z"
   },
   {
    "duration": 8,
    "start_time": "2022-08-06T13:18:47.612Z"
   },
   {
    "duration": 1811,
    "start_time": "2022-08-06T13:18:47.621Z"
   },
   {
    "duration": 34,
    "start_time": "2022-08-06T13:19:28.606Z"
   },
   {
    "duration": 32,
    "start_time": "2022-08-06T13:19:28.642Z"
   },
   {
    "duration": 31,
    "start_time": "2022-08-06T13:19:31.291Z"
   },
   {
    "duration": 30,
    "start_time": "2022-08-06T13:19:31.324Z"
   },
   {
    "duration": 4,
    "start_time": "2022-08-06T13:19:31.355Z"
   },
   {
    "duration": 10,
    "start_time": "2022-08-06T13:19:31.361Z"
   },
   {
    "duration": 2379,
    "start_time": "2022-08-06T13:19:33.839Z"
   },
   {
    "duration": 16,
    "start_time": "2022-08-06T13:19:36.221Z"
   },
   {
    "duration": 771,
    "start_time": "2022-08-06T13:19:36.238Z"
   },
   {
    "duration": 4,
    "start_time": "2022-08-06T13:19:37.010Z"
   },
   {
    "duration": 18,
    "start_time": "2022-08-06T13:19:37.016Z"
   },
   {
    "duration": 8,
    "start_time": "2022-08-06T13:19:37.036Z"
   },
   {
    "duration": 21,
    "start_time": "2022-08-06T13:19:37.046Z"
   },
   {
    "duration": 47,
    "start_time": "2022-08-06T13:19:37.068Z"
   },
   {
    "duration": 20,
    "start_time": "2022-08-06T13:19:37.767Z"
   },
   {
    "duration": 2,
    "start_time": "2022-08-06T13:19:37.789Z"
   },
   {
    "duration": 1391,
    "start_time": "2022-08-06T13:19:37.793Z"
   },
   {
    "duration": 22,
    "start_time": "2022-08-06T13:19:39.186Z"
   },
   {
    "duration": 10,
    "start_time": "2022-08-06T13:19:39.210Z"
   },
   {
    "duration": 19,
    "start_time": "2022-08-06T13:19:39.222Z"
   },
   {
    "duration": 20,
    "start_time": "2022-08-06T13:19:39.243Z"
   },
   {
    "duration": 50,
    "start_time": "2022-08-06T13:19:39.265Z"
   },
   {
    "duration": 18,
    "start_time": "2022-08-06T13:19:39.332Z"
   },
   {
    "duration": 1357,
    "start_time": "2022-08-06T13:19:43.570Z"
   },
   {
    "duration": 1511,
    "start_time": "2022-08-06T19:56:58.307Z"
   },
   {
    "duration": 1257,
    "start_time": "2022-08-06T19:57:05.306Z"
   },
   {
    "duration": 156,
    "start_time": "2022-08-06T19:57:06.566Z"
   },
   {
    "duration": 15,
    "start_time": "2022-08-06T19:57:06.724Z"
   },
   {
    "duration": 39,
    "start_time": "2022-08-06T19:57:06.741Z"
   },
   {
    "duration": 23,
    "start_time": "2022-08-06T19:57:06.782Z"
   },
   {
    "duration": 9,
    "start_time": "2022-08-06T19:57:06.807Z"
   },
   {
    "duration": 10,
    "start_time": "2022-08-06T19:57:06.818Z"
   },
   {
    "duration": 15,
    "start_time": "2022-08-06T19:57:06.830Z"
   },
   {
    "duration": 5,
    "start_time": "2022-08-06T19:57:06.847Z"
   },
   {
    "duration": 50,
    "start_time": "2022-08-06T19:57:06.853Z"
   },
   {
    "duration": 5,
    "start_time": "2022-08-06T19:57:06.905Z"
   },
   {
    "duration": 18,
    "start_time": "2022-08-06T19:57:06.912Z"
   },
   {
    "duration": 6,
    "start_time": "2022-08-06T19:57:06.932Z"
   },
   {
    "duration": 16,
    "start_time": "2022-08-06T19:57:06.942Z"
   },
   {
    "duration": 66,
    "start_time": "2022-08-06T19:57:06.959Z"
   },
   {
    "duration": 5,
    "start_time": "2022-08-06T19:57:07.026Z"
   },
   {
    "duration": 5,
    "start_time": "2022-08-06T19:57:07.033Z"
   },
   {
    "duration": 1946,
    "start_time": "2022-08-06T19:57:07.040Z"
   },
   {
    "duration": 273,
    "start_time": "2022-08-06T19:57:08.988Z"
   },
   {
    "duration": 33,
    "start_time": "2022-08-06T19:57:09.263Z"
   },
   {
    "duration": 8,
    "start_time": "2022-08-06T19:57:09.298Z"
   },
   {
    "duration": 2069,
    "start_time": "2022-08-06T19:57:09.308Z"
   },
   {
    "duration": 37,
    "start_time": "2022-08-06T19:57:11.379Z"
   },
   {
    "duration": 35,
    "start_time": "2022-08-06T19:57:11.418Z"
   },
   {
    "duration": 54,
    "start_time": "2022-08-06T19:57:11.454Z"
   },
   {
    "duration": 35,
    "start_time": "2022-08-06T19:57:11.511Z"
   },
   {
    "duration": 5,
    "start_time": "2022-08-06T19:57:11.547Z"
   },
   {
    "duration": 6,
    "start_time": "2022-08-06T19:57:11.553Z"
   },
   {
    "duration": 2550,
    "start_time": "2022-08-06T19:57:11.561Z"
   },
   {
    "duration": 19,
    "start_time": "2022-08-06T19:57:14.113Z"
   },
   {
    "duration": 828,
    "start_time": "2022-08-06T19:57:14.134Z"
   },
   {
    "duration": 5,
    "start_time": "2022-08-06T19:57:14.963Z"
   },
   {
    "duration": 33,
    "start_time": "2022-08-06T19:57:14.969Z"
   },
   {
    "duration": 12,
    "start_time": "2022-08-06T19:57:15.004Z"
   },
   {
    "duration": 25,
    "start_time": "2022-08-06T19:57:15.017Z"
   },
   {
    "duration": 22,
    "start_time": "2022-08-06T19:57:15.044Z"
   },
   {
    "duration": 45,
    "start_time": "2022-08-06T19:57:15.068Z"
   },
   {
    "duration": 3,
    "start_time": "2022-08-06T19:57:15.115Z"
   },
   {
    "duration": 1511,
    "start_time": "2022-08-06T19:57:15.119Z"
   },
   {
    "duration": 17,
    "start_time": "2022-08-06T19:57:16.632Z"
   },
   {
    "duration": 8,
    "start_time": "2022-08-06T19:57:16.653Z"
   },
   {
    "duration": 44,
    "start_time": "2022-08-06T19:57:16.663Z"
   },
   {
    "duration": 21,
    "start_time": "2022-08-06T19:57:16.709Z"
   },
   {
    "duration": 21,
    "start_time": "2022-08-06T19:57:16.732Z"
   },
   {
    "duration": 42,
    "start_time": "2022-08-06T19:57:16.755Z"
   },
   {
    "duration": 1473,
    "start_time": "2022-08-06T19:57:16.799Z"
   },
   {
    "duration": 119,
    "start_time": "2022-08-06T20:02:57.717Z"
   },
   {
    "duration": 22,
    "start_time": "2022-08-06T20:03:13.076Z"
   },
   {
    "duration": 18,
    "start_time": "2022-08-06T20:03:53.623Z"
   },
   {
    "duration": 7,
    "start_time": "2022-08-06T20:05:44.361Z"
   },
   {
    "duration": 123,
    "start_time": "2022-08-06T20:05:54.284Z"
   },
   {
    "duration": 15,
    "start_time": "2022-08-06T20:06:04.061Z"
   },
   {
    "duration": 13,
    "start_time": "2022-08-06T20:06:37.691Z"
   },
   {
    "duration": 11,
    "start_time": "2022-08-06T20:07:41.596Z"
   },
   {
    "duration": 4,
    "start_time": "2022-08-06T20:08:09.656Z"
   },
   {
    "duration": 10,
    "start_time": "2022-08-06T20:12:36.034Z"
   },
   {
    "duration": 10,
    "start_time": "2022-08-06T20:12:48.671Z"
   },
   {
    "duration": 3,
    "start_time": "2022-08-06T20:12:59.362Z"
   },
   {
    "duration": 3,
    "start_time": "2022-08-07T13:55:07.786Z"
   },
   {
    "duration": 47,
    "start_time": "2022-08-07T13:55:10.940Z"
   },
   {
    "duration": 1271,
    "start_time": "2022-08-07T13:55:24.083Z"
   },
   {
    "duration": 2,
    "start_time": "2022-08-07T13:55:25.356Z"
   },
   {
    "duration": 144,
    "start_time": "2022-08-07T13:55:25.360Z"
   },
   {
    "duration": 13,
    "start_time": "2022-08-07T13:55:25.505Z"
   },
   {
    "duration": 33,
    "start_time": "2022-08-07T13:55:25.520Z"
   },
   {
    "duration": 15,
    "start_time": "2022-08-07T13:55:25.554Z"
   },
   {
    "duration": 8,
    "start_time": "2022-08-07T13:55:25.570Z"
   },
   {
    "duration": 28,
    "start_time": "2022-08-07T13:55:25.579Z"
   },
   {
    "duration": 9,
    "start_time": "2022-08-07T13:55:25.609Z"
   },
   {
    "duration": 4,
    "start_time": "2022-08-07T13:55:25.620Z"
   },
   {
    "duration": 11,
    "start_time": "2022-08-07T13:55:25.625Z"
   },
   {
    "duration": 4,
    "start_time": "2022-08-07T13:55:25.637Z"
   },
   {
    "duration": 15,
    "start_time": "2022-08-07T13:55:25.642Z"
   },
   {
    "duration": 6,
    "start_time": "2022-08-07T13:55:25.660Z"
   },
   {
    "duration": 45,
    "start_time": "2022-08-07T13:55:25.667Z"
   },
   {
    "duration": 32,
    "start_time": "2022-08-07T13:55:25.713Z"
   },
   {
    "duration": 3,
    "start_time": "2022-08-07T13:55:25.746Z"
   },
   {
    "duration": 5,
    "start_time": "2022-08-07T13:55:25.751Z"
   },
   {
    "duration": 1827,
    "start_time": "2022-08-07T13:55:25.758Z"
   },
   {
    "duration": 265,
    "start_time": "2022-08-07T13:55:27.586Z"
   },
   {
    "duration": 5,
    "start_time": "2022-08-07T13:55:27.853Z"
   },
   {
    "duration": 7,
    "start_time": "2022-08-07T13:55:27.860Z"
   },
   {
    "duration": 1818,
    "start_time": "2022-08-07T13:55:27.868Z"
   },
   {
    "duration": 37,
    "start_time": "2022-08-07T13:55:29.688Z"
   },
   {
    "duration": 28,
    "start_time": "2022-08-07T13:55:29.726Z"
   },
   {
    "duration": 53,
    "start_time": "2022-08-07T13:55:29.756Z"
   },
   {
    "duration": 28,
    "start_time": "2022-08-07T13:55:29.811Z"
   },
   {
    "duration": 3,
    "start_time": "2022-08-07T13:55:29.841Z"
   },
   {
    "duration": 4,
    "start_time": "2022-08-07T13:55:29.846Z"
   },
   {
    "duration": 2269,
    "start_time": "2022-08-07T13:55:29.851Z"
   },
   {
    "duration": 19,
    "start_time": "2022-08-07T13:55:32.123Z"
   },
   {
    "duration": 735,
    "start_time": "2022-08-07T13:55:32.144Z"
   },
   {
    "duration": 3,
    "start_time": "2022-08-07T13:55:32.881Z"
   },
   {
    "duration": 24,
    "start_time": "2022-08-07T13:55:32.886Z"
   },
   {
    "duration": 6,
    "start_time": "2022-08-07T13:55:32.911Z"
   },
   {
    "duration": 19,
    "start_time": "2022-08-07T13:55:32.919Z"
   },
   {
    "duration": 20,
    "start_time": "2022-08-07T13:55:32.940Z"
   },
   {
    "duration": 45,
    "start_time": "2022-08-07T13:55:32.962Z"
   },
   {
    "duration": 3,
    "start_time": "2022-08-07T13:55:33.008Z"
   },
   {
    "duration": 1327,
    "start_time": "2022-08-07T13:55:33.012Z"
   },
   {
    "duration": 15,
    "start_time": "2022-08-07T13:55:34.342Z"
   },
   {
    "duration": 8,
    "start_time": "2022-08-07T13:55:34.358Z"
   },
   {
    "duration": 20,
    "start_time": "2022-08-07T13:55:34.368Z"
   },
   {
    "duration": 19,
    "start_time": "2022-08-07T13:55:34.406Z"
   },
   {
    "duration": 32,
    "start_time": "2022-08-07T13:55:34.426Z"
   },
   {
    "duration": 18,
    "start_time": "2022-08-07T13:55:34.459Z"
   },
   {
    "duration": 1243,
    "start_time": "2022-08-07T13:55:34.478Z"
   },
   {
    "duration": 10,
    "start_time": "2022-08-07T13:55:35.722Z"
   },
   {
    "duration": 20,
    "start_time": "2022-08-07T13:55:35.733Z"
   },
   {
    "duration": 3,
    "start_time": "2022-08-07T13:55:35.754Z"
   },
   {
    "duration": 12,
    "start_time": "2022-08-07T13:55:35.758Z"
   },
   {
    "duration": 9,
    "start_time": "2022-08-07T13:55:35.771Z"
   },
   {
    "duration": 5,
    "start_time": "2022-08-07T13:55:35.781Z"
   },
   {
    "duration": 71,
    "start_time": "2022-08-07T14:04:33.760Z"
   },
   {
    "duration": 36,
    "start_time": "2022-08-07T14:04:52.489Z"
   },
   {
    "duration": 35,
    "start_time": "2022-08-07T14:07:52.852Z"
   },
   {
    "duration": 34,
    "start_time": "2022-08-07T14:08:18.797Z"
   },
   {
    "duration": 110,
    "start_time": "2022-08-07T14:14:26.390Z"
   },
   {
    "duration": 1083,
    "start_time": "2022-08-07T14:14:42.207Z"
   },
   {
    "duration": 39,
    "start_time": "2022-08-07T14:14:43.292Z"
   },
   {
    "duration": 11,
    "start_time": "2022-08-07T14:14:43.332Z"
   },
   {
    "duration": 35,
    "start_time": "2022-08-07T14:14:43.345Z"
   },
   {
    "duration": 17,
    "start_time": "2022-08-07T14:14:43.382Z"
   },
   {
    "duration": 7,
    "start_time": "2022-08-07T14:14:43.400Z"
   },
   {
    "duration": 5,
    "start_time": "2022-08-07T14:14:43.409Z"
   },
   {
    "duration": 10,
    "start_time": "2022-08-07T14:14:43.415Z"
   },
   {
    "duration": 4,
    "start_time": "2022-08-07T14:14:43.426Z"
   },
   {
    "duration": 14,
    "start_time": "2022-08-07T14:14:43.431Z"
   },
   {
    "duration": 12,
    "start_time": "2022-08-07T14:14:43.446Z"
   },
   {
    "duration": 4,
    "start_time": "2022-08-07T14:14:43.459Z"
   },
   {
    "duration": 45,
    "start_time": "2022-08-07T14:14:43.464Z"
   },
   {
    "duration": 5,
    "start_time": "2022-08-07T14:14:43.512Z"
   },
   {
    "duration": 15,
    "start_time": "2022-08-07T14:14:43.518Z"
   },
   {
    "duration": 31,
    "start_time": "2022-08-07T14:14:43.534Z"
   },
   {
    "duration": 3,
    "start_time": "2022-08-07T14:14:43.566Z"
   },
   {
    "duration": 4,
    "start_time": "2022-08-07T14:14:43.570Z"
   },
   {
    "duration": 1701,
    "start_time": "2022-08-07T14:14:43.575Z"
   },
   {
    "duration": 268,
    "start_time": "2022-08-07T14:14:45.277Z"
   },
   {
    "duration": 6,
    "start_time": "2022-08-07T14:14:45.546Z"
   },
   {
    "duration": 6,
    "start_time": "2022-08-07T14:14:45.554Z"
   },
   {
    "duration": 1844,
    "start_time": "2022-08-07T14:14:45.561Z"
   },
   {
    "duration": 26,
    "start_time": "2022-08-07T14:14:47.406Z"
   },
   {
    "duration": 27,
    "start_time": "2022-08-07T14:14:47.433Z"
   },
   {
    "duration": 53,
    "start_time": "2022-08-07T14:14:47.461Z"
   },
   {
    "duration": 28,
    "start_time": "2022-08-07T14:14:47.516Z"
   },
   {
    "duration": 4,
    "start_time": "2022-08-07T14:14:47.545Z"
   },
   {
    "duration": 4,
    "start_time": "2022-08-07T14:14:47.550Z"
   },
   {
    "duration": 2188,
    "start_time": "2022-08-07T14:14:47.556Z"
   },
   {
    "duration": 17,
    "start_time": "2022-08-07T14:14:49.747Z"
   },
   {
    "duration": 781,
    "start_time": "2022-08-07T14:14:49.766Z"
   },
   {
    "duration": 4,
    "start_time": "2022-08-07T14:14:50.549Z"
   },
   {
    "duration": 19,
    "start_time": "2022-08-07T14:14:50.554Z"
   },
   {
    "duration": 6,
    "start_time": "2022-08-07T14:14:50.574Z"
   },
   {
    "duration": 36,
    "start_time": "2022-08-07T14:14:50.581Z"
   },
   {
    "duration": 18,
    "start_time": "2022-08-07T14:14:50.618Z"
   },
   {
    "duration": 18,
    "start_time": "2022-08-07T14:14:50.637Z"
   },
   {
    "duration": 2,
    "start_time": "2022-08-07T14:14:50.656Z"
   },
   {
    "duration": 1384,
    "start_time": "2022-08-07T14:14:50.659Z"
   },
   {
    "duration": 18,
    "start_time": "2022-08-07T14:14:52.048Z"
   },
   {
    "duration": 14,
    "start_time": "2022-08-07T14:14:52.068Z"
   },
   {
    "duration": 41,
    "start_time": "2022-08-07T14:14:52.084Z"
   },
   {
    "duration": 21,
    "start_time": "2022-08-07T14:14:52.127Z"
   },
   {
    "duration": 20,
    "start_time": "2022-08-07T14:14:52.150Z"
   },
   {
    "duration": 38,
    "start_time": "2022-08-07T14:14:52.172Z"
   },
   {
    "duration": 1364,
    "start_time": "2022-08-07T14:14:52.211Z"
   },
   {
    "duration": 10,
    "start_time": "2022-08-07T14:14:53.576Z"
   },
   {
    "duration": 21,
    "start_time": "2022-08-07T14:14:53.587Z"
   },
   {
    "duration": 3,
    "start_time": "2022-08-07T14:14:53.609Z"
   },
   {
    "duration": 11,
    "start_time": "2022-08-07T14:14:53.614Z"
   },
   {
    "duration": 9,
    "start_time": "2022-08-07T14:14:53.626Z"
   },
   {
    "duration": 3,
    "start_time": "2022-08-07T14:14:53.637Z"
   },
   {
    "duration": 15,
    "start_time": "2022-08-07T14:21:52.528Z"
   },
   {
    "duration": 1096,
    "start_time": "2022-08-07T14:22:02.210Z"
   },
   {
    "duration": 39,
    "start_time": "2022-08-07T14:22:03.308Z"
   },
   {
    "duration": 11,
    "start_time": "2022-08-07T14:22:03.348Z"
   },
   {
    "duration": 40,
    "start_time": "2022-08-07T14:22:03.361Z"
   },
   {
    "duration": 17,
    "start_time": "2022-08-07T14:22:03.403Z"
   },
   {
    "duration": 15,
    "start_time": "2022-08-07T14:22:03.421Z"
   },
   {
    "duration": 13,
    "start_time": "2022-08-07T14:22:03.437Z"
   },
   {
    "duration": 13,
    "start_time": "2022-08-07T14:22:03.452Z"
   },
   {
    "duration": 3,
    "start_time": "2022-08-07T14:22:03.467Z"
   },
   {
    "duration": 14,
    "start_time": "2022-08-07T14:22:03.472Z"
   },
   {
    "duration": 15,
    "start_time": "2022-08-07T14:22:03.488Z"
   },
   {
    "duration": 5,
    "start_time": "2022-08-07T14:22:03.505Z"
   },
   {
    "duration": 14,
    "start_time": "2022-08-07T14:22:03.511Z"
   },
   {
    "duration": 32,
    "start_time": "2022-08-07T14:22:03.528Z"
   },
   {
    "duration": 4,
    "start_time": "2022-08-07T14:22:03.561Z"
   },
   {
    "duration": 6,
    "start_time": "2022-08-07T14:22:03.566Z"
   },
   {
    "duration": 1765,
    "start_time": "2022-08-07T14:22:03.573Z"
   },
   {
    "duration": 303,
    "start_time": "2022-08-07T14:22:05.340Z"
   },
   {
    "duration": 6,
    "start_time": "2022-08-07T14:22:05.644Z"
   },
   {
    "duration": 8,
    "start_time": "2022-08-07T14:22:05.652Z"
   },
   {
    "duration": 1862,
    "start_time": "2022-08-07T14:22:05.662Z"
   },
   {
    "duration": 30,
    "start_time": "2022-08-07T14:22:07.526Z"
   },
   {
    "duration": 53,
    "start_time": "2022-08-07T14:22:07.558Z"
   },
   {
    "duration": 32,
    "start_time": "2022-08-07T14:22:07.612Z"
   },
   {
    "duration": 31,
    "start_time": "2022-08-07T14:22:07.645Z"
   },
   {
    "duration": 29,
    "start_time": "2022-08-07T14:22:07.678Z"
   },
   {
    "duration": 8,
    "start_time": "2022-08-07T14:22:07.709Z"
   },
   {
    "duration": 2277,
    "start_time": "2022-08-07T14:22:07.719Z"
   },
   {
    "duration": 15,
    "start_time": "2022-08-07T14:22:09.998Z"
   },
   {
    "duration": 762,
    "start_time": "2022-08-07T14:22:10.015Z"
   },
   {
    "duration": 4,
    "start_time": "2022-08-07T14:22:10.779Z"
   },
   {
    "duration": 30,
    "start_time": "2022-08-07T14:22:10.785Z"
   },
   {
    "duration": 8,
    "start_time": "2022-08-07T14:22:10.817Z"
   },
   {
    "duration": 20,
    "start_time": "2022-08-07T14:22:10.826Z"
   },
   {
    "duration": 19,
    "start_time": "2022-08-07T14:22:10.848Z"
   },
   {
    "duration": 44,
    "start_time": "2022-08-07T14:22:10.868Z"
   },
   {
    "duration": 2,
    "start_time": "2022-08-07T14:22:10.914Z"
   },
   {
    "duration": 1348,
    "start_time": "2022-08-07T14:22:10.918Z"
   },
   {
    "duration": 15,
    "start_time": "2022-08-07T14:22:12.268Z"
   },
   {
    "duration": 26,
    "start_time": "2022-08-07T14:22:12.285Z"
   },
   {
    "duration": 20,
    "start_time": "2022-08-07T14:22:12.314Z"
   },
   {
    "duration": 31,
    "start_time": "2022-08-07T14:22:12.335Z"
   },
   {
    "duration": 22,
    "start_time": "2022-08-07T14:22:12.368Z"
   },
   {
    "duration": 34,
    "start_time": "2022-08-07T14:22:12.392Z"
   },
   {
    "duration": 1354,
    "start_time": "2022-08-07T14:22:12.427Z"
   },
   {
    "duration": 10,
    "start_time": "2022-08-07T14:22:13.783Z"
   },
   {
    "duration": 18,
    "start_time": "2022-08-07T14:22:13.795Z"
   },
   {
    "duration": 4,
    "start_time": "2022-08-07T14:22:13.814Z"
   },
   {
    "duration": 11,
    "start_time": "2022-08-07T14:22:13.820Z"
   },
   {
    "duration": 9,
    "start_time": "2022-08-07T14:22:13.833Z"
   },
   {
    "duration": 4,
    "start_time": "2022-08-07T14:22:13.844Z"
   },
   {
    "duration": 556,
    "start_time": "2022-08-07T14:32:38.195Z"
   },
   {
    "duration": 633,
    "start_time": "2022-08-07T14:40:36.408Z"
   },
   {
    "duration": 418,
    "start_time": "2022-08-07T14:40:54.943Z"
   },
   {
    "duration": 616,
    "start_time": "2022-08-07T14:41:00.364Z"
   },
   {
    "duration": 628,
    "start_time": "2022-08-07T14:43:35.570Z"
   },
   {
    "duration": 14,
    "start_time": "2022-08-07T14:44:06.311Z"
   },
   {
    "duration": 775,
    "start_time": "2022-08-07T14:45:17.034Z"
   },
   {
    "duration": 1074,
    "start_time": "2022-08-07T15:01:43.632Z"
   },
   {
    "duration": 1061,
    "start_time": "2022-08-07T15:03:44.252Z"
   },
   {
    "duration": 871,
    "start_time": "2022-08-07T15:08:21.424Z"
   },
   {
    "duration": 1052,
    "start_time": "2022-08-07T15:09:47.806Z"
   },
   {
    "duration": 847,
    "start_time": "2022-08-07T15:12:05.815Z"
   },
   {
    "duration": 1252,
    "start_time": "2022-08-07T15:12:16.215Z"
   },
   {
    "duration": 15,
    "start_time": "2022-08-07T15:13:34.648Z"
   },
   {
    "duration": 83,
    "start_time": "2022-08-07T15:14:25.966Z"
   },
   {
    "duration": 1929,
    "start_time": "2022-08-07T15:15:02.420Z"
   },
   {
    "duration": 385,
    "start_time": "2022-08-07T15:16:45.623Z"
   },
   {
    "duration": 414,
    "start_time": "2022-08-07T15:17:06.365Z"
   },
   {
    "duration": 13,
    "start_time": "2022-08-07T15:17:53.839Z"
   },
   {
    "duration": 419,
    "start_time": "2022-08-07T15:18:01.416Z"
   },
   {
    "duration": 416,
    "start_time": "2022-08-07T15:20:52.971Z"
   },
   {
    "duration": 490,
    "start_time": "2022-08-07T15:21:05.847Z"
   },
   {
    "duration": 15,
    "start_time": "2022-08-07T15:23:10.555Z"
   },
   {
    "duration": 408,
    "start_time": "2022-08-07T15:25:33.731Z"
   },
   {
    "duration": 308,
    "start_time": "2022-08-07T15:27:56.523Z"
   },
   {
    "duration": 345,
    "start_time": "2022-08-07T15:28:15.222Z"
   },
   {
    "duration": 321,
    "start_time": "2022-08-07T15:29:06.435Z"
   },
   {
    "duration": 328,
    "start_time": "2022-08-07T15:29:40.247Z"
   },
   {
    "duration": 5,
    "start_time": "2022-08-07T15:31:59.298Z"
   },
   {
    "duration": 4,
    "start_time": "2022-08-07T15:33:24.299Z"
   },
   {
    "duration": 1071,
    "start_time": "2022-08-07T15:34:59.379Z"
   },
   {
    "duration": 3,
    "start_time": "2022-08-07T15:40:08.379Z"
   },
   {
    "duration": 1124,
    "start_time": "2022-08-07T15:40:16.068Z"
   },
   {
    "duration": 37,
    "start_time": "2022-08-07T15:40:17.194Z"
   },
   {
    "duration": 11,
    "start_time": "2022-08-07T15:40:17.233Z"
   },
   {
    "duration": 34,
    "start_time": "2022-08-07T15:40:17.245Z"
   },
   {
    "duration": 15,
    "start_time": "2022-08-07T15:40:17.280Z"
   },
   {
    "duration": 9,
    "start_time": "2022-08-07T15:40:17.297Z"
   },
   {
    "duration": 3,
    "start_time": "2022-08-07T15:40:17.308Z"
   },
   {
    "duration": 9,
    "start_time": "2022-08-07T15:40:17.313Z"
   },
   {
    "duration": 3,
    "start_time": "2022-08-07T15:40:17.324Z"
   },
   {
    "duration": 12,
    "start_time": "2022-08-07T15:40:17.329Z"
   },
   {
    "duration": 11,
    "start_time": "2022-08-07T15:40:17.342Z"
   },
   {
    "duration": 4,
    "start_time": "2022-08-07T15:40:17.355Z"
   },
   {
    "duration": 11,
    "start_time": "2022-08-07T15:40:17.361Z"
   },
   {
    "duration": 64,
    "start_time": "2022-08-07T15:40:17.373Z"
   },
   {
    "duration": 4,
    "start_time": "2022-08-07T15:40:17.439Z"
   },
   {
    "duration": 9,
    "start_time": "2022-08-07T15:40:17.445Z"
   },
   {
    "duration": 1736,
    "start_time": "2022-08-07T15:40:17.455Z"
   },
   {
    "duration": 257,
    "start_time": "2022-08-07T15:40:19.192Z"
   },
   {
    "duration": 5,
    "start_time": "2022-08-07T15:40:19.451Z"
   },
   {
    "duration": 6,
    "start_time": "2022-08-07T15:40:19.458Z"
   },
   {
    "duration": 1742,
    "start_time": "2022-08-07T15:40:19.465Z"
   },
   {
    "duration": 10,
    "start_time": "2022-08-07T15:40:21.209Z"
   },
   {
    "duration": 686,
    "start_time": "2022-08-07T15:40:21.221Z"
   },
   {
    "duration": 27,
    "start_time": "2022-08-07T15:40:21.909Z"
   },
   {
    "duration": 27,
    "start_time": "2022-08-07T15:40:21.937Z"
   },
   {
    "duration": 50,
    "start_time": "2022-08-07T15:40:21.966Z"
   },
   {
    "duration": 31,
    "start_time": "2022-08-07T15:40:22.018Z"
   },
   {
    "duration": 4,
    "start_time": "2022-08-07T15:40:22.053Z"
   },
   {
    "duration": 17,
    "start_time": "2022-08-07T15:40:22.058Z"
   },
   {
    "duration": 2216,
    "start_time": "2022-08-07T15:40:22.076Z"
   },
   {
    "duration": 2073,
    "start_time": "2022-08-07T15:40:24.294Z"
   },
   {
    "duration": 0,
    "start_time": "2022-08-07T15:40:26.368Z"
   },
   {
    "duration": 0,
    "start_time": "2022-08-07T15:40:26.370Z"
   },
   {
    "duration": 0,
    "start_time": "2022-08-07T15:40:26.370Z"
   },
   {
    "duration": 0,
    "start_time": "2022-08-07T15:40:26.372Z"
   },
   {
    "duration": 0,
    "start_time": "2022-08-07T15:40:26.373Z"
   },
   {
    "duration": 0,
    "start_time": "2022-08-07T15:40:26.374Z"
   },
   {
    "duration": 0,
    "start_time": "2022-08-07T15:40:26.375Z"
   },
   {
    "duration": 0,
    "start_time": "2022-08-07T15:40:26.376Z"
   },
   {
    "duration": 0,
    "start_time": "2022-08-07T15:40:26.378Z"
   },
   {
    "duration": 0,
    "start_time": "2022-08-07T15:40:26.378Z"
   },
   {
    "duration": 0,
    "start_time": "2022-08-07T15:40:26.379Z"
   },
   {
    "duration": 0,
    "start_time": "2022-08-07T15:40:26.380Z"
   },
   {
    "duration": 0,
    "start_time": "2022-08-07T15:40:26.381Z"
   },
   {
    "duration": 0,
    "start_time": "2022-08-07T15:40:26.405Z"
   },
   {
    "duration": 0,
    "start_time": "2022-08-07T15:40:26.407Z"
   },
   {
    "duration": 0,
    "start_time": "2022-08-07T15:40:26.408Z"
   },
   {
    "duration": 0,
    "start_time": "2022-08-07T15:40:26.409Z"
   },
   {
    "duration": 0,
    "start_time": "2022-08-07T15:40:26.410Z"
   },
   {
    "duration": 0,
    "start_time": "2022-08-07T15:40:26.411Z"
   },
   {
    "duration": 0,
    "start_time": "2022-08-07T15:40:26.412Z"
   },
   {
    "duration": 0,
    "start_time": "2022-08-07T15:40:26.413Z"
   },
   {
    "duration": 0,
    "start_time": "2022-08-07T15:40:26.414Z"
   },
   {
    "duration": 0,
    "start_time": "2022-08-07T15:40:26.415Z"
   },
   {
    "duration": 5,
    "start_time": "2022-08-07T15:45:32.708Z"
   },
   {
    "duration": 1097,
    "start_time": "2022-08-07T15:46:24.919Z"
   },
   {
    "duration": 44,
    "start_time": "2022-08-07T15:46:26.018Z"
   },
   {
    "duration": 13,
    "start_time": "2022-08-07T15:46:26.064Z"
   },
   {
    "duration": 41,
    "start_time": "2022-08-07T15:46:26.080Z"
   },
   {
    "duration": 18,
    "start_time": "2022-08-07T15:46:26.122Z"
   },
   {
    "duration": 4,
    "start_time": "2022-08-07T15:46:26.141Z"
   },
   {
    "duration": 11,
    "start_time": "2022-08-07T15:46:26.147Z"
   },
   {
    "duration": 12,
    "start_time": "2022-08-07T15:46:26.159Z"
   },
   {
    "duration": 4,
    "start_time": "2022-08-07T15:46:26.172Z"
   },
   {
    "duration": 31,
    "start_time": "2022-08-07T15:46:26.178Z"
   },
   {
    "duration": 13,
    "start_time": "2022-08-07T15:46:26.210Z"
   },
   {
    "duration": 5,
    "start_time": "2022-08-07T15:46:26.225Z"
   },
   {
    "duration": 16,
    "start_time": "2022-08-07T15:46:26.232Z"
   },
   {
    "duration": 58,
    "start_time": "2022-08-07T15:46:26.249Z"
   },
   {
    "duration": 3,
    "start_time": "2022-08-07T15:46:26.309Z"
   },
   {
    "duration": 7,
    "start_time": "2022-08-07T15:46:26.314Z"
   },
   {
    "duration": 1767,
    "start_time": "2022-08-07T15:46:26.322Z"
   },
   {
    "duration": 262,
    "start_time": "2022-08-07T15:46:28.091Z"
   },
   {
    "duration": 6,
    "start_time": "2022-08-07T15:46:28.355Z"
   },
   {
    "duration": 24,
    "start_time": "2022-08-07T15:46:28.363Z"
   },
   {
    "duration": 1779,
    "start_time": "2022-08-07T15:46:28.388Z"
   },
   {
    "duration": 10,
    "start_time": "2022-08-07T15:46:30.168Z"
   },
   {
    "duration": 713,
    "start_time": "2022-08-07T15:46:30.180Z"
   },
   {
    "duration": 34,
    "start_time": "2022-08-07T15:46:30.895Z"
   },
   {
    "duration": 30,
    "start_time": "2022-08-07T15:46:30.930Z"
   },
   {
    "duration": 55,
    "start_time": "2022-08-07T15:46:30.962Z"
   },
   {
    "duration": 30,
    "start_time": "2022-08-07T15:46:31.019Z"
   },
   {
    "duration": 4,
    "start_time": "2022-08-07T15:46:31.053Z"
   },
   {
    "duration": 14,
    "start_time": "2022-08-07T15:46:31.058Z"
   },
   {
    "duration": 2170,
    "start_time": "2022-08-07T15:46:31.074Z"
   },
   {
    "duration": 4,
    "start_time": "2022-08-07T15:46:33.246Z"
   },
   {
    "duration": 24,
    "start_time": "2022-08-07T15:46:33.252Z"
   },
   {
    "duration": 775,
    "start_time": "2022-08-07T15:46:33.278Z"
   },
   {
    "duration": 4,
    "start_time": "2022-08-07T15:46:34.055Z"
   },
   {
    "duration": 22,
    "start_time": "2022-08-07T15:46:34.060Z"
   },
   {
    "duration": 6,
    "start_time": "2022-08-07T15:46:34.083Z"
   },
   {
    "duration": 33,
    "start_time": "2022-08-07T15:46:34.091Z"
   },
   {
    "duration": 18,
    "start_time": "2022-08-07T15:46:34.125Z"
   },
   {
    "duration": 18,
    "start_time": "2022-08-07T15:46:34.145Z"
   },
   {
    "duration": 3,
    "start_time": "2022-08-07T15:46:34.164Z"
   },
   {
    "duration": 1334,
    "start_time": "2022-08-07T15:46:34.168Z"
   },
   {
    "duration": 16,
    "start_time": "2022-08-07T15:46:35.504Z"
   },
   {
    "duration": 9,
    "start_time": "2022-08-07T15:46:35.521Z"
   },
   {
    "duration": 20,
    "start_time": "2022-08-07T15:46:35.532Z"
   },
   {
    "duration": 19,
    "start_time": "2022-08-07T15:46:35.554Z"
   },
   {
    "duration": 40,
    "start_time": "2022-08-07T15:46:35.574Z"
   },
   {
    "duration": 19,
    "start_time": "2022-08-07T15:46:35.615Z"
   },
   {
    "duration": 1395,
    "start_time": "2022-08-07T15:46:35.635Z"
   },
   {
    "duration": 11,
    "start_time": "2022-08-07T15:46:37.032Z"
   },
   {
    "duration": 12,
    "start_time": "2022-08-07T15:46:37.045Z"
   },
   {
    "duration": 4,
    "start_time": "2022-08-07T15:46:37.058Z"
   },
   {
    "duration": 9,
    "start_time": "2022-08-07T15:46:37.063Z"
   },
   {
    "duration": 35,
    "start_time": "2022-08-07T15:46:37.073Z"
   },
   {
    "duration": 3,
    "start_time": "2022-08-07T15:46:37.110Z"
   },
   {
    "duration": 12,
    "start_time": "2022-08-07T15:54:06.019Z"
   },
   {
    "duration": 25,
    "start_time": "2022-08-07T15:54:40.336Z"
   },
   {
    "duration": 1351,
    "start_time": "2022-08-07T15:55:24.851Z"
   },
   {
    "duration": 1339,
    "start_time": "2022-08-07T15:55:40.656Z"
   },
   {
    "duration": 9,
    "start_time": "2022-08-07T15:58:30.482Z"
   },
   {
    "duration": 33,
    "start_time": "2022-08-07T16:17:10.322Z"
   },
   {
    "duration": 1112,
    "start_time": "2022-08-07T16:17:56.378Z"
   },
   {
    "duration": 38,
    "start_time": "2022-08-07T16:17:57.492Z"
   },
   {
    "duration": 12,
    "start_time": "2022-08-07T16:17:57.531Z"
   },
   {
    "duration": 33,
    "start_time": "2022-08-07T16:17:57.544Z"
   },
   {
    "duration": 17,
    "start_time": "2022-08-07T16:17:57.578Z"
   },
   {
    "duration": 4,
    "start_time": "2022-08-07T16:17:57.606Z"
   },
   {
    "duration": 7,
    "start_time": "2022-08-07T16:17:57.611Z"
   },
   {
    "duration": 8,
    "start_time": "2022-08-07T16:17:57.620Z"
   },
   {
    "duration": 4,
    "start_time": "2022-08-07T16:17:57.630Z"
   },
   {
    "duration": 11,
    "start_time": "2022-08-07T16:17:57.636Z"
   },
   {
    "duration": 13,
    "start_time": "2022-08-07T16:17:57.649Z"
   },
   {
    "duration": 44,
    "start_time": "2022-08-07T16:17:57.663Z"
   },
   {
    "duration": 13,
    "start_time": "2022-08-07T16:17:57.709Z"
   },
   {
    "duration": 31,
    "start_time": "2022-08-07T16:17:57.726Z"
   },
   {
    "duration": 4,
    "start_time": "2022-08-07T16:17:57.759Z"
   },
   {
    "duration": 3,
    "start_time": "2022-08-07T16:17:57.765Z"
   },
   {
    "duration": 1734,
    "start_time": "2022-08-07T16:17:57.770Z"
   },
   {
    "duration": 256,
    "start_time": "2022-08-07T16:17:59.506Z"
   },
   {
    "duration": 7,
    "start_time": "2022-08-07T16:17:59.763Z"
   },
   {
    "duration": 7,
    "start_time": "2022-08-07T16:17:59.772Z"
   },
   {
    "duration": 1785,
    "start_time": "2022-08-07T16:17:59.780Z"
   },
   {
    "duration": 11,
    "start_time": "2022-08-07T16:18:01.567Z"
   },
   {
    "duration": 725,
    "start_time": "2022-08-07T16:18:01.579Z"
   },
   {
    "duration": 27,
    "start_time": "2022-08-07T16:18:02.306Z"
   },
   {
    "duration": 42,
    "start_time": "2022-08-07T16:18:02.335Z"
   },
   {
    "duration": 41,
    "start_time": "2022-08-07T16:18:02.378Z"
   },
   {
    "duration": 32,
    "start_time": "2022-08-07T16:18:02.421Z"
   },
   {
    "duration": 20,
    "start_time": "2022-08-07T16:18:02.454Z"
   },
   {
    "duration": 19,
    "start_time": "2022-08-07T16:18:02.475Z"
   },
   {
    "duration": 2173,
    "start_time": "2022-08-07T16:18:02.495Z"
   },
   {
    "duration": 4,
    "start_time": "2022-08-07T16:18:04.669Z"
   },
   {
    "duration": 10,
    "start_time": "2022-08-07T16:18:04.675Z"
   },
   {
    "duration": 23,
    "start_time": "2022-08-07T16:18:04.687Z"
   },
   {
    "duration": 1372,
    "start_time": "2022-08-07T16:18:04.711Z"
   },
   {
    "duration": 5,
    "start_time": "2022-08-07T16:18:06.084Z"
   },
   {
    "duration": 37,
    "start_time": "2022-08-07T16:18:06.091Z"
   },
   {
    "duration": 11,
    "start_time": "2022-08-07T16:18:06.130Z"
   },
   {
    "duration": 20,
    "start_time": "2022-08-07T16:18:06.142Z"
   },
   {
    "duration": 18,
    "start_time": "2022-08-07T16:18:06.163Z"
   },
   {
    "duration": 28,
    "start_time": "2022-08-07T16:18:06.183Z"
   },
   {
    "duration": 3,
    "start_time": "2022-08-07T16:18:06.214Z"
   },
   {
    "duration": 1380,
    "start_time": "2022-08-07T16:18:06.218Z"
   },
   {
    "duration": 17,
    "start_time": "2022-08-07T16:18:07.606Z"
   },
   {
    "duration": 9,
    "start_time": "2022-08-07T16:18:07.624Z"
   },
   {
    "duration": 20,
    "start_time": "2022-08-07T16:18:07.634Z"
   },
   {
    "duration": 20,
    "start_time": "2022-08-07T16:18:07.656Z"
   },
   {
    "duration": 44,
    "start_time": "2022-08-07T16:18:07.677Z"
   },
   {
    "duration": 19,
    "start_time": "2022-08-07T16:18:07.722Z"
   },
   {
    "duration": 1363,
    "start_time": "2022-08-07T16:18:07.743Z"
   },
   {
    "duration": 10,
    "start_time": "2022-08-07T16:18:09.107Z"
   },
   {
    "duration": 15,
    "start_time": "2022-08-07T16:18:09.118Z"
   },
   {
    "duration": 3,
    "start_time": "2022-08-07T16:18:09.135Z"
   },
   {
    "duration": 8,
    "start_time": "2022-08-07T16:18:09.140Z"
   },
   {
    "duration": 9,
    "start_time": "2022-08-07T16:18:09.149Z"
   },
   {
    "duration": 3,
    "start_time": "2022-08-07T16:18:09.159Z"
   },
   {
    "duration": 1084,
    "start_time": "2022-08-07T18:38:40.706Z"
   },
   {
    "duration": 39,
    "start_time": "2022-08-07T18:38:41.792Z"
   },
   {
    "duration": 12,
    "start_time": "2022-08-07T18:38:41.832Z"
   },
   {
    "duration": 34,
    "start_time": "2022-08-07T18:38:41.845Z"
   },
   {
    "duration": 16,
    "start_time": "2022-08-07T18:38:41.881Z"
   },
   {
    "duration": 4,
    "start_time": "2022-08-07T18:38:41.906Z"
   },
   {
    "duration": 5,
    "start_time": "2022-08-07T18:38:41.912Z"
   },
   {
    "duration": 9,
    "start_time": "2022-08-07T18:38:41.918Z"
   },
   {
    "duration": 3,
    "start_time": "2022-08-07T18:38:41.929Z"
   },
   {
    "duration": 14,
    "start_time": "2022-08-07T18:38:41.934Z"
   },
   {
    "duration": 11,
    "start_time": "2022-08-07T18:38:41.949Z"
   },
   {
    "duration": 4,
    "start_time": "2022-08-07T18:38:41.961Z"
   },
   {
    "duration": 42,
    "start_time": "2022-08-07T18:38:41.967Z"
   },
   {
    "duration": 31,
    "start_time": "2022-08-07T18:38:42.011Z"
   },
   {
    "duration": 3,
    "start_time": "2022-08-07T18:38:42.044Z"
   },
   {
    "duration": 4,
    "start_time": "2022-08-07T18:38:42.049Z"
   },
   {
    "duration": 1630,
    "start_time": "2022-08-07T18:38:42.055Z"
   },
   {
    "duration": 260,
    "start_time": "2022-08-07T18:38:43.687Z"
   },
   {
    "duration": 5,
    "start_time": "2022-08-07T18:38:43.949Z"
   },
   {
    "duration": 5,
    "start_time": "2022-08-07T18:38:43.956Z"
   },
   {
    "duration": 1678,
    "start_time": "2022-08-07T18:38:43.963Z"
   },
   {
    "duration": 10,
    "start_time": "2022-08-07T18:38:45.643Z"
   },
   {
    "duration": 745,
    "start_time": "2022-08-07T18:38:45.655Z"
   },
   {
    "duration": 28,
    "start_time": "2022-08-07T18:38:46.402Z"
   },
   {
    "duration": 27,
    "start_time": "2022-08-07T18:38:46.431Z"
   },
   {
    "duration": 58,
    "start_time": "2022-08-07T18:38:46.459Z"
   },
   {
    "duration": 33,
    "start_time": "2022-08-07T18:38:46.519Z"
   },
   {
    "duration": 3,
    "start_time": "2022-08-07T18:38:46.554Z"
   },
   {
    "duration": 4,
    "start_time": "2022-08-07T18:38:46.559Z"
   },
   {
    "duration": 2099,
    "start_time": "2022-08-07T18:38:46.565Z"
   },
   {
    "duration": 3,
    "start_time": "2022-08-07T18:38:48.666Z"
   },
   {
    "duration": 15,
    "start_time": "2022-08-07T18:38:48.670Z"
   },
   {
    "duration": 22,
    "start_time": "2022-08-07T18:38:48.686Z"
   },
   {
    "duration": 1324,
    "start_time": "2022-08-07T18:38:48.709Z"
   },
   {
    "duration": 5,
    "start_time": "2022-08-07T18:38:50.034Z"
   },
   {
    "duration": 23,
    "start_time": "2022-08-07T18:38:50.040Z"
   },
   {
    "duration": 13,
    "start_time": "2022-08-07T18:38:50.065Z"
   },
   {
    "duration": 28,
    "start_time": "2022-08-07T18:38:50.079Z"
   },
   {
    "duration": 17,
    "start_time": "2022-08-07T18:38:50.108Z"
   },
   {
    "duration": 16,
    "start_time": "2022-08-07T18:38:50.127Z"
   },
   {
    "duration": 2,
    "start_time": "2022-08-07T18:38:50.146Z"
   },
   {
    "duration": 1360,
    "start_time": "2022-08-07T18:38:50.149Z"
   },
   {
    "duration": 17,
    "start_time": "2022-08-07T18:38:51.511Z"
   },
   {
    "duration": 9,
    "start_time": "2022-08-07T18:38:51.529Z"
   },
   {
    "duration": 19,
    "start_time": "2022-08-07T18:38:51.539Z"
   },
   {
    "duration": 17,
    "start_time": "2022-08-07T18:38:51.560Z"
   },
   {
    "duration": 42,
    "start_time": "2022-08-07T18:38:51.579Z"
   },
   {
    "duration": 18,
    "start_time": "2022-08-07T18:38:51.623Z"
   },
   {
    "duration": 1439,
    "start_time": "2022-08-07T18:38:51.643Z"
   },
   {
    "duration": 10,
    "start_time": "2022-08-07T18:38:53.084Z"
   },
   {
    "duration": 21,
    "start_time": "2022-08-07T18:38:53.095Z"
   },
   {
    "duration": 3,
    "start_time": "2022-08-07T18:38:53.118Z"
   },
   {
    "duration": 11,
    "start_time": "2022-08-07T18:38:53.123Z"
   },
   {
    "duration": 10,
    "start_time": "2022-08-07T18:38:53.135Z"
   },
   {
    "duration": 4,
    "start_time": "2022-08-07T18:38:53.146Z"
   },
   {
    "duration": 1080,
    "start_time": "2022-08-07T18:48:08.132Z"
   },
   {
    "duration": 38,
    "start_time": "2022-08-07T18:48:09.214Z"
   },
   {
    "duration": 11,
    "start_time": "2022-08-07T18:48:09.253Z"
   },
   {
    "duration": 45,
    "start_time": "2022-08-07T18:48:09.265Z"
   },
   {
    "duration": 16,
    "start_time": "2022-08-07T18:48:09.311Z"
   },
   {
    "duration": 5,
    "start_time": "2022-08-07T18:48:09.329Z"
   },
   {
    "duration": 21,
    "start_time": "2022-08-07T18:48:09.336Z"
   },
   {
    "duration": 16,
    "start_time": "2022-08-07T18:48:09.359Z"
   },
   {
    "duration": 4,
    "start_time": "2022-08-07T18:48:09.377Z"
   },
   {
    "duration": 12,
    "start_time": "2022-08-07T18:48:09.384Z"
   },
   {
    "duration": 20,
    "start_time": "2022-08-07T18:48:09.397Z"
   },
   {
    "duration": 6,
    "start_time": "2022-08-07T18:48:09.418Z"
   },
   {
    "duration": 18,
    "start_time": "2022-08-07T18:48:09.425Z"
   },
   {
    "duration": 34,
    "start_time": "2022-08-07T18:48:09.444Z"
   },
   {
    "duration": 27,
    "start_time": "2022-08-07T18:48:09.479Z"
   },
   {
    "duration": 3,
    "start_time": "2022-08-07T18:48:09.508Z"
   },
   {
    "duration": 1714,
    "start_time": "2022-08-07T18:48:09.513Z"
   },
   {
    "duration": 302,
    "start_time": "2022-08-07T18:48:11.228Z"
   },
   {
    "duration": 6,
    "start_time": "2022-08-07T18:48:11.531Z"
   },
   {
    "duration": 7,
    "start_time": "2022-08-07T18:48:11.538Z"
   },
   {
    "duration": 1807,
    "start_time": "2022-08-07T18:48:11.547Z"
   },
   {
    "duration": 13,
    "start_time": "2022-08-07T18:48:13.356Z"
   },
   {
    "duration": 768,
    "start_time": "2022-08-07T18:48:13.371Z"
   },
   {
    "duration": 35,
    "start_time": "2022-08-07T18:48:14.141Z"
   },
   {
    "duration": 47,
    "start_time": "2022-08-07T18:48:14.178Z"
   },
   {
    "duration": 33,
    "start_time": "2022-08-07T18:48:14.226Z"
   },
   {
    "duration": 56,
    "start_time": "2022-08-07T18:48:14.261Z"
   },
   {
    "duration": 4,
    "start_time": "2022-08-07T18:48:14.320Z"
   },
   {
    "duration": 4,
    "start_time": "2022-08-07T18:48:14.326Z"
   },
   {
    "duration": 2260,
    "start_time": "2022-08-07T18:48:14.332Z"
   },
   {
    "duration": 5,
    "start_time": "2022-08-07T18:48:16.595Z"
   },
   {
    "duration": 12,
    "start_time": "2022-08-07T18:48:16.602Z"
   },
   {
    "duration": 26,
    "start_time": "2022-08-07T18:48:16.616Z"
   },
   {
    "duration": 1382,
    "start_time": "2022-08-07T18:48:16.644Z"
   },
   {
    "duration": 4,
    "start_time": "2022-08-07T18:48:18.028Z"
   },
   {
    "duration": 20,
    "start_time": "2022-08-07T18:48:18.034Z"
   },
   {
    "duration": 8,
    "start_time": "2022-08-07T18:48:18.056Z"
   },
   {
    "duration": 41,
    "start_time": "2022-08-07T18:48:18.066Z"
   },
   {
    "duration": 18,
    "start_time": "2022-08-07T18:48:18.108Z"
   },
   {
    "duration": 16,
    "start_time": "2022-08-07T18:48:18.128Z"
   },
   {
    "duration": 2,
    "start_time": "2022-08-07T18:48:18.146Z"
   },
   {
    "duration": 1328,
    "start_time": "2022-08-07T18:48:18.150Z"
   },
   {
    "duration": 16,
    "start_time": "2022-08-07T18:48:19.480Z"
   },
   {
    "duration": 53,
    "start_time": "2022-08-07T18:48:19.498Z"
   },
   {
    "duration": 39,
    "start_time": "2022-08-07T18:48:19.553Z"
   },
   {
    "duration": 29,
    "start_time": "2022-08-07T18:48:19.594Z"
   },
   {
    "duration": 45,
    "start_time": "2022-08-07T18:48:19.625Z"
   },
   {
    "duration": 32,
    "start_time": "2022-08-07T18:48:19.672Z"
   },
   {
    "duration": 1283,
    "start_time": "2022-08-07T18:48:19.706Z"
   },
   {
    "duration": 18,
    "start_time": "2022-08-07T18:48:20.990Z"
   },
   {
    "duration": 33,
    "start_time": "2022-08-07T18:48:21.009Z"
   },
   {
    "duration": 24,
    "start_time": "2022-08-07T18:48:21.043Z"
   },
   {
    "duration": 36,
    "start_time": "2022-08-07T18:48:21.069Z"
   },
   {
    "duration": 29,
    "start_time": "2022-08-07T18:48:21.107Z"
   },
   {
    "duration": 11,
    "start_time": "2022-08-07T18:48:21.138Z"
   },
   {
    "duration": 1031,
    "start_time": "2022-08-07T19:13:01.607Z"
   },
   {
    "duration": 42,
    "start_time": "2022-08-07T19:13:02.641Z"
   },
   {
    "duration": 11,
    "start_time": "2022-08-07T19:13:02.684Z"
   },
   {
    "duration": 34,
    "start_time": "2022-08-07T19:13:02.697Z"
   },
   {
    "duration": 15,
    "start_time": "2022-08-07T19:13:02.732Z"
   },
   {
    "duration": 16,
    "start_time": "2022-08-07T19:13:02.748Z"
   },
   {
    "duration": 8,
    "start_time": "2022-08-07T19:13:02.767Z"
   },
   {
    "duration": 10,
    "start_time": "2022-08-07T19:13:02.776Z"
   },
   {
    "duration": 6,
    "start_time": "2022-08-07T19:13:02.787Z"
   },
   {
    "duration": 13,
    "start_time": "2022-08-07T19:13:02.795Z"
   },
   {
    "duration": 11,
    "start_time": "2022-08-07T19:13:02.809Z"
   },
   {
    "duration": 5,
    "start_time": "2022-08-07T19:13:02.821Z"
   },
   {
    "duration": 39,
    "start_time": "2022-08-07T19:13:02.828Z"
   },
   {
    "duration": 32,
    "start_time": "2022-08-07T19:13:02.869Z"
   },
   {
    "duration": 4,
    "start_time": "2022-08-07T19:13:02.903Z"
   },
   {
    "duration": 6,
    "start_time": "2022-08-07T19:13:02.908Z"
   },
   {
    "duration": 1687,
    "start_time": "2022-08-07T19:13:02.916Z"
   },
   {
    "duration": 288,
    "start_time": "2022-08-07T19:13:04.604Z"
   },
   {
    "duration": 6,
    "start_time": "2022-08-07T19:13:04.893Z"
   },
   {
    "duration": 7,
    "start_time": "2022-08-07T19:13:04.900Z"
   },
   {
    "duration": 1734,
    "start_time": "2022-08-07T19:13:04.908Z"
   },
   {
    "duration": 21,
    "start_time": "2022-08-07T19:13:06.643Z"
   },
   {
    "duration": 700,
    "start_time": "2022-08-07T19:13:06.669Z"
   },
   {
    "duration": 32,
    "start_time": "2022-08-07T19:13:07.371Z"
   },
   {
    "duration": 62,
    "start_time": "2022-08-07T19:13:07.404Z"
   },
   {
    "duration": 39,
    "start_time": "2022-08-07T19:13:07.468Z"
   },
   {
    "duration": 35,
    "start_time": "2022-08-07T19:13:07.508Z"
   },
   {
    "duration": 12,
    "start_time": "2022-08-07T19:13:07.558Z"
   },
   {
    "duration": 5,
    "start_time": "2022-08-07T19:13:07.572Z"
   },
   {
    "duration": 2108,
    "start_time": "2022-08-07T19:13:07.578Z"
   },
   {
    "duration": 4,
    "start_time": "2022-08-07T19:13:09.687Z"
   },
   {
    "duration": 11,
    "start_time": "2022-08-07T19:13:09.693Z"
   },
   {
    "duration": 23,
    "start_time": "2022-08-07T19:13:09.706Z"
   },
   {
    "duration": 1389,
    "start_time": "2022-08-07T19:13:09.730Z"
   },
   {
    "duration": 4,
    "start_time": "2022-08-07T19:13:11.121Z"
   },
   {
    "duration": 32,
    "start_time": "2022-08-07T19:13:11.127Z"
   },
   {
    "duration": 7,
    "start_time": "2022-08-07T19:13:11.170Z"
   },
   {
    "duration": 19,
    "start_time": "2022-08-07T19:13:11.179Z"
   },
   {
    "duration": 17,
    "start_time": "2022-08-07T19:13:11.199Z"
   },
   {
    "duration": 16,
    "start_time": "2022-08-07T19:13:11.217Z"
   },
   {
    "duration": 2,
    "start_time": "2022-08-07T19:13:11.235Z"
   },
   {
    "duration": 1330,
    "start_time": "2022-08-07T19:13:11.238Z"
   },
   {
    "duration": 16,
    "start_time": "2022-08-07T19:13:12.570Z"
   },
   {
    "duration": 8,
    "start_time": "2022-08-07T19:13:12.587Z"
   },
   {
    "duration": 19,
    "start_time": "2022-08-07T19:13:12.597Z"
   },
   {
    "duration": 40,
    "start_time": "2022-08-07T19:13:12.618Z"
   },
   {
    "duration": 22,
    "start_time": "2022-08-07T19:13:12.660Z"
   },
   {
    "duration": 16,
    "start_time": "2022-08-07T19:13:12.684Z"
   },
   {
    "duration": 1347,
    "start_time": "2022-08-07T19:13:12.701Z"
   },
   {
    "duration": 16,
    "start_time": "2022-08-07T19:13:14.049Z"
   },
   {
    "duration": 11,
    "start_time": "2022-08-07T19:13:14.071Z"
   },
   {
    "duration": 4,
    "start_time": "2022-08-07T19:13:14.083Z"
   },
   {
    "duration": 8,
    "start_time": "2022-08-07T19:13:14.088Z"
   },
   {
    "duration": 10,
    "start_time": "2022-08-07T19:13:14.097Z"
   },
   {
    "duration": 3,
    "start_time": "2022-08-07T19:13:14.108Z"
   },
   {
    "duration": 1394,
    "start_time": "2022-08-07T19:13:46.425Z"
   },
   {
    "duration": 44,
    "start_time": "2022-09-19T18:19:48.813Z"
   },
   {
    "duration": 1436,
    "start_time": "2022-09-19T18:19:54.701Z"
   },
   {
    "duration": 92,
    "start_time": "2022-09-19T18:19:56.139Z"
   },
   {
    "duration": 12,
    "start_time": "2022-09-19T18:19:56.233Z"
   },
   {
    "duration": 40,
    "start_time": "2022-09-19T18:19:56.247Z"
   },
   {
    "duration": 23,
    "start_time": "2022-09-19T18:19:56.292Z"
   },
   {
    "duration": 5,
    "start_time": "2022-09-19T18:19:56.317Z"
   },
   {
    "duration": 6,
    "start_time": "2022-09-19T18:19:56.324Z"
   },
   {
    "duration": 25,
    "start_time": "2022-09-19T18:19:56.331Z"
   },
   {
    "duration": 7,
    "start_time": "2022-09-19T18:19:56.358Z"
   },
   {
    "duration": 44,
    "start_time": "2022-09-19T18:19:56.366Z"
   },
   {
    "duration": 17,
    "start_time": "2022-09-19T18:19:56.411Z"
   },
   {
    "duration": 6,
    "start_time": "2022-09-19T18:19:56.430Z"
   },
   {
    "duration": 20,
    "start_time": "2022-09-19T18:19:56.438Z"
   },
   {
    "duration": 37,
    "start_time": "2022-09-19T18:19:56.460Z"
   },
   {
    "duration": 5,
    "start_time": "2022-09-19T18:19:56.499Z"
   },
   {
    "duration": 9,
    "start_time": "2022-09-19T18:19:56.505Z"
   },
   {
    "duration": 2173,
    "start_time": "2022-09-19T18:19:56.515Z"
   },
   {
    "duration": 343,
    "start_time": "2022-09-19T18:19:58.690Z"
   },
   {
    "duration": 7,
    "start_time": "2022-09-19T18:19:59.035Z"
   },
   {
    "duration": 16,
    "start_time": "2022-09-19T18:19:59.043Z"
   },
   {
    "duration": 1922,
    "start_time": "2022-09-19T18:19:59.061Z"
   },
   {
    "duration": 14,
    "start_time": "2022-09-19T18:20:00.985Z"
   },
   {
    "duration": 768,
    "start_time": "2022-09-19T18:20:01.001Z"
   },
   {
    "duration": 34,
    "start_time": "2022-09-19T18:20:01.771Z"
   },
   {
    "duration": 51,
    "start_time": "2022-09-19T18:20:01.807Z"
   },
   {
    "duration": 56,
    "start_time": "2022-09-19T18:20:01.859Z"
   },
   {
    "duration": 32,
    "start_time": "2022-09-19T18:20:01.917Z"
   },
   {
    "duration": 4,
    "start_time": "2022-09-19T18:20:01.951Z"
   },
   {
    "duration": 20,
    "start_time": "2022-09-19T18:20:01.957Z"
   },
   {
    "duration": 2365,
    "start_time": "2022-09-19T18:20:01.979Z"
   },
   {
    "duration": 4,
    "start_time": "2022-09-19T18:20:04.346Z"
   },
   {
    "duration": 14,
    "start_time": "2022-09-19T18:20:04.352Z"
   },
   {
    "duration": 29,
    "start_time": "2022-09-19T18:20:04.368Z"
   },
   {
    "duration": 1530,
    "start_time": "2022-09-19T18:20:04.399Z"
   },
   {
    "duration": 4,
    "start_time": "2022-09-19T18:20:05.931Z"
   },
   {
    "duration": 24,
    "start_time": "2022-09-19T18:20:05.937Z"
   },
   {
    "duration": 22,
    "start_time": "2022-09-19T18:20:05.963Z"
   },
   {
    "duration": 26,
    "start_time": "2022-09-19T18:20:05.987Z"
   },
   {
    "duration": 20,
    "start_time": "2022-09-19T18:20:06.014Z"
   },
   {
    "duration": 45,
    "start_time": "2022-09-19T18:20:06.036Z"
   },
   {
    "duration": 5,
    "start_time": "2022-09-19T18:20:06.087Z"
   },
   {
    "duration": 1483,
    "start_time": "2022-09-19T18:20:06.094Z"
   },
   {
    "duration": 21,
    "start_time": "2022-09-19T18:20:07.579Z"
   },
   {
    "duration": 13,
    "start_time": "2022-09-19T18:20:07.602Z"
   },
   {
    "duration": 21,
    "start_time": "2022-09-19T18:20:07.617Z"
   },
   {
    "duration": 47,
    "start_time": "2022-09-19T18:20:07.640Z"
   },
   {
    "duration": 21,
    "start_time": "2022-09-19T18:20:07.689Z"
   },
   {
    "duration": 18,
    "start_time": "2022-09-19T18:20:07.711Z"
   },
   {
    "duration": 1521,
    "start_time": "2022-09-19T18:20:07.731Z"
   },
   {
    "duration": 10,
    "start_time": "2022-09-19T18:20:09.254Z"
   },
   {
    "duration": 14,
    "start_time": "2022-09-19T18:20:09.276Z"
   },
   {
    "duration": 12,
    "start_time": "2022-09-19T18:20:09.291Z"
   },
   {
    "duration": 16,
    "start_time": "2022-09-19T18:20:09.305Z"
   },
   {
    "duration": 12,
    "start_time": "2022-09-19T18:20:09.323Z"
   },
   {
    "duration": 4,
    "start_time": "2022-09-19T18:20:09.337Z"
   }
  ],
  "kernelspec": {
   "display_name": "Python 3 (ipykernel)",
   "language": "python",
   "name": "python3"
  },
  "language_info": {
   "codemirror_mode": {
    "name": "ipython",
    "version": 3
   },
   "file_extension": ".py",
   "mimetype": "text/x-python",
   "name": "python",
   "nbconvert_exporter": "python",
   "pygments_lexer": "ipython3",
   "version": "3.9.5"
  },
  "toc": {
   "base_numbering": 1,
   "nav_menu": {},
   "number_sections": true,
   "sideBar": true,
   "skip_h1_title": true,
   "title_cell": "Table of Contents",
   "title_sidebar": "Contents",
   "toc_cell": false,
   "toc_position": {},
   "toc_section_display": true,
   "toc_window_display": false
  }
 },
 "nbformat": 4,
 "nbformat_minor": 5
}
